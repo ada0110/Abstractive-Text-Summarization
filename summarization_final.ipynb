{
  "nbformat": 4,
  "nbformat_minor": 0,
  "metadata": {
    "colab": {
      "name": "summarization_final.ipynb",
      "provenance": [],
      "collapsed_sections": [],
      "toc_visible": true
    },
    "kernelspec": {
      "display_name": "Python 3",
      "language": "python",
      "name": "python3"
    },
    "language_info": {
      "codemirror_mode": {
        "name": "ipython",
        "version": 3
      },
      "file_extension": ".py",
      "mimetype": "text/x-python",
      "name": "python",
      "nbconvert_exporter": "python",
      "pygments_lexer": "ipython3",
      "version": "3.7.9"
    },
    "widgets": {
      "application/vnd.jupyter.widget-state+json": {
        "834710b16a13410d95a3478c841522f9": {
          "model_module": "@jupyter-widgets/controls",
          "model_name": "HBoxModel",
          "state": {
            "_view_name": "HBoxView",
            "_dom_classes": [],
            "_model_name": "HBoxModel",
            "_view_module": "@jupyter-widgets/controls",
            "_model_module_version": "1.5.0",
            "_view_count": null,
            "_view_module_version": "1.5.0",
            "box_style": "",
            "layout": "IPY_MODEL_80fc1bf4bb624d84aaee81489a625290",
            "_model_module": "@jupyter-widgets/controls",
            "children": [
              "IPY_MODEL_e2636b979eaa4ad8a90a318d17429803",
              "IPY_MODEL_7a62e9f50b3c408db176dc458815e4d2"
            ]
          }
        },
        "80fc1bf4bb624d84aaee81489a625290": {
          "model_module": "@jupyter-widgets/base",
          "model_name": "LayoutModel",
          "state": {
            "_view_name": "LayoutView",
            "grid_template_rows": null,
            "right": null,
            "justify_content": null,
            "_view_module": "@jupyter-widgets/base",
            "overflow": null,
            "_model_module_version": "1.2.0",
            "_view_count": null,
            "flex_flow": null,
            "width": null,
            "min_width": null,
            "border": null,
            "align_items": null,
            "bottom": null,
            "_model_module": "@jupyter-widgets/base",
            "top": null,
            "grid_column": null,
            "overflow_y": null,
            "overflow_x": null,
            "grid_auto_flow": null,
            "grid_area": null,
            "grid_template_columns": null,
            "flex": null,
            "_model_name": "LayoutModel",
            "justify_items": null,
            "grid_row": null,
            "max_height": null,
            "align_content": null,
            "visibility": null,
            "align_self": null,
            "height": null,
            "min_height": null,
            "padding": null,
            "grid_auto_rows": null,
            "grid_gap": null,
            "max_width": null,
            "order": null,
            "_view_module_version": "1.2.0",
            "grid_template_areas": null,
            "object_position": null,
            "object_fit": null,
            "grid_auto_columns": null,
            "margin": null,
            "display": null,
            "left": null
          }
        },
        "e2636b979eaa4ad8a90a318d17429803": {
          "model_module": "@jupyter-widgets/controls",
          "model_name": "FloatProgressModel",
          "state": {
            "_view_name": "ProgressView",
            "style": "IPY_MODEL_570d4cb92a8241b9918feae3c1ad0854",
            "_dom_classes": [],
            "description": "100%",
            "_model_name": "FloatProgressModel",
            "bar_style": "success",
            "max": 4,
            "_view_module": "@jupyter-widgets/controls",
            "_model_module_version": "1.5.0",
            "value": 4,
            "_view_count": null,
            "_view_module_version": "1.5.0",
            "orientation": "horizontal",
            "min": 0,
            "description_tooltip": null,
            "_model_module": "@jupyter-widgets/controls",
            "layout": "IPY_MODEL_e30fffce61ab48419415d51a4e96abb6"
          }
        },
        "7a62e9f50b3c408db176dc458815e4d2": {
          "model_module": "@jupyter-widgets/controls",
          "model_name": "HTMLModel",
          "state": {
            "_view_name": "HTMLView",
            "style": "IPY_MODEL_f1e251cbcf834e5ca144bb87fc67c7ea",
            "_dom_classes": [],
            "description": "",
            "_model_name": "HTMLModel",
            "placeholder": "​",
            "_view_module": "@jupyter-widgets/controls",
            "_model_module_version": "1.5.0",
            "value": " 4/4 [16:55&lt;00:00, 253.87s/ba]",
            "_view_count": null,
            "_view_module_version": "1.5.0",
            "description_tooltip": null,
            "_model_module": "@jupyter-widgets/controls",
            "layout": "IPY_MODEL_4ce1a2f30cf24679a89e9988b629eaf3"
          }
        },
        "570d4cb92a8241b9918feae3c1ad0854": {
          "model_module": "@jupyter-widgets/controls",
          "model_name": "ProgressStyleModel",
          "state": {
            "_view_name": "StyleView",
            "_model_name": "ProgressStyleModel",
            "description_width": "initial",
            "_view_module": "@jupyter-widgets/base",
            "_model_module_version": "1.5.0",
            "_view_count": null,
            "_view_module_version": "1.2.0",
            "bar_color": null,
            "_model_module": "@jupyter-widgets/controls"
          }
        },
        "e30fffce61ab48419415d51a4e96abb6": {
          "model_module": "@jupyter-widgets/base",
          "model_name": "LayoutModel",
          "state": {
            "_view_name": "LayoutView",
            "grid_template_rows": null,
            "right": null,
            "justify_content": null,
            "_view_module": "@jupyter-widgets/base",
            "overflow": null,
            "_model_module_version": "1.2.0",
            "_view_count": null,
            "flex_flow": null,
            "width": null,
            "min_width": null,
            "border": null,
            "align_items": null,
            "bottom": null,
            "_model_module": "@jupyter-widgets/base",
            "top": null,
            "grid_column": null,
            "overflow_y": null,
            "overflow_x": null,
            "grid_auto_flow": null,
            "grid_area": null,
            "grid_template_columns": null,
            "flex": null,
            "_model_name": "LayoutModel",
            "justify_items": null,
            "grid_row": null,
            "max_height": null,
            "align_content": null,
            "visibility": null,
            "align_self": null,
            "height": null,
            "min_height": null,
            "padding": null,
            "grid_auto_rows": null,
            "grid_gap": null,
            "max_width": null,
            "order": null,
            "_view_module_version": "1.2.0",
            "grid_template_areas": null,
            "object_position": null,
            "object_fit": null,
            "grid_auto_columns": null,
            "margin": null,
            "display": null,
            "left": null
          }
        },
        "f1e251cbcf834e5ca144bb87fc67c7ea": {
          "model_module": "@jupyter-widgets/controls",
          "model_name": "DescriptionStyleModel",
          "state": {
            "_view_name": "StyleView",
            "_model_name": "DescriptionStyleModel",
            "description_width": "",
            "_view_module": "@jupyter-widgets/base",
            "_model_module_version": "1.5.0",
            "_view_count": null,
            "_view_module_version": "1.2.0",
            "_model_module": "@jupyter-widgets/controls"
          }
        },
        "4ce1a2f30cf24679a89e9988b629eaf3": {
          "model_module": "@jupyter-widgets/base",
          "model_name": "LayoutModel",
          "state": {
            "_view_name": "LayoutView",
            "grid_template_rows": null,
            "right": null,
            "justify_content": null,
            "_view_module": "@jupyter-widgets/base",
            "overflow": null,
            "_model_module_version": "1.2.0",
            "_view_count": null,
            "flex_flow": null,
            "width": null,
            "min_width": null,
            "border": null,
            "align_items": null,
            "bottom": null,
            "_model_module": "@jupyter-widgets/base",
            "top": null,
            "grid_column": null,
            "overflow_y": null,
            "overflow_x": null,
            "grid_auto_flow": null,
            "grid_area": null,
            "grid_template_columns": null,
            "flex": null,
            "_model_name": "LayoutModel",
            "justify_items": null,
            "grid_row": null,
            "max_height": null,
            "align_content": null,
            "visibility": null,
            "align_self": null,
            "height": null,
            "min_height": null,
            "padding": null,
            "grid_auto_rows": null,
            "grid_gap": null,
            "max_width": null,
            "order": null,
            "_view_module_version": "1.2.0",
            "grid_template_areas": null,
            "object_position": null,
            "object_fit": null,
            "grid_auto_columns": null,
            "margin": null,
            "display": null,
            "left": null
          }
        },
        "9f5052605b7d4d31b813995c2b50a419": {
          "model_module": "@jupyter-widgets/controls",
          "model_name": "HBoxModel",
          "state": {
            "_view_name": "HBoxView",
            "_dom_classes": [],
            "_model_name": "HBoxModel",
            "_view_module": "@jupyter-widgets/controls",
            "_model_module_version": "1.5.0",
            "_view_count": null,
            "_view_module_version": "1.5.0",
            "box_style": "",
            "layout": "IPY_MODEL_abb6eb9255c54ec89284a45f753a5052",
            "_model_module": "@jupyter-widgets/controls",
            "children": [
              "IPY_MODEL_5589c4db4fd642ab8f6f56309748d126",
              "IPY_MODEL_8fcf082e7ebf401eb20ee7e62675b04d"
            ]
          }
        },
        "abb6eb9255c54ec89284a45f753a5052": {
          "model_module": "@jupyter-widgets/base",
          "model_name": "LayoutModel",
          "state": {
            "_view_name": "LayoutView",
            "grid_template_rows": null,
            "right": null,
            "justify_content": null,
            "_view_module": "@jupyter-widgets/base",
            "overflow": null,
            "_model_module_version": "1.2.0",
            "_view_count": null,
            "flex_flow": null,
            "width": null,
            "min_width": null,
            "border": null,
            "align_items": null,
            "bottom": null,
            "_model_module": "@jupyter-widgets/base",
            "top": null,
            "grid_column": null,
            "overflow_y": null,
            "overflow_x": null,
            "grid_auto_flow": null,
            "grid_area": null,
            "grid_template_columns": null,
            "flex": null,
            "_model_name": "LayoutModel",
            "justify_items": null,
            "grid_row": null,
            "max_height": null,
            "align_content": null,
            "visibility": null,
            "align_self": null,
            "height": null,
            "min_height": null,
            "padding": null,
            "grid_auto_rows": null,
            "grid_gap": null,
            "max_width": null,
            "order": null,
            "_view_module_version": "1.2.0",
            "grid_template_areas": null,
            "object_position": null,
            "object_fit": null,
            "grid_auto_columns": null,
            "margin": null,
            "display": null,
            "left": null
          }
        },
        "5589c4db4fd642ab8f6f56309748d126": {
          "model_module": "@jupyter-widgets/controls",
          "model_name": "FloatProgressModel",
          "state": {
            "_view_name": "ProgressView",
            "style": "IPY_MODEL_6b5c5f50b48d4569a3aaa0d68db4dc3d",
            "_dom_classes": [],
            "description": "100%",
            "_model_name": "FloatProgressModel",
            "bar_style": "success",
            "max": 1,
            "_view_module": "@jupyter-widgets/controls",
            "_model_module_version": "1.5.0",
            "value": 1,
            "_view_count": null,
            "_view_module_version": "1.5.0",
            "orientation": "horizontal",
            "min": 0,
            "description_tooltip": null,
            "_model_module": "@jupyter-widgets/controls",
            "layout": "IPY_MODEL_0986969a757342d2ad3097dbe46061cb"
          }
        },
        "8fcf082e7ebf401eb20ee7e62675b04d": {
          "model_module": "@jupyter-widgets/controls",
          "model_name": "HTMLModel",
          "state": {
            "_view_name": "HTMLView",
            "style": "IPY_MODEL_674e6270fec940cf959b80205c0578f1",
            "_dom_classes": [],
            "description": "",
            "_model_name": "HTMLModel",
            "placeholder": "​",
            "_view_module": "@jupyter-widgets/controls",
            "_model_module_version": "1.5.0",
            "value": " 1/1 [16:50&lt;00:00, 1010.16s/ba]",
            "_view_count": null,
            "_view_module_version": "1.5.0",
            "description_tooltip": null,
            "_model_module": "@jupyter-widgets/controls",
            "layout": "IPY_MODEL_defbd103c62944bbb2edeeec7687a4f3"
          }
        },
        "6b5c5f50b48d4569a3aaa0d68db4dc3d": {
          "model_module": "@jupyter-widgets/controls",
          "model_name": "ProgressStyleModel",
          "state": {
            "_view_name": "StyleView",
            "_model_name": "ProgressStyleModel",
            "description_width": "initial",
            "_view_module": "@jupyter-widgets/base",
            "_model_module_version": "1.5.0",
            "_view_count": null,
            "_view_module_version": "1.2.0",
            "bar_color": null,
            "_model_module": "@jupyter-widgets/controls"
          }
        },
        "0986969a757342d2ad3097dbe46061cb": {
          "model_module": "@jupyter-widgets/base",
          "model_name": "LayoutModel",
          "state": {
            "_view_name": "LayoutView",
            "grid_template_rows": null,
            "right": null,
            "justify_content": null,
            "_view_module": "@jupyter-widgets/base",
            "overflow": null,
            "_model_module_version": "1.2.0",
            "_view_count": null,
            "flex_flow": null,
            "width": null,
            "min_width": null,
            "border": null,
            "align_items": null,
            "bottom": null,
            "_model_module": "@jupyter-widgets/base",
            "top": null,
            "grid_column": null,
            "overflow_y": null,
            "overflow_x": null,
            "grid_auto_flow": null,
            "grid_area": null,
            "grid_template_columns": null,
            "flex": null,
            "_model_name": "LayoutModel",
            "justify_items": null,
            "grid_row": null,
            "max_height": null,
            "align_content": null,
            "visibility": null,
            "align_self": null,
            "height": null,
            "min_height": null,
            "padding": null,
            "grid_auto_rows": null,
            "grid_gap": null,
            "max_width": null,
            "order": null,
            "_view_module_version": "1.2.0",
            "grid_template_areas": null,
            "object_position": null,
            "object_fit": null,
            "grid_auto_columns": null,
            "margin": null,
            "display": null,
            "left": null
          }
        },
        "674e6270fec940cf959b80205c0578f1": {
          "model_module": "@jupyter-widgets/controls",
          "model_name": "DescriptionStyleModel",
          "state": {
            "_view_name": "StyleView",
            "_model_name": "DescriptionStyleModel",
            "description_width": "",
            "_view_module": "@jupyter-widgets/base",
            "_model_module_version": "1.5.0",
            "_view_count": null,
            "_view_module_version": "1.2.0",
            "_model_module": "@jupyter-widgets/controls"
          }
        },
        "defbd103c62944bbb2edeeec7687a4f3": {
          "model_module": "@jupyter-widgets/base",
          "model_name": "LayoutModel",
          "state": {
            "_view_name": "LayoutView",
            "grid_template_rows": null,
            "right": null,
            "justify_content": null,
            "_view_module": "@jupyter-widgets/base",
            "overflow": null,
            "_model_module_version": "1.2.0",
            "_view_count": null,
            "flex_flow": null,
            "width": null,
            "min_width": null,
            "border": null,
            "align_items": null,
            "bottom": null,
            "_model_module": "@jupyter-widgets/base",
            "top": null,
            "grid_column": null,
            "overflow_y": null,
            "overflow_x": null,
            "grid_auto_flow": null,
            "grid_area": null,
            "grid_template_columns": null,
            "flex": null,
            "_model_name": "LayoutModel",
            "justify_items": null,
            "grid_row": null,
            "max_height": null,
            "align_content": null,
            "visibility": null,
            "align_self": null,
            "height": null,
            "min_height": null,
            "padding": null,
            "grid_auto_rows": null,
            "grid_gap": null,
            "max_width": null,
            "order": null,
            "_view_module_version": "1.2.0",
            "grid_template_areas": null,
            "object_position": null,
            "object_fit": null,
            "grid_auto_columns": null,
            "margin": null,
            "display": null,
            "left": null
          }
        }
      }
    },
    "accelerator": "GPU"
  },
  "cells": [
    {
      "cell_type": "markdown",
      "metadata": {
        "id": "wWyc3-4rt0Gf"
      },
      "source": [
        "## imports"
      ]
    },
    {
      "cell_type": "code",
      "metadata": {
        "colab": {
          "base_uri": "https://localhost:8080/"
        },
        "id": "MOsHUjgdIrIW",
        "outputId": "c5e27934-787f-4e07-9def-4701531824ef"
      },
      "source": [
        "!pip install datasets transformers rouge-score nltk\n",
        "\n",
        "import datasets\n",
        "from datasets import Dataset\n",
        "from datasets import load_dataset, load_metric\n",
        "\n",
        "import nltk\n",
        "nltk.download('punkt')"
      ],
      "execution_count": null,
      "outputs": [
        {
          "output_type": "stream",
          "text": [
            "Requirement already satisfied: datasets in /usr/local/lib/python3.7/dist-packages (1.6.2)\n",
            "Requirement already satisfied: transformers in /usr/local/lib/python3.7/dist-packages (4.6.1)\n",
            "Requirement already satisfied: rouge-score in /usr/local/lib/python3.7/dist-packages (0.0.4)\n",
            "Requirement already satisfied: nltk in /usr/local/lib/python3.7/dist-packages (3.2.5)\n",
            "Requirement already satisfied: requests>=2.19.0 in /usr/local/lib/python3.7/dist-packages (from datasets) (2.23.0)\n",
            "Requirement already satisfied: dill in /usr/local/lib/python3.7/dist-packages (from datasets) (0.3.3)\n",
            "Requirement already satisfied: pyarrow>=1.0.0<4.0.0 in /usr/local/lib/python3.7/dist-packages (from datasets) (3.0.0)\n",
            "Requirement already satisfied: pandas in /usr/local/lib/python3.7/dist-packages (from datasets) (1.1.5)\n",
            "Requirement already satisfied: packaging in /usr/local/lib/python3.7/dist-packages (from datasets) (20.9)\n",
            "Requirement already satisfied: importlib-metadata; python_version < \"3.8\" in /usr/local/lib/python3.7/dist-packages (from datasets) (4.0.1)\n",
            "Requirement already satisfied: tqdm<4.50.0,>=4.27 in /usr/local/lib/python3.7/dist-packages (from datasets) (4.41.1)\n",
            "Requirement already satisfied: multiprocess in /usr/local/lib/python3.7/dist-packages (from datasets) (0.70.11.1)\n",
            "Requirement already satisfied: fsspec in /usr/local/lib/python3.7/dist-packages (from datasets) (2021.5.0)\n",
            "Requirement already satisfied: xxhash in /usr/local/lib/python3.7/dist-packages (from datasets) (2.0.2)\n",
            "Requirement already satisfied: huggingface-hub<0.1.0 in /usr/local/lib/python3.7/dist-packages (from datasets) (0.0.9)\n",
            "Requirement already satisfied: numpy>=1.17 in /usr/local/lib/python3.7/dist-packages (from datasets) (1.19.5)\n",
            "Requirement already satisfied: filelock in /usr/local/lib/python3.7/dist-packages (from transformers) (3.0.12)\n",
            "Requirement already satisfied: regex!=2019.12.17 in /usr/local/lib/python3.7/dist-packages (from transformers) (2019.12.20)\n",
            "Requirement already satisfied: tokenizers<0.11,>=0.10.1 in /usr/local/lib/python3.7/dist-packages (from transformers) (0.10.2)\n",
            "Requirement already satisfied: sacremoses in /usr/local/lib/python3.7/dist-packages (from transformers) (0.0.45)\n",
            "Requirement already satisfied: absl-py in /usr/local/lib/python3.7/dist-packages (from rouge-score) (0.12.0)\n",
            "Requirement already satisfied: six>=1.14.0 in /usr/local/lib/python3.7/dist-packages (from rouge-score) (1.15.0)\n",
            "Requirement already satisfied: chardet<4,>=3.0.2 in /usr/local/lib/python3.7/dist-packages (from requests>=2.19.0->datasets) (3.0.4)\n",
            "Requirement already satisfied: urllib3!=1.25.0,!=1.25.1,<1.26,>=1.21.1 in /usr/local/lib/python3.7/dist-packages (from requests>=2.19.0->datasets) (1.24.3)\n",
            "Requirement already satisfied: idna<3,>=2.5 in /usr/local/lib/python3.7/dist-packages (from requests>=2.19.0->datasets) (2.10)\n",
            "Requirement already satisfied: certifi>=2017.4.17 in /usr/local/lib/python3.7/dist-packages (from requests>=2.19.0->datasets) (2020.12.5)\n",
            "Requirement already satisfied: python-dateutil>=2.7.3 in /usr/local/lib/python3.7/dist-packages (from pandas->datasets) (2.8.1)\n",
            "Requirement already satisfied: pytz>=2017.2 in /usr/local/lib/python3.7/dist-packages (from pandas->datasets) (2018.9)\n",
            "Requirement already satisfied: pyparsing>=2.0.2 in /usr/local/lib/python3.7/dist-packages (from packaging->datasets) (2.4.7)\n",
            "Requirement already satisfied: zipp>=0.5 in /usr/local/lib/python3.7/dist-packages (from importlib-metadata; python_version < \"3.8\"->datasets) (3.4.1)\n",
            "Requirement already satisfied: typing-extensions>=3.6.4; python_version < \"3.8\" in /usr/local/lib/python3.7/dist-packages (from importlib-metadata; python_version < \"3.8\"->datasets) (3.7.4.3)\n",
            "Requirement already satisfied: click in /usr/local/lib/python3.7/dist-packages (from sacremoses->transformers) (8.0.0)\n",
            "Requirement already satisfied: joblib in /usr/local/lib/python3.7/dist-packages (from sacremoses->transformers) (1.0.1)\n",
            "[nltk_data] Downloading package punkt to /root/nltk_data...\n",
            "[nltk_data]   Package punkt is already up-to-date!\n"
          ],
          "name": "stdout"
        },
        {
          "output_type": "execute_result",
          "data": {
            "text/plain": [
              "True"
            ]
          },
          "metadata": {
            "tags": []
          },
          "execution_count": 26
        }
      ]
    },
    {
      "cell_type": "code",
      "metadata": {
        "id": "IreSlFmlIrIm"
      },
      "source": [
        "import os\n",
        "import random\n",
        "import pandas as pd\n",
        "import numpy as np\n",
        "from sklearn.model_selection import train_test_split\n",
        "from IPython.display import display, HTML\n",
        "import matplotlib.pyplot as plt"
      ],
      "execution_count": null,
      "outputs": []
    },
    {
      "cell_type": "code",
      "metadata": {
        "id": "g5aq7ppJHw64"
      },
      "source": [
        "import torch\n",
        "from transformers import AutoTokenizer,T5Tokenizer, T5ForConditionalGeneration\n",
        "from transformers import pipeline\n",
        "from transformers import AutoModelForSeq2SeqLM, DataCollatorForSeq2Seq, Seq2SeqTrainingArguments, Seq2SeqTrainer"
      ],
      "execution_count": null,
      "outputs": []
    },
    {
      "cell_type": "markdown",
      "metadata": {
        "id": "whPRbBNbIrIl"
      },
      "source": [
        "## load the dataset"
      ]
    },
    {
      "cell_type": "code",
      "metadata": {
        "colab": {
          "base_uri": "https://localhost:8080/"
        },
        "id": "7_EyfJFGvpPl",
        "outputId": "35929e93-7736-4695-e1d3-ebf134a9fbc0"
      },
      "source": [
        "from google.colab import drive\n",
        "drive.mount('/content/drive')"
      ],
      "execution_count": null,
      "outputs": [
        {
          "output_type": "stream",
          "text": [
            "Mounted at /content/drive\n"
          ],
          "name": "stdout"
        }
      ]
    },
    {
      "cell_type": "code",
      "metadata": {
        "colab": {
          "base_uri": "https://localhost:8080/",
          "height": 380
        },
        "id": "IRjjIcsIvvdc",
        "outputId": "83518528-b7d3-4d67-eaa3-d40e4e9d8c59"
      },
      "source": [
        "df_news = pd.read_csv('/content/drive/MyDrive/NLP/Project/news_summary.csv', encoding = \"ISO-8859-1\", engine='python')\n",
        "print(df_news.shape)\n",
        "df_news.head()"
      ],
      "execution_count": null,
      "outputs": [
        {
          "output_type": "stream",
          "text": [
            "(4514, 6)\n"
          ],
          "name": "stdout"
        },
        {
          "output_type": "execute_result",
          "data": {
            "text/html": [
              "<div>\n",
              "<style scoped>\n",
              "    .dataframe tbody tr th:only-of-type {\n",
              "        vertical-align: middle;\n",
              "    }\n",
              "\n",
              "    .dataframe tbody tr th {\n",
              "        vertical-align: top;\n",
              "    }\n",
              "\n",
              "    .dataframe thead th {\n",
              "        text-align: right;\n",
              "    }\n",
              "</style>\n",
              "<table border=\"1\" class=\"dataframe\">\n",
              "  <thead>\n",
              "    <tr style=\"text-align: right;\">\n",
              "      <th></th>\n",
              "      <th>author</th>\n",
              "      <th>date</th>\n",
              "      <th>headlines</th>\n",
              "      <th>read_more</th>\n",
              "      <th>text</th>\n",
              "      <th>ctext</th>\n",
              "    </tr>\n",
              "  </thead>\n",
              "  <tbody>\n",
              "    <tr>\n",
              "      <th>0</th>\n",
              "      <td>Chhavi Tyagi</td>\n",
              "      <td>03 Aug 2017,Thursday</td>\n",
              "      <td>Daman &amp; Diu revokes mandatory Rakshabandhan in...</td>\n",
              "      <td>http://www.hindustantimes.com/india-news/raksh...</td>\n",
              "      <td>The Administration of Union Territory Daman an...</td>\n",
              "      <td>The Daman and Diu administration on Wednesday ...</td>\n",
              "    </tr>\n",
              "    <tr>\n",
              "      <th>1</th>\n",
              "      <td>Daisy Mowke</td>\n",
              "      <td>03 Aug 2017,Thursday</td>\n",
              "      <td>Malaika slams user who trolled her for 'divorc...</td>\n",
              "      <td>http://www.hindustantimes.com/bollywood/malaik...</td>\n",
              "      <td>Malaika Arora slammed an Instagram user who tr...</td>\n",
              "      <td>From her special numbers to TV?appearances, Bo...</td>\n",
              "    </tr>\n",
              "    <tr>\n",
              "      <th>2</th>\n",
              "      <td>Arshiya Chopra</td>\n",
              "      <td>03 Aug 2017,Thursday</td>\n",
              "      <td>'Virgin' now corrected to 'Unmarried' in IGIMS...</td>\n",
              "      <td>http://www.hindustantimes.com/patna/bihar-igim...</td>\n",
              "      <td>The Indira Gandhi Institute of Medical Science...</td>\n",
              "      <td>The Indira Gandhi Institute of Medical Science...</td>\n",
              "    </tr>\n",
              "    <tr>\n",
              "      <th>3</th>\n",
              "      <td>Sumedha Sehra</td>\n",
              "      <td>03 Aug 2017,Thursday</td>\n",
              "      <td>Aaj aapne pakad liya: LeT man Dujana before be...</td>\n",
              "      <td>http://indiatoday.intoday.in/story/abu-dujana-...</td>\n",
              "      <td>Lashkar-e-Taiba's Kashmir commander Abu Dujana...</td>\n",
              "      <td>Lashkar-e-Taiba's Kashmir commander Abu Dujana...</td>\n",
              "    </tr>\n",
              "    <tr>\n",
              "      <th>4</th>\n",
              "      <td>Aarushi Maheshwari</td>\n",
              "      <td>03 Aug 2017,Thursday</td>\n",
              "      <td>Hotel staff to get training to spot signs of s...</td>\n",
              "      <td>http://indiatoday.intoday.in/story/sex-traffic...</td>\n",
              "      <td>Hotels in Maharashtra will train their staff t...</td>\n",
              "      <td>Hotels in Mumbai and other Indian cities are t...</td>\n",
              "    </tr>\n",
              "  </tbody>\n",
              "</table>\n",
              "</div>"
            ],
            "text/plain": [
              "               author  ...                                              ctext\n",
              "0        Chhavi Tyagi  ...  The Daman and Diu administration on Wednesday ...\n",
              "1         Daisy Mowke  ...  From her special numbers to TV?appearances, Bo...\n",
              "2      Arshiya Chopra  ...  The Indira Gandhi Institute of Medical Science...\n",
              "3       Sumedha Sehra  ...  Lashkar-e-Taiba's Kashmir commander Abu Dujana...\n",
              "4  Aarushi Maheshwari  ...  Hotels in Mumbai and other Indian cities are t...\n",
              "\n",
              "[5 rows x 6 columns]"
            ]
          },
          "metadata": {
            "tags": []
          },
          "execution_count": 29
        }
      ]
    },
    {
      "cell_type": "code",
      "metadata": {
        "colab": {
          "base_uri": "https://localhost:8080/",
          "height": 246
        },
        "id": "j51ESKmxwGzq",
        "outputId": "b6385289-ce11-45b6-8b6b-4c2aec679783"
      },
      "source": [
        "df_news = df_news[['headlines', 'text', 'ctext']]\n",
        "df_news.head()"
      ],
      "execution_count": null,
      "outputs": [
        {
          "output_type": "execute_result",
          "data": {
            "text/html": [
              "<div>\n",
              "<style scoped>\n",
              "    .dataframe tbody tr th:only-of-type {\n",
              "        vertical-align: middle;\n",
              "    }\n",
              "\n",
              "    .dataframe tbody tr th {\n",
              "        vertical-align: top;\n",
              "    }\n",
              "\n",
              "    .dataframe thead th {\n",
              "        text-align: right;\n",
              "    }\n",
              "</style>\n",
              "<table border=\"1\" class=\"dataframe\">\n",
              "  <thead>\n",
              "    <tr style=\"text-align: right;\">\n",
              "      <th></th>\n",
              "      <th>headlines</th>\n",
              "      <th>text</th>\n",
              "      <th>ctext</th>\n",
              "    </tr>\n",
              "  </thead>\n",
              "  <tbody>\n",
              "    <tr>\n",
              "      <th>0</th>\n",
              "      <td>Daman &amp; Diu revokes mandatory Rakshabandhan in...</td>\n",
              "      <td>The Administration of Union Territory Daman an...</td>\n",
              "      <td>The Daman and Diu administration on Wednesday ...</td>\n",
              "    </tr>\n",
              "    <tr>\n",
              "      <th>1</th>\n",
              "      <td>Malaika slams user who trolled her for 'divorc...</td>\n",
              "      <td>Malaika Arora slammed an Instagram user who tr...</td>\n",
              "      <td>From her special numbers to TV?appearances, Bo...</td>\n",
              "    </tr>\n",
              "    <tr>\n",
              "      <th>2</th>\n",
              "      <td>'Virgin' now corrected to 'Unmarried' in IGIMS...</td>\n",
              "      <td>The Indira Gandhi Institute of Medical Science...</td>\n",
              "      <td>The Indira Gandhi Institute of Medical Science...</td>\n",
              "    </tr>\n",
              "    <tr>\n",
              "      <th>3</th>\n",
              "      <td>Aaj aapne pakad liya: LeT man Dujana before be...</td>\n",
              "      <td>Lashkar-e-Taiba's Kashmir commander Abu Dujana...</td>\n",
              "      <td>Lashkar-e-Taiba's Kashmir commander Abu Dujana...</td>\n",
              "    </tr>\n",
              "    <tr>\n",
              "      <th>4</th>\n",
              "      <td>Hotel staff to get training to spot signs of s...</td>\n",
              "      <td>Hotels in Maharashtra will train their staff t...</td>\n",
              "      <td>Hotels in Mumbai and other Indian cities are t...</td>\n",
              "    </tr>\n",
              "  </tbody>\n",
              "</table>\n",
              "</div>"
            ],
            "text/plain": [
              "                                           headlines  ...                                              ctext\n",
              "0  Daman & Diu revokes mandatory Rakshabandhan in...  ...  The Daman and Diu administration on Wednesday ...\n",
              "1  Malaika slams user who trolled her for 'divorc...  ...  From her special numbers to TV?appearances, Bo...\n",
              "2  'Virgin' now corrected to 'Unmarried' in IGIMS...  ...  The Indira Gandhi Institute of Medical Science...\n",
              "3  Aaj aapne pakad liya: LeT man Dujana before be...  ...  Lashkar-e-Taiba's Kashmir commander Abu Dujana...\n",
              "4  Hotel staff to get training to spot signs of s...  ...  Hotels in Mumbai and other Indian cities are t...\n",
              "\n",
              "[5 rows x 3 columns]"
            ]
          },
          "metadata": {
            "tags": []
          },
          "execution_count": 5
        }
      ]
    },
    {
      "cell_type": "markdown",
      "metadata": {
        "id": "n9qywopnIrJH"
      },
      "source": [
        "## preprocessing data"
      ]
    },
    {
      "cell_type": "code",
      "metadata": {
        "id": "07nIT2_QxEb2"
      },
      "source": [
        "# clean data\n",
        "def clean_df(df):\n",
        "  # remove email starts\n",
        "  df.text = df.text.replace(re.compile(r\"From|\\S*@\\S*\\s?|Subject\"), \"\")\n",
        "\n",
        "  # remove extra spaces\n",
        "  df.text = df.text.replace(re.compile(\"\\s+\"), \" \")\n",
        "\n",
        "  # remove -, _ and :\n",
        "  df.text = df.text.replace(re.compile(\"[\\-_,;:]\"), \" \")\n",
        "\n",
        "  # remove other chars\n",
        "  df.text = df.text.replace(re.compile(\"[^a-zA-Z0-9\\.,$# ]\"), \"\")\n",
        "\n",
        "  df.text = df.text.apply(lambda x: x.strip())\n",
        "\n",
        "  return df\n"
      ],
      "execution_count": null,
      "outputs": []
    },
    {
      "cell_type": "code",
      "metadata": {
        "colab": {
          "base_uri": "https://localhost:8080/"
        },
        "id": "h7qFY1iFzLHH",
        "outputId": "1774cb73-04a5-4c31-d6f5-0c20f3cd2877"
      },
      "source": [
        "df_news.info()"
      ],
      "execution_count": null,
      "outputs": [
        {
          "output_type": "stream",
          "text": [
            "<class 'pandas.core.frame.DataFrame'>\n",
            "RangeIndex: 4514 entries, 0 to 4513\n",
            "Data columns (total 3 columns):\n",
            " #   Column     Non-Null Count  Dtype \n",
            "---  ------     --------------  ----- \n",
            " 0   headlines  4514 non-null   object\n",
            " 1   text       4514 non-null   object\n",
            " 2   ctext      4396 non-null   object\n",
            "dtypes: object(3)\n",
            "memory usage: 105.9+ KB\n"
          ],
          "name": "stdout"
        }
      ]
    },
    {
      "cell_type": "code",
      "metadata": {
        "colab": {
          "base_uri": "https://localhost:8080/"
        },
        "id": "XEcJd-6My4lo",
        "outputId": "5a5a3736-cc41-490e-c6e1-6abe65ef68c8"
      },
      "source": [
        "# dropping rows with null ctext\n",
        "df_news = df_news.dropna()\n",
        "df_news.info()"
      ],
      "execution_count": null,
      "outputs": [
        {
          "output_type": "stream",
          "text": [
            "<class 'pandas.core.frame.DataFrame'>\n",
            "Int64Index: 4396 entries, 0 to 4513\n",
            "Data columns (total 3 columns):\n",
            " #   Column     Non-Null Count  Dtype \n",
            "---  ------     --------------  ----- \n",
            " 0   headlines  4396 non-null   object\n",
            " 1   text       4396 non-null   object\n",
            " 2   ctext      4396 non-null   object\n",
            "dtypes: object(3)\n",
            "memory usage: 137.4+ KB\n"
          ],
          "name": "stdout"
        }
      ]
    },
    {
      "cell_type": "code",
      "metadata": {
        "colab": {
          "base_uri": "https://localhost:8080/"
        },
        "id": "y4YE46Nzzi8-",
        "outputId": "d1b43482-09c2-481a-a814-22ef5cb436fa"
      },
      "source": [
        "# joining headline + main text to get full_text\n",
        "df_news['full_text'] = df_news[['headlines', 'ctext']].apply(lambda x: ' '.join(x), axis=1)\n",
        "\n",
        "df_news.rename(columns={\"text\": \"summary\", \"headlines\": \"headline\"}, inplace=True)\n",
        "df_news.drop(columns=['ctext'], inplace=True)\n",
        "df_news.shape"
      ],
      "execution_count": null,
      "outputs": [
        {
          "output_type": "execute_result",
          "data": {
            "text/plain": [
              "(4396, 3)"
            ]
          },
          "metadata": {
            "tags": []
          },
          "execution_count": 8
        }
      ]
    },
    {
      "cell_type": "code",
      "metadata": {
        "colab": {
          "base_uri": "https://localhost:8080/",
          "height": 1000
        },
        "id": "X7EHh_rn02Ik",
        "outputId": "f7ff1676-81fd-4b33-9cd3-7d7b8d28a82b"
      },
      "source": [
        "display(HTML(df_news.sample(3).to_html()))"
      ],
      "execution_count": null,
      "outputs": [
        {
          "output_type": "display_data",
          "data": {
            "text/html": [
              "<table border=\"1\" class=\"dataframe\">\n",
              "  <thead>\n",
              "    <tr style=\"text-align: right;\">\n",
              "      <th></th>\n",
              "      <th>headline</th>\n",
              "      <th>summary</th>\n",
              "      <th>full_text</th>\n",
              "    </tr>\n",
              "  </thead>\n",
              "  <tbody>\n",
              "    <tr>\n",
              "      <th>2842</th>\n",
              "      <td>Man loses arm fighting a crocodile to save dogs</td>\n",
              "      <td>A 26-year-old entered a restricted forest area of Karnataka's Thattekere Lake and lost his arm in an attack by a crocodile while trying to help his two dogs out of the lake. The incident happened when the IIT graduate, who is also a CEO of a startup, was out on a trekking expedition along with a friend and his dogs.</td>\n",
              "      <td>Man loses arm fighting a crocodile to save dogs Forest has rules. Unsaid yet well known. You dare to break the rules of the forest, you pay for it.The Founder and CEO of Turtle Shell Technologies, a startup based out of Bengaluru -- Mudit Dandwate -- chose to enter a restricted area of Bengaluru's Thattekere Lake in Ramanagara district. The lake is at least 46 km from Bengaluru. The IIT graduate, 26, was attacked by a crocodile when he tried to help his two dogs out of the lake. Dandwate, originally from Nagpur, was out on a trekking expedition, along with a friend and two pet dogs. THE CROCODILE ATTACKDandwate's dogs, excited to see a water body, jumped into the lake. Mudit, worried about his dogs, jumped into the lake to help them out of the water but failed to notice the signboard that warned of the presence of crocodiles in the lake. As he was helping his dogs out, a crocodile attacked Mudit and tore off his left arm from below the elbow, the friend told the police. Mudit was operated on at Hosmat Hospital to where he was taken to after he was rushed to a local hospital for first aid, and is recovering.  TREATMENT The Times of India quoted Thomas Chandy, Chief of Orthopaedics, as saying, \"A crocodile bite is powerful and has crushed the arm, just like in the case of any industrial accident. But crocodile bite is toxic as well. So we are currently performing medical procedure called debridement, where is hand is being cleaned several time to make sure there is no infection.\"A report on India.com said that the chances of Mudit regaining his arm are bleak and that the doctors said he would be given a prosthetic arm in another three months.</td>\n",
              "    </tr>\n",
              "    <tr>\n",
              "      <th>132</th>\n",
              "      <td>Two accused in Dadri mob lynching case get bail</td>\n",
              "      <td>The Allahabad High Court on Monday granted bail to two accused in the 2015 lynching of Mohammad Akhlaq in Dadri for allegedly slaughtering a cow. A local BJP leader, who is the father of one of the accused who got bail, praised the BJP for providing justice to his son. Notably, 14 people have been granted bail in the case.</td>\n",
              "      <td>Two accused in Dadri mob lynching case get bail Vishal Rana (21) and Hari Om (26), accused in the 2015 lynching of Mohammad Ikhlaq in Bisada for allegedly slaughtering a cow, was granted bail by the Allahabad high court on Monday.Vishal?s father Sanjay Rana (47), a local BJP leader, said his son ?got justice? because Uttar Pradesh ?has a BJP government?.?Though government has no say in court?s decision, it ensured justice is done,? he said, and claimed that in the previous regime, officials were did not ensure fair investigation.Sanjay also claimed that ?the whole village, including Muslims, were happy over the bail of my son?.?I do not have any grouse against my Muslim brothers. I am annoyed over Ikhlaq?s family, who slaughtered a cow and later made my family victim for it. It was a mob that attacked the family and I have suffered for it,? he claimed.The case pertains to the September 28, 2015 lynching of 55-year-old Ikhlaq and the assault on his family in Bisada village near Noida by a mob on the allegation of slaughtering a cow and storing its meat for consumption. Following the incident, 18 people were taken into custody, of which 14 had gotten bail. One of the accused in jail, Ravin (22) died in police custody in October 2016, allegedly due to dengue, while his family had blamed it on torture in the jail.Vishal and Hari Om along with another accused had been in Luksar Jail of Greater Noida for the last 22 months. The duo, who got bail, would be released after two days due to legal formalities.The case had political repercussions as BJP leaders ? in opposition to then-CM Akhilesh?s Samajwadi Party, which was seen to be favouring Muslims ? wooed voters in from the region on the plank of getting the accused released from jail during the UP assembly elections earlier this year.Union home minister Rajnath Singh, too, had addressed a gathering in the village.Vishal?s advocate Ram Sharan Nagar said the court of Justice SK Gupta granted bail to his client on Monday.  He said the court took cognisance of the fact that it was a mob attack and the accused had been in jail for 22 months.</td>\n",
              "    </tr>\n",
              "    <tr>\n",
              "      <th>979</th>\n",
              "      <td>Frozen bodies of couple found in Swiss Alps after 75 years</td>\n",
              "      <td>The bodies of a Swiss couple who went missing 75 years ago have been found perfectly preserved in the Alps, reports said. A bottle, a book, and a watch were also found along with the bodies that were dressed in clothes dating back to World War II. DNA testing will be carried out to confirm their identities, reports added.</td>\n",
              "      <td>Frozen bodies of couple found in Swiss Alps after 75 years The frozen bodies of a Swiss couple who went missing 75 years ago in the Alps have been found on a shrinking glacier, Swiss media said on Tuesday.Marcelin and Francine Dumoulin, the parents of seven children, had gone to milk their cows in a meadow above Chandolin in the Valais canton on August 15, 1942.?We spent our whole lives looking for them, without stopping. We thought that we could give them the funeral they deserved one day,? their youngest daughter Marceline Udry-Dumoulin told the Lausanne daily Le Matin.?I can say that after 75 years of waiting this news gives me a deep sense of calm,? added the 79-year-old.In an overnight statement, Valais cantonal police said that two bodies bearing identity papers had been discovered last week by a worker on Tsanfleuron glacier near a ski lift above Les Diablerets resort at an altitude of 2,615 metres (8,600 feet).DNA testing would be carried out to confirm the identities of the couple.?The bodies were lying near each other. It was a man and a woman wearing clothing dating from the period of World War Two,? Bernhard Tschannen, director of Glacier 3000, told the paper.?They were perfectly preserved in the glacier and their belongings were intact.??We think they may have fallen into a crevasse where they stayed for decades. As the glacier receded, it gave up their bodies,? he told the daily Tribune de Geneve.Marcelin Dumoulin, 40, was a shoemaker, while Francine, 37, was a teacher. They left five sons and two daughters. ?It was the first time my mother went with him on such an excursion. She was always pregnant and couldn?t climb in the difficult conditions of a glacier,? Udry-Dumoulin said. ?After a while, we children were separated and placed in families. I was lucky to stay with my aunt,? she said. ?We all lived in the region but became strangers.??For the funeral, I won?t wear black. I think that white would be more appropriate. It represents hope, which I never lost.?</td>\n",
              "    </tr>\n",
              "  </tbody>\n",
              "</table>"
            ],
            "text/plain": [
              "<IPython.core.display.HTML object>"
            ]
          },
          "metadata": {
            "tags": []
          }
        }
      ]
    },
    {
      "cell_type": "markdown",
      "metadata": {
        "id": "6wS64yvjA80-"
      },
      "source": [
        "### length analysis"
      ]
    },
    {
      "cell_type": "code",
      "metadata": {
        "colab": {
          "base_uri": "https://localhost:8080/",
          "height": 285
        },
        "id": "AG0OGjAfv6bH",
        "outputId": "67117c5a-a2c9-481a-ba63-1560c687d47b"
      },
      "source": [
        "# getting length for each column\n",
        "for col in df_news.columns.tolist():\n",
        "    df_news[col+\"_num_words\"] = df_news[col].apply(lambda x: len(x.split()))\n",
        "df_news.head()"
      ],
      "execution_count": null,
      "outputs": [
        {
          "output_type": "execute_result",
          "data": {
            "text/html": [
              "<div>\n",
              "<style scoped>\n",
              "    .dataframe tbody tr th:only-of-type {\n",
              "        vertical-align: middle;\n",
              "    }\n",
              "\n",
              "    .dataframe tbody tr th {\n",
              "        vertical-align: top;\n",
              "    }\n",
              "\n",
              "    .dataframe thead th {\n",
              "        text-align: right;\n",
              "    }\n",
              "</style>\n",
              "<table border=\"1\" class=\"dataframe\">\n",
              "  <thead>\n",
              "    <tr style=\"text-align: right;\">\n",
              "      <th></th>\n",
              "      <th>headline</th>\n",
              "      <th>summary</th>\n",
              "      <th>full_text</th>\n",
              "      <th>headline_num_words</th>\n",
              "      <th>summary_num_words</th>\n",
              "      <th>full_text_num_words</th>\n",
              "    </tr>\n",
              "  </thead>\n",
              "  <tbody>\n",
              "    <tr>\n",
              "      <th>0</th>\n",
              "      <td>Daman &amp; Diu revokes mandatory Rakshabandhan in...</td>\n",
              "      <td>The Administration of Union Territory Daman an...</td>\n",
              "      <td>Daman &amp; Diu revokes mandatory Rakshabandhan in...</td>\n",
              "      <td>9</td>\n",
              "      <td>60</td>\n",
              "      <td>373</td>\n",
              "    </tr>\n",
              "    <tr>\n",
              "      <th>1</th>\n",
              "      <td>Malaika slams user who trolled her for 'divorc...</td>\n",
              "      <td>Malaika Arora slammed an Instagram user who tr...</td>\n",
              "      <td>Malaika slams user who trolled her for 'divorc...</td>\n",
              "      <td>10</td>\n",
              "      <td>60</td>\n",
              "      <td>406</td>\n",
              "    </tr>\n",
              "    <tr>\n",
              "      <th>2</th>\n",
              "      <td>'Virgin' now corrected to 'Unmarried' in IGIMS...</td>\n",
              "      <td>The Indira Gandhi Institute of Medical Science...</td>\n",
              "      <td>'Virgin' now corrected to 'Unmarried' in IGIMS...</td>\n",
              "      <td>8</td>\n",
              "      <td>60</td>\n",
              "      <td>343</td>\n",
              "    </tr>\n",
              "    <tr>\n",
              "      <th>3</th>\n",
              "      <td>Aaj aapne pakad liya: LeT man Dujana before be...</td>\n",
              "      <td>Lashkar-e-Taiba's Kashmir commander Abu Dujana...</td>\n",
              "      <td>Aaj aapne pakad liya: LeT man Dujana before be...</td>\n",
              "      <td>10</td>\n",
              "      <td>60</td>\n",
              "      <td>414</td>\n",
              "    </tr>\n",
              "    <tr>\n",
              "      <th>4</th>\n",
              "      <td>Hotel staff to get training to spot signs of s...</td>\n",
              "      <td>Hotels in Maharashtra will train their staff t...</td>\n",
              "      <td>Hotel staff to get training to spot signs of s...</td>\n",
              "      <td>11</td>\n",
              "      <td>60</td>\n",
              "      <td>537</td>\n",
              "    </tr>\n",
              "  </tbody>\n",
              "</table>\n",
              "</div>"
            ],
            "text/plain": [
              "                                            headline  ... full_text_num_words\n",
              "0  Daman & Diu revokes mandatory Rakshabandhan in...  ...                 373\n",
              "1  Malaika slams user who trolled her for 'divorc...  ...                 406\n",
              "2  'Virgin' now corrected to 'Unmarried' in IGIMS...  ...                 343\n",
              "3  Aaj aapne pakad liya: LeT man Dujana before be...  ...                 414\n",
              "4  Hotel staff to get training to spot signs of s...  ...                 537\n",
              "\n",
              "[5 rows x 6 columns]"
            ]
          },
          "metadata": {
            "tags": []
          },
          "execution_count": 28
        }
      ]
    },
    {
      "cell_type": "code",
      "metadata": {
        "colab": {
          "base_uri": "https://localhost:8080/",
          "height": 288
        },
        "id": "jv8PyyFz1qO5",
        "outputId": "981f2c43-c274-4aff-8962-f61b822e2065"
      },
      "source": [
        "cols = ['headline_num_words','summary_num_words', 'full_text_num_words']\n",
        "df_news[cols].describe()"
      ],
      "execution_count": null,
      "outputs": [
        {
          "output_type": "execute_result",
          "data": {
            "text/html": [
              "<div>\n",
              "<style scoped>\n",
              "    .dataframe tbody tr th:only-of-type {\n",
              "        vertical-align: middle;\n",
              "    }\n",
              "\n",
              "    .dataframe tbody tr th {\n",
              "        vertical-align: top;\n",
              "    }\n",
              "\n",
              "    .dataframe thead th {\n",
              "        text-align: right;\n",
              "    }\n",
              "</style>\n",
              "<table border=\"1\" class=\"dataframe\">\n",
              "  <thead>\n",
              "    <tr style=\"text-align: right;\">\n",
              "      <th></th>\n",
              "      <th>headline_num_words</th>\n",
              "      <th>summary_num_words</th>\n",
              "      <th>full_text_num_words</th>\n",
              "    </tr>\n",
              "  </thead>\n",
              "  <tbody>\n",
              "    <tr>\n",
              "      <th>count</th>\n",
              "      <td>4396.000000</td>\n",
              "      <td>4396.000000</td>\n",
              "      <td>4396.000000</td>\n",
              "    </tr>\n",
              "    <tr>\n",
              "      <th>mean</th>\n",
              "      <td>9.300045</td>\n",
              "      <td>58.289354</td>\n",
              "      <td>352.367834</td>\n",
              "    </tr>\n",
              "    <tr>\n",
              "      <th>std</th>\n",
              "      <td>1.404141</td>\n",
              "      <td>2.316088</td>\n",
              "      <td>357.585301</td>\n",
              "    </tr>\n",
              "    <tr>\n",
              "      <th>min</th>\n",
              "      <td>4.000000</td>\n",
              "      <td>44.000000</td>\n",
              "      <td>12.000000</td>\n",
              "    </tr>\n",
              "    <tr>\n",
              "      <th>25%</th>\n",
              "      <td>8.000000</td>\n",
              "      <td>57.000000</td>\n",
              "      <td>195.000000</td>\n",
              "    </tr>\n",
              "    <tr>\n",
              "      <th>50%</th>\n",
              "      <td>9.000000</td>\n",
              "      <td>59.000000</td>\n",
              "      <td>292.000000</td>\n",
              "    </tr>\n",
              "    <tr>\n",
              "      <th>75%</th>\n",
              "      <td>10.000000</td>\n",
              "      <td>60.000000</td>\n",
              "      <td>420.000000</td>\n",
              "    </tr>\n",
              "    <tr>\n",
              "      <th>max</th>\n",
              "      <td>14.000000</td>\n",
              "      <td>62.000000</td>\n",
              "      <td>12212.000000</td>\n",
              "    </tr>\n",
              "  </tbody>\n",
              "</table>\n",
              "</div>"
            ],
            "text/plain": [
              "       headline_num_words  summary_num_words  full_text_num_words\n",
              "count         4396.000000        4396.000000          4396.000000\n",
              "mean             9.300045          58.289354           352.367834\n",
              "std              1.404141           2.316088           357.585301\n",
              "min              4.000000          44.000000            12.000000\n",
              "25%              8.000000          57.000000           195.000000\n",
              "50%              9.000000          59.000000           292.000000\n",
              "75%             10.000000          60.000000           420.000000\n",
              "max             14.000000          62.000000         12212.000000"
            ]
          },
          "metadata": {
            "tags": []
          },
          "execution_count": 29
        }
      ]
    },
    {
      "cell_type": "code",
      "metadata": {
        "colab": {
          "base_uri": "https://localhost:8080/",
          "height": 391
        },
        "id": "vPesRP6fzd09",
        "outputId": "ae0aa7d7-7c5e-44e3-f0fc-8ee8e802a9f9"
      },
      "source": [
        "df_news[\"headline_num_words\"].hist(bins=10, figsize=(8,6))"
      ],
      "execution_count": null,
      "outputs": [
        {
          "output_type": "execute_result",
          "data": {
            "text/plain": [
              "<matplotlib.axes._subplots.AxesSubplot at 0x7fe243aff190>"
            ]
          },
          "metadata": {
            "tags": []
          },
          "execution_count": 21
        },
        {
          "output_type": "display_data",
          "data": {
            "image/png": "[encoded data removed]",
            "text/plain": [
              "<Figure size 576x432 with 1 Axes>"
            ]
          },
          "metadata": {
            "tags": [],
            "needs_background": "light"
          }
        }
      ]
    },
    {
      "cell_type": "code",
      "metadata": {
        "colab": {
          "base_uri": "https://localhost:8080/",
          "height": 391
        },
        "id": "6Zh8iGXD15Kz",
        "outputId": "87668939-3cf2-4bdc-9eb9-969a5a20d616"
      },
      "source": [
        "df_news[\"summary_num_words\"].hist(bins=10, figsize=(8,6))"
      ],
      "execution_count": null,
      "outputs": [
        {
          "output_type": "execute_result",
          "data": {
            "text/plain": [
              "<matplotlib.axes._subplots.AxesSubplot at 0x7fe241f81510>"
            ]
          },
          "metadata": {
            "tags": []
          },
          "execution_count": 22
        },
        {
          "output_type": "display_data",
          "data": {
            "image/png": "[encoded data removed]",
            "text/plain": [
              "<Figure size 576x432 with 1 Axes>"
            ]
          },
          "metadata": {
            "tags": [],
            "needs_background": "light"
          }
        }
      ]
    },
    {
      "cell_type": "code",
      "metadata": {
        "colab": {
          "base_uri": "https://localhost:8080/",
          "height": 391
        },
        "id": "UmsghjFy19l1",
        "outputId": "beaddc67-5ef4-473e-887e-b10b00703120"
      },
      "source": [
        "df_news[\"full_text_num_words\"].hist(bins=100, figsize=(8,6))"
      ],
      "execution_count": null,
      "outputs": [
        {
          "output_type": "execute_result",
          "data": {
            "text/plain": [
              "<matplotlib.axes._subplots.AxesSubplot at 0x7fe2410dd610>"
            ]
          },
          "metadata": {
            "tags": []
          },
          "execution_count": 36
        },
        {
          "output_type": "display_data",
          "data": {
            "image/png": "[encoded data removed]",
            "text/plain": [
              "<Figure size 576x432 with 1 Axes>"
            ]
          },
          "metadata": {
            "tags": [],
            "needs_background": "light"
          }
        }
      ]
    },
    {
      "cell_type": "code",
      "metadata": {
        "colab": {
          "base_uri": "https://localhost:8080/",
          "height": 391
        },
        "id": "lZR_0z9HscCr",
        "outputId": "049d26c3-862e-4186-9e8c-4adde861d88f"
      },
      "source": [
        "# zoomed-in\n",
        "axes = df_news[\"full_text_num_words\"].hist(bins=100, figsize=(8,6))\n",
        "axes.set_xlim(0, 1500)"
      ],
      "execution_count": null,
      "outputs": [
        {
          "output_type": "execute_result",
          "data": {
            "text/plain": [
              "(0.0, 1500.0)"
            ]
          },
          "metadata": {
            "tags": []
          },
          "execution_count": 35
        },
        {
          "output_type": "display_data",
          "data": {
            "image/png": "[encoded data removed]",
            "text/plain": [
              "<Figure size 576x432 with 1 Axes>"
            ]
          },
          "metadata": {
            "tags": [],
            "needs_background": "light"
          }
        }
      ]
    },
    {
      "cell_type": "markdown",
      "metadata": {
        "id": "T71Qz3jlBYR6"
      },
      "source": [
        "## tokenizer"
      ]
    },
    {
      "cell_type": "code",
      "metadata": {
        "id": "eXNLu_-nIrJI"
      },
      "source": [
        "# Tokenizer will tokenize the inputs by converting the tokens to their corresponding IDs in the pretrained vocabulary\n",
        "# put it in a format the model expects, as well as generate the other inputs that the model requires\n",
        "base_model = \"t5-small\"\n",
        "tokenizer = AutoTokenizer.from_pretrained(base_model)"
      ],
      "execution_count": null,
      "outputs": []
    },
    {
      "cell_type": "markdown",
      "metadata": {
        "id": "Vl6IidfdIrJK"
      },
      "source": [
        "By default, the call above will use one of the fast tokenizers (backed by Rust) from the 🤗 Tokenizers library."
      ]
    },
    {
      "cell_type": "markdown",
      "metadata": {
        "id": "rowT4iCLIrJK"
      },
      "source": [
        "You can directly call this tokenizer on one sentence or a pair of sentences:"
      ]
    },
    {
      "cell_type": "code",
      "metadata": {
        "id": "a5hBlsrHIrJL",
        "colab": {
          "base_uri": "https://localhost:8080/"
        },
        "outputId": "423b3729-f857-461d-c9fb-e610930dd195"
      },
      "source": [
        "text = \"Hello, this one sentence!\"\n",
        "tokenizer(text)"
      ],
      "execution_count": null,
      "outputs": [
        {
          "output_type": "execute_result",
          "data": {
            "text/plain": [
              "{'input_ids': [8774, 6, 48, 80, 7142, 55, 1], 'attention_mask': [1, 1, 1, 1, 1, 1, 1]}"
            ]
          },
          "metadata": {
            "tags": []
          },
          "execution_count": 15
        }
      ]
    },
    {
      "cell_type": "code",
      "metadata": {
        "colab": {
          "base_uri": "https://localhost:8080/"
        },
        "id": "lORWEwYfNsYz",
        "outputId": "228408da-3c57-48c3-98cc-adebb9e666c6"
      },
      "source": [
        "tokenizer.tokenize(\"Hello, this one sentence!\")"
      ],
      "execution_count": null,
      "outputs": [
        {
          "output_type": "execute_result",
          "data": {
            "text/plain": [
              "['▁Hello', ',', '▁this', '▁one', '▁sentence', '!']"
            ]
          },
          "metadata": {
            "tags": []
          },
          "execution_count": 14
        }
      ]
    },
    {
      "cell_type": "code",
      "metadata": {
        "colab": {
          "base_uri": "https://localhost:8080/"
        },
        "id": "s642ygAFN1I2",
        "outputId": "c0582233-c6f2-42da-be83-ae59a31d6dc5"
      },
      "source": [
        "# finds subwords until it matches with what's in its vocab\n",
        "tokenizer.tokenize(\"This ios is asfsfsfsdf wikiapple.\")"
      ],
      "execution_count": null,
      "outputs": [
        {
          "output_type": "execute_result",
          "data": {
            "text/plain": [
              "['▁This',\n",
              " '▁',\n",
              " 'i',\n",
              " 'o',\n",
              " 's',\n",
              " '▁is',\n",
              " '▁as',\n",
              " 'f',\n",
              " 's',\n",
              " 'f',\n",
              " 's',\n",
              " 'f',\n",
              " 's',\n",
              " 'd',\n",
              " 'f',\n",
              " '▁',\n",
              " 'wiki',\n",
              " 'app',\n",
              " 'le',\n",
              " '.']"
            ]
          },
          "metadata": {
            "tags": []
          },
          "execution_count": 40
        }
      ]
    },
    {
      "cell_type": "code",
      "metadata": {
        "id": "pUaTJXD4Tj5V"
      },
      "source": [
        "tokenizer.encode([ctext], max_length= self.source_len, pad_to_max_length=True,return_tensors='pt')"
      ],
      "execution_count": null,
      "outputs": []
    },
    {
      "cell_type": "code",
      "metadata": {
        "colab": {
          "base_uri": "https://localhost:8080/"
        },
        "id": "Cuv_ylEzPHdx",
        "outputId": "6bb4bc5b-4adf-4e5c-f1ad-ddc1b44d6014"
      },
      "source": [
        "len(tokenizer.vocab)"
      ],
      "execution_count": null,
      "outputs": [
        {
          "output_type": "execute_result",
          "data": {
            "text/plain": [
              "32100"
            ]
          },
          "metadata": {
            "tags": []
          },
          "execution_count": 163
        }
      ]
    },
    {
      "cell_type": "code",
      "metadata": {
        "colab": {
          "base_uri": "https://localhost:8080/"
        },
        "id": "GEUycKobO2xX",
        "outputId": "cffa2624-2a4d-4630-f337-1f8e6a454435"
      },
      "source": [
        "print(tokenizer.vocab)"
      ],
      "execution_count": null,
      "outputs": [
        {
          "output_type": "stream",
          "text": [
            "{'▁Unlimited': 24813, '▁discut': 8597, '▁cauta': 18544, '▁Fran': 8177, '▁Main': 5140, '▁editorial': 14829, '▁exceptionnel': 28975, '▁marketing': 1070, 'top': 2916, '▁Securities': 20571, '▁Provide': 7740, '▁floors': 8242, 'espoir': 26299, 'étaient': 9998, '▁Münster': 30055, 'ogram': 16275, 'point': 2700, 'ов': 16811, '▁sans': 1532, '▁peur': 20581, 'Survivor': 31400, '210': 15239, '▁Apache': 24263, '▁versehen': 28691, 'view': 4576, 'litz': 13668, '▁herb': 14771, '▁Elvis': 28132, 'biz': 19000, '▁soluţi': 22436, '▁encouraged': 6470, '▁(2014)': 24373, '▁downstream': 26804, '▁Wall': 3556, '▁Should': 5066, '▁requested': 6709, '▁injection': 10672, 'nah': 8607, 'mind': 14481, '▁congregation': 17368, '▁Americans': 5452, '<extra_id_4>': 32095, '▁submarine': 28158, '(2000)': 31804, '▁Marg': 16409, '▁fly': 3971, '▁civil': 3095, '▁learned': 2525, 'cured': 26867, 'dirigé': 31737, '▁père': 17280, 'izo': 14406, '▁know': 214, '▁navy': 23118, '▁asleep': 17915, 'suited': 10967, '▁porte': 5137, 'yton': 21220, 'Model': 24663, '▁Colombia': 18898, 'tude': 19835, '▁comment': 1670, 'lation': 6105, '▁publicity': 23546, 'artă': 24572, '▁Erfolg': 8933, 'sufficient': 17817, 'stepping': 19115, '▁priorité': 27685, '▁supprimer': 31127, 'went': 16103, '▁translated': 15459, '▁Strange': 22115, '▁munte': 22728, 'clerosis': 29330, 'uben': 15804, 'urged': 19492, '▁sponsored': 11851, 'curated': 22579, 'venant': 23706, '▁Ap': 5085, '▁attach': 9129, '▁Panasonic': 28695, 'craft': 6696, '▁Small': 4872, 'obwohl': 22000, 'haus': 2989, '▁Yard': 16093, '▁Vertrag': 20311, '▁culprit': 30601, '▁giving': 1517, '▁Qui': 6590, '▁Englisch': 26733, '▁Pai': 14697, 'trägt': 10584, '▁Together': 10965, '▁suffering': 5706, '▁langue': 14185, '▁headphones': 21065, '(7)': 24358, 'atorium': 28755, '▁Träger': 29129, 'crest': 21443, '▁Pause': 22631, '▁Leicht': 29774, '▁actress': 15676, 'hôtel': 10890, '▁provoca': 11838, '▁returning': 7646, 'People': 24337, '▁parenting': 18929, '▁Bai': 11835, '▁Chen': 15570, '▁Palmer': 23967, '▁plunge': 20593, '▁Dienstag': 24082, 'schau': 8104, 'SMEs': 28664, 'ß': 5202, '▁mijloace': 21928, '▁Red': 1624, '▁dorinț': 29722, '▁Stein': 8051, '▁Burn': 10846, '▁numit': 18195, '▁avail': 17671, '▁set': 356, '▁Dies': 9654, '▁didactic': 22994, '▁families': 1791, '▁immédiatement': 24799, '877': 27697, 'PTSD': 29609, 'borne': 12940, '▁celule': 18473, '▁2007,': 11979, '▁restaur': 20814, '▁28': 2059, '▁limba': 13459, '▁vis': 4642, '▁odihn': 24182, 'mailed': 19422, 'admired': 29099, '▁90': 2777, 'robo': 23801, '▁sequencing': 30117, '▁numai': 4289, '▁Woodland': 31244, 'oppel': 24160, 'rich': 3723, '▁intrat': 16076, '▁poivr': 31216, '▁collecting': 10858, '▁legislative': 14751, '▁risks': 5217, '▁Ocean': 7087, '▁attitude': 7525, '▁turnover': 17847, '▁Jusqu': 31398, 'akh': 18965, '▁cupcake': 19210, 'wür': 14638, '▁and': 11, '▁combined': 3334, 'partea': 6700, 'pom': 17043, 'FW': 20952, '▁significantly': 4019, 'TER': 5946, 'Cependant': 18990, '▁nouă': 13314, '▁viitorul': 25013, '▁Liste': 18614, 'Jacques': 17453, '▁both': 321, '▁programul': 19008, '▁chart': 5059, 'rose': 8115, '▁showing': 2924, 'LC': 6480, '▁rapid': 3607, '▁Alltag': 15904, '▁Cl': 4779, '▁linen': 15916, 'municipiul': 30102, '▁lectures': 16603, '▁Regi': 15232, '▁serrurier': 21515, '▁renewed': 18184, '▁Howard': 13816, '▁lending': 16391, 'völlig': 17139, '▁angezeigt': 25113, '▁préalable': 24491, '▁Spice': 25727, '▁insgesamt': 13616, '▁expenditure': 15700, '▁cheltui': 28749, 'chev': 13847, 'intéresse': 21057, '▁interrupted': 28357, '▁Provincial': 30661, '▁facilities': 2465, 'oasă': 10492, '▁laughed': 24524, '▁cherish': 28051, 'institu': 15613, '▁AC': 5686, 'auteur': 9474, '▁Rang': 12612, 'LG': 24214, '▁dissemination': 31363, '▁folks': 5265, 'plo': 7379, '▁atac': 16339, 'starea': 18708, '▁enquiry': 25561, 'base': 10925, '▁contents': 10223, 'liche': 2626, '▁supplement': 8839, 'stiinta': 28938, 'USA': 17663, 'Cor': 13026, 'avoue': 30260, 'nou': 15358, 'largement': 21933, '(2017)': 26224, 'inspired': 18507, '▁qu': 546, 'grew': 4774, 'Group': 27247, '▁bump': 13033, 'strecke': 27182, 'AI': 9822, 'sized': 5120, 'diction': 12472, '▁hearing': 3507, 'nderungen': 21960, 'iert': 1378, 'ésormais': 13899, '▁VoIP': 27371, '▁ausschließlich': 17300, '▁Bengal': 20008, '▁impression': 5709, 'HY': 15761, 'lique': 11036, 'ge': 397, '▁thumb': 13447, '▁outdoor': 2655, '▁drei': 4052, 'ACK': 15339, 'boot': 18475, '▁vorbi': 24521, '▁modifications': 14172, '▁deosebit': 10506, 'streamlined': 26474, '▁locker': 17596, 'aught': 9313, 'curved': 21870, '▁Tracy': 29464, '▁Dessert': 30526, 'cred': 17216, '],': 13679, '▁Too': 9647, '▁SMS': 12780, '▁£5': 23978, '▁surgeries': 27503, 'designed': 15281, '▁rehab': 21013, 'knowingly': 29817, '▁fait': 1094, '▁Betrieb': 15140, 'vizi': 16880, '▁number': 381, '▁classified': 12910, '▁Kill': 14450, '▁Sammlung': 27049, 'öpfe': 21529, 'anfang': 31687, '▁leak': 7653, 'rendre': 7723, '▁Garant': 21496, '▁warned': 15240, '▁Lab': 8100, 'rade': 15530, '117': 20275, 'habitant': 29884, 'effort': 30475, '▁Cow': 15477, '▁erkennt': 31988, 'cat': 2138, '▁Alfa': 27900, '▁utile': 14540, '▁neuer': 18601, '▁neck': 5378, '▁BE': 6554, '▁suspicion': 23373, '▁Williams': 6060, 'grabbing': 26910, '▁latest': 1251, 'luck': 18219, 'ivism': 30177, 'EPA': 13986, '▁Draw': 19183, '▁hunters': 26366, '▁Features': 13977, '▁aussi': 1292, 'prindere': 25482, 'Seeing': 25332, '▁Struktur': 25886, '▁alter': 8310, '▁prosper': 26282, '▁régime': 17100, '▁agréable': 17182, '▁détect': 24807, 'of': 858, '▁knee': 6476, 'feuer': 25395, '▁lurk': 29503, '▁Sonnen': 13838, '▁Third': 9879, '▁donations': 10712, '<extra_id_43>': 32056, '3.8': 26195, '▁freezing': 19275, 'lati': 19761, '▁théorie': 30365, 'atul': 5393, '▁spider': 18612, 'culture': 10547, '▁shark': 18058, 'hér': 17673, '▁density': 11048, 'ambul': 20866, '▁microscope': 28373, '▁1949': 24319, '▁Gemeinde': 9821, 'aveau': 23729, '▁interviu': 25136, '▁ersetzt': 28829, '▁Be': 493, 'jou': 8921, '▁Used': 12504, '▁drive': 1262, 'Pre': 10572, 'ificare': 8750, 'exhibited': 21102, '▁opener': 19717, 'Thierry': 30987, 'fotograf': 26515, '▁psychologique': 31177, '▁besten': 5613, '▁présente': 9173, '▁kostet': 22907, '▁Panel': 9871, '▁acrylic': 16683, '▁beschrieben': 24958, '▁comisi': 22287, '▁given': 787, 'HE': 6021, '▁bit': 720, 'SE': 4132, '▁mittels': 21835, '▁cei': 2227, '▁apparatus': 20282, '▁Running': 18286, '▁updating': 14809, '▁Yeah': 11475, 'Warum': 17499, 'freie': 17318, '▁door': 1365, '▁Solar': 9334, 'stil': 17153, '▁Mas': 6664, '▁radio': 2252, '▁syllabus': 30850, 'model': 21770, '▁sanitation': 30525, '▁https': 4893, '0.9': 23758, '▁illicit': 30234, '▁meist': 12711, '▁renforce': 30329, '▁recording': 5592, 'walked': 6412, '▁dialect': 28461, '▁Gegner': 24574, '▁bloom': 13081, 'Pri': 7855, '▁tram': 20649, '▁Logan': 22227, 'oids': 19721, 'absorbing': 29110, '▁vreun': 21741, '▁desigur': 29799, 'rip': 5082, 'poziție': 30532, 'oudre': 20180, '▁gauge': 13596, 'icy': 17686, '▁accesorii': 19362, '▁Schwerpunkt': 23660, '▁chill': 10191, 'ermittlung': 22099, '▁stopping': 10847, 'finity': 16925, '▁Flor': 7542, 'ète': 9831, '▁concentrated': 18054, '5.000': 19326, '▁artistes': 22013, '<extra_id_95>': 32004, 'ității': 10171, 'aţie': 8793, 'lagen': 9096, 'да': 20000, 'Y': 476, 'insta': 21246, 'Bereichen': 22136, '▁THE': 1853, 'imagin': 6487, 'Bu': 7793, 'Key': 23617, '▁Liberty': 16553, '▁intuition': 26207, '▁Spray': 21861, 'general': 27369, 'Flo': 11251, 'bwohl': 29366, '▁assignments': 14023, '▁opponents': 16383, '▁insult': 21548, '▁retire': 14848, '▁anywhere': 3461, '▁alegeri': 25856, '▁Engag': 27246, 'bilder': 16980, '▁Mos': 6698, '▁international': 1038, 'êt': 7425, '▁tomb': 10351, '▁repet': 17702, '▁avenue': 18836, '▁peripheral': 22586, 'acordare': 31426, 'onul': 10197, 'Neu': 26288, 'bag': 7893, 'sondern': 3296, '▁Argentina': 17946, '▁Nurse': 20252, '▁mor': 8030, '▁Bath': 11247, 'itate': 1734, '▁Craft': 11386, '▁Avi': 13870, 'aujourd': 29653, 'laud': 12513, '▁Avant': 17536, '▁Junior': 10243, '▁timpului': 21517, '▁Cocktail': 27477, 'RAC': 22034, '▁închiri': 29896, '▁tourist': 8548, '▁$5': 6422, '▁crave': 27825, '▁Actually': 13630, '▁inherit': 30671, '▁lists': 7809, '!': 55, 'dépôt': 27876, 'ţie': 5904, 'grat': 9454, '▁hier': 1382, '▁Job': 7575, '▁Apr': 10299, '▁Salmon': 25464, '▁combi': 24197, '▁velvet': 21327, '▁Cycling': 30851, '▁falls': 7250, 'Th': 8991, 'ados': 14073, '▁1929': 27332, '▁Engagement': 15557, 'create': 22082, '▁Studium': 22551, '▁Audit': 19895, '119': 19993, '▁teams': 2323, '▁endeavor': 14310, '▁open': 539, '▁comparable': 13289, '▁shrine': 30258, '▁admission': 7209, '15': 1808, '▁naturel': 13673, '▁tablette': 27604, '1-4': 22840, 'louer': 31146, '▁6': 431, '▁Frühstück': 22925, '▁Mitte': 16520, '▁Clo': 8932, '▁Beg': 10129, 'section': 14309, 'sighted': 31576, '▁săptămână': 24774, '▁Despre': 25438, 'Sch': 6717, '▁charges': 3991, '<extra_id_40>': 32059, '▁abandoned': 13876, '▁Griffith': 29345, '▁trimestre': 31974, '▁lobby': 11818, '▁omul': 18381, '▁permits': 14079, '▁capitalize': 29077, '▁gradient': 26462, 'IS': 4555, 'zeug': 12584, '▁eveniment': 10115, '▁Mol': 11019, 'll': 195, '▁Seven': 13065, '▁hervorragend': 18203, '▁else': 1307, '▁avoir': 3517, '▁subsidiary': 20438, 'intele': 9755, '▁citoyen': 17884, 'contro': 23862, '▁Court': 2243, 'ably': 3834, '▁coffee': 1975, '▁periods': 8811, 'TR': 11421, '▁vezi': 14940, '▁Notre': 7711, 'CLE': 22704, '▁missed': 4785, 'exemplar': 26710, '▁thought': 816, '▁exista': 6181, '▁Bogdan': 25315, '▁predator': 23007, 'Euro': 25670, '▁cancer': 1874, '▁timeline': 13618, '▁process': 433, '▁Bonus': 10659, '▁unii': 14239, 'ulent': 16291, '▁DSLR': 28193, '▁konsequent': 31735, '▁proaspete': 31819, '▁cutie': 26045, '▁Laura': 10591, 'mati': 17245, '▁Pre': 1266, '▁hence': 10321, '▁Germania': 17651, '▁meci': 20665, '▁Who': 2645, '▁Edelstahl': 30116, '▁campsite': 27459, '▁détaillé': 27719, '▁collage': 24014, '▁deployment': 12001, '.....': 9374, '▁müsst': 20054, 'goutte': 31956, 'graphical': 16982, '▁bitcoin': 16623, '▁spinning': 21048, '▁create': 482, '▁responsible': 1966, '▁Aaron': 14411, '▁leisten': 24020, 'nac': 11962, 'heißen': 29174, 'UT': 6675, '▁conformitate': 21175, '▁Ban': 5185, '▁lutte': 19817, '▁Mohamed': 29122, '▁bundle': 12927, '▁diplôme': 29831, '▁was': 47, '▁voices': 13256, 'abused': 28493, '▁blogging': 11174, 'treff': 30081, '▁procur': 11892, '▁campanii': 29067, '▁ferme': 15419, '▁relation': 4689, '▁Oktober': 13826, '▁aplica': 10589, '▁viața': 14905, 'Purchasing': 31700, 'development': 19677, '▁Essential': 17135, '▁scheduling': 16131, '▁omega': 27305, 'influenced': 12913, '▁Traditional': 16505, '▁worth': 1494, '▁seminar': 12340, '▁Sicherheits': 15978, '▁Kar': 4556, '▁dabei': 3099, 'ministru': 19135, '▁drauf': 27281, '▁Extended': 27944, 'illiers': 26736, '▁kilogram': 23332, 'poartă': 27737, '▁Gloria': 29678, '▁diabetes': 8363, '▁lucruri': 9535, '▁gar': 5260, 'September': 27652, '▁explore': 2075, '▁voulai': 23274, 'motiv': 17732, '▁horror': 12082, '▁furnizat': 27285, '▁Andrew': 5954, '▁Recherche': 22359, '▁Commander': 24934, '▁Don': 1008, '▁breathtaking': 17593, '▁Visit': 4957, '▁floral': 9363, 'ADI': 27775, '▁carpet': 4898, '▁Classes': 23081, 'ICS': 21202, '▁break': 1733, 'ältere': 31584, '▁solutie': 26702, '▁manner': 3107, '▁Mont': 5788, '▁puțin': 8488, '▁manipul': 19022, 'crit': 12563, '▁Recycling': 28205, '▁choices': 3703, '▁perimeter': 26442, 'weder': 26682, '▁procurement': 19339, '▁întreg': 16102, 'MJ': 25047, '6.0': 22642, '141': 26059, '▁more': 72, '...).': 16463, '▁wavelength': 28433, 'diplom': 30573, 'fueled': 28536, '▁Beschreibung': 28509, '▁Arm': 5412, '▁persoană': 19355, '▁catastrophic': 26926, 'ôme': 20023, '▁avatar': 27374, '▁against': 581, '▁implement': 4028, '▁insert': 8722, '▁Farb': 15452, 'è': 5115, '▁toast': 16544, '-20': 7988, '▁internationally': 12012, 'kannte': 31045, '▁Grant': 8059, '▁geprägt': 27905, '▁unprecedented': 19534, '▁sorgfältig': 30106, '▁Cover': 5620, '▁teilnehmen': 29679, '▁broken': 4335, '▁Scho': 16064, 'attack': 27673, '▁touch': 1586, 'arba': 25151, '▁testimonial': 22076, '▁Silvi': 25938, '▁dramatic': 8417, '▁Arbeit': 5512, '▁Stamm': 25009, '▁découvert': 28066, '▁Adam': 7124, '▁firme': 15486, '▁Motiv': 17252, '▁Start': 3273, '▁studied': 7463, '▁hardship': 24407, '▁taste': 2373, '▁Nutzung': 10344, 'photo': 17720, '▁dull': 19511, '▁sunrise': 25094, '▁negotiate': 17405, '▁butterflies': 27026, '▁recreational': 14863, '▁Baldwin': 29467, '▁meets': 7864, '▁Leiter': 24484, 'bowel': 27169, '▁LNG': 28323, '▁cameras': 7724, '▁shadow': 8552, 'VM': 12623, 'fährt': 21636, '▁Wellington': 25176, 'arranging': 22905, '▁charger': 17020, 'stuffed': 18458, '▁finance': 4747, '▁souhaite': 15744, '▁buttons': 10634, '▁perpetu': 31324, '▁saint': 15528, '▁dimensiune': 27443, '▁commencé': 22244, '▁paper': 1040, '▁Browser': 19246, 'immer': 12174, 'men': 904, '▁initiated': 16781, '▁Holz': 8589, '5': 755, 'LU': 9138, '▁Ausgangs': 29251, 'verband': 17575, '▁Energie': 6901, '▁Wunsch': 14683, '▁Fläche': 20813, '▁crown': 10228, 'bolster': 25422, 'authentic': 31618, '▁Mike': 4794, 'issant': 10692, '▁problème': 9472, 'standard': 16020, 'inhabited': 30732, 'cic': 13241, '▁Jerusalem': 14807, '▁Wege': 18586, '▁lot': 418, '▁genutzt': 15149, 'Especially': 14232, '▁mulți': 13811, 'V': 553, '▁Rab': 22730, 'wöhn': 21575, '▁erstmal': 16610, '▁achiziți': 24169, '▁comunist': 28189, '▁rebuild': 15526, '▁Palestinian': 10748, 'fett': 22392, '▁passiert': 22919, 'büro': 25905, 'Aici': 19845, '▁pied': 9630, '▁Genuss': 29540, 'distorted': 31753, '▁Regard': 12312, '▁défi': 13302, '▁practices': 2869, '▁wrong': 1786, 'deck': 9622, 'rück': 7733, '▁Lieb': 24149, 'obligation': 28228, '▁Jews': 11896, '▁Uhr': 3789, '▁zilnic': 13232, '▁quantum': 21353, 'polis': 15621, '▁cruise': 6791, '▁Milk': 18389, '▁chain': 3741, '▁Architecture': 14706, '▁Ever': 6381, '▁Schools': 13255, '–': 104, '▁neuen': 3988, '▁recognition': 5786, 'druck': 7355, '▁Kh': 13495, 'atsu': 23766, '▁Mining': 13280, '▁Software': 4300, '▁electrical': 4850, '▁driven': 6737, 'sau': 7348, '▁divided': 8807, 'facilitated': 27997, '▁ask': 987, '▁vitamin': 7869, 'bone': 12269, '▁invitați': 30435, '▁Cela': 10074, '<extra_id_82>': 32017, 'dorf': 8716, 'War': 21032, '▁McCain': 27463, '▁Jetzt': 14190, '▁pla': 9564, 'wirtschaft': 15119, '▁Protocol': 21720, '▁american': 10211, '270': 17485, '▁interfere': 18960, 'translates': 29213, '▁translating': 31328, '4.4': 23444, 'GET': 20750, '▁notion': 9347, '▁near': 1084, '▁Nine': 19636, 'volu': 12740, '▁equally': 7509, 'hören': 15499, '▁dau': 10216, 'Interested': 21466, '▁Sigma': 23746, '▁integrated': 4580, 'SEA': 25542, 'qual': 11433, '▁allgemeine': 20712, '▁Wade': 26765, '▁excavation': 29634, '▁cohesive': 29137, '▁pui': 15075, '▁Symphony': 21009, '▁precedent': 17875, '▁indeplin': 27055, 'IFF': 28130, '**': 19844, '▁inquire': 22374, '▁dividend': 12190, '▁guest': 3886, 'upper': 15689, 'avenir': 19065, '▁fichier': 13785, '▁proprietary': 16950, '▁Ran': 15039, '154': 27308, '▁uses': 2284, '▁livrare': 21458, '▁sein': 1110, 'frame': 11415, 'boiled': 25189, '▁measure': 3613, '▁repas': 16294, '▁chose': 3260, '▁2015.': 5337, 'Schw': 15404, '▁spicy': 16435, 'pentru': 23198, '▁übrig': 25349, 'Provence': 23864, '▁Tin': 7138, '▁lucru': 3219, '▁vizita': 18157, 'samt': 18624, '▁Oder': 15584, '▁cunoaste': 26291, '▁Black': 1589, '▁Constitu': 22636, 'omics': 27036, '▁Fuji': 25147, '▁Last': 2506, '▁Employment': 20512, 'äh': 5588, '▁marina': 16584, '▁fond': 3036, '▁menace': 24034, 'logical': 6207, '▁Prairie': 26674, 'Previously': 22769, '▁compris': 8315, '▁innings': 19714, 'artery': 27845, '▁décidé': 16939, '▁ruling': 12346, '▁practitioner': 19609, '▁Produkte': 8016, 'oyez': 17560, 'iker': 10109, '▁scade': 21574, '▁réalité': 15707, 'atmosphère': 30399, '▁Bosnia': 31275, 'Historically': 31806, 'GH': 14100, 'Compared': 25236, '▁skeptical': 27716, '▁Kam': 8329, '▁adapté': 18151, '▁emoti': 25993, '▁bits': 14120, '▁sushi': 26297, '▁zufrieden': 18254, '▁frames': 10023, '▁hostel': 23107, '▁concur': 17125, '▁prop': 6377, 'verein': 8907, '▁mutation': 17324, '▁obviously': 6865, '▁Perth': 22343, 'lusieurs': 27377, '▁gentle': 7569, '▁F': 377, '▁literar': 24811, '▁reliability': 10581, '▁mémoire': 18245, '▁coordination': 13954, '▁municipalities': 24858, '▁turning': 5074, '▁sentiment': 6493, '▁Hu': 3455, 'uré': 11403, '▁offering': 1772, '▁Disease': 14326, '▁SUP': 24654, 'less': 924, '▁adânc': 30779, '▁Bezug': 20297, '▁Haven': 19586, '▁varf': 28800, '▁hanging': 7442, 'sicher': 12863, 'ties': 3010, '▁mic': 6647, '▁Electric': 8666, 'ez': 457, 'lling': 12013, '▁plusieurs': 3590, 'ménager': 29353, '▁jpl': 31719, 'Internet': 22912, '▁Guvernului': 23487, '▁fundraiser': 21842, '▁realtor': 30432, 'gasesc': 24295, '▁eCommerce': 26642, 'mp': 1167, '▁Beat': 14117, '▁answering': 18243, '▁anticipated': 12723, '▁practically': 16447, '▁disponibil': 13884, '▁interact': 6815, 'wirken': 15188, '▁milk': 3702, 'acquérir': 30985, '▁suit': 3237, '▁redefine': 31091, 'VEL': 24544, '▁Nerv': 22450, 'woman': 15893, 'ayant': 9035, '▁Coming': 18354, '▁raspuns': 18623, 'second': 12091, '▁voilà': 24131, 'Effekt': 21890, 'approved': 24496, '▁maple': 22007, '▁dinner': 2634, '▁Pond': 24204, 'hos': 11982, 'way': 1343, '▁girls': 3567, 'zahl': 8117, '▁cuprinde': 22196, '▁Brass': 20154, '▁trendy': 18571, 'greift': 30744, '▁psiholog': 22978, '▁practice': 1032, 'Norm': 19383, '▁Class': 4501, '▁Belfast': 27874, 'empt': 9045, '▁Tail': 22285, '▁verändern': 28021, '▁point': 500, 'What': 5680, '▁Nano': 20556, '▁Cod': 10285, '▁Nutzer': 11828, '▁gr': 3542, '▁hinzu': 16684, 'Spr': 14562, '▁Hospice': 29889, '▁judges': 14743, '▁journal': 6378, '▁conviction': 13929, '▁Cav': 17655, '▁welcoming': 12084, '▁Administrative': 25290, '▁practise': 25420, 'ball': 3184, '▁Brazil': 9278, 'treabă': 31331, '▁dynamique': 21864, '▁glass': 1905, '▁Treat': 16494, '▁erschien': 24072, '▁Grinding': 21739, '▁attire': 22271, 'bleed': 27779, '▁regret': 9867, '▁Jeff': 8507, '▁plafon': 23271, '▁chiar': 2151, '▁internațional': 20479, '▁posé': 26679, '▁Design': 1642, 'ACE': 11539, 'bre': 1999, '▁8,': 9478, '▁întrebare': 27218, '▁bouquet': 20043, '▁Patio': 21708, '▁transformer': 19903, 'tek': 15150, 'dium': 12925, '▁asigur': 14122, 'ched': 4513, '▁proven': 4162, 'mine': 8695, '▁hypo': 10950, '-40': 15862, '▁Ride': 17392, '▁Barr': 13384, 'fahrer': 20531, '▁DUI': 23157, 'fond': 14080, '▁whatever': 2891, '▁1985': 13200, '▁represent': 4221, '▁Zero': 17971, '▁rescue': 9635, '▁glucose': 17320, 'oodle': 14957, 'hausen': 18535, '▁engine': 1948, '▁activism': 30241, '▁popul': 8364, '▁field': 1057, 'poo': 18450, '▁wichtig': 7308, '▁answers': 4269, 'LIS': 25769, 'schrift': 9146, 'MI': 7075, '▁discipline': 7998, 'nonsense': 25143, '▁plăcere': 31049, '▁legii': 20881, '▁groom': 13060, 'tră': 11854, 'niste': 10347, '▁dritte': 27932, 'View': 15270, '▁Dahl': 30569, 'pitfalls': 31223, 'pdf': 17388, '▁magical': 9393, '▁backup': 7169, '▁said': 243, 'conce': 11620, 'Luc': 11748, '▁pressure': 1666, '▁(2)': 6499, 'intérêt': 10894, '▁stimmt': 27923, 'monetiz': 30267, 'viteză': 31891, '▁interchange': 24177, 'generating': 11600, '▁humanitarian': 20386, '▁favor': 4971, 'halt': 5019, '▁chance': 1253, 'lus': 7650, 'ulation': 7830, 'emme': 26570, 'ceased': 29220, '▁feasibility': 28297, '▁$1,000': 22585, '▁photograph': 6419, '▁procedure': 3979, '▁Ronald': 18393, '▁atteint': 22294, '0.05': 25079, '▁groundbreaking': 29009, '10,000': 29573, '▁curb': 16110, '▁Desi': 17447, '▁Sport': 3349, '▁drumul': 18476, '▁hatten': 8827, '▁Dean': 12738, '▁Primary': 14542, '▁crude': 19058, '▁garnish': 27383, '▁cerveau': 30262, '▁investors': 4367, 'alle': 13701, 'Who': 20754, '▁exhibition': 4473, 'Registr': 18752, '▁critically': 19302, 'Increasing': 31372, 'merely': 8199, '▁Că': 13540, '▁Vodafone': 26259, 'Maintenant': 31407, 'zahlen': 10814, '▁traded': 18107, 'licht': 15519, '▁toilet': 6699, '▁Dorothy': 29039, '▁Jar': 17321, '▁2014': 1412, '▁hartie': 29274, 'bob': 17396, '▁operated': 7747, '▁states': 2315, '▁reflecting': 19124, '▁Background': 23023, '▁constitute': 11708, '▁Titan': 13622, '▁stew': 21786, '▁readily': 11961, '▁Indo': 26822, 'Map': 25760, '▁blocking': 17292, 'LAY': 29002, 'EC': 3073, '»,': 12512, '▁Pir': 23421, 'anna': 10878, '▁ajouté': 23598, 'träger': 18210, '▁berücksichtigt': 29699, '▁Disability': 27899, '▁consult': 5466, '▁overhead': 15998, 'shift': 22872, '▁Without': 6404, '▁verfügbar': 20104, '▁fibr': 25427, '▁représentation': 26506, 'insulated': 27047, '▁RFID': 30069, '▁Princeton': 26122, 'Aşa': 26382, '▁Race': 10949, '▁They': 328, 'rid': 4055, '▁vesti': 20299, 'igte': 28364, '▁go': 281, '▁friends': 803, 'Olimp': 30370, '▁investi': 11720, 'OULD': 27986, '▁temperament': 30228, '43': 4906, '▁dernière': 6062, 'Managing': 16143, 'rechnen': 20664, '▁Still': 4886, '▁Keyword': 24685, 'feared': 27625, '▁puncte': 11964, 'ер': 17657, 'schicken': 27295, '▁honestly': 12855, '▁charge': 1567, '▁barely': 11289, 'dad': 14677, '▁SUV': 14221, 'time': 715, '▁suplimentar': 26747, 'ACH': 24488, '▁manga': 20796, '▁mineral': 7590, '▁appeared': 4283, 'PU': 10744, 'reusable': 28147, '▁visitor': 7019, '▁$50': 13309, '▁reminde': 13617, 'tief': 8626, '▁Guru': 23858, '▁snappe': 27871, '▁client': 1188, '▁foreign': 2959, '▁Kal': 5740, 'Datei': 17206, 'étapes': 29473, 'kor': 5543, '▁implied': 19535, '▁Graf': 20475, '2005': 22594, 'plast': 23918, '▁wherever': 10303, '▁modul': 7246, 'Bib': 27915, '▁Julie': 12983, '▁Cran': 18630, '▁dwelling': 18004, '▁Ingredient': 23482, '▁Comments': 16243, '▁minds': 10884, 'vpn': 22760, '▁Truth': 16934, 'geschaltet': 29795, '▁Kan': 4540, '▁Cottage': 22194, '▁Asphalt': 30523, '▁premi': 11707, '▁acquired': 7347, '▁étrangère': 29175, '▁oraş': 21373, '▁development': 606, 'gesehen': 11139, '▁coalition': 17952, '▁designs': 2888, 'betroffene': 25191, '▁disclose': 14765, '▁Raspberry': 25672, '4,': 8525, '▁(12': 16465, '▁abdomen': 24729, '▁1935': 27710, '▁Two': 2759, 'bie': 4232, '▁Mechanical': 24483, '▁gaze': 15618, '▁Nachde': 23819, 'syndic': 26531, '▁allocation': 17127, '▁(2015)': 25695, '▁Labour': 16117, 'greete': 24528, '▁Lorraine': 31419, '▁certified': 4970, 'biotic': 18317, 'mouth': 11975, '▁Begriff': 19262, '▁soft': 1835, '▁moale': 29351, 'nsel': 27977, '▁resonate': 22771, 'nței': 18621, 'Argentin': 22808, 'convicted': 21217, '840': 26311, 'OUG': 26260, '▁Imagine': 11648, '▁Poor': 21309, '▁thank': 2763, '▁upward': 14452, '▁schimba': 18238, '▁smell': 5949, '▁vér': 22397, '▁Journal': 3559, '▁toxic': 12068, '▁bezeichnet': 21258, 'Agricultural': 24354, 'sadly': 20864, '▁upfront': 25440, '▁pâte': 20965, '▁owned': 4157, '▁malade': 29412, '▁breathe': 13418, '▁ändern': 20755, '▁crispy': 24237, '▁Ch': 4004, '▁Regina': 26031, '▁droit': 6388, 'getroffen': 25556, '▁cineva': 11812, '▁2:1': 27078, '▁confused': 11319, '▁Wealth': 26057, '▁solidarity': 28370, '▁automat': 7791, '▁12': 586, 'walker': 24063, 'moto': 11188, '▁tarziu': 27854, '/8': 9483, '▁typically': 3115, '▁Mehr': 11093, '▁acute': 12498, 'ени': 21302, '2001': 23658, '▁Anchor': 25874, '▁constient': 30011, 'arna': 15918, '▁offense': 10753, '▁admitted': 10246, 'National': 24732, 'vermögen': 29954, '▁Brook': 9083, '▁officials': 4298, '▁ceiling': 5020, 'Trans': 18474, '▁investiții': 30773, '▁ride': 2564, 'kan': 3304, '▁flare': 21803, '▁Format': 12439, '▁global': 1252, '▁victime': 16017, 'wolf': 19747, '▁Entre': 22908, 'lichen': 2978, '▁potentiel': 19341, '▁Directory': 20059, '▁neglected': 23708, '▁cabinets': 8684, '▁Loft': 29355, '▁hundreds': 3986, 'arra': 10116, 'technology': 18485, '▁browser': 3509, 'crumbs': 28146, 'PM': 6218, '▁locaux': 18129, 'five': 16443, 'disposed': 24830, '▁autorităţil': 28990, '▁£2': 17586, '▁Pirate': 18667, '▁Panther': 21149, '▁outbreak': 22494, '▁musée': 23133, '▁examination': 6498, '▁suprafaţ': 31498, '▁books': 1335, '▁added': 974, '▁flows': 14428, '▁$14': 26845, '▁certification': 5151, '▁odds': 11007, '▁enforcement': 7961, '▁Smooth': 23128, '▁Corinthians': 31773, '▁bal': 6561, '▁office': 828, '▁document': 1708, '▁Reinigung': 21848, '▁reunion': 22774, '▁Stoke': 28089, '▁accus': 17316, '▁viruses': 19601, 'obligate': 30273, '▁Luxury': 17426, '▁jobs': 2476, 'Roc': 28649, '▁contention': 29205, 'mä': 15018, 'CK': 10459, '▁Neuro': 11574, '▁assess': 6570, '!”': 6810, 'vier': 5144, '▁Alzheimer': 16434, 'staat': 22554, '▁vorhanden': 12819, 'presumably': 24745, '▁invoke': 26914, '▁Blessed': 29992, '▁Klu': 30035, '▁back': 223, '▁FA': 8536, 'plikation': 30049, 'ric': 2234, '▁monitor': 3393, '▁Marilyn': 31246, '▁flour': 7055, '▁Fiber': 22505, '▁menu': 2285, '▁industriel': 22414, '▁distress': 19285, '4.2': 19765, 'avais': 11277, 'beziehung': 24931, 'ile': 699, 'mud': 11557, '▁oppos': 10720, 'ités': 8599, '▁1900': 19036, 'tagen': 22380, '▁magazine': 3835, '▁forgiveness': 22630, 'lösung': 15033, '▁mich': 2278, '▁peinture': 18853, 'ected': 7633, '▁Coleman': 27235, '▁Problem': 5289, 'HAR': 25430, '▁Ren': 4965, '▁achievement': 10970, '▁repeatedly': 16049, '▁Fach': 6695, '▁improvement': 4179, '▁draft': 6488, 'range': 5517, '▁build': 918, 'ează': 1613, '▁Sim': 6619, 'gesellschaft': 16852, 'fan': 12351, 'fab': 12644, 'Sollte': 15900, '▁gewünschte': 24054, '▁Samantha': 29298, '▁forward': 1039, '▁opens': 9540, '▁télécharger': 25884, '▁customized': 8444, '▁considered': 1702, '▁23,': 12992, '▁superbe': 20934, '▁Old': 3525, '▁Vertrags': 17787, '▁exemple': 5300, '▁inquiry': 15736, '▁Cruz': 17714, '▁Database': 20230, '▁armor': 18750, '▁langsam': 20194, '▁Guatemala': 25527, 'aci': 4268, '▁roller': 10866, '▁gern': 17390, '▁quartz': 16380, 'Asadar': 29988, '▁monsieur': 30643, 'owohl': 11413, 'iser': 4901, '▁hell': 7927, 'script': 11815, '▁Cambodia': 25585, '▁Traffic': 19273, '▁Female': 27144, '▁Timișoara': 28481, '▁Konsequenz': 31391, '▁pă': 9772, 'chro': 10363, '▁trouble': 3169, '▁Systems': 5479, '▁ignorance': 26557, '▁Hyper': 15889, '▁inferior': 23447, '▁surfing': 21061, '▁adopted': 7546, '▁sixth': 13305, '▁mé': 7696, '▁Update': 6130, '▁scăzut': 24794, '▁restauration': 28284, '▁Route': 11198, '′′': 7079, '▁laisser': 13783, '▁fixtures': 14613, '▁citat': 26089, '▁exercising': 22668, 'cultivated': 27667, '▁Option': 10231, '▁Help': 5090, 'statutory': 20979, 'Array': 30652, '▁changing': 2839, '▁blessed': 11320, '▁Forest': 6944, '▁Dress': 12169, '▁Guest': 14252, 'adherence': 28909, '▁Nicht': 7989, '▁curious': 9865, 'mol': 4641, '▁angepasst': 26521, 'migran': 12549, '▁controls': 7415, 'sweet': 23392, 'rnie': 23752, '▁Kathy': 25834, '▁partition': 16540, '▁Eden': 21319, 'Versicherung': 24591, 'Dienstleistungen': 25121, '▁pereche': 28524, '▁Registered': 23889, '▁reviste': 30331, '▁mushrooms': 20047, '▁juxtapos': 31906, '▁occasion': 5333, '▁Cartoon': 31074, '▁captain': 14268, '▁Engineer': 11597, '▁Dur': 8633, 'Louis': 28365, '▁Branch': 14009, '▁faci': 7076, '▁links': 2416, '▁plaj': 21005, '▁Beck': 9864, '▁Myanmar': 27274, '▁Flood': 28391, 'Lastly': 19807, '▁Po': 1908, '▁sponsorship': 19284, '▁laboratories': 25642, '▁Diver': 22264, '▁Vorstand': 18132, '▁Yacht': 26397, '▁reclam': 16263, 'bil': 3727, 'Aceasta': 9721, '▁Airport': 5735, 'raw': 10936, '▁Sinai': 29554, '▁intra': 6344, 'gramm': 16582, 'ager': 9754, 'abhängig': 19006, '▁acts': 6775, 'angle': 13247, '▁capacité': 12333, '▁Medal': 20002, '▁Comment': 5257, '▁entdecken': 22865, '▁Satan': 22627, '▁Mormon': 29718, 'good': 10452, '▁socialist': 23737, 'synchron': 15977, '▁measurements': 11110, '▁faut': 3189, 'ibilité': 17609, 'kohl': 24850, '7:00': 18735, '▁Chicago': 3715, '▁anomal': 23236, '328': 28070, '▁participat': 15936, 'NES': 16560, 'dozens': 14903, '▁depart': 15407, '▁Bingo': 26837, '▁predominant': 31990, '▁A': 71, '▁abroad': 7979, '▁Hockey': 23127, '▁poses': 15968, '▁entgegen': 20060, '▁purpose': 1730, '▁payroll': 18456, 'register': 22149, 'wiesen': 24164, 'rophy': 29006, '▁lumina': 12777, '▁formularul': 29479, 'num': 5525, 'lange': 11327, '▁violation': 12374, '▁any': 136, '▁Erik': 21173, '▁aerial': 22142, '▁regularly': 3842, '▁Grill': 11004, '▁ausgestattet': 18470, '▁Nature': 7913, '▁omului': 21868, '▁WILL': 16309, '▁pace': 4974, 'xton': 20706, 'SV': 7416, '▁Afin': 24585, 'utoritatea': 29922, 'duc': 4817, '▁Informationen': 4713, '▁caution': 14291, '▁gener': 11467, '▁arterial': 27970, '▁traveled': 15458, '▁Edmonton': 26485, 'tägliche': 28129, '▁Dictionary': 28767, 'rocky': 26019, 'lets': 7677, '▁adaptation': 14340, 'name': 4350, 'riz': 13266, '▁Praxis': 13088, '▁dvs': 10189, '▁urme': 22025, '▁perdu': 18568, '▁recruit': 11474, '▁impaired': 23484, 'clairement': 26921, '▁Sussex': 27214, '▁Lemon': 21871, 'mé': 5079, '▁purtat': 23047, '▁pumps': 16646, '▁formă': 19389, '▁Flugzeug': 30702, 'Just': 19969, '▁semantic': 27632, '▁intelligent': 7951, '▁multe': 1654, 'hian': 29022, 'AST': 12510, 'SN': 8544, '▁demonstr': 13191, '▁El': 1289, 'erlebnis': 28336, '▁allergy': 23886, '▁Collection': 6767, '▁Montreal': 17219, '▁railroad': 21666, '▁Unique': 16126, '▁judgement': 22555, 'stretches': 22562, '▁diagnosis': 8209, '▁également': 2220, '▁Phase': 12559, '▁Console': 27513, '▁Platinum': 20954, '▁Zubehör': 28151, '▁Declaration': 28449, '▁Sexual': 30908, 'oli': 4172, 'armed': 8715, '▁comprend': 16904, '▁grout': 26944, '1-3': 16737, '▁pământ': 19940, 'money': 28442, '▁canvas': 10788, '▁airline': 11545, 'ack': 4365, '▁24-': 12371, '▁Same': 17205, 'gegen': 20094, '▁Einstellung': 22605, '▁recherch': 23014, 'park': 6334, 'linked': 29000, 'Millennial': 29702, 'gebrochen': 30563, '▁proactive': 20561, '▁poetic': 25614, 'administr': 9571, '▁Schmidt': 24100, 'literatur': 22973, 'aire': 2378, '▁Himself': 29358, '▁reasonably': 13145, '▁Responsible': 29088, '▁remedy': 16139, '▁sarbatori': 30074, '▁feast': 18886, '▁Clickfunnel': 31399, '▁Funktionen': 20337, '▁prefer': 2396, 'electrique': 30396, 'hier': 18098, '▁ja': 2662, '▁atât': 4690, '▁Alexandr': 10457, '▁excel': 11197, '▁recovered': 16599, '▁$0.': 20324, 'mécanisme': 28874, '▁cylindrical': 31881, 'cultura': 17580, '▁pret': 7140, '▁Winter': 4272, '▁orthopedic': 31501, '▁detailing': 20185, '▁fellow': 4999, '▁Lounge': 18854, '▁verstehen': 19163, '▁volcano': 23257, '▁High': 1592, '▁differently': 10302, '▁Sin': 8271, '▁solutii': 23653, '▁Prüfung': 19430, '▁proprii': 15844, '▁turkey': 15306, '▁Abbott': 31592, '▁theatrical': 26553, 'Digital': 30225, '▁Cornell': 28757, 'bus': 3465, '▁primar': 13091, 'hal': 3828, 'lake': 16948, '▁Manage': 19607, '▁acoperi': 13603, '▁Minor': 20650, '▁amortiz': 31414, '▁feeding': 10795, 'AO': 17249, '▁refined': 16097, '▁notable': 14538, '▁recomand': 18324, '▁Ils': 7503, 'lorsque': 10573, 'uddle': 25076, '<extra_id_64>': 32035, '▁fulfillment': 24013, '▁Gas': 6435, '▁masiv': 28430, 'unused': 23273, '▁celebration': 5216, '▁harsh': 11955, '▁Kim': 6777, '▁2014.': 5832, '▁sensation': 9118, '▁Winner': 18125, 'ATA': 19282, '▁Der': 660, 'fertig': 8741, '▁editor': 6005, '▁annoyed': 30276, 'stehenden': 18747, '▁hauptsächlich': 30039, '▁gates': 18975, '▁foster': 11313, 'john': 27341, '▁condiți': 31617, '▁Window': 13621, '▁efficiency': 3949, '▁rămas': 17808, '▁ignored': 14986, 'accès': 8080, 'pathetic': 27826, '▁vieille': 29173, '▁choisi': 11283, 'chèque': 29227, '▁view': 903, '▁idle': 26592, 'schleunig': 31203, '▁Castro': 28728, '▁Warning': 26826, 'sortiment': 31114, 'DV': 13529, 'triggered': 18728, '▁leichter': 23957, '▁Fisher': 14639, 'companiilor': 28238, '▁shares': 4776, '▁sequential': 29372, '▁cantitati': 30292, 'omato': 23926, 'j': 354, 'enrolled': 15097, '▁Fame': 20758, '▁aggressive': 8299, '▁earrings': 20783, '▁recruited': 26870, '▁gewesen': 16570, '▁Ranch': 17743, '▁doua': 3675, '▁cautious': 20917, '▁hin': 3811, '▁neither': 7598, 'Personalized': 30392, 'RET': 27514, '▁Being': 5301, '▁contradiction': 27252, '▁cuprins': 24769, 'registr': 5200, 'espèce': 19683, '▁macro': 11663, '▁Parents': 15921, '5.1': 20519, '▁standalone': 27162, '▁race': 1964, '▁recev': 25418, '▁floss': 28772, '▁When': 366, '▁photos': 1302, '▁something': 424, '▁minute': 1962, '▁schneller': 20011, 'nommée': 30467, 'trove': 31453, '▁loyal': 14020, '▁promis': 21674, '▁bore': 18033, '▁Crypto': 25755, '<extra_id_59>': 32040, '▁loves': 5682, '▁walking': 3214, '▁résistance': 24946, 'Be': 2703, '▁courrier': 27732, '▁Fool': 31593, '▁Schle': 19461, 'irri': 16827, '▁Frankreich': 25344, '▁Eli': 7495, '▁nostalgia': 30099, 'hull': 22699, 'pres': 7197, 'destinate': 30530, '▁werden': 404, '▁profil': 9639, '▁prosperity': 21571, '▁queries': 13154, '▁dureaz': 30231, 'matched': 10304, '0.00': 10667, '▁diy': 20657, '▁Edgar': 27151, '▁Payment': 12248, '2016': 11505, '▁Instruction': 21035, 'level': 4563, 'aged': 11438, '▁pellet': 25540, '▁HBO': 27534, '▁comerciale': 21371, '▁Spanish': 5093, '▁expus': 27842, 'Martin': 29838, 'Assad': 27409, '▁MA': 4800, 'arbeit': 5269, '▁încet': 23408, '▁emerged': 13999, '▁Awesome': 13685, '▁castig': 14076, '▁pitches': 26484, 'médi': 12986, '▁Far': 5186, '▁headquarters': 13767, '▁persistent': 15803, 'Plan': 17373, '▁bunch': 7292, '▁Ter': 9934, '▁weiteren': 10606, '▁export': 4202, '▁deine': 5922, '▁legislation': 6704, '▁pirate': 19910, '▁Easter': 8896, '▁gewinnen': 18424, '▁selling': 3014, 'cor': 5715, '▁optimiz': 19769, 'fact': 8717, '▁anybody': 13112, 'UCH': 20314, '▁cattle': 17941, '▁tart': 14981, 'älfte': 20577, '▁sânge': 20998, '▁din': 176, '▁corect': 8442, '▁formulation': 20029, '▁legislature': 25606, '▁1-': 8218, 'breite': 13563, 'MW': 16027, 'fall': 2857, '▁PS': 5610, '▁cristal': 25318, 'har': 3272, '▁fr': 2515, '▁modeling': 15309, '▁decline': 7198, '▁trans': 3017, '▁actuellement': 18205, '▁artistic': 7235, 'lub': 11158, '▁Strategic': 20062, '▁butterfly': 23337, '▁Digitalisierung': 29934, '▁requires': 2311, '▁heck': 24783, '0': 632, '▁themes': 8334, '▁compte': 3908, 'NY': 12056, '▁genera': 17993, 'thighs': 28071, '▁Ressourcen': 28114, '▁M': 283, '▁Saving': 19063, 'library': 31866, '▁specimen': 19622, 'exception': 26286, '▁soziale': 23450, '▁Lucky': 21678, '▁currently': 1083, 'Astăzi': 29048, '▁con': 975, '▁partid': 10489, '▁hohe': 8604, 'los': 2298, '▁cardio': 16216, '▁liefert': 25122, '<extra_id_55>': 32044, '▁systematic': 20036, '▁prejudice': 25244, 'igueur': 22238, '▁by': 57, '▁delta': 25110, '▁contemplat': 14017, 'ell': 3820, '▁Configur': 25306, '▁inconsistent': 26608, '▁Photos': 15394, '▁customizable': 23834, 'shake': 25589, 'ografia': 31361, '▁Nixon': 30506, '▁donor': 18936, '▁players': 1508, '▁nightmare': 19400, '▁lakes': 17721, '▁Businesses': 25537, '▁Rob': 5376, '▁barn': 13754, '▁concealed': 27972, '▁întâmpin': 31658, '▁sensitive': 6280, 'pri': 2246, '▁Seg': 15696, '▁Monaten': 19530, 'EU': 12062, '▁certificat': 18564, 'iding': 12469, 'lactic': 22884, '▁vintage': 5917, '▁Reparatur': 28681, '▁policies': 3101, 'prenez': 25257, '▁thing': 589, '▁Cheap': 13193, 'fax': 11517, 'tanz': 14137, '▁African': 3850, '95': 3301, 'wag': 15238, '▁cigar': 24766, '▁amend': 14545, '▁embrace': 9599, '▁daughter': 3062, '▁Walt': 14591, '▁CFR': 26257, '▁peel': 14517, '▁vrei': 12350, 'viziune': 26543, '▁anatomy': 27782, 'watch': 9237, '▁installation': 2545, '▁fleur': 14035, 'compatible': 25383, '▁curse': 19375, '▁48': 4678, 'actu': 18141, '▁medicamente': 23197, 'phase': 14353, 'tinde': 16151, '▁pelvi': 29106, 'bezüglich': 26915, 'ehlt': 29279, '▁Christina': 26378, '▁gegründet': 21158, '▁Massiv': 29973, '5.5': 15938, '▁murit': 23286, 'Next': 26934, '▁clădire': 31774, '2012': 12172, '▁vorher': 13952, '▁french': 20609, '8': 927, 'clair': 7997, 'euil': 16561, '▁européen': 18779, '▁Alice': 13390, 'celaşi': 22448, '▁endeavour': 25654, '▁1937': 27456, '▁Infant': 28405, '▁sexual': 6949, '▁Senior': 5523, '▁Salz': 19887, '▁Theatre': 8210, 'gang': 3810, 'km': 5848, '▁relative': 5237, '▁Um': 2432, '▁melodi': 15391, '▁uniquely': 19328, '46': 4448, 'ständige': 20569, '▁juge': 21399, 'rträge': 22957, '▁$150': 25689, '▁dentist': 8370, '▁charities': 20088, 'Nummer': 22651, '▁promised': 11130, '▁dedication': 12365, '▁allocate': 28974, 'chließlich': 27878, 'wasser': 9292, '▁involve': 7789, 'geliefert': 20900, '▁Conseil': 13318, 'preserving': 22140, 'starken': 24733, '▁Scholarship': 18889, '▁trotzdem': 18031, '▁déposé': 28321, '▁ranks': 13799, '▁calculation': 18643, 'leader': 22900, '▁$': 1514, 'sprache': 19107, '▁Weiß': 20498, 'dding': 7249, '▁Rental': 14157, '▁darker': 19752, '▁filmmaker': 21075, '▁défaut': 21083, '▁Irish': 7262, '▁1961': 21018, 'Angleterre': 31935, '▁sandal': 20701, 'indicating': 15716, '1/2': 17637, '▁White': 1945, '-5': 4525, 'angebot': 20366, 'PJ': 23953, '▁attributes': 12978, 'voi': 15682, '▁normal': 1389, '▁Flip': 21599, '▁Lake': 2154, '▁chocolate': 3711, '▁higher': 1146, '▁Rider': 25218, '▁Denver': 12154, '▁4-': 7769, 'WD': 17698, '▁chambres': 18357, '▁supérieur': 15606, '▁proceedings': 13339, 'fenster': 25524, '▁Wur': 22977, '▁Oil': 6067, '▁hospice': 31258, 'Kaufentscheidung': 31764, '▁Measure': 16317, '▁model': 825, '▁chili': 19245, '1': 536, '26': 2688, '▁Tam': 10903, '▁récit': 26274, '▁ceilalti': 29692, '▁Electro': 18597, '▁Squad': 28935, '▁Beatles': 27615, '▁Einsatz': 6818, '▁gamme': 10994, '▁measured': 8413, '▁reprezintă': 12789, '▁played': 1944, 'aparatul': 31357, '▁haut': 7438, 'Normally': 23079, '▁incorpor': 21817, '▁Pizza': 15365, '▁Food': 3139, '▁steering': 15360, '▁aucun': 10349, '▁Treffen': 29008, '<extra_id_3>': 32096, 'kleid': 22841, '▁Guitar': 23176, 'ionar': 25725, '▁Crystal': 12961, '▁pipes': 14874, '▁facture': 25497, '▁warrant': 11741, '▁printer': 6454, 'besides': 15262, '▁eventually': 3725, '▁26': 2208, '▁Homeland': 31032, '▁homemade': 13178, 'weiligen': 15455, '▁parliament': 20417, 'drywall': 30589, '...\"': 10011, '▁Alan': 12453, '▁infrastructure': 3620, '▁analytical': 18355, 'lichkeit': 9788, '▁10-15': 25446, '▁vermittelt': 27384, 'ologist': 9290, '▁Parent': 17075, '▁Jamaica': 21450, 'Exp': 12882, 'sewage': 30503, '▁Kids': 7148, 'BJP': 28065, 'bodied': 29695, '▁packet': 13531, '▁filing': 9479, '▁download': 946, '▁Stimme': 20668, '▁Bour': 12933, '▁nostru': 5662, '▁Național': 15681, '▁Katie': 20413, '▁slujb': 27996, '▁lourd': 21833, '▁Lieblings': 21046, '▁linii': 26620, 'ţara': 29561, 'abilă': 16460, 'çant': 21379, '▁Decor': 15747, '▁Scha': 11450, 'put': 2562, '▁moins': 3000, 'ajul': 10614, '▁înainte': 7950, '▁individuell': 20729, '▁PLA': 17501, '▁syndicat': 23608, 'disciplina': 27129, '▁außergewöhnlich': 30205, '▁operates': 10291, '▁whisk': 14242, '▁semi': 4772, '▁online': 367, '▁circular': 15646, '▁disruptive': 27582, 'dazzling': 29299, '▁neîn': 28525, 'mittel': 5401, '▁envy': 30312, 'ţele': 9093, '74': 4581, 'roasted': 17408, 'AW': 9851, '▁oamenilor': 17437, '▁uncle': 20811, '▁Liege': 28816, '81': 4959, 'down': 3035, '▁erreichen': 10870, 'etty': 16142, '▁arbitr': 17834, '▁mortar': 23812, 'cumva': 25455, '▁Comp': 4961, 'metric': 7959, '▁Situation': 15494, '▁cert': 12276, '▁moved': 2301, '▁Full': 4043, '▁hochwertige': 13174, '▁Coco': 20014, '▁remains': 3048, '▁Hernandez': 31765, '▁Brick': 21596, 'empel': 29605, '▁blanc': 8753, '▁CO': 2847, 'otti': 22334, 'zen': 1847, 'nger': 9369, '▁Kate': 11845, '▁instance': 3421, 'kel': 5768, '▁analize': 22531, '▁destruction': 11203, 'mounted': 22983, '▁troop': 28784, '▁Miranda': 31714, '6-4': 25618, '▁troupe': 27791, '▁strictly': 15154, 'inter': 3870, '▁filtr': 15775, '53': 4867, '▁fatal': 12699, '▁Ministerul': 17036, 'acco': 21007, '▁intre': 4282, '▁parks': 9307, '▁longevity': 24473, 'before': 26116, 'permeabil': 31970, '▁capability': 9004, '▁Surf': 18761, '▁întâmplat': 28136, '▁clouds': 15328, '▁increasingly': 5684, '▁$200': 19503, '▁Frontier': 23285, '▁mascara': 30551, '▁consent': 6641, '▁developing': 2421, '▁whenever': 5604, '▁refreshments': 29311, '▁Güte': 29579, 'MF': 13286, 'morph': 8886, '▁souvenir': 14422, '▁purposes': 3659, '▁mention': 2652, 'm': 51, '▁shot': 2538, '▁modifier': 21090, 'yland': 28900, '▁coloring': 7089, '▁gasoline': 24456, '▁registration': 3816, '▁AMD': 22806, 'iques': 5125, '▁Mihai': 13664, 'looking': 10119, '▁steak': 17718, 'мо': 21025, 'Proiectul': 25882, 'niveaux': 23994, '▁habituel': 25765, 'clam': 12818, '▁Respect': 26795, '▁beside': 14898, '▁garne': 22639, 'ministerium': 27663, '▁zu': 170, '▁accommodate': 6563, '▁somewhere': 5775, '▁portions': 17622, '▁Ultima': 26668, '▁langa': 13624, '▁NATO': 17873, 'ar': 291, 'praised': 24266, 'Not': 10358, '▁Kol': 12561, '▁dunkel': 31169, '▁Easy': 6844, '▁surpass': 25678, '▁suprafaț': 30144, 'exerce': 31992, 'cloth': 21974, '▁Karl': 12345, '▁screens': 12005, '”': 153, '▁21': 1401, '▁Concern': 21508, '▁nouveau': 4825, '▁Kwa': 30710, 'Occident': 30583, '▁VAT': 19569, 'nourishe': 31991, 'schutz': 5862, '▁Anschluss': 18468, '▁Blend': 17693, '▁Betracht': 26584, '▁emblem': 26919, '▁Students': 4375, 'ATH': 24786, '99%': 21962, 'curi': 9659, '▁forgive': 17468, '▁Transformation': 25008, '▁flu': 6720, 'aste': 8323, 'cigarette': 19668, 'rland': 7721, '▁Brush': 21885, 'krieg': 22856, '▁Technical': 10728, '▁telefoane': 26772, '▁sorrow': 27225, '▁continuity': 23534, '▁Coupe': 21100, '▁conclusion': 7489, '▁ball': 1996, '▁Silver': 5642, 'gesundheit': 27079, '▁appraise': 29119, 'maladies': 30194, 'cid': 10812, '▁apel': 10895, 'liv': 20580, '▁Package': 14815, 'glu': 13492, 'cărui': 18361, 'femi': 29480, 'oilea': 24545, '▁Land': 2216, '▁stream': 6093, '▁mice': 13214, '▁sufficiently': 23750, 'coding': 9886, 'UB': 10134, '▁Their': 2940, '▁battery': 3322, '▁yield': 6339, '▁votre': 618, '▁Client': 6371, '▁encryption': 19849, 'trip': 14192, '▁întâmplă': 21547, '▁satisfactory': 25140, '-30': 10086, '▁permet': 2933, '▁jour': 3367, 'cons': 8056, '▁skill': 4359, '▁Buddy': 27289, '75': 3072, 'keeper': 10477, 'Hundreds': 29759, 'gorge': 22310, '▁Insert': 28953, '▁Minneapolis': 23732, '▁tortilla': 25592, 'regulation': 27522, '▁hierarchy': 25515, 'lage': 4855, 'Link': 15272, '▁discourse': 22739, 'taxable': 28665, 'One': 10723, '▁pink': 5571, 'ICI': 18316, '▁Grav': 15199, '▁Fans': 15353, 'Eigentlich': 31748, 'ution': 14548, 'argues': 27442, 'Dieser': 8914, '▁consciousness': 13645, '▁avoid': 1792, '▁Aroma': 24293, '......': 14125, '▁termen': 8216, '▁Seat': 15915, '▁epi': 9241, '▁Panda': 28248, '▁sentences': 16513, 'drafted': 23505, '▁mici': 6148, '▁bronze': 13467, '▁dire': 5794, 'messen': 14202, '4%': 5988, '▁2008': 2628, '▁nobody': 12638, 'rendu': 15750, 'freien': 18661, '▁crezut': 30086, 'Glu': 21597, '▁Franco': 20439, '▁Push': 20761, '▁she': 255, '▁Fein': 20315, '▁26,': 13597, '▁Geschichte': 7911, '▁urgency': 27844, '▁Cal': 3104, '▁fünf': 9854, 'nummer': 21676, '▁wrinkle': 19041, 'gelassen': 20659, '▁unwilling': 28963, 'celul': 27136, 'éna': 15958, '▁cataract': 31472, '▁minimize': 10558, 'electric': 17470, '▁Sicil': 29250, '▁basketball': 8498, '▁decis': 18135, '▁cât': 3364, '▁psychology': 14153, '▁Blank': 23551, '▁tard': 11112, 'verted': 19825, '▁concurs': 12112, 'stepped': 14417, 'dün': 22592, '▁lucrative': 26428, '▁1956': 22951, 'ological': 4478, '▁analyze': 8341, '▁Bă': 15048, '▁watching': 3355, 'Objekt': 18589, 'close': 16221, '▁constrain': 27354, '▁(2016)': 26228, '▁mele': 12442, '▁2016,': 5123, '▁Pont': 13886, '▁diamond': 7097, 'ktor': 10377, '▁Wahl': 8403, '▁weakness': 18724, '▁salle': 4762, 'wohn': 7684, '▁momentul': 7976, '▁Hawk': 12833, '▁heel': 19770, 'fil': 8027, '▁Witt': 22632, '▁vergessen': 20769, '▁spark': 13233, '▁designing': 8296, '▁relève': 28627, '▁SUPER': 29640, '▁supplies': 4471, '▁gray': 9954, '▁payment': 1942, '08': 4018, '▁efficace': 10899, 'ku': 2729, '▁Per': 1915, '▁Dinge': 13367, '▁binary': 14865, 'this': 8048, 'Veg': 22979, '▁ecosystem': 10789, '▁Christoph': 21949, 'curând': 28678, 'also': 13208, 'exhibiting': 30436, '▁garant': 16760, '▁nuclear': 6414, '▁Pinot': 29520, '▁Bei': 1821, '▁chronological': 31803, 'bel': 2370, 'ooze': 27561, 'brow': 14853, '▁intrigued': 27906, '▁fehlt': 23275, '▁Plant': 6041, 'STI': 23465, '▁fridge': 11416, '▁Sak': 23499, '▁Exeter': 31851, 'TIC': 18679, '▁Verbesserung': 24021, '▁evacuate': 29766, '▁opera': 6329, 'uplifting': 30444, '▁Mik': 21475, 'voicing': 31919, '▁employee': 3490, 'ch': 524, '▁Idee': 13146, '▁want': 241, '2-1': 17234, '▁offered': 1860, '▁recognise': 16236, '▁fever': 17055, '404': 25285, 'Default': 29509, '▁acestei': 8289, '▁spectrum': 10113, 'essen': 8185, '▁Dakota': 16711, '▁împlin': 24132, '▁Comprehensive': 25720, 'denkt': 29180, 'rata': 9300, '▁Gewalt': 25484, '▁Fehler': 16271, '▁Tuscan': 28488, 'finanzielle': 31209, '▁Wach': 27228, 'Tutor': 28676, '▁Kabel': 23987, '▁Clinical': 14067, 'aller': 11211, '▁supervise': 28917, 'market': 8809, '▁satellite': 7605, '▁Lauren': 9906, '▁Gaz': 16709, 'Ainsi': 13040, 'grown': 20086, '▁entspannt': 26967, '▁opposite': 6401, '▁bună': 8061, '▁slider': 23676, 'cite': 8464, 'bezogen': 22753, '▁convertible': 24447, '▁clôtur': 30795, '▁heureux': 24618, '▁ansprechen': 30188, '▁proposition': 12491, '▁miliarde': 20178, '▁stattfinden': 28859, '▁presence': 3053, '▁piscin': 29899, '139': 24090, '▁4.': 2853, '▁collectivités': 31138, '▁packing': 12935, '▁Pic': 11000, 'innovation': 23457, '▁Austausch': 25899, 'ра': 7948, '▁apple': 8947, 'acheter': 13541, '▁challenging': 4421, '▁Certificate': 11305, '▁Pipe': 15135, 'boosting': 24220, 'cooled': 22964, '▁Rice': 16869, '▁Andy': 12838, '▁shorter': 10951, '▁problematic': 19574, '▁improving': 4863, '▁Japon': 20946, '▁studenți': 29710, '▁baseball': 9600, 'would': 30947, 'van': 2132, '▁Prince': 9027, '▁rezistent': 16220, '▁Personal': 4239, '▁glad': 3755, '▁efficiently': 8877, '▁intimacy': 31249, 'Physio': 23009, '▁défense': 22268, '▁voters': 10861, '▁reef': 21684, '▁Durham': 25215, '▁Fin': 7430, '▁autonomy': 29007, '▁Virtu': 31180, '▁Bert': 20612, '▁1991': 9957, 'izate': 10421, '▁Sept': 10449, '▁beginnen': 22096, '▁Hardware': 19982, '▁preced': 20799, '▁none': 5839, '▁Vince': 26980, '▁knob': 26806, '▁fry': 22445, 'recettes': 28208, '▁telefonisch': 28587, '▁Exchange': 8231, '▁unexpected': 7544, '▁continuă': 19823, 'esti': 3340, '▁Bordeaux': 20820, '▁Olympic': 11548, '▁Innovation': 8268, '▁Trinidad': 31751, '▁iPad': 6250, '▁recharge': 16489, '▁Widerstand': 31785, '▁Legend': 13637, 'lac': 9700, '▁ecological': 19517, 'ABA': 23719, 'empowering': 23988, '▁semn': 8824, '▁Circle': 15697, 'де': 19473, 'indre': 20292, 'lade': 14712, '▁Strand': 17060, 'worthy': 20139, 'did': 12416, '▁Art': 1261, 'arg': 8240, 'metabol': 27787, '▁Ministries': 31458, 'Keep': 31946, '▁Parker': 13156, '▁interessante': 19130, '▁creat': 8830, '▁shipping': 3365, '▁stratégie': 17295, '▁Fourth': 21670, '\")': 8512, 'ем': 25083, '▁Ki': 4320, '▁handset': 26331, 'Vous': 1930, '▁cryptocurrency': 19432, '▁dig': 9799, '▁Mediterranean': 15481, 'wire': 12931, '▁mulţi': 18401, '▁SITE': 23519, '▁enrich': 12812, '▁Peut': 26858, 'atteinte': 30780, '▁öffentlich': 18432, '▁Like': 2792, '▁framework': 4732, '▁counts': 12052, '▁heading': 6904, '▁processus': 14381, '▁Service': 1387, 'Qu': 5991, 'continent': 27339, 'KB': 17827, '▁lid': 12533, 'requête': 26528, '▁25,': 14105, '▁shout': 14314, 'leagă': 26446, '▁Schmuck': 29185, 'Economie': 31113, '▁Results': 12772, '▁sticking': 20145, 'decât': 5060, '▁Lancaster': 27830, '▁oasis': 30429, '▁acceler': 25421, '▁grown': 4503, 'variété': 26430, 'occupe': 19700, '▁Rand': 11377, '▁hinweg': 29671, '▁organized': 4997, 'responsables': 30084, 'écrite': 31370, '▁canton': 26652, '▁Ken': 5704, 'actual': 25481, '▁român': 9558, 'Gra': 4744, '▁coup': 4897, '▁clearing': 19390, 'atter': 12828, '▁Poetry': 25085, '▁cultură': 30151, 'gelesen': 22005, '▁walk': 1482, '▁Todd': 17607, 'IST': 13582, '▁amended': 21012, '▁VMware': 26285, 'paid': 12760, '▁GmbH': 7635, '▁Sister': 16522, '▁imitation': 30815, '▁George': 3080, '▁of': 13, 'gruppen': 18477, 'runde': 14483, '▁Romney': 28868, '▁pulp': 21237, 'ffen': 13602, '▁Teilnehmer': 10957, '▁Pump': 17337, '▁variant': 6826, '▁sfânt': 31645, '▁Dam': 10939, '▁prea': 4745, '0%': 6932, '▁meters': 8848, '▁Slot': 12094, '▁Fuß': 15023, '▁proximity': 16595, '▁rehearsal': 24691, '▁forfeit': 28475, '▁occurs': 6986, '<extra_id_65>': 32034, '▁cazare': 19859, '▁Roman': 3385, '▁LE': 9132, '▁perhaps': 2361, '▁are': 33, 'stan': 5627, 'Smith': 30077, '▁Sy': 5224, '▁firm': 1669, ')': 61, '▁Bul': 12455, '▁celui': 4694, '500,000': 23221, 'ignoring': 25975, 'whether': 26764, 'hugs': 31081, '▁wählen': 18230, 'Win': 18455, '▁Golf': 7063, '▁Amanda': 21542, '▁shaving': 29594, '▁upright': 23868, '▁gluten': 11217, 'ADA': 16759, '▁oben': 11135, 'touch': 17681, '▁redirect': 21975, '▁Battery': 20831, '▁sap': 16333, '▁discovered': 3883, '▁să': 246, 'gleich': 10600, 'inclusiv': 23099, '▁itself': 1402, '▁Palestine': 23846, '▁Technician': 26993, '▁percent': 1093, '▁Met': 8146, '▁Mega': 9947, '▁converted': 12069, 'GU': 13961, '▁operating': 2699, 'amour': 10691, 'logging': 12578, 'cott': 10405, '▁gratuite': 16673, '▁statements': 6643, '▁school': 496, '▁Bull': 10204, '▁Rot': 8704, '▁util': 10818, 'Emb': 17467, '▁Television': 21922, '▁exc': 11572, '▁Grammar': 30751, '▁realise': 14529, '▁Multumesc': 25570, '▁membre': 13924, 'hurst': 23765, '▁maybe': 2087, '▁Wohn': 8588, '▁1/3': 23061, '▁indulge': 22391, '▁kompetente': 29025, '▁discret': 19217, '▁jump': 4418, '▁jährlich': 24489, 'tinerii': 27651, '▁disciplines': 15015, '▁customization': 22039, '▁Rai': 13016, '▁Grad': 10771, 'următoarele': 29263, '▁Hook': 21896, '▁Zentral': 27143, '▁Körper': 7937, 'mod': 7360, '▁clase': 25062, '▁imprim': 13210, 'bron': 13711, '▁Range': 10971, 'BB': 7640, 'CAT': 18911, 'veranstaltung': 26140, '▁FULL': 27645, '▁rear': 4091, 'whose': 2544, 'vapor': 11373, 'drop': 15946, '▁whale': 18214, '▁therapies': 19571, 'rubbing': 27315, '▁fonctionne': 12945, '▁denn': 4140, '▁probably': 1077, '▁conseiller': 19316, 'isation': 2121, '▁Corporation': 6708, '▁Automat': 23672, '▁démocratie': 30962, '▁boot': 7378, '▁Furniture': 9724, 'niște': 21559, '▁solicitor': 24612, '▁parce': 9359, '▁neat': 10275, 'ateurs': 12552, '▁Guvernul': 25368, '▁reduced': 3915, 'Good': 20639, '▁Acquisition': 31713, '▁footwear': 23141, '▁ascunde': 31787, '▁invested': 11496, '▁Neo': 14404, '▁GUI': 24686, '▁prairie': 30631, '▁technological': 9974, '▁Empire': 12187, '▁peak': 6734, '▁sporting': 15157, '▁Kauf': 5736, 'RT': 5934, '▁SAS': 23614, '▁installer': 13184, 'Designed': 14454, '▁recunosc': 29150, '147': 24719, 'ses': 2260, '▁realizat': 8105, '▁metaphor': 21253, '▁Election': 19488, '▁azi': 11470, 'rely': 4610, '▁Ablauf': 27542, '▁He': 216, 'sure': 4334, '▁Secretary': 7471, '▁consecutive': 12096, '▁Living': 5753, '▁Abschluss': 15951, '▁Nursing': 17069, '▁Technique': 22222, '▁entreprises': 8713, '▁echilibr': 16053, '▁végétal': 28670, '▁Market': 3611, '▁Turn': 5527, '▁Himmel': 23537, 'OVER': 23288, 'whitening': 27270, '▁Comfort': 15930, 'ț': 4304, '▁commute': 16606, '-04': 18083, '▁belongs': 16952, '▁weeks': 1274, '<extra_id_49>': 32050, 'reihe': 25053, '▁unverbindlich': 31281, '▁Six': 7643, '▁Star': 2042, '▁comportement': 21499, '▁Response': 16361, 'ită': 5938, 'vo': 1621, '▁exhibitors': 31285, '▁danger': 5129, '▁kommt': 4287, '▁PO': 9915, '▁Movement': 19954, '▁chassis': 22836, '▁message': 1569, '▁organize': 7958, 'vert': 3027, '▁Hunt': 9550, '▁47': 10635, '<extra_id_53>': 32046, '2.000': 26756, '▁influence': 2860, '▁deschide': 16321, '▁Western': 3782, 'permalink': 11001, '▁factura': 27188, 'ST': 4209, 'scended': 28394, 'BP': 11165, '▁gallery': 4865, 'similar': 26714, '▁Dumitru': 31637, '▁relevant': 2193, 'ry': 651, '▁hotels': 5694, 'cute': 15835, '▁întâi': 28183, '▁restrict': 18395, '▁transpir': 28075, '▁Portugal': 12627, '▁Smith': 3931, 'Certains': 25952, 'pfen': 15910, '▁Officer': 6027, '▁Richmond': 17247, 'containing': 6443, 'ization': 1707, 'Asociația': 30842, '▁2': 204, '▁Risk': 14729, '▁rafina': 30422, '▁letters': 5487, 'lamp': 17121, '▁Einfach': 22968, '▁Tibet': 28920, 'UM': 6122, '▁Vent': 13713, '▁Loan': 12183, '▁slaughter': 27892, '▁exposé': 27921, '▁Gordon': 14626, '▁August': 1660, '▁déclare': 30474, '▁creditors': 25798, '▁Israel': 3352, '▁Bürger': 11726, '▁Morris': 12193, '▁lunar': 19920, 'Pack': 24376, '▁define': 6634, '▁Cir': 13054, 'keep': 20582, 'gger': 6938, 'lines': 6972, 'weit': 8351, 'Ch': 3541, 'inţa': 14062, '▁asociat': 17940, 'mik': 20068, '▁Satz': 20144, '▁autorizat': 24681, '▁Rap': 15052, '▁grants': 11133, '▁politische': 25251, '▁fiscal': 5043, '▁ramas': 19626, '▁Mal': 2148, '▁suspension': 9756, '▁Bookmark': 10465, '▁invité': 20271, '▁studio': 3100, '▁security': 1034, '▁exercises': 8998, '▁nap': 12522, '▁advancement': 14500, '▁Chi': 2695, '▁Logistics': 28107, '▁experience': 351, '▁Within': 8381, 'adjusting': 21604, '▁bărbat': 21738, '▁occupancy': 28225, '▁Cho': 6285, 'OTO': 22262, '▁Town': 4463, '▁partnerships': 13416, '▁définitive': 28274, '▁fast': 1006, '▁Public': 2575, 'Work': 12492, '▁Wenn': 2742, '?\"': 4609, '▁wishes': 9543, '▁Bennett': 23464, '▁recital': 30731, 'speaking': 26611, 'ecţia': 26964, 'adapt': 13376, 'elemente': 15619, '▁tailor': 13766, 'Applicants': 26727, '▁Julian': 20080, 'ambele': 19591, 'selon': 5928, '▁Burger': 23324, '▁Klima': 16765, 'diag': 25930, 'riot': 12884, '▁Martha': 21386, '▁Biology': 21211, 'Q': 2247, 'amintim': 31825, '▁gymnas': 23379, '▁volum': 15265, 'pong': 26142, '▁cell': 2358, '▁conceal': 23808, 'rom': 3522, '▁Betriebs': 14524, '▁confirmed': 5899, '▁buyer': 8001, '▁Raz': 22023, '▁erhöht': 21724, '▁strengthening': 18717, '▁Fal': 10747, '▁Laden': 23019, '▁axle': 28888, '▁postal': 19085, 'prüft': 26091, '▁celle': 7421, 'NIA': 26077, '▁rights': 2166, '▁luat': 7104, '▁enthusiasm': 14241, 'versammlung': 24174, '▁created': 990, '5,000': 5898, 'filled': 13827, '▁Boulevard': 24250, '▁Release': 13048, '▁Total': 9273, 'ised': 3375, '▁multitude': 16635, 'Lib': 14615, '▁attacker': 22600, 'Branche': 25709, 'KET': 27481, 'rau': 4565, '▁Polk': 27706, '▁entries': 10066, '▁garantiert': 23333, 'programm': 7050, '▁substances': 14072, '▁Shade': 25186, '1,': 4347, '▁ideas': 912, '▁releases': 10375, 'ifiziert': 18856, 'ntz': 26897, 'ocyte': 24339, '▁Badezimmer': 29683, 'cir': 15357, 'amide': 24216, '▁entitlement': 30053, '▁cheque': 27967, '▁addiction': 9189, 'Psych': 21513, 'vacancies': 22926, '▁overlook': 12244, '▁mower': 28727, '▁focused': 2937, 'that': 6279, '▁Bullet': 21906, '▁undergraduate': 12260, '▁vi': 5931, '▁prevail': 23990, '▁consist': 5608, '▁Numero': 25638, '▁instructed': 24088, '▁resources': 1438, '▁învăța': 27589, 'savory': 27802, '▁Critical': 23208, 'rewarded': 22303, '▁fiction': 8973, '▁acids': 15215, 'withdrawn': 28032, 'DAC': 24712, '▁disc': 5025, '▁Holy': 6679, '▁foam': 6910, '▁bridge': 4716, '▁pantry': 22408, 'oasa': 9154, 'paraître': 27117, '▁Forecast': 30175, '▁profitable': 13472, 'reprezentanţi': 30006, '▁Euch': 18387, '▁painting': 3924, '▁instructions': 3909, 'nächst': 10151, '▁Might': 23840, 'tribu': 5135, '▁furniture': 1991, '▁geplant': 18090, '▁each': 284, 'durch': 9025, 'Definitely': 21565, '▁Queen': 5286, '▁staging': 25522, '▁culturelle': 24413, '▁Handbook': 24980, 'bmw': 29471, '▁introduce': 4277, '▁2012': 1673, '▁simpli': 20746, '▁Bermuda': 30441, '▁Ya': 4701, 'enseignant': 20926, '▁figures': 5638, '▁alegeril': 23195, '▁kostenfrei': 29313, '▁cumpără': 28422, '▁Ansprechpartner': 30737, 'Kindle': 14703, '▁precious': 8989, '▁adept': 26721, '▁Rules': 16060, '▁ausdrücklich': 24351, '▁9': 668, 'metry': 17685, '▁existente': 25600, '▁insight': 6574, '▁noastră': 9574, 'IQ': 20835, '▁conversations': 9029, '89': 3914, 'hay': 12687, 'modernen': 30437, '▁Scar': 14586, '▁optisch': 28555, '▁straightforward': 11753, '▁provide': 370, 'wear': 7258, '▁stop': 1190, '▁Donna': 23469, 'Lizenz': 28118, '▁Februar': 17480, 'ajout': 16670, '▁husband': 2553, 'merkt': 21818, '▁works': 930, '▁geometric': 21910, '▁Barbie': 27945, 'Majoritatea': 30598, '▁park': 2447, '▁considère': 31424, '▁Superintendent': 30568, '▁electro': 9281, '▁lucrez': 24229, '▁într': 2413, 'vious': 19117, '▁achten': 21819, '▁contrôle': 10418, '▁Feuerwehr': 22528, '▁Cindy': 27960, 'nici': 7742, '▁throat': 17703, 'dumping': 30380, 'lieb': 8980, '▁language': 1612, '▁pou': 10964, '▁Autism': 27777, '▁Philippines': 12729, '▁unser': 5122, '▁retention': 14344, 'identité': 21595, '▁anunțat': 27234, '▁cat': 1712, '▁crochet': 20530, '▁Domain': 13979, '▁Baum': 19935, '▁Bericht': 19146, '▁Fair': 4506, '▁Sap': 25969, 'like': 2376, '▁Profit': 14717, '▁Freedom': 14179, '▁complément': 28271, '▁Proiect': 29432, '▁historically': 20160, '▁investigating': 17679, '▁intreb': 22088, 'indexed': 30564, '▁basement': 9987, 'aktiv': 15065, '▁users': 1105, 'ipped': 15437, '▁limit': 2006, '▁Schau': 11756, '▁seafood': 17102, '▁Latin': 6271, '▁clădiri': 27532, 'able': 179, '▁printable': 12354, '▁graduation': 14027, '▁condition': 1706, '▁botanical': 28560, '▁linked': 5229, '▁Turbo': 22299, 'Box': 16075, 'strand': 12797, '▁calendar': 4793, '▁contextual': 28131, 'ley': 1306, '▁turbine': 20784, 'DT': 12111, 'leiste': 22075, 'co': 509, 'INS': 14750, 'Histoire': 27385, '▁State': 1015, 'cular': 4866, 'Thousands': 29541, '▁daily': 1444, '▁casinos': 14596, '▁admit': 6264, 'respond': 18429, '▁aftermath': 26752, '▁freezer': 14243, '▁Rad': 6324, '▁Valley': 3460, 'system': 3734, '▁Universität': 16086, '▁External': 26241, 'saveur': 31704, '7,000': 18834, '▁steadi': 19983, '▁caci': 28352, '▁stark': 7133, 'étonnant': 31375, 'Print': 28592, 'ocupă': 26056, '▁proper': 2757, '▁avocado': 17507, '▁aware': 2718, 'HEN': 22735, 'ex': 994, '▁servers': 8379, '▁unmittelbar': 22292, '▁Wrap': 22553, '▁jeans': 14118, '▁Syracuse': 30482, '▁campus': 4730, '▁strikes': 17613, 'ant': 288, '60': 3328, '▁Even': 1441, '▁hundred': 6189, 'powered': 17124, 'pouvant': 22953, '▁promotions': 13320, '▁survived': 13928, 'NSA': 24114, '▁Frühling': 28154, '▁Shi': 4804, 'suing': 17180, 'Located': 8691, '▁alike': 9391, '▁promoted': 14742, '▁1957': 24011, '▁angajaţi': 31382, '▁oferi': 9061, 'letter': 16024, '▁muscular': 19671, '▁=': 3274, 'lysis': 21091, '▁Krebs': 28437, '▁ALL': 8229, 'tellement': 22616, 'away': 8006, '▁GT': 10188, '▁hot': 1312, '»': 3704, '▁Sachen': 22621, '▁pathway': 18013, 'yer': 7975, '▁découvrir': 7698, '▁zurück': 4204, 'ște': 7689, '▁sorry': 8032, '▁faszinieren': 31688, 'tig': 2880, 'actualité': 24990, '▁loyalty': 13260, '▁Bailey': 24042, '▁droite': 16872, '▁platter': 27811, '▁pastoral': 27213, '▁integrat': 20552, '▁Aviation': 22102, '▁Technik': 13204, '▁Patricia': 25630, '▁yogurt': 19168, 'émission': 18032, '▁advanced': 2496, '▁été': 1366, '▁adrenal': 23563, 'roll': 4046, 'ka': 1258, 'IN': 3162, '▁writer': 4346, '▁accomplish': 8582, '▁reporter': 17021, '▁Weltkrieg': 31131, '▁leisure': 12595, '▁play': 577, '▁possession': 8244, '<extra_id_41>': 32058, '▁Kenne': 16267, '▁uman': 12234, '▁disclosure': 12508, 'fällt': 14315, '▁meet': 942, 'ică': 3546, '▁pin': 4522, '▁servir': 19456, '▁petals': 29144, '▁legitimate': 12372, '▁Participants': 19204, 'video': 17241, '▁>': 2490, '▁merit': 7565, 'Shop': 16450, '▁Costume': 26663, '▁Bur': 4152, 'pay': 8832, '▁Länge': 22541, '▁art': 768, '▁copied': 23350, '▁neon': 22432, '▁connaître': 17705, '▁Sun': 3068, '▁wondered': 15999, '▁Exhibition': 22371, 'EDIT': 25995, '▁certainly': 1852, '▁seminars': 19087, '▁Weekly': 22297, '▁Chrysler': 27253, '▁App': 2276, '▁competence': 22368, '▁roughly': 10209, '▁magnetic': 10224, 'Mag': 22909, '▁help': 199, '▁having': 578, '▁basics': 14311, '▁politici': 19061, '▁Norman': 13615, '▁productivity': 7596, '▁interruption': 23044, '▁mountain': 4180, '▁Glas': 13372, 'ja': 1191, '▁literary': 14551, '▁Binary': 29221, '▁Ende': 4925, '▁Force': 5205, '▁Photograph': 15278, '▁soccer': 10749, '▁Jul': 17829, '▁Kriterien': 25660, '/2019': 14631, '▁prescribe': 27766, 'richtet': 11238, '▁tablets': 11676, '▁iunie': 13981, '▁preach': 15057, 'jährige': 15903, '▁simplement': 11730, '▁disrupt': 23773, '▁increasing': 3094, '▁batter': 15839, 'temp': 15076, 'gaz': 21805, '▁lentil': 24026, '▁exceptionnelle': 27764, '▁Korean': 9677, '▁suggesting': 15495, '▁Gesicht': 17754, '▁appris': 28134, '▁stau': 16269, '▁cartofi': 30299, '5:00': 19870, '▁Mozilla': 30699, 'p': 102, '▁attached': 5223, '▁Beau': 12433, '▁organizer': 14250, '▁Datenschutz': 17296, 'illiard': 23827, '▁timp': 1529, '▁consommateur': 21886, '▁PR': 6045, '▁Bradley': 23097, 'meld': 10114, '▁Goal': 17916, '▁Jedi': 29231, 'Serviciul': 30883, '2017': 9887, 'rium': 11879, '▁but': 68, '▁dissolve': 27157, '▁phone': 951, 'WORK': 23262, '▁Schön': 18688, '▁Mic': 18000, '▁Johannes': 27496, '▁Th': 5791, '▁véritable': 12421, 'wild': 23282, '3-0': 22773, 'TON': 16270, '▁inhibitor': 20197, 'lly': 6073, '▁bulb': 16905, 'ijn': 28469, '▁greutate': 15017, '▁intended': 3855, 'étique': 12635, '▁Jahre': 3861, '▁funny': 6613, '▁vot': 8164, '▁enforce': 13321, '▁Graham': 15146, '▁biais': 28725, '▁minister': 6323, '▁MLB': 26497, '▁miles': 2286, 'ITA': 21524, '▁gardening': 17335, '▁pan': 2131, 'communication': 28921, '▁enroll': 17990, '▁Twitter': 3046, 'enregistrement': 28333, '▁adolescents': 23962, '▁Face': 8881, '▁gameplay': 20505, '▁spam': 13655, '▁lake': 6957, '▁thereof': 18955, '▁Blu': 10689, '▁funcţi': 14994, '▁acknowledge': 8406, 'ante': 1841, 'story': 13029, '▁evolved': 14021, 'grandes': 17962, 'ос': 18737, '▁Bedarf': 20540, '▁beauty': 2790, '▁call': 580, '▁shouldn': 6994, '▁Franz': 18511, '▁Collins': 16517, 'language': 24925, '▁revive': 25317, 'Traditionally': 30705, '▁Kleider': 31168, '▁Skin': 13038, '▁pork': 13654, 'poziţia': 31358, '▁sources': 2836, '▁hammock': 29425, '▁**': 14011, '▁Vladimir': 21519, '▁Meghan': 30455, 'UL': 4254, '▁Geschmack': 17735, '▁machiaj': 30173, '▁H': 454, '▁lac': 12868, 'ordination': 23580, 'popular': 27302, '▁Difference': 27187, 'energia': 26491, '▁Ethiopia': 22138, 'hyp': 13397, '▁spus': 5036, '▁efficient': 2918, '▁driver': 2535, '▁Lu': 2318, '▁Bundes': 6387, 'papier': 10051, '▁Replacement': 21438, '▁bas': 3905, '▁Bayern': 17525, '▁again': 541, '▁ces': 1830, '▁bucurie': 22659, 'ăci': 23866, 'totdeauna': 16963, '▁repair': 2096, '▁Fix': 14269, '▁constantly': 4259, 'nehmen': 7278, 'prezinta': 25145, '▁Mystery': 27951, 'elte': 18920, '▁treats': 11954, 'rita': 10694, '▁dismissed': 19664, 'CENT': 22851, '▁Zeitraum': 25868, '▁mecanism': 26680, '▁stomach': 9883, '▁admin': 10473, 'iza': 5584, 'unit': 15129, 'vik': 21346, 'printed': 23137, '▁Minute': 13687, '▁Motor': 5083, 'édition': 11267, '▁placing': 9308, 'Prof': 23057, '▁military': 2716, '▁spiral': 17723, '▁dispoziţi': 27774, '▁cherch': 8909, 'even': 6190, '▁riders': 14149, '▁déco': 15022, '▁elevator': 19967, '▁öffnen': 27317, '▁înscris': 31013, '▁bărbați': 31726, '▁British': 2390, '▁Bee': 10024, '▁objection': 20832, '▁Rub': 15612, '▁Sibiu': 19128, '▁cope': 14331, 'probably': 31106, 'rect': 12621, '▁cel': 1503, '▁display': 1831, '▁graduates': 13819, 'niz': 24362, '▁phyto': 30512, '▁endorsement': 22324, '▁Meinung': 14897, '▁scripture': 22814, '▁scratch': 8629, '▁Lamb': 19211, 'abil': 3587, '▁immediately': 2017, 'führung': 12367, '▁admire': 17728, '▁Zwischen': 18664, '▁Waren': 15361, '▁enthusiastic': 18016, '▁acțiuni': 26824, '▁refugi': 31985, '▁Iisus': 28991, '▁Kickstarter': 28546, '▁attendees': 13229, 'treffen': 10629, '▁delays': 16735, 'GAR': 25826, '▁Sino': 26387, '▁autonome': 27918, '▁Cluster': 28552, '▁misconduct': 28742, '▁Dami': 9235, '▁wesentlich': 16957, '▁clamp': 20084, '▁autre': 4538, '▁roots': 8523, '▁Boy': 7508, 'schi': 7074, '▁exercitii': 31200, '▁citi': 16545, 'deprived': 30182, 'nature': 27440, '▁rotation': 11981, '▁than': 145, '▁textbook': 19533, '▁male': 5069, '▁carne': 15460, '▁performed': 3032, '▁begins': 4396, '▁comunicare': 19190, '▁wax': 11935, '▁Colonial': 30709, 'ouille': 23102, '▁proposal': 6384, '▁SW': 12222, '206': 24643, '▁proteins': 13167, '<extra_id_62>': 32037, '▁emotion': 13868, '▁touched': 15880, '▁Samsung': 5485, '▁Related': 16559, '▁Double': 8405, '▁voluntar': 22550, 'îl': 5410, '▁bedroom': 2923, '▁Roland': 22613, 'gotta': 26761, 'rescu': 21925, 'remarkably': 24770, '▁Tire': 19737, '▁Küche': 16011, '▁institution': 6568, '▁43': 8838, '▁masina': 13795, '▁mama': 10786, '▁corrosion': 21777, 'Maschine': 28039, '▁résultats': 12140, '▁does': 405, 'GI': 7214, 'atti': 15817, '▁Inventory': 31040, '▁guns': 13731, '▁zucchini': 30407, '▁por': 5569, '▁episcop': 29664, 'tre': 929, '▁reporting': 5099, '▁disruption': 17879, '▁observers': 28480, '▁trouver': 4430, '▁homeowners': 11634, '▁Publishing': 17511, '▁Liz': 17814, 'ugh': 14439, '▁membrane': 13304, '49': 3647, '▁Gestaltung': 20483, 'hem': 6015, 'Star': 7681, '▁Field': 7257, '▁părinţi': 28200, '▁rappelle': 25458, '▁elimination': 23458, 'Val': 18392, 'holder': 5235, '▁completely': 1551, '▁free': 339, '▁Grade': 13027, '▁château': 24334, 'ment': 297, 'slated': 26860, 'human': 12450, '▁viață': 15475, '▁ressort': 25865, 'Voici': 16353, '▁Equi': 21263, '▁umplut': 30145, '▁sagte': 14546, '▁Produktion': 13930, '▁Pure': 14779, '103': 17864, '▁unei': 2230, '2013': 11138, '▁Progressive': 27113, '▁amp': 11483, '▁național': 15647, '▁nützlich': 30001, '▁assumption': 20662, 'enfance': 27382, 'unci': 15254, '▁Beverly': 26393, '▁Ice': 11742, '▁Safari': 20082, '▁before': 274, 'day': 1135, '▁terrorist': 10287, '▁eficient': 8539, '▁Vand': 24039, 'schutzerklärung': 31291, '▁cholesterol': 16462, '▁Common': 7155, '▁nicht': 311, '▁expressive': 27821, '▁peine': 19057, '▁Continuous': 31295, '▁Leute': 16596, 'cati': 16461, 'soaked': 25973, 'allowing': 3232, 'berries': 12093, 'Code': 22737, '▁rugam': 22821, '▁turnaround': 26547, '▁Varianten': 27388, '▁Death': 12358, '▁produselor': 14995, '▁Cut': 6868, 'enseignement': 16160, '▁bus': 2601, '65%': 28168, '▁mein': 7519, '▁Konzept': 15901, '▁DIY': 10537, 'therapie': 21765, '▁vorgestellt': 23943, '280': 17518, '▁acestea': 5196, '▁informal': 15347, '▁abstraction': 28708, 'oricine': 29012, '▁north': 3457, '▁contemporary': 4092, '▁hemo': 24731, '▁Always': 8904, '▁intens': 9608, '▁Charlotte': 11240, '▁Dawn': 21903, 'ruins': 23162, '▁Dig': 18759, 'ailing': 17446, '▁tăi': 21578, '▁salari': 6457, 'lowered': 22055, '▁vicious': 30136, '▁Cabinet': 9104, '▁earlier': 2283, 'matric': 20705, 'FI': 4936, '▁uploaded': 14686, '04.': 14161, 'oxid': 6778, '▁Trail': 8939, '▁mean': 1243, 'ssant': 14870, '▁Vegan': 26371, '▁Biblical': 28411, '▁meals': 5418, 'synthesis': 17282, '▁Guarantee': 21420, 'joutez': 28566, '▁stay': 1049, '▁departe': 11585, '▁Feli': 25347, 'um': 440, '▁jail': 11796, '▁literally': 6672, 'how': 4067, 'hrew': 13296, '▁pictures': 1933, '▁représent': 20457, '▁(2013)': 25195, 'dragging': 29985, '▁practical': 3236, '▁LORD': 24023, '▁Conditioner': 24668, '▁1-800-': 28085, 'ст': 10458, '▁wallet': 11725, '▁gay': 16998, '▁Vimeo': 29161, '▁signifie': 16558, '▁obiecte': 20436, 'oaie': 17859, '▁kennenlernen': 31844, 'iano': 20028, '▁communion': 30124, 'ogenic': 20853, '▁striv': 25213, '▁Can': 1072, '▁afterwards': 15627, '▁dreapta': 20453, 'donnent': 27934, '▁instructors': 18166, '▁refusal': 27920, '▁amoureux': 30065, '▁Cherokee': 30449, 'habitation': 24472, '▁chair': 3533, '▁pack': 4153, '▁Transformer': 31220, 'consciously': 26355, '▁1989': 9975, 'America': 28746, 'Buenos': 30414, 'kreis': 14096, '▁Ideen': 14894, '▁Arbeiten': 18382, '▁Examples': 19119, '▁agresiv': 31080, '▁numărul': 14576, '▁birds': 6331, 'țiuni': 15330, '▁wedge': 22757, 'kühlen': 31586, '▁gesucht': 27479, '▁2.': 1682, 'pool': 13194, '▁couches': 25744, 'lege': 7883, '▁independence': 12315, '▁voix': 16153, '▁practitioners': 14194, '▁Jean': 3966, 'work': 1981, '▁Another': 2351, '80%': 10370, 'Stream': 10770, 'bol': 4243, '▁Football': 10929, '▁gratuit': 5625, '▁ornament': 12917, '▁nowadays': 18811, '▁credentials': 17500, '▁hectic': 28313, 'immeuble': 28718, 'chal': 12654, '▁Soviet': 12873, '▁penetration': 25723, 'venind': 25096, '▁solvent': 23915, 'Vac': 25203, '▁Deal': 10527, 'vi': 2099, '▁blank': 11460, '▁schedule': 2023, '▁Example': 18792, '▁climate': 3298, '▁emphasis': 8053, 'stift': 25601, '▁below': 666, '▁comprises': 13009, '▁because': 250, '▁marc': 14124, '▁Sue': 17564, '▁Machinery': 25111, '▁Schule': 12853, '▁sagt': 11865, '▁teme': 14386, '3,': 6355, 'ura': 2414, '▁champagne': 22116, 'mile': 8770, 'hydroxy': 30966, '▁facă': 12500, 'ämtliche': 20392, '▁celor': 3630, '▁ajung': 11544, 'ities': 2197, '▁Tickets': 11481, '▁press': 2785, '▁Technologies': 13335, 'characterized': 16730, '▁KY': 22347, '▁vendre': 23684, '▁Wissenschaft': 17589, '▁rénovation': 27391, '()': 9960, '▁thé': 18608, '▁behalf': 6089, 'meciul': 29638, '▁Finally': 4213, '▁every': 334, '▁manevr': 30723, '▁gewan': 28340, '106': 16431, '▁will': 56, '▁Lower': 15877, '▁underneath': 13483, '▁elegance': 19577, '▁favourite': 3960, 'phone': 6399, '▁random': 6504, '▁Send': 9384, '▁réforme': 25452, '▁trage': 20538, '▁Dead': 9651, 'pot': 3013, '▁hire': 3804, '▁Commissioner': 14595, 'émi': 15845, '▁after': 227, 'vă': 7487, '▁PA': 4935, '▁except': 3578, '▁teens': 14752, '▁regards': 9544, '▁transformed': 13421, '▁aero': 15726, '▁journalists': 16085, '▁demandé': 21088, '▁angle': 7669, 'solv': 6065, 'tipuri': 16989, 'constru': 15982, '▁Eintritt': 27955, '▁exams': 14026, 'DM': 7407, 'stick': 9656, 'made': 4725, '▁describes': 8788, 'formarea': 26699, '▁brunch': 22832, '▁Länder': 24886, '▁CNN': 19602, '▁anticipate': 16900, 'BH': 23631, '▁detached': 24561, '▁déclin': 27512, '▁Trojan': 28622, '▁splash': 16500, '▁earnings': 8783, '▁indicat': 18492, '▁Tonight': 24951, '▁intake': 11963, '▁unanimous': 25141, 'arie': 11396, '▁Garcia': 22373, '▁1': 209, '▁Ar': 1533, '▁immersion': 27704, '▁cent': 3151, 'izat': 5290, '▁commission': 5473, '▁vitamine': 19158, '▁sprint': 21710, '▁Roy': 15875, 'mediocr': 28595, '▁Modern': 5070, 'thing': 8052, 'ject': 11827, 'z': 172, '▁Ferien': 16849, '▁fel': 3110, '▁connais': 20714, '▁banking': 8175, 'Blue': 22530, '▁National': 868, '▁sites': 1471, '▁fate': 15126, '▁Swim': 27813, '▁styles': 4634, '▁1950': 10247, '▁pantofi': 29508, '▁aqua': 19311, '▁unhealthy': 23363, '▁Grund': 4086, '▁centrale': 17798, 'subsidize': 31762, '▁evenimentului': 25841, '▁celebrating': 11646, 'RY': 11824, '▁meant': 3679, '▁overlap': 21655, 'évènement': 24208, 'conciliation': 31739, '▁nutritious': 26476, '▁arrivé': 25776, '▁écr': 27128, '▁particle': 24317, 'Go': 6221, '▁donner': 8132, 'seized': 27217, '▁abortion': 20526, '▁Quilt': 24906, 'jurnal': 27428, '▁Park': 1061, '▁dates': 5128, '▁On': 461, 'izeaza': 20886, '185': 21594, '▁interesel': 31860, 'eria': 4476, '▁1941': 24822, 'enţa': 20437, 'SET': 20788, '▁grade': 2769, 'GN': 13738, '▁sausage': 18567, '▁Magn': 14767, '▁adevarat': 12813, '▁ginger': 15698, '▁Timişoara': 31215, '▁Tap': 9627, '▁motivated': 11361, '<extra_id_47>': 32052, '800': 6192, '▁Fiscal': 29169, '▁ensuite': 9166, '▁applicable': 5383, '▁Jose': 10854, '▁virtue': 15768, '▁négoci': 27152, '▁bedding': 18006, 'adult': 28491, 'onna': 15822, 'authorised': 23429, '▁fragrant': 29346, 'arguing': 23998, 'Act': 23312, '▁archives': 18274, '▁library': 3595, '▁anonym': 19581, '▁Light': 2892, '▁neighborhood': 5353, '▁Agreement': 7139, '▁afecta': 18993, '▁gezeigt': 22985, '▁Presentation': 25885, '▁suger': 27556, '▁obligatoriu': 30860, '▁Beratung': 12113, '▁mark': 3946, '▁amid': 18905, '▁Beta': 19696, '▁labor': 5347, '▁deliveries': 23113, '▁fermentation': 26064, '▁Sauvignon': 30727, '▁philosophical': 22466, '▁Nice': 8012, '▁university': 3819, '▁artist': 2377, 'ană': 14781, '▁exceptionally': 19226, '▁clienți': 22128, '▁Aufmerksamkeit': 28079, '▁entdeckt': 24270, '▁Hoffnung': 28242, '▁qualité': 3660, 'wartet': 22906, 'HH': 23123, 'denumirea': 30533, '▁calendrier': 30048, '▁Equal': 26088, '▁propune': 14300, '10.': 10415, '▁jene': 22626, '▁Da': 878, '▁emotions': 7848, '▁Graduate': 14383, 'sorge': 18970, '▁bilan': 22723, 'asca': 8419, 'low': 3216, 'enquête': 19639, '▁values': 2620, '▁buyers': 6094, '▁Gut': 7756, '▁$9': 16616, '▁Trailer': 24534, 'car': 1720, 'raj': 9655, '▁Atlas': 21635, '▁rid': 5413, '▁Helfer': 28862, 'illé': 16979, 'cap': 4010, 'findest': 21799, '▁Epic': 24692, 'ruc': 11783, 'omni': 16378, '▁Transmission': 28074, 'April': 23323, 'Paul': 23183, '▁chalet': 30696, 'univers': 7846, '▁SH': 10046, '▁Bake': 15512, '▁home': 234, '▁crush': 22802, '▁Career': 15151, '▁Victoria': 7488, 'should': 25351, '▁Japan': 3411, '▁enter': 2058, '▁individually': 12011, 'icrobial': 27543, 'EST': 6038, 'logists': 25099, '▁Born': 12896, '▁transcript': 20146, '▁subtract': 31836, 'HALL': 30098, 'affecting': 13403, '▁specification': 16726, '▁clear': 964, '▁affirm': 11153, '▁Form': 3025, '▁perfect': 626, '▁active': 1676, '▁höher': 16070, '▁Medizin': 22346, '▁stresses': 25375, '▁cela': 3656, '▁yards': 6460, '▁Arch': 9318, '▁Quel': 12281, 'tian': 12572, '▁conscious': 13381, '▁appropriately': 18056, '▁Bentley': 29262, '▁redemption': 24904, '▁activități': 18244, '▁Manufacturing': 19193, '▁florist': 27460, '▁perfection': 12768, '▁ma': 954, '▁metabolism': 16325, 'vedem': 18491, '▁Vier': 20733, '▁gradual': 26079, '▁preveni': 25382, '▁plays': 4805, 'valid': 27769, '▁coordinate': 11639, '▁valid': 3982, '▁cre': 3935, '▁bought': 2944, '▁protocols': 18870, '▁möchten': 7805, '▁recycling': 11667, '5.0': 20734, '▁Workshop': 9644, '▁phases': 17258, '▁Residential': 15773, '▁skies': 22902, 'expert': 20216, '▁blockchain': 15047, 'spiegel': 19177, '▁weil': 5603, 'Usually': 12576, 'fahrzeug': 24323, '▁birouri': 30357, 'soucis': 29987, 'ONU': 28710, '▁nouvel': 22143, '▁besuchen': 22199, '▁participer': 19283, 'vraient': 30107, '▁Telefonnummer': 31460, '▁gewünscht': 31577, 'Nav': 22192, '▁Immobilien': 19507, '▁comentariu': 29526, '▁stuff': 2005, '▁ordinary': 9495, '▁Barb': 11038, '▁detail': 2736, '▁flick': 19795, '▁management': 758, '1,000': 19215, 'trecerea': 23931, '▁conservator': 29341, '▁nose': 8820, '▁connecting': 8920, '▁complementary': 24345, 'păr': 5276, 'mouvoir': 30089, '▁Ec': 16208, 'comunitatea': 30950, '▁bune': 6204, 'tone': 6948, 'ICC': 24291, '▁ofera': 9686, '▁political': 1827, 'Back': 21106, '▁ochi': 12356, '▁absolute': 6097, '▁Little': 5258, '▁tracks': 6542, '▁insect': 16304, '▁shirt': 8677, '▁coordinator': 17418, '▁unconscious': 25429, '▁Rochester': 24360, '▁complexity': 11641, '▁voiture': 9820, '▁outlet': 12577, '▁daunting': 20372, 'itorul': 21570, 'unless': 3227, '▁exhaustive': 29124, '▁oameni': 5029, 'efficiency': 31640, 'sati': 9275, 'inability': 28241, '▁WHO': 20989, '▁diferenț': 28233, '▁lift': 5656, '▁helpful': 2690, '▁aircraft': 6442, '▁log': 4303, '▁puisqu': 12075, '▁uniform': 7117, '▁rezerva': 20375, 'tele': 1931, '▁Auftraggeber': 26400, 'zieht': 15925, 'werfen': 24390, '▁urmă': 9371, 'oarele': 14937, '▁validation': 16148, '▁plastic': 2343, 'RF': 8556, '▁schwierig': 19002, '▁Fisch': 21252, '▁enterprise': 5399, '▁score': 2604, '▁taxi': 9256, '▁surprins': 30111, '▁Madagascar': 30616, '▁Sab': 11315, '▁astounding': 28804, '▁rankings': 16890, '▁knew': 2124, '▁Nr': 16750, 'jungen': 21000, '▁afacere': 24482, 'Articolul': 27101, 'use': 1074, 'URE': 18290, '▁mouth': 4247, '▁mankind': 25575, '▁supportive': 12758, 'TK': 22110, '▁Southampton': 28165, '▁persönlich': 18314, '▁*': 1429, '▁Weiterbildung': 27044, '▁continuing': 6168, 'idée': 8412, 'idos': 28594, 'cost': 11290, '▁Herbert': 26692, '▁2011': 2722, '▁recycle': 20616, '▁French': 2379, 'residing': 19801, '▁dolphin': 25903, '▁minimal': 6211, 'affiche': 17002, 'lent': 6987, 'CU': 5211, '▁disappear': 10587, '▁middle': 2214, '▁Stuart': 23338, '▁thoroughly': 8583, '▁Ol': 5424, 'pie': 8082, 'weed': 8578, '▁souffr': 21062, '▁Emerald': 29424, '▁Toast': 30884, 'quent': 19404, 'In': 1570, 'plated': 25138, '▁consequences': 7702, '▁aux': 742, '▁Calif': 20826, '501': 20176, '▁Graphic': 16297, '***': 10647, '▁foil': 15779, 'whichever': 25281, '▁Sfint': 28621, '▁atmosfer': 21228, '▁summit': 13385, '▁liegt': 5282, '▁Search': 4769, '▁Gö': 19563, 'CAS': 18678, 'default': 31026, '▁abusive': 27031, 'END': 14920, 'pumped': 29496, '▁counties': 16227, 'allah': 30157, 'Until': 12282, '▁trek': 18784, '▁tribal': 21996, '▁premature': 27130, '▁sent': 1622, '▁mold': 6797, '▁Wildlife': 18868, 'schilder': 29522, 'exigence': 24215, '▁our': 69, 'Revelation': 29302, 'obscur': 30746, '▁hazardous': 20793, '▁propaganda': 25071, '▁Mode': 9258, '▁Encourage': 29502, '▁arrival': 6870, '▁wichtige': 13998, '▁Tur': 7538, 'țul': 22863, '▁routing': 22764, 'mba': 18015, '▁exists': 8085, 'million': 17030, '▁effortless': 25127, '▁boycott': 30242, 'europa': 27949, '▁encouragement': 17427, '▁strategies': 3266, '▁1971': 17961, '▁Cameron': 18501, '▁woman': 2335, '▁Write': 8733, '▁mi': 1337, 'LES': 12335, 'Phy': 16977, '▁Ihre': 1197, 'montag': 24563, 'soft': 12369, '▁cooperate': 23109, '▁Muslim': 10148, '▁intentional': 24768, '▁Dealer': 22212, '▁Bürgermeister': 27984, 'évaluer': 30401, '▁probability': 15834, 'nce': 3772, '▁darüber': 9924, 'scented': 30420, '▁loud': 8002, '▁stereo': 16687, 'Pourtant': 27186, '▁crowd': 4374, 'structure': 16180, '▁Cedar': 21838, '▁conceput': 24329, 'sphere': 9475, '▁Shot': 18781, '▁Install': 11985, '▁Mitarbeiter': 6866, '▁EU': 3371, '▁respect': 1445, 'tuşi': 27365, 'ange': 3280, '▁Duck': 19998, 'verhältnis': 25737, '131': 22048, '▁jersey': 13426, 'focused': 19449, 'encompassing': 30595, '<extra_id_24>': 32075, 'tron': 6255, '▁wanting': 7570, '▁Verein': 11087, 'International': 27490, '▁Ramsey': 31730, '▁logo': 3554, 'lebt': 13910, 'м': 6469, '▁organised': 13666, '▁Stoff': 16016, 'gal': 6191, '▁speziell': 19366, '▁properties': 2605, '▁Mayor': 12394, '▁coincidence': 29519, '▁features': 753, 'ger': 1304, '▁ethical': 11398, 'ле': 19229, 'adversaire': 31747, '▁notifications': 16807, 'CES': 17664, '▁geographic': 20929, '▁erwerben': 30902, '▁Cole': 16311, '▁scaffold': 30777, 'präsident': 28255, '▁planning': 1459, '401': 20016, '▁novice': 24304, '▁Morgan': 11147, 'tempo': 13089, 'udel': 27052, 'bar': 1047, '▁treptat': 30284, '▁collaboration': 3561, '▁five': 874, 'SH': 9122, 'ceşti': 23156, 'kunde': 20865, '▁formulate': 28156, 'pick': 17967, '▁CBD': 12080, '▁grandparents': 22229, '▁tweak': 22689, '▁evaluare': 24059, '▁Implant': 28329, '▁Deep': 9509, '▁ehrenamtlich': 31015, 'Performing': 26656, 'sacrificing': 30016, '▁immersive': 25786, '▁Wald': 11699, '▁formats': 10874, 'algré': 17587, 'ământ': 20285, '▁Subaru': 28276, 'Med': 20123, '▁precis': 29434, '▁magnesium': 25443, '▁master': 2325, 'derived': 9942, '▁Advantage': 25855, '▁préférence': 30353, 'bble': 7310, 'duction': 8291, '▁darunter': 24217, 'Quelques': 29134, '▁relatii': 29643, '▁hunt': 8069, '▁honour': 14950, 'Some': 19055, '▁ahead': 2177, '▁symbol': 6083, '▁helping': 2022, 'ddy': 8155, '▁Meer': 14255, '9.99': 21316, '▁Landwirtschaft': 30042, '▁Vom': 15212, '▁adverse': 11233, '▁autism': 17541, 'montée': 27337, 'preşedintele': 24098, '▁Kur': 8333, 'usually': 21525, '▁Recommended': 28374, 'integrates': 31769, '▁maladie': 17197, '▁Dan': 2744, '▁plötzlich': 26007, '▁utilis': 19388, '▁winning': 3447, 'doi': 11895, 'devenu': 20830, 'EACH': 29027, '▁Größe': 12622, 'appointed': 31574, '▁Rugby': 24895, '▁Language': 10509, '▁Shar': 18981, 'politik': 21334, '▁beginner': 19529, '▁bă': 10110, '▁hydro': 7668, 'still': 11656, '▁empowered': 25259, '▁Rücken': 20166, '▁administrat': 18945, 'fit': 5616, '▁Meyer': 19191, '▁assistant': 6165, '▁rats': 20063, 'renz': 20276, '▁Interest': 21230, '▁particulier': 8866, '▁fragile': 18659, '▁piste': 18674, 'arile': 12049, '73': 4552, '▁Scientist': 21166, '▁spiritual': 3428, '▁gold': 2045, 'typical': 21888, 'mètres': 16674, 'cri': 2685, 'wählt': 29859, '▁catch': 3579, 'dies': 7719, '▁junction': 23704, '▁multiply': 30333, 'demonstrates': 21275, '▁neuf': 20812, '▁2017': 1233, '▁assume': 5344, 'ington': 6029, '▁déchets': 26333, '▁Christchurch': 30453, '▁întăr': 30636, '▁information': 251, 'foot': 6259, 'ţine': 11555, '▁reports': 2279, '▁Banner': 25004, 'vermutlich': 29277, '▁abundant': 16346, '▁unravel': 30369, 'intègre': 30385, 'escent': 11719, '▁Kyoto': 31329, '▁swift': 18642, 'ismus': 13760, '▁pun': 4930, '▁Haftung': 26539, '▁Cannes': 27264, '1860': 24700, '▁trains': 14053, '▁blind': 5480, '▁Dear': 19451, '▁exciting': 2949, '▁blink': 25063, '▁Task': 16107, 'ough': 4607, '▁Fred': 12264, 'liant': 9333, 'oiled': 26786, '▁rigorous': 17577, '▁flame': 12314, 'recommending': 29288, 'itaire': 9862, '▁government': 789, '0.0': 11739, 'pré': 16280, '▁THAT': 16662, 'platform': 29100, '▁Anyone': 10476, '▁Chinese': 2830, '▁direction': 2212, '(2)': 16426, '▁Germany': 3434, '240': 11944, '▁sketch': 13278, '▁prevent': 1709, '▁agile': 20562, '▁Silk': 24004, '▁tweeted': 27975, '▁Army': 6788, '-2': 4949, 'profit': 6046, '▁Montag': 13672, 'LAN': 12303, '▁chercher': 23341, 'erfolg': 24206, 'thérapie': 23618, 'cron': 18036, '▁Sheriff': 22119, '▁excursions': 26619, 'rama': 10819, '▁Delta': 13057, '▁Glad': 14240, 'lethor': 25293, '▁telefonic': 28515, '<extra_id_98>': 32001, '▁greed': 30337, '▁Wasch': 24595, 'substant': 17015, '▁journalist': 9994, '▁legally': 13595, '▁genotyp': 31595, 'mobil': 10651, 'therapy': 10896, '2006': 21196, '770': 26920, '▁following': 826, '▁covered': 2303, '▁nationally': 16405, '▁Nothing': 9428, 'unsure': 20305, 'spo': 7990, '▁Zhang': 28015, '▁terror': 17187, '▁refrigerator': 11042, 'grove': 20254, 'preferably': 21669, '▁cesse': 27251, '▁tired': 7718, '▁Galaxy': 8455, '▁hinaus': 9207, '▁wholesale': 13854, 'stud': 8637, '▁Property': 8648, '▁phénomène': 26457, 'nado': 25065, 'ç': 8970, 'gefüllt': 25549, '▁threaten': 20143, 'abilitate': 14511, 'Based': 25557, 'arrow': 6770, '▁eliminating': 17323, '▁wager': 21787, '▁afaceri': 10353, '▁Sicht': 15479, '▁remarque': 26193, '▁Owl': 28483, 'hôpital': 30394, '▁version': 988, '▁sont': 527, '▁McKe': 30808, '▁Philip': 12092, '▁command': 4106, '▁financement': 22275, '▁parcours': 15691, '▁navigation': 8789, '▁Trial': 20660, '▁detrimental': 28879, '▁ferry': 20395, '▁Previous': 10232, '▁donné': 11061, '▁labels': 11241, '▁britannique': 29525, '▁Campus': 15201, 'erton': 24471, 'wheel': 14074, '▁flashlight': 28376, '▁Ski': 7409, '▁Ensemble': 23481, '▁Leipzig': 19931, 'bră': 25451, '▁spielen': 11149, '▁Ability': 27540, '▁crazy': 6139, '▁caractéris': 26561, 'Byron': 30507, '▁Kerala': 27046, '▁poor': 2714, '▁calcul': 7779, '▁Francis': 11065, '▁Sunt': 7191, 'inte': 2429, 'turi': 4317, 'Pro': 3174, '▁bugetul': 23755, '▁Associate': 13860, '▁Sha': 3926, '▁bullying': 26046, '▁relatives': 12867, 'calorie': 22625, 'stimmung': 11822, '▁tava': 25682, '▁arrested': 10195, '▁wa': 8036, '▁rapper': 27873, '▁Mer': 4039, '▁pie': 6253, '???': 8665, '▁fragil': 28795, '▁China': 1473, '▁prospects': 11136, '▁months': 767, '▁Union': 3545, 'situé': 10342, '▁Ahmed': 22928, '▁slightly': 3300, '▁PE': 11012, '▁Bonne': 19933, '▁Provision': 28000, '▁Conserv': 20534, 'autorisation': 27587, '▁impossible': 4586, 'Fi': 3183, 'CAD': 12926, '▁convince': 15113, '▁necklace': 15709, '▁Cuisine': 23406, '▁Pdf': 28630, '▁Venez': 27889, '▁beeinflussen': 31802, '▁ehemalige': 19097, '▁migraine': 26043, '▁17': 1003, 'Musée': 28776, 'ME': 4369, '▁Antique': 24035, 'naps': 30771, 'chin': 5675, '▁prediction': 21332, '▁thrilled': 13691, '▁Ele': 8021, '4.8': 27441, '▁acestui': 6648, '▁soup': 5759, 'DL': 10013, '▁convers': 20379, '▁piele': 13342, '▁Nike': 15426, '▁iOS': 6989, '▁discounts': 9228, '▁SSD': 20947, '▁season': 774, '▁encouraging': 9523, '▁Kraft': 10756, 'formațiile': 31892, '▁Pres': 10131, '▁traditi': 31994, 'heavenly': 28202, '▁Given': 9246, '▁Daily': 8496, '▁companiei': 17877, '▁threatened': 16026, '▁revisit': 20442, 'string': 16099, 'over': 1890, '▁raspunde': 25309, 'grade': 6801, 'eux': 2623, 'INE': 9730, '▁Carmen': 24128, '.': 5, '▁collective': 6018, 'dritten': 25454, '▁DVD': 5677, '▁market': 512, 'long': 2961, 'lava': 22288, 'Set': 17175, 'ри': 14709, 'konzept': 21480, 'General': 20857, '▁Linux': 8217, '▁pl': 4752, 'veut': 12274, 'CHO': 25683, '▁Rosa': 15641, 'clusion': 11593, '620': 26898, '▁disappoint': 26963, 'pregătire': 28729, '▁obtinut': 22961, '▁epic': 12953, '03': 4928, 'ente': 4617, '▁Dor': 6200, '▁addresses': 7181, '▁Northwest': 18194, '▁indiqué': 20977, '▁tide': 19235, 'desea': 23146, 'Web': 15805, 'Deputy': 16911, 'talement': 21911, '▁lots': 1995, '▁mobility': 12337, '▁Try': 5263, '▁youngsters': 26068, '▁finest': 6842, '▁mayor': 18176, 'energize': 26825, '▁adica': 21626, '▁objective': 5997, '▁Vermögen': 27858, 'sub': 7304, 'ction': 4985, '▁(1)': 5637, '▁popularity': 9897, '▁approve': 15444, 'нов': 31545, '▁positioning': 18938, 'nişte': 26623, 'herently': 29112, 'gabe': 6172, 'investissement': 17649, '▁Davies': 28571, 'zweck': 23266, '▁necesar': 7492, 'LD': 9815, '888': 10927, 'wal': 5380, '▁Beruf': 18318, 'ibil': 7024, 'turm': 18197, '▁quartet': 31395, '▁criteria': 6683, '▁high': 306, '▁Free': 1443, '▁né': 14563, 'HU': 17861, '▁prealabil': 25773, '▁chiropractor': 30283, '▁believed': 6141, '169': 27096, 'geschichte': 18388, 'Leistung': 13455, '▁Geld': 6213, '▁outfit': 6468, '▁komplexe': 26973, '▁trousers': 29927, '▁activity': 1756, '▁Amazing': 12879, 'abili': 14237, '▁Maj': 20821, '▁geöffnet': 25830, 'wagen': 11994, 'SEN': 25842, '▁implants': 19136, 'proiectele': 29307, 'pointing': 15989, '▁distribution': 3438, '▁Monsieur': 24517, 'stru': 6159, '▁displays': 8397, '▁gliss': 26263, 'Authentic': 23320, 'lect': 3437, '▁mild': 8248, '▁Kirche': 17264, '9%': 7561, 'avait': 3925, '▁Tele': 7338, 'arm': 6768, '▁methodology': 15663, '▁Veranstalter': 31620, 'tenue': 17860, 'bau': 2635, '▁brands': 3635, '▁handelt': 11141, '▁20,': 16047, '▁titlu': 18302, '▁cânt': 19493, '▁Buddhist': 20687, '▁Ladies': 23479, 'fashioned': 19084, '▁repertoire': 26661, '▁movie': 1974, 'während': 5729, '▁embod': 31104, '▁bookmark': 16228, '▁P': 276, '▁Comme': 8192, 'gesetz': 15909, '▁Quebec': 22649, '▁mesaj': 12349, 'S': 134, 'stealing': 25637, '▁surgery': 3730, '▁ultimate': 5737, '▁Oberfläche': 21188, 'droit': 9869, '▁depot': 14089, 'birth': 20663, 'wechsel': 11621, '▁bun': 2293, '▁packs': 14958, 'ateur': 6408, 'sons': 6577, '▁terminate': 13813, 'Nu': 12924, '▁Irvine': 30411, '▁Strawberry': 31344, 'opération': 10865, '▁Coin': 15589, '▁Alma': 26861, '▁commented': 18452, 'shing': 9525, '▁drops': 11784, '▁Silber': 25953, 'eigener': 29597, 'meilleures': 25862, '▁system': 358, '▁barriers': 13121, 'portée': 23867, '▁esential': 24741, '▁term': 1657, '▁sucre': 20700, 'lohn': 21673, '▁workplace': 6940, '▁Pension': 21539, '▁politics': 6525, '▁Karten': 20012, '▁colorful': 10540, '0.1': 16029, 'inherited': 23665, '▁schützen': 24225, '▁beliefs': 11393, '▁generate': 3806, 'nehmer': 16477, '▁meteor': 23269, '▁lavender': 24787, '▁ciel': 26217, 'Sub': 25252, '▁Bi': 2106, '▁buildings': 3950, 'OP': 4652, '▁zwölf': 31185, 'launching': 14138, '▁waiver': 19788, '▁évoqu': 26657, '▁structures': 5278, '▁extracted': 21527, 'shire': 5718, '▁hormone': 11932, '▁Water': 2336, '▁evolutionary': 27168, '▁Dumnezeu': 4966, '▁crashes': 22298, '▁stomac': 30313, 'gar': 1478, '▁wounded': 21372, '▁martie': 12378, 'pus': 7800, '▁2019': 1360, '▁video': 671, '▁southwest': 25044, 'white': 13698, '▁inspiration': 3773, 'insbesondere': 12944, '<extra_id_84>': 32015, 'züge': 21219, '▁regl': 17186, 'new': 5534, '▁Ros': 7963, 'Upon': 10688, '▁bio': 2392, '▁curve': 8435, '▁bitte': 9633, 'ässe': 27637, 'spül': 31179, '▁concerts': 14635, 'risti': 22061, '▁Ribbon': 30548, 'од': 17238, '▁declare': 15884, '▁perennial': 24999, '▁jumătate': 19391, 'minute': 6890, '▁absorb': 8074, 'lideri': 30821, 'ikea': 18186, '▁fera': 13573, 'olitary': 28028, '▁verhindern': 26380, 'daten': 10240, '▁stat': 3089, '▁tape': 4874, '▁expérience': 11183, '▁considerable': 10710, '▁Summary': 20698, 'church': 28854, '▁doamn': 20161, '▁attacks': 6032, 'locating': 21240, 'limiting': 17979, 'coat': 18954, 'being': 9032, '▁Slovenia': 27425, 'osse': 13526, '2015': 8651, 'quarter': 19973, '▁Highland': 16816, 'CHAN': 25000, '▁customize': 12761, '▁livre': 6874, 'Roo': 22778, '▁twin': 7390, '▁Travis': 25811, '▁ANY': 10568, '▁vue': 7207, '▁forecast': 7555, 'chy': 11971, 'between': 24829, 'chant': 5367, '▁Antwort': 15379, 'eutic': 27489, '▁manifest': 6571, '▁parler': 13135, '▁Watch': 4195, 'pending': 11577, '▁noisy': 26847, '▁recruiting': 16820, 'ten': 324, '▁îndrept': 29123, '▁Geschwindigkeit': 28694, '▁citesc': 29181, '▁Cobb': 31546, '▁story': 733, '▁wunderschöne': 23284, 'Kon': 18620, 'establishing': 12585, '▁templates': 7405, '▁confidential': 11602, '▁Ukraine': 11897, '8000': 25129, '▁Gift': 8510, '▁plombier': 30742, '▁alarm': 6196, 'phon': 9621, 'kli': 20529, 'feta': 23414, 'Asus': 31133, '▁Vel': 11670, '▁sister': 4806, 'âge': 12708, '▁succeeded': 22399, '▁spreading': 16436, '▁incorrect': 12153, 'GL': 13011, 'ficial': 22816, '▁Maximum': 24210, '▁cumpăra': 24245, 'fahr': 16589, 'kunden': 15695, '#': 4663, '▁Kollegen': 23420, 'launch': 27493, '▁possess': 10164, '▁jardin': 10036, '▁possible': 487, '▁world': 296, '▁magnitude': 20722, '▁specify': 11610, '▁fonduri': 21071, '▁Beziehung': 21583, '▁gehören': 13874, '▁einge': 7732, 'gle': 3537, 'NF': 12619, 'ettes': 16167, '▁geo': 9502, 'sätze': 13807, '▁under': 365, 'Pad': 21853, 'gas': 5556, '▁fencing': 24141, 'tapped': 27267, 'geleitet': 25426, 'glück': 27703, '▁Tell': 8779, 'bling': 7428, 'BRA': 22899, '▁Berlin': 4308, '▁dealt': 15228, 'directement': 11601, 'ished': 11904, '▁Gill': 18584, '▁objects': 4820, 'maß': 21293, '▁centaine': 24386, '▁characteristic': 16115, '▁politicieni': 31464, '▁Lease': 28544, '▁blade': 8720, '▁Patient': 17656, '▁crosses': 26932, '▁Ist': 10277, 'cameră': 29844, '▁households': 15802, '▁‘': 458, '▁musical': 4183, 'thrown': 12618, '▁ressembl': 24588, '▁Tabellen': 29833, '▁destroy': 10123, '▁temporarily': 18223, '▁Brust': 27530, '▁genetic': 6472, '▁anticipation': 23550, '▁unpleasant': 24276, 'org': 1677, '▁recap': 22591, '▁pasta': 13732, '▁créer': 9764, '▁pleasing': 21404, '▁District': 3570, '▁speeds': 13107, '▁sole': 4199, '▁NHS': 17804, '▁toggle': 28094, '▁famous': 2581, 'bei': 5358, '▁contrat': 11440, '▁says': 845, '▁noiembrie': 14470, '▁conséquence': 19748, '▁Fritz': 28748, '▁brothers': 10740, '▁Frage': 6973, 'titi': 9715, '▁jewel': 21863, '▁Voraussetzung': 29921, 'heim': 3254, '▁Folge': 15463, 'klasse': 16424, '▁Preis': 4670, '▁lesquel': 24986, 'bildung': 14365, '▁înlocui': 26287, 'alcoholic': 21683, '▁Wien': 15276, '▁committee': 4492, 'érité': 28104, 'gerät': 19274, '▁2013': 2038, 'gler': 12683, '▁Snake': 31072, 'fund': 7610, 'kicking': 24820, '▁rewarding': 13948, '▁worked': 1279, '▁hills': 11787, '▁Increase': 18840, 'Taking': 12297, '▁Brad': 12678, '▁curs': 8385, 'portion': 31656, '▁fifth': 8486, 'hängen': 23254, '93': 4271, '▁ziar': 26581, 'mplification': 27717, '▁femeile': 24659, '▁erfolgt': 10168, 'umfang': 28025, 'These': 20347, '▁brutal': 14506, 'anlage': 14812, 'extindere': 31478, '▁rates': 1917, '▁table': 953, '▁mai': 187, '▁hand': 609, 'lift': 9253, '▁Isabel': 25504, 'ва': 16624, '▁specifie': 29628, '▁expanding': 9471, '▁analyse': 13590, 'Camp': 24626, 'maschine': 11938, '▁asuma': 27430, '▁Hair': 11716, '▁propriété': 19713, 'PASS': 30317, 'Par': 13212, 'mph': 7656, '▁Swa': 17085, '▁Abs': 8787, '▁Dragnea': 22623, 'nötigen': 16437, '▁drape': 18937, 'entend': 15216, '/7': 21766, '▁Witch': 26512, '▁Southern': 5193, '▁obicei': 12007, '▁acumulat': 28320, '▁Fünf': 31287, '▁raise': 3033, '▁NASA': 15971, 'chel': 8738, '▁internationaux': 31548, 'voll': 5995, '▁packaged': 20828, 'seasoned': 18720, '▁prin': 714, 'Dabei': 7577, 'employeur': 26807, '▁café': 11949, 'lui': 2878, '▁Après': 7658, '▁collector': 12501, '▁sandy': 23151, 'voice': 23235, '▁aider': 11582, '▁întreb': 25538, '▁Contemporary': 16590, 'G': 517, '▁Leistungs': 17038, '▁pony': 26190, '▁Jesus': 1850, '▁Blackjack': 29232, 'De': 2962, '▁souvent': 5976, '▁begeistert': 21652, '▁professor': 5812, '▁universal': 7687, 'organiser': 16983, '▁satisfaction': 5044, 'brand': 12164, '▁inner': 4723, '▁Investor': 16873, 'Heute': 16239, '▁indem': 11468, 'gehörig': 24008, '/1': 14785, 'explorer': 20901, '▁Meter': 12136, '▁delivered': 3566, 'ily': 9203, '▁erfahren': 12015, '▁Carpenter': 28337, '▁west': 4653, '▁wrap': 6215, '▁January': 1762, '▁institute': 13681, '▁racism': 21681, '▁Hartford': 26069, '▁combo': 15122, '▁Ship': 15508, '▁Reg': 7777, '▁500': 2899, '▁cumparat': 18010, '▁demande': 4399, 'zimmer': 11647, 'oko': 12948, '▁utilities': 17930, '▁inhabit': 26350, 'Sync': 24863, '▁existence': 6831, 'lton': 7377, '▁adventure': 4472, '▁surfaces': 8983, '▁insurer': 15421, 'ché': 8831, 'Ensure': 18521, '▁voice': 2249, 'very': 8461, '▁satisfai': 19185, '▁confisc': 28462, '200': 3632, '▁Favor': 16717, '▁cellar': 25974, '▁days': 477, '▁flash': 4923, '▁Card': 4955, 'in': 77, '▁învățământ': 30248, '▁diagnostic': 7028, 'sisted': 15777, '▁neben': 7709, 'verlust': 28667, 'Enhanced': 31422, '▁found': 435, '▁Extract': 18742, 'supposedly': 24309, '▁freedom': 4333, 'shri': 31763, 'Isaiah': 26183, '▁11': 850, '▁prepared': 2657, '0.4': 22776, '▁conducting': 13646, '▁amenities': 8737, '▁Hilton': 22003, '▁distance': 2357, '▁Stay': 8026, 'Nase': 30398, '▁Pou': 20313, '▁lying': 12267, '▁Fusion': 23230, 'bat': 3697, 'parent': 12352, '▁description': 4210, '▁advocate': 11223, '▁Stufe': 28756, '▁Einfluss': 23882, '▁justified': 24125, 'échec': 30427, '▁Ag': 4821, '▁fruit': 2728, '▁Pant': 16620, '▁typo': 23042, 'ttle': 8692, '▁groupe': 4986, 'ми': 21325, '▁Truck': 14049, 'pour': 13399, 'reputable': 16921, '▁integriert': 20261, '▁Deutschen': 15732, '▁wash': 6179, '▁Bronze': 20841, '▁sell': 1789, '▁bay': 10210, 'zam': 19271, '▁avea': 2563, '▁Box': 5179, '▁inspection': 6082, '▁gradina': 28815, '▁statute': 18692, '▁fraction': 12211, '▁necesare': 12275, 'gnac': 24743, '▁basin': 21510, '▁brass': 12724, '▁adéquat': 30708, 'UD': 10161, '▁sanctuary': 23011, '▁moisture': 9576, 'esse': 6119, 'évaluation': 22389, 'pedia': 24477, 'zin': 7196, '▁conventional': 7450, '▁Sunday': 1771, '-': 18, '▁septembre': 12086, '▁Quin': 14673, '▁quotidienne': 23741, 'ère': 2970, '▁dinosaur': 21677, '▁vodka': 30320, '▁wireless': 5419, '▁rond': 19033, 'ALL': 12126, 'IONAL': 27342, '▁diferit': 19468, '▁Dach': 14557, '▁various': 796, '▁putea': 2574, '▁Massage': 18162, '▁Kla': 9058, '▁ţară': 22457, '▁alternate': 13902, '▁commune': 9026, '▁baking': 6506, 'carbon': 17089, '▁adult': 3165, '▁echipe': 20183, '▁Democracy': 28754, '▁seal': 7042, 'Totally': 30115, '▁Bil': 14918, 'dincolo': 26242, '▁comedian': 27870, 'pfel': 17433, 'country': 17529, '▁12.': 8013, '▁Symposium': 23893, 'ising': 4890, '▁rezolv': 12688, 'Oamenii': 28073, '▁rallie': 26930, '▁Hall': 2501, 'gren': 16677, '114': 18959, '▁Tropical': 28907, '▁enorm': 18213, '▁1965': 19201, '▁transfers': 16319, '▁strawberries': 25661, '▁View': 4197, '▁européenne': 15851, '▁cheese': 3285, '▁integral': 9074, '▁Punch': 29837, '▁cerinte': 30219, '▁vein': 13290, '▁removal': 4614, '▁executive': 4297, '-6': 5783, 'fat': 6589, '▁Ellis': 22342, '▁Mann': 6362, 'enii': 12859, '▁ascend': 25200, '▁Anyway': 11107, 'âmb': 18825, '▁Hell': 11419, 'ații': 9556, 'gericht': 13030, 'MENT': 11810, '▁arrangement': 8641, 'öck': 28142, '▁Maschinen': 22622, '▁chaise': 23174, '▁understand': 734, '▁Prix': 12942, '▁holistic': 16676, 'quality': 4497, '▁Mill': 4185, '▁conferences': 13653, '▁sick': 6802, '▁développement': 6909, 'iene': 15067, 'lig': 2825, '▁environmentally': 17492, 'sta': 2427, '▁bucur': 10408, '▁deserve': 9092, '▁nos': 2844, 'egi': 11097, '▁paid': 1866, '▁livraison': 16913, '▁rating': 5773, '▁Kau': 24253, '▁DJ': 6920, '▁vidéo': 8332, '▁biggest': 2630, '▁Mac': 2143, 'DAY': 12860, '▁anti': 1181, '▁Gourmet': 30419, '▁sequence': 5932, 'vru': 23178, 'FE': 6392, '▁Whitney': 29993, '▁renewable': 12475, 'gress': 10292, '▁add': 617, '▁Special': 3608, '▁briefly': 16964, '▁farmhouse': 24979, '▁președinte': 28076, '▁Nic': 20310, '▁desires': 15147, '▁printemps': 24771, '▁maintained': 6997, '▁cyst': 26530, '▁Analytics': 13926, '▁courageous': 29962, '▁Arabic': 19248, 'erklärung': 27595, 'FA': 4795, '▁visits': 8305, '▁sept': 16022, '▁Images': 15180, '▁mathematics': 17082, '▁kilometers': 20325, 'ntsprechend': 31454, '▁Bot': 10091, '▁processing': 3026, 'funk': 15668, '▁Sinne': 17975, '▁pluralit': 29101, '1000': 16824, '▁Dem': 10007, '▁vara': 18040, '▁predecessor': 21654, '▁Carolina': 5089, 'FORM': 24030, '▁Spencer': 22577, '▁titanium': 28663, '▁formidable': 25114, '▁eternal': 15137, '▁Root': 18134, '▁cereri': 21453, '▁Macron': 23186, '▁correction': 11698, 'hä': 10926, '▁Mi': 2133, '▁Juli': 9983, '▁unemployment': 17646, '▁Aufwand': 28215, 'einsatz': 28418, '▁solo': 6729, '▁5.': 3594, '▁Northern': 5961, '▁Jones': 6193, '▁Chiropractic': 29618, '▁Gun': 9982, '▁trilogy': 29093, 'une': 444, '▁häufig': 9946, '▁Vereinbarung': 30423, '▁Though': 4229, '▁Maxi': 15236, '▁élèves': 16367, 'angled': 19834, '▁username': 20304, '▁alt': 4445, '▁Kontakt': 8228, '▁repro': 19482, 'stellt': 14041, 'farbig': 30625, 'ischen': 1779, '2010': 14926, '▁CE': 9265, '▁crimes': 14461, '▁dezvoltat': 21718, 'ucun': 22838, 'panel': 28726, 'berg': 2235, '▁etc': 672, '▁guerre': 15370, '▁joints': 14518, '▁Buck': 10295, '▁tester': 18924, '▁unforgettable': 19336, 'ledge': 13553, '▁meeting': 1338, '▁associée': 30461, '▁destul': 8790, '▁Wholesale': 20219, 'к': 6652, '▁roman': 3408, 'serviciile': 16650, '▁kit': 3650, '▁salva': 18770, '▁Dublin': 14112, '▁update': 2270, '▁marker': 18156, '▁confortable': 23467, 'ș': 1198, '▁site': 353, 'ill': 1092, '▁Pentru': 2364, '▁deficit': 11724, 'bedroom': 24336, '▁bounty': 31151, '▁geht': 3015, '▁miteinander': 22340, 'fü': 6335, 'centralized': 21411, '▁excess': 7240, 'kar': 4031, '▁Deutsche': 15024, '▁poem': 14193, 'niei': 26757, '▁flexible': 4136, 'stating': 17211, 'stellen': 5177, '▁warfare': 28229, '▁Simply': 7303, '▁schimbare': 18115, 'Suntem': 21757, 'obtenir': 9615, '▁Iulia': 25441, '▁admir': 10407, '▁extensions': 15176, '▁tras': 12656, '▁psychological': 11041, '▁Mr': 1363, '▁pain': 1406, 'ficient': 17397, 'specializes': 17095, '▁recovery': 3938, 'governing': 19585, '▁workmanship': 26884, 'TEN': 17779, '▁while': 298, 'originating': 31433, '▁dafür': 5552, 'SHA': 19964, '▁Atom': 20474, '▁motivate': 18198, 'häuser': 18859, 'vid': 6961, '▁30-': 12471, 'except': 20933, '▁implementation': 4432, '▁Lamp': 13667, '2.5': 15967, 'ASP': 23380, 'appartement': 16498, '▁Assignment': 31821, '▁prezent': 4592, 'EEP': 28367, '▁without': 406, '▁partie': 4041, '▁ignite': 29444, '▁mentioned': 2799, 'PDF': 17559, 'age': 545, '▁aroma': 9148, '▁discomfort': 17294, '▁Wähle': 26498, 'ethylene': 28184, '▁diferenta': 28182, '▁quatre': 12081, '▁put': 474, '▁cap': 2468, 'file': 11966, '▁livr': 16965, 'ierung': 3194, '▁preference': 11633, '▁bénévole': 30143, 'house': 1840, '▁industrial': 2913, '▁lamb': 17871, '▁farther': 25300, '▁stones': 12906, '▁oarec': 27793, 'sted': 6265, '▁HVAC': 16572, '320': 15003, '▁Dich': 14787, 'experimenting': 26718, '▁domeniul': 9180, '▁noua': 10915, '▁varied': 10535, 'acy': 4710, '▁Bis': 6483, 'agence': 13609, '▁expense': 8225, '▁One': 555, '750': 9979, '▁sum': 4505, '▁residents': 2797, 'Typically': 17229, 'HB': 19990, '▁rayon': 19945, '188': 25794, '▁MO': 7109, '▁sensors': 12237, '▁Consultant': 16268, 'Design': 19103, '▁di': 1227, 'Drive': 20982, '▁Konflikt': 26258, '▁Peanut': 30520, 'ène': 9720, '▁grab': 6131, 'HR': 11120, '▁Klick': 20389, '▁prieteni': 16238, '▁societies': 18804, '▁inima': 17018, '▁Retour': 31937, '▁Thread': 23454, '▁Pinterest': 12476, 'boo': 12840, '▁maintenance': 2453, '▁Rox': 26490, 'paved': 24433, '▁sănătate': 17214, '▁moderate': 8107, 'leid': 21397, '7-9': 29568, '▁orthodontic': 29371, '▁Moon': 9023, 'existant': 27649, '▁ancestral': 31352, 'initiative': 23498, '▁not': 59, '▁ajută': 18425, '▁Kennedy': 14532, '▁Mother': 8007, '▁processed': 8534, 'bit': 2360, '▁Ghi': 20730, 'ranked': 8232, 'ième': 21193, '▁pregnant': 9841, '▁Export': 17619, '▁societăți': 29757, '▁Weihnachts': 16809, '▁Bed': 7499, '▁Minimum': 22619, '▁Los': 3144, '▁spin': 5404, 'numeroase': 17738, '▁Michigan': 5847, '▁minunat': 15509, '▁schöne': 11878, '▁Vista': 16695, 'beliebig': 30735, 'utti': 31944, '▁elementary': 15468, 'Avem': 22859, '▁können': 730, '▁bubble': 11144, '▁réception': 22544, '▁where': 213, '▁sujet': 9271, 'funktion': 14474, 'woven': 16846, 'ollywood': 30322, '▁infestation': 30607, '▁Lou': 11884, 'ără': 13525, '▁1925': 28484, '▁audit': 6572, 'pflicht': 17800, 'torului': 15317, '▁geringe': 16298, '▁Vergleich': 10442, '▁autentic': 27566, 'ancien': 11098, '▁banana': 13634, '▁Power': 2621, '▁Additionally': 5433, 'relevant': 30374, '▁Brit': 12188, '▁violence': 4756, '777': 26225, 'LM': 11160, '500': 2560, 'big': 12911, 'manned': 28556, '▁obtien': 30165, '▁came': 764, 'iete': 22881, '▁mixer': 16188, '▁Wi': 2142, 'wSt': 29591, '▁600': 7366, '▁Fälle': 31596, '▁background': 2458, 'Her': 12636, 'KING': 20961, '2.8': 19419, '▁sounds': 2993, 'aku': 16296, '▁metallic': 18813, '▁Revenue': 19764, '▁Impuls': 29369, '▁Libra': 27126, '1.000': 21824, '▁humor': 13934, 'ewed': 27058, '▁deja': 6009, 'ica': 2617, '▁Corn': 11673, '▁lapte': 17298, '▁Midland': 24914, 'hart': 13626, '▁medicine': 4404, '▁technical': 2268, '▁Blood': 12737, 'abo': 9008, 'wachsen': 13253, '▁Rum': 17355, '▁Wilhelm': 27545, 'Allerdings': 17072, 'abia': 15932, '▁flair': 27330, '▁Northwestern': 30198, '▁followed': 2348, '▁Healthy': 19188, '▁Premium': 9565, '2-4': 21432, '▁laminate': 21588, '▁Holland': 14066, '▁75': 6374, '▁Legion': 26713, 'Best': 17278, '▁schafft': 23336, '▁merveille': 27015, '▁Namibia': 30977, '30': 1458, '▁pepper': 5270, 'rä': 7921, 'auto': 8010, '▁cookies': 5081, '360': 19208, '▁tratament': 9814, '▁là': 5381, 'prezentate': 23600, 'AD': 6762, '1-0': 18930, 'licit': 11192, '▁Money': 8833, '▁DOE': 30050, 'des': 1395, '▁clientèle': 27458, 'Park': 26163, '▁digital': 1125, 'pinion': 22441, '▁sufletul': 19651, '▁40%': 13152, '▁row': 7358, '▁evening': 2272, '▁deficiencies': 30307, '3.7': 25168, '▁dictator': 25280, '▁recruitment': 11615, '▁Monroe': 25182, '▁fournisseur': 18880, 'ENS': 18433, 'influx': 30906, '▁repeated': 12171, '▁partagé': 26613, '▁rod': 6102, '▁maturity': 22004, '▁réussite': 24693, 'ram': 2375, 'kommenden': 21671, '▁Publikum': 22692, '▁glory': 12582, '▁Jenny': 24244, '▁Blo': 12861, '▁fiberglass': 30014, '▁privacy': 4570, '▁fraudulent': 24283, '▁console': 8990, 'enabling': 10165, 'protect': 19812, '▁injury': 2871, 'CD': 6931, 'mad': 11374, '▁email': 791, '▁heating': 5866, '▁Fund': 3563, '▁consequent': 21612, 'ţei': 12610, 'credited': 16473, '▁color': 945, 'zing': 8128, '▁autovehicul': 27316, '▁rolling': 8394, '▁Pine': 13395, '▁Proof': 25029, 'kop': 17466, '▁driveway': 16860, '▁Justice': 6923, '▁Year': 2929, '▁Q': 1593, 'space': 6633, 'acquiring': 19031, '▁Build': 14025, '▁venue': 5669, '▁residual': 27687, '(0)': 31862, '2008': 16128, '▁feuilles': 27269, 'analyzing': 19175, 'jur': 10609, '▁habit': 7386, '▁Talent': 17660, '▁grim': 20425, 'allow': 18912, '▁Marin': 17154, '▁Witness': 30214, 'PN': 15420, '▁lupta': 17616, '▁parlamentar': 21909, 'Association': 25714, 'issen': 14379, '▁Tarif': 18826, '▁differ': 7641, '▁nicely': 11040, 'eck': 5007, '▁succeed': 7229, 'blich': 19249, '▁Research': 2200, '<pad>': 0, '▁serial': 10501, '▁rivet': 27063, '▁attract': 5521, 'school': 6646, '▁snacks': 12751, '▁gloss': 20666, '<extra_id_96>': 32003, '▁tilt': 20382, 'uza': 14070, '▁spune': 3572, '▁ajutor': 17333, '▁reconsider': 27812, '▁Sam': 3084, 'fold': 10533, 'vention': 13858, '▁stiff': 14537, 'prinz': 23538, '▁lithium': 26780, '▁Pack': 7652, '▁2001': 4402, '▁Pricing': 28633, 'copie': 17634, 'ieux': 11891, 'sieg': 19247, 'simplest': 21120, 'strich': 22350, '0:00': 25713, '▁skippe': 26205, '▁Siri': 22438, '▁substanț': 29800, 'char': 4059, '▁disappointed': 10978, '▁Eight': 18516, '▁pipeline': 12045, '▁removed': 3641, '▁get': 129, 'ordinea': 29507, '▁apare': 12825, '▁trec': 18172, '▁chief': 5752, '-14': 11590, '▁Right': 5068, 'speicher': 19506, 'press': 4715, '▁relaxare': 26023, '▁salon': 6885, '▁Top': 2224, '▁pierdut': 15914, '▁Welt': 3779, 'ethanol': 23243, '▁reactor': 24715, 'ADD': 24604, '▁faites': 14502, '▁Stress': 16059, '▁decoration': 11649, '▁perceive': 21505, '▁Roulette': 26773, '▁THANK': 29666, 'action': 4787, '▁mood': 6526, 'strategie': 21889, '▁trees': 3124, '▁formula': 5403, '▁Beitrag': 11568, 'près': 8862, '▁Hydr': 21531, '▁empathy': 23950, 'fostering': 29691, 'NET': 9978, '▁nötig': 22195, '▁personality': 6794, '▁Turkish': 15423, '▁Uber': 16960, 'scopul': 13787, 'economic': 13599, 'ations': 1628, '▁lab': 7690, '▁verde': 12626, '▁voir': 5052, '▁Superior': 19463, '▁worker': 10416, 'bri': 2160, 'reifen': 18143, '▁aplicat': 14463, 'soaking': 27848, '▁golf': 4319, '▁warranty': 6755, '▁Johnson': 5891, '▁hang': 5168, 'ber': 1152, 'Ang': 8365, '▁stated': 4568, '▁Alaska': 12821, '▁Walsh': 27690, 'U': 1265, '▁aesthetic': 9386, 'summe': 23541, 'danken': 23020, '▁Harvey': 20971, 'va': 900, '▁erfolgreich': 10200, '▁Pam': 19412, '▁mandate': 12871, '<extra_id_67>': 32032, '▁altern': 21934, '▁Inhalt': 15388, 'avaient': 16276, 'onsite': 24452, '▁Literary': 30621, '▁waves': 9866, '▁Wu': 17792, 'élis': 29384, '▁fountain': 18051, 'implementing': 10311, '▁Salvador': 27564, 'bald': 8267, '▁erweitert': 24137, 'usage': 18672, 'ark': 6604, '▁Zeichen': 22252, 'GA': 6302, '▁tested': 5285, '▁panic': 13647, '▁warten': 22589, 'articul': 12277, '▁geometry': 23898, '▁educate': 7226, 'riya': 26038, '▁Erfüllung': 28881, '▁greu': 7968, 'elf': 10386, 'ender': 3868, 'nettoyage': 28317, '▁Lex': 17546, '▁20%': 7580, '▁Rail': 17169, '▁shipped': 10737, '▁paradis': 31191, '▁Bottom': 23797, '▁spe': 15142, 'theater': 26731, '▁bow': 12543, '▁parents': 1362, 'makers': 8910, '▁proliferation': 27419, '▁Paar': 26012, '▁Divi': 27284, '▁journalism': 19433, '▁Steuer': 12214, '▁knapp': 16470, '▁elektronische': 26523, '▁reduce': 1428, '▁yeast': 17937, '▁blackjack': 23616, '▁rarely': 8207, 'training': 13023, '▁Dating': 16719, '▁Back': 3195, '▁fournir': 20874, 'ver': 624, '▁hyper': 6676, '▁gutter': 16019, '▁proclaim': 29620, 'prepaid': 29832, '▁responsibly': 31893, '▁21,': 12026, 'flexibel': 31339, '▁Version': 8011, 'ONG': 15628, '▁24,': 14320, 'PK': 16782, '▁enquiries': 27655, '▁1994': 7520, '▁fluctu': 23460, 'cios': 19029, '▁acceleration': 23224, 'Pierre': 26928, 'éloign': 29041, 'cet': 9113, '▁Ville': 15626, '▁este': 249, '>': 3155, '▁populations': 11683, '▁reflux': 29377, '▁Tribune': 30013, 'chol': 14297, '▁Digital': 4190, '▁Fotos': 14753, 'SL': 5629, '▁ambulance': 25102, 'plan': 3767, '▁bodi': 23322, '▁Romaniei': 21503, 'supplementary': 31505, '▁authority': 5015, '▁immensely': 26268, '▁settings': 3803, '▁Mess': 6598, 'bull': 20638, 'El': 10991, '▁recorded': 4381, '▁commentaire': 16261, '▁crystal': 6884, '▁Inspired': 22783, '▁pupil': 26913, '▁greet': 22428, '▁données': 5691, '▁Kle': 19549, '▁summon': 23655, '▁binding': 11293, '▁Finger': 16625, '▁Sunset': 26818, '▁partners': 3222, '▁illness': 7095, '▁Serial': 29549, '▁acolo': 6673, '▁malaria': 29466, '▁Awards': 6580, '▁Entscheidung': 10798, '▁documents': 2691, '▁trial': 3689, '▁zunehmend': 24453, 'forestry': 31197, 'ness': 655, '▁diesel': 12292, '▁celelalte': 18481, 'Atelier': 23612, 'Marie': 25565, '▁calculator': 9019, '▁Teilnahme': 21850, 'incat': 20860, 'carui': 15952, '▁Flickr': 29865, 'Listed': 28886, '▁medieval': 16493, '4.1': 19708, '▁sudden': 12914, 'surprisingly': 12713, '▁ramburs': 31755, '▁uita': 15780, '▁ianuarie': 12883, 'side': 1583, '▁Corporate': 11588, '▁entfernen': 27847, '▁Aufgaben': 15560, '▁annual': 2041, '▁modify': 11435, '▁remove': 2036, 'genie': 23891, '▁Offering': 22460, '▁Moral': 28466, '▁appliance': 16307, '▁ruler': 21893, '▁reporters': 19644, 'direct': 21241, '▁happened': 2817, '▁séparé': 29131, 'secure': 24875, '▁memorable': 10080, '▁Flash': 9497, 'sole': 10294, 'paper': 19587, '▁Ferdinand': 31118, '▁march': 10556, '▁bain': 7835, '▁nächste': 14473, '▁Sound': 7047, '30,000': 17093, 'Curtea': 24949, '▁Armstrong': 26044, 'psy': 19819, '▁Kent': 14599, '▁preservation': 19368, '▁transcription': 20267, '▁contribui': 16249, '▁urmeaza': 25554, '▁depasi': 30502, 'trust': 17691, '▁copil': 9784, 'partei': 29627, 'minded': 11644, '▁craftsmanship': 25112, '(5)': 15757, '▁ventilation': 18426, '▁chanson': 22575, 'natură': 29363, '▁pay': 726, '▁ultima': 11422, '▁Book': 3086, 'accompanied': 10102, 'Occasionally': 29804, '▁FAQ': 21257, 'ndern': 24908, 'sed': 3843, 'rote': 14919, '▁nation': 2982, 'crease': 24706, 'headquartered': 27630, '▁Wein': 9819, '▁turc': 25609, '▁irritation': 25330, '▁logement': 14974, '▁pamant': 25073, '▁bored': 19682, '▁lawmakers': 23419, 'isierung': 10120, 'vie': 5914, '▁lotion': 25097, '▁Inspiration': 16077, 'ühr': 13544, '▁chopped': 18510, '▁princess': 19121, '▁partout': 20598, '▁monnaie': 30079, '▁meilleur': 5476, '▁slides': 16044, '▁salt': 3136, '▁definition': 4903, '▁Rug': 18675, '▁Umfang': 27149, '▁I': 27, '▁succulent': 29566, '▁jointly': 22801, '▁Flughafen': 24302, '▁difficulties': 10308, '▁sexuelle': 27768, '▁tro': 10968, '▁Olive': 16893, '▁movement': 2426, 'mal': 1982, '▁choisir': 10675, '▁habits': 8966, '▁irgendwie': 26340, '▁School': 1121, '▁fest': 5423, '▁Prison': 27344, 'protein': 23083, '▁Really': 11291, '▁instruments': 7778, '▁wilderness': 21948, '??': 8546, 'Avec': 6581, '▁partenariat': 20646, '▁Santa': 4625, 'Générale': 31718, 'Ho': 4489, '7)': 12703, '▁encrypted': 24107, '▁Nürnberg': 28211, '▁Com': 2570, 'sch': 860, '▁tasting': 12246, 'großer': 19189, '▁(4': 8457, 'alt': 2920, '▁Spiel': 3012, 'UC': 6463, 'optimum': 18200, '▁succès': 14764, '▁preot': 25602, 'pozitia': 28675, '▁roadway': 26624, 'dler': 12807, '▁Match': 12296, '▁Lösungen': 20670, 'floor': 20924, '▁légère': 17311, '▁Contractor': 16858, 'Can': 14050, '▁Instructor': 24562, '▁Breed': 28814, '▁nachhaltig': 19109, '▁Pride': 24252, 'mor': 2528, 'after': 10245, '▁Lum': 11635, 'needed': 25797, '/2': 13311, 'ATOR': 28966, '▁segment': 5508, '▁taille': 9989, '▁Lydia': 31914, '▁infections': 13315, 'IRE': 14132, '▁sealed': 16645, 'forementioned': 22835, '▁SERVICE': 26209, 'available': 28843, '▁•': 1697, 'oom': 14872, '▁Alternative': 13661, 'Trader': 21923, '▁Chor': 17531, '▁prezenta': 12006, '▁highway': 10367, '▁precursor': 30073, '▁lieu': 4618, 'Co': 3881, 'nutri': 8631, '▁abrupt': 25119, '▁clasp': 31901, '▁2-': 8401, 'mittlere': 28353, '▁apărut': 20719, 'de': 221, '▁durable': 5366, 'categorized': 28295, '▁style': 869, 'pad': 5612, '▁optimize': 13436, 'aide': 5385, '▁Get': 1609, '▁dorit': 10249, 'about': 7932, '▁awful': 16242, '▁horr': 21315, '▁ceva': 3451, 'Gar': 21846, '▁Few': 21194, 'rite': 5730, '▁ambassador': 20850, '▁lure': 22532, '179': 26593, '▁Corona': 28045, '▁turmoil': 31090, '▁aşez': 31410, '▁gets': 2347, '▁gamers': 24017, '▁juice': 5143, 'ен': 22123, '▁PRE': 22694, '▁coffre': 28952, '▁Gedanken': 18952, 'englische': 29207, 'attributed': 20923, '▁Movers': 27226, '▁Découvrez': 19734, '85%': 25832, '▁incendiu': 31408, '▁quote': 5035, '▁diameter': 9260, 'pet': 4995, 'Photo': 27529, '▁circulati': 31342, 'anthropo': 21468, '▁lumini': 27896, '▁reactions': 14081, '▁montré': 29625, '▁flesh': 15634, 'IME': 15382, '▁ge': 873, 'Image': 29979, '▁18': 507, 'messung': 29318, 'Veterinary': 28052, '▁54': 10630, '▁lawyer': 6297, '▁entirety': 26771, 'submitting': 14975, '▁près': 9800, 'Mark': 19762, '=>': 15425, '▁vibrant': 8328, '▁Purple': 21834, '▁Glück': 11789, '▁plage': 17713, '▁lengthy': 17574, '▁colleague': 19774, '▁effective': 1231, '▁severe': 5274, '▁străzi': 28752, 'ink': 6090, '▁quirky': 26576, '▁Mü': 11412, '▁achizitiona': 22184, '▁farmer': 17766, '▁City': 896, 'erster': 21735, '▁Hub': 10261, '▁designated': 9943, '▁Andrei': 19111, '▁conjoint': 29684, '▁collapse': 11612, '▁Writing': 10237, '▁Punkt': 17209, '▁squeeze': 20103, '▁Guys': 9070, '▁Commonwealth': 21260, 'Bro': 22780, '▁Monitoring': 23740, '▁compatibil': 14235, 'organisation': 10832, 'Deutsch': 18609, '▁priority': 5734, '▁securely': 18518, 'dauer': 15069, '▁cocktail': 12287, 'guessed': 28278, '▁afecteaz': 28251, 'ION': 9215, 'deteriorat': 18687, 'arrondissement': 31758, '▁successful': 1574, '▁bonne': 4079, '▁emotional': 3973, 'veti': 9287, '▁Focus': 11561, '▁45': 3479, '▁continuously': 11721, 'ously': 11937, '▁adjusted': 13108, 'sculpt': 12184, '▁Authority': 9293, '▁factories': 23295, '▁intervention': 7897, 'construction': 26471, 'cial': 4703, '▁wollen': 6056, '▁regulatory': 8253, '▁Reise': 6807, '▁mode': 2175, '▁wonder': 3337, 'tische': 10175, '▁jazz': 9948, '▁Louisville': 25829, 'abteilung': 30514, 'edge': 9390, '▁fal': 12553, '▁Disclaimer': 30169, 'ORI': 19351, '▁enhance': 3391, '▁Jennifer': 13560, '▁impreuna': 14359, '▁Boulder': 25591, 'Gitarre': 31671, 'incepand': 26507, '▁better': 394, '▁temps': 1993, '▁disciples': 19424, '▁Flame': 25489, '▁evenimente': 14711, '▁poudre': 29898, '▁noștri': 26470, '▁pense': 9790, '▁prominence': 31829, '▁medici': 18170, '▁remake': 28994, '▁Infrastructure': 24076, '▁instead': 1446, '▁Puzzle': 29411, '▁2017.': 3846, '▁Mé': 10598, '▁Late': 13294, '978': 21441, '▁facing': 5008, '▁Berkeley': 20776, 'kontakt': 29422, '▁monarch': 28397, '▁conference': 2542, '▁Excellent': 11497, 'paving': 28477, 'braking': 28157, '▁uniquement': 16743, 'geld': 13022, '▁Su': 1923, 'ensemble': 7408, '▁frequent': 8325, 'zon': 8892, '▁Garage': 13778, '▁aplic': 12639, '▁Own': 20546, '▁Emil': 21038, '▁Failure': 25629, '▁spy': 14520, '▁wird': 551, '▁selbst': 2619, '▁disponible': 11871, '▁Launch': 17113, 'clean': 16480, '▁Clay': 20988, 'loch': 23654, '▁möchtest': 28330, '▁temporar': 28650, 'vient': 8518, '▁lunette': 30577, '▁Foster': 21190, '▁however': 983, 'grenzt': 28539, 'Help': 29582, '▁developmental': 20697, 'fach': 8091, 'geschnitten': 24233, 'obos': 18139, '▁involved': 1381, 'Writ': 24965, '125': 10124, 'chim': 9737, '▁boats': 12285, 'durchschnittlich': 22447, '▁relate': 9098, '▁acestora': 8883, '3.5': 9285, '▁nomination': 13588, 'gelöst': 22228, '▁Spectrum': 29998, '▁oak': 11586, 'versichert': 31791, '▁Office': 2126, '▁chemicals': 9356, '▁garanti': 13990, '▁Vorteil': 19792, '▁funcție': 20645, '▁solaire': 25748, 'wirksam': 24576, 'störung': 24096, '▁alin': 15032, 'bending': 27081, 'lieferung': 29225, '▁glance': 15963, '▁appropriate': 2016, 'gonna': 13366, '▁Past': 10180, '▁mosaic': 26223, 'MS': 4211, 'RAF': 27380, '▁veche': 24126, 'hard': 5651, 'LF': 18962, 'mitted': 16030, '▁Kamera': 18753, '▁companie': 19267, '▁vécu': 26871, '▁throttle': 28731, 'punctul': 19605, 'județul': 28413, 'richtung': 18055, '▁Tax': 5287, '▁unstable': 27644, '▁Kuchen': 28655, '▁valuable': 3435, '▁constant': 3917, '▁potatoes': 11076, '▁recette': 20549, '▁Attorney': 10154, '80': 2079, '▁exception': 5763, '▁utilize': 5849, '▁wanted': 1114, '▁aceste': 3453, 'rai': 7253, '▁vocabulary': 19067, 'wasting': 26281, '▁mod': 1794, '▁Connect': 7878, 'veni': 8338, 'premise': 17398, 'Cap': 19566, '▁ausgeschlossen': 28264, '▁Hafen': 28290, '▁LTD': 27004, '▁cereal': 17360, '▁vreme': 10831, '▁undertaken': 18046, '▁Frucht': 28983, 'versprechen': 31296, '▁Wing': 15753, '▁gifted': 20945, '▁Ox': 20919, '▁wrench': 27553, '▁since': 437, '▁parental': 21555, 'zahn': 30969, 'Daddy': 26306, 'weilige': 29904, '▁silver': 4294, '▁Hello': 8774, '▁que': 238, '▁reusit': 17889, '▁stimulating': 24664, 'fiber': 27629, '▁Erfahrung': 11123, '▁trying': 1119, '▁success': 1269, '▁ministry': 8409, '▁noon': 18472, '▁analysis': 1693, '▁cord': 7496, '▁River': 2473, '▁nou': 3821, 'ieri': 9626, '▁libertate': 23432, '▁organisation': 5102, 'releasing': 16306, 'linux': 31016, '▁Explo': 19746, '▁furnish': 26808, '▁Achievement': 29038, '▁gandi': 18048, '▁dificil': 19156, '▁excited': 2787, '▁buddies': 28548, '▁sheep': 15184, '▁require': 1457, 'pop': 9791, '▁avantages': 24401, '▁fluorescent': 27468, '▁Griff': 26173, 'REA': 13223, '▁lovitur': 30562, 'phor': 19968, '2.7': 21280, '▁Site': 3238, 'UAL': 24596, 'atorii': 11365, 'jedenfalls': 28999, '▁1:2': 30651, 'holz': 13085, '▁orchid': 30206, '▁Trocken': 30490, 'US': 3063, '▁bo': 3005, '▁spectacular': 8254, '▁Disneyland': 29768, 'I': 196, 'imply': 18531, '▁școli': 29602, 'sanitary': 30688, 'amintesc': 30832, '▁iTunes': 14963, '▁kreative': 26562, '▁deal': 1154, 'gold': 14910, 'edia': 18999, 'ти': 18352, '▁apparently': 8743, 'zzi': 21607, '▁Grundsätzlich': 31734, '148': 24748, '▁couple': 1158, '▁Tal': 11350, '▁potrivit': 6074, 'politisch': 29010, '▁Interface': 25064, '▁distinctive': 11562, '▁komme': 26212, 'lag': 5430, '▁flag': 5692, '▁Kansas': 10585, '▁sulfur': 29090, '<extra_id_81>': 32018, '▁sportiv': 21014, '▁dispozitiv': 16430, '▁needed': 906, '▁basically': 6171, '▁revenir': 21814, '▁Hollywood': 8426, 'attracting': 21600, '▁froid': 18232, '▁advertisements': 20356, 'zar': 7061, '192': 19978, '▁fascinated': 24631, '▁ideology': 26403, 'Known': 26176, '▁Pflicht': 22815, '\"': 121, '▁article': 1108, '▁règle': 27276, '/12': 18009, '▁rosemary': 31581, '▁Scrap': 27962, '▁plant': 1475, '▁copilului': 19627, 'guru': 21184, 'graphy': 16369, '▁Internet': 1284, '▁spinal': 18012, 'pathy': 24136, '▁acteurs': 18644, '▁trust': 2019, '520': 25356, '▁motto': 26014, '▁Wahrheit': 29438, '22': 2884, '▁compétence': 30591, '▁Rettungs': 30720, 'cast': 5254, '▁sal': 5394, 'OV': 21294, '▁interesting': 1477, '▁Mitglieder': 12904, '▁marvelous': 27691, 'They': 10273, '▁Jake': 19806, '▁conducted': 4468, '400,000': 31471, '▁Girls': 13312, '▁solar': 3693, '▁recommendation': 10919, 'objectif': 11399, 'prennent': 21292, '▁sistem': 6517, '▁Dallas': 9628, 'be': 346, '▁Coast': 5458, 'SO': 6582, '▁ziua': 9073, '▁Scientific': 19268, 'ered': 3737, 'président': 31920, 'quart': 17231, 'map': 11576, 'indi': 8482, '▁Teacher': 17476, '▁Rez': 18100, 'confidence': 28494, '▁800-': 21831, 'ä': 1864, '2019': 8584, '▁staatlich': 28895, 'Attempt': 31108, 'witz': 15686, 'keit': 5754, '▁graphics': 6484, '▁Protection': 8009, '▁Gründe': 18909, '▁Trust': 5313, 'opter': 19893, '▁budget': 1487, '▁agree': 2065, '▁reçu': 14922, '▁swimming': 5989, '▁Alfred': 19850, 'opportunité': 24398, '▁perte': 18941, 'intérieur': 7890, 'struktur': 17071, '▁proiectul': 18442, 'Founded': 20100, '▁Naturally': 24624, 'is': 159, 'sie': 2452, '▁Fokus': 25593, '▁Refrigerat': 29210, '<extra_id_20>': 32079, '▁ROI': 23532, '▁total': 792, '▁alle': 1854, 'ES': 3205, 'aza': 5246, '▁Spin': 10792, '▁Aero': 12727, 'alterations': 27397, 'Posted': 10288, '400': 5548, '▁complaints': 11244, '▁saptamani': 23245, '▁import': 4830, '▁condemned': 29504, '▁Als': 4746, '▁numéro': 13036, '▁Than': 19224, 'gewiesen': 20409, '▁immer': 1372, '▁feelings': 6382, 'schnitt': 15485, '▁vreo': 11744, 'entre': 9578, '▁festive': 15723, '▁Flü': 24516, 'ssé': 17230, 'animate': 29264, '▁genial': 27958, '▁working': 464, 'dividing': 29111, '▁Theory': 18989, '▁dezvălui': 30439, '▁harvest': 10515, '▁Climate': 15772, '▁eticheta': 31050, 'moor': 21477, 'haben': 16043, '▁Threat': 30980, 'verfahren': 16052, '▁barre': 18595, '▁it': 34, '▁ligne': 3743, '▁trece': 10732, '▁antique': 11304, 'attempting': 12663, 'ibi': 16775, '▁Primări': 21467, '▁Brigade': 30154, '▁reserved': 14040, '▁cazul': 3824, 'ô': 10079, 'outhwestern': 31380, '▁trapped': 19779, '▁Compact': 24333, '▁Versailles': 30956, '▁Feld': 14436, 'contacted': 12655, 'pac': 5379, '▁cooperative': 20270, '▁Singer': 24366, '▁Shepherd': 25721, 'semblent': 31827, '▁acquisition': 6566, '▁buffer': 17164, '▁planned': 4355, 'üblichen': 30954, '▁irregular': 22085, 'court': 14492, '▁entities': 12311, '▁teoretic': 30743, '▁Gerade': 17411, 'lasted': 19054, '▁ankle': 16594, 'drückt': 26895, '▁Color': 6088, '▁museum': 7071, '▁amplifier': 22325, 'tar': 2046, 'IPA': 25981, '▁athletic': 12217, '▁japonais': 26856, '▁korrekt': 28305, 'setzung': 14058, '▁stup': 28913, '▁Perspektive': 27524, '▁sugar': 2656, '▁casă': 20405, 'venez': 25277, '▁année': 7822, '▁Gam': 19871, 'któ': 30479, 'einheit': 19015, 'lug': 8076, '▁cardiac': 16643, '▁inherent': 18340, 'ounce': 7906, 'drin': 19161, '▁Dentistry': 28253, 'ania': 11219, '▁aluminum': 8749, 'formulaire': 23084, 'kommst': 31591, '▁refund': 7147, 'bauen': 12323, '▁Reifen': 29737, 'stieg': 11657, '▁southeast': 26181, '▁1930': 15559, 'cultural': 14700, 'avoiding': 16217, 'mitglied': 19757, '▁Glen': 8300, '▁nest': 9190, 'métrage': 31283, '▁Simulation': 29803, '▁soirée': 15104, '▁calculations': 19868, '▁plac': 6670, 'ach': 1836, 'GEN': 18464, '▁Trinity': 20699, '▁Ernest': 28031, '▁gefertigt': 28976, '▁attractions': 10108, '▁Professional': 4751, 'dox': 11990, 'judicial': 18810, 'engraved': 27799, '▁Jersey': 5092, '▁Zahl': 10436, 'controlled': 20388, 'admi': 20466, 'Ex': 5420, '▁cry': 12676, '▁Materials': 16158, '▁soak': 18874, 'stand': 2976, '▁universitaire': 29558, 'amenajare': 30888, '▁rhyme': 31294, '6.2': 23913, 'Result': 20119, '▁Acrylic': 31817, '▁aerobic': 30277, '▁determina': 15411, '7.0': 26346, '▁optimise': 31561, '▁soit': 3091, '▁buses': 14264, '▁comble': 25724, '▁Catholic': 6502, '▁Bluff': 30926, '▁televiziune': 28636, 'March': 25019, '▁power': 579, '▁Rau': 22041, '▁museums': 17385, '▁î': 1889, 'rol': 3491, '▁Chal': 20732, 'mie': 2720, '▁les': 110, '▁In': 86, '▁managers': 5903, '▁temporaire': 31675, '▁cone': 14075, 'igen': 2211, '▁partage': 16762, 'äng': 7423, '▁tannin': 25117, '▁chef': 6380, '▁dilemma': 23760, 'anstalt': 28943, 'ivität': 21422, 'tate': 4748, '▁YOU': 6223, '▁Umstände': 25239, '▁September': 1600, '▁protocol': 10015, '▁Jazz': 12313, 'earned': 25461, '▁klicken': 27265, 'ani': 2738, '▁blossom': 19919, 'Regeln': 28510, '▁assigned': 7604, '▁umbrella': 18598, '▁Kazakhstan': 30450, 'deserved': 21348, 'équipement': 22010, 'onic': 4554, '▁dad': 7370, 'künftig': 24520, 'gelistet': 29878, '▁dominate': 19314, '▁laptop': 4544, '▁protected': 5046, 'rtz': 25075, '▁foloseșt': 29862, '▁linguri': 22376, 'IND': 13885, '▁kiosk': 30440, 'pixel': 14251, 'daran': 13702, '▁equilibrium': 29534, '▁profiter': 14044, '▁crushed': 19858, '▁stratégique': 28840, '▁Py': 12901, 'jedes': 17897, '▁rendition': 30839, '▁nehmen': 9003, 'weil': 15337, '▁injuries': 5157, '▁Gather': 26945, '▁Worldwide': 24627, '▁proposer': 14782, '▁failure': 3338, 'Biblio': 28798, 'weise': 11299, 'Je': 7851, '▁răspunde': 23060, 'MP': 5244, 'nderung': 20181, '▁willing': 4403, 'gestiegen': 31451, 'look': 16800, '▁decades': 4160, 'CHE': 13717, '▁Kro': 15031, '▁Bush': 8905, '▁mandatory': 13488, '▁plug': 6635, 'spitze': 27933, 'stoffe': 13600, '▁nom': 5252, '▁priveşt': 28440, 'creme': 21416, '▁Production': 11114, '▁chips': 8852, '▁photographers': 16707, '▁precaution': 21059, '▁auszu': 12426, '▁Ye': 7271, '▁Indi': 10194, '▁sheet': 4228, '▁arbeitet': 19512, 'gesprochen': 18007, '▁română': 24764, '▁interne': 12652, 'fabricated': 27066, '▁porumb': 29146, 'storing': 17445, '▁Music': 3057, 'Talk': 27387, '▁Mutter': 16576, '▁perfekt': 14728, '▁inhabitants': 21155, '▁vend': 19518, '▁rejoin': 25058, '▁Ruby': 20731, '▁liber': 5486, '▁Suite': 9254, '▁mot': 11077, 'fic': 4638, '▁ON': 9191, '▁Perry': 18786, '1:30': 20120, '▁correspondence': 17215, '▁broadcast': 6878, '▁caffeine': 24355, 'normes': 27694, '▁L': 301, 'affirmed': 30511, '▁Approach': 24500, '▁Aus': 1392, 'gol': 7579, '▁Viel': 11779, '▁părăs': 28836, '▁problématique': 28512, '▁such': 224, 'license': 28062, '▁genome': 22213, '▁Nations': 9638, 'extrait': 28739, '▁Shell': 16040, 'ihnen': 9991, 'once': 14549, '▁relocation': 22746, '▁hemp': 25164, '▁profiles': 10958, 'wordpress': 28234, '▁project': 516, 'fleisch': 27954, '▁palace': 20212, '▁würden': 15332, '▁Raven': 20744, '▁arhitect': 29121, 'est': 222, 'AK': 12396, '▁Ad': 1980, '▁spending': 2887, 'ö': 1872, '▁Touch': 11031, '▁Principal': 15449, '▁burial': 23724, 'double': 25761, '▁volunteers': 6496, '▁horse': 4952, '▁Gebrauch': 20397, '▁nephew': 23213, 'zan': 10241, '▁range': 620, '▁exploit': 9248, '▁delightful': 14603, '▁consulting': 9157, 'Universitatea': 20995, '▁Auckland': 21829, '▁Kunst': 9219, 'interacting': 23396, '▁aventur': 24089, 'Germain': 31978, 'gre': 3584, '▁chaotic': 28968, 'chemistry': 11366, 'characterization': 28561, '▁51': 11696, '▁brokers': 18593, 'ok': 1825, 'dam': 7812, '▁Heimat': 21335, '▁pizza': 6871, '▁minerals': 14288, '▁deadline': 7183, 'ală': 4615, 'Tool': 23527, '▁seasonal': 10852, 'LOW': 20573, '1-6': 27019, 'amp': 4624, '▁Wilmington': 31068, '▁dépannage': 27767, 'rance': 5219, '▁oper': 14927, '▁linking': 17988, 'YA': 17419, '▁Assistant': 9255, '▁annoncé': 19907, '▁migration': 11661, 'Phil': 23305, '▁pragmatic': 29810, '▁sacred': 16051, '▁Quarry': 31681, '▁room': 562, '▁Harper': 22792, '▁Pré': 14559, '▁luggage': 17641, '▁Depression': 23138, '▁toujours': 3267, 'gne': 15141, 'Ohne': 24370, 'logy': 6427, '▁corp': 11736, '▁flexibil': 23627, '▁repository': 22109, '▁Sigur': 28432, '▁biography': 25705, '▁Fern': 12225, '▁Removal': 21929, '▁récompense': 31705, '▁Hard': 6424, '▁Look': 3568, 'orial': 11929, '▁La': 325, '153': 27025, '▁dată': 9936, '▁lies': 7797, 'assuming': 15433, '▁reușit': 20764, 'OTHER': 21093, '▁relief': 4956, 'schlüsse': 16351, '▁allow': 995, '▁jucător': 21882, '▁relev': 22560, 'vani': 16658, '▁suggests': 6490, '▁vegetables': 6205, '▁interes': 7167, '▁amplasat': 29200, '▁gestartet': 31921, 'volle': 11921, '▁Paper': 6564, '▁introduced': 3665, '-15': 10106, 'intervenir': 29587, '▁lounge': 9658, 'berger': 16170, 'therm': 21915, '▁defend': 11220, 'PP': 6158, '▁copiii': 11645, '▁impresi': 20671, 'ografic': 24285, '▁reaction': 6363, '▁fear': 2971, 'sehen': 7783, '▁executives': 13510, '▁Lance': 22207, '2002': 24898, 'omia': 30019, '▁Ambi': 20875, 'Style': 30719, '▁marry': 20111, '▁réaction': 27013, '▁Schüler': 12242, '▁scump': 23287, '▁contemporan': 26067, '▁tile': 6428, '▁unlikely': 9909, '▁tuning': 23668, '▁atat': 5557, '▁laid': 7245, 'bread': 20517, 'technologie': 13148, '▁uneven': 24616, '▁experts': 2273, '▁$250': 26433, 'ităţi': 11885, 'abi': 15975, '▁contributor': 13932, '▁skate': 16573, '▁Hochzeit': 18416, '▁fou': 21114, '▁player': 1959, 'schneid': 28557, '▁Weight': 14230, '*': 1935, 'TP': 7150, '▁Giurgiu': 31832, 'naming': 21990, 'arni': 23403, '▁Championship': 7666, '▁Garrett': 27099, '▁vault': 28368, '▁Arrow': 25810, '▁educa': 13882, '▁hijack': 30968, '▁premises': 12787, '▁Libya': 24533, '▁Polit': 17708, 'where': 8352, '▁ordering': 12320, '▁grave': 7808, 'CV': 20410, '▁output': 3911, '▁WA': 7896, '▁susţinut': 30857, 'ans': 3247, '▁canal': 10130, '▁Basis': 13410, '▁Gir': 21210, '▁lights': 4113, 'IM': 5166, '▁nec': 9705, '▁2009.': 10425, 'zwar': 8297, '▁Bal': 4011, '▁creste': 18714, '▁FO': 12408, '▁reconcil': 27679, '▁arms': 6026, '▁leg': 4553, '▁rapide': 9662, '▁Umgebung': 15973, 'please': 25879, 'ța': 8456, '▁choix': 5829, 'ambogia': 30140, 'ancienne': 16240, '▁errors': 6854, 'tausend': 25680, '▁collègue': 29239, 'atic': 6049, '▁Behandlung': 12196, '▁1952': 23744, 'RIT': 25066, '▁Supplement': 27239, '▁unusual': 7225, '▁ligament': 27588, '▁relish': 29661, '▁organization': 1470, '▁LG': 13444, '▁lichid': 18494, 'exclusive': 30810, 'glo': 9680, 'Get': 20361, '▁classes': 2287, '▁Marseille': 22058, '▁dégust': 26186, '▁ultimately': 5510, '▁geworden': 15034, 'gefangen': 26277, 'absolument': 26975, 'BO': 8471, '▁Snapdragon': 31446, 'uzi': 12030, '▁athletes': 9227, '▁Celebration': 25651, '▁copies': 8167, '▁Others': 14818, 'lust': 10008, 'apt': 6789, '▁stored': 5816, 'Cu': 15784, '▁Mau': 7758, '▁obscure': 21634, 'komfort': 21877, '▁fallen': 9717, '▁tastes': 13434, '▁announcement': 7298, 'förderung': 27158, '▁Accel': 25881, '▁qualification': 15513, 'gru': 9667, '▁Gefahr': 18801, '▁identifiable': 22185, '▁subconscious': 28872, '▁Europa': 5578, '▁Clothing': 29743, '▁Library': 5355, 'reti': 10682, '▁Berliner': 22601, '▁tasks': 4145, '▁visible': 5183, '▁Siemens': 27124, '▁afford': 5293, '▁invasion': 19872, '▁entsprechen': 30058, '▁pediatric': 18325, '▁Zoo': 16550, '▁sectors': 8981, '▁meciuri': 28782, '▁pet': 3947, 'Suddenly': 28643, '▁verschiedene': 8564, '▁Migration': 25450, '▁networking': 7607, '▁NEVER': 28218, '▁spectacle': 13498, 'correlated': 29604, '▁vector': 12938, 'projekt': 15527, '29': 3166, '▁copper': 8658, '▁Kara': 17422, '▁Newsletter': 17677, '▁Marina': 18334, '▁Überblick': 25130, '▁Ber': 5653, 'gehende': 26447, 'DC': 6338, '▁Ausstellung': 18060, 'ând': 1833, 'gestellt': 5371, 'win': 3757, 'geschlossen': 14943, '▁outreach': 16866, '▁unwanted': 15230, '▁aplicare': 16410, '▁contur': 26316, 'canceled': 27692, '▁modest': 11306, 'ziehen': 7376, '▁Echo': 21028, '▁unchanged': 26164, 'echte': 17568, '▁activităţi': 21011, 'NYSE': 23397, '▁clove': 27577, '▁anxiet': 30825, 'misunderstanding': 28063, 'aki': 11259, '▁tray': 12239, '▁Cities': 21111, '▁Schwangerschaft': 31547, '▁comune': 20883, '▁violations': 17880, '▁currency': 7481, '▁contact': 574, 'waschen': 30900, 'stocked': 23378, '▁Dad': 12919, '▁regarding': 1918, '▁quest': 13118, '▁induce': 21151, 'rien': 3483, '▁Italien': 20878, '▁northwest': 24155, '▁categorii': 26307, '▁Kartoffel': 29402, '▁Pepper': 21374, 'tehnică': 31142, 'isée': 11506, 'rgendwann': 27232, '▁cunosc': 22135, 'hub': 16420, 'HF': 17097, '▁Weihnachten': 29270, '(1)': 14296, 'standing': 11018, 'anlagen': 18619, '▁sacrifice': 10811, '▁Civic': 25917, 'congratulat': 24615, 'phal': 21367, '▁propuneri': 30295, '▁études': 17868, 'izari': 24598, '▁erreichbar': 29727, 'Food': 30672, '▁Reason': 21272, '▁propre': 6999, 'vas': 9856, '▁embedded': 13612, 'rub': 14446, '▁lettre': 16272, '▁Hunde': 14216, 'millennial': 25212, '▁hilfreich': 27482, '▁execute': 12133, '▁conform': 4535, '▁their': 70, 'ites': 7006, 'stone': 3009, '▁army': 9102, '▁Claudia': 27292, '▁geographical': 20187, '▁ability': 1418, '▁Kat': 7482, 'psych': 8118, '▁Territory': 30110, 'ORE': 20888, '▁faint': 23476, '▁ninth': 24651, '▁Neg': 17141, '▁Chemistry': 21299, '▁consortium': 27754, '▁lyrics': 13475, '▁tineri': 14534, '▁moral': 4854, 'tempered': 31248, '▁zic': 15728, '▁certain': 824, '▁komplett': 10766, '▁majeur': 18541, 'mann': 2434, '▁könnte': 7816, 'compromising': 24581, 'Homme': 24551, '▁Michelle': 15275, '▁Healthcare': 16254, '▁schimbări': 28589, 'helm': 17757, '▁Elle': 3006, '▁lovers': 12891, 'weiß': 18328, '▁behaviors': 15400, 'erri': 21301, '▁tenant': 14590, 'ware': 3404, 'asia': 15974, 'occupant': 22608, 'front': 6849, '▁vous': 327, 'Bahn': 15441, '▁Statut': 31035, '▁Munich': 22402, '▁votes': 11839, '▁division': 4889, '▁envelope': 14669, '▁județ': 23972, '▁Mexico': 4726, 'shipments': 30645, '▁Nuclear': 23907, 'VR': 13556, '▁tour': 1552, '▁exhibit': 6981, 'IER': 18988, '▁pieces': 2161, '▁Moscow': 15363, '▁Enhanc': 27190, '▁dead': 3654, '▁fragrance': 15430, '▁Counsel': 15702, '▁plein': 10048, 'avour': 16195, '▁edited': 8307, '▁commenc': 30866, '▁Erasmus': 31972, '▁forbidden': 29387, '▁februarie': 15564, '▁stabilit': 11079, 'oeuvre': 16445, 'Voir': 29160, '▁Arena': 14904, '▁8.': 4848, '▁divide': 14514, 'Opti': 9546, '▁direcți': 30088, 'axi': 8606, '1.8': 16253, 'painters': 29581, 'void': 12186, 'oxy': 9773, 'resulting': 5490, '▁Qualität': 7156, '▁ATM': 20506, '▁Spania': 24146, '▁excessive': 10981, '▁precise': 9272, 'spans': 30684, '▁which': 84, '▁0,': 8014, '▁Price': 5312, '▁charcoal': 24181, 'nton': 6992, 'speed': 9993, '▁adapt': 3374, '▁saddle': 23922, 'jar': 5670, '▁Zen': 9155, '▁Fact': 11543, '▁genuine': 7746, '▁His': 978, 'seiten': 23675, 'Konferenz': 29481, '420': 21899, '▁supliment': 27607, '▁AUTO': 29846, '▁solicitat': 22936, '▁hurt': 4781, '▁travailler': 14770, '▁vedere': 5742, '▁workshops': 7009, '▁challenged': 15514, '▁classique': 14589, 'éventuellement': 31413, 'ure': 1462, '▁Active': 11383, '▁spalat': 27210, '▁arena': 15134, '▁Benefit': 14513, '▁confuse': 27446, 'dessus': 11613, 'PLE': 27872, 'Angaben': 17645, '▁Burke': 27575, '▁awareness': 4349, '▁kurze': 15012, 'uş': 8812, '▁late': 1480, '▁Pablo': 30017, '▁Bhutan': 31786, '▁share': 698, '▁dispute': 11044, '▁Müller': 25391, 'iva': 6823, 'immédiat': 29073, 'ERT': 24203, '▁Moving': 15510, '▁Rein': 14317, 've': 162, '▁peace': 3065, 'STAR': 19481, '▁penny': 23925, '▁Shaw': 15333, '▁facade': 27562, '▁approaches': 6315, '▁governments': 10524, '▁shading': 31788, '▁palm': 8466, '▁matter': 1052, '▁visibility': 12435, '▁extremely': 2033, '▁instalat': 20674, 'Vielen': 26114, 'gültig': 18291, '▁ourselves': 3242, '▁Kategorie': 19501, '▁ihn': 5935, '▁specifications': 10364, '▁Kö': 20803, '▁reprezentat': 19592, '▁Ballet': 23366, '▁paragraph': 8986, '▁Bet': 7912, '▁tutor': 11179, 'tax': 14727, '▁actively': 8609, '▁tell': 817, '▁kits': 11945, '▁frequency': 7321, '▁statue': 12647, '▁enthalten': 14519, '▁thermique': 29289, '▁banks': 5028, '▁Properties': 21098, '▁Avoid': 15856, 'generation': 10877, 'injected': 26854, 'ifiant': 20172, '▁Spieler': 11142, 'mount': 11231, '▁acela': 11249, '▁may': 164, 'current': 14907, 'wang': 17789, 'étage': 23540, 'encies': 11573, 'ugi': 25297, 'spec': 7576, 'especially': 15616, '▁Ltd': 3937, '▁Australian': 3746, 'var': 4331, 'wel': 9803, '▁exactement': 28435, '▁ottoman': 30100, '▁providers': 3580, 'tefan': 24018, '▁manière': 7210, '▁Strength': 25243, 'ţiei': 6284, '▁Installation': 10887, '▁revival': 26327, 'menée': 29283, '▁Distance': 27370, '▁series': 939, '▁extensi': 28659, 'einiger': 24510, '▁chase': 15389, '▁Genesis': 21482, '▁disposition': 8295, '▁porcelain': 21806, '▁remplacement': 29419, 'allez': 23122, '▁change': 483, '▁first': 166, '▁managerial': 29957, '▁Unfortunately': 4877, '▁Reference': 17881, '▁dialog': 13463, '▁soll': 3775, '▁rugby': 22209, '1700': 26774, '▁même': 1398, '▁baggage': 27755, '▁sq': 11820, 'hotel': 21015, '▁gekauft': 22186, '▁woodland': 24912, '▁bi': 2647, '▁restricted': 12103, '▁bestehen': 17394, 'infringement': 27359, '3': 519, '▁Kaffee': 14854, '▁eastern': 13350, '▁modificări': 23399, '▁Helen': 12249, '▁Baptist': 14849, '▁Geist': 22254, '▁pretty': 1134, '▁sarcini': 24081, '1.5': 16593, '▁Nielsen': 30298, '▁corpul': 22332, '▁Lotus': 25413, 'fresh': 20164, 'impede': 28838, '▁scattered': 20193, '▁satisfy': 11132, '▁Adelaide': 24272, '▁Gar': 3121, '▁16.': 10128, 'fer': 1010, '▁Castle': 10099, '▁rouge': 11732, 'IMP': 25657, '▁încerc': 13175, '▁defeated': 17025, '▁wrestling': 24754, '▁dimensiuni': 21235, 'mon': 2157, '▁Discount': 16111, 'joacă': 28175, '▁2011.': 8088, '▁forests': 15099, 'artige': 17288, '▁joli': 13773, '▁unlimited': 11875, '▁taught': 4436, '▁Rud': 17806, '▁faca': 14054, '▁Femme': 28927, '▁EURO': 27494, '▁compromis': 29296, 'Any': 27271, '▁spokesperson': 23909, '▁redundant': 28282, 'Vaccin': 31334, '▁Travail': 31690, '▁Innovative': 27917, '▁salvage': 29071, 'granting': 29050, 'reiz': 27340, '▁führen': 9330, 'ridge': 7700, '▁love': 333, 'sho': 5630, '▁reduziert': 25267, 'stützt': 31552, '▁consta': 22761, '▁dress': 3270, 'öß': 23905, '▁owner': 2527, '▁bénéficier': 19548, '▁coll': 8029, '▁synthetic': 13699, 'vorbim': 22189, 'ize': 1737, '▁communauté': 15253, '▁verre': 17115, 'layered': 21281, '430': 25449, '▁pdf': 9210, '▁#1': 7172, '▁pair': 3116, '▁Indonesia': 9995, '▁kernel': 20563, '▁Bernard': 14735, '▁interessant': 20801, '▁trend': 4166, '▁cars': 2948, '▁comparison': 4993, '▁Str': 5500, 'loom': 14351, 'gebaut': 12482, 'ătă': 17783, '▁disastrous': 29276, '▁concern': 2410, '▁configured': 15786, '45': 2128, '▁visuel': 20440, 'Partidul': 27861, '▁Roof': 19359, 'member': 12066, '▁motorcycle': 11718, '▁nur': 790, 'ency': 4392, '▁suffer': 5696, 'tischen': 13413, '▁banned': 18168, '▁Islam': 10172, 'pak': 16864, '▁inflammation': 13386, '▁Kiwi': 31092, '▁magnet': 12212, '▁instrumental': 15205, '▁Prop': 13543, 'intégr': 15674, '▁etape': 26301, '▁superioare': 30783, '▁Calcul': 18555, 'origine': 7962, '▁According': 2150, 'vro': 29275, '▁consommation': 17035, '▁Islamic': 11117, 'fought': 13973, 'VIEW': 27633, '▁fence': 8227, '▁embroidery': 24780, '▁abgeschlossen': 22846, '▁Feel': 8979, '▁militari': 26153, 'eignen': 27116, '▁factor': 2945, 'reportedly': 15733, '▁Grie': 26039, '▁lucrat': 18133, '▁deadly': 18443, '▁sheer': 17224, '▁Ra': 2922, '▁wohl': 6713, 'bud': 11073, '▁2002': 4407, '▁snow': 2983, '▁essays': 11011, '▁substitu': 29731, 'ierte': 3930, '▁instrument': 5009, '▁flux': 16213, 'download': 26036, '▁broke': 8238, '▁far': 623, '▁courts': 8773, '▁tools': 1339, '▁nickel': 22958, '▁durchgeführt': 17122, '▁Save': 7242, '▁benefic': 17503, '▁groups': 1637, '▁Are': 1521, '▁connections': 5992, '▁15-20': 28601, '▁Party': 3450, '▁Mobile': 4873, '▁categorie': 25543, '▁habitants': 17882, '▁inclus': 11910, 'cham': 17788, '▁dur': 11184, '▁repay': 26344, '▁Gear': 17138, '▁reduzieren': 31034, '▁partener': 15105, '▁ermittelt': 30648, '▁competitive': 3265, '▁qualifications': 15395, '▁Charleston': 19018, '▁San': 1051, '▁kidding': 29744, '▁Fighter': 27894, '▁13,': 10670, '▁absolviert': 31290, 'soweit': 19151, '▁backdrop': 16894, '▁geschie': 30686, 'ashes': 23604, '▁remport': 23697, '▁răc': 28261, '1996)': 30841, 'table': 3869, '▁screenshot': 18721, '▁rund': 5207, '▁Digi': 21951, '▁realizeaz': 25339, '▁accomplished': 10380, '▁Das': 644, '4.6': 25652, 'planetary': 30351, 'raising': 22662, 'democrat': 23319, 'stätte': 19225, 'Lite': 16278, '▁mag': 6396, '▁Emergency': 15118, 'wishing': 19865, '▁Dans': 3039, '▁Affiliate': 24003, 'traditionellen': 31341, 'Chacun': 31746, 'lic': 2176, '▁functional': 5014, '▁problèmes': 14558, '▁snapshot': 23052, 'IONS': 22164, '▁ocazi': 10918, '▁citizen': 13008, '▁thrift': 30542, 'ländische': 24508, '▁Kommentar': 19101, 'blo': 4672, '▁zahar': 18824, '▁chemotherapy': 26324, '▁faction': 26405, '▁worn': 8842, '▁Morgen': 20147, 'entrepreneur': 12290, '▁MacBook': 27084, 'öhn': 27558, '▁cupboard': 19904, 'exposing': 27729, 'opathie': 31253, '▁nations': 9352, '▁additionally': 11700, '▁Peugeot': 31288, 'gian': 22898, '▁colabora': 26024, '▁Tahoe': 31070, '▁Roche': 21368, '▁couverture': 24738, '▁Rauch': 27095, '▁accompagné': 20342, '▁beforehand': 23735, '▁erheblich': 27554, '▁Casa': 9882, 'bell': 7708, '▁tires': 12541, '▁devenir': 15144, 'deuten': 29871, '▁adanc': 30018, '▁knock': 7673, 'Basically': 16970, '▁Maggie': 27167, 'force': 10880, '▁identification': 10356, '▁Dal': 10729, '▁seine': 1834, '▁fleet': 9111, '▁simultaneous': 28612, '▁pare': 5448, '▁friendship': 9888, '▁colored': 11999, '▁zugänglich': 29095, '▁Comparison': 30760, 'STE': 15258, '▁Boutique': 26206, '▁Erholung': 31619, '▁kannst': 7017, 'salv': 27074, '▁likely': 952, '▁încadr': 30391, '▁Marketplace': 27885, '▁ser': 7637, 'aims': 8345, '▁traditionally': 16910, '▁telecom': 21004, '▁erzählt': 22016, 'ennemi': 31025, '▁ashamed': 30119, '▁Vordergrund': 29843, 'ITE': 14871, '▁blended': 19731, '316': 25946, '172': 27156, 'Angebot': 31242, '▁Highway': 11428, 'versicherung': 15587, '▁Thursday': 2721, '▁implant': 10567, '▁returns': 5146, '▁Gothic': 30171, '▁Hintergrund': 20021, '▁jeden': 6515, '▁automatique': 26437, 'wah': 17771, '▁Sh': 4488, 'vielen': 6014, '▁prêt': 9716, 'stoß': 20497, 'ffle': 10105, '▁ihre': 1159, '▁trésor': 29866, 'posed': 12151, '▁trips': 6846, '▁Tunis': 22564, '▁consumers': 3674, '▁Parkinson': 25904, 'ales': 4529, '▁emoţi': 31487, 'liz': 13287, '▁suggested': 5259, 'sensor': 26052, 'imprimer': 29379, '▁opportunities': 1645, '▁vanzari': 29802, '▁reception': 6839, '▁Persönlichkeit': 30291, '▁carriage': 24124, '▁Jahrzehnte': 29032, 'ităţile': 21688, 'ional': 6318, '▁préfér': 26022, '▁glow': 16507, '▁Sort': 18562, '▁gehört': 8119, 'nius': 22901, 'tru': 2666, '▁sympathique': 31626, '▁notebook': 16638, '<extra_id_72>': 32027, 'hotărâre': 31262, 'gegeben': 6975, '▁Contest': 21537, '▁bucks': 22508, '▁Crusher': 9115, '▁Goddess': 30531, '▁repeat': 6103, 'meinen': 12289, 'So': 5231, '▁caring': 10328, '▁garantie': 12073, 'amente': 16666, '▁withdraw': 14510, '▁descriptions': 15293, '▁basse': 19379, '▁(“': 8186, 'cer': 2110, '▁faţă': 13028, '▁Unternehmer': 25563, '▁ethic': 29136, '▁restart': 16329, '(2007)': 27964, '▁Boc': 18372, '▁Anliegen': 28877, 'merlin': 29900, '▁Kühl': 27322, 'appar': 10198, '▁Kind': 6557, '▁Manager': 3440, '▁Globe': 20790, 'lase': 25718, '▁whip': 20070, '▁nach': 559, '▁Venus': 22301, '▁filled': 3353, '▁Sanchez': 28736, '▁retour': 7268, '▁Philharmoni': 30473, '▁Fundamental': 29390, 'cryptocurrencies': 29606, '▁Fee': 8495, '▁recueil': 31813, '▁THIS': 12689, '▁Ergebnis': 15378, '▁native': 4262, '▁bâtiment': 16414, 'chirurgie': 28113, '▁Bitte': 11181, '▁suivi': 14003, '▁mélange': 16315, '▁mysteries': 29063, '▁Morocco': 25559, '▁părți': 28827, '▁negru': 22219, '▁Go': 1263, '▁maintain': 1961, '▁corn': 7329, '▁14,': 11363, '▁dislike': 22461, 'fehler': 25730, '▁Brașov': 30236, '▁Messiah': 31908, '▁affordable': 2950, '▁următor': 25935, 'ombre': 15729, '▁processes': 2842, '▁medication': 7757, '▁livres': 12310, '▁Puis': 19024, '▁fulfill': 10044, '▁Volk': 25963, '▁crestere': 24284, '▁pot': 815, 'Script': 18255, 'robe': 9598, 'schrank': 21328, 'mple': 9208, '▁sélection': 10474, '▁kam': 6511, '▁Company': 1958, '▁chakra': 28507, '▁petites': 15413, '▁seat': 3143, '▁str': 5765, '▁comes': 639, '▁pale': 12674, '▁Philadelphia': 9511, '116': 20159, '▁enjoyable': 9231, '▁Küste': 28669, '▁Breite': 27898, '▁Official': 13686, 'LOT': 19912, 'zeichen': 16549, '▁efforts': 2231, 'aime': 9595, '▁700': 12283, '▁affair': 18431, '▁ähnlich': 16284, '▁Necklace': 31420, '▁Revolution': 12197, 'gau': 20038, '▁tale': 5221, '▁Pru': 21522, 'Pol': 8931, 'WA': 12054, 'historic': 28005, '▁achiziţi': 29536, '▁problemlos': 26549, '▁magnificent': 12044, 'ARN': 24947, '▁dramatically': 13464, 'wahrscheinlich': 20102, 'ara': 2551, 'immobilier': 19194, '▁patio': 6599, '▁Drept': 24859, '▁Jugendliche': 16839, '▁Wünsche': 18653, '▁correct': 2024, 'appel': 13219, 'world': 7276, '▁Apollo': 24224, '▁Direct': 7143, '▁Printer': 24426, '▁représentant': 26851, 'secret': 27527, '▁bieten': 5180, '▁Resource': 16154, '▁runway': 22750, '▁producer': 8211, '▁Manual': 9950, '▁Tha': 16118, '9.95': 29963, '▁Botschaft': 28934, 'roni': 18074, 'Post': 22507, 'lot': 3171, '▁ales': 4620, '▁Puerto': 17233, 'worm': 13814, '▁proxy': 19784, '▁străinătate': 29583, '▁Micro': 5893, '▁Data': 2747, '▁questions': 746, '▁literature': 6678, 'tech': 3470, 'PI': 4111, '▁Clear': 8912, 'erzeugen': 30301, 'Einen': 31445, '▁R': 391, '▁nevoie': 3894, '▁pockets': 12746, '▁Baker': 10731, '▁fulfilled': 20795, '▁arise': 7931, '▁Blut': 15995, 'toxins': 21703, '▁sleeping': 9182, 'ON': 4170, 'führ': 24669, '▁Manila': 25432, '▁fourth': 4509, 'ston': 4411, '▁Computer': 5491, '▁horrible': 17425, '▁Jeep': 21145, 'iterführende': 26408, '▁Rehabilitation': 26779, '▁surrender': 23970, '▁white': 872, 'avance': 15335, 'outil': 18755, 'delegates': 22878, 'erau': 8614, '▁amintiri': 30223, '▁identitate': 26952, 'aient': 5635, 'rith': 30922, '▁Agenda': 25353, 'Assassin': 30934, 'Qaeda': 31589, '▁chemical': 5368, '▁abnormal': 17947, '▁rooms': 2801, '▁mattress': 8841, '▁subscribe': 10006, '▁switching': 14569, '▁prote': 22618, '▁guitar': 5507, '▁Caribbean': 12802, 'This': 3713, '▁degrees': 4526, '▁continent': 10829, '▁Monthly': 25955, '▁Nex': 20024, '▁expert': 2205, 'AL': 4090, '▁inspired': 3555, 'IG': 8834, '▁human': 936, '▁NOTE': 17173, '▁orchestra': 13873, '▁grande': 3749, '▁icons': 17469, 'access': 20393, '▁realities': 24684, '▁endangered': 26422, '▁carbohydrates': 26883, '▁regulate': 16363, 'án': 12916, 'baum': 18088, '▁Leicester': 26956, '▁bancaire': 24192, '▁devrai': 12538, 'lung': 6521, 'red': 1271, 'kho': 28569, 'lose': 10227, '▁shade': 7891, '▁instituţii': 27743, '▁IRS': 17615, '▁provisions': 9848, '▁particulière': 23650, '▁crippl': 31777, '▁besucht': 22361, 'athlet': 26170, '▁socket': 16197, '▁single': 712, 'versorgung': 24479, '▁sliding': 13441, '▁catégorie': 14889, '▁Swimming': 27223, 'fug': 14165, 'hydrated': 23935, '▁scazut': 27098, '143': 25133, '▁Replace': 28035, '▁My': 499, 'attend': 15116, '▁02': 11270, '▁Tee': 13788, '▁approached': 15319, 'JC': 20599, 'hand': 2894, '▁surgical': 11685, '▁Blair': 25594, 'fanden': 26455, '▁cotton': 7282, '▁commentary': 18204, '▁Stud': 12567, '▁organisiert': 25479, '▁Umfeld': 28737, '▁beginners': 18471, '▁past': 657, 'child': 11495, 'deshalb': 13024, '▁apparent': 10320, '▁originate': 26843, '▁surgeon': 12177, '▁împiedic': 31043, 'tique': 4325, '▁Sat': 8821, 'service': 5114, '▁platform': 1585, '▁pencil': 13966, '▁découvr': 24870, '▁Perhaps': 5632, '211': 27278, '▁distinguished': 18908, '▁injustice': 26240, 'derma': 23253, '▁shortcomings': 31221, '▁Abend': 9436, '▁Sale': 5774, '▁multumesc': 25853, '▁educație': 30781, '▁Bottle': 25921, '▁stress': 2189, '▁tragedy': 18914, 'nuit': 11201, '▁colourful': 21052, '▁especially': 902, 'viennent': 12943, '▁gagner': 18576, '▁muzici': 31207, 'brewed': 31100, '▁Delicious': 29823, '▁Pav': 19523, '▁Contact': 3235, '▁ingredients': 3018, '▁saw': 1509, '▁Stern': 17594, '▁vegetation': 21780, '▁Ihnen': 2587, '▁donors': 16958, '▁Roast': 27648, '▁Whole': 19378, '19': 2294, '▁argument': 5464, '<extra_id_17>': 32082, 'reassure': 30703, '▁Stafford': 29278, '▁siège': 21442, 'pm': 2028, 'vel': 4911, '▁Haupt': 6822, '▁stare': 8876, '▁$1': 1970, 'Probably': 16945, '▁(2012)': 24705, 'Several': 8656, '▁Chamber': 9572, '▁own': 293, 'stelle': 8462, '▁burn': 5958, '▁hilft': 18144, '▁Landscape': 20834, '▁regulations': 4750, '▁isolation': 15997, '▁disaster': 6912, 'tarifs': 26707, '▁guy': 4024, '▁ads': 6543, '▁graph': 8373, '▁$6': 10746, '▁anonymous': 17896, '▁comprehensive': 3452, '▁place': 286, '▁massive': 3805, 'höhere': 27711, '▁doi': 5482, '▁SB': 16757, '▁preţ': 21476, '▁identities': 26203, 'logger': 27282, 'Spec': 7727, '▁scrub': 18448, '▁steht': 4186, 'pră': 22558, '▁intermediar': 25960, 'quête': 26308, '▁outils': 16413, '160': 19129, '▁selfie': 23524, 'muni': 11760, '▁aggression': 28986, '▁Immigration': 24123, '▁Calgary': 20948, '▁Spend': 13115, '▁Dhabi': 28227, '▁valley': 10645, 'adică': 18123, '▁Navigation': 25622, 'blé': 21027, '▁Formula': 13786, 'pillar': 12851, 'SAT': 17517, 'endorsed': 24975, '▁folk': 12702, '▁drastically': 24173, '▁Beauty': 12587, '▁Info': 7880, 'screened': 22529, '▁kilomètres': 28981, '▁conduce': 21255, 'génie': 28773, 'config': 20303, '▁About': 4504, '▁ideal': 1523, '▁retailer': 14543, '▁Fully': 23160, '▁HOT': 27739, '▁Venice': 21370, '▁solutions': 1275, '▁flat': 2667, '▁sonore': 27466, '▁rivers': 16912, '▁loved': 1858, '▁touches': 13945, '▁analys': 22742, '▁explor': 26903, '▁Gewähr': 29772, '▁notice': 2103, '▁grossesse': 30972, 'fight': 14466, '▁Aluminum': 27042, '▁can': 54, '▁sprout': 23032, '▁socio': 11881, '▁Beijing': 14465, '▁pearl': 18447, 'AE': 14611, '▁Speise': 24776, '▁license': 3344, '▁Unterstützung': 13276, 'ren': 1536, '▁Zustand': 20693, '▁travellers': 23674, '▁redesign': 22819, 'treatment': 26889, 'chaffung': 24635, '▁Continue': 13270, '▁grow': 1604, 'etta': 10669, 'cada': 17436, '▁Ras': 9053, '▁Alliance': 11529, 'ément': 12209, 'guin': 17996, '▁einem': 665, 'IE': 5091, '<extra_id_11>': 32088, '▁Surprise': 31237, '▁willingness': 20463, '▁Aug': 6128, '▁sooner': 14159, '▁drummer': 26726, '▁talked': 6812, '▁tongue': 13559, 'explique': 12386, '▁rational': 12226, '▁Surrey': 26849, '▁niedrig': 23005, '▁Sophia': 30174, 'commissioned': 17183, 'vig': 10314, 'stattet': 28707, '233': 20879, '▁dark': 2164, '▁descent': 19991, 'cel': 7125, 'ist': 343, 'OB': 10539, 'rop': 9505, '▁strength': 2793, '▁application': 917, '▁Asia': 3826, '▁facts': 6688, 'introducing': 13505, '-2018': 20259, '▁Many': 1404, '▁1)': 8925, 'hawk': 14400, '▁necesita': 22799, '▁cats': 10003, '▁indispensable': 15225, '▁démont': 22168, '▁breaks': 9797, '▁Attend': 22497, '▁langjährige': 26834, 'jung': 22498, '▁stagn': 24720, '▁indicative': 28618, 'INFO': 29478, '▁asistent': 26904, '▁hadn': 12381, '▁credits': 11893, '▁artificial': 7353, '▁litig': 22427, 'accessoire': 29982, '55': 3769, '▁oppress': 22566, '▁Monaco': 25258, 'Log': 22084, '▁schlicht': 27537, '▁Lego': 23249, 'lässig': 17130, 'arbitrary': 26968, 'kla': 8142, '▁jamais': 6462, '?': 58, 'operation': 22280, '▁Joel': 22943, '▁frosting': 29168, '▁approaching': 16009, '▁throw': 3793, '▁awkward': 18267, '▁Physician': 23869, '▁Testament': 15506, '▁AS': 6157, 'ovic': 13388, '▁Grim': 23427, '▁imi': 10590, '▁Happen': 29930, 'gins': 19655, '▁crank': 22703, '▁business': 268, '▁Crawford': 28777, '▁OEM': 18430, '▁Auburn': 28384, '▁restoration': 8916, '▁Relevan': 31484, 'visor': 24680, 'gebunden': 24842, '▁Patent': 20565, '▁bilden': 21711, 'FG': 22807, 'beneficiar': 29163, 'piece': 8424, '▁medicament': 29258, '▁rule': 3356, '▁bijuterii': 30105, 'lurry': 29268, '▁grandchildren': 18638, '▁coal': 8416, '▁trends': 5001, '▁parameter': 15577, 'RAL': 21415, 'rained': 10761, '▁Regal': 23832, 'ported': 16262, '▁rejoindre': 26317, 'usion': 11733, '▁Potato': 29256, 'nd': 727, '▁Patterson': 31014, 'provide': 29189, 'dung': 8646, '▁intrebare': 29182, 'exacerbate': 31488, '▁Freiburg': 30498, '▁Birthday': 13753, '▁regizor': 31310, '▁Deposit': 23686, '▁antagonist': 30619, '3.': 5787, 'root': 18951, 'hundert': 26617, '▁Absolut': 26819, 'pflege': 13906, '7.5': 15731, '▁Lambert': 30700, '▁seamlessly': 20302, '▁offre': 7616, '▁investigations': 17032, '▁automation': 11747, '▁offer': 462, '▁Arbeits': 4827, 'hängt': 21172, '▁dezbateri': 31890, '▁Adjust': 17820, '▁Lup': 23776, 'specific': 9500, '▁petrecut': 23191, '▁venituri': 25074, 'teen': 6808, '▁hypothetical': 31754, '▁Eve': 11566, '▁highest': 2030, '▁cu': 123, 'STOR': 22633, '▁cit': 6895, 'kommt': 22932, 'boy': 7531, 'Mbps': 27715, '▁dialogue': 7478, '▁strat': 10133, '▁Aussicht': 27528, 'Using': 3626, 'PG': 7861, 'inscription': 14593, 'Infrastruktur': 29709, 'ice': 867, '▁shared': 2471, '▁Flat': 13109, '▁Zeit': 1743, '▁Betreuung': 24481, '▁exceeding': 19829, 'favored': 27433, '▁schlecht': 12846, '▁areas': 844, 'kWh': 26873, '▁Community': 3092, 'tauchen': 30038, 'apprend': 17110, '▁Citizens': 22540, 'zukünftig': 23999, '▁checklist': 18462, 'Build': 24752, 'aiba': 18071, '▁correspondant': 26182, '▁mask': 8181, '▁worship': 7373, 'yog': 28922, '▁joueurs': 18181, '▁doppelt': 29132, '▁styl': 22437, '▁franchi': 26168, '▁Aktien': 28100, '▁hatte': 3310, '▁potentially': 6149, '▁Studies': 6536, '▁agreement': 2791, 'ident': 4215, '▁munca': 11777, 'core': 9022, 'rail': 12977, '▁decorate': 18626, '▁wins': 9204, 'etch': 24335, '▁oferte': 16308, '▁employer': 6152, '▁Disorder': 24789, '▁scaun': 19164, '▁Sector': 17832, '▁fericire': 22388, '▁appear': 2385, 'assessing': 20861, 'dreh': 14468, '▁apartment': 4579, '▁Kas': 12783, '▁slow': 2684, 'apprentissage': 22767, 'behavioural': 31789, '▁short': 710, '▁ihr': 1650, '▁vergangen': 13942, '▁startups': 17675, '▁Dubai': 9959, '▁Riviera': 30426, 'agentur': 29215, '<extra_id_77>': 32022, '▁Ton': 8475, '▁Apostle': 30288, '▁überhaupt': 14955, 'During': 2092, '▁lifestyle': 4026, '▁Fe': 4163, '▁Elena': 22539, '▁Hamburg': 7330, '▁terminology': 27258, '▁passer': 7460, 'Architect': 16768, 'beginn': 27006, '▁cleaning': 2327, '▁Explain': 25488, 'ulph': 27786, 'official': 20884, '▁thrill': 22695, 'deemed': 10863, '▁Albert': 11375, 'pushed': 9951, 'dimensional': 11619, 'VS': 14945, '▁Policy': 7587, 'modeled': 25125, '▁Eltern': 9971, '▁cause': 1137, 'manipulated': 31968, '▁Steven': 9316, '▁Deb': 9794, '▁Nat': 9267, '▁relax': 4839, '▁Dominique': 30184, '▁terrace': 11974, '▁Christ': 2144, '▁mosque': 26942, 'ney': 3186, '▁Trop': 21361, '▁database': 3501, '▁rezultat': 20200, 'attach': 21148, '▁merchant': 11947, '▁Margaret': 16689, '▁yellow': 4459, 'retaining': 19513, '▁Gesundheit': 11324, '▁Wolf': 9091, '▁Britanie': 27761, '▁performing': 5505, '▁Facility': 26575, '▁Bahrain': 29656, '▁Gardner': 30033, '▁fleece': 29538, '▁exam': 3631, '▁Zo': 6226, '▁Tage': 5156, '▁protecting': 9932, '▁entreprise': 11089, '▁Retro': 24565, 'fleck': 31465, '▁sentence': 7142, 'aff': 4127, '▁Finanzierung': 27045, 'graduate': 17079, '▁Wright': 16634, '▁recomandat': 16895, '▁happily': 16725, 'que': 835, 'hack': 14983, 'incredibly': 5828, 'power': 6740, 'NP': 9082, 'qua': 4960, '▁Lion': 10371, '▁Ach': 14217, '▁800': 8640, 'apparition': 26788, '▁cruel': 23958, '▁Ale': 15345, '▁Cel': 9201, '▁Imp': 14472, 'info': 9583, 'eben': 5283, '▁defines': 17692, '▁advisory': 18599, '▁unterstützt': 13837, '▁multiplayer': 29730, 'dirigeants': 30261, '▁folosesc': 17042, '▁Course': 8670, '▁lawyers': 9196, '▁Gleich': 18335, '▁Szene': 25869, '▁engines': 7277, '▁10,000': 13923, '▁Nachwuchs': 29158, '▁signs': 3957, 'breaking': 18087, '▁Mozart': 27855, 'TZ': 25336, '▁lose': 2615, '▁Economy': 22077, '66': 3539, '▁stronger': 6879, '▁Mum': 23065, 'UG': 19046, 'tier': 3276, '▁Zur': 11688, '▁Area': 5690, '▁Lift': 19495, '▁Flu': 9507, 'Empfehlung': 24446, '▁natürlich': 4512, 'iscus': 28679, 'ă': 98, 'MAC': 16605, 'detecting': 29782, 'stuhl': 25775, 'odonti': 31702, '▁șofer': 31910, '▁Sho': 13550, '▁innocent': 16679, '▁traumhaft': 31590, 'MONT': 29084, '4.000': 30952, '▁Following': 6851, '▁Pictures': 16571, '▁merci': 12947, 'shortened': 31887, '▁noted': 4466, 'aurait': 12463, '▁substitution': 24028, '▁Epi': 12741, '▁heated': 12448, '▁Potential': 22672, '▁worrying': 19348, 're': 60, '▁faces': 8519, '▁villain': 23132, 'Retrouvez': 27675, '▁Teil': 3560, '▁Malta': 21384, '▁Chairman': 11636, '▁transactions': 6413, '▁patch': 7947, '▁FL': 7212, 'gul': 6106, 'gur': 7840, '▁theoretical': 13605, 'sitter': 27734, '▁Shiva': 28395, 'Currently': 8212, 'search': 13173, 'voller': 19688, '▁scrutin': 28692, '▁Dropbox': 30076, '▁surplus': 20524, '▁campagne': 15286, 'nähe': 27334, 'ious': 2936, '▁U': 412, '▁giveaway': 14893, 'ATE': 6048, '▁Mich': 18463, '▁jüng': 30683, '▁vote': 2902, '▁choisissez': 31322, 'ting': 1222, '▁ba': 4698, '150': 12278, 'pap': 16281, '▁Saw': 19716, '▁Baseball': 22398, '▁stellar': 22716, 'mir': 5884, '▁streams': 15841, '▁Wick': 18602, 'BM': 12122, '▁Viagra': 24061, '▁invited': 5374, '▁rub': 9641, '▁part': 294, '▁relentless': 29395, '▁developed': 1597, '▁compléter': 30633, '▁submitted': 5776, 'api': 13306, 'praxis': 25469, 'Space': 24722, '▁scharf': 30770, '▁prominent': 8304, '▁dreptate': 24202, 'business': 16394, 'folg': 10482, '▁Netflix': 11894, '▁twist': 9135, '▁detective': 23959, '▁privire': 9326, 'tragere': 24226, 'ital': 9538, 'igan': 12588, 'Powered': 28837, '▁space': 628, 'contaminated': 27288, '▁flourish': 18580, '▁neighbor': 10678, 'starred': 29029, '▁posterior': 29928, '▁histories': 27771, '▁impresionant': 28537, '▁2007.': 12598, 'bli': 7437, '▁deep': 1659, '▁equation': 13850, '▁rappel': 15887, '▁Dust': 20708, '▁consequential': 30359, '▁Agriculture': 16943, '▁farming': 13293, '▁Improve': 20825, 'atlantic': 31767, 'band': 3348, 'hör': 12782, '▁do': 103, '▁vedea': 11002, 'circ': 15776, '▁fries': 24144, '▁nonetheless': 19236, '▁staying': 6597, '▁pics': 14352, '▁rookie': 24188, '▁Stephen': 7872, '▁kein': 4276, 'folgenden': 18295, '▁jewellery': 19749, '▁Comic': 15175, '▁kept': 2697, '▁consultant': 7792, '▁Ty': 10352, 'ych': 14731, '▁storytelling': 20362, '▁translucent': 31316, '▁Athletic': 18373, 'Multe': 31932, '▁Rica': 18037, '▁employ': 5936, '▁Apartment': 15970, '▁Sala': 8930, '▁bucura': 15160, '▁Republican': 8994, 'Alternatively': 16508, '▁compressed': 25423, '▁furnizor': 21617, '▁Congress': 4442, '▁praf': 23791, '▁bridal': 23348, '▁Pioneer': 24271, '▁nascut': 29458, '▁aproximativ': 10000, 'bestand': 28541, '▁pomp': 13092, '▁vomiting': 29335, 'Allemagne': 24676, 'frist': 18690, '▁Ry': 12749, '▁Möglichkeiten': 11877, '▁Administration': 6863, '▁nécessaire': 10202, '▁liking': 23340, '▁statistics': 7475, '▁varsta': 18457, '▁semnal': 19227, '▁aluat': 26473, 'lädt': 26959, '▁Geburtstag': 20986, 'CAM': 21907, 'Moreover': 7371, '▁#': 1713, 'Type': 25160, '▁Value': 12419, '▁Beschäftigung': 31021, '▁afla': 6600, '▁Left': 14298, '▁item': 2118, '▁Vorbereitung': 25510, '▁Want': 6834, 'oferă': 11285, '▁Aujourd': 18026, '▁presque': 15737, '▁interrupt': 25172, '▁essentielle': 25088, '▁arrive': 3658, '▁den': 177, '▁Fort': 4361, '▁considerably': 15121, '▁Mask': 23709, 'mairie': 30272, 'referring': 13215, '07.': 14681, '▁BIG': 22514, '▁neutral': 7163, '▁valori': 12414, '▁Son': 3885, 'eze': 2187, 'illustrating': 31856, '▁modern': 941, 'LINE': 20006, '▁regulator': 14415, '▁batch': 11587, '▁puppies': 26675, 'BV': 22480, 'ifies': 15821, 'laying': 14720, '▁square': 2812, 'la': 521, '▁Apple': 2184, '▁Urlaub': 12058, '▁susceptible': 16080, '▁pancake': 21365, '▁mantra': 25419, '▁arata': 11493, '▁Stück': 12040, 'Book': 13355, '▁Jack': 4496, 'describing': 16012, 'evangeli': 22611, '▁unglaublich': 28080, '▁dumneavoastră': 15078, '▁tout': 870, '▁planner': 13015, 'cup': 4658, 'OW': 15251, '▁thinking': 1631, '▁impressed': 8686, '▁véhicule': 12189, '▁Kitchen': 5797, '▁reason': 1053, 'WH': 15313, 'Free': 16393, '▁Regular': 17116, 'Coastal': 27103, '▁static': 14491, '▁QuickBooks': 31959, '▁Bristol': 17836, '▁inferioar': 30986, '▁risk': 1020, 'stream': 8103, '196': 26937, '▁beau': 9743, '▁erleben': 19603, 'largely': 6974, '▁muscles': 7654, 'zeigte': 29400, '▁Linie': 17302, 'Dienstleister': 31710, '▁washing': 9834, '▁otherwise': 2904, '▁shocking': 22565, 'tik': 4414, '▁Wide': 13129, '▁sollicit': 28465, '▁fail': 5124, '▁doit': 4426, '▁Straßen': 17028, '▁verkauft': 23904, '▁1916': 27827, '▁Zuhause': 27935, '▁faithful': 13855, '▁Airbnb': 30247, 'sichtig': 15635, 'Various': 19090, '▁adj': 19181, '▁names': 3056, '2)': 7318, '▁Kre': 14873, '111': 15866, '▁Time': 2900, 'Toward': 28318, 'ieren': 1255, '▁Erdogan': 31784, '▁Dacia': 28324, '▁Call': 2571, 'performance': 18558, 'blending': 24854, '▁sociale': 7787, '▁excelent': 17290, '▁diagnosed': 12223, 'Chaque': 16705, 'capacitatea': 21959, 'winkel': 29046, '▁tulbur': 22549, 'Str': 11500, '▁contribu': 9981, '▁guilty': 10945, 'lytic': 14991, '▁early': 778, '▁martyr': 29717, '▁erwarten': 21179, '▁zonă': 22607, 'mesures': 23881, 'GE': 5042, '▁modular': 15741, '▁Republicii': 26009, '▁Omni': 24377, '▁Robot': 16574, '▁Zwei': 11280, 'păt': 18496, '▁valeur': 8246, '▁complaint': 10394, '▁VA': 9039, '▁avertiz': 28813, '▁Sorin': 29295, '▁lebendig': 30200, '▁techniques': 2097, 'unauthorized': 22556, 'après': 12589, '▁Zhao': 30680, '▁activités': 10513, '▁Guard': 12899, '▁lie': 11761, 'Aus': 14934, '▁herbal': 18543, '▁society': 2710, '▁situație': 29349, '▁calls': 3088, '▁NEW': 8747, '▁Tucson': 28226, '▁Wizard': 23382, '▁follows': 6963, '▁packages': 6307, '▁eater': 23852, '▁Implement': 21582, '▁font': 4088, '▁propria': 21405, '▁clinical': 3739, 'tting': 6031, 'ives': 8763, '▁Coral': 24891, 'lehnt': 29723, '▁3.': 1877, 'infused': 24431, '▁captured': 9534, 'Un': 5110, '▁Teachers': 18991, '▁TV': 1424, '▁concentration': 6145, '▁estimation': 22781, '▁minimise': 25733, '▁imaginative': 26443, '▁student': 1236, '▁19': 957, '▁adjacent': 12487, '▁remarc': 19048, '▁interesat': 21658, '▁Rod': 8222, 'izi': 10954, '▁helped': 2139, 'subsequently': 14064, '▁CD': 3190, '▁Polo': 22068, '▁cultiv': 10357, '▁anumit': 15558, '▁distanț': 29830, '▁operational': 7763, '▁celebr': 15371, '▁Chili': 28924, 'kov': 9789, '▁shipment': 19843, '▁veggies': 17984, 'vent': 2169, '▁raport': 11023, '▁disputes': 18126, 'ary': 1208, '▁Skip': 25378, 'buch': 5671, '▁commit': 10042, '▁geek': 25328, 'deli': 12460, '▁UCLA': 28685, '▁cloth': 10366, '▁aviation': 18979, '▁sinus': 23353, '▁former': 1798, '▁remis': 27120, '▁Licht': 8814, 'inclin': 20246, '▁path': 2071, '▁Atlantic': 9640, '▁Zuschauer': 25204, '▁There': 290, '▁dezbatere': 31602, 'Press': 24313, '[/': 25229, 'slav': 17457, 'these': 19712, '▁poultry': 27254, '▁PowerPoint': 23587, '▁Depot': 19524, '▁Farm': 4990, '▁disagree': 15788, '▁reguli': 24437, '▁GPS': 9679, 'igma': 23528, '▁ausgezeichnet': 23072, 'tale': 11686, 'erie': 4074, '156': 25463, '▁breach': 10564, 'zza': 19485, '▁nails': 17315, 'mastered': 25588, '▁favorite': 1305, '▁Greg': 11859, '▁professionnel': 12562, '▁shifting': 16739, '▁ERP': 22568, 'După': 8869, '▁vreau': 15960, 'Buying': 22522, '▁6:30': 23096, 'supervised': 23313, 'poc': 10496, '▁longueur': 25693, '▁college': 1900, 'außerhalb': 25499, '▁inclusiv': 10493, 'verbrauch': 22270, '▁Selling': 25263, '▁complete': 743, '▁France': 1410, 'plex': 9247, '▁village': 3309, '▁Close': 9084, '▁grocery': 11426, '▁tutorial': 7114, '▁idol': 21979, '▁separately': 12000, '▁freshman': 22857, 'ectomy': 25492, 'gio': 10253, '▁Produkten': 20488, 'ко': 12377, '▁sciences': 13554, '▁Appeal': 25024, '▁Maker': 18493, 'nés': 15814, '▁lawn': 8652, '▁underway': 18953, '▁Brown': 3899, '▁Savannah': 26751, '▁efectiv': 27410, '▁Providence': 27943, '▁ubiquitous': 29840, 'rubrique': 27448, 'MO': 5365, 'liable': 8860, 'ARD': 10327, 'hol': 2831, '▁Monica': 20268, 'Rather': 10867, 'mug': 12963, 'individuellen': 25240, 'dog': 10169, '▁militia': 31428, '▁Strategy': 15605, '▁Nobel': 22232, '▁Discuss': 26961, '▁Straight': 28044, '▁Brady': 24927, 'merci': 26694, '▁sufer': 14324, '▁luna': 8476, 'Obviously': 14116, '▁Cooper': 10078, '▁regiune': 22525, '▁buddy': 23707, 'performing': 27245, 'asse': 3974, '▁Frank': 4937, '▁careers': 13325, '▁predict': 9689, '▁Jerry': 16637, '▁défini': 15807, '▁vacant': 14333, '▁wheel': 5094, '▁va': 409, '▁screaming': 25471, 'oul': 7115, '▁suchen': 13748, 'apte': 14208, '▁Ah': 9710, '▁vers': 2676, '▁poign': 23036, '▁Africa': 2648, '▁Activities': 23919, '▁imobil': 23226, '▁alive': 7267, 'spotted': 16972, '▁revitaliz': 26367, 'AS': 3291, 'loß': 28802, 'zentrale': 16542, 'erfahrung': 25467, '▁connaît': 27897, '▁shades': 11215, 'gab': 21784, '▁dropped': 6292, '▁Stärke': 25959, '▁outrageous': 30662, '▁joi': 14684, '4.': 7984, '▁fake': 9901, '▁People': 2449, '▁complement': 10090, '▁puzzle': 9062, 'beck': 12993, '▁storm': 5536, '▁Bring': 10267, '▁fotografi': 14624, 'nada': 18089, '▁nurses': 14993, '08.': 15000, 'OC': 5618, '▁idei': 16176, 'inland': 25948, '▁May': 932, '▁Interstate': 28281, '▁HAVE': 21490, 'DS': 3592, '▁well': 168, '▁Glauben': 27612, '▁litigation': 13326, '▁Tavern': 31337, '▁haben': 745, 'ви': 25610, 'reise': 15081, '▁contra': 5314, '▁bine': 1658, '▁sets': 3369, '▁Republic': 5750, '▁upset': 13423, '▁Sharon': 22482, 'tur': 2905, '▁RSS': 14348, '▁übernehmen': 21704, '▁conjug': 26648, '▁cetăţeni': 27922, '▁warning': 6337, 'AND': 9853, 'nahm': 18069, '▁după': 2322, '57': 3436, 'nnouncing': 22587, '▁Meditation': 26328, 'usziehbar': 28852, '▁Doc': 17268, '▁shelving': 29741, 'February': 31122, '▁sociaux': 15035, '▁stamp': 7334, 'terio': 10140, 'ioase': 19088, '▁blanket': 10934, '▁Beschwerden': 31381, '▁nochmal': 18794, '▁1951': 25684, 'tex': 10354, '▁lieux': 16741, '▁compar': 12608, '▁Clinic': 12657, '▁repayment': 22945, '▁extend': 4285, '▁raison': 8324, '▁the': 8, '▁admis': 24289, '▁services': 364, 'chat': 16842, 'ography': 5984, 'gespräch': 25365, '▁Zu': 1811, 'Stainless': 18379, '▁landmark': 15754, 'VERS': 26794, 'rrière': 9317, '▁torch': 26037, '▁Gent': 21689, '▁smoothie': 19545, '▁passing': 5792, 'MRC': 27396, '▁intellectuelle': 31869, '▁Beautiful': 7622, '▁Material': 7374, 'emelle': 29241, '▁entsteht': 22064, '▁cannot': 1178, '▁Works': 12826, 'blog': 12139, 'tungs': 13387, '▁waterproof': 15136, '▁importanț': 30580, 'wood': 2037, '▁Intel': 5869, '▁exclude': 17981, '▁Craiova': 23315, '▁4:00': 29415, '▁plaid': 30772, '▁concluzi': 21410, 'AA': 5498, '▁delight': 11235, '▁role': 1075, '▁stipulate': 28713, '▁surprising': 10306, '▁stammen': 29584, '▁terre': 10225, '▁geeignet': 10132, 'lind': 9230, '▁Sony': 8357, '▁Neue': 15661, 'sper': 4339, 'manager': 24185, '71': 4450, '▁accuracy': 7452, '▁acesteia': 16916, '▁catalyst': 24170, '▁vorbereitet': 28930, '▁gelten': 13896, 'éni': 13614, '▁săptămâna': 29030, 'partnering': 26361, '▁Guvern': 29489, 'ing': 53, '▁mostly': 3323, 'über': 6638, '▁West': 1244, '▁restaurant': 2062, '▁vegetable': 12065, 'Level': 25465, '▁Yesterday': 18566, '▁pachet': 17412, 'paired': 13804, '▁guarantee': 3614, '▁arbor': 22561, 'wildly': 28890, '▁Dream': 7099, '▁înțeleg': 22037, '▁Eye': 9172, '▁Matt': 5199, '▁Bas': 6653, '▁fingertips': 26399, '▁wind': 2943, '▁investiga': 20184, 'read': 5236, 'transferring': 23560, '▁heat': 1678, '▁Heather': 21238, '▁pêche': 23374, '▁Rebel': 24438, 'căci': 24280, 'tuși': 23171, '▁începutul': 22378, '▁seama': 13589, 'handel': 10777, 'rounded': 12279, '▁down': 323, '▁Tech': 7130, '▁cherry': 15665, '▁fairy': 19270, '▁clasic': 15006, '▁privé': 21611, '▁Parish': 21954, 'ergebnis': 30942, 'GES': 25617, '▁Springs': 11309, '▁Sache': 18791, '▁lower': 1364, 'responsive': 31847, 'shell': 17346, '▁virtual': 4291, '▁marketers': 17855, '▁Consum': 24165, '▁decision': 1357, 'gan': 2565, '▁Cambridge': 10096, '▁auf': 219, '▁interference': 20511, 'ături': 22043, 'onne': 5993, '▁bakery': 25552, '▁Gebiet': 19358, '▁stencil': 27215, '▁rendering': 18968, '▁Herzen': 20892, 'sagt': 27913, 'large': 15599, '▁obsessed': 22875, '▁heart': 842, '115': 15660, '▁parte': 2359, '▁severity': 20363, '▁Maha': 16256, '▁Python': 20737, '▁architecture': 4648, 'ин': 22420, 'Video': 25838, '▁Einblick': 26785, 'China': 26154, 'December': 29835, '▁Group': 1531, '▁Rit': 11671, '▁«': 673, 'fung': 9940, '▁Detective': 29271, 'prevenirea': 31097, '▁mistakes': 8176, '▁Fischer': 24095, '▁Magnet': 25787, 'genic': 17890, '▁superficial': 25307, '▁Luft': 10012, '▁promovare': 18350, '▁mais': 971, '▁gigantic': 30478, '▁grease': 19373, '▁Hudson': 19676, '▁Brunswick': 29980, '▁ones': 2102, '▁quotation': 20222, '▁beautifully': 8538, 'chung': 23131, '▁terrestrial': 31882, '▁telling': 5188, '▁Hero': 14953, '▁Medicaid': 19663, 'Strukturen': 31493, '134': 23747, '▁LI': 8729, '▁Vereins': 18894, '▁victory': 6224, '▁cook': 3989, 'motifs': 25159, '▁végét': 30094, '▁Jardin': 26534, 'effective': 8993, '▁discoveries': 25175, 'dra': 3515, 'RES': 12200, '▁offset': 13746, 'contrasting': 28873, 'titulaire': 29397, '▁Sozial': 13848, 'igne': 6962, '▁Charity': 25997, '▁Genau': 23371, 'olé': 20704, '▁ou': 407, '▁physiological': 26574, '▁Mar': 1571, 'zel': 4650, '▁wicked': 25972, 'nut': 4796, '▁still': 341, '▁Need': 5882, '▁tricky': 16114, '▁mounted': 9539, '▁mad': 11454, 'țiune': 16954, '▁accueille': 23663, '▁europene': 16459, '▁Toulouse': 26244, '▁utilizatorilor': 27985, '▁frustration': 13693, 'notch': 16360, '▁pedestal': 30978, '▁loi': 8450, '▁badly': 14621, '▁comprehension': 27160, '▁composant': 24022, '▁cleared': 13139, '▁tir': 11857, '▁Druck': 10486, 'engine': 20165, '▁contaminants': 30264, '▁looked': 2299, '▁LIMITED': 31351, '▁Princess': 15615, '▁fantastic': 2723, '▁Seite': 5321, 'source': 7928, 'pro': 1409, 'ended': 14550, '▁Elegant': 19578, 'imposing': 26781, 'dissolved': 27106, 'MIS': 28580, '▁dawn': 20915, '▁Distribution': 21968, 'at': 144, '▁ambasad': 31261, '▁sunshine': 18275, '▁credibility': 20327, 'vant': 6451, 'fast': 11584, '▁corridor': 20358, '▁lösen': 26949, '▁locui': 19244, 'fähigkeit': 19338, '▁relevance': 20208, '▁Packers': 26698, '▁Möbel': 18696, 'lap': 8478, 'JO': 15355, '▁decay': 18907, 'alegerea': 21749, '250': 11434, '▁Constantin': 15838, 'committing': 25345, 'medicine': 29368, '▁Jan': 3049, '1.9': 22493, 'Look': 24393, 'TL': 12733, '▁scrisoare': 31075, '▁suspend': 12547, 'nsbesondere': 31265, 'ville': 1420, '▁sorgen': 15655, 'rib': 6520, '▁seekers': 25321, '<extra_id_78>': 32021, '▁gibt': 1505, '▁Plain': 16323, '▁coordinated': 21058, '▁réelle': 19051, '▁estimated': 5861, 'gg': 4102, '186': 25398, '▁Reed': 20142, 'handlung': 20873, 'teur': 5348, '▁Daughter': 30367, '▁vielleicht': 10330, '▁request': 1690, '▁major': 779, '▁ethics': 16083, '▁Flexible': 29621, '▁caractère': 17973, '▁additive': 20541, 'rush': 17363, 'mot': 8888, 'cca': 12464, '▁altor': 14699, '▁Growth': 17435, '▁romantic': 7966, '▁focal': 15949, '▁chambre': 9274, 'tsch': 10904, '▁amelior': 28661, '▁Terrasse': 22400, '▁troops': 12673, '▁inférieur': 31986, 'zeit': 2207, '▁chacun': 9646, '▁agreed': 4686, '▁pH': 16767, '▁Game': 4435, 'les': 965, '▁hear': 1616, 'offrent': 26375, '▁fetch': 27109, '▁age': 1246, '▁1933': 26957, '▁parchment': 28214, 'werten': 20707, '▁demeure': 23212, 'Adresse': 12590, '▁irré': 27849, '▁squash': 21248, 'claimed': 20471, 'commerce': 7949, '▁dragoste': 14316, '▁along': 590, '▁mulch': 30330, 'cetate': 22309, '▁Transilvania': 27413, '▁succession': 22289, '▁dargestellt': 28267, '▁apology': 30430, '▁peisaj': 28505, '▁Blätter': 30464, 'eau': 1607, '▁regulation': 9464, '▁wi': 11064, '▁teaching': 2119, '▁frig': 19791, 'Char': 18947, 'românii': 31214, '▁Actual': 24193, '▁04/2': 26270, '▁PAR': 17917, 'design': 9124, '▁cuir': 20352, '▁Lili': 29886, '▁Activity': 22536, '▁sovereignty': 29139, '▁representatives': 8675, '▁Mario': 14082, '▁abgestimmt': 29564, '▁informiert': 23718, 'liest': 23217, '▁separated': 12494, '▁spent': 1869, '/16': 16033, 'maternity': 27968, 'rrington': 27636, 'ée': 721, '▁explanation': 7295, '▁condus': 16862, '▁Ted': 19332, '▁shuttle': 19317, '▁Wechsel': 22078, '▁commis': 26864, '▁Ste': 3557, '▁ABS': 20798, 'ù': 23063, '▁passe': 8063, '▁piano': 8355, '▁detaliat': 29853, '▁superintendent': 30158, '▁breaches': 27358, '▁vorbe': 13812, '▁présenté': 18709, '▁Secondary': 24420, 'EN': 5332, 'outskirt': 31473, '▁Vernon': 29445, '▁escape': 6754, '▁motivation': 6620, 'guard': 11010, 'EAR': 19356, 'issement': 9343, 'ive': 757, 'lit': 4250, '▁Lighting': 16714, '▁programming': 6020, '▁police': 2095, '▁iron': 3575, '▁modules': 10561, '▁Grid': 23644, '▁fell': 4728, '▁Gov': 17416, 'wave': 12301, '▁essay': 2257, '▁Its': 6385, 'ttes': 12407, 'tory': 10972, 'Rie': 24767, '▁Intellectual': 31995, '▁Stadt': 3287, '▁RBI': 19979, 'anumite': 11903, '▁steriliz': 29675, 'fekt': 22363, '%)': 6210, '▁impacts': 11737, '▁exact': 2883, 'a': 9, 'burger': 9079, '▁harmony': 18362, '▁Reiki': 26420, '▁WI': 12116, '▁algebra': 27502, 'completing': 8828, 'leger': 23196, '35': 2469, '▁restaurants': 3661, 'etapa': 26129, 'markt': 10244, '▁germ': 19652, '▁produse': 5284, '▁gesunde': 24299, '▁express': 3980, 'otwithstanding': 27627, 'cru': 14127, '▁green': 1442, 'ichtigkeit': 29214, '▁raw': 5902, '▁new': 126, 'ified': 3676, '▁pursuit': 13709, 'gaben': 12525, 'nism': 14378, '▁anume': 16074, 'TIN': 25424, '0000': 19568, 'OTT': 28889, '▁handicap': 14214, '▁Recognition': 31110, '▁trez': 18319, 'EEN': 23394, '▁script': 4943, 'éré': 7506, '▁Außen': 15749, '▁David': 1955, '▁3,': 6180, '▁publicly': 11652, 'esthesia': 23220, '▁estimates': 10014, '▁Seit': 8709, 'IES': 11973, 'tendons': 31667, 'plattform': 31694, 'Certaine': 31781, 'Gold': 23576, 'guten': 11883, '▁breathing': 10882, 'thal': 13958, '▁growing': 1710, 'dic': 4370, '▁band': 1928, 'Graph': 21094, '▁Kindergarten': 24758, '▁automobile': 8395, '▁Winston': 27484, 'extrême': 27992, '▁tear': 11482, 'Mail': 7098, '▁Livre': 20318, '▁Maz': 22839, 'bewegung': 28030, '▁Recipe': 22272, '▁pensé': 18159, '▁nepo': 29660, '▁magician': 31412, 'TO': 5647, '▁hooked': 20949, '▁Ausführung': 28513, '▁puppy': 17351, '▁Plymouth': 27043, '▁părere': 28970, '▁transmit': 9153, '▁Map': 6950, '▁paar': 8795, '▁stole': 26357, '▁12:00': 25095, '▁collectif': 23199, '▁Petru': 26839, 'pier': 8343, 'namen': 20205, '88': 4060, '▁structured': 14039, '▁respected': 13841, 'mbi': 14382, '▁announce': 6456, 'recht': 2819, '▁lună': 24166, '▁poêl': 31409, '▁present': 915, 'le': 109, '▁connected': 2895, 'income': 15759, '▁regula': 21311, '▁andere': 2903, '▁Honda': 12886, '▁render': 16061, '▁entire': 1297, '▁adults': 3513, '▁forthcoming': 22316, 'IAL': 15397, 'ţ': 3456, 'objekt': 26728, '▁arch': 11508, '▁looks': 1416, 'DN': 12145, '▁friction': 21764, 'ATCH': 29572, 'ров': 29812, '▁PHP': 15920, 'spect': 5628, '▁bro': 9161, 'we': 1123, '▁investigator': 16273, '▁detector': 19199, '▁Zimbabwe': 23241, '▁wondering': 7918, '▁Includes': 14791, 'anbieter': 24053, '▁angeboten': 14844, '▁Casino': 4559, '▁electricity': 6373, '▁vibr': 19478, '▁Stories': 20406, '▁recreate': 23952, 'VER': 16174, '▁PC': 2104, '▁personally': 4828, 'naj': 19906, '▁devenit': 11569, 'guide': 16183, '▁kann': 675, '▁representation': 6497, '▁meta': 10531, '▁Pharmaceutical': 24464, 'ruled': 16718, '▁Carbon': 14335, '▁Mandel': 26353, '▁sezon': 14334, '▁unacceptable': 29452, '▁Sfânt': 19606, '▁mots': 16214, '▁Hypo': 29378, '▁besondere': 7537, '▁cercet': 17632, '▁exemption': 20554, '▁alignment': 14632, '▁expir': 8982, '▁Calcium': 30655, '▁brut': 18343, '▁ghost': 13909, '▁Jü': 28576, '▁destinations': 10944, '▁Jenkins': 28779, '▁noodles': 22200, '▁Gründung': 26120, '▁Iranian': 19143, 'AY': 15029, '▁procedura': 19291, '▁instant': 5087, '▁bătrân': 29937, '▁susțin': 29746, 'inning': 10503, 'Online': 24227, '▁ministries': 29229, 'igi': 10100, '▁Dental': 11826, 'züglich': 26879, 'nung': 9875, 'zweiten': 12843, '▁Drag': 14747, '▁suport': 10637, 'Plus': 22571, '▁vremuri': 29548, '▁acesta': 4465, '▁passive': 14410, '▁These': 506, '▁ISBN': 20133, '▁Marcus': 20809, 'implication': 28722, '▁Richard': 4117, '▁wurden': 3163, '▁Curry': 26335, '▁selfish': 25054, '▁asta': 2966, '▁amenajat': 28446, '▁ursprünglich': 24406, '▁retained': 19346, '▁descendants': 28962, '▁vos': 1507, '▁Dann': 7680, '▁Gau': 12520, '▁06': 13574, 'formular': 20128, 'erne': 11965, 'questioned': 21360, 'risen': 23310, '▁Heim': 18809, '▁cantitate': 26161, '▁instability': 29440, '▁Wochenende': 20427, '▁Lin': 6741, '▁premiers': 16848, '▁Model': 5154, '▁Senate': 7819, '▁happiness': 8800, '▁or': 42, 'arro': 19996, '▁Sell': 16922, '▁Quality': 6495, 'cuit': 21560, 'gestion': 24899, 'schönsten': 28067, '▁wander': 10735, '▁opr': 12366, '▁chosen': 3934, '▁Gottes': 20149, '▁duration': 8659, '▁Random': 25942, '▁ţări': 18303, '▁perturb': 29404, '▁accesibil': 21860, '▁medications': 11208, '▁Heaven': 15957, 'maj': 16547, '▁considerat': 14479, '▁Traum': 16252, '▁territory': 9964, '▁Kooperation': 22813, '▁Open': 2384, '▁teritoriul': 24907, '▁Künstler': 16322, 'barkeit': 14487, '▁gewisse': 20637, '▁erzielt': 26341, '▁statistiques': 31167, '▁zipper': 22245, '▁distribute': 10973, '▁Tar': 5509, '▁naissance': 23056, '▁PROVIDE': 31580, '▁Ghana': 18406, '▁vanilla': 13478, '▁drawn': 6796, '▁Million': 14625, '▁Indianapolis': 23385, '▁Return': 9778, '▁Picasso': 31280, '▁téléphone': 13887, 'NU': 17052, '▁precum': 3220, '▁Jeder': 19399, '▁operation': 2986, '▁impart': 15950, '▁confort': 10940, '▁Sacramento': 22178, '▁Minecraft': 29184, '▁coupons': 11900, '▁pillow': 14095, 'DY': 19409, '▁spirits': 16370, 'geschlagen': 24883, '▁finanziell': 27088, '▁gemeinsam': 6602, 'KG': 18256, 'rice': 4920, 'schütz': 20509, '▁Falcon': 22150, 'spritz': 31085, 'dom': 5012, 'lib': 6856, 'TRI': 16840, '▁salvation': 19995, '▁converter': 20908, '▁Bewohner': 28486, '▁licence': 11629, '▁shed': 12478, '▁Bestseller': 27682, '▁tort': 14281, 'fares': 28919, '▁stainless': 7536, '▁Settlement': 31044, 'lement': 3335, '▁Significant': 31417, '▁Lebensmittel': 19616, 'ides': 9361, '▁exert': 25914, '▁marginal': 18777, '▁Kläger': 26595, '▁purchasing': 6063, '▁durée': 12854, '▁juca': 15632, '▁Wahrscheinlich': 31661, 'isten': 7176, '▁very': 182, '?)': 14396, '▁box': 1367, 'minister': 17791, '▁communal': 22393, '▁Terms': 10592, '▁border': 4947, '-9': 7141, '▁Grundlage': 15604, '▁Throw': 26191, 'VC': 7431, '68': 3651, 'weis': 13206, 'ouette': 24043, '▁Planet': 12601, '▁engagé': 22381, '▁identific': 23318, '▁freak': 19866, '▁printed': 5519, '▁recount': 27866, 'liquid': 29721, '▁modified': 8473, '▁Vietnamese': 24532, 'quelle': 6104, 'vé': 8825, '▁Cable': 17240, '▁regions': 6266, '▁slice': 13810, 'bird': 9414, '▁commissioner': 24476, '▁Dr': 707, 'ext': 10398, '▁individual': 928, '▁pal': 7692, '▁Crest': 25906, 'intitulé': 30527, '▁Madrid': 12033, '▁bloc': 8376, 'java': 27578, '▁Fabulous': 31440, 'els': 3573, '▁confine': 27325, '▁Amber': 24462, '▁oder': 401, '▁variat': 24855, 'stools': 23069, '<extra_id_71>': 32028, '▁Foundation': 2941, '▁Sad': 18875, '▁models': 2250, 'plic': 10435, '▁mediator': 26882, 'doch': 3327, 'entraîne': 16293, '▁manche': 15227, '▁bra': 3858, '▁swimmer': 27424, '▁response': 1773, '▁AM': 5422, '▁washer': 14822, 'gewinn': 20703, '▁materials': 1397, '▁northern': 8390, '▁disclosed': 19972, '▁pensii': 29246, '▁raising': 7954, '▁dim': 15688, '▁bread': 4109, 'hereby': 25374, '▁Supervisor': 25795, '▁battlefield': 28097, 'kal': 4766, '▁Baby': 6069, 'stehen': 15297, '▁utilisateurs': 18064, '▁Vortrag': 26373, 'IF': 6058, '▁immigrants': 16096, '▁Iar': 11437, '▁firearm': 20507, '▁constructed': 8520, 'triggering': 31783, '▁pairing': 22073, '▁quietly': 19965, 'gré': 8707, '▁rebel': 16054, '▁timpul': 4156, '▁Ross': 9616, '▁proof': 5594, '▁impun': 19354, 'ctor': 5317, '▁innovator': 27434, '▁Friday': 1701, '▁osteo': 23026, '▁Sommer': 9040, 'AH': 14084, '▁there': 132, 'degree': 19706, '▁Sierra': 17171, '▁MI': 8161, '▁deployed': 16163, '▁condominium': 28354, '▁identify': 2862, '▁bénéfici': 15972, '▁Reagan': 28088, '▁verbreitet': 30180, 'zy': 4164, '▁invaluable': 19138, '▁Issue': 13235, '▁Sunshine': 26020, 'begging': 31518, '▁firmware': 20476, 'trieb': 13835, 'anspruch': 18992, 'Initially': 22917, '▁patru': 8380, '▁Lodge': 14265, 'conf': 9707, '▁recreation': 17711, 'ANA': 15610, '▁solving': 11795, '▁raspberry': 30161, '▁Mrs': 8667, 'ery': 4203, 'GS': 8256, 'concentrating': 29408, 'BR': 6934, '▁source': 1391, '▁forces': 3859, '▁trained': 4252, 'deschiderea': 29350, '▁dashboard': 16740, '▁spices': 15771, '▁luxe': 21558, 'zusammengestellt': 31278, 'Symptom': 21828, 'tial': 10646, '▁Improvement': 22218, '▁tough': 3429, 'länge': 22467, '▁Sea': 3319, 'gât': 24915, '▁revanch': 26098, '▁treadmill': 26896, '▁apuc': 23884, 'coagul': 28286, '▁circuit': 4558, '▁Profil': 23595, '▁trimming': 27856, '▁NY': 5825, '▁1947': 23992, 'tic': 1225, '▁made': 263, 'sten': 1913, 'condition': 17558, 'employed': 18749, 'gängig': 26863, '▁impressionnant': 31612, '▁bilete': 20840, '▁leaving': 3140, '▁Baltimore': 15549, '▁colleagues': 6976, '▁născut': 22700, '▁results': 772, '▁privest': 21152, '▁remote': 4322, '▁Eugen': 18281, '▁transmission': 5790, '▁Bereits': 20973, '▁feasible': 20218, 'ential': 7220, 'lan': 1618, '▁cohort': 23785, '▁Kab': 20716, 'COM': 6657, '▁knight': 29816, '▁Jocuri': 30204, 'Contains': 30826, '▁court': 1614, '▁Evident': 30162, 'serv': 3473, '▁Crisis': 29668, '▁typical': 4541, '▁Spo': 8927, 'nick': 11191, '5000': 12814, '▁prze': 25030, '▁doll': 14295, '▁buna': 6375, '▁Patrick': 8643, '▁verwendet': 8533, '▁donate': 13213, '▁borrowed': 26688, '▁cricket': 18096, '▁Joe': 4967, '▁développé': 23609, '▁Film': 3417, 'ție': 4673, '▁Wake': 21295, '▁reduceri': 27586, 'impotriva': 18702, 'stère': 28258, '▁sneakers': 27550, '▁plomberie': 31775, '▁strive': 7131, '▁bag': 2182, '▁angenehm': 17624, '▁Before': 3103, '▁received': 1204, '▁Firma': 14533, 'match': 19515, '▁tehnologii': 25437, '▁Whatever': 10406, '▁sourire': 29336, '▁Dark': 7597, '▁note': 2232, '▁dormitor': 28349, '▁girlfriend': 17442, '▁precizat': 22291, '▁convinced': 12718, 'richten': 11156, 'persönlichen': 17181, '▁safeguard': 18034, 'monies': 26413, '▁builders': 19334, '▁shape': 2346, 'rach': 21136, 'geschenk': 26602, '▁installé': 20935, '▁Speaking': 14734, '▁familiei': 21573, 'pole': 14332, '▁beads': 18459, '▁Naval': 26187, '▁Rewards': 26197, '▁lever': 19540, '▁wäre': 6199, '▁regardless': 6147, '▁Valid': 23545, '▁read': 608, '▁majestic': 25941, 'fahren': 7844, '▁jaune': 22475, '▁Furthermore': 7053, '▁lupte': 29081, 'ally': 1427, '▁suitable': 3255, '▁Damen': 21495, '▁linistit': 29893, 'sunteti': 24287, '▁Geb': 13317, '▁pup': 18019, '▁Bird': 9992, 'luminous': 31365, '▁remplacé': 31522, '▁professionally': 13931, '▁2003': 3888, 'levitra': 30286, '▁untersucht': 29716, '▁Month': 14827, '▁mono': 7414, '▁Solid': 12974, 'UI': 7563, '▁restructuring': 28298, '▁siècle': 11245, 'nahme': 8369, '▁charts': 12321, '▁$100': 10417, 'gesellschaftlich': 25962, '▁Diana': 18821, 'howcasing': 22060, '▁replace': 3601, '▁wrapped': 11972, 'cylinder': 12980, '▁télévision': 25994, '▁prom': 15207, '▁Arad': 21702, '▁Oli': 20373, '▁polish': 12535, '▁mil': 15533, '▁kümmern': 30179, '▁SO': 5055, '▁clearance': 15362, '▁Sheffield': 23826, '▁fructe': 17914, 'woo': 14952, '▁aujourd': 7082, 'reinigung': 24048, '▁Period': 17769, '▁piscine': 17314, '▁reuşit': 26101, 'icillin': 31027, '▁départ': 12173, 'èle': 16747, 'Australia': 31971, '▁bezahlt': 28239, '://': 1303, 'Query': 27569, '▁above': 756, '▁autoritățil': 28593, '▁sustine': 22731, '▁sterling': 24248, '▁Tre': 4691, '▁enthusiast': 26160, 'sting': 11026, '▁twice': 4394, '▁Navy': 10662, '▁agriculture': 11402, 'î': 3633, '▁fails': 13288, 'ounded': 14471, 'Big': 23805, '▁erfüllen': 25447, 'hormon': 28101, '▁overall': 1879, 'claim': 15085, '▁Wood': 2985, 'medi': 5700, 'gmail': 18958, '▁retreat': 10742, '▁Sche': 10248, '▁hoch': 6012, '▁comprehend': 21494, '▁frumoasă': 27061, '▁complémentaire': 26520, '▁heroic': 29917, '▁obligat': 11713, '▁Academie': 30358, '▁Reflect': 23966, '▁détour': 30748, '▁Veranstaltung': 13975, '▁competiți': 28613, '▁produc': 14795, '▁consacr': 24469, '▁Risiko': 19725, '▁Tour': 3351, '▁mică': 20263, '▁Science': 2854, '▁reading': 1183, '▁Middle': 4551, '▁populaire': 19929, '▁vague': 15986, '▁interested': 1638, '▁doctors': 6659, 'bug': 14588, '▁reteta': 24777, 'Evenimentul': 27517, '▁Overview': 28479, '▁Vegas': 7615, '▁rezultate': 16301, 'settling': 19691, '▁Buy': 4783, '▁1948': 21474, '▁allergic': 22490, '▁limitation': 14130, '▁Structure': 21627, '▁tasty': 11915, '▁has': 65, '▁quelques': 3469, '▁Connection': 19466, '▁Gate': 11118, '▁Rhein': 17565, '▁căuta': 18633, '▁volonté': 20904, 'Over': 23847, 'leveraging': 26072, 'PER': 8742, '▁newspapers': 16265, '▁Daniel': 4173, '▁Pavel': 27196, 'innate': 28538, 'urmatoarele': 29294, '▁implications': 12418, 'RU': 8503, '▁directory': 8174, '▁android': 17729, '▁chefs': 16863, '▁Verizon': 23908, '▁switched': 17785, '▁Unter': 3941, 'anilor': 25501, '▁Weg': 5920, 'Europäische': 30604, 'té': 2229, '▁festival': 3994, '▁Strategies': 28026, 'ebenfalls': 7667, '▁Beiträge': 25363, '▁Medicine': 6852, '▁Wunder': 23813, 'CHA': 20891, '▁startet': 22825, '▁Herald': 27279, '▁obiect': 25033, '▁Bewertung': 16125, '▁Wallace': 25568, '▁rack': 7782, 'ordre': 12690, '▁legi': 12409, '▁Înainte': 31859, '▁Turk': 23694, 'held': 14796, '▁Picture': 15440, '▁cables': 16756, '▁Ac': 4292, '▁lead': 991, 'exposition': 12801, '▁bend': 17995, 'dichte': 23876, 'existent': 13957, 'iff': 5982, '▁lucrări': 14325, '▁computational': 25850, 'á': 2975, '▁agencies': 4299, 'societatea': 26271, 'dispositif': 18918, '▁glazing': 29301, '▁hyperlink': 29588, 'out': 670, '▁council': 6098, '▁vérifier': 24775, '▁März': 14763, 'ideally': 20690, '▁peanut': 14998, 'first': 14672, '▁react': 8922, '▁falling': 7306, '▁scr': 14667, '▁Regierung': 19108, 'ating': 1014, 'asked': 23552, '▁specific': 806, '▁superior': 4784, '”).': 16937, '▁Suzanne': 31054, '▁38': 6654, 'gression': 22430, '▁gib': 31257, '▁Zum': 8083, '▁education': 1073, '▁reinvent': 27366, 'Vorgaben': 31840, '▁strategy': 1998, 'IDENT': 29433, '▁Geo': 10107, '▁député': 28096, '▁roulette': 20486, 'Interestingly': 23500, '▁cooling': 9243, '▁booked': 13007, '▁between': 344, '▁corps': 7527, 'он': 25752, '▁dispar': 8378, 'irrespective': 30032, 'betont': 27903, '▁King': 2671, '▁convenient': 4979, 'atte': 10206, 'essay': 23611, '▁transition': 3508, 'stern': 13072, '▁Tun': 16008, '▁entendu': 21481, 'abs': 14623, '▁Ausstattung': 26536, '▁Tra': 3083, '▁pratiques': 17339, 'platz': 5732, 'établissement': 11793, '▁proprietati': 28615, 'ordained': 31917, '▁Whisk': 22290, '▁verarbeitet': 23723, '▁contraction': 26414, '▁Gaming': 18613, '▁Ost': 11589, '▁Stan': 11469, 'hari': 16250, '▁blame': 9100, 'infamous': 25360, '▁Kon': 2974, '▁speakers': 7215, '▁quotes': 7599, '▁line': 689, '▁bestätigt': 25821, '▁harmful': 10947, '▁Tamil': 22503, '▁damage': 1783, 'attainable': 31720, 'stärke': 16907, '▁discontinued': 28723, '▁Partie': 17450, '▁companion': 9663, '▁urge': 11872, 'och': 6322, 'fläche': 18038, '▁trainee': 25768, '▁Thomson': 30811, '▁punct': 5427, 'polar': 9618, '▁obstruction': 26359, '▁couldn': 2654, 'ßen': 17283, '▁2016.': 4619, '▁scandal': 14605, '▁rel': 8318, '▁Compare': 17483, '▁overweight': 26676, '▁feed': 3305, '▁that': 24, 'modal': 20226, '▁Under': 3526, '▁merg': 12147, '▁comportament': 20204, '▁illuminate': 20468, '▁proprietor': 27966, '▁dacă': 2531, '▁numerous': 2724, '▁Upload': 30279, 'jurul': 11311, '▁Mix': 7382, '▁interactions': 9944, '▁Maroc': 27420, '▁Jordan': 8480, '▁escalate': 30254, 'prevailing': 29370, '▁grammar': 19519, '▁différentes': 9263, 'recalled': 24312, '▁Speech': 26351, '▁Syria': 11380, '▁simultaneously': 11609, 'lection': 12252, 'regulated': 12990, '▁Weitere': 15218, '▁trustee': 22487, '▁average': 1348, '▁mort': 7971, 'illet': 22751, 'TT': 9697, '▁YEAR': 30431, 'cind': 23623, 'tec': 5822, '▁Mueller': 26615, '▁profession': 6945, '▁Interactive': 24385, 'bia': 15500, '▁saison': 8593, 'zustellen': 16031, 'yah': 24320, '▁clothes': 4954, '▁luptă': 25767, 'Cloud': 18487, '▁week': 471, '▁joyful': 26128, 'lob': 11846, '▁Personally': 21069, 'solution': 14913, '▁premier': 2761, '▁Kleidung': 27708, '▁Clin': 22063, '▁générale': 9117, '▁using': 338, '▁Generation': 11946, 'Creating': 18120, '640': 23714, '▁façon': 6988, '▁improper': 22187, '▁Ian': 15498, '▁Have': 2114, '▁First': 1485, '▁Suisse': 20775, '▁prosecut': 23489, '▁apreciat': 22095, 'object': 30536, '▁séch': 29374, '▁dich': 5930, 'gezogen': 16930, '▁rhino': 29586, '▁depending': 3345, '▁pride': 6064, '▁bedrooms': 8458, '▁Stock': 6394, '▁Accounting': 22407, '▁password': 4735, 'isé': 6956, '▁Werkstatt': 31079, '▁pacate': 25475, '▁initiate': 20108, '▁pe': 158, '▁partial': 11807, '▁dépense': 23417, '▁devreme': 28826, '▁kontaktieren': 30910, '▁bluetooth': 31327, '▁sermon': 25166, '▁inhibition': 29418, '▁organic': 3648, '▁conduit': 13389, '▁International': 1331, '365': 10402, '▁blast': 11925, 'scholarly': 26892, 'grund': 13583, '.\"': 535, '▁Childhood': 30588, '▁auto': 1510, '▁death': 1687, '▁sous': 2539, 'konferenz': 31759, '▁ref': 6273, '▁07': 10668, '▁Piano': 25304, 'stal': 8407, '▁disability': 10050, 'expected': 31643, '▁professionnels': 10676, '▁Canterbury': 31868, '▁towel': 15580, '▁vârf': 29152, '▁manufacturing': 3732, '▁determination': 11444, '▁rejuvenat': 23071, 'sorb': 23651, 'mate': 5058, '▁révèle': 28689, 'cycle': 10136, '▁remboursement': 29211, '▁Kurz': 13949, 'Against': 20749, 'insertion': 23565, 'bestselling': 30658, '▁proiect': 6671, '▁Clean': 7433, '▁Medical': 3721, '▁Student': 6341, '▁könnten': 19265, '▁blocks': 6438, '▁champion': 6336, '▁Rh': 11092, 'laub': 14802, '▁tenants': 16801, 'ouverture': 14398, '▁Kuwait': 28819, 'oscopic': 23643, 'tama': 22713, '▁weekly': 5547, 'hav': 18261, '▁Lieutenant': 30943, '▁Rev': 6342, '▁lung': 5084, 'itori': 15467, '▁retenu': 28603, 'effi': 23473, '▁agricultural': 10687, '▁valuation': 18662, '▁$3': 5583, '▁McCarthy': 30757, '▁sauvegarde': 31741, '▁organizing': 14308, '▁sang': 9965, 'Port': 14714, '▁occurring': 16198, 'ertaining': 29023, '▁dreptul': 9941, 'application': 12251, '▁symposium': 29607, '▁grădini': 31915, 'tag': 2408, '▁monumental': 28046, '▁exklusive': 29658, '▁alcohol': 4798, '▁Verantwortung': 22282, '▁hello': 21820, 'clude': 21418, '▁tragic': 17414, 'intestin': 21585, 'topic': 19710, 'rou': 3964, '▁recognize': 4206, '▁fata': 4812, '▁articol': 11405, '▁cubic': 19536, '▁Scotia': 27789, '▁serves': 4657, '▁société': 5395, '▁Number': 7720, 'gebracht': 10350, 'shedding': 30920, '▁Willow': 27087, '▁greeting': 18660, '▁scrap': 7346, '▁Heart': 6219, '▁fee': 2572, '▁paperwork': 16879, '▁Kardashian': 31279, 'arc': 4667, '▁De': 374, '▁Bloom': 17762, '▁Kha': 12877, 'incarc': 14736, 'Now': 17527, '▁Kenya': 12605, 'trend': 22517, '▁Psycho': 12343, 'östlich': 25311, 'Bringing': 30608, 'Advisory': 17037, '▁hydraulic': 20320, 'DH': 15538, '▁Kick': 20759, '▁Poland': 14354, 'doubling': 30421, '▁Finn': 22896, '▁Barcelona': 11869, 'rues': 30218, '▁beds': 8326, '▁sign': 1320, '▁guilt': 20595, '▁affect': 2603, 'OFF': 15316, 'Imagin': 23372, '▁images': 1383, 'pru': 12129, '▁endlich': 17816, '▁proximité': 19335, 'function': 23993, 'ouvre': 16514, '▁moindre': 24835, '▁flirt': 26522, '▁eingeladen': 27846, 'éanmoins': 23035, '▁facilement': 13925, '▁permanence': 31119, '▁Sieg': 15177, '▁Oradea': 26734, 'ette': 1954, '▁voltage': 10594, '▁liefern': 23849, '25,000': 24338, '▁initial': 2332, '▁Jur': 15598, 'NK': 17345, '▁sanctions': 17210, '▁atmospheric': 22923, 'ре': 13400, '▁introduction': 5302, '▁contour': 17643, '▁accelerator': 30202, 'TV': 4562, '▁types': 1308, '▁würde': 6368, '▁1974': 17184, '▁cheveux': 18348, '▁therapeutic': 12206, '▁furniz': 22663, '▁Standard': 5150, '▁confrunta': 28652, '▁Pier': 18451, '▁urinar': 25735, '▁package': 2642, '▁blogs': 9407, '▁Prim': 12441, 'stunden': 24737, '▁jos': 7406, '▁stocks': 10145, '▁contend': 24236, 'flat': 13710, 'oga': 19914, '▁dann': 1352, '▁27': 2307, '▁Cornwall': 26334, 'LV': 15086, 'gelegt': 9214, '▁Kri': 16791, '▁industries': 5238, '▁Discover': 10793, '▁Verfahren': 18130, '▁aceea': 4362, '|': 9175, '▁Fresh': 8767, '▁retrieve': 21830, '▁tint': 21970, 'ру': 23912, '▁condensation': 30549, 'glass': 15548, '▁Ze': 4603, '▁Workers': 22242, 'iola': 23578, '▁magique': 29416, '▁coastline': 25249, '▁Direkt': 20980, '▁produced': 2546, '▁Central': 2808, '▁findet': 6595, '▁trash': 7623, '▁quant': 13500, '▁soins': 18342, 'notably': 20283, '▁militare': 30191, '51': 5553, '-18': 6996, 'nag': 15603, 'established': 24109, '▁ani': 1667, 'flow': 7631, '▁follow': 1130, '▁rând': 9512, '▁democratic': 15053, '▁initially': 7513, '▁viewer': 17831, '▁institutional': 13533, '▁Ridge': 13068, '▁München': 13405, '▁Anlagen': 26104, 'écrire': 21640, 'CW': 18105, '▁reagieren': 31124, '▁eyes': 2053, '▁bist': 15840, '▁Cookie': 22995, '▁cracked': 21185, '▁jeunes': 9001, '▁favoris': 16615, '▁fil': 5375, '*****': 21905, '▁adoptat': 25901, 'atta': 14748, '▁Historic': 19923, '<extra_id_92>': 32007, '▁Gründen': 23965, '▁retailers': 10481, '▁ainsi': 2236, '▁Northeast': 21732, '▁transmis': 12454, '▁separation': 13608, '▁support': 380, '▁rendered': 20518, '▁Sortiment': 26214, 'cunoscută': 30448, '▁Jon': 8178, 'Depuis': 11334, '▁Stil': 16134, '▁Gymnas': 31560, '▁rentals': 15981, '▁Eisen': 19027, '▁Est': 7545, '▁Examination': 27275, 'licher': 11939, '▁mit': 181, '▁Thames': 29989, '▁Tau': 11452, '▁nerve': 9077, 'orient': 5757, '▁Katherine': 28311, '▁AR': 11155, '▁missions': 14004, '▁ging': 9469, '▁analyses': 15282, '▁ușoar': 31631, 'otte': 14708, '▁pipe': 7119, '▁longtemps': 16546, 'DOM': 27415, 'illon': 8901, 'ABLE': 17098, '▁Telephone': 28747, 'iety': 27115, 'voir': 8239, '▁Kings': 13913, '▁Bang': 19330, '▁worthy': 13734, '▁scored': 5799, '▁Municipal': 16492, '380': 22671, '▁Aboriginal': 26790, '▁fingers': 10518, '▁presa': 18818, '▁rinse': 20996, 'cheapest': 14575, '▁jacket': 8094, '▁einmalig': 28856, '▁known': 801, '▁image': 1023, '▁Oliver': 15865, '▁obey': 24375, '▁repeal': 28939, '▁Change': 5968, '▁Kopf': 11328, 'Ü': 14858, '▁screw': 11178, '▁pioneer': 11200, '▁intro': 16728, '▁vrai': 10233, '▁garde': 15408, '▁darin': 19580, '▁Guardian': 17606, '▁Moi': 17571, '▁shrimp': 19949, '▁Seal': 21085, 'complemented': 30877, '▁Curtain': 26450, 'rete': 10117, '▁doubt': 3228, '▁prese': 17497, 'diesen': 5162, 'Linked': 29806, '▁vede': 13043, '▁caracter': 10560, '▁Nouveau': 28016, '▁Shelby': 27677, '▁lovely': 3061, 'IGHT': 19114, '▁paradise': 21691, '▁speculate': 28270, 'dommages': 30820, '▁VIP': 14273, 'ARE': 7451, 'achi': 11015, '▁accused': 11970, '▁einige': 4847, 'politischen': 23078, 'head': 3313, 'schickt': 30344, 'BN': 19174, 'TC': 3838, '▁facilitator': 28918, '▁malheureusement': 30602, '▁reform': 5139, 'nial': 7419, '▁assault': 12710, '▁nurturing': 27089, '▁Cancer': 9520, 'owner': 13238, '▁gifts': 5504, '▁locuri': 10828, '▁leaves': 3231, '▁scrie': 11694, '▁Fabric': 15089, 'flă': 9929, 'Toate': 13532, '▁Brazilian': 18065, 'willig': 20494, 'serez': 23422, '▁locuinte': 31768, 'POWER': 29426, 'être': 2680, 'hohen': 14069, '▁Printr': 31147, '▁yoga': 6325, 'suppl': 15956, '▁Kai': 17654, '▁publique': 13157, 'Voilà': 25998, 'asteptam': 27893, '▁notre': 1680, '▁stack': 9013, 'NER': 18206, '▁Vil': 21340, '▁Columbus': 18751, '▁fingerprint': 21759, '▁Bride': 26846, '▁revere': 26236, 'besuch': 27024, 'un': 202, '▁visualization': 21744, '▁Tuesday': 2818, '▁poison': 14566, 'warum': 17062, 'vita': 12411, '▁interior': 2422, '▁1946': 25021, 'termeni': 30620, '▁hack': 8093, 'gespielt': 21125, '▁mêl': 31241, '▁1938': 25745, '▁brin': 25799, '▁complex': 1561, 'ANT': 9156, '▁ranking': 11592, 'eți': 8734, '▁Thanksgiving': 11009, ':': 10, '▁lungime': 21944, '▁permis': 7630, 'bab': 12534, 'acclaimed': 18480, 'miterea': 31047, '▁remaining': 4080, '▁Grecia': 29196, '▁Pro': 749, '▁obligați': 29756, '▁prix': 3407, '▁WordPress': 6410, '▁Pretty': 18268, '▁Final': 6514, 'Update': 29423, '▁sûr': 9524, '▁bite': 9133, '▁automotive': 11106, '▁used': 261, '▁Song': 11263, '▁Prüf': 30044, '▁250': 5986, '▁Investigator': 24724, '▁loop': 6494, '▁parameters': 8755, '▁piece': 1466, '▁Bucureşti': 13727, '▁Distribu': 21796, '▁pouch': 25663, 'divider': 31107, '▁gesetzlich': 25411, 'ACA': 22029, '▁meditate': 31125, 'club': 13442, 'Well': 18741, '▁combination': 2711, '▁Dining': 14028, '▁Dawson': 31676, '▁primul': 5488, 'INCLUD': 27450, '▁BTW': 30674, '▁torque': 19527, '▁intéressé': 28166, '▁Fortune': 20669, '▁dental': 4814, 'ER': 3316, 'optimisation': 27040, '▁ballet': 22201, '▁primit': 7877, '▁preferences': 11177, '▁afară': 24410, '▁nor': 3701, '▁inflation': 12485, '▁Devil': 19558, '<extra_id_80>': 32019, '▁devotion': 20771, '▁broth': 18864, 'GG': 21320, '▁qualify': 9448, '▁parallèle': 29874, '▁délicat': 26477, '▁Expert': 8865, 'bury': 7165, '▁Candy': 22712, '▁proposé': 11086, '▁minimalist': 19487, '▁extensively': 18710, '▁examine': 5443, '▁water': 387, 'égal': 12542, '▁give': 428, '▁producers': 10850, '▁Specialist': 13712, '▁concret': 24845, '▁productive': 8946, '▁expertise': 2980, 'W': 518, 'demokrat': 30677, '▁dezvolt': 11464, '▁Season': 7960, 'heir': 17265, '▁drainage': 18771, '▁claw': 27331, 'now': 7651, 'SA': 4507, '▁müssen': 3766, 'Kollekt': 27689, '▁spouse': 9911, '▁région': 6919, '▁lancement': 28614, '▁butter': 4194, '▁Partners': 12790, '▁send': 1299, '▁Cap': 4000, '▁Hold': 8470, '▁Wie': 2739, 'Saint': 26667, '▁min': 3519, '▁differences': 5859, '▁fossil': 15722, '▁apostle': 29932, '▁Execut': 25183, '▁Restaurant': 6233, '▁Fleet': 23705, '▁Barrett': 29961, 'bottom': 30142, '▁advertise': 17123, '▁Craciun': 25436, '▁aufzu': 18099, 'vertrag': 13960, 'écrivain': 30468, '▁variations': 10914, 'tasche': 24363, '▁urmare': 10483, '▁keto': 25314, '▁Ark': 22710, '▁prof': 7108, 'tels': 13408, '▁lesser': 18605, 'circulating': 30715, 'litis': 24101, '▁pedestrian': 16400, 'cab': 10891, 'bildet': 14821, '▁Contract': 13328, '▁conecta': 27082, '<extra_id_94>': 32005, '▁Identity': 28521, '▁développ': 22008, 'defending': 20309, '▁wheels': 8277, '▁jury': 12730, '▁acknowledged': 16974, '▁Lithuania': 27620, 'radi': 5883, '<extra_id_32>': 32067, '▁depăş': 29190, '▁NYC': 13465, '▁Life': 2330, '▁(7': 13649, '▁Merlin': 31875, '▁oxide': 21491, '▁stock': 1519, 'formed': 10816, 'Benz': 15349, '▁swelling': 21699, 'hora': 21783, '▁choice': 1160, '▁pottery': 27177, '▁luxury': 3873, '▁cadouri': 27310, '▁Thailand': 10508, 'gon': 5307, '▁românesc': 24872, '▁Rechnung': 20242, '▁États': 20238, '▁Calvin': 26636, 'ease': 14608, '▁served': 2098, '▁downstairs': 27552, '▁beschäftigen': 30994, 'Führer': 30560, 'ți': 654, 'kes': 7735, 'headed': 22248, '▁Practitioner': 27792, '▁Account': 6288, '▁avut': 3330, '▁Cast': 11583, '▁problemele': 21385, 'together': 25968, '▁Device': 15511, '▁refreshing': 13132, 'во': 19414, '▁beantworten': 30544, '▁multi': 1249, '▁supra': 12808, 'isk': 13690, 'assembling': 30221, 'weg': 4189, '▁poverty': 9569, 'logie': 13170, 'tention': 9174, '▁ausgewählt': 21561, '▁wicket': 29719, 'als': 5405, '▁lucra': 18577, '▁extreme': 5272, '▁Wikipedia': 16885, '▁perioadă': 14682, '▁spur': 18421, 'adevar': 22681, 'oidal': 29996, '▁compliment': 12064, 'MA': 4148, '▁Metallic': 29413, '▁Chelsea': 14373, 'serie': 10833, '2.2': 15300, '▁14.': 9264, 'BE': 10059, '▁contacter': 17987, '▁tenure': 20752, '▁Yum': 25248, '▁rester': 16286, 'Disc': 15683, 'éveil': 30644, '▁Everything': 7462, '▁RE': 4083, '▁urgent': 10839, '▁safe': 1346, 'spor': 11842, '▁roulant': 14299, '▁kindness': 18333, '▁culminat': 27647, 'macher': 24113, 'lands': 6347, '▁conving': 22019, '▁păcate': 23073, '▁Russland': 29342, '▁notorious': 23625, '▁Ray': 8279, '▁bateau': 25156, '▁Shirley': 29951, 'rap': 5846, 'на': 8194, 'kundig': 31311, '▁captivating': 28672, '▁quickly': 1224, '▁Super': 2011, 'stains': 19139, 'wenden': 15861, '▁cheap': 2877, '▁Rated': 19911, 'cuba': 16377, '▁conveyor': 26982, '▁Bit': 12830, 'ggi': 15406, '▁lumière': 14964, 'Regardless': 13865, '▁gestaltet': 19946, '▁»,': 5506, '▁writing': 913, '▁shoe': 9585, '▁conférence': 19610, '▁counselor': 17755, '▁Wal': 8586, '▁being': 271, '▁Constanța': 31526, '▁analytics': 9952, 'regel': 12835, '▁Ruf': 23233, '▁Asigura': 31795, '▁negotiations': 14302, '▁Ace': 16475, '▁keynote': 22720, '▁cocktails': 19005, '▁vehicles': 3203, 'Giro': 30428, '▁anderen': 2778, '▁accommodations': 18044, '▁Bangkok': 20301, '▁de': 20, '▁elder': 17813, 'Lie': 19079, 'aider': 18900, '▁Torah': 30492, 'my': 2258, '▁Dort': 16819, '▁duminica': 30624, '▁pen': 4550, '▁wipe': 16490, '01.': 10068, '▁Mängel': 31848, '▁Verantwortlich': 23794, '▁cornea': 28646, '▁drug': 2672, '▁Popular': 17479, 'AMP': 15837, '▁Cinema': 17544, '▁reprezenta': 20496, 'enfalls': 20415, '▁wurde': 1177, '▁drinks': 6750, '▁Gentle': 26876, '▁acuz': 19728, '▁Gur': 20402, 'ător': 7090, 'idine': 30095, '▁Che': 2556, '▁nevertheless': 17516, 'chargée': 31557, '▁portail': 30653, 'mirrored': 31709, '▁chrono': 27070, '▁honey': 8591, '▁Tub': 24005, '▁Immer': 17550, '▁rocks': 12288, '▁Do': 531, 'hou': 9492, '▁characteristics': 6803, '▁richtige': 15163, '▁discover': 2928, 'The': 634, 'blick': 10284, 'pos': 2748, 'ibly': 15596, '▁cliqu': 22537, '▁concerning': 6238, '▁lancé': 23283, 'garten': 12670, '▁dürfte': 21793, '▁Dun': 6393, 'ân': 3398, '▁chunk': 16749, '▁It': 94, '▁Banking': 20460, '▁enemy': 10101, '▁Bond': 12528, 'Ligue': 29253, '▁touchscreen': 28171, 'blätter': 29040, '▁chapel': 23739, '▁Übung': 28750, 'brook': 14370, '▁nouvelles': 8871, '▁Frost': 22657, '▁stood': 8190, '▁packed': 7614, '▁presents': 6621, '▁Converter': 25373, '▁Dom': 10576, '▁Snapchat': 28090, '▁Dy': 12991, 'werbung': 29749, '▁india': 18222, 'ließ': 10325, '▁HP': 5481, 'höhe': 22387, '▁Tweet': 25335, 'filter': 22240, '▁leading': 1374, 'ception': 7239, '▁discontinu': 26950, '▁similaire': 27510, '▁an': 46, '▁febr': 29976, '▁țară': 20090, '▁Bern': 8942, '▁$5,000': 28176, '▁mechanisms': 12009, '▁exclusive': 3839, '▁spoon': 14987, '▁ecran': 18173, '▁pauvre': 24380, 'viol': 11275, '▁schreibt': 26136, '▁verfolgt': 30788, '▁reservation': 13019, '▁terrain': 7572, '▁backyard': 11278, '▁tangible': 20951, '▁kennt': 22328, 'dging': 12720, '▁jetzt': 3780, '164': 26987, '▁temple': 7657, 'therapist': 9962, '▁Except': 20537, '▁loss': 1453, 'kill': 10824, '▁ulterior': 21620, '▁Transit': 24885, '▁(30': 19684, '▁intensive': 9786, '▁Vanessa': 30003, '▁string': 6108, '▁cum': 1216, '▁beat': 3853, '▁despair': 25802, '▁rules': 2219, '▁efectu': 12752, '216': 27184, 'countless': 11394, '▁shaping': 20266, 'PT': 6383, '▁settlement': 7025, '▁difficulty': 8565, 'ality': 10355, 'OL': 5194, '▁punish': 24584, '▁Advanced': 8590, '▁Villa': 8850, '▁goat': 18174, '▁fields': 4120, 'schloss': 28591, '▁fighting': 6237, 'kers': 11758, '▁rings': 10631, '▁Gem': 14493, '▁melting': 25308, '▁auch': 319, 'ence': 1433, '▁Understanding': 17725, '▁beach': 2608, 'égalité': 26638, '▁Lo': 1815, '▁damit': 2889, '▁promptly': 16487, '▁national': 1157, '▁poll': 5492, '▁Gran': 12102, 'Geschäft': 18444, '▁tours': 8108, '▁Oct': 6416, 'fiance': 29557, '▁directions': 7943, 'atory': 6546, '▁coach': 3763, '▁Melbourne': 9396, 'RR': 12224, 'blaze': 21020, '▁31': 2664, '▁Savior': 28390, '▁Opportunities': 29533, '▁wheelchair': 19443, 'ор': 18632, 'chaque': 3756, '▁Height': 24231, '▁général': 8956, '▁accord': 4408, '▁demolition': 27462, 'Energi': 28452, '▁Startup': 25115, 'LO': 5017, '▁holding': 3609, '▁Corp': 10052, '▁représente': 18607, '189': 25312, '▁access': 592, '▁Content': 7185, '▁Earth': 4030, '▁tailored': 11051, 'shadow': 21509, '▁spots': 6883, '▁erstellt': 19223, '1.1': 11039, '▁conditions': 1124, '▁hate': 5591, 'CIS': 21134, 'linger': 14043, 'unable': 6319, 'regal': 24080, '▁accountant': 21053, '▁arrest': 10319, 'Allied': 26454, 'Europe': 11351, '▁folosind': 20018, '▁processor': 7502, '▁Ioan': 14525, '▁Fan': 8362, '▁camera': 1861, '▁oral': 8759, 'know': 20542, 'kehr': 12319, '▁compulsory': 29701, '▁satin': 22434, 'foli': 8047, '▁aim': 2674, '▁conseil': 9649, 'Sense': 19003, '▁nice': 1245, '▁Omega': 20336, 'orthodox': 28383, '▁Bla': 6942, '▁Rico': 19280, '▁quit': 10399, '▁hover': 21994, '▁opaque': 30297, 'pir': 2388, 'pin': 3180, 'Watch': 25831, 'CBC': 27403, '▁carrier': 9568, 'Walk': 29873, '▁très': 1264, '▁investigate': 9127, '▁obtine': 17369, 'lumina': 18497, '▁Constanţa': 30993, '▁religi': 13806, 'type': 6137, 'ologists': 17382, '▁Devi': 24434, 'făcută': 28751, '▁Ministry': 7849, 'plication': 13555, 'vii': 14553, '▁Reader': 16120, '▁designation': 21767, 'ganze': 14187, '▁enjoyment': 18250, '▁rectangle': 26439, '▁sleek': 17287, '▁déplac': 22208, 'tran': 11665, '▁nylon': 23903, '▁dry': 2192, '▁handles': 13338, '▁scenarios': 13911, '▁puiss': 16181, '▁Interesting': 23390, 'KI': 14108, '▁antenna': 15350, 'stein': 4008, 'opt': 15766, 'Across': 25087, 'sport': 6661, '▁fabrics': 13982, '737': 27931, '▁insist': 10419, '▁Tall': 22433, '▁posséd': 28690, '▁Simple': 9415, '▁Hobby': 26250, '▁envoyé': 23667, 'Out': 15767, '▁childcare': 27862, '▁discours': 27398, '▁nominal': 19680, '▁Alb': 12677, 'rechtliche': 18785, 'wusste': 24838, 'anță': 18296, 'son': 739, 'ual': 3471, 'lier': 3299, 'dir': 12594, 'rufen': 16004, '▁dog': 1782, 'issus': 29319, 'Dedicated': 30348, 'oubli': 16187, '▁Christie': 26035, 'FS': 7674, '▁tableau': 21142, '▁graduat': 20220, '127': 22367, '▁transformation': 6586, 'TAL': 16359, '▁logic': 9769, '▁deposit': 5455, '▁Maybe': 3836, '▁Network': 3426, '▁epoxy': 30469, '▁convivial': 26830, 'prinzip': 31609, '▁mg': 5453, '▁eigene': 7367, '▁wider': 6281, '▁Barry': 18931, '▁avantaj': 13371, '▁obstacles': 14637, '▁protein': 3619, '▁experimental': 11082, '▁Desert': 21618, '▁construct': 6774, '▁Destin': 19344, 'UMP': 28468, 'ciu': 8469, '▁Quick': 8302, '▁konkret': 19596, '▁sanitar': 29703, '▁rutier': 24115, '▁tub': 6244, 'iți': 7399, '▁recession': 19917, '▁forth': 7444, '▁cam': 5511, '▁Cop': 10400, '▁tous': 1739, '▁Come': 4589, '▁donation': 9294, '▁gag': 23856, '▁Where': 2840, '▁Pair': 25072, 'geschrieben': 13295, '▁vibration': 14570, 'tral': 8792, '▁glücklich': 23242, '▁Station': 5939, '▁ports': 13897, '▁Unterhaltung': 29414, '▁ugly': 18754, 'melted': 19293, '▁Die': 316, '104': 15442, '▁complète': 17534, 'linguistic': 24703, 'Elect': 21543, '▁negotiation': 21862, '▁campaigns': 8203, '▁bancar': 24580, 'tolerant': 23267, '▁Conflict': 29601, '▁payments': 4364, '▁vecin': 24002, 'enko': 18994, '▁Summit': 12968, '▁AD': 8502, '▁Program': 2350, 'uck': 4636, '▁riscuri': 29918, '▁road': 1373, '▁sheets': 8487, '▁enable': 2956, 'city': 6726, '▁malicious': 22326, '▁Ihr': 2310, 'exécut': 25428, '▁avid': 21667, '▁subway': 24435, '▁initiatives': 6985, '▁Zucker': 18293, '▁Kompetenz': 24648, '▁Memphis': 22715, 'т': 6725, '▁Simmons': 30486, '▁Joan': 20950, '▁heard': 1943, '▁offerings': 11571, '▁irrelevant': 26213, '▁Ajout': 30096, 'schule': 8447, '▁retrouver': 13700, 'valorile': 29235, 'hausse': 22127, '▁compliqué': 29565, 'août': 17933, '▁regimen': 19299, 'expertise': 31346, '▁critique': 12240, '▁wide': 1148, '▁click': 1214, '▁Dimension': 14689, '▁attorney': 4917, '▁Übersicht': 26261, '▁clasa': 13354, '▁Eine': 2820, '▁1920': 13978, '▁branding': 14282, '▁racist': 23713, 'părut': 29948, '▁Brisbane': 19286, '▁tactical': 24200, '9)': 11728, '▁widely': 5456, '▁wave': 6772, '5\"': 17395, '▁bonus': 4023, '▁bonuses': 17489, '▁scope': 7401, 'KW': 18796, '▁Kolkata': 29373, '▁posted': 1694, '▁façade': 24369, 'ajute': 26127, '▁returned': 3666, '▁1906': 29696, '▁Bible': 5214, '▁Cit': 11224, 'envisioned': 30704, '▁beautiful': 786, 'bid': 9824, '▁maître': 21187, 'trouvez': 31798, '▁asking': 3558, 'yearly': 22286, 'kä': 17064, '▁interim': 20003, 'nstruire': 28457, '▁naked': 25039, '▁syntax': 28230, 'BI': 5972, '▁tab': 3808, '▁dismiss': 16708, '▁rămâne': 17532, 'rim': 5397, '▁Zweifel': 29571, '▁Warren': 16700, '▁Rat': 6455, '▁classification': 13774, '▁appeal': 3958, '▁Ash': 7153, '▁That': 466, '▁knowledge': 1103, 'list': 3350, '▁markers': 17334, '▁copii': 5416, '▁inappropriate': 21001, '▁Illustrator': 31404, 'tive': 3268, '▁stiu': 10532, 'unta': 14016, 'teil': 2919, '▁sometime': 17078, 'langage': 29098, '▁Gerne': 25247, '▁certainty': 24848, '▁Jacksonville': 25551, '▁distraction': 18805, 'ê': 8202, '▁[': 784, 'ntino': 28436, '▁poker': 5340, 'OO': 10955, '▁dermatolog': 25474, 'trop': 12395, 'author': 17415, '▁Ready': 14476, 'cazurile': 31082, '▁Government': 3141, '▁gently': 10772, '▁Czech': 16870, '▁Latvia': 28487, '▁Kaiser': 20993, 'office': 19632, '▁propos': 8028, 'veţi': 19918, '▁tapping': 26874, 'ität': 4130, '▁Hann': 20767, 'ologi': 11697, '▁notification': 11420, 'under': 7248, '▁Woche': 11024, '▁RV': 12791, 'ranging': 6836, '▁learners': 15257, '▁naturii': 31347, '▁Swedish': 16531, '▁dvd': 30114, '▁(...)': 23430, '▁Valencia': 26925, '▁tracking': 6418, '▁kayak': 16697, 'ces': 2319, 'lor': 322, 'großen': 6403, 'negotiating': 22469, '▁Riverside': 27138, 'rud': 17237, 'tang': 8967, '▁gap': 6813, 'spiel': 5323, 'mental': 13974, '▁desperately': 22386, '▁auction': 8493, 'led': 1361, 'zer': 2558, '▁9/11': 27581, '▁outline': 11052, '▁distinguish': 15849, '▁tumor': 8985, 'privileged': 23046, '<extra_id_66>': 32033, '▁downloading': 16891, '▁seulement': 7885, '▁prévoi': 22474, '▁chlorine': 29879, '▁subdivision': 27444, 'folgen': 13770, '▁metrics': 15905, 'late': 5867, 'verantwortlich': 19442, '▁SUA': 18061, '▁fishing': 5095, '▁territories': 23995, '▁anterior': 17588, '▁wirkt': 18226, '▁Nach': 1985, '▁prevazut': 20586, '▁wine': 2013, '▁mobilier': 18553, 'stammt': 26548, 'Providing': 22470, '▁Ko': 1793, '▁deosebir': 28532, '▁bone': 6817, '▁Commerce': 12949, '▁Fountain': 30566, 'wall': 10279, 'ze': 776, '▁exkl': 27506, '▁limitations': 10005, '▁cozy': 14384, '▁dient': 20585, '▁Toledo': 31871, 'pur': 3791, 'driven': 11570, '▁occasionally': 10065, 'ilor': 967, 'step': 7910, 'climbed': 23626, 'wände': 31672, 'cădere': 24031, '▁commands': 16565, '▁intentionally': 24522, 'Gri': 13313, 'dream': 26066, '▁principles': 5559, '▁advantageous': 28307, 'atori': 7265, '▁Batch': 28133, '▁gloves': 16802, '▁photographie': 24490, 'SYS': 24423, '▁Wil': 8540, '▁străluc': 30685, '▁laboratory': 10343, 'ме': 25157, '▁Han': 6627, '▁Krieg': 15640, '▁Alege': 24658, 'enduring': 25668, 'étude': 9643, '▁ciuda': 18224, 'LIC': 19624, 'interpreted': 20603, 'schuss': 18820, '▁obesity': 18719, '▁honest': 5057, '▁Fußball': 20277, 'weisung': 22403, '▁Muster': 23837, '▁dovedit': 26632, 'pe': 855, '▁prestige': 28322, '▁Jorge': 30517, '▁studies': 2116, '▁Mitchell': 17949, '▁western': 8282, '▁cave': 9634, '▁Flasche': 28639, '▁Anthropolog': 30794, '▁involvement': 9683, '▁also': 92, '▁poliţi': 25137, 'vada': 16716, 'cône': 30799, '▁différence': 17218, '▁Fire': 3655, '▁Nickel': 29005, 'UR': 5905, 'acelasi': 13396, '▁entour': 22129, '▁Mandarin': 31057, '▁safety': 1455, '▁Antrag': 20647, '▁brick': 7944, 'ezi': 3680, '▁pod': 9489, '▁responded': 11318, 'hafte': 14786, '▁déclaré': 22090, '▁coronar': 27008, '▁Rajasthan': 28967, 'randul': 28720, '▁then': 258, '▁aufgebaut': 26769, '2.1': 14489, '▁Blvd': 24241, '▁(2004)': 29428, '▁positions': 4655, '▁ethnic': 11655, 'armée': 24747, '3.4': 23204, '▁einfach': 2080, '6:00': 18828, 'flakes': 26174, '▁riches': 20816, '▁vêtements': 24316, '▁régulière': 31181, '▁Anfang': 11302, '▁hobby': 14687, 'Alicia': 31105, '▁keyword': 15693, '▁rasa': 28246, '▁radical': 8819, '▁activists': 19053, '512': 24163, '▁shortage': 16316, '▁hardware': 4214, '▁aștept': 17004, 'kindly': 21914, '▁viande': 27248, 'rolul': 17983, '▁Pixel': 20005, '▁defect': 15595, '▁adresa': 10009, '▁refurbish': 26737, '▁Schu': 6824, 'commenced': 28916, 'hose': 9672, '▁Sara': 12969, '▁slight': 9927, '▁pest': 6256, 'PS': 4176, '▁Sol': 5175, 'ju': 2047, '▁detailed': 3117, '▁Challenge': 7729, '▁composed': 10431, '▁préparer': 22278, '176': 26782, '▁Echt': 27064, '▁amalgam': 31870, '▁Foto': 9703, '▁prieten': 13378, '▁verhindert': 29499, '▁Bollywood': 28960, '▁Swift': 20477, '▁URL': 8889, 'augh': 18819, 'zieren': 20396, 'illion': 14916, 'aliment': 8972, '▁situation': 1419, '▁Whit': 13334, '▁throughout': 1019, '▁Lehr': 14012, '▁Regulament': 29645, '▁früher': 15555, '▁ceremoni': 27541, 'MAS': 23010, 'Considering': 21419, '4.5': 12451, '▁analiza': 18138, '▁disturbed': 30371, '▁Variety': 31884, '▁mananc': 30928, '▁goods': 4968, '▁locked': 13249, '▁Miguel': 27257, 'HAM': 28771, '▁années': 5228, '▁step': 1147, 'bushes': 30271, '▁manger': 18837, 'Sig': 22582, '▁Häuser': 27195, '▁tripod': 29361, '▁Kunststoff': 23789, '▁Freitag': 17874, '▁Practical': 26796, 'EMA': 20211, 'ang': 1468, '▁Hearing': 26651, 'voted': 11060, '▁Ausdruck': 26740, '▁Lehrer': 19670, 'hidrat': 16838, '▁Privacy': 17865, '▁Your': 696, '▁Sunrise': 29943, '▁caméra': 26878, '▁Jugend': 11626, 'visual': 27583, '▁predictions': 20099, 'Gen': 13714, 'Black': 20096, '▁Penguin': 27076, '▁Capital': 5826, '▁units': 3173, 'hat': 547, 'he': 88, '▁meaningful': 7892, '▁Rush': 20710, 'iata': 17221, '▁Centenar': 31659, 'agonist': 28839, '▁Yale': 23501, '▁1970': 7434, '▁Impact': 14906, '▁Jakarta': 31711, '▁dirt': 9404, '▁Madison': 16168, '▁Rom': 12583, '▁Papier': 18839, '▁Lang': 7073, '▁Screen': 9937, '▁dishes': 6068, '▁advocates': 18408, 'câble': 29726, 'symmetric': 23596, '▁mystery': 11100, 'fragt': 21107, '▁specialists': 8089, 'shop': 6921, '▁carriers': 16642, '▁flawless': 21779, '▁Prä': 13796, '▁zusätzlich': 13042, '▁disabilities': 12490, '▁achieved': 5153, '▁genauso': 20604, '▁semaine': 9007, '5,': 11116, '▁Integration': 16955, 'Car': 6936, 'Auf': 23824, '▁burner': 22421, '▁crusher': 4121, '▁Strecke': 20010, '▁décembre': 12987, 'crashing': 29126, '▁Venue': 29940, '▁Nähe': 13271, '▁gefördert': 29876, '▁decide': 2204, '▁broker': 11630, 'yes': 10070, 'SIC': 21192, 'PR': 5554, '1-2': 9596, '▁ago': 977, 'RIC': 23503, 'sley': 8887, '▁lorsqu': 15648, '▁Generator': 27478, 'ALT': 26501, 'deutsche': 11751, '▁begin': 1731, 'Württemberg': 28558, 'corp': 14723, '▁youth': 4192, '▁approval': 5142, '▁Cold': 13331, 'PEN': 20702, '▁describe': 5530, '▁useful': 1934, 'associated': 30582, '▁textile': 12667, '▁designed': 876, '▁declining': 24772, '▁Mile': 11705, '▁Learn': 4001, '▁evil': 8293, '▁crise': 15093, '▁neighborhoods': 17383, '▁interaction': 6565, '▁element': 3282, '▁fitness': 4639, 'cyto': 14578, '▁Shin': 14215, 'deal': 15620, '▁Dolphin': 27676, '▁Werbe': 18394, '▁Wayne': 14914, '▁2013,': 7218, '▁Ex': 1881, '▁neurological': 28392, '▁forefront': 21330, '▁erreicht': 12390, '▁lined': 14372, 'fäl': 25260, '▁niemand': 23526, '▁original': 926, 'industrie': 11623, '▁conclusions': 18101, 'ingénieur': 29033, '▁Ja': 2215, '▁aduce': 8696, '2004': 21653, 'Algérie': 30790, '▁Nachmittag': 26332, 'istes': 9484, '▁Compar': 20959, '▁cuplu': 26336, 'ck': 2406, '▁garbage': 12937, 'can': 1608, '▁Airlines': 15738, '▁Schweizer': 22446, '▁piatra': 29649, '▁dragon': 14580, '▁Thanks': 1333, '▁Anthony': 11016, '▁negoci': 22797, '▁assessments': 16396, 'ROM': 13103, '▁cărţi': 28249, '▁56': 11526, '▁exterioar': 29338, '▁grind': 20743, '▁1995': 7273, 'varying': 14177, '▁chrome': 17520, '▁Schnee': 20085, '▁insulation': 15298, '▁dishwasher': 18876, '▁Title': 11029, '▁Date': 7678, '▁adun': 17449, '▁Painting': 19992, 'mètre': 20572, 'nook': 22563, '▁Herstellung': 26529, '▁outstanding': 4590, '▁Going': 15312, 'voluntarily': 26704, '▁WARRANT': 25732, '▁trials': 10570, '▁painful': 10875, 'gue': 5398, '▁walks': 10681, 'jit': 13272, '▁heroes': 17736, '▁martial': 22526, '▁Particular': 27989, 'lute': 18453, '▁prioritize': 25370, 'easca': 6333, '▁anger': 11213, '▁fold': 11750, 'ige': 3077, '▁NU': 13046, '▁englez': 21318, 'liste': 12332, '▁simpler': 15673, '▁précision': 27395, '▁whisper': 23874, '▁connu': 12382, '▁mother': 2039, '▁judgment': 7661, '▁CBS': 19856, 'şti': 6351, '▁jederzeit': 14544, '▁Certification': 16013, 'éditeur': 27313, '▁graduated': 9461, '▁Patrol': 28847, '▁juin': 11765, '▁speeches': 26147, '▁interessieren': 31929, '▁cover': 1189, 'escu': 5152, 'scribed': 22573, '▁beloved': 11479, '▁Consul': 11540, '▁prévu': 19009, '▁fabulous': 7284, '▁sense': 1254, '▁fashion': 2934, '▁personnage': 13989, '▁internship': 13361, '570': 28363, 'êtes': 6738, 'activ': 8463, '▁Crow': 15343, 'crowded': 17208, '▁Bright': 17557, '▁strap': 9205, 'spatele': 19672, 'volume': 23439, '▁cérémonie': 30974, '▁cycle': 4005, '▁War': 1602, '▁festgelegt': 28654, '▁hostile': 24550, '▁Lub': 28049, 'snip': 20317, '▁worksheet': 14174, '▁Ryan': 7826, '▁Fri': 8561, '▁Reading': 9825, '▁HTTP': 19924, '▁grandfather': 18573, '▁Concept': 16688, '▁obese': 29329, '▁residue': 24749, '▁deeper': 7231, '▁Alexander': 10135, 'investir': 29674, '▁Prague': 23564, '▁temporary': 7234, 'delà': 20685, '▁celebrated': 9443, 'Finished': 31135, '▁Senator': 13644, '▁pole': 11148, '▁Dry': 13257, 'kro': 22318, '▁billing': 14425, '▁Immun': 18502, '▁WOW': 25847, 'scanned': 27011, '▁oriunde': 27772, 'acordul': 27924, '▁disorder': 9311, 'domain': 22999, '▁Acest': 5106, 'ündig': 19475, '▁Hobb': 26100, '▁skating': 27033, '▁manage': 1865, 'ORD': 18400, '▁causes': 4110, 'tri': 1788, '▁decizie': 20920, 'IDA': 26483, '▁Crisp': 30833, 'DD': 11253, '▁importante': 7158, 'LR': 12564, '▁grace': 8140, '▁sortir': 18201, '▁Accident': 25553, '▁Cin': 16548, 'recevoir': 21199, 'Moo': 16334, '▁messy': 21124, '▁Country': 6993, 'onia': 8008, '▁counseling': 15457, '▁sixteen': 26653, '▁meuble': 10985, '▁honored': 13242, 'ened': 4632, '▁exercit': 20284, '▁gute': 4706, '▁Suche': 14671, '▁programme': 2486, '▁sorte': 16680, '▁2014-11-': 31831, 'Schraub': 31976, '▁Reb': 22789, '▁Teppich': 29333, '▁graceful': 27180, '▁attentive': 21883, '▁meme': 23289, '▁turn': 919, 'legal': 13856, '▁Sessions': 24984, 'Wohnungen': 29997, 'sitzt': 18987, '▁soldiers': 10838, 'card': 6043, '▁batteries': 9121, '▁viewing': 7426, '▁Butter': 14698, 'strahl': 16421, '▁Condition': 24239, 'rati': 6850, '▁fête': 14582, '▁Benefici': 30570, '▁voucher': 13251, '▁Pen': 4511, 'chuck': 24238, '▁întâlnire': 30007, '▁Messenger': 26226, '▁excepți': 29619, 'rii': 2362, 'reducing': 5503, 'key': 4397, '▁MAY': 27835, '▁overwhelmed': 18940, '▁crab': 21189, '▁glitch': 28950, '▁opérationnel': 31876, '▁confession': 26838, '▁turbulent': 31941, '▁concerns': 3315, '▁everybody': 8611, 'ologie': 4137, '▁cazuri': 15063, 'tient': 15058, '▁Teatr': 28980, 'gla': 7002, '▁Br': 6806, '▁conduc': 17689, 'graphie': 26738, '▁representing': 9085, '▁rising': 6937, '▁Buddhism': 28788, '▁Transaction': 21469, '▁Ausnahme': 25385, '▁Fiction': 24525, 'proactively': 31256, '▁upper': 4548, '▁pont': 19068, 'introductory': 23594, '▁clan': 18297, '▁rug': 9787, '▁miniature': 20955, '▁physical': 1722, '▁Ful': 17978, 'greifen': 14917, '▁oficial': 11343, '▁primer': 21628, '▁cadou': 21747, '▁professionalism': 18655, 'Open': 22696, '▁sammeln': 28701, '▁priorities': 12697, '▁Niagara': 27823, '▁Spiele': 14426, 'ELLE': 28119, '▁test': 794, 'herrscht': 29020, '▁Pat': 5192, 'élé': 7603, 'TAN': 25950, '▁easily': 1153, '3.3': 19660, 'vait': 20676, '▁HUG': 28283, '▁fade': 14201, 'AGE': 11187, 'cord': 7621, '▁Ab': 891, 'étend': 18478, '▁teren': 10103, '▁Lewis': 9765, '▁15%': 13914, '(2005)': 29495, '▁dispatch': 17648, '▁Him': 5918, '▁ha': 4244, '▁enterprises': 14876, '▁1800': 17737, '▁réaliser': 12138, '▁matches': 6407, '▁simplify': 18356, '▁characters': 2850, '▁finds': 12902, 'kirche': 16089, 'équipe': 9774, '▁Moto': 18668, '▁Wheel': 10707, '▁Bowl': 9713, 'Health': 20718, '▁remarks': 21029, 'VAL': 21712, '7%': 6170, '▁targets': 8874, '▁fund': 3069, '▁Decoration': 23367, '▁chiffre': 16828, 'ECT': 14196, '▁serviciilor': 19550, 'Î': 10997, '▁Sel': 11471, 'tossed': 27057, '▁trafic': 13345, 'mov': 7168, 'ères': 12449, '▁surveys': 13484, '(8)': 28007, '▁erzeugt': 28520, '▁letter': 2068, '▁Priest': 24582, '▁erforderlich': 13512, 'DATA': 27807, 'Toujours': 31511, '▁Chemical': 17843, '-12': 5947, '▁bladder': 26673, '▁Developer': 17179, '▁progres': 24343, '▁disease': 1994, '▁oricum': 27249, '▁impress': 18514, '▁Facilit': 29986, 'figuration': 26703, '▁ensemble': 8784, '▁problema': 13130, '▁bekannt': 7324, '▁Vig': 27035, '▁squad': 12025, '▁présidentielle': 29128, '▁soul': 3668, '▁Berry': 21754, 'Live': 24179, 'Decizi': 30999, '▁Mark': 2185, 'dispoziție': 31439, '▁lumii': 17888, '<extra_id_6>': 32093, 'ghan': 22637, '▁job': 613, '▁lua': 9734, '▁sickness': 24117, 'uille': 25077, '▁împărat': 31697, 'hält': 10641, '▁reflective': 22891, '▁grinding': 10784, '▁Pân': 24539, '▁românească': 28243, 'offenen': 27379, 'hesitant': 30669, '▁scientific': 4290, '▁bizarre': 21840, 'hip': 10462, '▁interessiert': 23293, '▁Artificial': 24714, '▁Grup': 26319, '▁Les': 622, 'ither': 9732, '▁reconnect': 28514, '▁Reaktion': 28860, 'ifying': 8587, '▁Procedure': 25266, '▁Refuge': 26239, '▁portrait': 7956, '▁Ecuador': 25101, 'än': 6125, '▁consulter': 21356, '▁history': 892, '▁Tribunal': 24910, 'asta': 12518, '▁Sper': 17617, '▁Berater': 30294, '▁spécifique': 15223, '▁Troy': 21854, '▁contains': 2579, '▁Dip': 23177, '▁certificate': 6017, '▁Kashmir': 26869, 'rian': 5288, '▁Java': 10318, '3.2': 19162, 'Access': 31679, 'rial': 12042, '▁Affairs': 12078, 'School': 29364, 'order': 9397, '▁notwendig': 12684, '▁technician': 17730, 'tric': 3929, 'main': 7484, '<extra_id_93>': 32006, '▁Intr': 9874, ',': 6, '▁pattern': 3275, 'director': 25982, 'wikipedia': 29474, '▁angajator': 28616, 'impuls': 27090, 'rox': 12907, '▁fears': 14935, 'Desigur': 30243, 'Management': 30854, '▁Lim': 10908, '▁“': 105, '▁deschis': 9861, '▁nervous': 10045, '▁Hebrew': 20428, '▁echo': 20747, '▁restroom': 27381, '▁Gustav': 27969, '▁possibility': 5113, '▁imprumut': 30690, '▁zeigt': 7773, '▁mo': 2288, '▁Topic': 18059, '▁$8': 13155, '▁thirteen': 27255, 'litre': 14773, '▁metalic': 24750, 'kommen': 6184, '▁laugh': 8719, '▁majority': 2942, 'ICH': 22293, '▁Series': 4531, '▁jackpot': 20984, '▁motive': 10280, '▁bugs': 13348, '▁alta': 8771, '▁101': 13736, '▁quantitative': 18906, '▁Which': 4073, '▁Alabama': 13050, 'cate': 8367, '▁Adri': 26062, 'MG': 9306, '▁Vater': 19450, '▁viel': 2221, '▁community': 573, '▁engineer': 9739, 'lies': 4664, '▁Garten': 10469, '▁bonheur': 20991, 'Așa': 20155, '▁interven': 7770, '▁tolerate': 21533, 'NT': 7359, '▁Ferr': 12762, 'Eff': 29421, '▁Wind': 5634, 'empfindlich': 30913, '▁Greece': 12263, 'rtie': 19252, '▁Überraschung': 30212, '▁Linda': 16121, '▁stet': 14099, '▁Eröffnung': 31066, '▁crossover': 26159, '▁Treasure': 20235, '▁vinegar': 15292, 'Er': 10575, 'trucât': 29888, '▁montant': 17196, 'Corey': 31394, '▁asfalt': 31930, 'kilometer': 31247, 'onny': 25011, '▁1993': 8388, '▁assumed': 14176, 'prayed': 21181, '▁battle': 3392, 'turned': 24346, '▁mecanic': 28441, '▁lucrurile': 13428, '▁învăţământ': 30594, '▁shelter': 8596, '▁Schedule': 14890, '▁stressed': 14718, '▁clarity': 12428, 'Wettbewerb': 19745, '▁singing': 8782, '▁proaspat': 29752, '▁diverse': 2399, '▁Advertise': 29555, 'schränkt': 20623, '▁Cruise': 15221, '▁now': 230, 'wer': 3321, 'école': 8517, '▁goal': 1288, '▁oraș': 12353, '▁Tages': 12477, '▁25%': 12238, '▁efectuat': 13452, '▁checkout': 15912, '▁parallel': 8449, '▁Chr': 18106, 'whoever': 26125, '▁brownie': 28427, '▁decree': 28717, '▁vow': 22121, 'courir': 26018, '▁communication': 1901, '▁principal': 3218, '▁translator': 22770, 'üchte': 20351, 'Store': 28719, '▁distribu': 11266, '▁grief': 17523, '▁electronic': 3031, '▁diligence': 23206, '▁Quartet': 30876, '▁Green': 1862, 'figured': 11917, 'probiert': 31450, '▁party': 1088, 'absence': 23767, '▁Operator': 25667, '▁Arctic': 20132, '▁servant': 14620, '138': 22744, '▁Communist': 26988, 'Line': 21022, '▁Vincent': 14212, '▁Vlad': 24379, '▁tun': 5240, '▁fasci': 17985, '▁buget': 15250, '▁Themen': 11360, 'agne': 11624, '▁whom': 4068, '▁oriental': 25890, 'mapped': 28400, '▁autumn': 15417, 'lays': 20244, 'act': 2708, '▁gaming': 7081, '▁animaux': 20058, '▁dizaine': 24036, '▁Bestell': 24798, '▁Füße': 30893, '▁OS': 6328, '▁aufge': 13010, '▁internet': 1396, '▁activitate': 14606, '▁monitoring': 4891, '▁enormous': 10933, '▁distortion': 26095, 'iers': 4518, '▁Lebens': 5896, 'Thank': 17745, '▁governance': 13059, 'impôt': 26247, '▁zodi': 26933, 'oricar': 25197, 'built': 16152, '▁festivals': 14856, '▁Für': 2513, '▁Tools': 13581, '3.000': 29166, 'bietet': 4236, '▁souligne': 27069, '▁revien': 21109, '▁regrette': 31277, 'brücke': 25892, '▁strategist': 31752, '▁capacity': 2614, '▁rave': 25226, 'patented': 22370, '▁substantive': 31046, 'ailed': 10990, '▁confirmation': 9973, '▁schimbat': 17895, '/18': 19133, '▁historic': 5441, '▁calcium': 15167, 'likewise': 15340, '▁Albania': 29316, '▁Rodriguez': 27326, '▁fo': 5575, '▁Made': 6465, '▁braid': 26554, '▁hometown': 22295, '▁Travel': 4983, '▁thread': 4546, '▁tap': 5011, 'hydr': 10656, '9.': 8797, '▁parties': 2251, '▁Cup': 3802, '▁acting': 6922, '▁technische': 21452, '▁Riv': 23878, '▁laundry': 10428, '++': 16702, 'lace': 11706, 'lohnt': 19403, '▁governor': 13062, '▁thesis': 11204, '▁média': 21794, '▁Por': 9731, '▁seul': 7224, '▁feeder': 22916, '▁Fantasy': 19202, '▁Belle': 17658, '▁Nicholas': 22509, '▁Wish': 16675, '▁Beispiel': 5537, '▁administrativ': 29398, '▁contre': 3386, '▁afraid': 7403, 'țe': 3512, '▁Economic': 9071, '▁coat': 6001, '▁narrative': 8109, '▁manuel': 19901, 'couvrir': 26650, '▁Excel': 9506, '▁naturally': 6212, 'fiction': 18011, '▁Couch': 28082, '▁closer': 4645, '▁cheval': 26105, '▁Assessment': 15186, '▁preciz': 17958, '▁rebuilt': 26935, '▁gehen': 7455, '▁gas': 1807, 'erem': 17106, 'kra': 9669, '▁Jacket': 24412, '▁présentation': 20209, 'odia': 23193, '▁glaci': 24414, '▁lumber': 26467, 'born': 7473, '▁dimineaţ': 31652, '▁possibilité': 11886, 'ați': 2624, 'DB': 9213, 'agog': 15869, '▁intimidating': 27505, '▁lifetime': 6556, '▁However': 611, '▁fuse': 17165, '▁personaj': 18469, '▁Espresso': 29839, '▁Breast': 27206, '▁vene': 23082, '▁Homepage': 23603, 'Gymnasium': 31607, '▁sac': 8802, '▁comport': 18600, '▁Malaysia': 10155, '▁bait': 21261, '▁pneu': 18919, '▁participanți': 29429, 'borg': 23685, 'issue': 13159, '▁ministre': 14287, '▁studying': 6908, '▁Latest': 20121, 'MM': 8257, '▁healthier': 11960, 'plu': 12456, '▁Standort': 18391, '▁disguise': 31993, 'MES': 22759, '▁Inner': 18950, '▁away': 550, '▁coincide': 21095, 'Torrent': 31610, '▁möchte': 6509, '▁straw': 21920, 'nem': 9660, 'lipid': 19437, '▁participated': 10627, '▁Legi': 17357, '▁devastated': 31521, '▁Washington': 2386, '▁coupe': 17439, '▁wealthy': 18407, '6)': 10938, '▁head': 819, 'Generally': 15072, 'niveau': 30491, '▁available': 347, '▁turns': 5050, '▁thrust': 25547, '▁merge': 7986, '▁penser': 22089, 'softer': 28296, '▁everywhere': 6531, '▁funcți': 21278, '▁mândr': 31060, 'discerning': 31701, '12.': 9368, '▁capsule': 13445, '▁fave': 21343, '▁Subject': 19237, '▁Baltic': 29623, '▁angel': 11831, 'ika': 5561, '▁entering': 7084, '▁departments': 10521, 'ción': 12765, '▁grundsätzlich': 20115, '▁с': 12681, '33': 4201, '▁Evaluation': 22714, '▁laisse': 14660, 'halle': 18369, '▁Harbor': 17590, '▁».': 4841, '▁playoff': 15289, '▁resistant': 11853, 'ific': 3286, '▁reflection': 9619, 'gotten': 7483, 'Assurance': 27884, '▁But': 299, '▁became': 1632, '▁Champ': 22465, 'teig': 25696, 'bruch': 19353, '▁walnut': 22962, '▁Citi': 17795, '▁containers': 10827, 'WORLD': 30944, '▁happier': 17045, 'treated': 19234, '▁locally': 8428, 'process': 15056, '▁Photoshop': 16793, 'zählige': 30305, '▁machines': 4096, 'ancies': 28704, 'adevăr': 19301, '▁bracket': 13561, '▁maximum': 2411, '▁technologies': 2896, '▁jet': 8757, '▁spoken': 11518, 'generative': 25181, '▁Mc': 3038, 'ures': 7665, '▁sol': 9467, '▁legacy': 9837, '▁Cad': 15562, '▁Standing': 23715, '▁Has': 4498, '▁declined': 14833, 'jon': 15429, '▁Silva': 26551, '▁desfășur': 20827, '▁Tree': 7552, '(': 599, 'find': 8954, '▁boiler': 14097, '▁contributing': 12932, 'raisons': 27738, 'kay': 18075, 'progressively': 31599, '▁Nokia': 16887, 'arch': 7064, 'Mai': 21978, 'SC': 4112, '▁trivia': 22377, '▁Austin': 8513, '▁wizard': 25027, '▁inequality': 25608, 'focusing': 7388, 'ро': 10338, '▁Hillary': 20855, 'ORS': 22500, '▁seismic': 30149, '▁Fine': 11456, '▁spelling': 19590, '▁closure': 12493, '▁funktionieren': 27091, '▁chronique': 30460, '▁Second': 5212, '▁Manga': 26005, '▁decrease': 6313, 'ARS': 25210, '1.7': 18596, '▁Gab': 15894, '▁Table': 4398, '▁Kampf': 20256, '▁orientation': 12602, '▁formatting': 26222, '▁recommandé': 26541, 'tenir': 8124, 'persoanele': 15234, '▁CA': 3087, '▁există': 7697, '▁silent': 11237, '▁remarkable': 8562, 'geared': 21843, '▁continua': 8568, '▁spați': 27763, '▁rempli': 15636, '▁pruning': 31858, '▁yet': 780, 'nique': 14612, '▁verbessern': 22372, '▁Violet': 28866, 'conductive': 29187, 'bib': 22456, '▁boulder': 30904, '▁recently': 1310, 'zone': 9431, '▁mirror': 5432, 'frei': 9477, '▁bicycle': 12679, '▁routes': 9729, '▁Something': 13051, '▁Gulf': 13566, 'Centrul': 19648, '▁vielfältig': 23404, '▁authentic': 6876, 'IT': 3177, '▁tattoo': 16713, '▁exit': 7189, '▁peek': 20584, '▁Excellence': 17929, '▁nostri': 18212, 'africain': 26115, '▁Somali': 26991, 'PCR': 23165, '102': 14388, 'VA': 8230, '▁resignation': 25372, '▁parcel': 15969, 'utilisation': 6793, 'mment': 15699, '▁covering': 6013, '▁Nigeria': 7904, 'sectorul': 27731, '▁Remote': 19410, '▁erfasst': 31022, '▁magasin': 15445, '▁Industrial': 9199, '▁Creation': 24589, '▁Johannesburg': 30647, '▁Weather': 17709, '▁joined': 3311, 'Editura': 30901, '▁écrit': 12047, '▁suplimentare': 21092, '▁2018,': 4323, '▁august': 14663, 'accumulated': 22148, '▁idéal': 13220, 'säu': 16055, '▁Exam': 9723, 'DF': 10665, '▁residency': 21205, '▁opțiun': 30066, 'europe': 28188, '▁HD': 3726, 'olph': 23589, '▁prohibit': 19551, '▁Agile': 26633, '▁mailbox': 25319, '▁capul': 23314, '▁Break': 11429, '▁Nairobi': 31512, '▁Tom': 3059, 'image': 8221, '▁trecut': 4754, 'ет': 15042, '▁ratio': 5688, '▁misconception': 28518, 'LS': 7600, 'lip': 7446, '▁pregnancy': 8999, 'Severin': 30814, '▁sophistication': 29244, '▁appointed': 7817, 'Pflanz': 29984, '▁convient': 23792, '▁fits': 7307, '▁delivers': 9250, '▁lifted': 19464, 'ND': 10604, '▁burden': 9054, 'lern': 9588, '<unk>': 2, '▁Supreme': 8531, 'FIN': 17630, '▁SE': 5985, '▁prudent': 26514, 'format': 8995, '▁antrenor': 27683, 'On': 7638, '▁Facilities': 28055, '/03/': 31064, '▁latch': 29785, 'traumatic': 21535, 'locurile': 28128, '▁povesti': 18746, 'leading': 17103, '▁oven': 4836, 'stall': 9176, 'axial': 26202, 'arrêt': 9239, 'asigurarea': 27507, '▁19,': 12370, '▁weave': 21938, 'Tec': 24757, 'Info': 29381, 'twisted': 25460, '▁remarquable': 29860, 'am': 265, '▁Gestalt': 31143, '▁caldura': 27603, '▁Chrome': 10780, '▁Sketch': 28396, 'enhancing': 14762, '▁Leopard': 31880, '▁proved': 9193, 'depth': 10437, '▁frumos': 10317, '▁municipality': 27597, '▁consistency': 12866, 'Whether': 2374, '▁cucumber': 24395, '▁painted': 7445, '▁weekends': 14636, 'opposition': 29585, 'passion': 26249, '▁scénario': 30156, '▁correctly': 6549, '▁Hat': 7559, '▁allein': 11344, 'nova': 14979, '▁Captain': 12202, '▁locks': 15566, '▁messaging': 16324, '▁preschool': 21232, 'stay': 21545, 'reheat': 22777, '▁Millionen': 12721, 'Object': 17057, '▁Lucas': 18831, '▁empty': 6364, '▁Neu': 3617, '▁qualified': 4717, '▁terminal': 7213, 'are': 355, '▁legs': 6217, 'KU': 18519, '▁Vasile': 21800, '<extra_id_9>': 32090, '▁pavement': 27658, '▁cinema': 10276, '▁Chau': 20264, 'cererea': 26977, '▁România': 3514, '▁Over': 2035, '▁Lor': 8410, '▁imp': 4840, '▁accompany': 12235, '▁funded': 11264, 'go': 839, '▁industrielle': 24665, '-50': 19431, '▁salary': 9090, '▁Happy': 5574, '▁seara': 13801, 'kammer': 26028, '▁comercial': 15173, '▁différents': 7626, '▁richesse': 28093, '▁nostalgic': 29682, '▁logistic': 28820, '▁ohne': 2524, 'asupra': 3880, '▁calibration': 26278, 'roz': 9860, '▁pièce': 14494, 'miss': 11502, 'verhalten': 23989, '▁Hyundai': 22017, '▁Adventure': 12316, '▁testing': 2505, '▁Borough': 28666, '▁truc': 22159, '▁aggregate': 12955, '▁doch': 4178, '▁Customers': 16423, '▁thirst': 30071, '▁réunion': 20262, '▁fraud': 7712, '▁costume': 11594, '▁concede': 28325, '▁Youtube': 18116, '▁Part': 2733, 'griff': 11442, '▁Iceland': 20910, '▁Performance': 8233, '▁thousands': 2909, 'liegenden': 22646, '▁sollte': 3402, '▁steal': 11332, 'jumped': 16287, '▁remerci': 22518, 'bung': 11848, 'iger': 4424, 'CR': 4545, '▁1999': 5247, '▁seating': 10259, '▁property': 785, '▁built': 1192, '▁cases': 1488, '▁establishment': 8752, 'firmly': 16804, '▁study': 810, '▁lendemain': 28791, '▁Verpflichtung': 31405, 'cent': 3728, 'user': 10041, '▁pools': 14652, '▁Mil': 8573, '▁bleach': 23205, 'OnePlus': 30733, 'Bref': 29711, '▁television': 4390, '▁column': 6710, '▁leadership': 2843, 'Become': 25520, '▁Cum': 5469, '▁wifi': 24019, '▁been': 118, '▁1911': 28623, '▁reicht': 19505, '▁Trade': 6550, 'accueillir': 24099, 'formally': 19448, '▁effectively': 3762, '▁Manuel': 21630, '▁Physical': 15576, 'einigen': 12199, '▁Robin': 14059, '▁Euro': 2430, 'crimin': 16837, '▁săptămâni': 21359, '▁geändert': 25931, '▁consequence': 17009, '▁culinary': 17712, '▁grounds': 9808, '▁economy': 2717, 'rait': 6893, '▁zip': 10658, 'lashes': 22188, 'zügig': 24821, 'ordinary': 29819, '▁connaissance': 11843, 'frag': 20791, 'som': 10348, '▁popular': 1012, '▁Liebe': 10484, 'bine': 12712, '▁illustrated': 15906, '▁Polar': 19052, '▁erfolgen': 23298, '▁Zell': 24751, '▁Below': 7255, 'sol': 4099, '▁swirl': 25466, '7.2': 25791, '▁embarrassed': 29773, 'échapp': 26464, 'ethos': 30397, '▁brûl': 29925, '▁Regel': 7510, '▁toys': 8723, '▁foyer': 23470, '▁Sch': 1880, '▁suicide': 12259, '▁baby': 1871, '▁rustic': 14598, '▁capture': 4105, 'companiile': 29680, '▁personnes': 3787, '▁congestion': 26294, 'gedeckt': 31123, '▁plausible': 31323, '▁etaj': 25056, '▁Benutzer': 22137, '▁subtle': 9240, '▁mur': 9593, 'temperatur': 21010, '▁Ursache': 25612, 'évolution': 13904, '▁juvenile': 27068, 'tation': 6821, '▁metal': 1946, 'ED': 2326, '▁harass': 30139, 'change': 13073, '▁Freunde': 14385, '▁Person': 5780, 'dach': 11691, 'ça': 11666, '▁older': 2749, '▁cele': 1235, '▁connect': 1979, '▁ermöglicht': 14713, '▁lost': 1513, '▁tradition': 4387, '▁eligible': 5573, '▁illegal': 6016, '▁jeu': 6680, '▁Luther': 15026, 'freundlich': 13231, 'Stiftung': 17528, '▁choses': 12344, '▁Kyle': 19454, '▁Cart': 11533, '▁Platz': 6140, 'SAN': 19976, '▁apartament': 17626, '▁Fellowship': 22172, '▁birou': 20107, '▁intersection': 15415, '▁$300': 21431, 'something': 23180, '▁résolution': 27329, 'dry': 16502, '▁judet': 22281, '▁Gelände': 26697, '▁Pan': 4266, '▁Fähigkeiten': 28894, '▁ammunition': 28957, '▁biomass': 30253, 'radically': 30802, '▁ignorant': 28617, '▁cross': 2269, 'eiß': 13867, 'break': 14577, 'science': 15324, '▁surprises': 17844, '▁ignor': 22897, 'lucrează': 26888, '▁Marketing': 4329, '▁Legislature': 28204, '▁law': 973, '▁prerequisite': 26840, '▁Links': 11368, '▁desire': 3667, 'PD': 6251, 'ziemlich': 19824, 'Office': 22098, '▁hill': 9956, '▁datelor': 12176, 'effect': 23677, '▁word': 1448, '▁clearly': 3133, '▁quoi': 9283, '▁Filip': 28796, '▁Asociati': 30865, 'empêche': 21881, '▁undergo': 17601, '▁associated': 1968, 'energy': 24310, '▁approprié': 29109, '▁virgin': 24556, '▁Calendar': 18783, 'voire': 20106, '▁EUR': 12400, '232': 23188, '▁vérité': 28178, 'klär': 20635, '▁educator': 23449, 'maz': 18983, '▁collaborator': 27838, '▁exceeded': 22080, 'zugeben': 21690, '▁sympathetic': 29154, '▁Noch': 21017, '▁neighbors': 11195, '▁10,': 10372, 'zähl': 20899, '▁beliebt': 14199, '▁Haut': 7205, '▁alongside': 5815, '7': 940, 'uire': 15427, '▁yes': 4273, '▁blunt': 30766, '▁antreprenor': 27400, '▁Interesse': 14236, '3.9': 28640, 'TI': 5494, 'HER': 17444, '▁frustr': 27020, '▁Zar': 24374, 'Bra': 18304, 'etc': 21117, 'zwei': 23075, '▁Safety': 6859, '▁format': 1910, '▁Label': 16229, 'Describe': 30010, 'rmaßen': 27987, '▁volatile': 25359, '▁filter': 4191, 'Frequently': 31349, 'rons': 6447, '▁Income': 20110, '▁funcţiona': 31463, '▁Flower': 19073, '▁Cotton': 19502, 'kreuz': 28185, '▁publié': 13833, 'nev': 15482, '▁Lee': 5531, '▁worries': 17168, 'king': 1765, '▁bar': 1207, '▁2010': 2735, '▁erhoben': 27476, 'croft': 30750, 'udi': 5291, '▁Meet': 12325, 'g': 122, 'chte': 9801, 'péri': 14051, '▁legendary': 13660, '▁dé': 1136, '140': 22012, '▁foloseste': 26318, '▁României': 9462, '▁collision': 16345, '▁Insurance': 5446, '▁Chicken': 16451, 'namely': 17332, '▁knowing': 4265, '▁incomplete': 19840, '▁Cha': 3643, '▁broad': 4358, '▁profit': 3199, '▁Tanz': 20780, '▁connexion': 22913, '▁pure': 4621, '▁bandwidth': 19703, 'ines': 4477, '▁Ali': 5429, '▁browse': 9708, '▁Create': 6357, '▁prospect': 10263, '▁Liter': 16515, '▁folosite': 16631, '▁Bar': 1386, 'occupy': 20817, 'private': 26881, '▁Switch': 13218, 'credit': 15547, '▁Bild': 6689, '▁GOP': 23863, '▁envision': 26670, 'opia': 18916, '▁2006': 3581, 'cop': 10845, '▁Sep': 12219, '▁Comun': 20898, '▁deeply': 7447, 'onnais': 16835, '▁innovate': 28144, '▁beyond': 1909, '▁Murphy': 16212, 'IPS': 21563, '▁hollow': 23471, '▁système': 4870, '▁Celebrate': 27176, 'annon': 17805, '▁cast': 4061, '▁HIV': 13678, '▁poorly': 17509, '▁Ultimate': 17913, '▁Rainbow': 24959, '▁plat': 5350, '▁paysage': 20473, '▁eternity': 29410, '▁Ultra': 8618, 'charge': 7993, '▁Think': 6798, '▁nasty': 23147, '▁discurs': 29599, '▁Options': 17011, '▁nombreux': 6875, '▁mince': 27404, '▁Phone': 8924, '▁addictive': 26678, '▁Filial': 31621, '▁curiosity': 18967, '▁explic': 14323, '▁betrachtet': 29102, 'öffentlichen': 17375, 'sco': 3523, 'quino': 25653, '▁(6': 11372, '▁hackers': 24041, '▁kick': 4583, '▁Apart': 13323, '▁Girl': 11874, 'consists': 6848, 'bis': 11514, '▁specialty': 11355, '▁vieții': 25845, '▁kau': 12255, 'racking': 22499, 'artisan': 15304, 'Runner': 23572, '/10': 11476, '▁versatility': 23761, '▁Forbes': 24852, '▁bien': 923, '▁Gib': 17223, '▁Cisco': 15331, '▁seats': 6116, 'ucked': 15318, 'load': 7134, 'JA': 13853, '▁porch': 14283, '▁(19': 2863, 'wife': 22106, '▁blue': 1692, '▁hail': 22690, '▁Sherman': 29485, '▁presupune': 21006, 'Saxon': 30004, '540': 25379, '▁availability': 5576, '▁Mari': 10149, '▁Chocolate': 15769, '▁Gui': 15703, '▁verlassen': 21036, '▁circus': 28716, '▁(17': 18360, '▁ergeben': 25624, '▁Translation': 24527, 'estival': 24742, 'character': 31886, '▁told': 1219, '▁persoane': 3748, '▁formal': 4727, '▁ought': 8204, '▁Proceedings': 24569, '▁Muhammad': 24726, '4.7': 25211, '▁Wilson': 9439, '▁1,000': 11668, 'OG': 15927, '▁Downtown': 19434, '▁increases': 5386, 'ierten': 6305, '▁boring': 13006, '▁review': 1132, '▁imagination': 9675, '▁misleading': 23828, '▁niciodată': 17248, '▁Hampshire': 17944, '▁ridic': 11936, '▁zuständig': 22543, 'mer': 935, 'organ': 11127, '▁collaborateurs': 29198, '▁distressed': 26887, '<extra_id_51>': 32048, '92': 4508, 'preparing': 6955, 'Why': 17891, '▁believers': 22754, 'generated': 29955, 'constructed': 30816, '▁those': 273, 'ready': 23015, '▁1914': 24725, '▁bouton': 19899, 'original': 21878, 'histoire': 5474, '▁animals': 3127, '▁Muzic': 30555, '▁entstehen': 16871, '▁investor': 12024, '▁carry': 2331, 'rival': 25295, '▁bright': 2756, '▁partially': 14610, '▁candidate': 4775, 'deductible': 19180, '▁highlighted': 12566, 'security': 19361, 'REM': 26051, 'customised': 30853, 'hidr': 23181, '▁glossy': 26665, '▁reverse': 7211, '▁behaviour': 7916, '▁subsid': 28942, '▁Aqua': 11154, '▁magistrat': 30545, '▁maestr': 31544, '▁Preservation': 31567, '▁2017,': 4791, '▁stunning': 4441, '▁WEBSITE': 31712, '▁Newport': 24260, '▁Flooring': 23331, '▁S': 180, 'mped': 18109, 'published': 23841, 'iga': 12581, '▁sequel': 19826, 'ouvrage': 17661, '▁bland': 28034, '▁empfehlen': 13239, '▁bearbeitet': 31235, '▁120': 5864, 'förder': 21872, '▁almost': 966, '▁heaven': 9922, '▁situatie': 28163, 'retrieved': 31340, 'auxiliary': 31086, 'évidence': 30546, '▁veranstalte': 31431, '_': 834, '▁rebellion': 31430, 'X': 4, 'stück': 11451, '▁permitting': 27039, '▁toothbrush': 30002, 'о': 2044, 'bot': 4045, '▁alien': 12430, '▁Geno': 21849, '▁EN': 13209, 'dokument': 26990, 'respectarea': 27300, '▁harmless': 25708, '▁Op': 4495, '▁calitate': 5975, '▁Cred': 14301, '▁ruin': 13096, '▁Sub': 3325, 'beat': 12745, '▁recycled': 16402, '▁Schokolade': 31267, '▁2030': 23939, 'DO': 9857, '▁Porsche': 19763, 'се': 22036, '▁Powder': 21957, '▁academia': 28506, '▁confruntă': 31565, '▁Frei': 8671, 'qualified': 23058, '▁hide': 7387, '▁Bir': 10158, '▁Similar': 18347, '▁pharmacie': 24178, 'odată': 17512, '▁Detroit': 11901, 'Make': 22638, '▁Roma': 16082, '▁récupére': 29959, '▁perceived': 14057, '▁Consulting': 17326, '▁Niveau': 26802, '▁earning': 12127, '▁N': 445, '▁exposure': 4773, '▁90%': 12669, '212': 24837, '▁capacitor': 30181, '▁poat': 24475, '▁séjour': 12742, '▁colours': 6548, 'schön': 20654, '▁instantly': 8361, '▁setup': 5818, '▁acasa': 18774, '▁psihic': 28812, 'Up': 11161, 'wir': 11802, 'QUI': 21672, 'Super': 23290, '▁conflict': 4129, 'apei': 22348, '▁95': 11923, '▁Detail': 20760, '▁Order': 5197, '▁Spiegel': 24321, '▁Stone': 5614, 'surfacing': 29681, '▁Paint': 13915, '▁occupational': 25082, '▁Liga': 18515, '▁touristique': 28008, '▁Wurzel': 30023, '▁Estate': 6925, '▁Hong': 7764, '▁norm': 7982, '▁explicit': 17623, '▁Târgu': 27696, '▁reinforcement': 28050, '▁si': 108, '▁voyage': 6232, 'villa': 24887, '▁participa': 11453, 'vantage': 27868, '▁Hause': 12483, '▁viaţă': 19313, '▁knives': 26742, '▁drip': 25310, '▁occur': 4093, 'growth': 24690, '▁dryer': 15629, '▁închis': 24577, '▁Mallorca': 31756, 'vage': 11515, '▁Cultural': 13432, '▁further': 856, '▁porc': 22204, '▁Russian': 4263, 'profile': 18816, '▁Cons': 7762, 'rilla': 18762, '▁Statistics': 19258, '▁astonishing': 25254, '▁mis': 1817, '▁spielt': 12842, 'tatea': 13144, '▁Terra': 17462, '▁fancy': 11125, '▁înapoi': 29091, '▁empowerment': 26518, '▁locking': 21097, 'Când': 14933, '▁einzu': 13575, '▁see': 217, '▁highlights': 8285, '▁Bran': 18649, 'caster': 25327, '▁president': 2753, 'unbiased': 30183, '▁demo': 8698, '▁automated': 10069, '▁great': 248, 'roid': 8184, '▁1943': 26436, '▁boat': 3432, '▁Autumn': 23321, '▁synth': 13353, '▁coordon': 18438, '▁seven': 2391, '▁entity': 10409, '▁Leather': 15987, 'leased': 29107, '▁lecture': 7177, '▁decembrie': 13020, 'intr': 20322, '▁General': 2146, '▁fine': 1399, '▁over': 147, '▁cabinet': 4566, 'amerika': 31029, '▁Charakter': 21112, '▁Conditioning': 24213, '▁Sprach': 20684, 'cken': 4695, '▁unterschiedlich': 9687, '▁scoring': 10389, '▁maintenant': 10220, '▁1945': 18315, '▁contul': 24600, '▁douche': 23568, 'kat': 8682, '▁creator': 9931, 'hov': 23304, '▁Deborah': 30226, '▁reiterate': 30310, '1).': 13883, '▁consumed': 16647, '▁incredible': 3904, 'wrongful': 30721, '▁Near': 10455, '▁_____': 31020, 'shortest': 31115, '▁definitely': 1728, '▁rapport': 5346, '▁Simon': 6308, '▁participating': 7448, '▁sculpture': 10519, 'disc': 19315, 'vul': 12388, '▁timing': 9398, '▁temper': 21956, '▁towards': 1587, '▁Edison': 31378, '▁responding': 16523, 'digit': 9206, '▁From': 1029, 'sichtlich': 15690, '▁Hilfe': 9636, 'agi': 6623, '▁entspricht': 23669, 'enables': 7161, '▁hormonal': 27925, '▁nécessit': 21433, '6.1': 23769, '▁susținut': 28535, '99': 3264, '▁gun': 4740, '▁Januar': 16484, 'awaiting': 26312, '▁acheté': 26385, 'schlossen': 19323, '▁Richtig': 30246, '▁AI': 7833, '▁hotel': 1595, '▁locate': 9586, '▁Mat': 5708, '▁Application': 8566, 'host': 12675, 'RIS': 13431, '▁Sounds': 17112, 'rift': 22722, 'MAP': 25790, 'min': 1109, '▁united': 18279, 'austausch': 27646, '▁avansat': 26368, 'technischen': 23272, '▁crashed': 24679, 'löst': 29114, 'Stunning': 29742, 'Dienst': 12161, '▁South': 1013, '▁1973': 17107, '▁turquoise': 26857, 'unserer': 3692, '▁natura': 19913, '▁Promo': 17758, '▁gewährleisten': 27965, '▁essence': 10848, 'enseigne': 19157, 'OUR': 9131, '▁diarrhea': 28582, 'blood': 27798, '▁lately': 12643, '▁elevation': 16417, '▁recovering': 21827, 'North': 22969, 'restul': 21051, '▁invata': 13502, '▁préféré': 22157, '▁verletzt': 29252, '▁eingesetzt': 16336, '▁Ph': 3657, 'mAh': 25728, '▁Ideas': 6231, '▁revel': 26061, '▁D': 309, '▁Kiel': 30326, 'verb': 11868, '▁dating': 4134, '▁Raj': 13509, '▁militant': 20026, '▁tiny': 5103, '▁delivery': 1929, '▁winter': 2265, '▁hour': 1781, '▁brother': 4284, '▁simulate': 26032, '▁fondamental': 30761, '/11': 20223, 'port': 1493, '▁proceeding': 23613, '▁Zusammenhang': 20136, 'tage': 6505, '▁galaxy': 24856, '▁conserve': 14928, '▁biking': 22800, '▁Arbitr': 30413, 'făcute': 31981, '▁Process': 10272, '▁Meadow': 23302, '▁Colour': 19640, '▁Source': 9149, 'anglais': 15336, '▁Maine': 13905, '▁bénéfice': 28247, '▁universitar': 29310, '▁compartiment': 29700, 'nji': 21391, 'logue': 10384, '▁Concentr': 27664, 'international': 27817, 'pol': 3233, 'ufgrund': 10378, '550': 17147, '▁air': 799, '▁Hose': 25462, '▁festivities': 28585, 'cas': 6769, '▁spine': 14732, 'wäh': 22415, '▁Schl': 13675, '▁conservative': 11252, '▁Mai': 2636, 'UNI': 14284, '▁Aussi': 21439, '▁Diese': 2167, '▁erneut': 18549, '▁Street': 1887, '▁funktioniert': 16062, 'pig': 9905, '▁ISO': 8162, '▁cakes': 16343, '▁Peninsula': 20936, '▁gouvern': 28948, '▁Sustainable': 21224, 'Davidson': 23268, 'Stack': 19814, '▁visage': 21687, '▁voie': 11771, '▁Eck': 17887, '▁Acces': 25679, '▁sonstige': 24956, '▁recommended': 3024, '▁cor': 4301, '▁shame': 12447, 'ong': 2444, 'chem': 6482, '▁gewohnt': 29608, 'genoss': 28497, '▁Yama': 27221, '▁Cyber': 14183, '3)': 5268, 'ISA': 18161, 'aded': 15624, 'NM': 16568, '▁Lucy': 21812, '▁replay': 27204, '▁heureuse': 29815, '▁Yankee': 20643, '▁Herbst': 21073, 'lä': 5852, '▁Nin': 12776, '▁testament': 23710, '▁Monte': 13789, '▁première': 3817, 'Consequently': 21900, '▁Conduct': 21942, '▁2019,': 7887, '▁noapte': 12155, '▁ailments': 29939, '▁Mars': 11856, '...': 233, '▁pixels': 15386, '▁developers': 5564, '▁loving': 6330, '▁vertical': 5857, '▁anxious': 17267, '▁travelling': 10238, 'espagnol': 28545, '▁rece': 9088, '▁optic': 18310, '▁perspectiva': 29818, '▁could': 228, '▁kettle': 27241, '<extra_id_27>': 32072, '▁instala': 18248, 'această': 3401, '▁principle': 8454, 'install': 7417, 'brushed': 24865, '▁Non': 5388, '▁fault': 7828, 'Evangeli': 20331, '▁weight': 1293, '▁comments': 2622, '▁seventeen': 30552, '▁calling': 3874, '▁alloy': 18110, '▁Wirtschaft': 20870, '▁harvested': 26048, 'bala': 10810, '222': 26144, '▁modèles': 15567, 'MHz': 20210, 'Download': 28380, 'yak': 20856, '▁techno': 25389, '▁altered': 17250, '▁plasma': 18309, '▁enfants': 5047, '▁GPU': 23356, '▁service': 313, 'TED': 11430, '▁Regulation': 13683, '▁Speaker': 16778, '▁Bruno': 22425, '▁Spiritual': 23511, '▁creativity': 6933, 'Arrangement': 31895, '▁prosperous': 29327, '▁applicant': 13322, 'cal': 1489, '▁Chine': 15255, '▁unit': 1745, '▁Warriors': 24499, '▁aperture': 28931, '▁counsel': 11189, '▁Okay': 16036, '▁worry': 3516, '▁Harmon': 22113, '▁sechs': 15516, '▁Rec': 7136, 'scient': 17819, '▁Orlando': 14374, '▁window': 2034, '▁years': 203, '▁intern': 9342, 'musik': 22934, '▁demanding': 12178, '▁Diagram': 19641, '▁Acid': 18802, '▁Boom': 23214, '▁utiliza': 18187, '▁Evan': 22743, '▁brillant': 28805, '▁Angeles': 4975, '▁repaired': 20454, 'feti': 23477, 'modificarea': 28377, '▁Terri': 17495, '▁fisier': 30031, '▁Köln': 18552, '▁Sk': 6458, '▁assists': 13041, '▁absolven': 31018, '▁devices': 1904, 'viv': 7003, '▁studiu': 18289, '▁concurrence': 25958, '▁report': 934, 'iunii': 9785, '▁Allison': 28169, 'grouped': 31801, '1)': 6982, 'gruppe': 14416, '▁Starbucks': 24474, '▁prénom': 29636, '▁software': 889, 'labelled': 29506, 'mode': 14930, '▁vermeiden': 25607, '▁Iaşi': 27680, '▁chip': 6591, '▁quicker': 16403, '▁river': 4033, '▁Marriage': 26741, '▁undesirable': 30995, 'schwer': 16065, '▁lowest': 7402, 'bah': 17670, '▁dangerous': 5107, 'flüge': 22221, 'Educat': 18846, '▁réduit': 21772, '▁reinstate': 30861, '▁Vergangenheit': 24573, 'uvent': 4348, 'pilot': 24650, 'ront': 4438, '▁Gesellschaft': 11580, '▁haircut': 27653, 'bal': 3849, 'Edit': 26527, '▁Store': 4493, '▁eigentlich': 7926, 'tür': 11150, '▁électrique': 13437, '▁Rating': 21662, '▁notify': 14169, '▁deals': 3694, '▁Să': 11062, '52': 5373, '▁Monitor': 15192, '▁dirig': 20847, '2003': 23948, 'prepared': 28822, '▁Delphi': 31205, 'ven': 1926, '▁suspicious': 21641, '▁confront': 11230, '▁pickup': 12820, 'constituted': 31958, 'pourraient': 24892, '▁Walmart': 20723, '▁Chief': 5116, 'seraient': 28292, 'ssel': 9816, '▁für': 218, '▁Secure': 18865, '▁verse': 11261, 'feder': 16812, 'losigkeit': 30126, '▁Chronicle': 26143, '▁cheddar': 31984, '▁certifié': 31496, '▁protect': 1822, '▁becoming': 2852, '▁aspects': 3149, '▁Today': 1960, 'shed': 7420, '▁complimentary': 13968, '▁expedition': 21807, '▁Fertigung': 31957, 'honda': 31782, 'isiert': 8864, '▁Cy': 6400, '▁bones': 12432, '▁composer': 13075, '▁environ': 11124, '▁eventual': 13741, '▁leave': 1175, '▁Purchase': 14839, '▁neural': 24228, '▁nourish': 25196, '▁außen': 27208, '▁had': 141, 'Sterne': 28240, '▁operators': 9490, 'CC': 2823, '▁feu': 8703, '▁resolution': 3161, 'cha': 3441, '78': 3940, '▁allen': 6127, '▁suggestion': 12939, '▁Automatic': 19148, 'dezvoltarea': 14091, 'Alors': 10857, 'KM': 23815, 'analysis': 27557, '▁external': 3866, '▁Sure': 10625, '▁triple': 12063, 'zier': 14567, 'händler': 30728, '▁Melanie': 31297, 'pan': 2837, 'ically': 6402, '▁gradini': 31245, '▁Khan': 14420, '▁1998': 6260, '▁sorts': 10549, '▁coeur': 17317, '▁raisins': 31078, '▁joy': 3922, 'tel': 1625, '▁spéci': 28301, 'see': 2338, 'flächen': 23265, '▁Grow': 22132, '▁most': 167, '▁körperliche': 29242, '▁possibly': 3673, '▁cauz': 12134, '▁leben': 13180, 'cali': 15534, 'RA': 4763, 'iști': 12691, '▁Geräte': 14766, '▁condiment': 26965, 'ueuse': 25977, 'concentr': 11928, '▁anticipat': 27538, '▁simple': 650, '▁mature': 10281, 'н': 7184, 'verhältnisse': 28453, '▁Auto': 2040, 'piping': 27797, '▁Mate': 16555, 'Music': 29035, '▁doors': 3377, 'scene': 22886, 'gli': 4707, 'nnen': 8772, '▁Strategi': 22946, 'AVI': 23412, 'Ouest': 27166, '▁vital': 3362, '▁healing': 5853, '▁forgotten': 11821, '▁Belarus': 28608, '▁Betreiber': 29127, '▁nouveauté': 29391, 'Indiferent': 30129, '▁homosexual': 31330, '▁viaţa': 18427, '▁finalement': 22302, '▁Add': 2334, '▁incontournable': 27891, '▁WiFi': 13831, '▁Line': 4919, 'causing': 5885, '▁skip': 11202, 'ripped': 23830, 'saw': 13125, '▁WhatsApp': 22548, 'agh': 18583, '▁Gérard': 31555, '▁passengers': 9234, '▁topic': 2859, 'в': 6609, '▁Working': 7301, '▁Philippine': 27233, 'cît': 24365, '▁singură': 23209, '▁Compensation': 29052, 'Guests': 22360, '▁stopped': 4910, '▁Cream': 14024, '▁Merci': 8923, '▁dimension': 9340, '▁beta': 12637, '▁shiny': 18654, '▁wall': 1481, '▁workout': 7203, 'importance': 23673, '▁rectangular': 24675, '▁Media': 3159, '▁jeune': 10523, '▁DE': 3396, '▁gossip': 29517, '▁Organ': 18190, '▁substance': 8096, '▁Mak': 15666, '▁anyone': 1321, 'PL': 5329, '▁Harvest': 26204, 'EM': 6037, '▁Roller': 23144, 'loos': 26791, 'assemble': 15222, '▁nein': 23607, '▁sfarsit': 25242, '▁checks': 11642, '▁nuit': 12266, '▁dignity': 21377, '▁mieux': 5809, '▁Miracle': 28987, '▁buzz': 15886, '▁fourteen': 27137, '▁presiune': 23402, 'Biserica': 21287, 'x': 226, '▁cooker': 21859, 'wünsche': 25084, 'ţia': 8504, '▁orbit': 15607, '▁peste': 2543, '▁oversee': 12162, 'Engine': 31477, 'Pacific': 25480, 'tratare': 30379, '▁rate': 1080, '▁Lösung': 13697, '▁simply': 914, '▁canadien': 27114, '▁object': 3735, '▁souffle': 29108, '▁Mir': 8208, '▁attentes': 25918, '▁chaîne': 20357, 'fed': 19565, '▁DAMAGE': 30061, '▁deaths': 14319, '▁Angel': 5126, '▁skin': 1133, '▁divorce': 7759, '▁enhancement': 15220, 'fangen': 19692, '▁Henderson': 25253, '▁Portfolio': 24815, '▁Clayton': 30618, '▁Nintendo': 16211, '▁centers': 6881, '109': 17304, '▁skills': 1098, '▁gift': 1876, '▁Modell': 8731, '▁interest': 1046, '▁Buzz': 23211, 'halb': 9049, '▁terme': 9327, 'fixed': 28568, '▁ajuta': 5602, '▁shareholders': 17780, '▁allem': 4022, '▁vide': 20177, '▁supervision': 15520, '▁apropie': 30036, '▁Southeast': 18862, '▁lit': 4996, 'bekannt': 27570, '▁Zugriff': 27005, '▁experiences': 2704, 'ului': 252, 'nnerhalb': 8919, '▁founding': 16072, '▁știu': 19263, '▁aferent': 23012, '▁Robert': 2715, '▁sou': 7236, '▁Album': 16135, 'automne': 29427, '▁Down': 7309, 'din': 2644, '▁complicated': 6446, '▁Finanz': 15156, '▁Items': 20031, '▁PET': 22970, '▁funeral': 12195, '▁banc': 12393, 'ges': 2897, '1998)': 29430, 'NN': 17235, '▁Flug': 15010, 'functional': 21601, '▁Probleme': 12834, 'aka': 5667, '▁payday': 19555, '▁Celtic': 21748, 'kot': 15414, '▁niciodata': 19741, 'ement': 1194, '▁full': 423, '▁seniors': 14032, '▁fish': 2495, '▁aus': 403, '▁creation': 3409, '▁Van': 4480, '▁its': 165, '▁marked': 7027, '▁Aufgabe': 18215, '▁faim': 27083, '▁hamburger': 31421, 'IMA': 26330, 'Add': 20773, '▁délivr': 28861, 'schaden': 30939, '▁loose': 6044, '▁Friends': 9779, '▁permit': 5720, '▁trebuie': 1557, '▁intense': 6258, 'atorul': 10690, '<extra_id_60>': 32039, '▁festgestellt': 30360, '▁cookbook': 23410, '▁longest': 14783, '▁center': 1530, '▁emp': 8943, '▁USB': 4916, '▁invention': 8936, '▁liberal': 10215, '▁Laboratory': 19474, '▁atenţi': 26631, '▁carried': 4006, '▁training': 761, '▁Feuer': 19857, 'GHz': 18944, '▁sure': 417, '▁Live': 3306, '▁viata': 5966, '60,000': 24620, '▁shoulder': 8173, '▁nimic': 7362, '▁workforce': 10312, 'Stu': 13076, '▁Wow': 9758, 'Afrique': 18220, '▁Patron': 29894, '▁meisten': 7957, 'izant': 27499, '▁brun': 25376, 'ppe': 6811, '▁reign': 17367, 'feed': 17012, '▁campground': 27568, 'atenția': 31304, 'observing': 23493, '▁files': 2073, '▁proces': 6345, '▁proposals': 12152, 'trac': 6471, 'quest': 10952, 'blau': 16193, '▁Harbour': 24454, '▁others': 717, 'ultimul': 15211, '▁user': 1139, 'fading': 28977, '▁neue': 2802, 'web': 8398, '▁Hi': 2018, '▁qualities': 10596, 'MEDIA': 30296, 'hilst': 11414, 'öfte': 29863, '▁Monde': 22603, '▁reactive': 28360, '▁180': 8003, '▁inkl': 23731, 'grand': 15448, 'striped': 27465, 'mut': 4246, '▁Directors': 14102, '▁Business': 1769, '▁débat': 19736, 'lien': 10487, '▁unver': 13705, '▁Punkte': 18525, '▁Controller': 23105, '▁diving': 15680, 'significant': 26251, '▁Kno': 10624, '▁réduction': 19673, 'Immobilie': 27613, 'ogni': 12905, '▁appetite': 17699, '▁Brü': 19460, 'esel': 20736, '▁Rag': 22939, '▁regiuni': 27086, '▁oublié': 30092, 'Obtain': 31635, '▁collections': 8274, 'ătoare': 9097, 'sweise': 15992, 'gemeldet': 26618, '▁Home': 1210, '▁Oakland': 19837, 'meanwhile': 25605, '▁Mischung': 28543, '▁capacitate': 24033, '▁moves': 6914, '▁religious': 4761, '▁Exc': 20335, '▁successive': 25694, '▁Resources': 10179, '▁puţin': 12241, 'making': 5239, '▁Crit': 23679, 'Bru': 9465, '▁Kru': 19630, 'rasi': 19867, '▁streak': 18631, '<extra_id_23>': 32076, '▁puissant': 26582, '▁execution': 9328, '▁preview': 12565, '▁pedepse': 31979, '▁ramane': 20196, '▁traditions': 10822, '▁prost': 17074, '▁Mit': 1311, '▁scan': 5924, '▁Klo': 26087, 'requisite': 24966, '▁animat': 26162, 'stage': 10705, 'mergem': 31008, '▁Poker': 14959, '▁researchers': 4768, '▁acordat': 18374, '▁Aufenthalt': 23362, '▁products': 494, '▁brilliant': 6077, '▁Champions': 15132, 'îngrijire': 31634, '▁chapters': 16175, '▁(5': 9209, '▁Communicat': 31134, '▁rice': 6605, '▁catheter': 27594, '▁condamn': 15815, '▁rose': 4659, 'there': 12137, '▁edition': 4182, '▁2010,': 8693, '▁comun': 6252, '▁Story': 8483, '▁Mä': 23475, 'untouched': 31729, '▁right': 269, '▁template': 3847, 'natal': 16978, '▁Montana': 16751, '▁Bachelor': 10199, '▁Kindern': 14745, '▁action': 1041, '▁EP': 10177, '▁beneath': 12759, '▁stations': 6991, 'STR': 13733, 'lude': 21135, '▁Permanent': 23996, 'cool': 21197, '▁hit': 1560, '▁aside': 5915, '▁perpetual': 28656, '▁croire': 27368, '▁install': 2438, '▁Was': 2751, '▁Fragen': 6906, 'keeping': 14361, '▁competent': 11766, '▁Hof': 17176, 'aires': 4803, '▁Kid': 13824, '▁Select': 6185, '▁entrepreneurial': 21991, 'colour': 24814, '▁during': 383, '▁Slovakia': 30629, '▁nennen': 27546, '▁ABC': 14213, '▁acțiune': 28116, '▁Sprinkle': 26121, 'istoria': 17905, '▁Fraser': 27495, '▁Guidelines': 25090, '▁custom': 1653, '▁crescut': 13953, 'MAN': 9312, '▁Sar': 9422, '▁kidney': 11546, 'easing': 16927, '▁doesn': 744, '▁scrutiny': 25778, '▁filament': 29394, '▁abge': 8138, '▁sued': 19557, '▁Hoffman': 27014, '▁Edward': 8200, 'ienne': 4731, '▁clinic': 5998, '▁Code': 3636, '▁amaze': 28651, '<extra_id_31>': 32068, 'Organiz': 14878, 'uiesc': 24788, '▁abdominal': 22827, '▁foods': 4371, '▁Arbeitnehmer': 27312, '▁Parc': 11794, 'anz': 4557, '▁sodium': 19049, 'Christ': 20941, '▁deceased': 22449, 'hak': 15416, '▁Dein': 17203, '▁Law': 2402, '2': 357, '▁http': 2649, '▁offensive': 12130, '▁wer': 14509, 'rion': 16310, '▁Marcel': 19560, '▁allows': 1250, '▁plane': 6112, '▁thoughtful': 15908, '▁ignition': 26494, '▁prescription': 7744, '▁claim': 1988, '▁Ask': 8366, '▁constă': 31259, '▁equipment': 1277, '▁Mama': 14200, '▁somit': 10889, 'altă': 8836, '▁port': 2147, 'știi': 16769, '▁advertisers': 22680, '▁ordinance': 24417, 'ço': 24065, 'BUSINESS': 31855, '▁guéri': 30764, 'CDC': 23125, 'zahlung': 12722, 'influence': 29920, '▁Bou': 8657, '▁banner': 11662, 'ausbildung': 30878, '▁incredibil': 30293, 'Point': 22512, 'extra': 25666, '▁Ring': 7888, '▁specialise': 21364, '▁financing': 8621, '▁constat': 10260, '▁între': 3970, '▁hran': 21971, '▁implique': 30917, '▁buni': 19037, '▁rencontrer': 22796, 'Occupational': 29195, 'TUR': 21164, 'stimmen': 17286, '▁illnesses': 21154, 'Met': 23351, 'efectele': 26630, '▁spell': 10783, '▁Walter': 13171, '▁intermediate': 18957, '256': 19337, '▁echipă': 24451, '▁femei': 9547, 'étendue': 31833, '▁complexion': 30882, 'personalised': 24001, '▁goddess': 30443, 'satz': 5606, 'abend': 14162, '▁mobiliz': 26169, 'ATP': 26758, '▁invest': 4032, '▁boast': 8125, '▁shine': 9567, 'team': 11650, '▁poursuiv': 20745, '▁führt': 7879, '▁uncertainties': 30879, '▁performance': 821, 'gemacht': 27139, 'Laugh': 26604, 'accéder': 21697, '▁status': 2637, '▁Pradesh': 22660, '▁Male': 17830, '▁nu': 206, '▁novembre': 13123, 'größten': 18550, '▁Programm': 7106, 'cola': 12600, '▁Führung': 13775, '▁permission': 6059, '▁periodic': 16855, '▁Methodist': 24884, '▁yummy': 19480, '▁banque': 16185, '▁example': 677, '▁blow': 6019, 'hoff': 11950, '▁Domino': 31757, '▁disque': 23845, 'urteil': 21408, 'flug': 18411, 'ème': 5843, 'cried': 24781, '▁generator': 9877, 'embodie': 24973, 'bespoke': 18713, '▁Diversity': 29064, 'culoarea': 29135, '▁LGBT': 26398, '▁Boys': 16575, 'courtesy': 14726, '▁Sand': 5440, 'pper': 8153, 'wissen': 22362, 'positioned': 13449, '▁Rac': 23250, '▁Bank': 1925, 'DIA': 24605, '▁defensive': 11976, 'eşte': 6376, '▁Players': 18079, 'tari': 5310, 'livré': 27836, '▁cadre': 5118, '▁controller': 8612, 'majorité': 20421, 'occupied': 12519, '100': 2915, '▁Sharp': 22130, '▁Rotary': 26208, 'Manifest': 29281, 'noi': 5983, 'rora': 22215, '▁noştri': 31048, '▁demographic': 14798, '▁Duft': 29257, 'ADE': 20458, '▁distant': 10382, '▁cale': 11404, 'Nonetheless': 22026, '▁fishermen': 30285, '▁recyclable': 29386, '▁Anteil': 23682, 'EAN': 20152, '▁Drei': 19504, 'с': 5345, 'welcher': 17849, '▁dense': 13809, '▁roll': 3812, '▁stu': 21341, '▁photography': 4832, 'LOS': 26342, '▁athlete': 17893, 'Biological': 30992, '▁Smok': 14627, '▁Police': 5076, 'phé': 26753, '▁Schnitt': 25397, '▁Both': 2867, '▁déc': 11567, 'Neither': 19685, '▁concluded': 12179, '▁wh': 14228, '▁Spark': 15036, '▁Cre': 5895, '▁champ': 13124, 'populated': 23606, 'last': 5064, '▁Dir': 7454, '▁stigma': 25852, 'chu': 8019, '▁unreasonable': 30691, '▁Elite': 16245, 'diversified': 28575, '▁telescope': 27480, '▁structure': 1809, 'hole': 9136, 'phan': 8237, '▁rent': 3170, '▁failed': 4567, '▁ideologi': 31001, '▁Geh': 20077, '▁gene': 6510, '▁zur': 881, '▁Violence': 29965, '▁nib': 30203, '▁Voice': 12347, '▁recomanda': 15631, 'geführt': 8490, 'Wir': 13601, 'gain': 16720, '▁Brian': 7798, '<extra_id_10>': 32089, '▁contributions': 7548, 'neuve': 26445, '▁privilege': 10901, '▁anchor': 12865, '▁fier': 12061, 'în': 3851, '▁CSS': 18104, '▁Hab': 11006, '▁electric': 2806, '▁electronically': 24987, '▁Residents': 24998, '▁comprise': 9418, 'Publish': 31009, '▁Coca': 25417, 'vez': 6071, '▁cockpit': 29828, '▁brave': 13414, '▁Persoan': 28029, '▁tip': 2226, '▁reproductive': 27820, '▁altfel': 12459, 'eko': 20065, '▁zusätzliche': 17818, '▁Kosovo': 30072, '▁créativité': 31376, 'indice': 19082, 'ării': 2489, '▁tuition': 15409, 'ENT': 6431, '▁beteiligt': 25477, '▁extrem': 5273, '▁perfectly': 3923, '▁cyber': 9738, '▁Nazi': 17562, 'pulmonary': 26836, '▁seit': 3646, '▁Bloomberg': 25394, '▁oxygen': 11035, 'prone': 15897, 'pore': 21642, '▁espresso': 22311, 'teaches': 11749, '▁existed': 16415, '▁părţi': 30505, '▁Thermal': 29556, 'illage': 17614, '6-2': 25369, '▁nasal': 26612, '▁nommé': 29491, 'mediated': 26486, '▁longer': 1200, '▁crust': 14094, '▁Carnival': 26813, 'èvre': 22491, 'employment': 29056, '▁variety': 1196, 'dated': 14134, '▁symbolize': 29543, '▁excuse': 10553, '▁exerciți': 31524, '▁Kit': 5747, '▁climatique': 29340, '▁weigh': 11385, '▁Natalie': 26983, '▁persist': 17358, '▁objectifs': 20296, 'facerilor': 31359, '▁cosmic': 28332, '-7': 6832, '▁subjective': 24242, '▁Publi': 31053, '▁foarte': 1354, '▁detect': 8432, 'Integrated': 22259, '▁nécessaires': 18641, 'traiter': 26687, '▁blanche': 21403, 'ceea': 2882, '▁promising': 12894, 'не': 14142, '▁règlement': 23472, '▁gracious': 24940, 'ward': 2239, '▁revolution': 9481, '▁The': 37, '▁basil': 20605, '▁wenn': 1301, '▁separat': 16048, 'ographic': 16587, 'person': 6075, '▁hi': 7102, '▁seemed': 3776, 'peri': 4267, '▁jours': 4520, '▁1981': 15465, '▁Hungary': 22768, '▁consumul': 25445, '▁Bradford': 28869, '▁LGBTQ': 30664, '▁delighted': 10693, 'support': 20390, '▁shimmer': 27536, 'lbs': 9949, 'olar': 17401, '▁Kombination': 19646, '001': 17465, '▁align': 7901, 'erin': 6655, '▁gegenüber': 11512, '▁appetizer': 26572, '▁bringt': 15653, 'writing': 9933, 'hibi': 13506, '▁minut': 21167, '▁listing': 6437, '▁$75': 28153, 'nţă': 10054, '▁sixty': 27757, '▁Widerruf': 30319, '▁faible': 15662, '▁scared': 16411, 'fiz': 22824, '▁reckless': 28933, 'ației': 13252, '▁animated': 16822, 'Thr': 11889, '▁tonnes': 19637, '▁watched': 7533, '▁crayon': 29072, 'mach': 8276, '▁Freude': 16230, 'allons': 16951, 'soare': 14266, '▁trouve': 6924, '▁calculated': 11338, '▁Silicon': 19599, '▁tânăr': 21664, '▁main': 711, 'boosted': 30695, '▁Sunny': 26827, '▁personne': 6317, 'Vision': 31535, '▁Gratuit': 29031, '▁plasa': 23000, 'ит': 22682, '▁inform': 3261, 'impact': 20824, '<extra_id_42>': 32057, '▁Hospital': 4457, '▁proceduri': 22069, '▁childhood': 7352, '▁searches': 14397, '▁tuned': 14007, '▁contine': 17156, 'faulty': 26545, '▁Uncle': 26706, '▁littérature': 31533, '▁blood': 1717, '▁magazines': 13254, '▁supplements': 11717, '▁actually': 700, 'escalier': 29021, '▁Scripture': 17999, '▁Carl': 7291, '▁professionals': 2481, 'étais': 20451, '▁Prayer': 23535, 'That': 11880, 'Apoi': 17393, '▁Put': 5306, '▁symbols': 13619, 'vaut': 22458, '▁melt': 13297, '▁iphone': 25179, 'ick': 3142, '▁Bro': 4027, '▁anyway': 6161, '▁kind': 773, '▁Nor': 7005, '▁Eigentümer': 31437, '▁zwei': 2352, '▁powered': 10028, '▁Queensland': 18838, 'conceived': 21602, '▁continental': 23639, 'ute': 2810, 'dieser': 1878, '▁mehr': 1091, '▁nume': 7507, '▁Sarah': 8077, 'sediul': 18049, '▁benefits': 1393, '▁balcon': 19615, '▁extern': 21387, '▁maintaining': 6011, '▁francophone': 31165, '▁grup': 7581, 'PE': 5668, '▁Executive': 5408, '▁best': 200, '▁Leadership': 12665, 'formation': 14678, '▁Electrical': 18419, '▁Med': 8067, '▁copilul': 17049, '▁+': 1768, 'shaped': 6489, '▁mentally': 19367, '▁Entfernung': 30847, '▁meal': 3506, '▁duplicate': 19197, '▁difficile': 11166, '▁Couple': 25185, '▁Saint': 2788, '▁clientii': 28143, '▁piese': 13716, '▁granite': 12329, '▁influential': 16569, '▁Montgomery': 22948, '▁trophy': 23921, '▁Ethereum': 28516, '▁curat': 9109, 'Est': 14997, '▁trai': 13379, '▁church': 2078, '▁sweater': 19469, '▁Peru': 17665, 'cateva': 7867, '▁gospel': 15491, 'emergence': 25120, '▁After': 621, '▁confortabil': 25355, '▁wellness': 11131, '▁propriu': 14030, 'fassen': 15793, '▁informații': 15450, '▁bereit': 10313, '▁Beast': 26695, 'lotte': 21538, '▁futur': 12885, 'situation': 23717, 'symptom': 18018, '▁prépar': 18047, '▁Adrian': 12399, 'rebounds': 23768, 'licate': 26221, '▁UAE': 17487, '310': 19947, '600': 6007, 'cili': 13067, 'selbe': 31443, '▁submit': 4237, '▁remind': 5607, '▁sâmbătă': 26096, 'symmetry': 29089, 'planned': 28379, 'arul': 8863, '▁tender': 9024, '▁module': 6008, 'leiten': 23252, '▁tradiţi': 26180, '▁compact': 6607, '▁Schatten': 30632, 'Plat': 10146, '▁Grundstück': 25498, '▁behave': 19790, 'filtered': 23161, '▁addition': 811, '▁LA': 5292, '▁Conservative': 23053, 'grenze': 20757, '▁attribute': 15816, '▁clue': 11354, '▁со': 24697, '▁clinician': 21637, 'She': 12736, 'frant': 24557, '▁PSD': 11090, '▁tätig': 19709, '▁Oz': 15546, '10.1': 22567, '▁Autor': 10750, '▁CRM': 16966, '▁cooper': 22996, 'tered': 11196, '▁suffi': 10286, '▁necessity': 16696, 'phthal': 28197, '▁Fixed': 21378, '▁bord': 9665, '▁entitled': 7201, 'idio': 19916, '▁consilier': 20574, 'njeux': 27153, '▁Testing': 19693, '▁Spain': 6436, '▁continuation': 25192, '▁#3': 20206, 'zehn': 13140, '▁teachers': 3081, '▁domnul': 22719, 'auf': 3019, 'F': 371, '▁adventures': 12560, 'ARK': 22216, '▁commercial': 1328, '▁sparkling': 21363, '▁projets': 11387, '▁Chapel': 18823, '▁statt': 6594, '▁cercetare': 20478, '▁Cosmetic': 23831, '▁politician': 24694, '▁später': 8908, '▁Week': 6551, '(3)': 17867, '▁pur': 3990, 'sig': 13658, '▁recommendations': 5719, '▁incidents': 15935, '▁1982': 14505, '▁politiques': 16876, '-4': 4278, '▁treatment': 1058, 'poured': 22929, '▁priest': 12966, 'uleiul': 27237, '▁gagné': 31397, 'stadt': 6208, 'Adapt': 14808, '▁insulin': 16681, '▁commun': 6639, '▁Rights': 10226, '▁(+': 17134, '▁moderne': 7456, '▁investments': 7686, '▁junk': 11797, 'breaker': 23149, '▁vizită': 30891, 'destined': 26677, '▁interview': 2772, 'Likewise': 21322, '70': 2518, 'hik': 16942, '▁bon': 2682, 'systematically': 28657, 'EO': 13113, 'me': 526, 'betrieb': 9602, '72': 5865, '▁two': 192, 'buted': 29261, '▁hydrogen': 20913, '▁Salut': 25801, '▁contenu': 9449, '▁Valentine': 11959, '▁earn': 3807, 'World': 17954, '▁recon': 18695, 'cker': 3383, '▁destroyed': 10932, '▁Experimental': 30871, '▁texte': 10062, '▁Private': 7086, 'examen': 14345, '▁attention': 1388, '▁issue': 962, '▁bull': 8434, '▁Conform': 19726, '3-2': 21160, '▁realitate': 16788, '▁Tr': 6087, '▁sophisticated': 8732, '▁remain': 2367, '▁Beyond': 13594, '▁Handeln': 30538, '▁safari': 24857, 'riv': 5927, '▁tourne': 22942, '▁Zone': 11628, '▁writers': 5943, '▁behind': 1187, 'allied': 26655, '▁delay': 7230, 'verkauf': 26233, '▁glimpse': 15937, '▁Scholar': 23229, 'hui': 3464, '▁Boston': 5053, '▁influent': 23544, '▁licensed': 6681, '▁villages': 12293, '▁FUN': 26280, '▁movements': 9780, '▁gradually': 11556, 'ivitate': 19822, '▁Cristina': 27800, 'tube': 9863, '▁feminin': 27108, '▁amateur': 13217, '▁decizii': 21999, '▁Parallel': 27535, '<extra_id_50>': 32049, '▁ratings': 9712, '▁preferat': 16231, '▁diagnose': 18730, '▁completion': 6929, 'atism': 27803, '<extra_id_29>': 32070, 'Dimensiuni': 31894, 'Among': 7264, '▁aspect': 2663, '▁generated': 6126, '▁provincial': 19429, '▁mac': 11486, 'descending': 30960, '▁Ha': 1626, 'nement': 10752, '▁Verkehrs': 18258, 'schä': 12470, '▁entertain': 16861, '▁opposed': 8560, '▁balls': 11607, '▁Comedy': 26984, '▁poems': 18460, '▁Habit': 20198, 'hectare': 17256, 'smelling': 31516, '▁incerc': 14140, '▁Vin': 8653, '▁seam': 13846, '▁competition': 2259, '▁arată': 13279, '▁ergonomic': 20461, '▁Lock': 10039, 'hänge': 19686, '▁Summer': 5550, '▁technologique': 30009, '▁accolade': 30022, '▁promotion': 5546, '▁Haar': 14262, '▁Republicans': 15623, '▁Surgery': 19384, '▁grand': 1907, 'AB': 5359, '▁Fifth': 26729, '▁demander': 17199, 'fluss': 26635, '▁Hammer': 18812, '28': 2577, 'tiques': 10873, '▁competing': 12166, '▁stairs': 12295, '▁Hop': 15139, '▁modificat': 24988, 'place': 4687, '▁outcomes': 6353, 'rühren': 26969, '▁multiple': 1317, 'cam': 6527, 'chou': 23135, 'ско': 29577, 'phenol': 31411, '▁musicians': 11424, '▁angajați': 29054, '▁Judy': 24570, '▁Para': 4734, '▁Moses': 20064, 'wertig': 26034, '▁Universe': 20713, '▁Complete': 9480, '▁region': 1719, '▁Rocky': 21989, '▁definiert': 29827, '▁Palm': 8005, '▁compassion': 14555, '▁Rest': 7870, '▁exotic': 13433, '▁praying': 20877, '▁Bildschirm': 30509, '!\"': 4720, '▁obiectiv': 12121, 'tinct': 19827, '▁health': 533, '▁Scheme': 23880, '▁ruhig': 23582, '▁freshly': 19635, '▁tennis': 9999, 'üß': 11984, '▁died': 3977, '▁unveil': 27080, '▁expans': 30730, 'LB': 16976, '▁updated': 3250, '▁Depend': 30718, 'Societatea': 31345, '▁chaos': 16856, '▁fantasy': 11043, '▁filters': 10607, '▁Nest': 21351, '▁epidemi': 29969, 'faţa': 19349, '▁urmează': 20738, 'Pap': 15182, '▁Lafayette': 27600, 'bic': 15979, '▁Kurs': 13933, 'embl': 8312, '▁Gabriel': 11997, 'roy': 8170, '▁Funk': 21867, 'eptic': 14629, 'ckel': 15259, '▁club': 1886, '▁hiring': 7539, '▁ajutorul': 10082, '▁meetings': 4677, '▁Basket': 26029, 'insicht': 28700, 'ske': 11049, 'PRO': 17618, 'meter': 4401, 'umble': 13514, '▁vie': 2240, '▁upgraded': 15490, '2.6': 22724, 'Arm': 23823, '▁fictional': 24460, '▁Weise': 11627, 'ström': 30476, 'Mitgliedern': 30984, 'focuses': 6915, '▁alternative': 2433, 'hydrat': 23929, '▁chez': 4058, '▁elastic': 15855, '▁dozen': 9611, 'Flow': 15390, 'enfin': 13722, '5.': 9125, 'metre': 22404, '▁territorial': 23871, '▁Mohammed': 26276, '▁Civil': 7707, '▁coloan': 28658, '▁rău': 17647, 'uffed': 27829, '▁noise': 4661, 'pursuing': 14651, '▁3': 220, '▁mes': 8853, 'wrought': 29286, 'umps': 22028, '▁hommes': 12462, '▁persistence': 29486, '▁profits': 9613, '▁affection': 18615, '▁stretched': 23038, '▁exercise': 2510, 'situația': 27795, 'été': 8436, '▁technology': 748, '▁attending': 7078, '▁Peace': 11128, '▁cet': 5160, '▁responsive': 10586, '▁drilling': 18160, '▁autograph': 29600, '▁determine': 2082, '▁Ger': 5744, '▁charging': 10871, 'Die': 8639, '▁capital': 1784, '▁declared': 10126, '▁Along': 8529, '▁sewing': 15308, '▁Monument': 24086, 'internaute': 25898, '▁Tesla': 19939, '▁Avocado': 31771, '▁lässt': 6614, '▁trap': 9684, '▁severely': 20215, '▁customers': 722, '▁911': 23783, '▁absence': 8605, '▁hands': 1780, '▁adaptée': 22022, '▁Festival': 3397, 'rü': 4100, '▁Büro': 15833, '▁cauza': 7044, '▁leap': 14527, 'größe': 19392, 'wobe': 21984, '▁unabhängig': 19264, '........': 19794, '▁adidas': 28084, '▁Mid': 6650, '▁spum': 28677, '▁nausea': 25808, '▁attempted': 13090, '▁gemstone': 27819, '▁whiskey': 27971, '▁Vancouver': 11680, '▁Norton': 28331, '▁că': 375, '▁comedy': 12373, '▁intalni': 17761, 'lunii': 24587, '▁staircase': 23521, '▁Wimbledon': 31489, '▁originally': 5330, '▁Mortgage': 20922, '▁deplasare': 30268, '▁Drop': 14150, '▁le': 90, 'RD': 10255, 'may': 13726, '▁glasses': 9832, 'Rank': 22557, '▁Appliance': 24879, '▁deviation': 25291, '▁dollars': 3740, 'Empfänger': 31816, '▁Disney': 6118, '▁specialist': 4253, 'And': 7175, '▁Knowledge': 16113, 'fallen': 11025, '!!!!!': 17065, '▁faisai': 22669, '▁Ofert': 29847, 'cie': 6267, '▁Hill': 3588, '▁Laut': 21523, '▁Practice': 8506, '▁left': 646, '▁Westminster': 25804, '▁Essen': 11722, '▁comp': 2890, '▁placed': 2681, '▁provoqu': 22811, 'avy': 19649, '▁respiratory': 19944, '▁emission': 24578, '▁Förderung': 24511, '▁finden': 2706, '▁lighting': 3598, '▁bois': 5912, 'com': 287, 'Fällen': 19730, '▁livelihood': 27656, 'obst': 28626, '▁specialitate': 23034, 'zuführen': 24647, 'lomi': 27009, '▁deci': 7908, '▁impozit': 20307, '▁numero': 30057, 'enburg': 13576, '▁tables': 5056, 'kett': 12922, '▁déclaration': 24277, '▁lives': 1342, '▁toute': 2633, '▁Aplica': 29140, '▁financiare': 21023, 'rum': 2781, '14': 2534, 'rant': 3569, '▁machen': 3123, 'ters': 4849, '▁details': 1030, '▁innovative': 3058, 'midi': 16091, '▁heute': 4270, 'ants': 2366, '▁quand': 4679, '▁depth': 4963, 'Technologie': 14366, '▁Coalition': 22922, '▁capita': 23219, '660': 27720, 'gesagt': 14668, '▁biologique': 28303, '▁explaining': 13834, '▁Kreativität': 31494, '▁Mehrwert': 29914, 'flu': 6947, '▁Louis': 5181, '▁Qatar': 21936, 'stitution': 17448, 'luster': 26156, '▁conjunction': 13274, '▁Competition': 15571, '▁sec': 4220, '▁Angst': 20606, 'the': 532, 'oase': 4722, '▁ST': 5097, '▁lumi': 18734, 'lock': 4029, 'blanc': 23977, 'AMS': 25346, '▁întreag': 17076, 'NAT': 25271, '▁nearly': 2111, 'enţă': 17319, '▁All': 432, 'leigh': 23260, '▁întâmpl': 25282, '▁settle': 8955, 'parfaitement': 17380, '▁plante': 11559, '▁Persian': 25518, 'billed': 26438, '▁wise': 7624, '▁Tho': 25230, 'NGOs': 27606, '▁Chan': 12402, '▁strategic': 4519, '▁sănătos': 31004, '▁stylist': 22308, '▁Omaha': 29518, 'rash': 12380, '▁ulei': 10448, '▁convert': 5755, '▁freelance': 14823, '▁questionnaire': 19144, '▁avant': 2885, '▁attacking': 20550, 'Flüchtling': 25283, '▁Pediatric': 25740, 'viction': 29797, '▁găzdui': 30654, 'Hôtel': 29259, '▁identity': 4810, '▁VW': 22729, '▁claimed': 7760, 'einander': 10517, '▁ein': 236, 'Pourquoi': 17409, '▁sensibil': 11353, 'rax': 25513, 'nterdisciplinary': 25503, '▁Warner': 20055, '▁libre': 11205, '▁oyster': 26716, 'BIT': 26417, 'nhof': 19216, '▁99': 12185, '▁chap': 15064, '▁Photo': 5810, '▁gains': 11391, '▁siguranta': 13415, '▁Manhattan': 15630, 'coala': 14666, '▁befinde': 12839, '▁Polish': 16073, '▁mobilis': 22609, 'QU': 16892, '▁researched': 24172, '▁constructii': 30091, 'izată': 20257, '▁scuz': 30402, '▁influenza': 31924, '▁options': 931, '▁leverage': 11531, '▁turtle': 29151, 'ма': 20447, '▁John': 1079, '▁ladies': 10989, '▁recover': 8303, '▁cycles': 15164, 'sanct': 21879, '▁Producer': 25348, 'sion': 1938, 'mel': 2341, 'nov': 5326, '▁printing': 5361, '▁indicates': 9379, 'kraft': 11326, 'VP': 11527, '▁Vall': 21131, '▁chairs': 6406, 'stroke': 24790, 'mos': 3972, '▁Circuit': 17007, '▁glatt': 29531, '▁penalty': 10736, '▁conceptual': 17428, 'pertaining': 20651, '▁Bobby': 21395, '▁oils': 10229, 'computer': 25750, 'arbeitete': 31707, '▁Bucuresti': 9435, 'şi': 1816, '▁boug': 25818, '▁erinnern': 25902, '▁transparency': 13567, '▁Versand': 18211, '▁kill': 5781, 'läuft': 15241, '▁teammates': 24558, '▁intermittent': 27688, 'erviciului': 27065, '▁hopes': 7511, 'oku': 18512, '▁Conclusion': 29197, '▁aggr': 27778, 'aus': 2064, '▁alimentare': 20097, '▁positiv': 19897, 'ragged': 28581, '▁subtil': 25387, 'NI': 6197, '▁crore': 23095, '▁Unser': 10697, 'Napoca': 22485, '▁réservé': 28341, 'ința': 17312, 'integrating': 20030, 'EAT': 21613, '▁hockey': 16528, 'APA': 23649, '▁partner': 2397, '▁Lisbon': 28928, '▁mașin': 16654, '▁gateway': 17090, '▁autorisé': 27309, '▁Radio': 5061, '▁skirt': 11028, 'wandel': 18980, '▁Felix': 23354, '▁Columbia': 8183, '▁broadband': 19276, '▁promotional': 11074, 'Exactly': 27888, '▁accident': 3125, '▁Max': 5370, 'tab': 10309, '▁consomm': 23090, 'plain': 18689, 'veraging': 23980, 'preventing': 13494, '▁save': 1097, 'vous': 3249, '▁Watt': 18017, '▁amazon': 18861, '▁Coaching': 19767, 'fraction': 22513, '▁saucepan': 25986, '▁jewelry': 8064, 'mitten': 20348, '▁strengthen': 8726, '▁camps': 15926, 'essor': 24901, '▁bumbac': 31128, '▁standpoint': 28628, 'man': 348, '▁publication': 5707, 'letzten': 5802, 'problem': 19307, '▁eyebrow': 27721, '▁réel': 17977, '▁Objective': 27919, '▁Boeing': 21430, 'effizient': 21445, '▁identificare': 28159, '▁Clark': 8265, '▁Dumpster': 12101, '▁Reich': 13875, 'prinde': 17667, 'hair': 19176, '▁prest': 11504, '▁direct': 1223, '▁seeking': 3945, 'tement': 14820, '▁expectation': 18775, '▁adăug': 27851, '▁fraîche': 31263, '▁truck': 4072, 'rotary': 26776, '▁jocuri': 14358, 'oară': 15271, '▁stores': 3253, '▁AL': 8761, '▁devine': 15553, '▁locul': 6787, '▁reservations': 17653, '▁pitcher': 20034, '▁Village': 7305, '▁opposition': 8263, '▁déjà': 4315, 'kins': 7815, '▁Hyderabad': 26660, 'including': 5751, '▁Advent': 21333, 'optimiser': 30571, '▁Gast': 13234, '▁primitive': 26322, '▁Turkey': 9299, 'troph': 14618, '▁physician': 10027, 'tler': 14539, '▁mill': 3293, '▁production': 999, '▁(20': 17543, '▁Derek': 26004, '▁excursi': 20566, '▁radiant': 26305, '▁mercury': 29991, '▁unul': 4103, '▁watercolor': 27610, '▁counselling': 28198, '▁Besuch': 13352, '▁Dis': 2678, '▁delete': 9268, '▁shown': 2008, '▁heavily': 8672, '▁rubbish': 22641, '0.7': 22426, '▁Years': 13825, '▁asylum': 27118, 'artiste': 20591, 'East': 25235, '▁AND': 3430, '▁Marie': 9541, 'phospho': 19787, 'listen': 20368, 'ked': 5100, '▁scent': 13822, '▁Abraham': 18240, '▁wire': 4107, '▁substitute': 11608, '▁dis': 1028, '▁substantially': 15284, 'MU': 9696, '▁Anzahl': 19167, '▁compus': 24928, 'Projekt': 29465, 'ran': 2002, '▁critic': 6800, 'gă': 7790, 'SPEC': 20452, 'iller': 7613, '▁belle': 6030, '▁crafting': 21997, '▁Pierre': 11867, '▁București': 12557, '▁Promise': 28844, '▁insurance': 958, '▁from': 45, 'NBC': 15829, '▁talks': 6927, 'location': 14836, 'lauf': 7832, '▁decreased': 13665, '▁reprend': 31076, '▁bounce': 14956, '▁PM': 3246, '▁bumper': 23924, '▁desfăşur': 23743, '▁captive': 28821, '▁starting': 1684, '▁existe': 10479, '▁rosii': 28149, 'ated': 920, '▁medal': 9365, '▁faith': 3251, '▁stimul': 12682, '▁Sink': 26560, 'Audible': 31575, 'factor': 17899, '▁Companies': 11239, '▁Friendly': 27105, '264': 26755, 'steuer': 11199, '▁rich': 2354, '▁proast': 30263, 'hall': 11516, '197': 27181, '▁conception': 13061, 'MIT': 12604, '▁fun': 694, '▁suspected': 18024, 'kämpft': 28875, '▁splitting': 28503, '▁suivant': 10125, '▁Outlet': 27713, 'sign': 6732, 'ements': 10420, 'Anlage': 18327, 'ify': 4921, '▁stellt': 9711, '▁Bun': 6100, '▁Candidates': 20763, '▁compressor': 23822, '▁hazards': 20992, 'moitié': 24983, '▁weltweit': 15593, 'LIN': 20931, 'Despite': 4868, '▁dice': 20225, '▁Montessori': 30363, 'heightened': 30714, 'numarul': 17642, '▁hosting': 4434, '▁être': 1359, '▁frequencies': 23446, '▁expose': 14644, '▁upgrading': 21066, '▁reaching': 7232, 'mit': 1538, '▁depăș': 27724, '166': 26811, '▁whole': 829, '▁Introduce': 30600, '▁signal': 3240, 'ARI': 22410, '▁uncertain': 21050, 'UND': 13110, 'sometimes': 28266, '▁dupa': 3045, 'heure': 9419, '6.6': 28833, '▁adecvat': 29238, '▁conçu': 17432, '▁befinden': 19153, 'ember': 18247, '▁eight': 2641, '8,': 11864, '▁Looking': 4878, '113': 20522, '▁producator': 21492, '▁trimite': 19242, '▁Alcohol': 21891, '▁nombre': 6053, '▁Maria': 6538, '▁Marx': 23024, '▁paintings': 9843, '▁ramp': 10785, '▁Society': 3467, '▁grij': 18336, 'alaya': 22858, '▁google': 10283, 'erei': 10340, '990': 26901, '▁publisher': 14859, '▁sought': 7803, '▁Sind': 17542, '▁impact': 1113, '▁NCAA': 20711, '▁exhausted': 21436, '▁Newspaper': 29494, '▁SAP': 14654, '▁traffic': 2117, '▁handheld': 27301, '▁Alle': 4455, '▁equal': 4081, '▁alles': 3532, '▁venture': 6086, 'Leaving': 30046, '▁integer': 30278, '▁Salon': 15739, '▁eaten': 16929, '▁17.': 11030, '▁clips': 16234, '▁Mädchen': 21644, '▁Fat': 11762, '▁Firefox': 19570, 'jor': 12775, '▁Personne': 22833, '▁Jackpot': 29629, '▁devin': 18670, '▁vu': 9056, '▁acele': 10800, '▁finger': 8425, '▁serie': 12480, '▁das': 211, '▁Cristian': 25496, '▁enamel': 26383, '▁65': 7123, '▁erosion': 25971, '▁session': 2363, '▁visiting': 3644, 'cript': 29771, '▁affordability': 29870, '▁Apartament': 31630, '▁sauber': 24007, '▁achievements': 14665, 'titled': 10920, '▁facile': 9912, 'foto': 26370, '▁warming': 14811, '▁router': 13696, 'métiers': 29085, '▁resolved': 13803, '▁vacuum': 10019, '▁vanity': 15847, '<extra_id_79>': 32020, 'prim': 8234, 'tap': 8873, '▁Different': 13936, '▁feeling': 1829, '▁pastra': 26948, 'travel': 25687, 'wort': 8129, '▁Mattress': 28302, 'fusion': 7316, 'AUD': 22711, '▁career': 1415, '▁résist': 22484, '▁smartphone': 5626, '▁poate': 949, '▁nationwide': 12404, '▁later': 865, 'wach': 10674, '▁birth': 3879, '▁latter': 7722, '▁pushing': 9759, 'proprietar': 19453, '▁bench': 8453, 'caractéristiques': 24619, '▁HDMI': 25331, '▁setting': 1898, '▁teacher': 3145, 'involving': 6475, '▁bride': 11738, '174': 27693, '▁Alert': 23951, '▁Pavilion': 27890, '▁produs': 7164, '▁dependent': 8976, 'ffin': 20434, '▁method': 1573, 'gran': 7662, 'anci': 11389, '▁En': 695, '▁poze': 17932, 'ators': 6230, '▁Analyst': 25224, '▁blueprint': 28471, 'ish': 1273, 'sigură': 31470, '▁examined': 14650, '▁design': 408, '▁Werk': 10373, '▁freight': 17746, '▁result': 741, '▁lets': 8857, '▁Zealand': 5725, '▁edit': 4777, 'schirm': 27912, '▁kon': 10447, 'grija': 21413, '▁conquer': 24025, '---': 14817, '▁Advance': 18377, 'ließen': 21586, '▁Dank': 9458, '▁28,': 13719, '12%': 26821, 'israel': 30178, '▁economically': 24367, '▁kontrolliert': 29222, '▁siguranță': 23771, 'mm': 635, '▁designer': 4378, 'AC': 5173, '▁Amy': 13349, 'Atunci': 16527, '▁1000': 5580, '▁Level': 7166, '▁tubes': 17927, 'Legea': 20009, '▁resume': 4258, 'dose': 12051, 'contacting': 22094, '▁seule': 10534, '▁American': 797, 'ATS': 23377, '▁Integr': 15923, '▁femme': 9597, '▁pointed': 8744, '▁overwhelming': 11316, '▁Sänger': 30324, '▁depuis': 2873, '▁Starting': 14362, '▁contractual': 20032, 'tile': 8806, 'dulci': 26227, 'rat': 1795, '▁confusion': 12413, '▁Aktion': 18847, 'vac': 8938, '▁Vielfalt': 27579, 'A': 188, '▁Ca': 1336, '▁contrary': 15943, '▁șans': 26931, '▁shareholder': 26715, '▁Volkswagen': 19080, '▁Possible': 29403, '▁Iron': 9046, 'acești': 23811, '▁damaging': 18488, '▁beraten': 19860, 'gegangen': 16416, '▁sadness': 24784, '▁(9': 14156, '▁speculation': 22547, '▁classic': 2431, 'some': 5529, '▁entirely': 4585, '▁Jessica': 16908, '▁plugin': 7339, '▁concrete': 4427, '▁vest': 12646, '▁équipements': 24795, '▁shower': 2898, '▁Join': 5279, '▁longue': 12280, 'tausch': 22701, '▁terms': 1353, 'ICO': 16797, 'resistant': 17835, 'voy': 9845, '▁conspiracy': 25662, '▁WHAT': 21665, '▁February': 2083, '▁Band': 4483, '▁Elephant': 29078, '▁einzige': 15082, '▁stable': 5711, '▁incearca': 29824, '▁Mikro': 22930, '▁algorithm': 12628, '▁sollten': 6905, '▁shutter': 18094, '▁multicultural': 29142, '▁blogger': 14837, '▁were': 130, '▁straight': 2541, '▁carte': 3329, '▁Blue': 2419, '▁sending': 5657, 'innen': 4015, 'breathable': 30147, '▁feels': 4227, 'décrit': 29188, '▁garden': 2004, '▁Laurie': 29935, '▁pouss': 16832, '▁cuvinte': 11528, 'DA': 4296, '▁Compatible': 31879, 'rmând': 28864, '▁Ashley': 20067, 'ggy': 9559, 'around': 15590, '▁replenish': 30064, '▁mixed': 4838, '▁Quartz': 30062, '▁gross': 8690, '▁tenu': 17636, 'ation': 257, 'div': 8481, '▁(2011)': 25163, '▁1/4': 13004, '<extra_id_87>': 32012, '▁écologique': 26708, '▁uncertainty': 14068, 'ele': 400, '▁singur': 8415, '▁utilizat': 11032, '▁2000': 2766, '▁USA': 2312, '▁metres': 14604, 'auer': 12668, 'schaffen': 10514, '▁Prezent': 30694, '▁pupils': 14614, 'Anschließend': 26916, 'emia': 11658, 'organising': 27172, 'glazed': 23700, '▁pros': 7796, 'gina': 19604, 'app': 3096, '▁vivant': 21424, 'geschickt': 28579, '▁violat': 27857, '▁Covenant': 29141, '▁geben': 6314, '▁quarterback': 20134, 'dur': 13629, '▁Komm': 8685, 'ference': 11788, '▁Gandhi': 27056, '▁sharing': 2178, 'registering': 23455, 'ral': 4900, '▁Council': 2063, 'EUR': 26296, 'stabilirea': 29383, '62': 4056, '▁aranj': 28439, '▁Hinweis': 15515, '▁Wirtschafts': 18209, '▁acord': 7391, '▁kitchen': 1228, '▁republic': 20237, '▁Berg': 5581, '▁backing': 16057, '▁quantities': 16274, '▁électronique': 19110, '▁Stand': 7351, 'NS': 7369, '▁sollen': 9225, 'area': 498, '1.': 5411, '▁Suceava': 25150, '▁Mun': 9810, '▁garanteaz': 31982, '▁Family': 3712, '▁evit': 13988, '▁sarcina': 26326, 'cou': 3422, 'magazin': 10835, '▁stroke': 9529, '▁belt': 6782, '▁gown': 19879, '▁Porter': 23091, 'Google': 27776, '▁disturbance': 25595, '▁Passion': 21924, 'TS': 4578, '▁originated': 23809, '▁Centr': 17402, '▁Wales': 10256, '▁UN': 4417, '▁Cab': 10916, 'withstand': 23361, 'chir': 11727, '▁Aberdeen': 28192, 'CLASS': 31598, '▁fracture': 16898, '▁Literatur': 15019, '▁generally': 2389, 'cellular': 10791, '<extra_id_89>': 32010, '▁Boden': 11170, 'AIL': 22862, '▁stick': 4372, '▁Eric': 6964, '▁capable': 3919, '▁entièrement': 21080, '▁Whale': 30300, 'Democrat': 19679, '▁wreck': 21146, '▁singer': 7634, '▁actions': 2874, 'ităţii': 10196, '▁Jaw': 19666, '▁dressed': 13205, '▁corpului': 22124, '340': 21129, '▁secured': 10774, 'pipe': 24251, 'Anti': 27355, 'AIDS': 20033, 'bürger': 23391, '▁Astro': 15001, '▁Instagram': 4601, '▁patterns': 4264, 'lustig': 27609, '▁Each': 1698, '▁fascination': 30135, '!!!': 3158, '▁marques': 16577, '▁travaillé': 27952, 'bursting': 30572, 'UV': 23327, '▁Vatican': 25770, 'Custom': 30067, '▁literal': 26998, '▁occurred': 6935, 'occurrence': 16526, '▁thermal': 11499, '▁Tube': 21488, '▁Cincinnati': 20862, '▁developer': 7523, 'ster': 1370, 'ISE': 19056, 'Figure': 16691, '▁duck': 14938, '▁chauffage': 21024, '▁offen': 10883, '▁regelmäßig': 12383, 'maßnahmen': 26540, 'wan': 3877, 'atifs': 21033, '▁Pete': 19786, '▁sèche': 28794, '▁creatures': 14231, 'netz': 13181, '▁inceput': 9985, '▁scientifique': 17513, '▁rejet': 28850, 'M': 329, '▁Fitzgerald': 31528, '▁Found': 18961, '▁assortment': 19075, '▁Conversation': 28941, 'mont': 4662, 'AT': 5767, '▁Train': 15059, 'packed': 23240, 'träglich': 25878, '▁activate': 8195, '▁fees': 3051, 'er': 49, '▁Magnetic': 29648, 'cino': 21919, '▁culoare': 12083, 'impl': 10296, '47': 4177, '▁unique': 775, 'Global': 31190, '▁glide': 26537, '▁noi': 1746, 'unité': 23981, '▁makeup': 9244, '▁Christopher': 14702, '▁adversar': 23210, 'weight': 9378, '▁pollutants': 30040, 'Alex': 27280, '▁vollständig': 18877, 'épisode': 24349, '▁Jung': 9383, '▁breeze': 15825, '▁homepage': 22844, '▁entlang': 23628, 'ecția': 26155, '▁due': 788, 'ători': 10053, '▁replied': 18606, 'schätze': 23388, '▁Edit': 11664, 'leicht': 25521, '▁Gluten': 30843, '▁limits': 6790, '▁(\"': 13308, '▁trup': 14045, '▁Caroline': 21753, 'MAG': 22074, '▁junge': 16815, '▁Valeri': 25996, '▁Nissan': 19026, '▁elections': 9768, '_______': 22319, 'leben': 8766, '▁Gor': 9826, 'deciding': 12053, '▁Sud': 9010, 'ways': 6415, '▁mixture': 4989, '▁actuelle': 22634, '▁Slip': 26643, 'ste': 849, '▁Azure': 21808, '▁Je': 1022, 'DOC': 26472, '▁mitigate': 21002, '▁Dorf': 21750, '▁Nicole': 18063, 'note': 7977, '▁citizens': 5169, '▁Tai': 17612, 'winning': 8163, 'geschäft': 18788, 'laut': 28734, 'commanded': 31583, '▁Iowa': 12034, '▁removable': 22876, '▁exp': 8116, '▁assign': 12317, '▁Thi': 11988, '▁inclined': 22868, '▁goodbye': 23281, 'ner': 687, 'Institut': 9496, '▁însă': 5601, 'disp': 10475, '▁potato': 14741, '▁Plan': 2926, '▁$4': 7514, 'rise': 7854, 'stöbern': 31532, '▁explicitly': 21119, '▁tropical': 10468, '▁Olympics': 17793, '▁deutlich': 7917, '▁muzica': 12951, '▁Bear': 9034, '▁hoping': 6055, '▁remix': 26063, '▁FM': 13409, '▁investigated': 18277, '▁soap': 10758, '▁Iraq': 7457, '▁categories': 5897, '▁Artist': 9152, '▁Reserve': 9473, 'BD': 14594, '▁Ceci': 21937, '▁surrounding': 3825, '▁becomes': 2992, 'connaissent': 31233, '▁MasterCard': 29791, '▁intelectual': 27596, 'e': 15, '▁podcast': 8661, '▁ressources': 17126, '▁goût': 14336, '▁judiciar': 23583, '▁Yo': 6545, 'ificat': 7541, 'up': 413, '▁Anregung': 31198, '▁south': 3414, '▁Schönheit': 29476, '▁Admission': 22100, '07': 4560, '510': 25926, '▁slippery': 31071, '▁verwenden': 14155, '▁met': 1736, '▁reality': 2669, '▁artists': 3153, 'Alpes': 27548, 'volution': 24817, '▁Glass': 7642, '▁utilization': 21961, '▁bacon': 15725, '▁Register': 12306, 'erson': 13515, '▁Apostol': 29897, '▁vanzare': 24917, '▁didn': 737, 'ppy': 9632, '▁oval': 17986, '▁Vas': 12379, '▁crying': 20621, '▁Beaver': 28148, '▁commitment': 3148, '▁tema': 17922, '▁worried': 9220, '▁încercat': 25807, '▁Nicolas': 18817, '▁exquisite': 17356, '▁prints': 11384, '▁Vezi': 26535, '▁fellowship': 17053, 'platte': 13639, 'geboten': 29460, '▁Snyder': 31067, '▁Pull': 17039, '▁rotating': 22107, '▁orasului': 28069, 'zeitlich': 26559, '▁coursework': 27053, '▁Knox': 25649, '▁conscience': 15724, 'prompted': 18797, '▁winners': 8969, 'ost': 3481, '▁phrase': 9261, '▁attitudes': 18537, 'atom': 10432, '▁tribe': 14430, '▁Foot': 15213, '▁Kaz': 26094, '▁excerpt': 29603, '▁Record': 11392, '▁Security': 3684, '▁Gilbert': 24378, '▁alimentar': 27555, 'schw': 5472, '▁skincare': 26309, '▁imposé': 30835, '▁gentleman': 26266, '▁impairment': 22018, 'putting': 3131, '▁arsenal': 29733, '▁respectful': 22542, '▁much': 231, 'beim': 2683, '▁Josh': 14136, 'venue': 15098, '▁istoric': 15185, '650': 15348, '▁healthy': 1695, 'writer': 12756, '▁fortune': 13462, '▁70%': 14719, '▁Trink': 25820, '▁pianist': 25459, 'ashi': 17155, '▁Sauce': 25803, '▁autoritati': 29497, '▁stubborn': 26629, '▁virtuelle': 25405, '▁revenues': 14609, '▁masterpiece': 20975, 'athon': 24718, '▁1972': 16583, '▁cancel': 9179, '▁supernatural': 28280, 'ambiance': 15145, '▁cart': 6998, 'zentrum': 16476, '129': 22174, '▁internally': 22533, '▁celebrities': 20076, '▁wechseln': 25177, '▁lantern': 24167, '▁leider': 10868, 'demonstrating': 20968, '▁physically': 10034, 'slipped': 25951, '▁boom': 13997, 'dire': 10258, '▁Enter': 10083, '▁shore': 10433, 'WI': 16785, '▁eine': 266, '▁Blind': 21465, 'natural': 14884, '▁Dortmund': 24599, '▁judecător': 25100, 'your': 13055, '▁billet': 23451, '▁selective': 20459, '▁Organic': 15045, '▁aleg': 19498, 'Karte': 17336, 'nch': 5457, '▁doigt': 26902, '▁kiss': 17387, '▁Valentin': 22606, '▁Grace': 12254, '▁Statement': 16836, '▁spear': 23887, '▁charitable': 18533, '▁adding': 2651, 'VI': 7765, 'boat': 14131, '▁Held': 26099, '▁Ortodox': 28424, '▁curriculum': 7850, '▁easiest': 11926, 'stufe': 20073, 'Site': 26030, '▁dancing': 10410, 'Submitted': 31360, '▁monthly': 3718, 'utton': 12499, '▁fais': 14692, '▁biased': 30026, 'ées': 1325, '▁performant': 13633, '▁hope': 897, '▁Locat': 29315, '▁bisher': 10254, '▁velocity': 22924, '▁Pala': 14294, '▁bacteria': 8710, 'usement': 12431, 'surpassed': 26452, '▁wastewater': 28735, '▁Ford': 5222, '▁chop': 17539, 'decken': 23445, '▁card': 895, 'ţilor': 12844, '▁concepts': 6085, '▁fonctionnement': 18353, 'ède': 20724, 'lash': 8058, '▁imperi': 19896, 'dotted': 29521, '▁acţiune': 30528, '▁CON': 8472, 'rben': 10222, '63': 3891, '▁Tennis': 18539, 'brewing': 24702, '▁World': 1150, '▁suspect': 6220, '▁acquire': 7464, '▁respond': 3531, '▁pledge': 15387, '▁conséquent': 27134, '▁Rafael': 29715, 'Präsident': 20962, 'addressing': 14198, '▁Bubble': 30153, '▁looking': 479, '▁besitzen': 28201, '▁staple': 15152, '▁terrasse': 18657, '▁Miss': 5964, '▁cybersecurity': 28684, '3.1': 18495, '▁astronaut': 30059, 'seitig': 13584, '▁expliqué': 31175, 'у': 3700, '▁ingrijire': 31468, 'mplă': 25909, '▁overwhelm': 31536, '▁ME': 7934, 'brach': 29043, 'ubi': 8371, 'LA': 4569, 'acted': 9925, 'hört': 20740, '▁Oriental': 27401, '▁question': 822, '▁profondeur': 27618, '▁persons': 7609, '▁bemüh': 31155, '▁spéciale': 20630, '<extra_id_97>': 32002, 'karten': 20175, '▁Repair': 7057, 'ray': 2866, '▁unde': 3550, '▁baked': 13635, '▁pants': 12792, '▁Packaging': 28697, '▁clar': 6860, '▁schnell': 3942, 'emprunt': 25889, '▁erklären': 24728, '▁10': 335, 'langen': 11265, '▁theme': 3800, 'ying': 8149, '▁Madame': 27328, '▁Menschen': 2694, 'ALS': 20525, '▁portion': 4149, 'paramètres': 30660, '▁Satellite': 24552, 'rugs': 22024, '▁upgrades': 15694, '▁eröffnet': 25104, 'round': 7775, 'echt': 12041, '▁Tür': 12087, 'Symbol': 18650, '▁calatori': 21308, '▁panorama': 26936, '▁1936': 27598, 'benz': 19738, 'schied': 15103, '▁Position': 14258, '▁derzeit': 15322, '▁Native': 13424, 'lay': 5595, '▁Chart': 15054, '▁vendredi': 17438, '▁Collaboration': 30438, 'rang': 6287, '▁Jim': 6006, '▁assets': 4089, '▁Lloyd': 21847, '▁rocket': 15721, 'vremea': 22817, '▁liebe': 23803, 'shingles': 29673, '6-7': 25302, '▁fruct': 24212, '▁substrate': 17019, 'fulness': 18154, 'exploitation': 14475, '121': 22011, '▁Rs': 11715, '▁Breakfast': 16014, 'You': 3774, '▁defence': 13613, '▁paint': 2383, '▁jumping': 15539, '▁internal': 3224, '▁Maß': 14680, 'TRO': 22749, 'HO': 6299, 'schmutz': 31877, '▁apărare': 30635, '▁thirty': 12010, 'html': 10500, 'atur': 6010, '[': 6306, '▁HTML': 10706, '▁TR': 11466, '▁outsourcing': 25367, '▁domain': 3303, 'rie': 1753, 'ол': 17674, 'Alb': 25691, '▁Gastgeber': 31678, 'equate': 25875, '▁advised': 10058, 'dürftig': 31945, 'meisterschaft': 29724, 'III': 13671, '▁É': 7983, '▁businesses': 1623, 'downloadable': 29170, 'onset': 26558, '▁copy': 2405, '▁suficient': 13021, '▁Stick': 12422, '▁überprüfen': 30623, '▁personal': 525, 'UTE': 25002, '▁queen': 14915, '▁watch': 1605, 'tim': 2998, '▁electrician': 25674, '▁cancellation': 15565, '▁Paul': 1838, '▁truly': 1892, 'ank': 5979, '▁Rah': 20492, 'atoire': 13511, '▁bucket': 11325, '▁Farbe': 16248, '▁Split': 23575, 'Exista': 27750, '▁particular': 1090, '▁Florian': 27930, 'organisée': 26852, '▁piston': 28688, '▁gelöscht': 31740, '▁reviews': 2456, '▁qualifying': 18002, '▁Crime': 16923, 'drepturile': 25015, '▁feat': 20906, '▁feel': 473, '▁manipulation': 18175, 'bank': 4739, '▁Rebecca': 20570, '▁pool': 2201, '▁bags': 5621, '▁Believe': 22070, '▁Pink': 12070, '▁shop': 1814, '▁thrilling': 24256, '▁Initial': 24418, '▁Rick': 11066, '▁Multiple': 16821, 'stabil': 19614, '▁beans': 8845, '▁weniger': 8679, '▁lemn': 10538, '▁offshore': 16667, '▁penalties': 17524, 'restaurant': 30830, 'ERA': 18888, '▁usturoi': 31236, '▁Meridian': 31457, 'ELE': 16479, 'accessed': 11282, '▁Frieden': 23865, 'aid': 6146, '▁rainfall': 24801, '▁hart': 12479, '▁kicke': 19206, '▁proposed': 4382, '▁Honey': 16354, '▁Chevrolet': 24328, '▁părinți': 24492, 'util': 13780, '▁Ana': 5331, '▁Parmi': 24091, '▁Juni': 12170, 'Industrie': 13568, 'Acesta': 16607, '▁drop': 2328, '▁condo': 9681, '▁headboard': 25250, '▁psychologist': 21782, '▁29': 2838, '▁assured': 9552, '▁noastra': 10922, '▁Quad': 17950, '▁puff': 21105, '▁prevăzut': 22125, '▁[...]': 23296, '▁Deliver': 23691, '▁scaling': 24485, 'migrated': 27467, '▁ensue': 31338, '▁page': 543, '▁Ground': 13908, '▁Este': 2972, 'avand': 13244, '▁ethno': 31065, '▁Pill': 20648, '▁initiative': 6121, '▁component': 3876, '▁8': 505, '▁darf': 10092, 'offre': 15007, '▁bur': 7018, '▁legătur': 15451, 'planung': 25836, 'tätigkeit': 31170, 'fuz': 22845, '▁bake': 11091, 'extending': 16878, '▁Grande': 15940, '▁Lovely': 18467, 'weiterhin': 16694, '▁Taylor': 7909, '▁Rio': 10983, '▁Italy': 5308, '▁vaccine': 12956, 'FT': 6245, '▁Opfer': 25209, '▁hashtag': 25354, 'authored': 23800, 'presently': 25390, 'line': 747, '▁Ent': 4443, '▁pose': 7663, '▁Tipps': 19961, 'avocat': 17200, 'Continuing': 26601, '▁remont': 24006, '▁December': 1882, '▁Freizeit': 20467, 'räumen': 21809, '▁gestion': 6685, '▁contract': 1696, '▁gambling': 9531, '▁Anti': 4066, '▁Culture': 10160, '▁Isle': 19723, '▁cooler': 12796, '▁More': 1537, '▁îmbunătăț': 26295, 'gathered': 9094, 'hot': 10718, '▁replacing': 11906, '▁boss': 7930, '▁Punjab': 27864, '▁hours': 716, '▁arab': 21165, '▁trick': 7873, '▁Accent': 27110, '▁întotdeauna': 22691, 'board': 1976, 'édit': 13117, 'Dacă': 4982, 'motor': 18271, '▁Funeral': 21233, '▁fabric': 3002, '▁Zukunft': 9967, '▁independently': 13971, 'Unless': 14967, '▁reprezentanți': 28263, 'OH': 9195, '.00': 4200, 'informationen': 23308, 'ême': 14523, 'kow': 19855, '▁vulgar': 31648, 'critical': 25863, 'flower': 14923, '▁scratches': 25957, '▁Grand': 2698, '▁shift': 4108, 'möglichst': 15554, 'bourg': 21054, '▁Afghanistan': 13542, '▁prevention': 9793, 'interpreting': 29490, 'ever': 3258, '▁clarification': 28733, 'eed': 6958, '▁gig': 10754, '▁margin': 6346, '▁crossing': 12529, '▁Plug': 24324, 'ches': 2951, '▁viewpoint': 21897, '▁chaussure': 24825, 'lessness': 15543, '▁effect': 1504, 'kim': 19754, 'vir': 5771, 'realizate': 20423, '▁9,': 9902, '▁Vertical': 28057, '▁Rule': 17104, 'run': 4312, '▁Dynamics': 23398, '▁roster': 17727, '▁confrontation': 25704, 'peaks': 25399, '▁Eis': 16988, 'ILL': 10781, 'numite': 30909, '▁till': 6501, 'NB': 14972, '▁échéan': 31962, 'sack': 15525, '▁harmonious': 29938, '▁shutdown': 25245, '▁pamper': 31094, '▁dessert': 7737, '▁mainstream': 12946, 'vic': 7287, '▁rows': 17918, 'y': 63, 'travelled': 21043, 'IP': 4629, '▁comfort': 2115, '▁cinci': 13935, 'STER': 20727, '▁Klassen': 22431, '▁Flag': 17016, '▁explosion': 16813, '▁ménage': 29437, '▁suntem': 9573, '▁Et': 1754, 'genügend': 28078, '▁Pokémon': 21762, '▁type': 686, 'PO': 6618, '▁endorse': 24861, '▁Resume': 9410, '▁(3)': 10153, '▁Gericht': 16419, 'welded': 31461, '▁influenţ': 30454, '▁Bezirks': 29357, '▁talking': 2508, '▁cushion': 14679, '▁Canal': 18565, 'xx': 19230, '▁sportive': 18441, 'ări': 2573, '▁larg': 13332, '▁génér': 10334, '▁molding': 22791, 'DIC': 27447, '▁Ro': 2158, '▁cultural': 2779, '▁bigger': 4038, 'Having': 3985, '▁Wett': 19735, 'aß': 7118, 'irgend': 22401, 'professional': 24318, '▁translation': 7314, '▁nurture': 20564, '▁$35': 25264, '20,000': 13922, 'cearcă': 24880, '▁elevate': 25517, '▁RAM': 12118, '▁incremental': 28351, 'ionat': 8796, '▁Size': 8941, '▁seed': 6677, '▁Snow': 9394, 'determining': 11682, '▁Ernst': 24625, 'е': 1757, 'noch': 12555, '▁ciocolat': 25871, 'QUE': 15367, '▁Tatsache': 27712, '▁Upholster': 31766, '▁located': 1069, '▁extins': 28702, '▁immuno': 17133, 'produced': 29462, '▁bringen': 11703, '▁appealing': 12817, '▁(16': 19198, 'aspiring': 25149, '▁collaborative': 9642, '▁nowhere': 16715, '▁presă': 23807, '▁modelling': 24716, '▁portray': 17611, '▁humorous': 28845, '▁verloren': 20098, '▁Ibrahim': 31368, '▁reminder': 9561, '▁femeie': 20101, '▁playing': 1556, 'iner': 4899, 'HA': 5478, '▁reveal': 6731, '▁Christine': 21110, 'actifs': 26444, '▁nuts': 11446, '▁démarche': 16909, 'ly': 120, '▁carti': 13689, '▁struck': 10056, '▁Degree': 15125, '▁her': 160, 'ü': 1272, '▁в': 8724, '▁imprisonment': 30823, 'même': 7170, '▁noastre': 5599, 'sville': 9727, 'real': 6644, 'article': 8372, 'paket': 27994, 'rust': 9277, '▁Fun': 9259, '▁stâng': 27231, '▁trunk': 17041, '▁besteht': 8962, '▁parking': 3078, '▁meu': 6379, '▁cleaner': 7919, '▁taking': 838, '▁clutch': 19658, '▁tanar': 30697, 'Reg': 17748, '▁Basketball': 21249, 'beutel': 30870, '▁independent': 2547, '▁Criminal': 20383, '▁weapons': 7749, '▁loneliness': 30170, 'Featuring': 18772, '▁Es': 1122, 'mid': 6983, '▁participate': 3716, '▁vente': 7458, '▁marking': 15285, '▁Feier': 21823, 'Plattform': 19625, '▁bucătări': 31055, '▁pharmacist': 26302, '▁systems': 1002, '▁onion': 12909, '▁Ari': 17690, 'gut': 11221, '▁inch': 5913, '▁Hon': 11772, 'polita': 21631, '▁13': 1179, 'lingual': 25207, '▁Choose': 7023, '▁Educational': 19173, '▁Petroleum': 30306, 'ket': 8044, 'dale': 5437, '▁adjustment': 13592, '▁mapping': 14670, 'wide': 6728, '▁teaspoon': 21776, '▁catastrophe': 25334, '▁motor': 2340, '▁facilitate': 6758, '▁Pilot': 17777, 'metoda': 24415, 'distinctly': 31977, '▁augment': 15189, '▁Florida': 2599, '▁reserves': 11222, '▁European': 1611, '▁defendant': 11819, '▁offiziell': 26082, '▁ADHD': 27327, '▁Aspekte': 27487, 'borrowers': 28245, '▁petits': 9892, '▁streamline': 24104, '▁Zeitpunkt': 20470, '▁câştig': 21358, 'apport': 13755, '▁Moderator': 31481, '▁draußen': 31366, 'eignet': 18404, 'Pass': 20192, '▁keeping': 2627, 'party': 8071, '▁flights': 7534, 'arri': 10269, 'rare': 11096, 'ecluded': 28426, '▁Dashboard': 30424, '▁vient': 13798, '130': 21448, 'taking': 14867, '▁umfangreiche': 21396, '▁Drive': 5894, 'Maritime': 24009, '▁corporal': 29475, '▁Hurricane': 19927, '▁Night': 5190, '▁externe': 16731, '▁Therefore': 4063, '▁oferit': 9518, '▁membres': 9584, '▁lightning': 21463, 'accompagnement': 25022, '▁trails': 10583, 'intreaga': 21804, '▁eccentric': 30409, 'ssen': 4932, '▁Va': 2964, '▁Categories': 27475, 'VT': 18645, '▁fonction': 5496, 'important': 21206, 'primarily': 5325, 'vari': 9504, '▁bed': 1953, '▁cousin': 12685, 'appelle': 19654, 'zunehmen': 19395, 'HM': 20611, '▁geography': 25055, '▁vraiment': 7179, '▁Halloween': 8817, '▁echival': 30037, '▁Metropol': 30948, '▁reputation': 4948, '▁Researchers': 23066, '▁Frisch': 29732, '▁seventh': 17353, 'SP': 4274, '▁Prozess': 12857, 'ario': 14414, '▁usual': 4680, 'bike': 15214, '▁ancient': 4913, 'qu': 2436, '▁uitat': 20441, '▁obișnui': 28553, '▁breed': 8885, '▁hallmark': 29777, '▁spaghetti': 30749, '▁cow': 9321, '▁sais': 10010, '▁coaches': 11210, '▁cafe': 6913, 'lied': 15310, '▁Refer': 12250, '▁infant': 9806, '▁brushes': 23159, '▁Sach': 13547, 'uga': 12204, 'lowed': 22411, 'management': 12271, '▁Sac': 22050, '▁less': 705, '▁Training': 4017, '▁Hart': 10498, 'imposed': 16068, '▁numar': 16474, '▁incadr': 31120, '▁Henry': 7780, '▁fired': 12744, '▁parade': 16314, '9,000': 23938, '▁vehicle': 1689, 'luate': 22156, 'rigg': 23983, 'MER': 13098, '▁lacking': 16914, '▁apples': 16981, '8.5': 19253, '▁deploy': 17274, '▁metropolitan': 25233, '▁foto': 14042, '▁Combin': 20578, '▁Visa': 14203, '▁verific': 21521, 'ndererseits': 29655, '▁învăţ': 22733, 'BC': 7645, 'rgic': 26730, 'lansarea': 28160, '▁überraschen': 28904, 'DEA': 25473, '▁assisted': 11752, '▁optimized': 18149, 'stunde': 31743, '▁witnessed': 16903, '▁picked': 4758, '▁hamper': 26395, '▁prior': 1884, 'extinction': 29570, 'coli': 9044, '▁mercredi': 20903, '▁dysfunction': 22330, '▁continually': 11967, 'massif': 30192, '▁haul': 14115, 'Mobile': 22162, 'ils': 1558, 'Univers': 8313, '▁Hay': 8567, 'weisen': 10112, 'teilen': 10307, '▁Fruit': 17764, '▁rhetoric': 23051, 'contabil': 30078, '▁my': 82, '▁Thunder': 18114, '▁you': 25, '470': 27760, '▁boxes': 5598, '▁dump': 11986, '▁award': 2760, '▁CL': 11175, 'MED': 21357, '▁eager': 10876, '▁Royal': 3671, '▁booth': 13620, 'neck': 14694, '▁Doug': 19034, '▁Lord': 2809, '▁referendum': 20037, '▁Sham': 23518, 'Viv': 19600, 'selben': 21821, '▁reside': 14989, 'KT': 24143, 'facilitating': 24962, 'mainly': 4894, '▁2009': 2464, 'Yes': 19739, '▁zuvor': 20882, '▁Equity': 25943, '▁Uruguay': 30758, '▁Sistem': 30767, '▁brusc': 31608, '▁Lecture': 22864, '▁distracted': 23504, 'inflammatory': 15329, '▁narration': 28721, 'Bestimmungen': 30251, 'nuances': 26432, '▁bishop': 25214, '▁understanding': 1705, '▁starter': 11933, 'izing': 2610, '▁vietii': 23910, '▁book': 484, '▁forma': 8066, '▁Walk': 10801, '▁Target': 12615, '▁Lau': 18465, 'Ich': 17760, '▁cas': 1990, '▁solved': 16384, '▁montrer': 24311, 'collaborating': 25118, '▁lipsit': 25999, '▁Economics': 17157, '▁Independent': 14092, '▁Director': 2578, 'complexities': 30556, '▁lightweight': 10182, '▁laundering': 31961, '▁tiles': 10426, '▁vorne': 27429, 'composing': 23278, '▁Player': 12387, '▁goes': 1550, '▁sweet': 2093, '▁planted': 15359, '▁invit': 9140, '▁attraction': 13715, '▁Seed': 17700, '▁credible': 25337, '▁sustained': 14399, '▁când': 2308, '▁Kentucky': 13401, '▁comfortably': 17540, '▁erweitern': 31537, '▁Umwelt': 14349, '▁€': 3416, '▁Kom': 5837, 'para': 6583, 'expression': 20940, 'filtration': 18974, '▁Turnier': 25891, 'gro': 3844, 'trap': 16081, '.05.': 24029, '▁Norway': 16491, 'dependent': 17631, '▁Liverpool': 15131, 'pack': 5745, '▁attempts': 9048, '▁repar': 12243, 'ărilor': 16614, 'hafen': 31425, 'acupunctur': 24994, '▁supports': 4951, '▁Pot': 7995, 'ților': 13417, 'stayed': 8070, '▁posture': 16771, '▁perform': 1912, '▁neglect': 18339, '▁Vermieter': 29524, '▁dépasse': 24142, '▁Progress': 24583, '▁précisément': 30912, '▁Inside': 9014, '▁moment': 798, 'CY': 17063, 'rado': 19042, 'ECO': 20482, '▁Teig': 28763, 'cosm': 15790, '▁Fed': 10803, 'environnement': 8777, '▁Russell': 14010, 'kultur': 21528, '▁abilities': 8075, '▁life': 280, '▁victim': 7584, '▁Gegen': 5959, 'referred': 4822, '▁wound': 9699, '▁Gemüse': 23638, '▁shots': 6562, 'analiză': 31509, 'uk': 1598, '▁Mason': 15924, '▁experiencing': 8154, 'zzle': 15133, '▁accurately': 12700, '▁US': 837, 'cours': 18346, '▁profesionale': 22251, '▁trandafir': 31229, '▁pas': 330, '▁prep': 13422, '▁şedinţ': 28109, 'eille': 15955, '▁réflexion': 21713, 'CI': 3597, 'mals': 11014, '▁Muskel': 25508, '▁cred': 4384, 'kenn': 9376, '▁tug': 30274, '▁influences': 14780, 'OND': 24796, '2-2': 22451, 'vision': 6610, 'rton': 17330, 'cellulose': 29822, '▁crucial': 4462, 'impro': 16260, '▁Ga': 2776, '▁prevede': 26711, 'ki': 2168, '▁Noi': 14445, 'legung': 19123, '▁Ver': 781, '▁windows': 3196, '▁slowly': 5665, '▁400': 4837, 'THER': 21898, '▁Temple': 10999, 'August': 26579, 'effectue': 30265, 'Carlton': 30339, '▁prevalence': 24753, 'assi': 6500, 'metall': 22610, 'disputed': 26986, 'änder': 13142, 'ției': 11307, '▁dessin': 14329, '▁Pyramid': 30237, '▁Alibaba': 29199, '▁janvier': 11186, '▁afternoon': 3742, '▁médecin': 13707, 'EB': 15658, '▁Scottsdale': 31928, 'ţa': 6249, 'cloud': 23742, '▁Lern': 14572, '▁drum': 5253, '▁Philipp': 14253, '▁tricks': 13258, '▁von': 193, '▁descoperi': 19064, 'GW': 20555, '▁integrate': 9162, '▁serpent': 30890, '▁entsprechende': 14805, '▁memoir': 25779, '▁lunch': 3074, '▁Friedrich': 22785, 'ivité': 19707, '▁Press': 3373, 'commun': 18782, '▁relie': 11455, '▁vitesse': 19486, 'gra': 3484, '▁Wann': 22984, '▁currencies': 22628, 'drücken': 24806, '▁lassen': 3363, 'sozialen': 24105, '▁acknowledg': 23780, '<extra_id_63>': 32036, '▁racing': 8191, 'ogue': 12220, '▁verzichten': 27286, '▁indication': 10369, '▁vaccination': 24639, '▁microwave': 13333, '▁Rabbi': 20504, 'Please': 23934, '▁congress': 27197, '▁reached': 3495, '▁Explorer': 15762, '▁scop': 16190, '▁fac': 3257, '▁français': 7244, '▁absolut': 11162, '▁dulce': 23120, 'schauen': 13900, '▁Survey': 11418, 'jemand': 13994, '▁gesund': 27816, '▁școlar': 31254, '▁Pumpkin': 29662, '▁combustibil': 31948, '▁NC': 9187, '▁Description': 7726, 'bul': 6724, 'honneur': 23984, 'faser': 30792, '▁asemenea': 3419, '▁philosophy': 8156, '▁warn': 17640, '▁Forward': 25633, '▁Slice': 30311, '▁Stahl': 22452, '▁detection': 10664, 'warm': 14522, '▁Assess': 28955, 'forward': 26338, '4.0': 15021, '▁mereu': 11034, '▁migrate': 28047, '▁Policies': 30959, '▁Milwaukee': 21140, '▁0.': 4097, '▁plagiarism': 31447, '▁Liefer': 16119, '▁Vet': 20495, '▁flavor': 4887, '▁Federal': 5034, '▁paralel': 29069, '▁Halb': 17972, '▁child': 861, '▁surface': 1774, '▁timber': 14592, '▁cloud': 3126, '▁nutritional': 15027, 'EVER': 22516, '▁cherries': 30681, '▁Rachel': 15868, 'roach': 29590, '▁brought': 1940, '▁simplified': 24687, '▁lesson': 6114, '▁Ri': 2403, '▁infinite': 21045, '▁Ti': 2262, '▁dust': 5784, '▁Într': 24503, '▁télé': 12362, '▁astăzi': 12773, '▁Handwerk': 25783, '▁circul': 9315, '▁overlooked': 20633, 'eigenen': 5758, '▁impressive': 4423, '▁zilele': 16969, '▁manufacturer': 4818, '▁alerg': 17207, '▁Mou': 13640, 'pä': 18676, '▁dés': 8309, '▁Noah': 24384, '▁primavara': 30366, '▁pourtant': 18164, '5.6': 25134, '▁LCD': 15462, '▁Aufbau': 22523, 'tension': 13177, 'medizin': 25940, 'geb': 13047, '▁Evil': 26567, '79': 4440, 'lei': 4460, '▁Gruppen': 15155, 'build': 16422, '▁dienen': 24673, '▁Pope': 17384, 'erode': 29145, 'anno': 24889, '▁Recreation': 24121, '▁behandeln': 30494, '▁benchmark': 15705, '▁Bereich': 5728, '▁FDA': 13648, '▁Backup': 25867, '▁net': 3134, '▁Koch': 16608, '▁Worth': 16990, '’': 22, 'ABILITY': 27474, 'weist': 23368, '▁Président': 22971, 'ARC': 18971, '▁engagiert': 28174, '▁darkness': 14882, 'überwiegend': 30726, '▁believe': 857, '▁Plasma': 31647, 'zip': 13453, '▁Parade': 26042, '▁FIRST': 30085, 'Auto': 16204, '▁robot': 7567, '▁family': 384, '▁Weiter': 14229, '▁checking': 6450, 'ticket': 26639, '▁identified': 4313, 'Service': 15260, '▁librarian': 27533, '▁particles': 14219, '▁negligence': 19360, '▁file': 1042, 'RAD': 21577, '▁tire': 10577, 'cheie': 12686, 'rome': 11956, '▁ganz': 1897, '▁Marc': 10290, '▁simulation': 11108, '▁trekking': 29026, 'schlägt': 31495, '▁prime': 3427, '▁mu': 4035, '▁organ': 3640, 'autres': 3722, '▁cosmetic': 8602, '▁last': 336, '▁roadmap': 28871, '▁leads': 3433, 'elecommunication': 18329, 'term': 1987, 'affin': 18581, '▁brown': 4216, 'text': 6327, '▁wild': 3645, '▁Kni': 16141, '▁Tampa': 18855, '▁Vari': 12928, '▁diminish': 26999, '▁intersect': 27806, 'Max': 21298, '▁unsere': 1324, '▁opt': 3882, '▁Grove': 14643, '▁Col': 3043, '▁titre': 8349, '▁Legal': 11281, '▁critical': 2404, 'iere': 5666, '▁étudié': 31809, '▁contain': 3480, 'Inde': 26267, 'although': 18252, 'JE': 21964, '▁Shower': 17537, 'risto': 17149, '▁drain': 7128, '▁24': 997, '▁Wy': 11314, '▁flying': 7070, 'JS': 23787, '▁yolk': 30321, '▁disregard': 30104, '▁Continental': 24404, '▁login': 11255, '▁neu': 5854, 'fried': 7704, '▁worse': 4131, '▁compagnie': 16653, '▁zest': 25276, '▁ongoing': 4912, '▁Outdoor': 9876, '▁Schweiz': 17759, 'REC': 20921, '▁wage': 11458, '▁Fried': 17561, 'xia': 19838, '▁sunglasses': 22950, 'ruhigen': 31622, 'hen': 3225, 'âme': 24408, '▁Somerset': 27362, '▁stolz': 28152, '▁underground': 13104, '▁vârst': 18014, 'uvre': 6491, '▁pinch': 19785, '▁industria': 24937, 'ONE': 7894, 'MIN': 17684, 'DW': 20293, 'hop': 10776, '▁forum': 5130, '▁Marken': 19695, '▁Polizei': 16483, '▁Indigenous': 25026, '▁Cheese': 21060, 'mechanical': 31564, '▁shopping': 2309, '▁asked': 1380, 'ediglich': 17343, '▁resp': 23259, '▁plates': 9319, '▁conducere': 24327, '▁Jin': 20500, 'acious': 24093, '-22': 16149, '▁bei': 468, '▁Croatia': 19789, '▁quantify': 30389, '▁Buddha': 21554, '▁gelegen': 21471, '▁prescri': 23911, '▁Zürich': 25749, 'intermédiaire': 27926, 'hitter': 29024, '▁halfway': 22653, 'ffer': 7010, 'organiz': 17939, '▁Harold': 28925, 'traction': 10559, '▁Whi': 14883, 'aéroport': 23873, 'Uniunea': 24941, '▁panels': 7065, '▁Cathedral': 19977, 'chete': 17232, 'stehende': 21256, '▁acţiuni': 28781, 'black': 19699, '▁1940': 15830, 'Nevertheless': 13099, '▁Indoor': 25483, 'aimerai': 27660, '▁newspaper': 8468, '▁fill': 14, 'FF': 9089, '▁Patients': 18027, 'UNG': 25158, 'utter': 5108, '▁broadly': 23971, '▁summer': 1248, '▁preserve': 8996, '▁Teresa': 28769, 'measure': 31038, '▁communicate': 4521, '▁lived': 4114, '▁consiste': 14280, '▁barbecue': 17621, 'RIE': 25858, 'fini': 5582, '▁Sie': 292, '▁Vice': 8236, '▁cald': 11934, '▁alternativ': 29016, '▁Point': 4564, 'foreseeable': 31677, '▁Case': 6320, '▁Pun': 18266, '▁Action': 6776, '▁Sweden': 12207, 'aimed': 8287, '▁instinct': 16563, '▁overseas': 10055, '▁furnished': 20680, '▁plus': 303, '▁warehouse': 11625, 'chon': 17128, '▁starts': 3511, '▁grey': 7592, 'linie': 13794, '▁Pocket': 23525, '▁Develop': 24305, 'ăț': 12629, '▁mentoring': 21797, 'bai': 9441, 'sko': 17869, '▁liberté': 18345, '▁struggle': 4393, 'modell': 18520, '▁adorable': 12427, '▁post': 442, '▁girl': 3202, 'zione': 26566, '▁Ble': 11805, '▁Vacation': 24894, '▁milioane': 7350, '▁Hour': 10768, 'eek': 10266, '▁tribute': 14886, 'ifizierung': 29858, '▁Egal': 23581, '▁diskutiert': 30395, 'schuld': 25393, '▁accept': 1845, '▁separate': 2450, '▁History': 5528, '▁Communication': 12788, '▁combinations': 15617, 'Def': 16196, '▁rainbow': 21567, 'DEN': 22284, 'limit': 16488, '▁exhaust': 10685, 'depinde': 24944, '▁1.5': 8613, '▁calculate': 11837, 'covered': 28161, '▁pyramid': 22734, '▁Walker': 13521, '▁workers': 2765, '▁acceptance': 11122, 'hlen': 11286, '▁guard': 4879, '▁kombiniert': 29343, '▁Sohn': 23200, 'which': 3339, '▁islands': 12098, '▁Trouble': 31520, '▁endless': 9590, '▁Christians': 11337, '▁plenty': 2500, '▁Reduce': 18680, '▁demonstrate': 5970, '▁tradui': 25639, 'rast': 20484, 'logic': 20113, '▁résult': 30257, '▁Genehmigung': 31660, '▁60': 1640, '▁dumb': 21562, '▁irritating': 31727, '▁drastic': 27982, 'changing': 12757, '▁Gross': 17969, '▁Yan': 18707, '▁Markt': 8404, '▁larva': 30434, '▁Jam': 11340, 'dig': 5572, '▁1983': 15041, '▁Joshua': 20169, '▁credit': 998, 'moral': 21511, '▁1954': 24970, '▁current': 750, '▁medic': 12781, '▁Broad': 13017, '▁PDF': 3948, 'staff': 26416, 'hong': 23001, '▁27,': 14141, 'üm': 21518, 'method': 23152, '▁out': 91, '▁elsewhere': 8975, 'Quite': 22147, '▁mindset': 15446, '▁strike': 6585, '▁physicians': 13768, '▁suferit': 26001, 'wholesome': 30131, '▁episod': 30446, '▁large': 508, 'K': 439, '▁Further': 9006, '▁judiciaire': 30239, '▁younger': 5868, '▁wines': 10992, '................': 22354, '▁loin': 10490, '▁Out': 3387, 'hnlich': 27723, '▁mammals': 30041, 'MR': 9320, '▁Marine': 7899, '2.': 4416, 'Arg': 16627, 'Sport': 17682, 'ască': 12360, '▁Andrea': 11813, '▁popcorn': 26229, '▁Sanders': 22439, '▁hall': 6358, 'ching': 8509, 'Kandidat': 30303, '▁parfum': 12149, '▁Putin': 18045, '▁teilweise': 19815, '▁compassionate': 21801, '▁Bedingungen': 22732, '▁Ottawa': 19809, '▁bani': 7274, '▁Grau': 28112, '▁compt': 20248, '▁ori': 5322, '▁erinnert': 26938, '▁regime': 10030, 'stände': 14634, 'explo': 9080, '▁consumer': 3733, '▁Camping': 20443, '▁Parlament': 13636, '▁terrible': 9412, 'améliorer': 15563, 'thetic': 17194, 'light': 2242, 'FB': 15586, 'che': 1033, '▁masuri': 29037, 'quel': 4479, '▁shops': 5391, 'IV': 7589, '▁condemn': 24326, 'Immediately': 29167, '▁custody': 16701, '▁state': 538, '▁Mag': 6611, '▁Make': 1796, '▁funnel': 17364, '▁hug': 18233, '▁Absolutely': 20510, 'läufe': 25788, 'unternehmen': 15377, '▁FIG': 11376, '▁challenge': 1921, 'ächtig': 16580, '▁Please': 863, '▁toti': 12144, 'gaining': 11866, 'legi': 8492, '▁Crescent': 31260, '▁documentation': 7192, '▁Affordable': 23641, '▁Gehirn': 31469, '▁Klein': 7349, 'aches': 14693, '▁gerade': 6034, 'Every': 18403, '▁so': 78, 'Search': 25001, 'harmonis': 26850, '▁Vid': 19575, 'issent': 10924, 'pic': 6174, 'behandlung': 29003, 'taux': 11534, '▁songs': 3605, 'sterreich': 12852, 'aba': 8699, 'isse': 3818, 'uß': 6712, '▁historical': 4332, 'just': 4998, '▁Gal': 6084, '▁refus': 17285, '▁boyfriend': 18124, '▁oscil': 22117, '▁ESPN': 25043, '▁Post': 1844, 'meister': 13186, 'cher': 1703, '▁crafts': 11109, '▁versuchen': 21609, '201': 22772, '▁Neil': 17906, '▁sediment': 23474, '▁central': 2069, '▁effet': 4154, '▁cemetery': 26150, '▁unkompliziert': 29094, '▁implies': 18841, 'opi': 15405, '▁tracked': 22679, '▁beacon': 27834, '▁Flight': 16736, 'topped': 12403, '▁familii': 20867, '▁fit': 1400, '▁reproduc': 29103, '▁Cou': 11356, '▁Malawi': 31541, 'ști': 4684, 'ред': 30051, 'OK': 13458, '▁thousand': 7863, '▁poster': 10836, '▁heraus': 8964, '▁discern': 22997, '▁Hier': 3204, '£': 19853, '▁handy': 8198, '▁INC': 16003, '▁Hazard': 29849, 'itinéraire': 31923, '▁manual': 3354, '▁jealous': 23022, 'Medic': 15789, 'nsgesamt': 24509, 'ituated': 29191, 'öl': 7898, '▁Bolivia': 31271, '▁sécurité': 7413, '▁könne': 28504, '▁au': 185, '▁index': 5538, 'bad': 5514, '-8': 6039, '▁incredere': 23106, '▁killer': 14804, '▁activitati': 16251, 'urgence': 16786, 'awning': 29781, '▁backsplash': 30108, 'Télécharger': 21941, '610': 27097, '▁Gesamt': 13347, '▁gleich': 3848, 'SU': 4138, '▁Apply': 11899, '▁actiune': 24866, '▁pronounce': 29786, '▁soleil': 15542, '▁indeed': 5071, '▁tower': 7293, 'Unsere': 9446, 'rö': 9870, 'nett': 10544, '▁Mul': 10094, '▁Singapore': 6243, 'After': 23901, '▁simptome': 24094, '▁paths': 13704, '▁sărbători': 25854, '▁mental': 2550, '▁53': 12210, 'course': 19221, '▁décor': 11780, '▁divine': 13429, '▁Include': 15746, 'calculating': 25956, 'Expert': 29906, '187': 25828, '▁hinter': 7841, 'rois': 25546, 'soient': 14749, '▁pantalon': 27062, '▁Cook': 6176, '▁Derby': 21485, '▁Locksmith': 28959, '▁adus': 14440, 'mü': 9017, 'Mit': 19999, '▁Hor': 6766, '▁risque': 11099, '▁31,': 12074, '▁replacement': 3709, '▁Cafe': 14022, 'lves': 8391, 'până': 3206, '▁foi': 14977, '▁apa': 4938, 'Ensuite': 24056, 'ournée': 24792, 'Per': 12988, '▁schwer': 8937, '▁6.': 4357, '▁serve': 1716, '▁Forum': 5841, '▁functi': 21792, '▁pris': 8060, 'NIC': 18830, 'identifying': 9690, 'pod': 11410, '▁responsabilité': 16439, 'cutaneous': 31904, '▁porni': 17172, '▁See': 1610, '▁PhD': 10360, 'straße': 11271, 'vâr': 21460, '▁limestone': 23725, '▁Nitro': 31466, '▁gained': 6886, 'trade': 16628, '▁stage': 1726, '▁urbain': 23364, '▁Sudan': 21986, '▁Orchestra': 16095, '▁Slide': 21972, 'emphasized': 25472, 'prosecutors': 29905, '▁Gummi': 30641, '▁secular': 24381, 'atch': 14547, 'flavored': 27877, '▁urmari': 28056, 'start': 10208, '2,500': 22092, '630': 26106, 'RI': 5593, '▁villa': 12159, '▁cogn': 23179, '▁swipe': 27665, '▁red': 1131, '▁Microsoft': 2803, 'ţă': 9923, '▁Prices': 16511, 'purchase': 29446, '▁control': 610, '▁investment': 1729, '▁Umsetzung': 21262, '▁personalized': 9354, '▁proceeds': 14942, '▁tread': 24735, '▁threat': 5888, '▁composé': 20797, '▁breakout': 26941, '▁Lunch': 20516, 'Suitable': 27833, 'sectiune': 30513, '▁graffiti': 30196, '▁uns': 1149, '▁Kris': 9375, '▁Ruth': 15874, '▁ministère': 24803, '▁Trevor': 29352, '▁Ell': 15334, '▁golden': 7069, '▁bills': 7200, '▁pregatit': 23480, '▁holders': 14733, 'tail': 5756, '▁viral': 16686, '▁off': 326, '▁coated': 18221, '▁Utility': 29576, '▁Thousand': 27828, 'antes': 8386, 'delivering': 6930, 'zhou': 25303, '▁map': 2828, '▁Entrepreneur': 26696, 'backed': 9485, '▁travers': 5187, 'sexual': 25604, 'ză': 7129, '▁organizations': 2371, '▁target': 2387, 'verständnis': 31499, '▁Trag': 21902, '▁sehen': 6052, 'gna': 11260, '▁II': 2466, '▁mediului': 23515, '▁satisfying': 16156, '▁deduction': 20061, '▁sur': 244, 'civ': 27981, '▁extra': 996, '▁understood': 7571, 'col': 3297, '▁primesc': 28500, '«': 7474, 'vati': 24991, 'weichen': 26468, '▁BIO': 23112, '▁profund': 21352, '▁maxim': 7340, '▁dringend': 30150, '▁Lightning': 26717, '▁radar': 16092, '▁hygiene': 20105, '▁catering': 14825, '▁sword': 16600, '▁introdus': 24762, 'block': 10734, '▁Wool': 19690, '▁metabolic': 22044, '▁1963': 20613, '▁Buffet': 25128, '▁Tel': 10636, '▁Nashville': 17659, '▁silence': 10844, '▁Au': 1957, '▁Emerg': 25579, '▁cuptor': 21421, '▁interpret': 7280, '▁blender': 18942, 'difficultés': 24199, '▁Blog': 5039, 'că': 2223, '▁denied': 11958, '▁Zambia': 28123, '▁encourage': 2454, 'than': 6736, '▁ceramic': 8949, '▁Politic': 14984, '▁urine': 19981, 'Copiii': 30442, 'gres': 11176, '▁radiation': 11423, '▁idées': 18697, '▁aromatic': 25425, 'AV': 6968, 'utz': 9282, 'ară': 4528, '▁implica': 10143, '▁Leon': 13918, '▁adviser': 17013, 'zol': 12423, 'trăiesc': 31689, '▁physique': 11461, 'dan': 3768, '▁Bra': 3497, 'click': 12570, '▁breakfast': 3688, 'bian': 12032, '▁Reform': 18490, '▁minutes': 676, '▁positif': 28181, 'Darren': 29367, 'dik': 23692, '▁Chile': 15428, '▁schools': 2061, '▁upgrade': 5941, 'APS': 28231, '▁coaching': 7052, 'us': 302, '▁churches': 9894, 'luft': 20620, 'mony': 21208, '124': 22504, '▁pricing': 5769, '▁regression': 26625, 'Lumin': 23255, 'naire': 9671, '▁altar': 23509, 'gé': 4020, 'riol': 27953, '▁moving': 1735, 'trakt': 25154, '▁replica': 16455, '▁Montpellier': 30817, '▁Ven': 7281, '▁Batman': 20644, '▁Général': 30955, '▁terminat': 22718, '▁snowboard': 27174, '▁protecți': 23657, '▁Xiaomi': 27002, '▁Kap': 12232, '▁gata': 19975, '▁luxurious': 10680, '▁attachment': 11352, 'BER': 12920, '4-6': 20445, 'hésit': 26431, '▁ultra': 6173, '▁angry': 12603, '▁highly': 1385, '▁brokerage': 26231, 'guter': 24445, '▁provoac': 31309, '▁trip': 1469, '▁commonly': 5871, 'geben': 6186, 'Jubiläum': 30836, '▁unrealistic': 31820, '▁worldwide': 4388, 'ceni': 18778, '▁effort': 1941, '▁alphabet': 20688, '▁beneficii': 20601, '▁billion': 2108, '▁offices': 6036, '▁Nepal': 17029, 'whipped': 26220, 'Leider': 19698, '▁canalisation': 27714, '▁Erfahrungen': 15464, 'composée': 29530, 'eaux': 9063, '▁fabricant': 20027, '▁balloon': 14526, 'ologische': 20957, '▁Potter': 16023, '▁marks': 6784, '▁Cake': 17031, '▁up': 95, 'Compania': 27067, '▁Tradition': 16418, 'music': 22170, '▁properly': 3085, '▁statului': 18910, '▁elevated': 15712, 'ide': 1599, '▁ebay': 22804, 'Cathy': 29769, '▁Bell': 5377, '▁east': 5727, '▁1979': 15393, 'fidelity': 31374, '▁Evidence': 24122, '▁litri': 27991, 'lois': 14970, '▁differentiate': 18231, '▁measures': 3629, 'rick': 5206, '▁Mannschaft': 20403, '▁sports': 2100, 'sili': 10578, '▁compose': 15283, '▁désir': 15756, '▁crème': 20435, '▁Luna': 17687, '▁Fighting': 30979, '▁Sanctuary': 30021, '▁Hotel': 2282, '▁autres': 4167, 'edit': 11272, 'assemblée': 29143, '▁Between': 13095, 'ici': 1294, '▁altul': 21953, 'reclining': 30316, '▁exprimat': 28385, '▁Welsh': 22982, 'ibility': 11102, '▁quartier': 15492, '▁ho': 3534, '▁finished': 2369, '▁christmas': 23997, 'gefühl': 19508, 'MRI': 19045, 'dynamis': 22687, 'grâce': 6160, '▁mounting': 15187, 'Bar': 14851, '▁constitution': 17668, 'ress': 9377, '▁quarterly': 20232, 'maker': 8337, '▁portofoliu': 31674, '▁coherent': 28911, 'trag': 5031, 'izaţi': 28378, '▁Creative': 9470, '7.1': 25059, '▁humaine': 19020, '▁meaning': 2530, '▁tooth': 6290, '▁tribunal': 23698, 'ca': 658, '▁correspondent': 25688, 'gazebo': 29903, 'attention': 25615, '▁Kin': 13070, 'Time': 13368, 'H': 566, 'stärkt': 30961, '▁găsi': 14488, '▁presented': 2569, '▁like': 114, '▁Better': 10855, 'aga': 4711, '▁Hannah': 21412, '▁outdated': 21643, '▁ending': 7784, '▁oferind': 24440, '▁mar': 3157, 'laden': 9514, '▁délai': 14158, '▁amazing': 1237, '▁sprinkle': 14929, '▁diploma': 18320, '▁Karen': 14412, '▁curtains': 15200, 'kin': 2917, '▁moyen': 10121, '▁fixed': 3599, '▁duce': 12438, 'ани': 27616, '▁bracelet': 15073, '▁rabbit': 18383, '▁kids': 1082, '▁Alberta': 19014, 'wig': 14143, '▁1944': 21930, '▁protection': 1711, '▁ausge': 5639, 'und': 1106, '▁criminal': 4336, 'nennt': 30626, 'activité': 7011, '▁throwing': 13049, 'ajungi': 31243, '▁Institution': 14932, '▁Cave': 21722, '▁Department': 1775, '▁footprint': 16630, '▁streng': 29406, 'exist': 12135, '▁Staats': 18199, 'figuring': 18765, '▁slices': 18647, '▁parole': 17782, '▁Natural': 6869, 'ESC': 25067, 'Jahr': 30052, '▁coin': 7485, '▁începe': 14363, '▁forest': 5827, '118': 20056, '▁Investment': 9682, 'lungs': 17454, 'ckle': 19376, 'machen': 21349, '▁desert': 9980, '▁inițial': 31173, '<extra_id_19>': 32080, '▁beef': 9177, 'äst': 18711, 'terrorism': 14389, '▁priced': 10565, '▁upside': 19118, '▁pâr': 31938, 'Z': 956, '▁Complex': 16926, '▁consistently': 8182, '▁candidature': 28709, '▁Instead': 3910, '▁fonctionnalité': 24808, '▁Later': 10511, '5-2': 24279, '▁casting': 16050, '▁Strong': 16366, 'ology': 1863, '▁Har': 3504, '▁wages': 15488, '▁britisch': 31084, '▁Plumbing': 27349, 'bucuria': 30673, '▁Hand': 2263, 'paz': 20118, '▁patience': 11998, '▁automatiquement': 27418, '▁noir': 9691, '▁cutter': 20634, '▁Wirkung': 17242, '▁Honor': 11243, '▁reliabl': 28624, '▁whether': 823, '▁pré': 2811, 'cho': 3995, '▁Programme': 11729, 'unsecured': 31605, '▁Miet': 10727, 'worn': 25237, '▁respectiv': 7032, '▁Burton': 28316, '▁cunoscut': 9432, '▁mutant': 26569, '▁damn': 17227, 'éro': 10633, '▁monitored': 18259, '▁surse': 20130, '▁insotit': 30501, '▁defects': 18370, 'company': 29179, '▁regroup': 21214, '▁faire': 1143, '▁Patienten': 14055, '▁retail': 3549, '▁costumes': 18003, '▁Judeţean': 27378, '▁frightening': 28830, '▁header': 13956, '▁rend': 10580, '▁religieuse': 31899, '▁Short': 7110, '▁stabil': 7856, 'screen': 8527, 'invites': 28339, '▁disciple': 28599, 'hilf': 28164, 'chie': 9781, '▁runs': 3154, 'gemäß': 14002, '▁Sensor': 19078, '▁Collective': 25273, '▁liabilities': 25468, '▁Plum': 26754, '▁erläuter': 29284, '▁glorious': 18020, '▁vine': 6829, '▁singura': 15338, '▁Bernie': 29017, '▁sample': 3106, 'loppy': 29209, 'iţi': 5663, '▁Current': 12892, 'VB': 22086, '▁Headquarters': 31282, '▁problems': 982, '▁equipped': 5005, '▁Fly': 8223, '▁Neck': 25800, '▁Colonel': 29388, 'höchst': 29589, 'cle': 2482, '120': 15518, '▁fördern': 26384, '▁ASAP': 28145, 'enia': 18242, 'proving': 18949, '▁Belize': 28996, '▁monastery': 29592, 'alcool': 14444, '▁variance': 27154, 'Disp': 23664, '▁select': 1738, 'CSA': 24135, '-01': 14772, 'gone': 16967, 'November': 28635, 'bureaux': 30657, '▁tune': 7368, 'lab': 9339, '▁scanner': 19083, '▁humans': 6917, '▁Driving': 19889, '▁restriction': 19841, 'vases': 31776, '▁nurse': 10444, 'Chartered': 28835, '▁downloaded': 11081, '▁scallop': 31140, 'ATION': 8015, 'Green': 22918, '▁Abstract': 20114, 'Produsele': 30759, '▁bereits': 3360, '▁adevărat': 11898, '▁STEM': 22320, 'quaint': 24867, '▁Albany': 27119, 'sheltered': 31805, '▁Genuine': 31442, '▁commence': 9158, '▁consistent': 4700, '▁Positive': 24972, '▁compartment': 17581, 'umbling': 22345, '▁assist': 2094, '▁conditioning': 10760, '▁maritime': 20141, 'ecuring': 17348, 'books': 10467, '▁triste': 24761, '▁holes': 8034, '▁mănânc': 31308, '▁allowed': 2225, '▁commodity': 23070, '▁Pflanzen': 18582, 'control': 15247, 'ständ': 17955, '▁Supplier': 16406, '▁canada': 19343, '▁Cr': 8427, '▁Province': 19573, '▁păstr': 15346, '▁stabilize': 21323, 'COP': 25032, 'öffnet': 29304, 'displaying': 21123, '▁eye': 1580, '▁50%': 5743, '▁văzut': 14516, '▁reçoi': 25954, '▁Eco': 9064, '▁rechtzeitig': 29409, 'Stylish': 31163, 'seront': 6430, 'Where': 25217, 'news': 15808, '▁reuse': 15677, '▁arthritis': 21064, '▁Deck': 10809, '▁maps': 8111, '▁Registration': 13571, '▁footsteps': 29728, '▁research': 585, 'allée': 26013, '▁grateful': 7335, '▁led': 2237, '▁Foreign': 11957, '▁sailing': 16132, '▁officer': 5502, '▁produit': 5789, '▁examples': 4062, 'ţinut': 17697, '▁BO': 10842, '▁temperatura': 22344, '▁Dresden': 25255, '▁triangle': 19938, '▁snack': 11764, '▁Gy': 12109, '▁Lauderdale': 30451, '▁Lifestyle': 26002, '▁Zusätzlich': 22894, '▁Gil': 12798, '▁compétences': 16949, 'corn': 13165, '▁loans': 4724, '▁baz': 7978, '▁selected': 2639, 'berechtigt': 17960, 'Schäden': 26015, 'siehe': 25241, 'ön': 11431, '▁tone': 5739, '4.9': 27336, 'Nicol': 21926, 'opathic': 25216, 'capsul': 30080, '▁wünschen': 19820, '▁embed': 25078, 'if': 99, '▁Facebook': 1376, '▁directed': 6640, '▁maximize': 11072, '▁competencies': 29514, '▁department': 3066, '▁Marius': 26158, 'frequent': 30740, 'Uneori': 31510, '▁mothers': 16449, '▁Server': 5860, '▁Medium': 16938, '▁cod': 10763, 'je': 1924, '▁helps': 1691, '▁homeland': 29686, 'bijoux': 31479, '▁Lawrence': 16617, '▁vindec': 20051, '▁cible': 26666, '▁trucks': 11370, '▁presentations': 9972, '▁Luke': 12020, '▁durability': 12440, '▁Kä': 18585, 'material': 11303, '▁hunger': 18560, '▁ermöglichen': 19333, '▁Till': 22067, '▁Ferguson': 27461, '▁Barack': 20653, '▁treasure': 9336, '▁fața': 18021, 'woke': 18423, '▁raffle': 28711, '▁intercept': 22895, 'date': 5522, '▁Mercedes': 11808, 'lov': 5850, 'have': 7965, '▁holy': 15273, '▁Auswahl': 10234, '▁tehnic': 17775, '▁incubator': 31822, '▁brand': 1056, '▁bundesweit': 31264, '▁Much': 8718, 'größte': 18522, '▁lively': 18399, '▁Alarm': 24920, 'cruci': 22052, '▁surprise': 4158, '▁pitch': 6242, 'ulevard': 26394, 'kk': 8511, '▁mock': 17812, '▁Best': 1648, '▁obţinut': 28425, '▁tornado': 29578, '▁Give': 6434, '▁ca': 212, 'disproportionate': 31350, '▁sei': 4736, '▁reinforce': 19452, '▁Camera': 12148, 'WR': 15472, '▁matrix': 16826, 'Safe': 27437, '▁trimis': 15611, '▁prononc': 28823, '▁relocate': 20069, ',”': 642, '260': 18365, '▁Smash': 31059, '▁avril': 12253, '▁perioada': 4584, '▁Expo': 13471, '▁Bishop': 16098, '▁content': 738, 'Espagne': 27525, 'lucrarea': 30332, '▁Muslims': 16932, '▁camping': 8515, '▁readers': 3962, '▁Wear': 16883, 'ration': 2661, '76': 3959, '▁informed': 4862, '▁motion': 4644, 'phy': 6941, '▁suprem': 15859, '▁copiilor': 13265, '▁dass': 602, 'Plugin': 23232, 'appui': 23883, '▁reference': 2848, '▁frapp': 26050, 'bra': 1939, '▁Minnesota': 9745, '▁references': 9811, '▁Guerre': 28926, '▁papa': 22250, 'Tri': 19310, '▁Sonic': 20419, '▁assistance': 2927, '▁nécessité': 28403, '▁différent': 21174, 'mehr': 14191, '▁Irving': 31102, '▁Dell': 15204, 'part': 2274, 'comparing': 14622, '▁doing': 692, 'HI': 7094, '▁Yoga': 9828, '▁1901': 29360, '▁countryside': 18137, 'BT': 9021, '▁balance': 2109, '▁imperative': 18158, '▁Offer': 11121, '▁flori': 12215, '▁Bac': 13456, '▁sprijin': 9898, '▁coton': 28759, 'plate': 17628, 'découvrez': 30921, '▁doresc': 12055, '▁disappointment': 19142, 'bătut': 29747, 'uer': 7014, '▁sauce': 3837, '▁silicon': 24055, '▁backgrounds': 15902, '▁Bevölkerung': 23749, '▁no': 150, '▁Carr': 11274, '▁favorites': 13127, '▁Probabil': 26185, '▁authenticity': 23833, '▁Lindsay': 30540, '▁Buch': 4675, '▁executed': 13763, '▁vom': 1226, '▁Intelligent': 29439, 'eliminare': 26971, '▁Pour': 1474, '▁drumuri': 26434, 'URL': 21274, '▁journals': 18178, '▁tickets': 3500, '▁devis': 13282, '▁Telekom': 30068, '▁intent': 9508, '▁Masters': 14119, 'fälle': 15410, 'inverse': 23536, 'online': 15846, '▁CNC': 23021, '▁petrec': 13781, '▁Quarter': 17610, 'fecți': 21633, '▁pudding': 25512, 'fection': 17856, '▁words': 1234, '▁Academy': 4702, '▁computer': 1218, '▁heavier': 21648, '▁inlocui': 24359, '▁morning': 1379, '▁Pflege': 11524, '▁Thus': 5309, '▁masque': 28203, '▁Theorie': 27859, 'pton': 11632, '▁front': 851, '▁bleiben': 10268, 'locked': 11863, '▁termin': 12089, '▁répét': 29887, 'zu': 1000, '▁Fahr': 12509, '▁injured': 7532, '▁Ceremony': 31188, '▁homeless': 15876, '▁Certified': 10178, '▁totodat': 26388, '▁bestimmte': 17254, 'USD': 23492, 'border': 24678, 'établir': 25736, 'jun': 6959, '▁Tablet': 14571, '▁input': 3785, '▁William': 4599, 'ffentlich': 24425, '▁phenomena': 24666, 'heed': 24778, '▁discussion': 3071, '▁compete': 5978, 'schritt': 15755, '▁topics': 4064, '▁decade': 5112, '/4': 13572, '▁stimulation': 22935, '▁$400': 28809, '▁Women': 4047, 'Punkten': 29836, '▁palette': 12970, '▁Conditions': 14077, 'Almost': 13283, '▁sinnvoll': 20044, '▁empower': 14223, '▁York': 1060, '▁Zielgruppe': 31227, '▁energetic': 11273, '▁internaţional': 24282, 'mânt': 27741, '▁nisip': 29389, '▁Recruitment': 24255, '▁santé': 7551, '▁pro': 813, '▁gel': 7568, '▁Storage': 10300, 'hir': 9288, '▁seems': 1330, 'uff': 2999, '▁Orleans': 14433, '▁număr': 11833, 'igh': 9031, '▁brauchen': 19203, '▁transaction': 5878, '▁imagery': 18112, '▁Portsmouth': 31696, '▁Spaß': 11672, 'и': 2795, '▁downward': 22032, '▁extract': 5819, '▁Embassy': 26924, '▁Australia': 2051, '▁foc': 13479, '▁produce': 1759, '▁weapon': 10931, '▁Butler': 21742, '▁practic': 6735, '▁organizational': 13477, 'small': 23728, '▁cake': 4340, '▁genießen': 17734, '▁waste': 2670, '▁weird': 10088, 'realizarea': 20553, '/2017': 24396, '▁debut': 5695, '▁indicators': 15600, 'éducation': 19776, 'FER': 20805, '▁cresc': 20049, '▁Hunter': 14046, '▁măsuri': 18998, '▁Roosevelt': 28009, '▁Charles': 5417, 'displaced': 27762, '▁Seriously': 24159, '▁borrow': 14456, '▁cursuri': 21769, '▁suppliers': 6603, '▁pinterest': 21593, 'r': 52, '▁căldur': 31000, '▁showroom': 19458, '▁garment': 15885, '▁nutrients': 12128, 'schläge': 18848, '▁assessed': 14841, 'Ent': 16924, '▁prevented': 19653, 'administration': 20039, '▁nitrogen': 23383, '▁Bark': 24828, 'füllen': 24194, '▁delicious': 3326, 'getragen': 15263, '▁bound': 8120, '▁protégé': 30996, 'Including': 25558, 'hopping': 21714, '▁betting': 10385, '▁socks': 17120, 'advisable': 22468, '▁2.5': 10603, '▁gras': 14951, '▁Em': 3967, '▁tweet': 10657, '▁Opening': 20360, 'weather': 26809, 'ztlich': 28849, 'arth': 10702, '▁rythme': 22419, '▁gek': 22225, '▁Ontario': 9163, '▁mat': 6928, '▁enzyme': 15735, '▁produsul': 21266, 'git': 12651, '▁Bog': 24586, '▁mențin': 27455, '▁fri': 9030, '▁mauvais': 15857, '▁carburant': 31683, '▁unity': 19952, '▁author': 2291, '▁blur': 16810, 'stellte': 20568, '▁miserable': 27293, '▁taxes': 5161, 'corro': 26391, '▁stump': 27879, 'scale': 6649, '▁interests': 3984, '▁phenomenon': 15037, '▁cease': 18682, '▁Hawaiian': 24221, 'aille': 14424, '▁queue': 16150, 'icide': 9440, '▁Recht': 8092, '▁Schmerz': 22066, '▁authorize': 27765, '®': 1732, '▁buffet': 15385, '▁protecţi': 28634, '▁Framework': 20589, '▁muzică': 26552, 'considerare': 28275, '▁fla': 5731, 'October': 28680, 'Admin': 16313, 'estimating': 30739, 'numită': 27102, '▁versucht': 18246, '▁Dokumentation': 31476, '▁economies': 18239, '▁Associates': 14996, '▁maintien': 27041, 'Oricum': 30755, '▁excellence': 8978, 'eşti': 6872, 'ATT': 24642, '▁berühmte': 27601, 'vista': 17493, 'bekannten': 21943, 'Sacred': 24756, '▁frec': 30481, 'lang': 4612, '▁subsidies': 26994, 'Fig': 12286, '▁eure': 20806, '▁ungefähr': 30400, '▁be': 36, '▁October': 1797, '304': 23702, 'Veronica': 31873, '▁manufacture': 9421, '▁Mickey': 26886, '▁Unterkunft': 31061, '▁coming': 1107, 'ulate': 14270, '▁legitimacy': 31841, 'motion': 7259, '▁twelve': 13369, '▁cate': 9624, '▁suffisant': 29059, '▁Datum': 31023, 'Părinte': 30617, '▁strain': 6035, 'production': 20762, '▁span': 8438, '▁manipulate': 23307, '▁man': 388, '▁Medien': 12755, 'steigt': 26770, 'defended': 27431, 'Camere': 31063, '▁Portal': 16290, '▁editing': 8414, '▁population': 2074, '▁incapable': 29176, 'Emmanuel': 20587, '▁@': 3320, '▁Ne': 1484, '▁July': 1718, '▁towns': 11228, 'sprach': 17473, '▁noroc': 21550, '▁resonance': 28914, '▁hunting': 9601, '▁completed': 2012, 'matic': 4992, '<extra_id_91>': 32008, '▁apprenticeship': 28489, '▁gepflegt': 30873, '▁plastique': 21865, 'savvy': 23185, 'moos': 31062, '▁overcome': 8269, '▁fall': 1590, '▁Take': 2321, 'liners': 23558, '▁iluminat': 27840, '▁Lack': 22105, '▁uşor': 25913, '▁preparation': 4537, '▁Spät': 26628, '▁Wachstum': 26273, '▁Jet': 12434, '▁memorial': 15827, '▁1976': 16164, '▁Sno': 25566, '▁beneficiary': 27483, '<extra_id_58>': 32041, 'branche': 21016, '▁plateau': 20839, 'utilisent': 30208, 'fahrt': 8255, 'applique': 16358, 'adresse': 8134, '▁agent': 3102, 'mbo': 6310, 'fehl': 20174, 'wett': 19322, '▁Terrace': 28797, 'rov': 8843, '▁entertainment': 4527, 'nav': 14128, '▁progress': 2188, '▁Technology': 3669, '▁WWII': 29420, '▁Samuel': 15718, '▁traders': 14641, 'impression': 18948, 'Metall': 16659, '▁bathtub': 23835, 'emballage': 30524, 'Take': 29468, '<extra_id_69>': 32030, '▁attempt': 3332, '▁Thor': 10632, '▁crisp': 12008, '▁curte': 24851, 'avec': 20686, '▁handed': 14014, '▁Supplies': 29633, '▁Bean': 17790, '▁representative': 6978, '▁termic': 22620, 'grilled': 19521, 'Added': 18769, '▁équipé': 16472, '▁erwartet': 17802, '▁Vor': 1526, 'bestimmten': 20401, 'luj': 21927, '▁ebenso': 12424, '▁vision': 2267, 'berufliche': 25238, 'Surely': 28186, 'street': 22967, '▁blend': 4764, '▁swap': 15959, '▁damp': 14832, '▁Hä': 13991, 'zeichnung': 15656, 'ETA': 25747, '▁Processing': 19125, '▁accepting': 13643, '▁sad': 6819, '▁cercetări': 27394, 'abide': 24864, 'AMA': 21250, '6,000': 14835, '▁behavioral': 17340, 'AJ': 22356, '21': 2658, '▁pasture': 26126, '01': 4542, '▁Cand': 12959, '▁Mathematics': 23516, '▁cleansing': 21935, '▁detox': 16379, 'notified': 15195, 'schädigung': 30047, '▁handled': 10298, '▁perfekte': 18440, 'judging': 24331, '▁melody': 27832, '▁wiring': 8997, '▁proficient': 26314, 'ENE': 25576, '▁released': 1883, 'gard': 6390, 'star': 3624, '▁9:00': 23239, '▁betreffend': 30941, '▁Booking': 21056, '▁caps': 16753, 'hoc': 24344, '▁vereinbart': 24997, '▁dimensions': 8393, '▁marche': 11660, '▁valve': 9522, '▁beneficial': 6473, 'ția': 5926, '▁nourriture': 30522, '▁parfait': 12981, '▁TOP': 17533, 'dents': 24180, '▁Versicherungs': 24707, '▁Anton': 14407, 'donnant': 28693, '▁petit': 4561, '▁Beamte': 30892, 'rouvent': 30220, '▁borrowing': 24564, '▁détente': 29663, '▁events': 984, '▁Entertainment': 12694, '▁surprised': 5597, 'logged': 13880, 'count': 13362, 'Auswirkungen': 27485, '▁blocked': 12468, '▁garder': 20985, 'people': 16588, '▁laissé': 26124, 'schaft': 3445, '▁fitting': 8213, '▁centuries': 11653, 'RO': 4630, 'isser': 20464, '▁Trek': 20350, '▁Ranking': 29153, '▁serveur': 22752, '▁boys': 5234, '▁weit': 9903, '▁Tea': 8250, '▁Bad': 3862, '▁Fer': 7566, '▁indiferent': 15399, 'family': 15474, '▁Answer': 11801, '▁Volunteer': 15740, 'istischen': 20765, 'füh': 25574, '▁diversité': 28765, '▁Blatt': 30155, 'self': 7703, '▁nevoi': 8856, '▁side': 596, '▁fool': 18554, '▁compliance': 5856, '▁Europe': 1740, '▁retrouv': 21407, 'schlagen': 21832, '▁together': 544, '▁doved': 25603, 'chen': 1559, '▁Zutaten': 28095, '▁Gujarat': 30812, 'grad': 3987, '▁Blogger': 22617, '▁eruption': 31369, '▁Weapon': 30785, '▁Glasgow': 18588, '▁Gonzalez': 31403, '▁evaporate': 31654, '▁Beginning': 22738, '▁slogan': 22031, '▁einzelne': 9451, '▁Süd': 11242, 'ied': 5973, '▁emb': 10960, '▁Menge': 13327, 'EAM': 22684, 'woche': 25837, '▁Canvas': 26237, '▁procè': 29323, 'reich': 4994, '▁Tochter': 23860, '▁profesor': 12952, '▁Thinking': 20273, '▁thoughts': 3376, 'OST': 14464, '▁dictate': 19810, '▁tend': 2134, 'nehm': 13147, 'obtaining': 13134, '▁photographic': 23431, '▁Stadium': 12750, '▁bingo': 26880, '▁voi': 3336, '▁£': 3996, '▁adjustable': 11887, '▁nieder': 25035, 'peak': 14661, 'tal': 1947, '▁zählt': 22422, '▁approximate': 24672, '▁Plaintiff': 30837, '▁printr': 13013, '▁Bel': 5622, '▁matière': 8485, '▁wish': 1663, 'Serv': 17598, 'viziuni': 29455, '▁Motorola': 27209, '▁tablet': 7022, 'alaturi': 17195, '▁sponsors': 16058, '▁Junction': 29092, 'Day': 16803, '▁clean': 1349, 'learning': 20779, '-10': 4536, 'ondo': 17381, '▁dependency': 27804, '▁decorating': 11536, '▁Cour': 13579, '▁unlawful': 25487, '▁Concert': 14948, '▁Diamond': 10834, '▁calorii': 31655, '▁curent': 16389, '▁Telegraph': 31136, '▁trouvé': 15831, '▁sichtbar': 24201, 'aurez': 17424, '▁slip': 7560, '▁Monday': 2089, '▁lipstick': 27406, 'öhr': 30864, '305': 26724, '▁Drain': 15730, '▁farms': 16537, '▁Equ': 25262, 'TF': 9164, 'Recruit': 28454, '▁providing': 1260, '▁poids': 17505, '▁terrifying': 27027, '▁Berufs': 14647, '▁Plastik': 29201, '▁Salt': 11888, 'ical': 1950, '▁optimale': 18484, 'frunt': 21733, 'written': 14973, '▁breeding': 18995, '▁voit': 18509, 'CRA': 24442, '▁illumination': 29450, 'Finder': 26955, 'entrée': 8961, 'steigen': 15544, '▁Nicaragua': 29456, '▁température': 17188, '▁Transportation': 14630, '▁sticla': 26478, '▁zones': 10029, '▁reduction': 4709, '▁Because': 2070, '▁cere': 14486, '▁through': 190, '▁Must': 12021, '▁Café': 18131, '▁cleaned': 12631, 'uter': 10525, '▁sunset': 13744, '▁1500': 15011, '▁inconvenience': 25741, '▁Member': 8541, '▁anzu': 12964, 'valent': 15592, '▁gardens': 9603, '=\"': 17592, '▁tehnice': 21980, '▁verbringen': 28611, '▁associate': 7573, '▁edges': 9804, '▁evenly': 18756, '▁supposed': 5741, '▁descend': 16884, '▁finition': 28732, 'expédi': 28961, '▁braucht': 13545, '▁surtout': 7160, '▁favour': 14499, '▁spät': 19320, 'ffentlichkeit': 25231, '▁shove': 24727, '▁Catch': 22570, '▁reboot': 23184, '▁Arzt': 21271, 'attribution': 28768, '▁described': 3028, '▁option': 1182, '▁intelligence': 6123, '▁case': 495, 'contested': 29365, 'gel': 1803, 'going': 9545, '▁clients': 820, '▁Fil': 6222, '▁Standards': 14451, '▁Leisure': 31896, 'partnered': 19370, '255': 25502, '▁Mentor': 24449, 'azo': 17694, 'effectuer': 18725, '▁folgende': 24818, 'ionism': 28740, '<extra_id_73>': 32026, 'ан': 25873, '▁situatia': 24976, '▁Cor': 2487, '▁grasp': 14304, '▁creature': 19744, '▁lo': 6899, '▁batches': 28956, 'iunea': 7297, 'kunft': 14254, '▁changé': 28262, '▁Annual': 7389, 'qualität': 19634, '▁advocacy': 16830, '▁zilei': 19171, '!!!!': 12887, 'baren': 12141, '▁randomly': 21306, '▁Gang': 17423, '▁Protect': 12714, '▁Frederick': 22705, '530': 26918, 'anchored': 30858, '▁Plate': 14477, '▁equitable': 30364, '▁hardwood': 16106, '▁Arsenal': 22358, '▁Nas': 10571, '▁emisiuni': 30193, 'aktion': 13116, '▁visually': 17307, '▁accessibility': 17275, '▁gaz': 7424, 'newest': 10909, '▁officers': 5803, 'ques': 7771, '▁19.': 9997, 'copy': 15652, 'zuerst': 25706, 'ivity': 10696, '▁Château': 27029, '▁essential': 1832, 'pondere': 31462, '▁voluntary': 18545, '▁Navi': 19261, '▁quality': 463, '▁ausreichend': 19319, '▁featuring': 4767, '▁Anything': 21345, '▁PayPal': 14429, '▁Committee': 3201, 'WOOD': 29637, '▁low': 731, '▁connectivity': 12841, '▁craving': 24267, 'Africa': 29596, '▁dual': 7013, '▁Retail': 14530, '▁Prin': 5636, '▁modification': 12767, 'prüfung': 20673, '▁10%': 6389, 'vacancy': 29685, '▁normally': 4929, '▁overnight': 8521, '▁strings': 18705, '▁Marshall': 17410, 'Grâce': 18551, '▁alimentaire': 20753, 'regain': 20787, '▁signals': 9650, 'grav': 15299, 'grin': 18363, '▁mercy': 20966, '▁dream': 2461, 'schalten': 27017, '▁Thompson': 14653, '▁scores': 7586, '▁Leder': 23573, '▁empfi': 26424, '▁urmat': 13407, 'dru': 17548, '▁Louisiana': 15625, 'seid': 27107, '▁myth': 9735, '▁deliberately': 24067, 'ELL': 12735, '▁fle': 8079, 'bücher': 25887, 'SON': 10466, 'fect': 4075, '▁candle': 14788, '▁remainder': 19321, 'wahren': 28350, '▁Bewegung': 15501, '▁circulation': 11027, '▁innovations': 15858, 'ega': 12029, '▁threats': 11262, 'Russia': 29613, '▁Fleisch': 20045, 'klu': 21355, '▁just': 131, 'ARM': 20291, '▁oatmeal': 30459, 'OA': 16521, 'environ': 19659, '▁principalement': 23433, 'shore': 13303, '▁gone': 2767, '▁hurdle': 23463, 'zzo': 16692, '137': 24636, 'fewer': 10643, '▁VII': 27071, '▁cilantro': 29714, 'regulă': 31955, 'cited': 11675, 'torilor': 10704, '▁Tony': 9137, '▁databases': 16961, '▁limited': 1643, 'ôt': 10470, '▁Mineral': 15684, 'GV': 24403, '▁lender': 15398, '▁generations': 9298, '▁Musical': 22307, '▁superb': 7857, '▁zero': 5733, '▁vibe': 15269, '▁Pascal': 25402, 'effekt': 27112, 'and': 232, '▁eggplant': 30898, '▁Hristos': 18646, 'active': 6645, '▁yeux': 15965, '▁gravel': 20422, '▁jurnalist': 30465, '▁incidence': 20588, 'refundable': 25859, '▁Beethoven': 31401, '12': 2122, '▁descarc': 28081, '▁tag': 7860, 'exemple': 29104, '▁Er': 848, 'а': 2533, '▁Planning': 9557, '▁yeah': 17945, '▁Portrait': 25634, '▁cough': 19222, '▁punished': 31171, 'tină': 29133, '▁Triumph': 30134, '▁mosquito': 22315, '▁flight': 3777, 'produktion': 27839, '▁monatlich': 28438, 'traditional': 26374, 'ski': 4009, 'proclaimed': 28901, '▁snuggl': 30800, '▁yourselves': 28106, '▁scooter': 22685, '▁tension': 7012, 'regulating': 27321, 'oooo': 16780, '▁soluți': 16342, '▁Vis': 13291, '▁noticeable': 20815, '▁onions': 13211, '▁puck': 28992, '▁disput': 24955, '▁simultan': 30445, 'Secondly': 23531, 'ffel': 16387, '▁dagegen': 22788, 'explication': 29734, '▁bucati': 31325, 'quatrième': 31566, '▁renew': 18486, '▁Cyprus': 24734, '▁standards': 2443, '▁Ortho': 18850, '▁feminine': 21546, 'Numai': 28419, '▁familiar': 3324, '▁inainte': 9399, '▁fixing': 16618, '▁Outside': 17857, '▁los': 10381, '▁Fahrzeug': 11786, '▁ausführlich': 24824, '▁conversation': 3634, '▁Ergänzung': 30874, '▁Nou': 14455, '▁Letzte': 28699, '▁Interior': 8226, '▁powerful': 2021, '▁plumbing': 11312, '▁prezentat': 14980, '▁autoturism': 22702, '▁Nico': 23695, '▁Prospect': 24383, '▁passes': 9016, 'to': 235, '▁sine': 12816, '▁precede': 21305, '▁Sciences': 9226, '▁ultraviolet': 31728, '▁Bureau': 10504, '▁spre': 3752, 'izare': 5338, 'damals': 18866, '▁disappointing': 21497, '▁definit': 29226, '▁témoignage': 29068, 'TH': 4611, 'offrir': 14573, '▁grams': 19847, '▁eBook': 20328, '▁Cool': 7823, '▁série': 8187, '▁Congrats': 25305, '▁rail': 6579, '▁Everyone': 6656, '▁This': 100, '▁industry': 681, '▁stakeholders': 10588, '▁creier': 25261, '▁remettr': 28217, '▁Stimmung': 25514, '▁Kiev': 30713, 'schränke': 31164, '▁Treib': 31335, '▁sparkle': 25494, '▁apologize': 22103, 'assemblage': 31907, '▁music': 723, '▁crestin': 30130, 'Claude': 19298, '▁stabili': 20426, 'muster': 26972, '▁obtain': 3442, '▁Rich': 10825, 'ivi': 11687, 'écart': 26645, '1/': 12989, '▁thereafter': 24546, '▁Hum': 12410, '▁Shoot': 20450, '▁around': 300, '▁seconds': 3978, '▁aluminiu': 12645, 'command': 13695, '▁politically': 22937, '▁Kredit': 16920, '▁Ram': 4425, 'insul': 15953, '▁powder': 4926, '▁spati': 19547, 'cepând': 18072, '▁Krankenhaus': 29869, '▁42': 6426, '„': 25526, 'connection': 28102, '▁financial': 981, '▁strig': 28393, '▁accessoires': 23671, '▁afara': 13202, 'steigert': 31939, 'accord': 11067, '▁distr': 18814, '▁promises': 11236, '▁amendment': 12123, '▁senior': 2991, '▁autonomous': 21286, 'née': 8459, 'RED': 13729, '▁explode': 29690, '▁interventions': 14418, '▁texture': 6519, '▁bush': 17907, '▁Menu': 21063, '▁sympa': 17024, '▁Mare': 9749, 'pokesman': 18461, '▁33': 5400, '224': 24622, 'arteries': 31159, '▁scholars': 15120, '▁stand': 1518, 'western': 24411, '▁Golden': 7100, '▁taken': 1026, '▁britanic': 27808, '▁Wände': 30806, 'bonded': 25357, '▁4:30': 29505, 'BA': 4882, '▁championship': 10183, '▁liability': 6283, '▁experiments': 12341, '▁Pe': 1276, 'spi': 7675, 'ROC': 26893, '▁weiß': 7838, '▁caz': 6753, 'dienst': 7691, 'kte': 17959, '▁diary': 25933, '▁putem': 7529, '▁régional': 22305, '▁griev': 20214, 'tien': 15945, '▁Recently': 11757, '▁Lynn': 18932, '▁G': 350, '▁semaines': 17136, '▁sprawl': 28880, 'ENCE': 22614, 'believable': 31733, '▁mal': 1460, 'show': 10049, 'May': 15881, 'felul': 16105, 'Keeping': 18536, 'chief': 20053, 'riad': 17000, 'Bio': 26475, '▁remembered': 14206, 'portrayed': 27486, 'übrigens': 22911, '▁observation': 12556, '▁affected': 4161, '▁Titel': 15891, 'Arch': 23533, '▁parcare': 26194, '▁Gäste': 11681, '▁instruct': 17502, '▁Damage': 26135, '▁Perfect': 7710, '▁saying': 2145, '▁Insul': 22615, '▁cunoaşte': 30477, 'tollen': 22748, 'NAS': 21277, 'organizate': 31007, '▁Trophy': 26912, '▁expectations': 4454, 'eurs': 2598, 'lene': 14205, '▁professeur': 21755, 'losen': 19514, '▁lors': 4692, '▁least': 709, '▁personenbezogen': 14778, '▁Funny': 27364, '▁Norwegian': 21894, '▁Uni': 5645, '▁take': 240, '▁Nutzen': 23986, '▁cellphone': 29417, '▁Serge': 20843, 'Gleichzeitig': 29453, '▁Schon': 18108, '▁closest': 12257, '▁optional': 9042, '▁Education': 2855, '▁landscape': 3283, '▁einen': 595, '▁contacts': 11463, '▁gases': 24436, '▁Anfrage': 23258, 'ohn': 13669, '▁Defense': 13143, '▁exactly': 1776, '▁emerging': 7821, '▁donated': 13207, 'different': 25880, '▁evacuation': 29967, 'exécution': 29626, 'Funktion': 30692, 'Developing': 26985, '▁Arlington': 26119, '▁thinner': 26671, '▁spectateur': 31199, 'scape': 12002, '▁administered': 19092, '▁recommend': 1568, '▁Oklahoma': 12157, '▁fericit': 18437, '▁too': 396, 'Etwa': 29149, '▁astea': 22237, '▁imobiliar': 26978, 'aine': 7043, '▁steam': 7222, '▁Fol': 17919, '▁gain': 2485, 'MT': 7323, '▁begleiten': 27123, '▁alliance': 15454, '▁lodging': 24881, '▁gewählt': 19642, 'л': 6588, 'hus': 11823, '▁architectural': 10900, '▁Eingang': 26148, 'generell': 30852, '▁duty': 5461, '▁alors': 3639, '▁habe': 2010, 'NASDAQ': 28787, 'nig': 7315, 'client': 26693, '▁surround': 14227, '▁Wisdom': 30349, '▁conducător': 31504, '▁üblich': 28421, '▁dégag': 29001, '▁perception': 8136, 'TB': 9041, 'Fab': 17477, '▁Understand': 25647, '▁earthquake': 16145, 'cyan': 27386, 'prezintă': 22258, '70,000': 28891, '▁pass': 1903, '▁conserv': 12205, 'spire': 13101, '▁really': 310, '▁Chat': 9802, 'wiki': 17193, 'fatty': 18053, '▁muscle': 5467, '5-0': 29325, '▁thunder': 26783, 'poziţie': 31531, 'PAL': 28309, '▁brachte': 25490, '▁browsing': 14139, 'giving': 14259, '▁speak': 2516, '▁Link': 7505, 'got': 10779, '▁sehr': 1319, '▁Erst': 9344, 'amazingly': 26589, 'tra': 1313, '▁Condo': 21723, '▁tobacco': 16025, 'embassy': 30973, 'To': 3696, 'RIGHT': 27262, 'zusetzen': 22661, '▁Verkäufer': 29053, '▁applied': 2930, '▁Head': 3642, 'viewed': 4931, 'ized': 1601, '▁vegeta': 19582, '▁clip': 5516, 'personal': 17108, 'omme': 7649, '▁Blick': 7766, 'plete': 29014, '▁McN': 26842, 'padded': 25412, 'astronom': 12466, 'Clearly': 22355, '▁compensation': 6107, '▁pielea': 17329, 'sell': 12019, 'avril': 31371, '▁animal': 2586, '▁Listing': 23592, '▁Barbara': 13163, '1.6': 15062, 'cake': 13192, 'zeci': 15933, '▁Room': 4181, '▁Cine': 17270, 'dev': 9776, '▁Kohl': 16157, '▁Oui': 18926, 'ență': 14271, 'espère': 20768, '▁carton': 17676, '▁Brig': 22965, 'gir': 9427, '▁affiliation': 24405, 'си': 26798, 'schuldig': 30054, '▁Body': 8501, '▁biseric': 11890, '▁St': 472, '▁Solution': 17942, 'isseur': 19081, 'zugleich': 24399, '▁charisma': 27439, 'rumors': 24637, 'dem': 1778, '▁onto': 2400, '177': 26793, 'âche': 28375, 'pressive': 25152, '▁flow': 2537, '▁Te': 2255, '▁mentor': 9380, '▁McG': 13528, '▁3/4': 16672, '▁dogs': 3887, 'ordinateur': 17260, '▁clash': 21500, '▁politice': 21660, '▁indicator': 11169, '▁Functional': 27155, '▁North': 1117, 'frequency': 30989, 'hut': 13985, '▁inutile': 30163, '▁fin': 2202, '▁serviciu': 12747, '▁begrüß': 26683, '▁complètement': 24147, '▁trajet': 29808, '▁answered': 9986, '▁mega': 13950, 'Jeremy': 18540, '▁Idaho': 19546, '▁déplacement': 23976, '▁polished': 16641, 'autonomie': 24074, '▁groceries': 28472, 'escaping': 31897, 'directing': 26243, '▁orice': 3020, 'schen': 3878, '▁recomandă': 25539, '▁convention': 8346, '▁reviewing': 15678, '▁goodness': 14838, 'Developed': 31192, '▁sitzen': 27298, '▁positively': 18294, '▁lenders': 14813, '▁sessions': 3975, 'raft': 10913, 'formulated': 23148, '▁par': 260, '▁nearby': 4676, '<extra_id_52>': 32047, '▁Rolle': 11631, '▁Kor': 9510, '▁solicit': 8081, '▁mum': 15480, '▁Amendment': 18397, 'kleinen': 7647, 'gefragt': 23154, 'gent': 5560, 'ographer': 19891, '▁regional': 3518, '▁subscribers': 17303, 'ograph': 16407, '▁imbalance': 24809, 'SSA': 26787, 'heben': 21223, 'tant': 3672, '▁montagne': 20004, '▁occupation': 13792, '▁climbing': 11908, '▁co': 576, 'CE': 4770, 'ur': 450, '▁according': 1315, '▁increased': 1936, '▁rev': 5109, '▁Row': 11768, '▁Vol': 4969, 'nica': 12878, '▁inviting': 14256, 'brush': 23932, '▁six': 1296, 'ör': 4446, '▁lovit': 29272, '▁Plätze': 27585, 'KO': 12725, 'chemical': 14676, '▁Vertrauen': 21973, '▁genealogy': 31960, '▁liebevoll': 31355, '▁timely': 10063, 'FM': 14908, '▁Aber': 4098, '▁producător': 22741, '▁Lorsqu': 15591, 'festigt': 31902, '▁2020': 6503, 'incarn': 18860, 'Central': 30497, 'homme': 6814, '▁sail': 14725, 'assurance': 14657, '▁Quelle': 11669, '▁sound': 1345, '▁granted': 7020, '▁tight': 4095, '▁teenage': 21615, 'bert': 7041, '▁entry': 1764, '▁riesig': 24968, '▁dough': 8553, '▁bases': 14701, 'marked': 16376, '▁mindfulness': 26360, 'sammlung': 27519, 'Or': 7395, '208': 23946, '▁titan': 29243, 'tati': 7810, 'gardinen': 31604, 'Rock': 23349, '▁refreshed': 27740, 'emption': 29881, 'CLICK': 28371, '▁greater': 2123, '▁obligation': 10472, '▁Nation': 11046, 'acked': 13365, '▁Saudi': 11279, 'roc': 7818, '▁preferred': 6241, 'tes': 1422, '▁genius': 18592, '▁Pacific': 5824, '▁Boat': 17733, '▁stradă': 30762, '▁Vietnam': 8940, '▁nine': 4169, '▁mensuel': 31839, 'Manager': 27272, 'our': 1211, '▁clay': 14364, '▁minority': 16392, 'intrarea': 25632, 'rân': 13316, '▁articulate': 21610, '▁împreună': 11651, 'corporate': 25762, '▁Servicii': 28682, '▁Trim': 21917, '▁Sonntag': 14392, '▁dresses': 12754, 'Cartea': 29688, 'aufnahme': 24860, 'wait': 26745, '▁Miller': 9429, '▁dintr': 10085, 'Übertragung': 31830, '▁bean': 15431, '▁sea': 2805, 'bild': 9401, '▁somewhat': 6309, '▁communicating': 17842, 'ler': 1171, '▁apoi': 4809, '6.5': 17255, '▁hopeful': 22038, '▁conseils': 15268, '183': 24361, '▁Print': 6763, 'Mainland': 28170, '▁Read': 3403, '▁scarce': 25976, 'carora': 30724, '▁bolt': 12862, '▁eff': 13577, '<extra_id_39>': 32060, '▁Administrator': 18420, 'wehr': 15966, 'Magazin': 24773, '▁acquis': 25057, '▁Städte': 25505, 'Sistemul': 28327, '▁Say': 10403, 'MMA': 25511, '▁station': 2478, '▁innocence': 30550, '▁candidat': 11250, 'employé': 23688, '▁travaille': 19266, 'tung': 4437, '▁Notice': 13946, '▁observed': 6970, 'Sodium': 28637, '▁Financial': 5421, '▁proceed': 8669, 'Octav': 31846, '▁Category': 17459, 'embracing': 24209, '▁segments': 15107, '▁Vic': 12060, 'cardi': 16464, '▁scanning': 18269, '▁spot': 2140, '▁vitr': 11614, '▁Evans': 18305, '▁Remove': 10002, '▁Teddy': 30146, '▁Schlaf': 20642, '▁Perform': 22871, '▁IS': 6827, '▁Wärme': 18193, '▁Audrey': 31423, '▁réparation': 22595, 'ikh': 19030, '▁Bangladesh': 19039, '▁Experience': 7187, '▁pratique': 7611, '▁nail': 11477, '▁derivative': 21875, 'inne': 14029, 'épaisseur': 31486, '▁idiot': 25851, '▁Solutions': 7730, 'Union': 19011, '▁Fahrer': 23566, '▁5,': 7836, 'stumbled': 25220, '▁Stalin': 29895, '▁London': 1524, '▁wardrobe': 13460, '165': 22823, '▁disposal': 12375, '▁sky': 5796, '▁Bett': 9736, '▁shepherd': 28743, '▁mint': 13983, '▁Rosen': 16191, '▁modificari': 25970, 'zeichnen': 19727, '▁revolutionary': 18344, 'nsonsten': 23892, 'supplying': 19327, 'üchtig': 31116, '▁union': 7021, '▁chimney': 26021, '▁egg': 6182, '▁Essay': 14628, 'Reilly': 31668, 'oire': 6534, 'tackling': 26074, 'refers': 18308, '▁payer': 16499, '▁clicked': 26216, 'repairing': 26564, 'finanz': 21584, 'Entwickler': 30558, 'INT': 13777, 'cla': 4651, '▁preț': 19562, '▁Convention': 11347, '▁apropiat': 20851, 'ugg': 13917, '▁détrui': 29058, '▁Funktion': 12731, 'LED': 17717, '▁glowing': 25738, '▁cop': 7326, 'soluble': 26175, '▁trumpet': 29192, 'gerecht': 12921, 'analyse': 14616, '▁agents': 4373, '▁Sky': 5643, 'bu': 3007, '▁Produkt': 5389, '▁moteur': 13670, '▁Psychology': 18380, '▁Cynthia': 31651, '▁freeze': 14038, 'ke': 1050, 'sliced': 23645, '▁drying': 16773, 'lomb': 17551, '▁fapt': 2395, '▁Sc': 4712, 'ück': 19100, '▁Nowadays': 23584, 'jugé': 29790, '▁explosive': 19758, 'bou': 4076, '▁Sprech': 24027, '▁Oracle': 14617, 'smith': 16331, '▁Play': 2911, 'ung': 425, '▁stylish': 7695, '▁Brenn': 19538, '▁dubl': 19884, 'wished': 21464, '▁Rose': 5088, '▁sh': 6660, 'ACTION': 30518, '▁pescuit': 31030, '▁Qualification': 31270, '▁cash': 1723, '▁20': 460, '▁détail': 12467, 'uber': 14659, 'Störung': 30471, '▁Contra': 17277, '▁démo': 27202, 'verwaltung': 22793, 'oraşului': 31853, '▁distributed': 8308, '▁18.': 12265, 'Muzeul': 24307, 'toured': 28059, '▁Barnes': 24793, 'GT': 18489, '▁oublier': 24740, '▁friendly': 2609, '▁prietenii': 22947, '▁glamorous': 28064, '▁jusqu': 4007, '▁Meanwhile': 7940, '▁dureri': 20007, '▁unaware': 24111, 'surviving': 22279, '▁Regional': 7676, 'mented': 20138, '▁mileage': 24049, '▁lundi': 18292, '▁capitalism': 26010, '▁Kreditkarte': 30716, 'sicherlich': 21728, '▁täglich': 13765, '50,000': 9286, 'issuance': 30935, '▁Relax': 22877, '▁Equipment': 10528, 'why': 24443, '▁memo': 22986, '▁pump': 5013, '▁held': 1213, 'phrase': 27111, '▁Studios': 16179, '▁themselves': 1452, 'swept': 23426, '▁frei': 6277, '▁cruelty': 31272, '▁Schloss': 21437, '▁»': 1168, '▁Chair': 6651, '▁gewöhnlich': 31845, 'deoarece': 7753, '▁prend': 10324, '▁coût': 10608, '▁financier': 19597, 'TD': 10494, 'Serie': 12106, '▁swing': 7180, '▁warranties': 20456, '▁though': 713, '▁clerk': 24416, '▁fighter': 14248, 'augmenter': 22981, '▁Ergebnisse': 17908, '▁Parchet': 31717, 'Mech': 27501, '▁dressing': 9847, '▁extensive': 3616, 'iile': 4649, '▁Arts': 4218, 'naut': 15785, '▁beneficia': 15792, '▁columns': 15752, '▁Stamp': 18331, 'boden': 19638, '▁unfortunate': 20343, '▁miros': 21138, 'ASH': 21337, '37': 4118, '▁experienț': 25292, 'fähig': 13718, 'euses': 14784, 'rod': 9488, '▁superhero': 23586, '▁Fre': 5532, '▁Kapital': 26264, '▁collabor': 29842, '▁fascinant': 31571, '▁humble': 15084, 'mbr': 12634, '▁telefon': 7875, '▁passionné': 25846, 'tors': 5535, 'piled': 31807, '▁tendance': 16746, '▁creek': 25153, 'aménagement': 25005, '▁Path': 12465, '▁teach': 3884, 'scheibe': 27860, '▁Hug': 11560, '▁findings': 7469, '▁permanently': 16225, '▁vingt': 26060, '▁renting': 17992, 'position': 4718, '▁convincing': 20863, '▁fibre': 10851, '▁Ple': 14164, '▁facilit': 8847, '▁Trick': 22323, '▁across': 640, '▁ordin': 14503, '▁angajat': 15947, '▁deux': 1763, '▁performanț': 29267, 'État': 19470, '▁entstanden': 21569, '460': 25991, '▁applies': 8275, '▁15.': 9996, '▁Adel': 23117, '▁structura': 19444, '▁impulse': 24785, '▁pharmacy': 13920, '▁ressenti': 28387, 'NL': 18207, '▁1917': 25439, '▁mijloc': 13169, 'diluted': 28857, 'insel': 21251, 'wunder': 17044, 'û': 10443, '▁unilateral': 31823, 'Dame': 17084, '▁Overall': 9126, '▁niche': 11276, '▁1600': 24046, '▁2)': 9266, '▁rep': 3852, '▁Juan': 15597, 'ng': 1725, '▁Carlos': 19783, 'deci': 24223, '▁Moment': 10388, 'OUS': 17854, ']': 908, '▁firewall': 22462, '▁MUST': 23716, '▁Midwest': 22576, '▁gebraucht': 26862, '▁Augen': 10961, '▁nothing': 1327, 'lick': 10095, 'TEM': 20050, '3:30': 27881, '▁communiqué': 25228, '▁difuz': 27022, 'Apparently': 18729, 'Vreau': 30590, '▁précise': 17767, '▁booklet': 22848, '▁beating': 16201, '▁cliché': 27319, '▁cetățeni': 27882, 'formează': 26616, 'clav': 18780, '▁disponibile': 17672, '▁timid': 30855, '▁fluffy': 25155, 'labor': 9456, '▁referral': 10979, '▁outlets': 14290, '▁statistical': 11775, 'cevoir': 28550, '▁prescribed': 14327, 'See': 18648, '▁elevi': 13851, '155': 20896, '▁focus': 992, 'année': 5980, '▁Cer': 7112, 'mission': 5451, '▁rubber': 7859, '▁Acum': 12003, '▁Austria': 9652, '5-8': 27698, 'escence': 21282, 'flop': 23588, '▁Levi': 16755, '▁pilgrim': 24827, 'perks': 26917, '▁novel': 3714, '▁officially': 8441, '▁Odyssey': 29964, 'haz': 10557, '▁circle': 8196, '▁workload': 22453, '▁lettuce': 21857, '▁Pearl': 16063, '▁Consortium': 29910, '▁9.': 5835, '▁Naples': 29287, '▁Nursery': 29442, '▁împ': 15112, '▁simpla': 24846, '▁await': 19902, '▁Indiana': 11494, '▁stirring': 19104, '▁intensity': 13182, '▁Merry': 25107, '▁adoption': 9284, '▁identical': 12022, '▁figure': 2320, '▁grundlegend': 30937, '▁couch': 6452, 'ella': 5303, '0.2': 18189, '▁eBay': 15117, 'mettent': 12827, '▁schematic': 28810, 'â': 1439, '▁Gla': 10941, '▁pasageri': 31052, '▁prolific': 27701, '▁dahin': 22688, 'adia': 17327, 'specialised': 26725, '▁expression': 3893, '▁treating': 10902, '▁requirements': 1502, '▁cré': 8261, '▁Chanel': 30361, 'irii': 9494, '▁Sonne': 19854, '▁roles': 6270, '▁Giovanni': 31326, 'extérieur': 11448, '▁predictable': 24839, '▁marine': 8769, '▁Day': 1430, 'feel': 25225, '▁Employee': 15871, '▁combine': 5148, '▁buy': 805, '▁companies': 688, '▁Bangalore': 23689, '▁elected': 8160, '▁punch': 11462, 'hnen': 15249, '▁brush': 6453, '▁găsit': 18997, 'gemeinschaft': 22479, 'intégration': 26489, '▁Highly': 20600, '▁T': 332, 'atrice': 11488, '▁erwachsene': 31998, 'INA': 21116, '▁awards': 6120, '▁Jacob': 9846, 'ecunoscut': 21790, '▁opened': 2946, 'Mod': 15594, 'rain': 6559, 'prox': 20042, '▁blessing': 10463, '▁mining': 5558, '▁Pressure': 23222, 'lius': 29705, '▁Hör': 21589, '▁profitieren': 25641, '▁domenii': 26112, '▁host': 2290, '▁titular': 29470, 'turism': 21988, 'enceinte': 28572, 'perhaps': 31491, 'anne': 4515, '▁rar': 18927, 'LET': 25528, 'ifier': 7903, '▁bustl': 22211, 'apa': 9750, '▁Hwy': 29171, '▁defense': 4453, '▁Paris': 1919, '▁gens': 11598, 'ving': 3745, 'stock': 7149, '▁immediate': 5299, 'German': 24518, '▁apart': 3943, '▁small': 422, '▁HOME': 26496, '▁heiß': 25169, 'pal': 6459, 'cité': 12573, 'ripping': 19160, '▁Would': 5328, '▁consumption': 5962, '▁Komfort': 26823, '▁flap': 23050, 'gator': 19306, 'flect': 26303, 'Luckily': 16996, '▁décide': 19205, '▁cons': 6900, '▁inaugur': 22035, 'edel': 21591, '▁Richter': 26606, '▁local': 415, 'Totusi': 30831, '▁Meeting': 9198, 'BF': 19780, '▁miracle': 14769, '▁Jahres': 9242, '▁tamb': 30738, 'han': 2618, '▁Français': 15734, '▁echipa': 6804, 'dron': 18935, '▁Got': 13031, '▁verändert': 22072, 'DE': 5596, 'TY': 12016, '▁strongest': 19095, 'deleting': 31874, 'odor': 7512, '▁ga': 7922, 'fine': 13536, '▁classroom': 4858, '▁fenomen': 23068, '▁imperfections': 31475, 'emper': 22511, '▁decent': 7162, '▁legatura': 19970, 'tata': 11564, '▁Meine': 18843, 'hook': 20978, 'ibă': 17366, '02.': 12328, '▁tolle': 13093, '▁EVERY': 24218, '▁cup': 4119, 'tures': 10471, '▁bypass': 20720, 'fuhr': 21638, '243': 27730, '▁Defender': 31680, '▁Mittelpunkt': 28366, 'minus': 14078, '▁grid': 8634, 'É': 6759, '▁Brooklyn': 12805, '▁Owen': 20412, 'exemplary': 25434, '▁curry': 21501, 'AME': 17683, 'surgical': 31058, 'legt': 9202, '▁idee': 15008, '101': 19621, 'Le': 2796, '▁mushroom': 25415, '▁Five': 9528, '▁': 3, '▁abundance': 15025, '▁spectacol': 16259, '▁39': 6352, '▁Signature': 22366, '▁7': 489, 'Afterward': 28653, '▁Widerspruch': 29667, '▁10-': 9445, '▁Wor': 11287, '▁fut': 9620, '▁hosts': 9855, '▁Scorpio': 30070, '▁height': 3902, '▁bear': 4595, '▁nutzen': 8736, '+1': 18446, '▁casino': 2653, 'gelangen': 28346, '▁Machine': 5879, '▁Dou': 17159, '▁Herren': 22683, 'logique': 18798, 'IR': 5705, '▁symbolic': 24981, 'lager': 13298, 'gehen': 8615, '▁conditii': 11919, 'ultimi': 17828, '▁toilette': 24888, '▁fermeture': 28470, '▁répond': 11781, 'geklärt': 30665, 'folge': 16088, 'ност': 31585, 'schiff': 26453, '▁Taiwan': 14441, '▁insa': 6969, '▁Mick': 25665, '▁Reynolds': 27815, '▁Cabernet': 30976, '▁creep': 17463, 'but': 2780, '▁beide': 5877, '▁Lip': 10840, '▁fiind': 2439, 'for': 1161, '▁wertvolle': 26152, 'rechnet': 24847, '▁Trump': 2523, '▁Sherlock': 31396, '▁challenges': 2428, '▁landfill': 24929, '▁Petersburg': 25645, '▁Shelter': 30415, '▁salaire': 26812, '▁Sample': 12474, 'three': 21182, 'honoured': 29977, '▁And': 275, '▁Leben': 5101, '▁Advice': 27718, 'eat': 1544, '▁Tyler': 18933, 'FU': 19813, '▁Screw': 31885, '▁began': 1553, '▁diferite': 7062, 'rooted': 19471, '▁unfair': 18216, 'nach': 6359, '▁Repeat': 20469, '▁mare': 1555, '▁social': 569, 'OU': 13336, '▁unbedingt': 17301, 'thriving': 21176, '▁consultancy': 22963, '▁capitol': 23491, 'pens': 3801, 'argent': 9917, '▁phones': 7219, '▁grain': 8273, 'continuare': 28319, '▁Dual': 17338, '▁30': 604, '▁Above': 18262, '▁Cassi': 22889, '▁Welfare': 30132, '▁another': 430, '▁flowers': 3652, '▁corruption': 13100, 'ifikation': 23223, '▁fairly': 5163, '▁capabilities': 5644, '▁£3': 23395, '▁investitii': 30752, '▁Essex': 25223, '▁grant': 5334, '▁hidden': 5697, '▁Ker': 10703, 'Spiel': 23733, 'devoted': 12895, '▁crisis': 5362, 'artikel': 23413, '▁super': 1355, '▁Never': 8400, '▁old': 625, '▁Nov': 5098, '▁viele': 2584, '▁humid': 18767, '▁cicl': 25506, '▁mine': 2000, '▁lady': 9360, '▁Projekte': 16356, 'Pod': 16665, '▁flooding': 18368, '▁safely': 7794, '▁Einwohner': 26890, '▁annuel': 20691, '▁activist': 20622, 'erfolgreichen': 30725, '▁vermitteln': 28041, '▁optimal': 6624, '▁Venezuela': 17841, '▁optimism': 24543, '▁Decision': 25006, '▁announced': 2162, '▁purple': 11094, 'Adv': 21021, 'essentiel': 19091, '▁dome': 22161, 'cresterea': 26609, 'Master': 20608, 'ionist': 23814, '▁Realty': 25578, '▁Vitamin': 10368, '▁threshold': 12709, '▁période': 10522, '▁renseignements': 28467, '▁naval': 25105, 'bir': 8781, '▁médaill': 31594, '▁crossed': 14602, 'fig': 15994, '▁categoria': 18146, '▁Young': 5209, '▁arbeiten': 12850, '▁Relief': 26743, '▁aerospace': 28674, '▁evaluation': 5002, '▁Traian': 27423, '▁hesitate': 10888, '▁Verb': 15609, '▁weren': 9355, '▁Budget': 12532, 'leitung': 11227, '▁24/7': 12680, '▁pavilion': 28407, '▁emotionally': 17957, 'ores': 14846, 'abila': 15588, '▁mentine': 24540, 'époque': 14971, '▁reinforced': 22756, '▁ripple': 30587, '▁Mississippi': 14579, 'utilisant': 23529, '▁stuck': 6229, '▁dive': 10026, 'master': 7429, '▁televizor': 28570, '▁Engine': 10612, 'measurable': 29208, '▁Mouse': 23955, '▁resolve': 7785, '▁unsafe': 26435, 'tufted': 31099, 'treibt': 28846, '▁stars': 4811, 'wash': 14710, '▁erlaubt': 23437, 'zi': 702, '▁Chang': 24187, '▁unpredictable': 24810, 'ians': 7137, '▁Countries': 30763, '▁What': 363, '▁Discovery': 19499, '▁Belgique': 27266, 'toxicity': 27147, '▁Additional': 11180, '▁acest': 1062, '▁porter': 17386, '▁acquainted': 29740, 'euer': 11294, '▁Factory': 15372, '▁minim': 8984, '▁rivière': 29559, '▁garage': 3543, 'thi': 7436, '▁acces': 4991, '<extra_id_45>': 32054, 'oarelor': 29097, '▁facut': 5198, '▁knit': 17989, '▁include': 560, 'Produkt': 25823, '▁probe': 12732, 'ELI': 22590, 'ker': 2304, '▁gros': 9752, '▁insane': 21070, 'gène': 17731, '▁dimineata': 24427, '▁Joomla': 30567, '▁sponsor': 9037, '▁supporting': 3956, 'virus': 18095, '▁FY': 23263, 'shi': 5605, '▁Mart': 11163, '▁africa': 24040, '▁spațiu': 23914, '▁cifre': 30201, '▁Bestellung': 19878, '▁côté': 6747, '▁création': 8577, '▁hint': 12037, '▁beurre': 28220, '▁commodities': 27592, 'für': 7465, '▁fluctuations': 29469, '▁unknown': 7752, '(2009)': 25812, 'masonry': 30559, '▁jeudi': 20785, '▁Elizabeth': 9066, '?”': 4697, '▁wrist': 14552, '▁Bekannt': 24709, '▁kritisch': 28761, '▁wants': 2746, '▁consensus': 16698, '▁electron': 21126, 'rcis': 21645, '▁Wolfgang': 26513, '1997)': 30596, '▁poisson': 22676, 'énergie': 9447, '▁blouse': 29273, '▁aprecia': 30034, '86': 3840, 'local': 16882, '▁engage': 4082, '▁trademark': 10602, '▁messenger': 28110, '17': 2517, 'Spezialist': 29755, 'itatile': 17669, '▁Hot': 5396, '▁1958': 22306, '▁Pleasant': 26571, '▁Ziel': 5460, '▁Zusatz': 24853, '▁16': 898, 'era': 1498, '▁(0': 17482, 'lie': 1896, '▁cablu': 26662, 'ucc': 17431, 'urlaub': 26345, '▁Communities': 28086, '▁complications': 14497, 'oreille': 24802, 'tions': 10872, 'veterinary': 22987, '▁vendeur': 29654, '▁scholarship': 10946, '▁Thomas': 3576, '▁Aluminium': 24064, 'frying': 28455, 'khi': 29392, '▁recipes': 5459, 'frischen': 25920, '▁tradițional': 30304, '▁apariți': 29794, '▁remember': 1423, '▁wreath': 25070, 'schwarz': 12291, 'stütze': 29975, 'intervention': 22604, '▁manager': 2743, '▁rooftop': 22260, '▁scheduled': 5018, '▁Ni': 2504, '▁good': 207, '▁instances': 10316, '▁tranche': 27822, '▁elaborate': 16224, 'ку': 25644, '▁volet': 15667, '▁Control': 4330, '▁Phoenix': 12308, 'Direct': 23620, '▁scholar': 24662, '▁tau': 7151, 'AGR': 26646, '▁might': 429, '▁asset': 7000, '▁breakthrough': 20974, 'WG': 22202, '▁discount': 3898, '▁securities': 16944, 'cur': 3663, '▁Pos': 13995, '▁entsprechend': 14377, '▁(2006)': 28272, 'mog': 22706, 'Übungen': 30659, '▁scheint': 18449, '▁comunicat': 17964, '<extra_id_5>': 32094, '▁Schaf': 27320, 'sistemele': 31292, '▁rezid': 25485, '<extra_id_33>': 32066, '▁confident': 4881, 'itch': 7059, '▁bars': 6448, '▁inspire': 6512, '145': 20987, 'OTA': 27976, 'lande': 11553, 'faktor': 28944, 'heiten': 14707, '▁corporation': 11861, '▁Den': 3128, '▁saptamana': 20057, 'emplacement': 25287, '▁celles': 15193, 'accustomed': 25536, '▁forever': 6276, '▁finally': 2031, '▁picking': 8915, 'kno': 24458, 'Business': 26269, 'sofern': 20448, '▁effectué': 18417, 'they': 11056, '▁refuz': 19352, '▁entertained': 24943, '▁vitamins': 15219, 'mindestens': 13772, 'datele': 12918, '▁quad': 16429, '▁lider': 18793, '▁wings': 13943, '▁Partnership': 17406, 'lith': 18800, 'fully': 5195, 'lane': 8102, '▁basis': 1873, '▁startup': 11459, '▁couples': 11992, '▁Faculty': 16896, 'entrepreneurship': 24849, '▁hobbies': 27781, '▁birthday': 3591, '▁Stockholm': 23964, '▁panoramic': 22693, '▁maternal': 28574, '▁Yorkshire': 19830, 'raportul': 31024, 'without': 23016, 'ether': 16764, '▁vorbit': 21304, '▁anime': 21705, '▁Therapist': 29981, '▁passé': 8846, '▁adopt': 4693, '▁spoke': 5468, '▁Questions': 14218, '▁dărui': 31480, '▁difficult': 1256, '▁nord': 9532, '▁form': 607, '▁accepted': 4307, '▁exported': 27343, 'ärztliche': 31639, '▁frumoase': 16566, '▁adres': 13094, '▁pursu': 19890, '▁Tudor': 21802, 'ește': 4934, '▁experiment': 5016, 'FC': 5390, '▁vendor': 11407, 'suffisamment': 29269, '▁ideological': 30981, '▁Transport': 7608, '▁Thai': 12806, 'opened': 26940, '▁Chapter': 8647, '▁meditation': 10412, '▁Verständnis': 28010, '▁manually': 12616, '▁Pittsburgh': 16226, '▁passt': 17650, '▁adultes': 25416, '▁prob': 12361, 'MEN': 22952, '▁Determine': 30197, 'rennen': 23292, '▁Preston': 28876, '▁machine': 1437, '▁fehlen': 21156, '▁methodologies': 25984, '▁Currency': 31383, 'lox': 24938, 'zulegen': 28273, '▁Fuel': 20942, '▁For': 242, 'iilor': 9110, '▁Seller': 19980, '▁Hus': 13674, 'ries': 2593, 'year': 1201, '▁nano': 13944, '▁revealed': 5111, 'struct': 7593, '▁Eagle': 10341, '▁Küchen': 23111, 'noc': 14880, '▁achieve': 1984, '▁illusion': 19178, 'hab': 6111, '▁Heinrich': 30186, '▁considering': 4014, '▁Entwicklung': 7343, '▁laboratoire': 27661, 'bun': 9617, 'klick': 26763, '▁trim': 6228, '▁controlled': 6478, '▁technically': 18155, '▁lăsa': 17514, '▁refill': 26210, '▁mediation': 24290, '▁Population': 29659, '▁foot': 2418, '▁accidents': 10649, 'lutter': 20224, '▁architects': 19186, '▁Lille': 27389, '84': 4608, 'procédé': 28386, '▁same': 337, '▁accounting': 7625, 'cov': 16745, '▁Bonjour': 21845, '▁Merchant': 28565, '▁rotate': 17377, '▁India': 1547, 'represented': 29845, '▁2007': 4101, 'capturing': 18147, '▁diaper': 29375, 'Count': 10628, '▁plă': 15381, '▁1/2': 7739, 'ient': 4741, 'enchanting': 30112, '▁Giving': 22643, 'haltige': 30403, '▁2,': 3547, '▁newly': 6164, '▁Avenue': 6916, 'igung': 7342, 'rind': 13119, '▁solid': 1973, 'town': 3540, 'colored': 20340, '▁vigoare': 20398, '▁Up': 3234, '▁tea': 2198, '▁Randy': 25966, '▁Matthias': 30166, 'Into': 27201, '▁française': 10988, '▁Scandinavia': 27700, '▁chore': 15030, '▁beachten': 17474, '▁downside': 21204, 'titel': 28993, '▁actual': 1805, '▁Yes': 2163, '▁recherche': 3895, '▁pocket': 6743, 'only': 9926, '▁genomic': 29082, 'Com': 5890, '▁transplant': 15127, '▁skinny': 28451, '▁relieve': 11554, 'Islam': 30791, '▁49': 9526, '▁talented': 7799, '▁Bon': 4523, '▁sagen': 10167, 'MD': 11731, 'île': 17799, '▁Spa': 5641, '▁thyroid': 26054, '▁übernimm': 27173, 'otro': 24497, 'oriented': 9442, 'plaît': 31459, '▁Slo': 18043, 'ntweder': 20449, '▁ditch': 24158, '▁seldom': 28022, '▁République': 21283, '▁lines': 2356, '▁outside': 1067, 'mentioning': 27492, '▁bid': 6894, '▁probabil': 9551, 'cum': 6361, '▁Steam': 17420, '▁Ta': 2067, '▁caregiver': 17997, 'otic': 9798, '▁needle': 11769, '▁diamant': 31028, 'ampered': 31303, 'cept': 6873, '▁Diabetes': 23549, '▁adaptive': 25326, '▁clarify': 17741, '▁withdrawal': 11905, '▁Cord': 18217, '▁pregăt': 18390, '▁percentage': 5294, '▁inclusive': 13066, '▁answer': 1525, '▁glitter': 19255, '▁Sandra': 24120, '▁gemütlich': 21191, '▁bunk': 22855, '▁interioare': 30489, 'marketed': 26640, '▁echipamente': 22629, ',000.': 20202, '▁übernommen': 27192, '▁aşa': 10841, 'stria': 23387, 'All': 6838, 'kur': 10923, 'Roofing': 23116, '▁symptoms': 3976, '▁circles': 15162, '▁Oslo': 29206, 'duct': 7472, '▁spreadsheet': 18527, 'Société': 25017, '▁(2': 4743, '▁truth': 2827, '▁advantage': 2337, '▁inteligent': 24526, 'Uploaded': 31627, '▁molecules': 19166, '▁suite': 3132, '▁Windsor': 24812, '▁consider': 1099, 'enlarged': 30670, '▁antibodies': 26907, 'thèse': 29875, '▁wo': 2275, '▁spate': 14911, 'draw': 19489, '▁blush': 27323, 'hit': 10536, '▁pagini': 15351, '▁Stra': 5438, '▁UV': 10060, 'ET': 7969, 'țiile': 12180, '▁wichtiger': 19793, '▁célèbre': 20140, 'animation': 26425, '▁secure': 2451, '▁dispus': 24903, '▁Services': 1799, 'architekt': 30754, 'éri': 5134, '▁caut': 18879, 'requesting': 22686, '▁Eddie': 25227, '▁splend': 30340, '-16': 10892, '▁maşin': 22727, '▁transform': 3343, '▁boite': 29550, 'haft': 8045, 'hid': 11740, 'NE': 4171, '▁occasions': 9194, '▁war': 615, '▁similar': 1126, '▁gouvernement': 11382, '▁herbs': 12536, '▁lycée': 26775, '▁fans': 2675, '▁survey': 3719, 'social': 15745, '▁CMS': 18128, '▁Millennium': 30822, '▁impartial': 30280, '▁persönliche': 17347, 'atului': 8928, '▁ultime': 16136, '▁dosage': 17166, 'lucreaza': 30388, 'odeur': 28851, '▁Tale': 19098, '▁tourism': 8676, '▁plaque': 15813, '▁caption': 25012, '▁Canberra': 31069, '▁nie': 6691, 'izează': 16991, '▁historian': 18637, '▁transmitted': 19751, '▁nastere': 29193, 'aked': 15461, '▁castle': 13243, '▁facial': 10203, '▁résidence': 22949, 'ooth': 20895, '▁Cu': 1839, 'color': 9910, '▁mont': 6278, '▁citizenship': 22214, '▁dispos': 18815, '▁chest': 5738, '▁Toyota': 11509, '▁buc': 8062, 'fällig': 15478, 'strained': 22418, 'haudiere': 27240, 'Statistical': 30578, '▁Universities': 28932, '▁Seiten': 8353, '▁GA': 10615, 'thankfully': 29706, '▁lien': 12452, '▁familie': 12221, 'efficiencies': 27752, '▁Hersteller': 13406, '▁paramount': 26979, 'führer': 12704, 'titude': 6592, '▁explicat': 22171, 'accept': 18693, '▁intend': 8286, 'ZE': 13358, '42': 4165, '▁reasonable': 4360, '▁schon': 1594, '▁Karriere': 28023, 'bach': 6425, 'scriu': 21030, '▁societăţi': 29212, 'eira': 15809, 'AKE': 17253, '▁produsului': 22972, '▁faculty': 6040, 'nik': 4953, '▁progression': 13324, 'gâteau': 29544, 'combining': 13275, '▁mécanique': 29317, '▁Gala': 15210, '▁unconventional': 30903, 'intelligence': 29563, '▁2012.': 7033, '▁algorithms': 16783, 'stab': 17001, '▁Douglas': 14154, 'AR': 4280, '▁boundaries': 11814, 'Originally': 19440, '▁Gateway': 23003, 'lässlich': 28564, '▁mise': 4705, '▁Penn': 11358, '▁crois': 13862, '▁noble': 17243, '▁LEGO': 23497, '▁könnt': 17998, '▁lamp': 7767, 'Founder': 19145, '▁fully': 1540, '▁Helsinki': 29763, '▁unter': 1199, 'grün': 11059, '▁vigorous': 25681, '▁managing': 5037, 'Richtlinie': 28180, '▁Draft': 21409, '▁circum': 16533, '▁(2018)': 28068, '▁suflet': 11449, 'ziert': 12228, '▁mixes': 25190, '▁embarrassing': 27445, '▁Cruci': 30701, 'exclu': 17898, '▁hook': 7970, '▁6,': 8580, '▁shield': 13128, '▁Motivation': 25279, '▁payout': 21541, '▁Classic': 6744, '▁Recovery': 16532, 'third': 14965, '▁Christianity': 19013, '▁genau': 5524, 'anniversaire': 21775, '▁totul': 9324, '▁Gu': 2846, '▁trainer': 8813, '▁brewery': 27686, '▁lernen': 14891, '▁Kirchen': 19483, '▁Retreat': 27758, '▁în': 111, '▁40': 1283, '▁bekommen': 8837, '▁victoire': 23316, '▁Od': 9899, 'nosti': 26587, '▁am': 183, 'kö': 15898, '▁Preisvergleich': 26275, '▁réclam': 28127, 'watt': 11876, '▁website': 475, 'du': 1259, 'wegen': 6050, 'ußerdem': 7498, '▁anniversary': 7685, '▁killed': 4792, '▁pathways': 19821, 'CP': 4184, '▁Chester': 20976, '0.5': 12100, 'test': 4377, '▁archive': 13269, '▁people': 151, '▁Image': 6298, '▁mesure': 6535, 'rais': 8316, 'connected': 19386, 'easy': 20905, 'ock': 3961, '▁pus': 6629, 'stair': 15303, '▁plăcut': 20312, '▁sit': 2561, 'curricular': 27427, 'seară': 25361, '▁Schaden': 21291, '▁refuge': 14330, '▁neutr': 22883, 'league': 29512, '▁obedience': 29765, 'tracted': 11674, '▁matur': 18677, '▁playlist': 23424, 'pression': 8243, 'schlaf': 20672, '▁Listen': 12941, '▁configure': 16302, '▁picture': 1554, 'let': 1655, 'hésitez': 16222, '▁surveillance': 12305, '▁affiliated': 18273, '▁Ré': 6272, '▁vocal': 6721, '▁chien': 17826, 'waited': 13106, 'RING': 21034, '▁cancelled': 18454, 'OM': 8638, '▁cigarettes': 22893, '▁communications': 5030, 'posons': 23591, 'opathy': 23599, 'national': 16557, '▁Marriott': 26966, '▁législat': 31435, '▁Fold': 17796, '▁coral': 18225, '▁sophomore': 23659, '▁loads': 10460, '▁represents': 5475, 'l': 40, '▁Ard': 22635, '▁Schä': 22880, '▁Na': 1823, '▁Ehr': 17099, '▁Versuch': 23339, '760': 28212, '▁waters': 13818, 'hoch': 24044, '▁supervisor': 14640, '▁stays': 13628, '77': 4013, '▁historische': 29789, '▁Had': 10118, 'elected': 19971, '▁protagonist': 21326, '▁optim': 9733, '▁citrus': 22736, '▁tsunami': 28583, '▁Erkenntnisse': 30341, '▁Leader': 10310, '▁Sapphire': 31724, 'isch': 2499, '▁km': 2280, '▁1997': 6622, '▁1978': 14834, 'mail': 1963, '▁Halte': 26469, '▁borders': 15094, '▁prolong': 19556, '▁larger': 2186, 's': 7, '▁crunchy': 29334, '▁Log': 7736, 'Ste': 14337, 'inal': 10270, '▁administer': 24235, '▁itinerary': 23690, '▁Separat': 22198, '▁discussing': 12104, '▁tie': 6177, 'OSE': 22177, 'Cal': 14318, '▁chorus': 26681, '▁shaking': 25341, '▁Mod': 5073, '▁debt': 2814, '▁lenses': 13839, '▁Gardens': 15934, 'leg': 5772, '▁totally': 3536, 'Do': 4135, '▁progressive': 9018, 'cra': 2935, '▁stereotype': 26524, '▁criz': 21798, '▁rasp': 22501, 'ège': 18895, '▁pastor': 13018, '▁judec': 17372, 'wesen': 18241, '▁moisturize': 23779, '▁streets': 6162, '▁termination': 18739, '▁shortcut': 21931, '▁grafic': 25272, '▁double': 1486, '▁dimanche': 15872, '▁Pole': 19418, 'ori': 2057, '▁crea': 11983, 'Strat': 19928, '▁intellect': 30354, '▁300': 3147, '▁media': 783, '▁intellectual': 8445, '▁poet': 11603, 'leni': 26532, '▁Familien': 10187, '▁Monster': 18117, '▁Paol': 30863, '▁dealership': 17603, '▁Access': 5164, 'halten': 7761, '▁grappl': 31031, 'lid': 8130, '▁humility': 30172, 'și': 1278, '▁5-': 7670, '▁élevé': 15320, 'ordinate': 21122, '▁Blüte': 28604, 'tipp': 19441, '▁Faith': 15364, '▁Episode': 16112, '▁Sri': 8642, '▁hiding': 17810, '▁Oh': 3359, '▁ajunge': 8214, '▁gelungen': 22847, '▁signage': 23192, '▁private': 1045, '▁fret': 26235, '▁granddaughter': 30963, 'bundled': 31601, '▁slope': 13150, 'uous': 13281, '▁interpretation': 8868, '▁gemacht': 6877, '”.': 1141, '▁deliberate': 25493, 'uite': 8431, '▁justify': 18686, '▁several': 633, '▁rank': 11003, '▁Apprentice': 31183, '▁reconnaissance': 25643, '▁automatically': 3269, 'figur': 9178, '▁America': 1371, '▁renal': 23328, '▁Greek': 6781, '▁Techno': 25789, '▁tireless': 28563, 'other': 9269, '▁Hills': 9807, '▁contender': 26134, 'readable': 27785, 'verarbeitung': 28903, '▁événements': 24243, 'George': 31317, '▁Kultur': 11058, '▁charged': 4977, '▁discussions': 7574, '▁Straf': 20048, '▁in': 16, '▁commerce': 12794, '▁guarantees': 16935, '▁purchase': 1242, '▁Angebote': 12444, '▁countertops': 16664, 'pressure': 26866, 'cke': 8849, 'ndu': 10170, '4': 591, 'Selon': 17152, '▁prüfen': 28485, '▁occupie': 28979, 'trospecti': 30113, 'financed': 31196, 'izer': 8585, '<extra_id_75>': 32024, '▁Bend': 22435, 'iki': 9069, '▁freut': 24537, 'distin': 19694, '▁babies': 9388, '▁aber': 862, '▁durabil': 25785, '▁Amsterdam': 14305, 'removing': 8499, '▁Published': 14722, 'esque': 18538, '▁möglich': 3784, '▁Unterricht': 23488, 'Du': 12998, 'lateral': 12088, 'clar': 23982, '▁Uganda': 22093, '▁provoke': 29245, 'tire': 11809, 'GB': 3443, '▁Toronto': 7030, '▁mariage': 16850, 'From': 22674, '▁Landkreis': 27895, '▁director': 2090, 'renowned': 9623, '▁publice': 12648, '▁edge': 3023, '05': 3076, '▁undermine': 23248, '▁film': 814, '▁submission': 8121, '▁scientist': 17901, '▁manifestation': 15867, '▁Identification': 31474, '▁parfois': 11084, '▁moarte': 17066, '▁Wir': 1185, '▁Dollar': 14110, '▁railway': 14421, 'usch': 14220, '▁kontinuierlich': 29968, '▁reprezinta': 13947, 'Exception': 26586, '▁miercuri': 22740, '▁juicy': 26151, 'ova': 6194, 'Control': 25716, '▁wasn': 2088, '▁airlines': 19184, '▁douleur': 23411, '-11': 9169, '▁crumbl': 22854, '▁Details': 9487, '▁Mus': 6887, 'vor': 1967, '▁curtain': 12609, '▁mesh': 13476, '▁présenter': 17014, '▁Magi': 22673, 'prouvé': 30164, '▁excellent': 1287, '▁Lan': 9144, 'GER': 17966, 'onné': 18084, '▁Fence': 26092, '▁Charm': 20330, '▁inteleg': 27438, '▁treatments': 5872, 'är': 3185, '▁Page': 5545, '▁vice': 6444, 'Bas': 14885, '▁inspector': 17033, 'ship': 2009, '▁200': 2382, '▁Ces': 6188, '▁exig': 19309, 'ал': 22141, 'Royce': 30840, '▁Diploma': 20281, 'lexic': 30949, 'erreur': 18897, '▁herrlich': 26820, 'Können': 30862, '▁Observatory': 31005, 'machining': 30824, 'ația': 8110, 'any': 6820, 'Dokument': 20127, '▁dotat': 25406, 'growing': 21243, '▁suggestions': 5782, '▁nearest': 13012, 'frage': 13137, '▁concurrent': 18964, '▁Basil': 23711, '▁sailors': 30899, 'mination': 14484, '▁qualitative': 19647, 'bare': 5304, '▁United': 907, '▁référence': 12799, '▁Ant': 9141, 'boarding': 13993, '▁Taste': 19802, '\\xad': 575, '▁Selection': 22246, '▁lay': 8260, 'rank': 6254, '▁crash': 8420, 'left': 17068, '▁Rou': 10898, 'Trebuie': 16300, '▁Philosophy': 26597, '▁peninsula': 28988, '▁gesture': 17374, '▁demand': 2173, '▁foundation': 3361, 'defender': 13720, 'Besides': 8500, '▁suspended': 14840, '▁convenience': 6440, '▁mess': 8090, '▁building': 740, '▁ökologisch': 30485, '▁cunoaște': 29708, '▁merger': 18917, '▁generosity': 23721, '▁reduc': 27353, 'back': 1549, 'GF': 15643, '▁DNA': 6642, 'Whenever': 15138, '▁camion': 28947, 'gewicht': 20124, 'cedent': 30818, '▁wollte': 10329, '▁Connecticut': 15505, '▁Twin': 13058, '▁Anpassung': 31811, 'jährigen': 20025, 'inate': 8660, '▁întrebări': 23522, '▁daylight': 24945, '▁Required': 31377, '▁adaug': 20852, '▁assignment': 9587, 'olli': 20953, '▁Carroll': 26508, 'phra': 28698, '▁informatii': 10640, '▁compensate': 17077, 'eidig': 22033, 'urban': 19413, '▁forty': 19662, '▁mari': 2774, '▁muncă': 12719, 'besser': 30488, '▁Stereo': 30535, '▁advance': 3245, '▁10:00': 20199, '▁Cause': 23142, '▁consum': 7751, 'pyr': 20455, '▁fix': 2210, 'urs': 3589, '▁Atlanta': 9673, 'Fahr': 31232, '▁Industries': 18080, '▁minimum': 2559, '▁suppose': 11605, '▁plate': 3829, '▁attorneys': 10566, 'aves': 16001, '▁monument': 11832, '▁#4': 24156, '▁Bedien': 29028, 'accueil': 11134, '▁subsequent': 8697, 'bewertungen': 21998, 'Behavioral': 30845, '▁Rouge': 23777, '▁Bauer': 20661, '▁conțin': 23088, '▁lol': 16497, '▁Piece': 21177, '▁emanat': 31975, 'teacher': 30215, 'ailleurs': 6752, 'inch': 4976, '▁month': 847, '▁suffered': 8151, '▁indirect': 16335, 'hôte': 28610, '▁firefighters': 29764, 'ROOM': 30270, '▁webpage': 17652, '▁12,': 10440, '▁digging': 21656, 'işti': 15174, '▁conclude': 12692, 'SER': 18062, '000': 2313, '▁bleibt': 9852, '▁Emma': 15325, '▁expansive': 23303, 'pozitie': 26254, '▁1986': 12698, 'Honestly': 26909, 'poţi': 24840, '▁economie': 29834, '▁Phil': 8188, '▁salut': 20239, '▁nights': 8348, '▁stove': 11734, '▁prison': 5714, 'bours': 21579, '▁tratat': 23759, '▁nahe': 14462, '▁literacy': 18298, '▁(2010)': 26118, 'ground': 9232, '<extra_id_46>': 32053, 'EL': 3577, '▁paradigm': 20491, '▁plague': 29230, '▁Slim': 24486, '▁priv': 5746, '▁presse': 15244, 'uch': 2295, '▁shoulders': 15424, '▁Londra': 29796, '▁meat': 3604, '▁erhalten': 4875, '▁trustworthy': 20739, '▁Fear': 21963, '▁estrogen': 31121, '▁informieren': 18748, '▁Let': 1563, '▁Urteil': 25777, '▁disturbing': 23956, '▁85': 11989, 'UNE': 13227, '▁authors': 5921, '▁Vienna': 19500, '▁Lost': 19576, 'wirkung': 22079, '▁exerc': 23670, '-1': 2292, '▁coil': 14909, '▁Railway': 18025, '▁Stanford': 19796, '▁Leave': 11339, '▁Spider': 18617, '▁CCTV': 27784, '▁Reid': 25219, 'chide': 16592, '▁Bluetooth': 11401, 'surrounded': 8623, 'known': 5661, '/6': 18656, 'No': 4168, '▁ideea': 18547, '▁paste': 11388, '65': 4122, '▁grounded': 21344, '▁Not': 933, '▁Tisch': 14696, 'patient': 10061, 'Intensiv': 26970, '▁Eminescu': 31174, '▁audio': 2931, 'assez': 8683, '44': 3628, '▁Accept': 20592, 'running': 24549, '▁ID': 4699, 'Unlike': 8739, '▁1988': 10414, '▁advantages': 7648, '▁replicate': 18526, 'Totul': 28609, '▁Established': 25275, '▁totusi': 21946, '▁interzis': 27574, '34': 3710, 'elli': 7999, '▁verdient': 26701, '▁als': 501, '▁interval': 8572, 'apo': 9521, '▁steps': 2245, '▁câștig': 16130, 'Easily': 28409, 'igue': 15795, '▁serrure': 21663, '▁spectator': 21380, '▁padding': 29933, '▁persoana': 11678, 'rag': 6151, '▁euro': 3983, '▁Cham': 18529, '▁None': 14794, '▁work': 161, 'molded': 29236, 'où': 2355, 'TA': 3221, '▁rein': 7101, 'jack': 9325, 'zählen': 17825, 'suit': 7628, '▁delayed': 16124, '▁targeted': 7774, '▁stamped': 22144, 'lim': 4941, 'ис': 26672, '▁HIGH': 27722, '▁Hack': 12715, '▁lou': 16585, 'ky': 3781, 'Ab': 8952, '▁pills': 19584, 'unterricht': 28190, '▁procéder': 30611, 'seated': 22933, 'nom': 3114, '▁slim': 12593, '▁höchste': 16468, 'Chancellor': 26767, '▁Demo': 15782, '▁réalisée': 21498, '▁Strasbourg': 26992, '▁depression': 7562, '▁choke': 29787, '▁croissance': 20075, '▁7.': 4306, 'chten': 7049, '▁link': 1309, '▁Youth': 9452, '▁senzati': 28448, '▁haunt': 16456, '<extra_id_56>': 32043, '56': 4834, '▁spécialiste': 23169, '▁Kündigung': 26700, '▁cramp': 24268, '▁temperature': 2912, 'fiinta': 24461, 'elor': 1209, '67': 3708, 'ré': 2339, '▁closely': 4799, '207': 26426, '▁Carnegie': 29331, 'uring': 7920, 'acul': 12457, '▁dem': 340, '▁Davis': 8688, 'contamin': 23753, '▁Remodel': 20627, '▁formation': 3239, '▁invite': 5484, '4)': 7256, 'nect': 20902, 'nutzung': 24265, 'tige': 9134, '▁profesională': 30128, '▁Tagen': 13657, '▁belly': 17719, 'kon': 4470, 'Bretagne': 26201, '▁meine': 3494, '▁stories': 1937, '▁Once': 1447, 'țării': 28334, 'bitten': 26040, '▁cărți': 22510, '▁street': 2815, 'möbel': 28473, 'Sphere': 31722, '▁numbers': 2302, '▁Upper': 16147, '▁Organis': 22155, 'ddle': 8437, 'Term': 11679, 'paw': 19589, 'schneiden': 22782, '▁Daca': 4449, '▁generic': 8165, '▁Leitung': 22867, 'bindung': 24759, '▁evrei': 30458, '▁constituent': 17429, 'äl': 14921, 'Associated': 26138, '▁fein': 14824, '▁discuţi': 30281, '▁Nevada': 13782, '▁Supply': 15642, 'kg': 8711, '▁foremost': 19839, 'fruit': 20243, 'complete': 25288, '▁dentistry': 22721, 'iez': 12523, 'roar': 25202, 'landschaft': 26248, 'Tra': 9402, '▁100%': 2349, '▁retrospective': 29825, 'inspected': 26300, '▁motherboard': 28018, 'rison': 23790, '▁classement': 27059, '▁vent': 9370, 'Poate': 13735, '▁confection': 20465, '▁Anleitung': 27314, 'ID': 4309, 'interprétation': 31087, '▁Opportunity': 24995, '▁halloween': 31949, 'pag': 11057, '▁Phuket': 30775, '▁significant': 1516, '▁Me': 1212, 'räumt': 28647, 'wolle': 22569, '▁confusing': 15266, '.”': 1239, '▁volatility': 24868, '▁learn': 669, '▁tail': 9891, 'TM': 2305, '▁Carpet': 17778, '▁Elliott': 28597, '▁makes': 656, 'cooked': 28764, '▁schema': 26622, '▁dispenser': 28042, '▁croissant': 29780, '▁Petro': 17786, '▁lange': 6575, '▁unterwegs': 18177, 'sian': 10488, 'genesis': 21715, '▁trading': 3415, '▁branches': 9678, 'sum': 4078, 'one': 782, 'ISS': 16994, '▁corporations': 11711, '▁PRO': 6828, '▁arrangements': 8281, '925': 28456, '▁bottom': 2007, '▁Waste': 17305, '▁réalisé': 13610, 'stellung': 5226, '▁collected': 4759, '▁moon': 8114, '▁sturdy': 15836, '▁beispielsweise': 10993, 'Share': 24501, '▁Some': 886, 'nos': 4844, '▁Secret': 9218, '▁strategically': 25178, '167': 27650, '▁izolat': 29542, '▁peculiar': 26460, '▁pretul': 20911, '▁Module': 20137, '▁radiator': 22910, '▁fertil': 20859, 'fern': 8377, 'dollar': 26748, '▁writes': 11858, '▁geschützt': 25631, '▁durch': 732, 'noticing': 28482, '▁seizures': 30406, 'simulated': 31126, '▁AAA': 22656, '▁endure': 16178, 'EP': 8569, 'affaires': 15224, 'stellbar': 28870, '▁discussed': 5172, '▁improvements': 6867, 'expressing': 21008, '▁Raymond': 22405, '▁cuvânt': 18030, '▁gerne': 5462, '▁1992': 9047, '▁Battle': 10141, 'bedingungen': 17391, '▁15': 627, '▁Julia': 18618, '▁sale': 1048, '▁revenu': 19278, '▁titles': 8342, '▁Hit': 11436, 'listed': 19279, '▁fixture': 20420, 'bourne': 26255, '▁côte': 27135, 'sendung': 29617, '▁carrying': 6771, '▁joueur': 25366, '▁kaufen': 9055, '▁thème': 16758, 'boro': 14901, '▁issued': 4683, '▁monster': 11604, 'ignon': 13815, '▁al': 491, '▁cumulative': 25965, '-19': 4481, 'fibro': 20602, '▁Waffen': 30152, 'gebäude': 27523, 'terie': 13881, '▁câte': 6573, 'truction': 26853, '▁vivid': 18744, '▁Already': 25103, '▁Sleeve': 31909, '▁Will': 2003, '▁data': 331, 'lini': 6129, '▁documentary': 12481, '▁cine': 10453, '▁gender': 7285, 'sti': 2248, '▁Chance': 8622, 'RSA': 27705, '▁Such': 3900, '▁assessment': 4193, '▁$7': 11301, '▁Mensch': 15181, '▁mère': 18052, '▁Windows': 1758, '▁Champion': 16127, '▁Vorlage': 29399, '▁API': 6429, '▁outcome': 6138, '▁domeniu': 14690, '▁Taj': 25187, '700': 9295, 'tub': 14535, '▁Lac': 14843, '▁cottage': 12268, '▁diagonal': 26184, '▁scene': 3112, '▁rival': 8374, '▁sustain': 12666, '▁increment': 26006, '▁relaţi': 23294, 'rough': 13245, 'greasy': 31799, '▁Ron': 10297, 'ств': 24832, '▁dock': 12908, 'pha': 6977, 'EV': 8878, 'yed': 10093, '▁witness': 9051, '▁races': 10879, 'elusive': 29748, '▁pick': 1432, 'urile': 1165, '▁cabin': 7788, '▁receptor': 15102, '▁elbow': 23630, '▁Tournament': 20502, '▁cinéma': 21534, '▁neam': 28533, '▁Zauber': 31367, '<extra_id_0>': 32099, 'ло': 21044, '▁deleted': 16355, '▁closed': 3168, '▁Broken': 29770, 'gged': 11918, '▁partnership': 4696, 'vollen': 17886, '▁frozen': 10451, '▁frumoasa': 22158, '▁chord': 20513, '▁mango': 24084, '▁crime': 5447, '▁Estimat': 23621, '▁Qu': 2415, 'Distinguished': 31815, 'poz': 9693, '▁WW': 18548, '▁taiat': 30121, '▁calibr': 22266, '▁Genetic': 27259, '▁listen': 3011, '▁mediul': 17047, '▁societati': 27940, 'évit': 8879, '▁selber': 16038, '▁chiropractic': 26412, '▁burned': 16644, ',\"': 976, '▁realm': 15854, '▁incep': 23352, 'endra': 12524, '▁Cri': 9605, '▁particularly': 1989, 'destinée': 29303, '▁cooked': 8311, 'PH': 8023, '▁candles': 19490, 'upcoming': 4685, 'Potrivit': 14738, '▁Prof': 7477, '▁afirma': 17325, '▁Industry': 9036, '▁Cluj': 9661, 'LINK': 27472, 'ling': 697, '▁photographed': 24882, '▁colonies': 27200, '▁touring': 19892, '▁davon': 7655, '▁delicat': 30915, '▁winds': 13551, '▁cream': 3022, 'OS': 3638, '▁collection': 1232, '▁energy': 827, '▁sens': 3952, '▁Mission': 8960, 'OT': 6951, 'erweise': 11164, '▁Dezember': 17900, '▁repris': 31217, 'ire': 2060, '▁protector': 22552, '▁uncommon': 21141, 'Laure': 19281, '▁Mall': 13552, '▁split': 5679, 'modalité': 29707, '▁don': 278, '▁here': 270, '▁stash': 29202, '▁Wort': 10507, '▁respectively': 6898, 'ла': 17148, '▁Yi': 14224, 'Sie': 23357, '▁avec': 393, '▁samples': 5977, '▁V': 584, 'group': 10739, 'städt': 23508, 'zeichnet': 18152, '▁îndeplin': 25364, 'actuel': 21706, '▁acel': 12856, '▁opportunity': 1004, '▁Rapid': 13836, '▁navig': 16867, '▁Architekt': 20575, '▁Mongolia': 29841, '▁Renewable': 31519, '▁Ikea': 25907, '▁Find': 2588, 'cruising': 27471, 'Account': 31963, '▁Oxford': 10274, 'high': 6739, 'rented': 20907, '▁esențial': 30667, '▁Pune': 19531, '▁Polyester': 23825, 'ştii': 18285, 'pun': 6225, 'angebote': 21428, '▁deloc': 19218, '▁dwell': 22231, '▁marketplace': 9895, 'carries': 11078, 'liga': 17140, '▁accompli': 30510, '▁pop': 2783, '▁guidance': 4864, 'agit': 5356, '▁gaps': 15853, '▁ferm': 10881, 'coast': 25500, '▁plonge': 28578, 'kit': 9229, 'SIA': 29689, 'For': 3809, '▁length': 2475, '▁Analysis': 10582, '▁technique': 3317, '▁prochain': 14597, '205': 23201, 'ectiv': 25848, '▁defined': 4802, '▁Marvel': 13927, '▁thermostat': 22062, 'clip': 16744, 'phil': 18118, '▁Although': 1875, '▁Merkel': 26499, 'gründe': 12880, 'synchronous': 30373, '▁keiner': 18904, 'IDE': 13162, '▁sigur': 7853, 'incurred': 20890, '▁carnival': 29482, 'luc': 11525, 'reading': 20316, '▁Care': 2686, 'www': 1986, 'bor': 6693, '▁Marian': 17535, 'koch': 18758, '▁Disclosure': 30211, '▁maneuver': 23264, '▁Probe': 22677, 'presedintele': 31500, '▁Harris': 12551, '▁odd': 8617, '▁verify': 10446, 'NOW': 12038, 'pé': 3890, '▁gear': 4124, '▁dementia': 19398, '▁photographer': 9050, 'vest': 19038, 'erhielt': 22454, '▁//': 13751, '▁appliances': 9403, 'anchmal': 16318, 'activity': 21661, '▁Kreuz': 19232, '▁conexiun': 29735, 'Mac': 17772, '▁Anna': 7588, '▁Campaign': 18409, 'mania': 22463, 'wirk': 22645, '▁Kingston': 26133, 'CF': 7380, 'ruf': 10977, '▁Emirates': 24106, '152': 26320, '▁Jay': 9373, 'Rhythm': 27224, '▁customer': 884, '▁klar': 8330, 'rut': 6830, '▁Dyna': 13967, '▁entspannen': 31549, '▁trace': 8320, '▁inheritance': 28915, '▁dosar': 14447, 'ful': 1329, 'ănă': 18121, '▁coating': 12258, '▁Pin': 8050, '▁Johann': 19719, '▁accompaniment': 31662, '▁alternatives': 10336, '▁oldest': 10043, '▁vehicul': 19942, 'extrêmement': 27666, '▁refresh': 16255, 'ros': 1859, '▁Fashion': 11256, '▁trio': 17204, '▁Erklärung': 28019, '▁paddle': 17852, '▁should': 225, '▁BMW': 8764, '▁1910': 26923, '▁Rain': 12574, 'aiming': 19874, 'marketing': 21087, '▁Al': 901, 'drive': 13739, '▁Wait': 14583, '▁reproduce': 16518, 'product': 15892, '▁ajut': 27164, '▁frecvent': 17569, '▁Cannabis': 28741, '▁officielle': 22940, 'judecată': 29811, '▁cache': 11800, '▁phase': 3944, 'lângă': 12420, '▁Krishna': 25983, '▁obvious': 4813, 'greg': 18301, '▁Aunt': 27626, '▁Vital': 23736, '▁risc': 9604, '▁hesitation': 29457, '▁neuroscience': 31542, '▁end': 414, '▁Hollow': 28528, 'cteur': 14341, '▁Brighton': 25080, '▁recueilli': 31162, '▁push': 3292, '▁train': 2412, '▁decat': 6057, '▁consideration': 4587, '▁liquor': 24138, '▁evidenț': 31699, 'ești': 5501, '▁compounds': 18042, 'EAD': 19552, '▁Jackie': 26868, '▁sprechen': 19869, '▁|': 1820, '▁mall': 13912, 'ddington': 30557, '▁chute': 22406, '▁SP': 6760, 'harmonie': 22650, 'având': 14585, '▁Age': 7526, '<extra_id_85>': 32014, '▁bonds': 13237, '▁coconut': 9417, '▁Ur': 4575, 'wak': 18603, '▁abstract': 9838, '▁yard': 6178, '▁headed': 7467, 'kap': 18852, '▁electrode': 22173, '▁Falls': 8491, '▁jeunesse': 27212, '▁Taliban': 28408, '▁wisdom': 8963, '▁Kontrolle': 25611, '▁Bulgaria': 15536, '▁randonnée': 29883, '▁erstellen': 21239, 'humain': 15279, '▁address': 1115, '▁freue': 27023, '▁contributed': 9859, '▁loading': 12115, 'horizon': 12158, '▁automatisch': 15820, '▁doute': 12664, '▁stie': 18466, 'sujets': 31194, '▁SC': 6508, 'berlin': 27995, '▁posibil': 6485, '▁crește': 23975, 'geteilt': 25180, 'Life': 16427, '▁quick': 1704, '▁scalp': 16875, 'verbindung': 30015, '▁Club': 1949, '▁Nikola': 28584, '▁théâtre': 23466, 'Your': 21425, '▁Naţional': 14887, '▁Mini': 4533, '▁debit': 14376, 'LK': 22527, '▁Peter': 2737, '▁gefallen': 23237, '▁Heat': 7862, '▁chandelier': 28003, 'shirts': 9955, 'Commerce': 23523, 'mettez': 31587, '▁alone': 2238, 'gori': 11498, '▁MP': 5220, '▁evolving': 16556, 'fassung': 14449, 'truck': 28105, '▁boy': 4940, '▁Cognitive': 31109, '▁tant': 6584, '▁povești': 31951, '6,': 11071, '▁victorie': 19900, '▁vase': 16997, '▁Hindi': 25763, 'drafting': 26797, 'würdig': 20258, '▁poly': 4251, '▁SIM': 16639, 'graph': 9413, '▁prevederi': 17519, '▁Warehouse': 29459, '▁masini': 17220, 'eaza': 1802, '▁Jobs': 15106, '▁WLAN': 28923, '▁organism': 9329, '▁italian': 24168, '▁vizualiz': 31320, '▁journée': 7530, '▁Pra': 6110, '▁achiziti': 26065, '▁employers': 7713, 'ador': 7923, '▁Rome': 7332, '▁drown': 24614, '▁4,': 6464, '▁Artikel': 8443, '▁parti': 5909, 'PF': 12017, '▁Nantes': 27559, '▁Jaguar': 24457, 'Orice': 24519, '▁rattle': 31010, '▁shallow': 16906, '▁cleanliness': 31582, 'cheta': 23949, 'nachfolgend': 31686, 'Israel': 30387, '▁scary': 14642, '▁congressional': 28167, 'Erkrankung': 24394, '▁equity': 8408, '▁sizes': 4342, '▁specified': 7173, '▁efect': 14393, '▁2019.': 4144, 'ansprüche': 31485, '▁committed': 3454, '▁Schwarz': 15040, 'INTE': 21342, '▁survivors': 20983, '▁wood': 1679, '▁beobachten': 30493, 'site': 3585, '▁final': 804, '▁gratitude': 17142, '▁obține': 22477, '▁envie': 12793, '▁Relation': 28898, '▁Orientierung': 31865, '▁species': 3244, '▁après': 3308, '▁match': 1588, '▁compoziti': 28210, '▁pine': 15178, '▁alb': 7046, 'imba': 17982, '▁Institute': 2548, '▁Clip': 17399, '▁conseillé': 30289, '▁140': 11397, 'contract': 20871, '▁domin': 10138, 'VENT': 24992, 'ținut': 14947, '▁collect': 2868, '▁costly': 11855, 'ING': 2365, '▁sieht': 10262, '▁zinc': 19347, '▁ceremonies': 25934, 'mashed': 23991, '▁persever': 22644, '▁Base': 8430, '▁Bud': 16440, 'eanu': 9725, '▁cortex': 29942, '▁royalty': 25268, '▁second': 511, 'eks': 16789, '▁talent': 3683, '?!': 10769, '▁Eng': 19650, '▁Adidas': 26149, '▁Carter': 17080, '▁kostenlos': 9297, '▁Veteran': 29632, 'invasive': 15267, '▁Heilig': 29762, '▁container': 6295, '▁trailer': 6943, '▁erscheint': 23722, '▁superioara': 31502, '▁prepare': 2967, '▁Triple': 22709, '▁Gold': 2540, '▁egal': 11218, 'ussi': 21516, '▁contraire': 18029, '▁insomnia': 29079, 'ponent': 9977, '”)': 7058, '▁stil': 7627, '▁Kalender': 28762, 'amélioration': 24507, '▁tightly': 20994, '▁Chambre': 25774, 'Ver': 5000, '▁variables': 11445, '▁Enjoy': 4780, 'ütz': 17022, '▁clienţi': 31298, 'PA': 3965, '3%': 5170, '▁Wave': 16184, '▁Accommodation': 31416, '▁volunteering': 21314, 'ight': 2632, 'étant': 9726, 'glyph': 29929, '▁conversion': 6113, '▁Origin': 19477, 'b': 115, '▁won': 751, '▁chamber': 10751, '▁cater': 11226, '▁Stellen': 15996, 'riff': 17048, 'ouvrir': 19086, '▁Crack': 23291, '▁failing': 12385, '▁mourn': 24746, '▁grip': 7411, 'ium': 2552, '▁fight': 2870, '▁Heroes': 26284, '▁true': 1176, 'fie': 8549, '▁organiza': 11310, '▁Hinter': 19371, 'distributing': 26962, '5.4': 27436, '▁\"': 96, '▁Coloring': 14453, '▁auditor': 17271, 'bog': 12247, '▁asigura': 7427, 'Love': 20808, '▁contradict': 21454, '▁barrel': 10650, '▁negligent': 30849, '▁cardboard': 21451, 'decizia': 22747, '▁grav': 9714, '▁strâns': 30911, '▁forcément': 25042, 'holen': 16067, '▁alte': 2105, 'peux': 16162, '▁cheerful': 25675, '▁cities': 3119, '▁tissues': 17451, 'fran': 6296, '▁restore': 7882, '′': 17774, '▁fost': 513, '▁Syndrome': 27956, '▁verte': 22423, '▁Im': 1318, '▁consultants': 14135, 'rile': 5493, '▁Serve': 15672, '▁negativ': 17291, '<extra_id_76>': 32023, ';': 117, '▁when': 116, '▁licensing': 16604, 'wichtigsten': 18228, '▁beam': 11638, '▁unclear': 19363, '▁welcomed': 13001, 'Presented': 31611, '▁cautare': 25922, '▁Celebr': 26071, '▁diffusion': 21740, '▁Maßnahmen': 19876, '▁2005': 3105, '▁Show': 3111, '▁functions': 3621, 'annonce': 10397, '▁Klar': 22931, '▁nursery': 17354, '▁Heights': 17948, '▁milieu': 12270, 'best': 9606, '▁dip': 10823, 'coloriage': 26905, '▁Intervention': 28499, '▁Allen': 10618, '▁grill': 6903, '▁product': 556, 'textured': 25616, '▁charm': 7111, '▁Lay': 17726, '▁Oscar': 13892, '▁Request': 15374, '▁Edmund': 31208, '▁Domnului': 20323, '▁Blake': 21581, '▁dealers': 15939, 'terribly': 28269, '▁creştere': 22444, '▁Beleuchtung': 31760, '▁vinyl': 9335, \"'\": 31, 'ätz': 19711, '▁limbaj': 28602, 'ească': 4927, '▁Pitt': 22042, '▁joke': 10802, 'die': 2498, 'kos': 9692, 'purpose': 19681, '110': 19277, '▁Ward': 15811, 'conscious': 25098, 'kowski': 27077, '▁proportion': 7385, 'promoting': 7312, '▁Rav': 25020, '▁Slam': 29291, '▁tall': 5065, '▁compréhension': 31184, '▁Ave': 8945, '▁Delaware': 19722, 'TECH': 25036, 'Inter': 17555, 'horaire': 25040, '▁Wo': 3488, '▁Israeli': 9351, 'écoute': 13969, '▁blister': 29113, '38': 3747, '▁layer': 3760, 'Fiecare': 18326, '▁die': 67, '▁Isaac': 20876, 'rushing': 15842, '▁condiţii': 18482, '▁mă': 3906, '▁propus': 16918, '▁conditioner': 16087, 'partner': 12300, '▁Federation': 14828, '▁beneficiaries': 24154, 'Printed': 30216, '▁Arkansas': 16622, '▁myself': 1512, '▁combinaison': 30804, '▁aici': 4003, '▁Mitsubishi': 27753, '▁scurt': 7553, 'Première': 30803, '▁Index': 11507, 'ozitate': 25433, '▁Records': 11547, '▁visual': 3176, '▁dial': 10362, '▁Presbyterian': 29698, '▁Cardio': 26171, 'Archived': 25771, '▁chat': 3582, '▁pergola': 28818, 'val': 2165, 'stance': 8389, '▁Murray': 15497, 'Städten': 31455, '—': 318, '▁function': 1681, 'regarded': 12327, 'TOR': 16442, '▁protège': 31139, 'ämlich': 15828, 'camp': 12389, 'EMI': 25284, '▁we': 62, '▁facult': 16888, '▁Automobil': 23468, '▁SI': 7933, '▁Project': 2786, 'consuming': 10862, '▁Dec': 4451, '▁analyst': 15649, 'atomic': 20844, '▁revue': 26113, 'TE': 3463, '▁Quand': 14976, 'ţi': 832, '▁Talk': 7772, '▁scroll': 11930, '▁Verhalten': 20583, '▁amazed': 16579, '▁Behörden': 29487, '▁ajuns': 7266, 'EZ': 16613, '▁wellbeing': 19016, '▁helfen': 10025, '▁translate': 13959, 'ón': 15742, '▁Leistungen': 17866, '▁Shakespeare': 18191, 'adurch': 12120, '▁$10,000': 24836, '▁Rabatt': 23571, '▁items': 1173, '▁Crew': 16233, 'equipped': 27886, '▁unor': 3444, '▁placement': 7907, '▁So': 264, '▁lineup': 15561, '▁Desktop': 18972, '▁lonely': 23633, '▁dirty': 13086, '▁Most': 1377, '▁coordonnée': 29995, 'an': 152, '▁zi': 3686, '▁belief': 7750, 'SK': 10047, '▁Fahrrad': 23900, '▁pronunciation': 30637, '4-0': 26814, 'release': 21019, 'HL': 13641, '▁Ernährung': 19295, 'software': 25650, '▁projection': 13440, '▁Seminar': 12930, '▁sampling': 17222, 'life': 4597, 'hearted': 21992, '▁Memo': 23018, '▁dataset': 17953, '▁équipes': 18611, '▁torture': 20269, ');': 3670, '▁résultat': 14999, '▁février': 13728, '▁Espa': 28774, '410': 24175, '▁DNS': 19380, 'était': 6449, '!)': 4819, '▁unsuccessful': 26684, '▁James': 2549, 'hang': 9270, '▁Document': 11167, 'ösen': 18569, '▁iubire': 18572, '▁machinery': 13226, '▁Stau': 19238, 'CARE': 22443, '▁presidency': 27405, '▁cognitive': 12368, '▁Konkurrenz': 31077, 'augmentation': 19260, 'utiliser': 16578, 'called': 9341, '▁plecat': 19149, '▁catre': 5006, '▁thorough': 9517, 'betroffenen': 25165, '▁compost': 17883, '▁Classroom': 29546, 'cot': 4310, '▁SERVICES': 27407, '▁smoking': 10257, '▁equivalent': 7072, '▁überzeugt': 21778, '▁plu': 3681, '2:00': 24112, 'ometer': 14148, '2.4': 17638, '▁visualize': 25086, '▁01': 7088, '▁subsidiaries': 28382, '▁into': 139, '▁seller': 9123, 'rés': 9631, '▁caracteristic': 23409, '▁instructional': 24247, '▁environments': 8258, 'impacted': 18229, 'opérateur': 26833, '▁ceci': 27745, '▁deposits': 15637, '▁Exclusive': 24463, '▁2006.': 15066, 'dition': 10569, 'électricité': 24916, '▁primi': 8748, '▁Attention': 20748, '▁im': 256, '▁Jo': 2194, '▁stunt': 27572, '▁amino': 17925, 'urilor': 2484, '▁heroin': 22658, '▁Setting': 23495, '▁Hindu': 18528, 'ACS': 26865, '▁quite': 882, '▁inadequate': 22666, 'dé': 3764, '▁arguments': 12874, '▁contracted': 25316, '▁twentieth': 28985, '▁gasi': 16357, 'deep': 25221, '▁einmal': 4909, '▁avis': 10413, '▁attractive': 5250, '▁durata': 17920, '▁Heck': 25743, '▁Champagne': 24682, 'when': 15832, '▁benefit': 1656, 'HAN': 24634, '▁turned': 2120, '▁Cairo': 28600, 'dimension': 31987, '▁1967': 18148, 'ippo': 23640, '▁Serbia': 22831, '▁Agency': 7038, '▁zgomot': 30309, '▁silly': 17056, '▁Present': 18795, 'influencing': 28753, '0-': 9498, '▁Expand': 28415, '▁remedies': 20203, '▁jede': 4846, '▁Establish': 26550, '▁traveling': 6723, '▁elite': 12496, '8:00': 15692, '▁große': 4859, 'oop': 6631, '▁Poli': 6907, 'monetary': 14356, '▁Bill': 3259, '▁paycheck': 27669, '▁trackback': 28125, '▁clothing': 5698, '▁kg': 9147, '▁conven': 14307, '▁fara': 4286, '2007': 20615, '▁Geburt': 24222, 'ancy': 6833, '▁allergies': 18500, '▁Bäume': 29401, '▁righteousness': 29950, '▁Min': 4765, '▁sich': 289, '▁2010.': 8574, 'BAN': 25534, 'aparut': 24800, '▁gourmand': 28381, '▁Allgemein': 21484, '▁Firmen': 16444, '▁plywood': 28792, '▁facebook': 13301, 'zie': 5600, '▁Therapeutic': 29855, '▁cooking': 3875, '▁bring': 830, '▁supermarket': 14427, 'affects': 19072, 'rij': 22276, '▁existing': 1895, '▁develop': 1344, '▁Geographic': 26588, '▁Bri': 7834, '▁seiner': 4255, '▁Reality': 23963, '▁sépar': 25587, '▁texts': 14877, 'arilor': 16373, 'ampli': 24608, 'Detect': 31636, 'mac': 11101, '▁membri': 12218, 'iron': 17773, 'TRE': 20371, '▁counting': 15899, '▁Grenzen': 23877, '▁Ma': 1534, '▁rapidly': 7313, '▁Resort': 8220, '▁combin': 10374, '▁Division': 6022, '▁improved': 3798, '▁Musk': 23763, '▁Beginn': 12847, 'MET': 24506, 'ANG': 19775, 'schließlich': 13259, 'wyn': 25269, 'cret': 16794, '▁2-3': 10948, '▁muss': 2171, '▁song': 2324, '▁accordingly': 14031, '▁Bass': 15049, '▁diabet': 17496, '▁Frühjahr': 29488, '▁distinct': 6746, '▁accreditation': 24513, '▁character': 1848, '▁farm': 3797, '▁Bedroom': 11643, '▁Santiago': 25715, 'donating': 28004, 'microsoft': 30574, 'SS': 4256, '▁Georgia': 5664, '▁significance': 11978, 'sensitive': 22118, 'CSI': 26362, 'äger': 27399, 'atty': 22648, 'LAS': 20245, 'Name': 23954, '▁idea': 800, 'etti': 10652, '▁disagreement': 28155, '▁vegan': 10278, '▁changed': 2130, '▁schlimm': 27125, '▁PLEASE': 26573, 'geschwindigkeit': 28053, '▁doctrine': 17974, 'pleasantly': 29183, '▁southern': 7518, '▁Domnul': 19618, '▁Wissen': 13872, '<extra_id_74>': 32025, 'ous': 1162, '▁means': 598, '▁forex': 17192, '▁refroidi': 31669, '▁rasch': 30778, '▁usage': 4742, '▁ceremony': 7252, '▁Creek': 7682, 'bas': 4883, 'chain': 19836, '▁novelty': 30372, 't': 17, 'mettre': 4412, '▁Individual': 10963, 'său': 11606, '▁Bord': 21572, '▁sake': 14246, '▁whistle': 23585, '▁disgust': 27635, 'utiliz': 24047, '▁YOUR': 11510, '▁prise': 8039, '▁australia': 23407, '▁Tiffany': 27611, '▁Center': 1166, '▁Dick': 21269, '▁Sp': 2526, '▁Wieder': 15158, 'sorption': 15016, '▁créateur': 29931, 'appropri': 18591, 'ault': 10335, 'PB': 13970, '▁folding': 18227, '▁Vermont': 18878, '▁outer': 12231, '▁retriev': 24515, '▁Milton': 26805, '▁botez': 27547, '▁cumpara': 19196, 'laufen': 8068, '▁bell': 12815, '▁compter': 20823, '▁Optimiz': 30543, '▁Report': 3750, '▁appointment': 4141, '▁inches': 5075, 'uneori': 17170, '▁Mercury': 23461, '▁Hirsch': 31231, '▁inter': 1413, '▁musste': 10885, '▁boost': 4888, '▁Hüt': 29622, '▁cariera': 29990, '▁méta': 18384, '▁Congratulations': 13805, '▁similarities': 25758, '▁Strip': 16209, '▁although': 2199, '▁Keep': 3521, 'ieni': 20041, '▁rejection': 21530, '▁Olympia': 22988, 'eye': 13370, '▁12-': 13364, '▁bleeding': 19021, 'arrelage': 23554, '▁Mis': 8306, '▁Ku': 3695, 'architecture': 26817, '6.3': 27865, 'wit': 7820, '▁44': 8537, 'latéral': 31187, 'ieß': 15179, 'connect': 19532, '▁disk': 8987, 'phobia': 27426, '▁visited': 5251, 'ophil': 21144, 'glomer': 24422, '▁bewusst': 21873, 'phin': 22230, 'reminiscent': 24514, '▁geschaffen': 27727, 'supported': 29249, '▁To': 304, '▁vineri': 19772, 'zece': 19811, '▁Bewerbung': 22888, '▁sketches': 27294, 'sensitivity': 13398, 'Hence': 13151, 'store': 7154, '▁changer': 13412, 'evoke': 17943, '▁Magic': 9222, '▁Annie': 22941, 'aduse': 30834, 'forderung': 23894, '▁bubbl': 28463, '▁agency': 3193, '▁Einwilligung': 30483, '▁took': 808, '▁ar': 1584, '▁procent': 23781, 'sensul': 24444, 'AF': 6282, 'ţii': 3682, '▁encounter': 6326, '▁employees': 1652, '“.': 7067, 'yard': 6636, '▁beaches': 9252, '▁suggér': 31967, '▁vazut': 14899, '▁verdienen': 31289, '▁supply': 1899, '▁courtyard': 22920, '▁Un': 597, '▁airport': 3761, '▁commander': 17604, '▁concedi': 24554, '▁Bus': 5703, 'wä': 7497, '▁fișier': 30030, '▁imported': 17376, 'acc': 6004, '▁Teaching': 16648, 'Col': 9939, 'roch': 11492, '▁thrive': 12929, '▁downtown': 7092, '▁Vit': 11491, '▁believing': 19960, '▁Wonderful': 21218, '▁walmart': 24140, '▁feedback': 3160, '▁Archives': 18499, '▁romance': 14210, '▁Church': 2345, '▁Hai': 13758, 'vêtement': 28885, '▁Jude': 15028, '▁discounted': 19077, '▁carrot': 15578, '▁mir': 1870, '▁produsele': 11782, '▁Spread': 20481, '▁ieși': 24368, 'wächst': 30255, '▁lush': 18127, '▁dar': 649, 'defense': 31749, 'gebung': 27580, '▁Folosi': 29380, '▁campaign': 2066, '▁academy': 25990, '▁grows': 13919, '▁Realtor': 26526, '▁Teams': 16651, '▁cavities': 31742, '▁chargé': 25676, '▁următoare': 25358, '▁growth': 1170, '▁promise': 5712, '▁Cent': 18434, 'Min': 12858, 'Während': 13392, 'rink': 13419, '▁partager': 16398, '▁morceau': 22647, 'Kampagne': 30249, '▁born': 2170, '▁Parfum': 30376, '▁applying': 6247, '▁laughing': 20692, 'lipsa': 18616, 'bacter': 19628, '▁struggles': 16562, '▁future': 647, '▁sections': 6795, '▁Collector': 30275, '▁rezultatul': 24645, '▁Victor': 8884, '▁Labor': 9836, 'olin': 12057, '▁evolu': 13501, '▁live': 619, 'FR': 7422, '▁platforms': 5357, '▁Email': 8601, '▁Höhe': 8898, 'chner': 19411, '▁mass': 3294, '▁founder': 7174, '▁prolonged': 22914, '▁Soft': 11759, 'ismul': 18385, '▁dodge': 26841, '▁contrast': 4656, '▁inquiries': 20182, '▁California': 1826, '▁Hitler': 22640, '▁welcome': 2222, '▁Indian': 2557, '▁inaltime': 29624, '▁Benjamin': 15717, 'pond': 7290, '▁încep': 23843, '▁verbinden': 28982, 'rhythm': 30793, 'Invest': 13898, '▁Accessories': 23681, '▁CV': 10430, 'mai': 6840, 'undergoing': 22725, 'pala': 13878, '▁thermo': 14438, '▁interactive': 6076, '▁Poll': 14457, '▁convo': 21362, 'euros': 18985, '▁resort': 4631, '▁recens': 29960, '▁angegeben': 21163, '▁Ralph': 21171, '▁succ': 22247, '▁continue': 916, '▁Ba': 2659, '▁science': 2056, '▁Safe': 12165, '▁Massachusetts': 9777, '▁Wallpaper': 19032, '▁unfamiliar': 24108, '▁nave': 26542, '▁Roll': 6070, '▁Magnolia': 31927, '▁Vorgehen': 28250, 'hin': 2907, 'Often': 10084, '-13': 13056, '▁domni': 23920, 'nomie': 23140, 'bleib': 24196, '▁shoes': 4439, 'occ': 13377, 'hara': 14888, '▁pub': 11943, '▁purity': 27850, '▁advent': 23693, 'grès': 20836, '▁costs': 1358, '▁stir': 7831, 'clés': 22169, '▁faceti': 24559, '▁Combat': 26885, '▁drought': 19611, 'onal': 9533, '▁sitting': 3823, 'maybe': 25746, '▁Uncategorized': 22486, '▁Ich': 1674, '▁locksmith': 15307, '▁occidental': 28590, '▁Presidential': 26230, '▁harm': 6263, '▁fabrication': 14459, '▁renunt': 26196, 'LAND': 21147, '▁Missouri': 12401, 'occasion': 9059, '▁definitive': 20374, 'fair': 14881, '▁incident': 5415, '▁Quali': 25388, '▁präsentieren': 25673, '▁Audi': 9835, '▁excitement': 10147, 'museum': 25581, 'cade': 6615, '▁importance': 3172, 'Seite': 29805, '▁lei': 4628, 'HQ': 21447, '▁Diskussion': 25677, '▁matériel': 13097, '▁benches': 28195, 'holic': 26641, 'stor': 7279, 'adel': 15311, '▁Timisoara': 29657, '▁Sports': 5716, 'vre': 10859, '▁scam': 13236, '▁geprüft': 29322, 'bed': 4143, '▁Logo': 15327, 'pre': 2026, 'iness': 6096, 'ate': 342, 'shu': 14279, 'Top': 22481, '▁Us': 6952, '▁playground': 16554, 'onformément': 31362, '480': 20579, '▁invade': 24281, 'écriture': 24162, 'reichen': 11257, '▁răspuns': 15466, '▁colaborare': 21446, '▁Afrika': 30615, '▁individuals': 1742, '▁plaisir': 10033, '▁communities': 2597, '▁drill': 9722, 'Westfalen': 31933, '▁Introduction': 18921, '▁diseases': 6716, '▁Monat': 15071, '<extra_id_57>': 32042, '▁glut': 26760, '▁Trip': 16993, 'ische': 2014, 'inţă': 17576, '▁cladiri': 30457, '▁stoc': 13564, 'Erlebnis': 19096, '▁delicate': 10396, '▁decorated': 13264, '▁periodically': 22654, '▁Optimization': 29044, '▁160': 11321, '▁crypto': 17620, '▁mortgage': 4539, '▁amestec': 11088, '▁360': 9181, '▁Chu': 16636, '▁Studio': 5929, '▁ehrlich': 29204, '▁Suffolk': 29949, '▁urmatoare': 27146, '▁Pedro': 24923, '▁Chiar': 12995, '▁Eva': 17627, '▁Plenty': 28474, '▁macht': 3998, 'dow': 15198, '▁avoided': 16652, 'utigen': 21041, 'ат': 22581, '▁flawed': 28607, '▁jeder': 6175, 'ister': 5805, '▁Operations': 14111, '▁female': 3955, '▁Wetter': 14845, '▁äußer': 18842, '▁Also': 1203, '▁mutual': 8543, '▁wear': 2112, '▁Legacy': 24843, '▁receive': 911, 'те': 14982, '▁Expect': 19539, 'Friday': 31157, '▁manicure': 31224, '▁câ': 10541, '83': 4591, 'preis': 6837, '▁soybean': 27161, '▁episode': 5640, 'operative': 11480, '▁Snap': 20035, '▁milliards': 21161, 'rez': 2638, 'autorité': 19387, 'öse': 19797, '▁hospital': 2833, '▁supported': 3510, '▁valoare': 10551, 'defining': 16123, '▁reconnaît': 26492, '900': 7015, 'final': 12406, '▁wouldn': 3290, '▁fuss': 21904, '▁agility': 29647, '▁mechanism': 8557, '▁mun': 13844, '▁immigration': 10653, '▁déterminer': 29537, 'January': 30404, '▁C': 205, '▁crib': 25555, '▁newsletter': 7288, 'gam': 8758, '▁spray': 5974, 'pati': 7768, '▁deserves': 15314, '199': 19479, 'focus': 25198, 'pecializing': 26253, '▁Algeria': 30805, 'awa': 7396, '▁urban': 4150, 'espace': 6405, 'SEL': 23143, 'revealing': 20508, '▁Check': 1972, 'intensive': 28135, '▁Netz': 8266, 'individu': 17027, '▁Consumer': 10907, '▁versatile': 10201, 'accumul': 22274, '▁desperate': 18337, '▁debate': 5054, '▁Lux': 14646, '▁laser': 6124, 'prä': 13078, 'témoin': 31039, '▁2018.': 3070, '▁landscaping': 18636, '▁pédagogique': 30958, 'lasi': 27702, '▁verteilt': 28410, '▁Tempe': 26396, '▁breit': 20972, 'ains': 13676, 'RB': 12108, '▁frigider': 28221, 'pressed': 8918, '▁așa': 7941, '▁Cape': 9702, '▁Wisconsin': 10212, '▁Veranstaltungen': 21216, '▁Kunden': 3207, '▁zwischen': 3446, '▁spread': 3060, 'ät': 9966, '▁varnish': 31252, '▁--': 1636, '▁value': 701, 'iggle': 26960, '▁Holder': 24717, '▁delegation': 24696, '▁Sal': 5158, '▁fireworks': 23806, '▁Users': 13504, '▁refugees': 16723, '▁Owner': 13307, '▁countertop': 25915, '▁Translat': 30355, '▁SPD': 22822, '▁suprafata': 19325, 'ic': 447, '▁Four': 5933, '▁lakh': 27880, '▁material': 1037, '▁Lenovo': 24340, '▁näher': 19875, 'ello': 7126, 'chez': 20095, 'say': 8735, '▁Members': 9537, '▁magnif': 27751, '▁simpati': 31745, '▁statement': 2493, '▁GRA': 23194, '333': 23360, '▁Maintain': 22959, '▁Einladung': 27509, '▁addressed': 8705, '▁thickness': 14803, 'ousse': 17486, '▁Our': 421, 'affir': 27236, '▁dévoil': 26441, 'lapse': 16543, '▁bond': 6235, '▁pill': 20295, '▁radius': 24153, '▁glyco': 27170, 'faudra': 18068, 'Practic': 24450, '▁11:00': 25222, '▁sportif': 23680, 'chirurg': 26123, '▁1,5': 18694, '▁yesterday': 4981, '▁bath': 3827, '▁playful': 22071, 'meric': 17552, 'ifié': 11408, 'biologi': 24918, '▁Heidi': 30640, '▁cuts': 8620, 'directed': 22955, '▁depict': 9850, 'luti': 16668, 'rupt': 9433, 'English': 26749, 'contenan': 29047, 'arhi': 16611, '▁Very': 4242, '▁countries': 1440, '▁LOVE': 10315, '▁distract': 15980, '▁published': 1790, '▁token': 14145, '87': 4225, '▁width': 9400, '2.9': 27297, 'MV': 12569, 'log': 2152, 'association': 13443, '▁2015': 1230, '▁Rare': 23043, 'venir': 7394, 'IU': 19120, '▁Doch': 7217, 'rada': 14842, '▁Netanyahu': 30499, '▁shoppers': 18574, '▁apprécié': 26377, 'LL': 10376, '▁car': 443, '▁navigate': 7939, 'ico': 5807, '▁You': 148, '▁wenig': 4499, 'wettbewerb': 31467, '▁bottle': 4782, 'Fiind': 28863, '▁preliminary': 17413, '▁Tak': 18973, 'Software': 29944, 'end': 989, 'appareil': 10214, 'has': 10293, '▁on': 30, 'ford': 2590, '▁propag': 17554, 'genuinely': 18091, '<extra_id_15>': 32084, 'vorsitzende': 31569, '▁reconstruct': 29814, '▁house': 629, '▁simplifie': 29376, 'ntrepid': 31332, '▁passende': 11622, '▁ține': 26493, '▁legal': 1281, '€': 3378, 'obtainable': 31723, 'cosy': 25409, 'chor': 19220, '▁Canyon': 16078, 'ziel': 13187, 'kräftig': 20545, 'rahm': 17475, '▁Vanilla': 31664, '▁placut': 14285, '▁chapter': 5800, '▁Stelle': 13524, '▁hosted': 6523, '▁employed': 8152, '▁Fantastic': 21737, '133': 22974, '5.3': 26627, '▁înțeles': 30606, 'Acc': 19543, '▁Feb': 8037, '▁marvel': 23092, '▁recours': 22975, '▁students': 481, '▁consolidation': 16690, '▁Tattoo': 30687, '▁Her': 1347, '▁Spur': 17740, '▁Desk': 19047, '330': 17225, '▁allegations': 20265, '▁teenager': 12357, 'cifra': 31812, '▁cultures': 9757, 'law': 4207, '▁Voi': 15055, '▁PLUS': 27810, 'chatting': 25246, 'government': 27818, '▁God': 601, '▁Bö': 24010, '▁Verpackung': 28519, '▁diversity': 7322, 'hersteller': 28775, 'framed': 20157, '▁Low': 5586, '▁astfel': 2607, '▁zweite': 15402, '▁Mehrheit': 30609, '▁speech': 5023, '▁secol': 17515, '▁lottery': 22784, '▁Manitoba': 28834, '▁attendant': 21598, 'tool': 13650, '▁Century': 12336, '▁projects': 1195, '▁miss': 3041, '▁Virginia': 5382, 'nic': 2532, '▁Kreis': 14005, '▁chaudière': 29820, '▁trouvai': 31903, 'écran': 13138, '▁divin': 23567, '▁knot': 12705, 'essentiellement': 29946, '▁Eastern': 7345, '▁Planner': 27306, '▁Vehicle': 15095, '▁stained': 21815, '▁Gall': 10987, '▁day': 239, 'coping': 22375, '▁Pl': 7337, '▁Electronic': 9885, '▁one': 80, '▁einzigartig': 31019, 'ţiuni': 16155, 'navigating': 27016, '▁accent': 5820, '▁bass': 7981, '▁prezint': 27567, '▁nicotine': 28459, '▁contained': 6966, 'bottled': 31800, '▁isolate': 25034, '▁publishing': 9002, '▁Environmental': 9185, '▁Ausland': 22056, 'îm': 23788, '▁respins': 31852, '▁violin': 24325, 'cheltuielile': 31867, '50': 1752, '▁Gen': 5945, '▁wissen': 9594, '▁fitted': 9695, '▁logistics': 15226, '▁Barn': 14267, '▁Successful': 24739, '▁sort': 1843, '▁carcas': 27733, '▁Cadillac': 30933, 'book': 2567, '▁Vision': 10886, '▁powers': 11552, 'wende': 18634, '▁bathrooms': 14704, '▁MORE': 23207, '▁affiché': 29891, '▁vizitatori': 28103, '▁cheer': 11288, '▁précieu': 25989, '7-8': 25580, 'drilled': 28940, '▁cerebral': 24387, '▁tumour': 29851, '▁actor': 7556, '▁Om': 13285, '▁Chef': 8528, '▁math': 7270, 'anim': 13607, 'ixie': 27350, '▁blieb': 26555, 'atura': 13149, '▁widow': 23428, 'läufig': 27590, '▁convey': 11770, 'Science': 31385, '▁50': 943, 'Enfin': 15169, '▁viable': 15109, '▁traditionnel': 17921, '▁gather': 7479, 'West': 19069, '▁judeţ': 22921, 'déposer': 31132, '▁Reef': 28972, '5.00': 23577, 'ace': 3302, 'cita': 26466, '▁financiar': 16194, 'ango': 17934, 'offres': 23049, '▁Fireplace': 29157, '▁Ben': 2798, '▁entier': 21072, '▁Männer': 16282, 'lassung': 20766, '▁Sitz': 11216, '▁BLACK': 31239, '▁Know': 8900, '▁magic': 5189, 'bedarf': 19357, 'When': 10555, '▁Sterling': 21721, 'abile': 7564, 'TU': 9968, '▁Duty': 22203, 'ergebnisse': 21406, '▁Bühne': 21552, '▁niece': 23642, '▁friend': 1565, 'month': 7393, 'pell': 19510, '▁incercat': 22809, '▁Il': 802, '▁monde': 2921, 'oversized': 24698, '▁irit': 30886, '▁daughters': 16649, 'tagged': 6153, '▁41': 8798, '▁bent': 21222, '▁robust': 6268, '▁discharge': 12445, '94': 4240, '▁liberty': 25092, '▁féminin': 28054, 'ring': 1007, '▁loan': 2289, '▁includes': 963, 'estens': 25081, 'schlag': 9444, '▁decisiv': 24134, 'discarded': 29611, '▁Emperor': 26423, '▁outdoors': 10962, '▁neg': 14261, '▁positive': 1465, '▁regular': 1646, '▁gust': 8829, '▁Iohannis': 26131, '▁Cardinal': 21967, '▁staggering': 28254, '▁foreclosure': 22353, 'țele': 10502, '▁News': 3529, '▁Anonymous': 30736, '▁Kerry': 24967, '▁Exterior': 25627, '▁incorporate': 6300, '▁Deutschland': 4069, 'atteindre': 21113, '▁pollution': 10441, 'nunț': 16992, '▁god': 8581, 'üben': 25897, 'enriched': 27307, '▁exist': 3223, '▁privind': 5280, '▁federal': 2822, '▁Frame': 16015, '▁reciproc': 22882, '▁silk': 11021, '▁necessarily': 6539, 'leiter': 13071, '▁iPhone': 3146, '▁meantime': 16350, '▁cocaine': 29309, 'TES': 21254, '▁orange': 5470, '▁frunze': 28259, 'geordnet': 19522, '▁stii': 18542, '▁fifteen': 17310, '▁wearing': 5119, '▁bottles': 10787, '▁Combine': 20414, '▁error': 3505, '▁numérique': 13793, '▁Test': 2300, '▁vol': 5063, '▁récemment': 25401, 'ianu': 27470, '▁tactile': 28358, '▁hab': 9809, '▁Bamboo': 30185, '▁distrus': 26246, 'commercial': 27260, '▁bacterii': 31318, 'înd': 12516, '▁fascinating': 8899, '▁hinge': 14875, '▁Portuguese': 21076, 'yama': 22990, '▁Am': 736, 'ers': 277, '▁Durchschnitt': 30335, '▁Groß': 8339, 'bourgeois': 30375, '▁probable': 23093, '▁searching': 4549, 'Chef': 29639, 'éventuel': 25435, 'was': 9491, 'räu': 14674, '▁Limo': 21866, 'stat': 8547, '▁conflit': 26503, '▁Edition': 7504, 'Syndic': 31715, '▁summary': 9251, '▁5': 305, '▁Betroffenen': 30768, '▁utilizator': 14293, '▁debris': 12544, '▁villes': 20548, '▁suddenly': 8247, '▁True': 10998, 'Availability': 30235, '▁Char': 7435, 'megapixel': 29265, '▁Recomand': 29553, '▁pouvoir': 5969, 'R': 448, '▁inseamna': 14197, '▁sub': 769, '▁Sofa': 17547, '▁Rusia': 23699, 'rus': 4502, '▁flip': 10807, '▁launched': 3759, '▁mână': 26626, 'bind': 8610, '▁ventilat': 23902, '▁gilt': 6845, 'cell': 8725, '▁mitigation': 27193, '▁overhaul': 24254, '▁datori': 24952, '▁şi': 267, '▁Soldier': 28712, '▁recognised': 14869, '▁fulfil': 23334, '▁spa': 4174, '▁Utah': 12339, 'scalable': 24079, 'Water': 28632, 'from': 7152, 'scrise': 24249, '▁Jimmy': 16754, '▁Wer': 4444, 'hour': 5842, 'cession': 19988, '▁Smile': 23418, '▁Driver': 10546, '▁4': 314, 'oût': 26511, '▁interpersonal': 28978, '▁receiving': 4281, '▁Pie': 11591, 'leaned': 30233, '▁extended': 4760, '▁Protestant': 27060, '▁scar': 6541, '▁Pel': 18773, 'gesichts': 30227, 'nez': 9645, '▁Birth': 26337, 'ovi': 9881, '▁Sorge': 25362, '▁solution': 1127, '▁frequently': 4344, '▁Any': 2372, '▁Employ': 19631, 'media': 8172, '▁1977': 16433, '▁Hunger': 26049, '▁important': 359, 'ка': 12095, '▁Cost': 6409, '▁IT': 2344, '▁penetrate': 24974, '▁Pest': 15161, '▁readiness': 25929, '▁tuturor': 8768, '▁gesch': 11952, '▁promote': 2519, 'cream': 11763, '▁desfasura': 22795, '▁they': 79, '▁scientists': 7004, 'IAN': 21758, '▁Harry': 8929, '▁collateral': 25028, '▁sensible': 11743, '▁Brett': 21203, '▁INFORMATION': 28338, '▁Mental': 17054, '▁Shape': 23890, 'Typical': 31434, '▁pi': 2816, '▁analysts': 15639, '▁Staat': 18122, '▁Mobility': 27643, '▁stolen': 14244, '▁Mom': 8822, '▁fastest': 10391, '▁crops': 15183, 'follow': 25278, '▁guests': 2554, '▁secteur': 10383, '▁bold': 8197, 'riti': 13224, '▁statistic': 19720, '▁Düsseldorf': 21836, 'amitié': 31989, '▁aktiv': 10935, '▁determined': 4187, 'alimentation': 22193, 'buz': 18579, 'KC': 23405, '▁unbe': 12658, 'battling': 25764, '▁drept': 6072, '▁useless': 19930, 'combines': 15256, 'burn': 7223, '▁Hip': 16337, '▁enregistré': 25635, '▁100,000': 18829, '▁cut': 1340, 'lop': 8745, '▁often': 557, '▁Xbox': 14480, 'Toute': 15791, 'intuit': 26145, '▁Dave': 8545, '▁diese': 637, '▁walkway': 27094, '▁Huawei': 18590, '▁operator': 7221, 'letzt': 13761, '▁Independence': 23381, '▁sublinia': 26922, '98': 3916, 'task': 23615, '▁veröffentlicht': 15261, '▁Dow': 21236, '▁possède': 16865, '▁Emp': 19294, '▁contingent': 27030, '▁Du': 970, '▁basic': 1857, '▁tête': 9844, 'present': 12640, '▁evaluated': 14434, '▁iesit': 27416, '▁Bread': 26792, '▁consili': 28738, 'ifty': 21822, '▁Journey': 20709, '▁hetero': 26481, '▁informative': 11152, '▁efort': 14831, '▁prelua': 18903, 'abri': 17639, '▁indicate': 6360, '▁HOW': 25144, 'erra': 16841, '▁picnic': 13791, '▁Etats': 20628, '0.8': 22384, '▁begonnen': 28971, 'heli': 17801, '▁what': 125, '▁locuinț': 31632, '▁versch': 10020, '▁Animal': 10089, 'etz': 6706, '▁codes': 5633, 'adapted': 13842, '▁force': 2054, 'despite': 3565, '▁Share': 7105, '▁Beide': 23764, 'LP': 6892, 'pp': 1572, 'pendant': 14409, '▁septembrie': 14688, '▁plin': 10996, '▁yarn': 14313, 'à': 85, '▁Mustang': 25491, '▁declarat': 6369, 'hiel': 16219, '▁américain': 13742, '▁Joint': 16761, '▁cute': 5295, '▁soon': 1116, '▁worthwhile': 20167, '▁baptism': 27843, '▁VIII': 27936, 'seinen': 6135, 'avancée': 30668, '▁lieber': 20802, '▁neuro': 6567, '▁cheltuieli': 26245, '▁Coconut': 27238, 'project': 23574, 'Possibly': 31406, 'certified': 27576, '▁Charge': 15907, '▁managed': 3030, '▁atenti': 15879, '▁forums': 13694, '▁séance': 18028, '▁thieves': 31219, '▁Yamaha': 26369, '▁brain': 2241, '▁MBA': 15751, '▁Brenda': 23506, '▁équipe': 12168, '▁Making': 9918, '▁Building': 5450, 'Veröffentlichung': 28335, '▁capac': 17352, '▁dank': 12957, 'union': 16598, '▁limp': 29435, '▁piaț': 19256, '▁comic': 7967, '▁stages': 6518, '▁Sweet': 11168, '▁chilled': 27290, '▁skull': 21995, 'alter': 8818, '▁daher': 8301, '▁Catalog': 22424, '▁dauerhaft': 26027, 'esteem': 19958, '▁Hopkins': 24704, '▁Ethics': 25577, '▁Southwest': 21423, '▁Bremen': 26594, '▁rude': 19986, '▁Kne': 22860, '▁Curriculum': 29019, '▁exceed': 8193, '▁observations': 14181, '▁exploration': 9740, 'produkte': 23817, '▁serving': 3122, '850': 17246, 'Ultimately': 19494, 'typique': 27941, '▁food': 542, 'inevitably': 21874, '▁Prevention': 19715, 'enberg': 11063, '▁eggs': 5875, '▁Wagner': 22338, '▁Promotion': 19369, '▁Ohio': 6167, '▁smaller': 2755, '▁dollar': 6816, '▁Anwendung': 11844, 'loyer': 28014, 'BS': 4547, '▁Ordnung': 24957, 'anii': 10365, '▁Bedürfnisse': 20632, '▁web': 765, '▁anuntat': 27417, '▁news': 1506, '▁frame': 2835, '▁updates': 3864, 'nox': 19864, '▁frankly': 26200, '▁capabil': 22915, 'trimmed': 29293, '▁network': 1229, '▁developments': 11336, 'Paket': 21745, '▁light': 659, '▁hiking': 10721, '▁Larry': 17129, '▁ski': 5210, 'help': 15061, 'entretien': 14048, '▁tine': 6003, 'ieuse': 19331, '▁Unterschied': 19195, '▁Brussels': 20501, '▁pouvai': 20914, 'therapeut': 25827, '▁Welche': 12625, 'tirer': 25061, '▁overlay': 25980, 'ayne': 21993, 'ier': 972, 'transforming': 21139, '▁Reservation': 27659, 'bod': 19987, '▁sofa': 5650, '▁reagiert': 31384, 'parked': 16669, 'unicipiului': 21619, 'găseșt': 30093, 'leurs': 3603, '▁drag': 5439, '▁Dupa': 10716, '▁volumes': 13548, '▁Mind': 8477, '▁încheiat': 25861, '▁cm': 2446, '▁nursing': 8205, '▁besoins': 10778, '▁Games': 5880, '▁fantas': 18278, '▁Metro': 10730, '▁rugged': 21350, '▁men': 1076, 'cette': 922, '▁Orange': 7311, '▁organizatori': 29254, 'maximizing': 30259, 'karte': 17510, '▁Ucraina': 30190, '▁apar': 9072, '▁Heil': 18378, '▁turmeric': 31073, '▁O': 411, '▁Rechts': 11013, '▁vessel': 12662, 'Această': 17749, 'méthodes': 28476, '▁joint': 4494, 'tained': 10733, '▁Gene': 6939, '▁rédui': 17573, 'schoss': 22476, '▁Bonnie': 29203, '▁Pompe': 29436, '▁shell': 7300, '▁to': 12, 'metri': 8180, 'serait': 9536, '▁rendez': 14380, '▁Bestandteil': 26117, '▁Vorstellung': 20912, '▁Goose': 30462, 'möglichkeiten': 14755, '▁semnificativ': 21103, '▁Metropolitan': 20074, '03.': 13267, 'itz': 5615, '▁ownership': 7915, 'inserted': 19435, 'isant': 13625, 'tura': 7188, '▁Click': 2001, 'TRA': 11359, 'ISH': 20619, '▁Früchte': 31550, 'insurance': 29441, 'etic': 7578, '▁Donald': 7459, '▁father': 2353, '▁temptation': 25655, '▁March': 1332, '▁Bahnhof': 26989, '▁réalisation': 16792, '▁organizat': 9833, '▁newborn': 21118, 'escaped': 28423, '▁psychic': 26829, '▁list': 570, 'hilfe': 11371, '▁souhaitez': 13737, '▁francez': 19985, '▁dedicate': 19567, '▁Serving': 24964, 'longed': 23629, '▁titluri': 31684, '▁Scottish': 12580, '▁Syrian': 16706, '▁est': 259, '▁politicians': 13446, '▁ranch': 17008, '▁stationary': 28033, '▁advertising': 3662, '▁diplomatic': 22535, 'flam': 10980, '▁Produc': 22966, '▁knitting': 25184, '▁keeps': 5689, '▁Tous': 14222, 'oanele': 22598, '▁noteworthy': 29130, '▁waive': 26712, 'affaire': 20894, 'Fraktion': 31002, '▁Tier': 6669, 'crafted': 8810, 'found': 19732, 'isme': 6274, 'ak': 1639, '▁Hughes': 21512, '▁privat': 11596, '▁crushing': 12107, '▁situ': 12958, '▁clever': 13183, '▁Nie': 17584, 'automat': 18698, '▁stăpân': 30043, 'werk': 3458, '▁col': 7632, '▁rugăm': 27788, 'green': 9423, '▁usor': 8189, 'EMENT': 21221, '▁core': 2583, 'Deine': 16177, 'Anzeige': 23557, '▁ganduri': 30967, '▁hair': 1268, '▁Protein': 17379, 'heit': 4474, '▁klein': 21856, 'schul': 14800, '▁tren': 14944, '▁avem': 5804, '▁vary': 5215, '▁buds': 24502, '▁strong': 1101, '▁imbunatati': 29076, '▁Opera': 6411, '▁lazy': 19743, '▁airplane': 20527, 'Part': 13725, '▁Tile': 16485, '▁souhait': 11489, 'Gig': 20640, '▁clown': 29651, '▁dunkle': 28522, '▁scissors': 28958, '▁ab': 703, '▁Trans': 4946, 'hütte': 30496, '▁incalzire': 31269, 'colo': 8135, '▁verkaufen': 25712, '▁tentative': 23969, '▁Scri': 20190, '▁Norwich': 30894, 'achat': 8664, '▁few': 360, '▁Rock': 3120, '▁patron': 9331, 'halte': 13299, 'Dezvoltare': 26339, 'versiune': 23730, '▁Ersatz': 23839, 'talk': 18092, '▁fotografii': 20963, '▁TRANS': 26585, '▁ends': 5542, '▁Normal': 16612, '▁mail': 4842, '▁SSL': 19207, '▁advances': 15895, '▁cleanup': 23175, '▁Sonder': 17244, 'oza': 13277, '▁uncover': 19019, '▁false': 6136, '▁stupid': 13721, 'E': 427, '▁trigger': 7294, 'perçu': 25161, '▁count': 3476, '▁Energy': 4654, '▁#2': 15493, 'kampf': 21270, 'bon': 5407, '▁theft': 14806, '235': 25174, '▁mousse': 24971, '▁psycho': 8423, 'converge': 28209, '▁adjunct': 28542, '▁Archiv': 17189, '▁bruit': 25586, 'lucht': 28715, 'denken': 11616, 'envoyer': 22584, 'jihad': 29516, 'URS': 22766, '▁money': 540, 'func': 25322, '▁cathedral': 26411, '▁Martin': 3394, 'ome': 7159, '▁rec': 5026, 'Activ': 13035, 'taine': 15354, '▁notamment': 5863, 'PART': 19846, '▁Le': 312, '▁Wang': 18102, 'Canada': 28811, 'staffed': 30495, '▁Charlie': 12707, 'jud': 14312, '▁info': 2845, '▁Ob': 4249, '▁Ansprüche': 25964, '▁MySQL': 27563, '▁Road': 2409, 'deluxe': 27747, '▁brainstorm': 26463, '▁Câ': 15456, 'aţi': 3649, 'Don': 13843, '▁performers': 18700, '▁govern': 22417, '▁îndepărt': 27050, '▁WWE': 29148, '▁brings': 3200, 'Am': 8123, '▁erklärt': 13411, 'umming': 23434, '▁Franklin': 16079, '▁drawer': 10326, '▁handmade': 15231, '▁resurrection': 27621, 'connaitre': 31588, '▁leader': 2488, '▁virtually': 9114, 'tritt': 8251, '▁drepturi': 22226, '▁class': 853, '▁horses': 10235, '▁entschieden': 21901, '10': 1714, '▁bilingual': 30521, '146': 24300, '▁written': 1545, '▁Ce': 1064, 'wendung': 21259, '▁fuzzy': 31089, '▁Google': 1163, '▁imaginary': 30798, '▁pastel': 22678, 'partisan': 18237, '▁infectious': 24261, '▁mobile': 1156, '▁Londres': 28036, 'climat': 10804, 'Shirt': 16671, '▁COMP': 23666, 'gram': 5096, '▁today': 469, '▁Handy': 17455, '▁măsura': 25146, '▁Kräfte': 31436, 'race': 12614, '▁Noise': 28964, '▁clinique': 29065, '▁account': 905, '▁ultrasound': 23486, '▁Kil': 12672, '▁auzit': 20932, '▁agenda': 8101, '▁killing': 9357, '▁spar': 14144, '▁Auftrag': 15608, '▁printre': 10411, '▁construction': 1449, 'effet': 24590, '▁malware': 18835, '▁Florence': 18726, '▁Does': 3520, '▁Möchte': 30676, '<extra_id_35>': 32064, 'weighed': 24902, '▁solidarité': 30897, '▁attended': 5526, '▁37': 6862, 'ischer': 8421, '▁W': 549, '▁Manchester': 9145, 'east': 11535, '▁Cricket': 24661, '▁Attach': 28416, '▁Bier': 21457, '▁marathon': 17625, '▁Georg': 20916, 'sstisch': 26137, '▁NBA': 14512, 'pul': 4801, 'oyaume': 25584, '▁profile': 3278, '▁rifle': 18371, '▁pallet': 23590, '▁plentiful': 30133, '▁weak': 5676, 'integr': 8576, '▁mile': 7728, '▁Capitol': 18808, '▁hop': 13652, '▁mechanical': 8168, '▁dam': 10157, '▁stripes': 24428, '▁medium': 2768, 'versus': 8911, 'trifft': 16774, 'ş': 1314, '▁Spanie': 26835, 'make': 19509, '▁simulator': 26927, 'berater': 29217, 'formerly': 14034, '▁Nan': 15206, '▁Lage': 12693, '▁phenomenal': 24230, '▁atenție': 30222, '▁handling': 5834, '▁Soul': 13759, '▁prendre': 5392, '▁photographs': 7194, '▁complicat': 21213, '▁keys': 9060, 'Eventually': 18167, '▁affairs': 12748, '97': 4327, '▁extent': 5996, 'Putting': 28786, '555': 28803, '▁football': 3370, 'jpg': 19962, 'électro': 25564, '▁WITH': 11951, 'en': 35, '▁Kiss': 20842, 'shirt': 9486, 'grass': 16446, '▁Container': 24191, '▁lymph': 25049, '▁marché': 6183, '▁insights': 7639, 'UN': 7443, '▁clientilor': 26509, '▁cool': 1633, '▁naz': 28577, '▁Munte': 29523, '▁Und': 2203, '▁Alpen': 27902, '▁Tourism': 14691, '▁macar': 16946, '▁praise': 11308, '▁intelege': 21918, 'gypte': 31390, '▁K': 480, 'présentent': 29595, 'ator': 1016, '▁Geneva': 21462, 'Agence': 30343, 'sagen': 19994, 'catching': 11907, 'home': 5515, '▁vier': 7629, '▁ist': 229, '▁III': 6289, '▁erste': 5717, 'justement': 27728, '▁continuous': 7558, '▁Christian': 2826, '▁elect': 11924, '8)': 13520, '▁renewal': 16868, '▁subtitle': 29290, '▁pressing': 13840, '▁founded': 5710, '▁Shri': 22805, '▁Just': 1142, 'state': 5540, '▁me': 140, '3-6': 25342, '▁vei': 6033, 'Windows': 28265, '▁Aussage': 24567, '▁Social': 2730, 'UK': 15787, '▁awakening': 30561, 'Market': 22572, '▁listings': 11070, 'doc': 7171, '▁sealing': 24070, '▁6-': 12405, 'BRE': 25582, '▁Mein': 16232, '▁differentiation': 27910, '▁traditional': 1435, '▁genannt': 19862, '▁Kirch': 27072, 'resides': 28799, '▁(10': 11704, '▁Lager': 16205, '▁wedding': 1683, 'dar': 3439, '▁pays': 3277, 'FL': 10765, '▁Verarbeitung': 13937, 'Patri': 20742, '▁Bu': 4708, 'abord': 5587, '▁syndrome': 12398, '▁sfârșit': 24353, '▁heavy': 2437, 'führen': 14186, '▁jouer': 14541, '▁Übersetzung': 30529, '▁Viertel': 30639, '▁recordings': 18338, '▁disturb': 31738, 'Gästen': 30734, '▁member': 1144, '39': 3288, 'aggregat': 31761, '▁Morning': 16182, 'ich': 362, '▁fled': 21761, '▁Figur': 26607, '▁archaeological': 28949, '▁Alex': 5104, 'more': 3706, 'cli': 14758, '▁Herausforderung': 18386, '▁Hy': 5555, '▁mount': 9549, 'restoring': 22938, '▁revolve': 23231, '▁directive': 21130, 'pla': 6042, '▁Andere': 26538, '▁Între': 22351, '▁unlock': 12502, '▁interviewed': 19257, '2011': 13907, '▁Powell': 26458, '5-7': 23440, '▁relaxing': 8354, '▁pursue': 6665, '▁possibilities': 7839, '▁accusations': 29615, 'gung': 15774, 'GO': 5577, '▁baza': 4860, 'ritt': 18208, 'FN': 22870, '▁BUT': 19936, '▁bolnav': 25170, '▁common': 1017, '▁cookie': 7364, '▁Alter': 8559, '▁Door': 11080, '▁Copy': 20255, 'homage': 29282, '▁struggling': 8335, 'utilizing': 11182, '▁unterlieg': 31983, 'ali': 4288, 'bridge': 9818, '▁Blade': 23772, 'François': 14564, '▁fourni': 14847, '▁observat': 19200, '▁aştept': 22489, '▁accumulation': 21727, '▁Las': 7263, '▁times': 648, '▁performances': 7357, 'bbing': 17784, '▁compens': 21398, 'nati': 18530, '▁Candle': 25870, 'How': 7825, '▁misuse': 24653, '▁Nicolae': 19759, 'werte': 11870, '▁regeneration': 26610, '▁vacances': 13941, '▁busy': 3164, '▁furnishings': 19251, 'terapie': 20786, '▁proiecte': 12985, '▁base': 1247, 'vers': 2660, '▁Holocaust': 26178, '▁Receiv': 31665, '▁Half': 15014, 'incorporating': 18218, '▁10:30': 26132, '▁Events': 11137, '▁swallow': 20370, '▁pharmaceutical': 14106, '▁Maryland': 10271, 'Ziua': 25052, '▁spyware': 22472, '▁equality': 18963, '▁comfortable': 1965, '▁vielseitig': 29280, '▁Landschaft': 20377, 'clock': 17407, 'handed': 20391, '▁darauf': 6101, 'élection': 16166, 'excellent': 29745, '▁incepe': 16748, '▁Iran': 7449, '▁2018': 846, '▁Des': 2973, '▁temperatures': 7902, 'wiped': 29049, 'forged': 30679, '▁ease': 4226, '▁$20': 13179, '▁spring': 2141, '▁aufgenommen': 23453, '▁risques': 18479, 'plastic': 24671, 'iunile': 15080, 'enstein': 20207, '▁vulnerability': 21279, 'pers': 4660, '▁suppress': 18513, 'conference': 28496, '▁Tommy': 22091, '▁combustion': 27348, '▁trop': 5227, '▁construit': 9796, '▁Gi': 3156, 'Unter': 25324, '▁Bü': 21162, '▁loaded': 10346, '▁protectie': 23376, '▁Privat': 16084, 'Teatrul': 31452, '▁Ham': 5845, '▁Brain': 14170, '▁Coll': 9919, 'arii': 3685, '▁Run': 7113, '▁circumstances': 4616, 'înt': 13623, 'saving': 18265, '▁Istanbul': 20958, 'mputation': 31148, '▁necessary': 1316, '▁appel': 8319, '▁sensory': 21267, '▁Spotify': 25756, 'GitHub': 30516, '2.0': 24273, '▁Journalism': 31931, '▁kinds': 4217, '<extra_id_8>': 32091, 'hood': 4500, '▁Consiliul': 20539, 'muddy': 29736, '▁Love': 2129, '▁realization': 23543, '▁Umgang': 21081, 'UE': 5078, 'bereich': 5967, '▁Din': 3181, '▁tags': 12391, '▁parinti': 20411, 'starring': 22236, '▁appartient': 31615, 'trug': 18764, '▁Drew': 24348, '▁reader': 5471, '▁Helm': 22887, 'tehnologia': 28287, '▁clock': 6702, '▁Mund': 19491, '▁laut': 14633, 'chasing': 22020, 'dite': 10700, '▁Val': 3833, '▁Memorial': 9107, '▁mixing': 10623, 'productive': 27408, '▁réserve': 13330, '▁Yet': 5201, 'prop': 10401, '▁ZIP': 25844, 'its': 7085, '▁rewards': 11157, '▁launches': 22506, 'bett': 8805, 'SIS': 14408, '▁constraints': 17765, 'patterned': 29665, '▁plants': 2677, '▁bark': 21696, '▁cards': 2190, 'hottest': 22364, '▁rock': 2480, '▁Lot': 10805, 'waking': 24419, 'setzen': 5681, '▁faced': 7865, '▁cartridge': 16041, 'paar': 26516, '▁stitch': 12261, 'objets': 18803, 'crowned': 31657, 'don': 2029, 'share': 12484, 'şte': 8550, '▁Emily': 15818, 'kinetic': 27268, '▁Automation': 25839, '▁utiliser': 11503, '▁dedicat': 15778, '▁Drawing': 21969, 'confined': 24092, '▁collar': 13756, '▁zahăr': 30390, 'art': 1408, '▁wann': 14371, '▁FOR': 5652, 'Vanity': 28012, '▁authoritative': 30838, '▁profound': 13343, 'Très': 17862, '▁empfohlen': 29159, '▁(2008)': 26974, '▁Nah': 22885, '▁Filipino': 27422, '(2002)': 31444, '▁quasi': 16172, '▁König': 17191, '▁simmer': 19633, 'guer': 19645, 'valu': 7480, '▁Egypt': 10438, '▁évidemment': 24531, 'calc': 10379, '▁fed': 13126, '▁Fu': 6343, '▁Japanese': 4318, 'abel': 10333, 'sburg': 7289, '▁puppet': 26141, 'ități': 10163, 'istische': 19187, 'gehoben': 27261, 'symptôme': 31623, '▁Sandwich': 30425, 'teller': 13069, 'AP': 2965, '▁multinational': 23089, 'oji': 21892, '▁vorbesc': 25849, 'VERY': 20329, '▁daca': 2183, '▁inklusive': 23605, '▁extraordinaire': 29854, '▁Colin': 21212, '▁croqu': 29983, '▁Automotive': 20378, '▁vulnerabilities': 27311, 'océan': 31646, '▁comédie': 29314, '▁Nici': 17167, '▁nettoy': 26844, '▁steel': 2470, 'auch': 11532, 'CM': 5518, 'schätzung': 28910, '▁eliminate': 6312, '▁cru': 8396, '▁panel': 2952, 'sitz': 10252, 'itățile': 19701, '▁Ein': 890, '▁activ': 5817, 'utilisateur': 15864, 'predicting': 29856, '▁brochure': 15535, 'oane': 8086, '▁trou': 11369, '▁establish': 4797, '▁carving': 25068, '▁Heritage': 11523, '▁erst': 5248, 'transport': 26803, '▁Ei': 6628, '▁Zweck': 14306, 'nigsten': 31103, 'zeig': 15522, '▁portable': 6262, '0.000': 5311, '▁Pop': 5777, '▁stadiu': 31716, 'arbre': 16564, 'variante': 21811, '▁protejeaz': 31178, '▁inventory': 7705, '▁Co': 638, '▁savings': 5051, 'tons': 8057, '▁domicile': 17163, '▁25': 944, '▁Again': 7204, '▁Leading': 22798, 'luci': 12804, '▁Spitze': 17894, '▁Chip': 14695, '▁Kel': 13329, 'urging': 25414, 'nière': 19134, '▁Lawyer': 18768, '▁chemin': 12229, '▁Nottingham': 26238, '▁transistor': 30924, '▁adhere': 13859, 'Tek': 27508, '▁Trotz': 23359, '▁Centre': 2969, '▁Wa': 3129, 'ența': 17109, '▁abzu': 15502, '▁Luci': 11977, '▁Minister': 3271, '▁mural': 15848, 'ETH': 27333, 'traces': 24834, '▁sistemului': 16320, '▁téléphonique': 31042, '▁Island': 2834, '▁rental': 3571, '▁automatic': 6569, '▁zice': 16784, 'ație': 6395, '▁Gonz': 28683, '▁heures': 8446, '▁flush': 15645, '▁elev': 25377, '▁fringe': 26533, 'produire': 21296, '▁wool': 13996, 'add': 13039, '▁LinkedIn': 14225, '▁Walking': 19525, '▁Physics': 22139, '▁guided': 10995, 'ANCE': 15083, 'MAT': 18169, '▁Tu': 2740, 'archiv': 15917, '▁rebate': 23279, '▁campanie': 21795, '),': 201, '▁financière': 20416, '▁Tanzania': 24677, '▁vizibil': 20213, 'hap': 9516, '▁schön': 9685, '▁genug': 16535, 'oir': 5425, 'мен': 28232, '▁Function': 21839, 'bok': 22483, '▁antrenament': 24628, '▁scenario': 8616, '▁array': 5590, '▁leopard': 30782, '▁clubs': 8122, '▁Glo': 9840, '▁imagined': 18534, 'președintele': 25320, '▁émerg': 31953, '▁Here': 947, '▁jucat': 17911, '▁generation': 3381, '▁Environment': 13706, 'uba': 17309, 'éra': 10864, '▁wagon': 25636, '▁bedeutet': 12872, '▁College': 1888, 'enne': 5990, '▁pinpoint': 28598, '▁climb': 8147, '▁măr': 14321, '▁Camill': 28347, '▁Asta': 13131, '▁Customer': 7327, '▁bestellen': 22521, 'modifying': 29644, 'épouse': 31633, '▁Brasov': 28893, '▁Hampton': 24341, 'FIT': 22786, '▁scopuri': 27131, '▁thanks': 2049, 'kir': 18413, '▁Comisi': 20251, 'deuxième': 13438, '▁lifespan': 27617, 'ommage': 17050, '▁Derma': 28206, '▁Agent': 8628, '▁Cau': 16371, '▁déroul': 15911, '▁trillion': 20179, '▁cassette': 28554, 'reflects': 17441, '▁continuare': 12971, '▁tech': 5256, 'founder': 14435, '▁headset': 22545, '▁Var': 10137, '9001': 24441, '▁Pastor': 16365, 'AM': 4815, '▁bedeutend': 30025, '▁start': 456, '▁semifinal': 27504, 'obtenu': 21157, '▁droits': 12950, '▁faux': 15765, '▁Lead': 12208, '▁întrerup': 31888, '▁br': 6397, 'opera': 18140, '▁împrumut': 31534, '▁Finding': 14490, '▁Fa': 1699, '▁Hin': 9515, '▁Dodge': 15153, 'eld': 8804, 'overcoming': 29297, 'gesteuert': 31616, '▁Guild': 20777, '▁resilient': 24139, 'événement': 16833, 'LLP': 26649, 'alternating': 30859, '▁reward': 9676, 'pause': 9033, 'endorf': 23033, 'using': 9381, '▁neige': 24016, '▁usually': 1086, '▁Pennsylvania': 8913, '▁mondiale': 17756, '▁multipli': 15574, '▁întâlnit': 28705, '▁fie': 1479, 'runner': 10806, 'thereby': 12550, '▁Pit': 13430, '▁nineteenth': 30209, '▁Sicherheit': 11427, '▁Frankfurt': 13077, '▁residential': 4326, 'lian': 9928, 'route': 20300, 'Off': 21265, '▁harbor': 22006, 'irgendwo': 30813, 'Comm': 10205, '▁pat': 6234, '▁allocated': 19768, '▁inca': 7612, '▁potential': 1055, '▁su': 2629, '▁familia': 9346, '▁obsession': 24674, 'treten': 8112, '▁tratamentul': 23798, '▁travail': 2954, 'akt': 7935, '▁association': 6028, '▁Could': 9348, '▁Duncan': 25108, '▁assembly': 7889, '▁Strom': 10969, '▁Work': 3118, '▁demands': 7328, '▁pourquoi': 10714, '▁donc': 2380, 'ein': 2455, '▁Tan': 8331, 'tempted': 22765, '▁vânzări': 31129, '▁secret': 2829, 'moi': 16661, 'particulièrement': 13032, 'worth': 7048, '▁little': 385, 'echoe': 28058, '▁started': 708, '▁2013.': 6386, '▁Dar': 1920, '▁predicted': 15439, '▁gasest': 21137, '▁Photography': 15380, '▁track': 1463, 'ouche': 14789, 'KK': 22267, '▁stranger': 13037, 'Our': 11443, 'Speicher': 19953, '▁strengthened': 26390, '<extra_id_36>': 32063, 'gemein': 19922, '▁spécial': 18733, '▁County': 1334, '▁slave': 15484, '▁Fellow': 16344, '▁Rising': 25813, '▁absent': 14101, '▁refrain': 27726, '▁Cla': 7781, '▁vinovat': 31792, 'pat': 4665, '▁eco': 9211, 'ventricular': 31695, '▁researcher': 18658, '▁casserole': 25560, '▁keywords': 12545, '▁invalid': 17070, '▁Tempo': 27695, '▁subiect': 12167, '▁residence': 6198, 'yana': 21247, '▁talk': 1350, 'poli': 3003, '▁acid': 3562, '▁Trend': 11145, '▁pleasure': 5565, '▁passion': 2987, '▁piaţ': 24791, '▁pages': 1688, '▁adventurous': 23985, '▁coefficient': 27742, '▁2004': 4406, '▁testosterone': 30776, 'Friend': 17701, 'ALE': 17350, 'will': 8894, '▁fete': 18086, '▁Sergi': 27287, '▁stalk': 24161, '▁deputy': 21108, 'Antoine': 25742, '▁Schul': 4789, '▁berichtet': 20689, '▁flooring': 7091, '▁Air': 1761, 'ată': 1118, '▁levels': 1425, '▁collaborate': 11194, '▁warmth': 14826, '▁interiorul': 21544, '▁brief': 4456, '▁overview': 8650, '▁Francisco': 5901, '▁electronics': 12800, '▁Shadow': 18136, 'fenders': 24015, 'USE': 11927, 'exercice': 17331, '▁Brandon': 20446, '▁personalities': 21369, 'borough': 12823, '▁Three': 5245, '▁Verbindung': 13053, '▁Meaning': 25148, 'tent': 4669, '▁pierre': 16425, '▁imposibil': 25106, '▁changes': 1112, 'movers': 24844, 'tragen': 7955, '▁attend': 2467, '▁Verwendung': 17928, '▁glorif': 30753, '▁Cru': 12461, '▁alimente': 16368, '▁reproduction': 19192, '▁moyenne': 15130, '▁conflicts': 17824, '▁Heating': 24660, 'accelerating': 30819, 'My': 7008, 'quip': 23067, 'kenntnis': 22416, '▁défend': 24211, '▁tears': 12795, '▁Studien': 16258, 'ign': 3191, '▁Gin': 15079, '▁Drink': 20289, 'advising': 25289, 'nozzle': 28502, '▁informaţii': 21532, '▁cold': 2107, 'dépendance': 27449, '▁breath': 6522, '▁psiho': 30125, '▁aller': 4755, 'ike': 5208, '▁visiteurs': 23774, '▁supus': 26172, '▁du': 146, '▁Seattle': 8854, '▁Higher': 16808, '▁eingerichtet': 25939, '▁opening': 2101, '▁coins': 10579, '▁circonstance': 31041, '▁utilizare': 17751, '▁Rahmen': 7077, '▁rupture': 24954, '▁1919': 27521, '▁Fotografi': 23804, '▁Constanta': 29850, '▁draws': 14924, '▁creamy': 15954, '▁distinction': 13005, '▁pneumonia': 30195, '▁marshmallow': 30334, 'berry': 7418, 'tics': 7636, 'wolves': 29219, '▁Available': 8144, 'aesthetically': 30807, '▁odata': 25135, '▁Delivery': 15715, 'Changing': 26304, 'ging': 3896, '▁Audio': 9607, 'yahoo': 29057, 'branded': 16108, 'sincerely': 27518, 'habitude': 21366, '▁zahlreiche': 9878, '▁Anglia': 29042, 'ciune': 24352, '▁iubit': 16266, '▁vivre': 12511, '▁implică': 31172, '▁Yellow': 12035, 'oxi': 14443, 'Das': 17266, '▁Leidenschaft': 30245, '▁pray': 8844, '▁differential': 21701, '▁reel': 14495, '▁SA': 4646, '▁equip': 17715, '▁feather': 17597, '▁empire': 21039, '▁Spre': 22593, 'thèque': 27973, '▁remodel': 16857, '▁carcinoma': 31905, '##': 30345, 'legen': 6095, '▁devant': 9795, '▁pr': 4880, 'setting': 19966, '200,000': 22779, 'highlighting': 19465, 'unified': 22927, '▁Behavior': 29396, '▁OK': 6902, '▁wasted': 21133, '▁tried': 1971, 'ity': 485, 'tură': 12994, '▁Nebraska': 19074, 'hung': 6668, 'spend': 23490, '▁pour': 171, 'RAM': 23203, 'owed': 9200, '▁resurse': 18113, '▁vulnerable': 9930, 'phosphat': 24613, '▁order': 455, '▁überrascht': 31670, '▁uscat': 15888, '▁locations': 3248, '▁gagnant': 30350, 'aison': 11684, '▁asthma': 17688, '▁Sustainability': 27531, '126': 21976, 'pho': 9553, '▁unbelievable': 25525, '▁Big': 2734, '▁publicat': 18736, 'oyons': 31964, '▁distill': 20487, 'gig': 25448, '▁cheek': 18312, '▁Macedon': 26076, 'numbered': 22412, '▁previously': 3150, 'hardly': 10942, '▁Mountain': 5617, '▁acronym': 30895, '▁Stewart': 16496, 'interroge': 30809, '▁Carol': 12526, '▁vizual': 28714, '▁faza': 26799, 'OLD': 17131, '▁Newcastle': 21225, '▁laughter': 22496, '▁fact': 685, '▁Fluid': 30990, '▁Nordic': 24207, 'such': 4415, '▁SRL': 16626, '2,000': 8630, '▁accounts': 3744, '▁Board': 2086, '▁personalizat': 23895, '▁necessities': 28878, '▁anul': 3482, '▁lighter': 12397, '▁Ungaria': 28620, '▁camere': 11362, '▁multimedia': 19131, '▁$50,000': 29788, '▁conservation': 8712, '▁pragu': 31096, '▁Finance': 7679, '▁tromb': 31033, '▁raid': 15941, 'il': 173, '▁opponent': 15264, '157': 27452, '▁authorization': 20774, 'milk': 25751, 'Rhône': 30975, '▁Gallery': 7557, '▁Bh': 16332, '▁Parking': 20385, '▁1959': 22471, 'ktion': 12696, '▁iarna': 21781, '▁OF': 3347, 'villagers': 31101, 'L': 434, 'thesis': 24874, 'funded': 18532, '▁culori': 12726, 'physics': 11599, '▁advise': 7786, '▁drama': 6616, '▁Sec': 14969, 'letting': 8035, '▁radiat': 23885, '▁centerpiece': 25924, '▁effects': 1951, '▁două': 3981, 'agriculture': 28531, 'cellules': 29677, '\".': 1280, '▁Sä': 19212, 'aggravate': 31540, '▁harassment': 23556, '▁manque': 12359, '▁indicated': 7972, '▁VR': 13893, 'parlament': 28912, 'tearing': 30846, '198': 24151, '▁musician': 16244, 'mag': 7493, '8.0': 27376, '▁E': 262, 'liter': 9842, '▁président': 10613, '▁reconciliation': 28326, 'ept': 6707, 'UA': 16597, '▁biscuit': 18922, '▁voting': 10601, '▁precisely': 11185, '▁harbour': 26401, '▁disconnected': 29970, '▁periculoas': 31563, '▁eclipse': 25759, '▁Servi': 28706, '▁vite': 12201, 'fait': 10699, '▁Frau': 7672, '▁connector': 14195, '▁jumatate': 21444, 'gänz': 30463, '▁tandem': 26947, '▁seek': 2762, '▁incentive': 17821, '▁effortlessly': 23494, '▁fühlt': 25523, '▁terrific': 16138, '▁seen': 894, 'aţia': 10984, '▁Vertreter': 25729, '▁loc': 2072, '▁Milch': 23126, '▁Arme': 18251, '▁surge': 18787, '▁respir': 14114, '</s>': 1, '▁inclusion': 11980, 'gebiet': 10184, 'singurul': 25162, '▁is': 19, '▁clergy': 29228, '▁Fr': 6248, 'kol': 11292, 'AIN': 13570, '▁ample': 12915, '▁spun': 5955, '▁retard': 19329, 'lev': 10912, '▁alătur': 12059, '149': 24816, '▁Did': 3963, '▁changement': 11254, '▁Lam': 15763, '▁flatter': 25888, '▁Üb': 29324, '▁mechanic': 11754, '▁employment': 4311, 'ylon': 25016, 'é': 154, '▁zile': 3872, '▁Hur': 13268, '▁shelves': 12131, '▁Insel': 20229, '▁siblings': 19665, 'claiming': 14655, 'chi': 1436, '▁arbitration': 24819, '▁income': 2055, 'central': 20071, '▁versteh': 25625, 'attente': 27491, '▁Designs': 14860, 'izeze': 25205, 'évoluer': 29172, '▁biologic': 29739, 'Pentru': 30953, 'embraced': 24332, 'multi': 23829, '▁tidy': 22810, '▁Bomb': 16327, '▁boutique': 8600, '▁Duke': 15090, '▁Gre': 7186, '▁Competitive': 31137, '▁ran': 4037, 'studio': 22991, 'ès': 7372, '▁gastro': 24038, '▁flank': 24397, 'accentuate': 31211, 'cross': 11465, '▁verschieden': 18575, '▁1/2\"': 23562, '▁colonne': 28954, '▁Werbung': 23247, 'bedingt': 25658, '▁Bisericii': 26778, 'ografie': 21693, '▁traitement': 9183, '▁modes': 12632, '▁André': 24547, '▁therapy': 3918, 'pli': 5900, '▁need': 174, '▁măsură': 19877, '▁partir': 5687, '▁groß': 9223, '▁chasse': 23301, '▁Dreh': 21127, '▁Angebot': 7900, '▁($': 8785, '▁tâche': 20741, 'blatt': 23897, 'éclairage': 28072, '▁sleep': 2085, '▁Banque': 27012, '▁van': 4049, '▁momentum': 15290, '▁helmet': 18691, '▁sicher': 4238, 'modern': 18306, '▁dish': 4419, '▁compromised': 22001, '▁iubesc': 27681, '▁Merri': 24330, '▁Investigation': 25093, '▁comenzi': 18097, 'gestalt': 30012, '▁By': 938, 'tete': 14810, '▁heels': 18915, 'kraut': 31145, '▁computing': 10937, 'tinut': 13549, 'lighted': 28858, '▁beneficiaz': 25343, '▁public': 452, '▁screws': 19572, 'ière': 5442, '▁localitate': 23300, '▁articolul': 25069, '▁Medikamente': 30646, '▁Ghost': 17644, '▁mouvement': 11792, '▁Fehl': 25091, 'albeit': 22154, '▁size': 812, '▁micro': 2179, '▁Brilliant': 27159, 'ies': 725, 'SG': 9945, '▁fair': 2725, '▁recall': 7881, '▁informare': 27573, '▁Sheet': 14648, '▁strada': 18153, 'MON': 20399, '▁fulfilling': 19697, 'Konzern': 28140, '▁lend': 16173, '▁tonight': 8988, '▁Laguna': 28315, '▁comparativ': 18858, '▁beginnt': 18272, '▁trait': 10152, '▁Moldovei': 29060, '▁legislator': 26109, '▁démarr': 29754, 'BU': 8855, 'leton': 13248, '▁kingdom': 14740, '▁tablou': 30789, 'door': 11968, 'possesses': 26735, '▁fauna': 29908, '▁four': 662, '▁previous': 1767, '▁resident': 8141, '▁patient': 1868, '▁lui': 759, 'vin': 2494, '▁Ersatzteile': 27634, '▁floor': 1501, '▁Soci': 16874, '▁angles': 18418, 'unforeseen': 31456, '▁Underground': 27526, '▁course': 503, 'field': 1846, '▁clicking': 7528, '▁Ellen': 20990, 'ţiunea': 26167, 'Table': 20354, '▁Bahamas': 29783, '▁engagement': 3813, 'RG': 12912, '▁chocolat': 21549, '▁Aid': 12090, '▁bad': 1282, 'abl': 15403, '▁Wichtig': 20925, '▁natural': 793, '▁concrète': 31293, '▁artwork': 7924, '▁must': 398, 'IC': 4666, '▁china': 20576, '▁origin': 5233, '▁opioid': 23139, 'Team': 18699, '▁vacation': 4257, '▁tehnici': 23234, '▁Font': 18685, '▁celebrity': 17086, '▁metadata': 26686, 'pping': 5341, '▁affinity': 30352, '▁canopy': 22580, 'alleged': 12554, '▁transcend': 23080, 'Center': 24382, '▁gum': 11406, 'vocation': 15044, 'entreprise': 6896, '▁administrative': 6601, '▁plan': 515, '▁Layer': 22697, 'incorporated': 10975, 'auftrag': 26157, '▁Räume': 23389, '▁aunt': 22708, '▁heritage': 8681, 'opéra': 29567, '▁accru': 23030, '▁medicines': 16766, 'responsibilities': 9406, 'calming': 27303, '▁Guess': 28291, '▁Divine': 20444, 'crypt': 13708, '▁HERE': 12233, '▁stitches': 27199, '▁Guy': 14507, '▁them': 135, 'vadă': 24145, '▁Gram': 20278, '▁witnesses': 20837, '▁indoor': 5297, '▁30%': 10738, '▁She': 451, '▁certificates': 16999, '▁YouTube': 5343, '▁specs': 20981, '▁Sharing': 25037, 'nier': 8632, '▁enough': 631, 'tractors': 29676, 'RON': 13044, 'utilizarea': 17308, '▁mindful': 22394, '▁try': 653, '<extra_id_37>': 32062, '▁prototype': 14402, '▁der': 74, 'Dr': 14561, '▁donne': 8551, '▁Sneak': 29306, '▁privée': 21844, '▁travel': 1111, '▁Surface': 18884, '▁expect': 1672, '▁Doors': 16987, '“': 735, 'autour': 8934, '▁Net': 6540, '▁Port': 3625, '▁Sa': 1138, '▁Scott': 4972, '▁foul': 16704, '▁Sir': 8627, 'publish': 29337, 'gérer': 21195, 'q': 1824, 'obi': 6690, '▁präsentiert': 19833, '▁Eu': 4491, 'étudiant': 24045, '▁J': 446, '▁români': 14109, 'freude': 31889, '▁Forschung': 13764, 'smallest': 17924, 'mother': 21226, '▁Wochen': 7083, '▁Blanc': 12824, '▁folder': 6625, 'anny': 15159, '▁Someone': 16471, '▁balade': 29164, '▁Islands': 11654, '▁verpflichtet': 22976, '▁auseinander': 28092, '▁behavior': 3889, '▁Amazon': 2536, '▁cushions': 16790, '▁experiential': 30383, '▁téléchargement': 30784, '▁quarry': 24609, '▁adjective': 31268, 'pound': 8861, '▁Due': 6984, 'Mitglied': 11806, '▁involves': 5806, '▁unic': 15344, '▁york': 25453, '▁retract': 29118, '▁Batterie': 24298, '▁Question': 11860, '▁Werkzeug': 24960, '▁sales': 1085, 'boc': 26943, '▁son': 520, '▁expecting': 11873, 'galerie': 22206, '▁Mel': 5049, '▁stability': 7606, '▁Pages': 11637, '▁location': 1128, '▁experienta': 15720, 'mâine': 31551, '▁gleichzeitig': 16045, '▁even': 237, '▁Abu': 15392, '▁whimsical': 31653, '▁consolid': 13250, '▁freuen': 10390, '▁destinat': 15235, 'oppo': 28236, 'campania': 30565, '▁annoying': 16241, '▁tackle': 8000, '▁diffuse': 17443, 'richtigen': 17522, '▁Membership': 19428, '▁préparation': 20153, '▁Farmers': 24493, '▁hinder': 22190, '▁Viking': 19476, '▁Alpine': 28196, 'mur': 11054, '▁Bitcoin': 9310, 'europäischen': 27916, '▁denomination': 28730, '▁Birmingham': 15922, '▁deliver': 2156, '▁Teen': 19959, '▁und': 64, '▁accredited': 16412, '▁Universal': 12489, '▁procesul': 15948, 'arian': 6855, '▁Tru': 7953, 'purely': 18760, '▁varietat': 30508, '▁zoom': 15305, '▁Samstag': 15801, 'WAN': 28277, '▁soothing': 21785, 'Observ': 16018, '41': 4853, 'rilor': 10512, 'ţiile': 13225, '▁Campbell': 17034, '290': 23838, '▁Lopez': 25692, '▁Saskatchewan': 30382, 'Orient': 16495, '▁jur': 10081, 'mangel': 24347, '▁Follow': 7847, '▁his': 112, '▁rapidement': 10982, 'Rob': 24372, '▁gal': 7466, '▁board': 1476, '▁claims': 3213, 'rul': 5155, 'cock': 12105, 'expérience': 14088, '▁encore': 2333, 'mul': 4115, '▁Expedition': 31578, 'hock': 19076, 'distilled': 31703, '▁leaf': 8384, '▁User': 6674, '▁Sydney': 7476, '▁précis': 16586, '▁limbi': 23683, '▁samedi': 15128, 'Air': 20162, '▁proud': 2764, 'it': 155, '▁fabricat': 22717, 'vine': 8402, '▁phrases': 15101, 'schicht': 14746, 'coming': 10622, '▁personnel': 4231, '▁believes': 7228, '▁Fitness': 12117, '▁masculin': 18236, '▁Peak': 18996, '▁quantité': 20715, '▁integrity': 9322, '▁recipient': 11095, '▁inspiré': 28300, 'räder': 28785, 'Foarte': 26495, '▁popping': 26568, '▁Cet': 12717, '/09/': 31497, '▁conveniently': 17570, 'kW': 21729, 'ACT': 9262, '▁immortal': 28224, '▁elektrisch': 31517, '▁überzeugen': 23115, '<extra_id_88>': 32011, 'finder': 19417, '▁acestuia': 11400, '▁scena': 20171, 'ava': 8644, '▁Preview': 28398, 'System': 14342, 'Sh': 10499, 'NV': 17058, '▁Visual': 10893, '▁économique': 10040, 'NOVA': 30103, 'philosoph': 17704, '▁slower': 17553, '▁felicit': 27497, '▁twenty': 6786, '▁déclench': 30167, 'information': 6391, 'reveals': 15503, 'ușor': 16165, 'sogenannte': 18188, 'fournit': 31826, '203': 23330, '▁screen': 1641, 'oara': 12307, '▁steroids': 29867, 'continu': 14175, '▁Nam': 18740, '▁Ebene': 21621, '▁optimistic': 21700, 'batterie': 22675, 'u': 76, '▁roofing': 11367, '▁strip': 7706, '▁mozzarella': 29515, '▁Nur': 10037, 'v': 208, '▁Marsh': 21614, 'scrisă': 31797, '▁sanguin': 27744, '▁Panorama': 28573, '▁evident': 6843, '▁Rescue': 22175, '▁wives': 28908, '▁nouvelle': 4835, '▁landing': 9501, '▁refine': 15489, '▁statut': 17146, '▁Horse': 13538, '▁1966': 20658, '▁Rural': 22183, '▁Online': 1777, '▁healed': 28648, '▁chronic': 6658, '▁insightful': 25621, '▁plea': 14090, '▁supplied': 8794, '▁Scal': 13380, 'smoked': 24198, '▁Illinois': 7659, '▁confess': 25613, '▁disciplin': 30741, 'well': 2091, '▁Notebook': 29125, 'frucht': 29971, '▁Tibetan': 26488, 'gefährlich': 26621, '▁sellers': 14857, '▁Sinn': 17909, '▁handle': 2174, 'punem': 20872, '▁cooperation': 8494, '▁Erwachsene': 22180, '▁scor': 14056, 'voastra': 30519, '2018': 9457, 'rzte': 20607, '▁herzlich': 19044, '▁encode': 23734, '▁innovant': 25780, '▁Tiger': 11804, '▁charity': 7813, '▁settled': 10166, '▁Note': 2507, '▁studii': 15368, 'opted': 18313, '3.6': 23074, '▁glaube': 18946, 'mycin': 25757, '▁Demand': 20625, '▁Pokemon': 29061, 'änd': 16186, '▁Future': 9130, '▁Horror': 29792, 'Neill': 29821, '▁specially': 12273, 'tended': 15443, '▁scenic': 17281, 'ility': 14277, 'ASA': 21245, '▁întâln': 25142, '▁vândut': 31698, '▁définition': 28402, '▁merchandise': 12649, '▁Hey': 9459, 'ural': 9709, '▁attraktiv': 22478, 'flex': 8902, '▁sold': 1916, 'rius': 18956, 'lux': 8387, 'arrivée': 16478, '▁corporate': 2849, '▁wie': 587, '▁Remember': 5264, '▁heater': 10815, '▁vollkommen': 30252, '▁thriller': 23512, '▁mission': 2253, '▁reconstruction': 20532, '▁Re': 419, '▁classical': 11702, '▁frustrating': 16591, 'wertung': 19613, '▁moments': 4413, '▁Gan': 17980, '▁dynamic': 4896, '▁Cutting': 27473, '▁replication': 29328, '▁Stefan': 14189, '▁transparent': 7237, 'freiheit': 28995, '▁Ak': 4823, 'ativ': 4572, 'aloo': 26976, '▁Rubber': 24432, 'DP': 7410, '▁Hidden': 27194, 'appréci': 19312, 'plină': 24286, '▁accommodating': 28790, '▁Nacht': 12822, 'ular': 4885, '▁réseaux': 15758, '▁Operating': 21606, 'ceapa': 27299, '▁3,5': 27242, '▁Counter': 17706, '▁Sebastian': 19438, 'neu': 8992, '▁qualifi': 10597, 'informatiile': 26958, 'him': 10813, 'VO': 8040, '▁Budapest': 23637, '▁experiență': 24921, '▁Deux': 20523, '▁renouvel': 20234, '▁fat': 2886, '▁contracts': 8201, '▁travelers': 15111, 'eiro': 21810, '▁confidentiality': 23979, '▁peer': 11409, '▁accidentally': 21169, '▁thin': 5551, 'bringen': 13537, '▁Men': 3137, 'rac': 3738, 'Turcia': 30678, '▁octombrie': 14478, '▁Earn': 19883, '▁Carson': 25912, 'zwischen': 14103, '▁Unit': 5579, '▁decided': 1500, '▁functie': 11335, '▁curl': 18322, '▁holds': 4532, '▁provision': 6537, '▁absurd': 20135, 'GP': 8049, '▁$10': 9103, '▁star': 2213, '▁targeting': 13972, 'TIM': 25698, 'appuy': 25949, '▁vin': 4671, '▁substantial': 7354, '▁appears': 3475, 'blown': 17378, '▁fruits': 6533, '▁Bol': 8166, '▁mediu': 13120, 'allegedly': 18280, '▁revelation': 20022, '▁personnalisé': 21590, '▁Kingdom': 6524, '▁Mondial': 19937, 'midst': 12342, '▁women': 887, '▁comparat': 24219, '▁NJ': 11522, 'al': 138, 'giu': 24930, '▁Blockchain': 27037, '▁prayers': 14394, '▁Pal': 4826, '▁cours': 5149, '▁reserve': 7866, '▁somn': 21381, '▁neighbourhood': 19704, '▁humidity': 19023, '▁etwas': 2800, '▁migrants': 20528, 'uri': 459, '▁retina': 25299, 'water': 3552, '▁GST': 25541, '▁reliable': 3468, '=': 2423, '▁University': 636, 'friend': 15504, '▁Religion': 18182, '▁évident': 29500, 'square': 19687, '▁chinois': 21717, 'ICA': 15038, '▁weiter': 3067, 'gov': 9527, '▁hergestellt': 22108, '▁Inform': 11710, '▁durere': 27619, '▁narrow': 5658, '▁Tokyo': 12653, '▁naţionale': 31228, '▁liquid': 4400, '▁anything': 959, '▁fashionable': 22383, '▁recrut': 18005, '▁Bearbeitung': 28619, 'urgeon': 19623, '6000': 21987, '▁almond': 15764, '▁Guide': 4637, '▁autant': 11785, '▁beaucoup': 3933, '▁Switzerland': 12527, '▁Alt': 4588, '▁spare': 8179, '▁scolaire': 19908, '▁Schlüssel': 22794, '▁TVA': 16806, '▁FC': 7914, '▁sunscreen': 25597, '▁searched': 19141, 'realised': 19007, 'hinweis': 31306, '▁weather': 1969, 'style': 4084, '▁including': 379, 'possibilités': 31562, '▁Höchst': 30137, '▁FREE': 5858, '▁Prima': 13425, '▁Kilometer': 20387, '▁prize': 6441, '▁your': 39, '▁remodeling': 16915, '▁weekend': 1851, '▁Ed': 4857, 'erii': 5218, '▁bout': 9338, 'horn': 6293, '▁forced': 5241, '▁Pick': 8356, 'schluss': 8756, '▁veille': 22396, '▁hypothesis': 22455, '▁welche': 2727, 'conducerea': 27402, 'flamm': 19381, '▁restored': 13216, 'recognizable': 28766, 'modalitate': 25753, '▁correspond': 10423, 'living': 24257, '▁easy': 514, '▁Master': 3226, '▁heads': 7701, 'EET': 26418, 'coached': 30940, '▁suburb': 16432, '▁naturelle': 14744, '▁plaintiff': 16877, 'puneti': 28187, '▁monoton': 30378, '▁pm': 6366, '▁Ju': 3736, '▁pericol': 23227, '▁bébé': 18119, '▁sovereign': 26800, '▁Or': 955, 'enforceable': 31814, '▁matin': 11317, '▁Liber': 12774, 'etched': 25872, '▁Cemetery': 22027, '▁creating': 1577, '▁anymore': 7595, '▁appreciate': 3653, '▁scarf': 25816, '▁continuu': 23945, 'toasted': 28458, '▁elephant': 17926, '▁MINI': 28605, '▁night': 706, '▁recognized': 4771, '▁trat': 16104, '▁trolley': 31682, '▁ravi': 20217, '▁Tunnel': 27990, 'tocmai': 15435, 'flooded': 25895, 'électora': 31570, 'tôt': 6953, '▁Receive': 24083, '▁coupon': 8133, 'sponsored': 27959, 'équilibre': 22273, '▁plata': 16116, '▁Bibliothek': 30381, 'excluding': 21763, '▁orizont': 31393, '▁Nord': 4980, '▁driving': 2191, '▁Arab': 9217, '▁articole': 18367, 'static': 15165, 'technisch': 24985, 'voc': 6117, '▁awesome': 2879, '▁emerge': 13591, '▁farmers': 7208, '▁Lust': 21284, '▁muffin': 20943, 'Choosing': 22065, '▁audition': 21042, '/04': 24288, '▁bruise': 30756, 'rine': 9249, '▁fiecare': 2631, 'rug': 13534, '▁prețuri': 30217, '▁vârstă': 20369, 'moni': 8823, '▁NEED': 28969, '▁vânzare': 29407, 'tem': 3524, 'shalb': 14737, '▁creștere': 18625, '▁NSW': 20535, '▁Chuck': 21288, 'rrell': 21290, '▁premium': 3331, '▁Bosch': 22698, 'ambigu': 24621, 'Sullivan': 23748, '▁Car': 1184, '▁spike': 22440, '▁poarta': 26293, '▁sightseeing': 27256, '▁Bag': 8055, '06.': 13821, '▁Chandler': 31154, '▁Census': 23086, '▁frontier': 20515, '▁switch': 3615, '▁honeymoon': 27999, '▁aparțin': 31508, 'misiei': 29036, '@': 1741, '168': 24274, '▁dreams': 6612, '▁$100,000': 26954, '▁third': 1025, '▁accidental': 24306, '▁tremendous': 9425, '▁serum': 20725, '▁globe': 7895, '▁landlord': 14759, '▁saliva': 30328, '▁run': 661, 'BL': 8775, '▁bulg': 25876, 'HC': 8095, '▁Tank': 15366, '▁Za': 4904, '▁incumbent': 28406, '▁amis': 15245, 'avi': 2960, '▁Tro': 7080, '▁detalii': 11129, '▁Schwimm': 25792, '▁duhovnic': 30593, '▁scriitor': 26215, '▁mailing': 15114, '▁displacement': 27780, '▁pertinent': 19689, 'Cette': 3425, '▁caramel': 17526, '▁offline': 13461, '▁expressed': 7103, 'Data': 20367, '▁Dutch': 10098, '▁Editor': 11953, 'gibt': 18776, '▁Patch': 21825, '▁Evolution': 21625, '▁New': 368, '▁exponential': 25722, '▁controversy': 21760, '▁paix': 25060, '▁vermute': 31525, 'definite': 14339, '▁VI': 9766, '▁Klaus': 17566, '▁scenes': 8073, '▁Twi': 12119, '▁authorities': 5779, '▁Memory': 19159, '▁passed': 2804, '▁trăi': 13168, '▁chew': 15196, 'CH': 8360, 'sorgt': 9143, '▁trail': 5032, '▁typing': 21321, '▁stripped': 27614, '▁Construction': 8663, '▁sensor': 7824, 'demand': 19497, 'determined': 22755, '▁pendant': 4530, '▁yourself': 909, '▁susține': 22300, '▁Reach': 23202, '▁patri': 16246, '&': 184, '▁touchdown': 19396, 'nvelop': 17430, '▁Stage': 13578, '▁anbieten': 24505, 'etter': 15583, '▁Shop': 3687, '▁ballot': 16524, '▁depune': 22014, 'rate': 2206, '▁successes': 21231, '▁cea': 2511, 'He': 3845, '123': 14574, '▁Kern': 16469, '▁drift': 16901, 'épreuve': 23879, 'trauen': 23937, '▁OR': 4674, '▁cerere': 23101, '▁compétition': 24085, '▁infection': 7952, '▁event': 605, '▁Hang': 15280, 'nell': 10361, '▁drizzle': 27360, '▁revamp': 27453, '▁serious': 2261, '▁Schritt': 10782, '▁laws': 3786, '▁fatigue': 13034, '▁finances': 14272, '▁Heidelberg': 30584, '90': 2394, '▁Win': 4871, '▁publish': 8099, 'felony': 27974, '▁integration': 5660, '▁children': 502, '▁ears': 11581, 'trans': 7031, '▁gathering': 7241, '▁clause': 14442, 'governed': 21096, '▁Gelegenheit': 22890, '▁sustainable': 5086, '▁Fox': 7547, '▁defective': 24701, '▁FROM': 21680, '91': 4729, '▁counterfeit': 31300, '▁religion': 5562, '▁stärker': 25690, '▁attacked': 17263, 'prehensi': 22459, '▁illustrate': 11485, '▁Drug': 11767, '▁flo': 8882, '▁Domestic': 23610, '▁permanent': 3574, 'biblio': 31482, 'mpf': 8078, '▁careful': 6195, '▁variation': 12338, 'unk': 6513, '▁suc': 11693, 'ски': 30610, '▁Therapy': 13587, 'VE': 8575, '▁members': 724, 'proof': 8592, 'abonnement': 29527, '▁Natürlich': 14649, '▁License': 16452, 'because': 19112, 'TEC': 23933, '▁bis': 1005, '▁losing': 5489, '▁Kunde': 19415, '▁company': 349, '▁000': 6078, 'right': 3535, '▁Hawaii': 13394, '▁lang': 12142, '▁picturesque': 20675, '▁represented': 7283, '▁Temperatur': 12579, '▁visit': 719, '▁learning': 1036, '▁cultivation': 26188, '▁Verfügung': 7182, '▁Shuttle': 28099, '▁ocean': 5431, '▁therefore': 2459, '▁Ho': 1546, '▁mere': 12143, '▁concert': 4219, '▁overtime': 22624, '▁pets': 8636, 'beauftragte': 30082, '▁£1': 11140, '▁cutting': 3753, 'zeiten': 15096, '▁Îm': 20848, '▁sanft': 29321, 'CON': 17752, '▁fertiliz': 20617, '▁ochii': 16984, '▁addict': 23261, '▁requirement': 5971, '▁iar': 1145, 'Hu': 13284, '▁sud': 8411, 'document': 28244, '▁atmosphere': 4643, '▁Bach': 16453, '▁wrapping': 23342, 'iko': 12027, 'filmed': 25403, '▁Off': 4395, '▁flock': 23228, '▁ver': 548, '▁Local': 4593, 'Source': 23799, '▁Drama': 20052, '▁Motion': 18833, '▁Galerie': 25010, '▁Harvard': 13199, '▁summarize': 21603, 'gestaltung': 24240, '▁mundane': 29826, '▁unfold': 19152, 'used': 10064, '▁Bab': 11563, '▁volontaire': 29285, '▁Lady': 8571, 'charakter': 31613, '▁soda': 12495, '▁Dialog': 25843, 'station': 6682, '▁Mount': 7964, '▁căt': 8004, '▁lasting': 10139, 'schönen': 19287, 'advancing': 22235, '132': 23757, '178': 27640, 'illes': 11348, 'ință': 16237, '▁sometimes': 1664, 'iris': 24804, 'ehr': 7392, 'zugreifen': 30207, '▁administration': 3602, '5.2': 24342, '▁montre': 15826, 'marin': 12181, 'benefited': 26777, '▁greatest': 4016, 'alität': 13680, 'gri': 3496, '▁magnifique': 16005, '▁Mort': 19729, 'browned': 31234, '▁solitude': 31274, 'ture': 2693, '▁Arriv': 20559, '▁Moore': 11103, 'verkehr': 17105, '▁finishes': 13084, '▁verfüge': 23820, '▁enabled': 9367, 'capped': 25927, '▁spice': 15412, '▁Swiss': 11541, '▁Dog': 6751, '▁crop': 10550, '▁surroundings': 14338, 'christ': 15294, '▁Mur': 8054, 'ages': 2568, '▁Bildung': 14413, '▁dorint': 26103, '▁marble': 14260, '▁gespannt': 28853, '▁turistic': 20751, '▁soldier': 21982, '▁illustration': 16779, 'ären': 15540, 'conom': 12036, '▁Team': 2271, '▁Corner': 15143, 'ted': 1054, '▁relay': 16010, '▁carrière': 21526, '▁Tätigkeit': 24110, '▁vertraut': 31810, '▁Submission': 29779, '▁46': 9668, '▁besoin': 6350, '▁Wand': 13185, '▁afin': 3729, '▁charming': 12216, '▁purchaser': 21104, '▁invisible': 17472, '▁intact': 17722, '▁discard': 27324, '11': 2596, '▁Website': 3637, '▁Next': 3021, '▁mini': 3016, '▁Deci': 14600, '▁paiement': 16703, '▁Sprache': 16933, '▁Panama': 21099, 'varies': 15550, 'centrul': 17840, '▁treat': 2665, '▁accessible': 3551, 'layer': 18270, '▁gate': 10530, 'mili': 5952, '▁grosse': 16917, '▁leftover': 18923, '▁paradox': 23517, '▁graduate': 5213, '▁accountable': 18704, '▁Montréal': 23435, '▁knack': 30302, 'flexion': 31898, '▁fizice': 19288, '▁Fra': 10323, 'deploying': 29354, 'jan': 7066, '▁grass': 5956, '▁gadget': 13195, '▁Knowing': 19345, 'Identify': 23393, 'más': 28061, '▁Great': 1651, '▁housing': 3499, '▁choosing': 4622, '▁(': 41, 'conceivabl': 30932, '▁turf': 23802, '▁crédit': 17923, '▁blonde': 27363, '108': 16169, '▁précédent': 17273, '▁Jag': 21520, '▁se': 142, '▁www': 2442, '▁discretion': 12962, '....': 2824, '▁Cur': 4116, '▁zone': 2901, 'ops': 9280, '▁chic': 8780, '▁Vorschriften': 31934, '▁situated': 8382, '▁înregistrat': 18849, '▁keyboard': 8680, '▁worst': 6025, 'kha': 18276, '9:30': 21150, '▁um': 561, 'kri': 10648, 'catches': 23386, '▁applicants': 12505, '▁liste': 11357, '▁Saturn': 24037, 'kle': 9434, 'n': 29, '▁Pla': 8422, '▁rédaction': 30063, '▁Principle': 22826, '▁Professor': 5589, '▁Prime': 5923, '▁prices': 1596, '▁UPS': 21317, '▁cerc': 19259, '▁dossier': 14852, '▁Self': 8662, 'engagement': 25123, '▁schizophrenia': 31926, 'leihen': 27662, '▁Arnold': 21958, '▁Sur': 3705, '▁If': 156, 'fuses': 26951, 'riez': 20384, '▁Dance': 9438, '▁passionate': 7202, '▁kennen': 12997, '▁buying': 2611, '▁excesiv': 31559, '▁Pay': 5077, '▁verb': 7375, 'äch': 10332, '▁vrem': 22114, '▁Gamb': 18893, '▁consultation': 4577, 'Accord': 26599, '▁argue': 9409, '▁Side': 9466, '▁reprezentant': 22599, 'fluoxetine': 26272, '▁violate': 15108, '▁(„': 24782, 'lons': 14061, '▁Freund': 12272, '▁Solo': 20499, '▁Semester': 31112, 'risk': 13261, '▁Ten': 4738, 'nian': 15710, 'wissenschaftlich': 18503, '▁SQL': 12558, '▁Utilis': 26358, 'give': 17935, '▁compilation': 23436, '▁ieftin': 18349, '▁locale': 8522, 'Reuters': 18844, '▁Treasury': 20792, '▁cartoon': 15074, '▁réglementation': 30923, '▁Letter': 8706, '▁divers': 6558, '▁pistol': 24183, '▁compound': 12771, '▁advertised': 22152, '▁Phillip': 16202, '▁sus': 4324, '▁Lincoln': 9884, 'via': 5907, '▁gest': 7671, '▁upload': 5940, '▁DIN': 20344, 'compania': 17545, '▁sanatate': 18067, '▁pertain': 29580, '(4)': 10820, '▁Interpret': 23842, '▁synonymous': 30141, 'uca': 18283, '999': 19446, '▁Seoul': 28343, 'prozess': 14328, '▁révél': 22047, '▁System': 2149, '▁Gary': 13439, '▁Verkauf': 16264, 'Anim': 19209, '▁SERV': 30711, '▁maximal': 13393, '▁antioxidant': 13984, 'lina': 8280, '▁emergency': 3583, '▁Az': 12611, '▁noticed': 4944, '▁Allow': 12769, '▁belong': 13000, '▁Cro': 5811, '▁Democratic': 10021, '▁durfte': 23170, '▁teint': 26669, 'liens': 15434, 'ALI': 24933, 'wärts': 23974, '▁memories': 5655, '▁formed': 5147, '▁Pub': 22057, '▁generous': 7748, '▁Antonio': 12923, '▁elderly': 12766, 'mnului': 28173, '▁senator': 20596, '-24': 14962, 'examining': 20424, '▁appelé': 17936, '▁districts': 14126, '▁euros': 10186, '▁functioning': 11850, '▁Express': 7319, 'Net': 9688, 'termin': 6544, 'geschafft': 27551, 'dus': 8655, '▁30,': 11558, 'cursul': 12363, 'AZ': 10491, '▁propel': 24075, '▁Transition': 25766, '▁conţin': 27963, '▁precision': 11723, 'habilit': 30232, '▁albastru': 30487, '▁solve': 4602, '▁mid': 2076, '▁Nun': 11565, 'athlon': 21774, '▁spatial': 15208, '▁hurry': 23601, '▁propane': 27948, '▁$25': 14685, 'consult': 29492, '▁ground': 1591, '▁partly': 16509, '▁Ereignis': 25711, '▁Medicare': 10757, '▁Angriff': 25717, 'his': 10193, 'Boost': 16481, 'russia': 26165, '▁sau': 392, 'viel': 17629, '▁proprie': 18282, '▁Adams': 14274, '▁pedal': 16171, 'cier': 9186, '▁umfassende': 22046, 'zumindest': 18885, '<extra_id_18>': 32081, '▁Terre': 18925, 'POS': 16034, '▁Mă': 15796, '▁replaced': 5821, '▁Eat': 13808, '▁hassle': 11941, 'ANN': 21478, '▁sowie': 1885, '▁pension': 8645, '▁corrupt': 17261, 'atiei': 12067, '▁ribbon': 13356, '▁prohibited': 18022, '▁moi': 5387, 'pen': 3208, '▁BBC': 9938, 'popped': 24478, 'părea': 24646, '▁lens': 6888, '▁resist': 8891, '▁Auf': 1662, '▁competitor': 18766, '▁adequately': 22538, '▁silhouette': 19561, '▁finding': 2342, 'Merc': 18180, '▁Explore': 15301, '▁gorgeous': 5296, '▁Liberal': 18587, 'LI': 8159, '▁1962': 20236, '▁speaking': 4461, '▁matters': 4573, 'ordinaire': 30189, '▁cont': 3622, 'DG': 13535, 'ari': 1665, 'comparatively': 31685, 'GC': 11055, '▁spezialisiert': 26041, '▁protective': 13310, '▁negative': 2841, '▁inregistrat': 26080, '▁Marble': 28122, 'cativa': 29463, '▁oversight': 21913, 'pas': 8020, 'ozo': 20260, 'who': 8903, 'illian': 23306, '▁Beweis': 28865, 'contact': 27608, 'fenced': 31037, '▁strongly': 7157, 'lum': 5171, '▁Decla': 28596, '▁piept': 28294, 'mettant': 13083, '▁lavish': 27165, '▁grandmother': 17162, '▁contest': 4233, '▁print': 2281, '▁Key': 4420, '27': 2555, '▁bike': 3724, '▁dernier': 4635, '...)': 11439, '▁calm': 4447, '▁Fernseh': 19798, '▁geistig': 31628, 'bereit': 10599, '▁stands': 5024, '▁ceux': 6023, '▁kid': 4984, '▁exceptional': 5916, '▁podium': 22828, '▁Bo': 1491, '▁implementare': 26107, '▁verbunden': 15418, 'option': 11803, '▁factory': 6291, '▁Fish': 9548, '▁cells': 2640, '▁Texas': 2514, 'tested': 23775, '▁schmeckt': 31523, '▁telephone': 6596, 'achieving': 9582, '▁werde': 10808, '▁glue': 13470, '▁imunitar': 31996, 'sound': 17481, 'half': 17114, '▁expedi': 22879, '▁Hydro': 17239, '▁1:1': 19520, '▁Kun': 20930, 'server': 14322, '▁revision': 14724, '▁ferment': 21434, '▁practicing': 14355, '▁Pet': 5520, '▁matelas': 31432, '▁sommes': 7056, '▁quiz': 20967, '▁Italian': 4338, '▁sticky': 19885, '▁holiday': 2297, '▁getrennt': 29501, 'glob': 14063, '▁tomorrow': 5721, '▁Attack': 24655, '<extra_id_38>': 32061, '18': 2606, '▁search': 960, '▁accommodation': 6432, '▁planet': 4345, '▁habitat': 11341, '▁emulate': 29953, 'feature': 30844, 'envoi': 19861, 'elasticity': 31824, 'path': 8292, 'tatewide': 28631, '▁country': 684, '▁Babylon': 30622, '▁tablespoon': 18396, '▁evangelical': 30682, '▁Buffalo': 17563, '▁Vest': 20970, '▁hopefully': 8858, '▁instituții': 25967, 'List': 21310, '▁non': 529, '1.3': 13606, 'Mon': 9168, '▁mainland': 25531, '▁rechts': 16215, '▁entière': 28213, '▁soothe': 27335, 'Trustees': 29972, '▁stint': 28388, 'halter': 24611, '▁Copenhagen': 27591, '▁opinion': 3474, '▁passport': 16340, 'Ecole': 29956, '▁shocked': 19170, '▁venues': 11778, 'ping': 2462, '▁Behind': 17088, '▁Se': 679, '▁métier': 18412, '▁recipients': 19297, '▁tourists': 11618, '▁Multi': 4908, '▁1969': 17185, '13': 2368, 'eilig': 26379, '920': 27749, 'cuprinse': 30412, 'gezahlt': 31872, '950': 25188, '▁lessons': 5182, '10)': 16968, 'kilometre': 20656, 'possessed': 27345, '2000': 13527, '▁23': 1902, '▁Plans': 14423, '▁shows': 1267, '▁funcționa': 21354, 'ntă': 19213, '▁comanda': 10741, 'leuchte': 16941, 'üft': 23031, '▁Füll': 28191, '▁plot': 5944, '▁Bali': 20241, '▁compiler': 29801, '▁Volks': 18982, 'AN': 5033, 'IZ': 20091, '▁placebo': 27346, '▁Asociaţi': 29116, 'istic': 3040, '▁HTC': 19989, '▁Hotels': 13300, '▁Soon': 14902, 'ont': 1770, 'spricht': 17293, '225': 20489, '▁date': 833, '▁reservoir': 21459, 'ENG': 23182, 'Public': 30931, 'DIS': 15438, 'IPO': 25470, '▁Rund': 10480, '▁folosi': 8971, '▁sisters': 14033, '▁tips': 2316, 'wichtigen': 23539, '▁prince': 22277, '▁Grape': 29083, '▁Spar': 13063, '▁buff': 25529, '▁Keith': 17017, '▁obținut': 25031, '▁intimate': 11050, '▁visitors': 2692, '▁Product': 6246, '▁letzte': 10974, '▁1,': 1914, '▁rebound': 20756, '▁Rent': 9405, '<extra_id_48>': 32051, '▁Schwe': 9430, '▁Gray': 13375, 'listened': 17010, '▁posters': 18410, '▁béton': 30889, '▁extraordinar': 22596, 'physio': 21324, '▁flowing': 15401, '▁Hol': 5838, 'ique': 1495, '▁emphasize': 15523, 'T': 382, '▁zuverlässig': 22331, '▁spacing': 30024, 'publicate': 31808, 'Aktionen': 29829, '▁similarly': 19467, 'based': 390, 'index': 18288, 'pears': 29892, '▁films': 4852, '▁Zugang': 20858, '▁Heavy': 17846, '▁USDA': 26600, '▁audiences': 11209, 'blieben': 22944, 'genauer': 28780, '▁certaine': 9086, '▁relationship': 1675, 'schließen': 13344, '09.': 12900, '▁11,': 9694, '▁barrier': 12515, '▁despre': 1578, '▁retiring': 28434, '▁discovering': 17452, 'Feature': 16772, '▁Woman': 18604, 'judeţul': 26995, 'h': 107, '▁Display': 11677, '▁toward': 2957, '].': 4275, '▁Hund': 14587, '▁appearing': 16069, '▁shortly': 10545, 'pristine': 24982, '▁Braun': 25599, '▁Motorsport': 30045, '▁President': 1661, '▁widget': 19385, '▁estim': 12182, '▁composite': 13723, '▁bleu': 15197, '▁kleiner': 14071, 'try': 8224, '▁temp': 10301, '▁acestor': 10359, 'Read': 19915, '▁responses': 7216, 'MLS': 17976, 'cliquez': 27219, '▁créé': 13481, '▁individuel': 29631, '▁înseamn': 12506, '▁Besucher': 13894, '▁jocul': 24629, 'zilla': 29885, '▁bekommt': 17662, '▁warmer': 17742, '▁abolish': 31226, '▁vendors': 8535, '▁Sau': 7745, '▁Laser': 13828, '▁touching': 18966, '▁Article': 7491, 'SCH': 20557, 'confirming': 27338, '▁iarnă': 30579, 'gesetzt': 9907, '▁extraction': 16629, '▁baie': 12302, '▁hustle': 28372, '▁sofort': 9575, 'spannung': 28279, 'painted': 27222, 'torii': 9291, '▁Salle': 24364, '▁ép': 13508, '▁puterea': 18505, '▁pluie': 26410, '▁intrebari': 26659, '▁Barrier': 29147, '▁arhitectura': 30576, '▁directors': 10392, '▁léger': 25109, '▁tax': 1104, '▁goose': 29669, '▁Roth': 17269, '▁profitability': 21624, '▁prohibition': 30693, 'statt': 15679, '▁launch': 3289, '▁special': 534, '▁Commercial': 9747, 'Darüber': 18103, '▁Coordinator': 20150, '▁Sign': 6365, '▁alert': 5685, '▁Sponsor': 19254, 'tags': 11659, 'olltest': 27670, '▁harder': 7501, '▁installed': 3029, '▁elegant': 3865, '▁oferta': 17803, 'rog': 3822, 'IL': 3502, '▁aproape': 5906, '▁herself': 6257, '▁umfasst': 23246, 'rescued': 28540, '1.0': 12734, '▁chains': 16534, '▁produziert': 24555, '▁flood': 8347, '▁pad': 8950, '▁explored': 15883, 'Re': 1649, '▁components': 3379, '▁lumină': 28606, 'develop': 29916, '▁program': 478, '▁with': 28, 'alism': 6835, '▁Growing': 22818, '▁umgehen': 27454, '▁Encyclopedia': 31818, '▁veterinarian': 26111, '▁grupuri': 27641, '▁mustard': 23756, '▁vorlieg': 27291, '▁aérienne': 31725, '▁wieder': 1403, '▁observa': 17404, '▁lectur': 22111, 'kul': 10701, 'cip': 3389, '▁hatch': 20618, 'standardized': 23579, 'dial': 22233, '▁strips': 15797, 'käufe': 28549, '▁annually': 10943, '▁plimb': 20849, '▁teeth': 3841, 'absolu': 28369, '▁Instrument': 13507, '▁Mumbai': 15810, '▁Chaos': 28429, '▁extravagant': 28887, '▁révolution': 24670, '▁Halifax': 31150, '▁Reviews': 16305, '▁Block': 9387, 'schrieb': 23343, '▁foolish': 27539, '▁Ober': 7734, 'rism': 16721, '▁Thu': 23973, '▁Pa': 2709, 'ții': 3544, 'Hz': 16223, '▁district': 3939, '▁sie': 680, '▁solche': 6466, '▁dépend': 21276, '▁cervical': 28312, 'ciones': 27642, 'shot': 11159, '▁imagini': 13319, '▁aquarium': 24633, 'DOT': 25819, '▁technicians': 11225, '▁administrators': 17747, '▁entfernt': 14792, '▁wallpaper': 7045, '▁principau': 22304, 'wind': 5165, 'jean': 26459, '▁ways': 1155, '▁Aquarium': 30927, '▁manufacturers': 5360, '▁city': 690, 'ffy': 20334, '▁Belastung': 28314, 'Molecular': 29809, '303': 23335, '▁welfare': 13454, 'rechnung': 17051, '▁neighbour': 14245, 'ghi': 5649, '▁Around': 16140, '▁mica': 18196, '▁Stanley': 19089, 'entwicklung': 19718, 'page': 6492, 'take': 4914, 'C': 254, '▁Diagnostic': 27678, '▁antren': 28404, '▁Invitation': 25298, '▁Pi': 2745, '▁Mircea': 24542, '▁sing': 10159, '▁Investiga': 29382, '▁directly': 1461, '▁nimeni': 14607, '▁Georgetown': 29218, '▁davantage': 22083, '▁Darwin': 26894, '▁felt': 1800, '▁parent': 4208, '▁fundamental': 4431, 'klingt': 30244, 'unterschiedliche': 18683, '▁construire': 17341, '▁carré': 26083, 'amba': 14303, '▁Melissa': 22850, 'WAY': 17150, '▁biblical': 23438, '▁Anmeldung': 21435, '▁favorable': 15229, '▁Pluto': 31213, 'Approximately': 24597, 'kompetenz': 31644, '▁encountered': 15110, 'spoiled': 29793, 'ody': 9666, '▁Schnell': 24152, '▁assure': 7992, '▁assembled': 17583, '▁dép': 16257, '▁gasit': 14368, 'cion': 20013, 'fashion': 31692, '▁toate': 1785, 'ham': 1483, '▁imagine': 3034, '▁Jackson': 7714, 'ul': 83, 'gues': 15991, 'dov': 24623, '▁1960': 8754, '▁mitochondria': 28642, '▁Angehörige': 30122, '▁suitcase': 27622, '▁subjects': 7404, '▁Bedeutung': 16144, 'lowering': 23358, '▁privately': 19852, '▁perspectives': 14013, 'percussion': 19984, '▁Channel': 9916, '▁închisoare': 30452, '▁Loch': 24922, '▁masura': 16374, '▁Subscribe': 23942, '▁immune': 9392, 'flipped': 31553, 'underlying': 10067, '▁Grab': 15004, '▁descoperit': 16066, 'ffected': 27488, '▁reasoning': 20893, '▁sniff': 30998, '▁traits': 16843, 'kredit': 26603, 'ță': 7585, '▁supporters': 11172, '▁tumble': 26565, '▁Fast': 6805, '▁swim': 9728, '▁hervor': 19292, '▁Therapie': 20168, '▁idylli': 27602, '▁participation': 5178, '▁complet': 3936, 'ESS': 10087, 'valoarea': 17863, '▁devour': 30722, '▁colors': 2602, '32': 2668, '▁homework': 11920, 'all': 1748, '▁expensive': 2881, '▁Round': 9609, '▁finishing': 8619, 'vină': 17781, '▁puissance': 18806, 'roș': 24292, 'ducted': 21336, '%': 1454, '▁At': 486, '▁duminică': 25371, 'mates': 11171, '▁retirement': 6576, '▁Herz': 9372, '▁sticker': 22385, '▁salsa': 24993, '▁poser': 20306, 'enfant': 7776, '▁We': 101, '▁Wohnung': 14166, 'BOOK': 25793, '▁relationships': 3079, 'organisme': 15191, '▁detected': 14619, '▁Cont': 13228, 'firm': 7001, 'week': 8041, '▁rope': 13888, '▁Influen': 23636, 'iji': 17279, '▁Mexican': 11511, '▁enjoying': 5889, 'étranger': 17073, '▁Why': 1615, 'Pop': 27773, '▁réservation': 25329, '▁Invite': 30090, '▁Cele': 13136, '▁épais': 31693, '▁sink': 5067, 'data': 6757, '▁Fit': 9783, 'avantage': 18986, '82': 4613, '▁Diego': 8851, '▁folosit': 6749, 'spielen': 19122, '▁activitatea': 13493, 'WL': 24102, 'themed': 24186, 'fession': 17585, 'Celui': 28824, 'autre': 6304, '301': 25626, 'film': 9988, '▁soil': 4484, '▁bachelor': 16428, '▁Settings': 19137, '▁leur': 1089, '▁Zip': 22296, '▁waterfront': 25923, '▁makers': 13730, '▁english': 22269, '▁deletion': 29431, '▁tensiune': 30541, 'astic': 10057, 'evenimentele': 30774, 'rushed': 18731, '▁Firm': 13530, 'strong': 25866, '▁catalogue': 14978, 'WC': 10038, 'Depending': 11333, 'South': 22081, '▁Heli': 23025, 'coveted': 28108, '▁fire': 1472, '▁Vector': 29011, '▁economical': 18863, 'stro': 6626, 'Akt': 19066, '▁look': 320, 'familien': 27937, 'positive': 26093, '▁impus': 24176, '▁Doyle': 30472, 'lasting': 15166, '▁Pain': 19043, '▁evidence': 2084, 'latin': 14098, '▁corrected': 23006, '▁reach': 1535, '▁médical': 21389, '▁Built': 14862, '▁Manufacturer': 15248, '▁Imperial': 21268, '▁engineering': 3867, 'wick': 5981, 'critères': 25979, '▁nebun': 26768, '▁footage': 13420, '▁stellen': 9345, '▁Trainer': 13890, 'ASE': 17892, 'gerufen': 21400, '▁spaces': 4856, '▁diminu': 14776, '180': 20829, '▁functioneaza': 28194, '▁publications': 10142, '▁variable': 7660, 'feld': 5003, '▁transfer': 2025, '▁desired': 5327, '▁lodge': 14467, 'ingham': 14799, '▁niciun': 15850, '▁Drupal': 28644, '▁witch': 22583, 'meaning': 27639, '▁pièces': 12984, '▁Chronic': 30393, 'KA': 12048, '▁etwa': 6239, '▁bomb': 6417, '▁packaging': 6745, 'holding': 21647, '▁Einkommen': 28087, '▁expenses': 5159, '▁protest': 4973, '▁erhältlich': 20472, 'ken': 2217, '▁développer': 16710, '▁funding': 3135, '▁spatiu': 18977, '▁Faites': 24129, '▁relații': 29545, '▁métallique': 29902, 'IBLE': 30176, '▁pielii': 16834, '▁Governor': 10510, '▁Naomi': 31195, '▁parish': 14961, '▁unparalleled': 24012, 'Power': 23553, '▁Cherry': 21743, '▁Abbey': 24632, '▁mouse': 8429, '▁Jewelry': 26580, '▁soutien': 15203, '▁Li': 1414, '▁Prepare': 16386, 'ried': 9889, 'or': 127, 'cliff': 12591, 'telles': 20195, '▁dürfen': 12443, 'D': 308, '▁hard': 614, 'geber': 19150, '▁Kino': 23187, '▁Jahren': 3093, '▁Dienstleistung': 30456, '▁accessory': 19182, 'confortul': 31706, '▁atunci': 2732, 'pass': 3968, '▁Haus': 4598, '▁Pharma': 17823, 'etro': 15252, '<extra_id_12>': 32087, '▁Marathon': 19012, '▁webinar': 19661, '▁harness': 14469, '▁comunic': 17417, '▁Arabia': 13849, 'signed': 15532, '▁Global': 3699, 'leaking': 26177, '▁centre': 2050, '▁Tang': 18939, '▁treac': 23968, '▁facem': 11912, 'vit': 5566, '▁weaving': 29162, '▁assemblies': 29911, '▁hole': 6356, '▁pune': 6853, '▁joining': 6109, '▁Promote': 28530, '▁purchased': 3907, 'MB': 4633, '▁backpack': 14395, '▁Zähne': 30971, '▁tons': 8760, '▁35': 3097, '▁USD': 9513, '▁Moldova': 8880, '▁Chris': 4409, 'track': 11991, '▁reconnu': 19950, 'exploded': 29155, 'En': 8532, 'Unis': 14133, '▁verbessert': 23848, '▁BBQ': 15068, '3-5': 18366, '▁shrink': 18508, '▁mimic': 22336, '▁Napoleon': 27318, '▁comply': 9095, '▁Nutrition': 16525, 'w': 210, '▁please': 754, '▁app': 1120, '▁records': 3187, 'hill': 6321, '▁legat': 17776, 'liés': 22263, 'micro': 25131, '▁trajectory': 29912, '▁hallway': 24409, '▁goals': 1766, 'methyl': 22758, '▁Romania': 3871, 'ridden': 28629, '▁eradicate': 30896, '204': 26363, '▁sonst': 16292, '▁provided': 937, 'inci': 11542, 'DIRECT': 25392, 'ance': 663, 'zog': 17328, '▁black': 1001, '230': 13427, '▁salmon': 15237, 'QC': 26265, 'sec': 7549, 'chauff': 20594, '▁putere': 15799, '▁coarse': 27978, '▁sin': 3731, '▁Adult': 12318, '▁Materialien': 20636, '▁promo': 5585, 'LOG': 20151, '▁forehead': 29339, '▁Leaf': 19407, '▁nombreuses': 9718, '▁usoara': 27205, '▁registered': 3366, '▁Pul': 10035, '▁Rack': 24688, '▁Tot': 11472, '▁greatly': 6891, '▁situat': 13921, '▁pahar': 25562, 'dehors': 25648, '▁depozit': 16609, '▁kürz': 23796, 'cover': 9817, 'normal': 12110, '▁fluid': 5798, '▁dat': 3927, '▁Guinea': 26252, '▁junior': 9212, 'rent': 5320, '▁Scroll': 25731, '▁des': 93, 'Italie': 23280, '▁sérieux': 27367, '/20': 20173, 'mäßig': 11914, '▁With': 438, '▁decisions': 3055, '▁Partner': 5793, 'rot': 2719, '▁missing': 3586, '▁Videos': 17284, '▁Download': 2750, '▁within': 441, 'tician': 29562, 'ander': 11849, 'tell': 6714, 'outlines': 28896, '▁13.': 8808, 'Check': 23751, '▁BlackBerry': 29697, '▁Sen': 4892, '▁simbol': 19753, '▁Slow': 18039, 'HS': 4950, '▁Character': 20087, '▁încredere': 22892, '▁Well': 1548, 'con': 1018, 'relating': 8321, '▁Investition': 26709, '▁Colegi': 27469, '▁reflex': 22112, '▁servicii': 8025, '▁Shore': 16002, 'traf': 14793, 'verschiedenen': 7811, '▁Greater': 15993, '▁Cash': 8835, '▁Discussion': 16330, 'enţial': 20838, '▁taxpayer': 15375, 'uploads': 29778, '▁variability': 27980, '▁pic': 6686, 'REN': 22413, '▁douce': 20969, '▁coco': 11530, 'Schülerinnen': 26908, '▁Soccer': 23375, 'matik': 27373, 'Connor': 22329, '▁Durchführung': 28562, '▁Schwa': 20189, 'oplasty': 29694, '▁Celsius': 24841, 'vapeur': 30951, '▁(1': 4077, '▁ședinț': 29614, 'threatening': 14390, '▁bestseller': 31666, 'EG': 8579, 'gelangt': 30983, '▁ordered': 5563, '▁Bravo': 21568, 'rea': 864, 'ITY': 15296, '▁Mountains': 18183, 'wise': 10684, '▁household': 5699, '▁half': 985, '▁wealth': 5987, 'specialized': 8689, 'itoare': 6547, '▁dédié': 17991, 'bahn': 9849, '▁visa': 8359, 'arguably': 21719, 'liefer': 26025, 'rohr': 31276, 'P': 345, '▁Pentagon': 29449, 'Virus': 27837, '▁proche': 11701, 'journal': 25340, '▁huge': 1450, '▁Indeed': 10930, '▁appraisal': 23555, 'RNA': 11840, '▁aplicatii': 29498, '/05/': 31911, '▁prayer': 7029, '▁haute': 10797, '▁medizinische': 27183, '▁labour': 12568, '▁Tipp': 18332, '▁big': 600, 'rage': 4843, '▁mărturi': 26055, '▁structuri': 21055, '▁Retirement': 28817, '▁ivory': 29539, '▁demonstration': 10686, 'rase': 15447, '▁Wonder': 16347, '▁unterscheide': 24465, 'BAC': 26953, 'LAB': 26810, '▁verlieren': 28048, '▁preserved': 18570, '▁1996': 6911, '▁carefully': 4321, '▁Rück': 6479, '▁thick': 4126, '▁adjustments': 14346, '▁adhesive': 18257, '▁cavity': 25864, '▁stops': 10796, '▁asparagus': 31513, 'nimmt': 12849, '▁gentil': 29693, '195': 22464, '▁discreet': 29864, '▁games': 1031, '▁obligaţi': 29493, '▁décision': 15172, 'Licensed': 28492, '▁portfolio': 4833, '▁plural': 28037, '▁Avengers': 29999, '▁transferred': 10250, 'liber': 10661, '▁vineyard': 18890, '▁forms': 2807, '▁genes': 13485, 'setzt': 6773, '▁gefunden': 13757, '▁centr': 21551, '▁convins': 26058, '▁assurance': 12203, '▁Wohnzimmer': 28235, '▁verifica': 20078, '▁disinfect': 30929, '▁bataille': 30649, '151': 26578, '▁Urban': 10127, '▁stink': 29704, '▁flavors': 11104, '▁ascuns': 24755, 'implantation': 30918, '▁fragment': 12071, '▁Camp': 4594, '▁urma': 4085, '▁spannend': 15770, '▁greenhouse': 17572, '720': 18517, '▁epidemic': 24878, '▁indiqu': 17567, 'ographie': 15341, '▁maîtrise': 23345, '▁Motorcycle': 29941, '▁Vinyl': 22283, '/15': 20376, 'université': 21686, '▁cerut': 19943, 'teile': 13779, 'Trying': 26421, 'HG': 21855, '▁tut': 13829, '▁June': 1515, '▁courier': 27961, '▁disabled': 10860, '190': 11776, '▁Shipping': 13651, 'FD': 13916, '▁aged': 9742, '-17': 10794, 'defined': 17094, 'spann': 20326, '▁slate': 21079, 'tropic': 20960, '▁langfristig': 25805, '▁bevor': 11269, '▁100': 910, '▁Bruce': 13800, '▁lifting': 14931, 'leistungen': 24150, '▁cable': 4807, 'vis': 3466, '▁Poly': 7945, '▁matematic': 31230, '▁*******': 25825, ').': 137, '▁Syn': 8951, '▁tomato': 12784, '▁Ann': 6206, 'trays': 28501, '▁inaccurate': 27801, 'DNA': 25824, '▁prophet': 19421, 'SIL': 26525, '▁voici': 23646, '▁parteneriat': 22379, '▁Admir': 26519, '▁fifty': 18358, '2009': 16660, '▁Cushion': 31997, '▁Mad': 5428, 'PAC': 19324, '▁LLC': 6516, 'iens': 8065, 'mise': 11248, '▁approved': 3754, '▁Fall': 2589, '▁BEST': 23325, '▁Ceiling': 24467, '▁ever': 664, '▁Cat': 3431, '▁Chic': 20083, '▁act': 1810, 'mus': 3252, '▁bargain': 13435, '▁colectiv': 26577, '▁doorstep': 26929, '▁Enterprise': 8526, '▁reluctant': 24391, 'gu': 1744, '▁camp': 2856, '▁Klinik': 27783, '▁humiliat': 30880, '▁IBM': 11045, '▁cour': 11111, '▁Z': 1027, 'Palatul': 31554, 'public': 15727, '▁Bewerber': 31863, '▁RSVP': 29347, '▁poti': 6532, 'loc': 5133, '▁Feder': 14560, '▁Patriot': 20109, 'enthält': 19537, 'rock': 6133, 'CL': 8440, '▁Jede': 19050, '▁topping': 19342, '▁Milan': 14556, 'TURE': 25380, '▁headline': 12392, '▁crane': 25126, 'möglichen': 23276, 'Cat': 18610, '▁record': 1368, '▁chaleur': 14730, '▁redeem': 22163, '▁oil': 1043, '▁Danish': 23124, 'médias': 24592, '▁lease': 6841, '4.3': 21841, '▁optimization': 11295, 'ou': 1063, '▁offensichtlich': 30410, 'Invent': 29861, '▁DO': 6054, '▁disappeared': 19803, '▁Medi': 11816, '▁Democrats': 11882, 'fir': 14581, '▁confer': 11323, '▁this': 48, '▁apparel': 21067, 'Gruppe': 30287, 'perfect': 22588, '▁importantly': 7521, '▁Finland': 16458, '▁lucky': 5722, '▁Brief': 15545, '▁Ruhe': 17177, '▁régulièrement': 18891, '▁way': 194, '▁syn': 8953, 'ments': 4128, 'repute': 28285, 'Earlier': 15944, 'Produsul': 29923, '▁drink': 3281, '▁desktop': 6555, '▁Brock': 26349, 'pra': 5319, 'behörde': 26563, '▁diagnos': 28252, '▁Aufnahme': 24890, '▁smoker': 24190, '▁Kevin': 8595, '▁globally': 13448, '▁digitiz': 29978, '▁Bibli': 26690, '▁buffalo': 30964, '▁bulbs': 18851, 'loid': 20253, 'stop': 7618, '▁gab': 7852, 'Media': 24607, '▁Papa': 17822, '▁Gespräch': 13869, '▁saturated': 25703, '▁Hans': 10001, '▁pleine': 15819, '▁covers': 3792, '▁wonderfully': 21908, 'im': 603, '▁piata': 13852, '▁Utiliz': 20156, 'Radio': 31313, '▁acceptable': 9961, '▁drives': 9350, 'hunt': 24963, '▁aquatic': 28342, '▁plăti': 29051, '▁dispoziti': 30613, '▁Times': 5324, 'APP': 13747, '▁got': 530, '▁quilt': 9159, '▁Housing': 14716, '▁rehabilitation': 15602, 'limited': 29901, '▁Guillaume': 31441, '▁bot': 14761, '▁postcard': 24314, '▁factors': 2580, '▁intestinal': 24826, '▁badge': 13402, 'Liviu': 25023, '▁Political': 19289, '▁petrol': 17602, '▁Organisation': 11033, '▁Way': 5994, '▁Cher': 16028, '▁stră': 14403, 'executing': 26685, '▁Joyce': 27121, '▁Rise': 24103, '▁Interessen': 19228, '▁load': 4002, '▁dear': 12537, '▁inevitable': 17508, '▁restrictive': 28219, '▁început': 8508, '▁rezult': 27092, 'Class': 21486, '▁Border': 17600, '▁rest': 880, 'ó': 4922, 'schreiben': 11817, 'venus': 25116, '▁2016': 1421, '▁joue': 17478, '▁cadeau': 17811, 'invest': 15601, '▁wake': 7178, 'den': 537, '▁casa': 9366, 'faisant': 17111, 'sprung': 20279, '▁societate': 22578, '▁marcat': 21470, 'schl': 7517, '▁betreut': 30991, 'ijk': 25548, 'Sadly': 19832, '▁ready': 1065, '▁satisfac': 20079, 'énorme': 28401, 'gie': 4044, '▁Award': 3677, '▁Platform': 12779, '▁tariff': 20116, '▁Deluxe': 23355, 'essel': 19132, '▁Ul': 10150, '▁eindeutig': 27593, '▁ingredient': 11322, '▁vorgesehen': 28973, 'what': 9170, 'culturii': 26381, '▁Novel': 24388, 'CHI': 17226, 'pon': 5041, '▁apă': 9530, 'ţe': 5232, '▁Palace': 12530, '▁official': 2314, 'tori': 3600, '▁investigation': 4962, '▁producing': 5874, '▁entwickeln': 18376, '▁nationale': 11232, '▁Armenia': 18715, 'ache': 4933, '▁plec': 11913, '▁workshop': 4786, '▁wonderful': 1627, '▁Pakistan': 6697, '▁ridiculous': 15708, 'AG': 8418, 'Apotheke': 29115, '▁bird': 5963, '▁semester': 10542, '▁truffle': 30323, '▁Kräuter': 29483, 'We': 1326, 'Greeting': 29877, '▁primordial': 30315, '▁Kensington': 31556, '▁treated': 4260, 'Con': 4302, '▁Sales': 7107, 'то': 9592, '▁enemies': 14645, 'costing': 31942, 'EE': 5080, '▁HR': 8383, '▁Sofia': 25860, '▁earth': 3596, '▁principii': 27038, '▁Elder': 21297, '▁Feedback': 23485, '▁Lucr': 23727, '▁culmin': 27145, 'rruption': 27599, '▁Crema': 28304, 'Multi': 31922, 'NA': 5999, 'ummies': 30885, '▁crawl': 18639, '▁efecte': 21307, 'print': 7260, '▁gesamte': 10122, '▁real': 490, '▁constatat': 27273, 'nnie': 11113, '▁Ott': 12881, '▁Popescu': 28855, 'induced': 14515, '▁smoothly': 14000, '▁inspirat': 23121, '▁secundar': 28997, 'luckily': 31299, '▁shrub': 21675, 'RL': 12831, 'arrive': 24024, 'mă': 6474, '▁Salzburg': 27435, '▁legislati': 24641, 'ear': 2741, 'embroidered': 28445, '▁imaging': 12586, 'bps': 24942, 'empre': 25569, '▁signature': 5483, '▁uncomfortable': 14209, '▁census': 23087, '▁Ve': 3901, '▁county': 5435, '▁Bow': 10715, '▁civilian': 14705, '▁bookstore': 26658, '▁Inspector': 19773, '▁Schiff': 19447, '▁vegetarian': 16364, '▁PV': 16303, 'ес': 24392, '▁spécialisé': 14275, '▁lumea': 6785, 'scriere': 14554, 'inscrit': 17968, 'sistence': 30581, '▁Sum': 12198, 'çon': 14163, '▁29,': 14405, 'misiune': 19925, 'sided': 17389, '6': 948, '▁IP': 3857, 'zz': 5271, '▁Richtung': 12753, '▁leasing': 21209, 'aveam': 23647, 'Tex': 13598, '▁apariti': 23855, '▁broccoli': 24630, 'quit': 10073, '▁correlation': 18712, 'ulescu': 24579, 'nning': 9416, '▁bewegt': 28399, '▁Parliament': 12876, 'nage': 9761, '▁gauche': 16283, '▁inhibit': 19921, '▁youthful': 26691, 'dachte': 26232, '▁Joseph': 6187, '▁perspective': 3503, '▁appearance': 3179, 'drum': 17870, 'NH': 15743, 'droht': 29015, '▁anunţat': 27584, '▁Verwaltung': 18622, '▁maison': 4053, '▁honesty': 20558, 'blew': 26402, 'ologic': 7925, '▁menschliche': 26292, '▁team': 372, '▁prove': 4410, '▁steep': 10856, '▁affiliate': 8484, '▁Kelly': 10605, '▁Jane': 8158, '▁linear': 13080, '▁acoper': 24610, '▁Study': 9165, 'ôle': 21813, '▁apps': 4050, '36': 3420, 'flüssig': 28179, '▁Encore': 27150, '(6)': 18669, '▁area': 616, '▁remedi': 16189, 'ICE': 8906, '▁goodies': 23150, '▁acres': 9704, 'kabel': 24606, '▁demonstrated': 9028, '▁Antarctic': 26461, 'link': 4907, '▁rectif': 27748, 'GD': 18405, '▁einer': 645, 'éco': 15005, 'exe': 6667, 'friendly': 4905, '▁Joy': 14988, '▁declaration': 18165, 'Applied': 20822, 'initiation': 26289, '▁Mittel': 8252, 'phag': 25173, '▁stehen': 5674, 'itati': 6303, '7000': 27133, '2014': 10218, '▁Dinner': 18428, '▁tunnel': 11916, '23': 2773, '▁Wellness': 17092, '▁overload': 26343, '▁tree': 2195, '04': 6348, 'aji': 17815, '▁franchise': 7884, '▁Einschränkung': 30745, '▁mon': 1911, '▁beinhaltet': 28760, '▁vrea': 9698, '▁motorist': 25877, '▁reimburse': 29560, '▁plictis': 30630, '▁championnat': 28356, '▁Elektro': 15706, '▁riding': 7494, '▁singular': 22166, '▁Del': 6236, '▁Front': 7383, 'École': 31721, '▁diff': 20624, '▁géant': 29994, '▁all': 66, '▁feminist': 28744, '▁colon': 6718, 'élève': 23622, 'gui': 7938, '▁section': 1375, 'Served': 28060, 'Ped': 25048, '▁regulament': 28428, '▁sfârşit': 31854, '▁addicted': 27942, 'consideră': 28417, '▁leicht': 6587, '▁militaire': 27034, '▁Jump': 19004, '▁always': 373, 'pulsion': 20567, '▁Unfall': 25270, '▁rare': 3400, '▁scheme': 5336, '▁gratuitement': 21756, 'érence': 21887, '▁Netherlands': 12023, '▁$15': 15287, '▁forgot': 15687, 'Save': 23163, '▁construi': 18234, 'PC': 4051, '▁bibliothèque': 25978, '▁Grigor': 29405, 'Situationen': 30168, 'ières': 11996, '▁have': 43, '▁Sco': 10711, '▁manuscript': 14496, 'directional': 26352, '▁erhöhen': 27361, '▁surf': 12245, 'collect': 22153, '▁Healing': 24969, '▁albums': 14234, '▁orders': 5022, 'loaded': 19496, 'neig': 29848, '▁Eduard': 31176, '▁Cell': 7845, 'graphic': 14797, '▁Manda': 19926, '‘': 5174, '▁Pas': 6156, '▁razor': 26828, '▁administrator': 13176, '▁Petit': 13519, '▁circa': 14895, 'posi': 19882, '▁placeholder': 14107, '▁annotation': 30729, '▁unicorn': 30707, '▁Houston': 8018, '▁mars': 8113, 'MID': 21003, '▁utility': 6637, '▁énergétique': 24529, 'arising': 14739, '▁proteja': 19755, '▁po': 1977, '▁Alexandria': 25664, '▁composition': 5761, '▁capacities': 23875, '▁called': 718, '▁vet': 14065, 'utilisées': 29013, 'ble': 2296, '▁homeowner': 18559, '▁engaging': 7007, '▁veggie': 30642, 'LE': 3765, 'IMO': 26832, '▁vieţii': 26900, '▁Thur': 26198, '▁fireplace': 9610, '▁honor': 3610, '▁papers': 5778, '▁Trading': 15088, '▁dort': 5048, '▁amounts': 6201, 'though': 11841, '▁electoral': 16289, '▁Raw': 19401, 'presenting': 12072, '▁stretching': 18887, 'plätze': 16299, '▁oblige': 19880, '▁schriftlich': 21730, '▁diplomat': 23661, '▁channels': 6047, '▁nici': 2872, '▁Children': 4351, '▁professionnelle': 16094, 'game': 7261, '▁disposable': 26139, '▁buckle': 26504, 'länder': 19881, 'facets': 27841, '▁organisations': 6445, '▁utilizeaz': 26598, '▁pătrun': 31913, '▁recuper': 16859, '▁autor': 8728, '▁konnten': 10478, '▁rather': 1066, '▁choose': 854, 'dès': 8322, 'appro': 12497, 'eaucoup': 28083, '•': 29947, 'wahl': 13963, 'ush': 8489, '▁interface': 3459, 'dessous': 14768, '▁patches': 18892, 'OSS': 19406, '▁MAI': 26409, 'Voraussetzungen': 26831, '▁burning': 9706, '▁simt': 10174, '▁simplu': 8368, '▁grains': 18351, 'player': 20846, '▁degrab': 26348, '▁Kemp': 28687, 'cia': 4915, '▁contribution': 6275, '▁Space': 5844, 'met': 3493, 'education': 29117, '▁maghiar': 29186, '▁lamps': 16404, '▁Since': 1541, '▁Scout': 13769, 'jection': 21440, '▁Directive': 28965, '▁Author': 10236, '▁pozitiv': 16831, 'metru': 18578, 'Vol': 22803, 'parliamentary': 28443, '▁encompass': 18253, '▁AG': 8859, 'industrial': 30083, '▁Review': 4543, '▁Claire': 19542, 'AIR': 18375, '▁immunity': 26510, '▁Bre': 3004, '▁bail': 15794, '▁themed': 18594, '▁Ordin': 21983, 'dietary': 16640, '0.3': 19997, '▁Chennai': 23940, 'improvisation': 30210, '▁widespread': 14047, '▁direkt': 4235, '▁apprentice': 29255, 'N': 567, '▁Lots': 14868, '▁Egg': 16693, '▁Mutual': 30327, '▁towels': 19105, '▁advertisement': 21592, '▁Signal': 16947, '▁Exercise': 21414, '▁vergleichen': 25132, 'alia': 5434, '▁producţi': 29448, '▁Newton': 20126, '▁displayed': 6099, 'lenk': 19070, '▁Kathleen': 29784, '▁rally': 13980, 'isieren': 14008, '▁economist': 20163, '▁Concrete': 18881, '▁juridic': 14086, '▁confiance': 15087, 'Oh': 15046, '▁Shanghai': 15985, '▁erkennen': 17666, '▁places': 1747, 'coordinating': 24232, '▁Eigentum': 29575, 'mystical': 31225, 'fix': 12304, '96': 4314, 'four': 12521, '▁extension': 4924, 'inscrire': 26146, '▁Roger': 9099, '▁coupled': 14286, 'RM': 7336, 'échange': 11447, '122': 20889, '▁liegen': 12376, 'RAN': 16375, '▁retrouve': 16770, '▁scoop': 19382, '▁plumber': 20807, 'économie': 13496, 'Congressional': 27998, '▁numele': 9038, '▁adauga': 12671, '▁Minuten': 8314, '▁Sci': 16021, '▁tomatoes': 11395, 'WO': 16733, '▁aminte': 19941, '▁Triangle': 29260, '▁sentir': 25025, '▁long': 307, 'HK': 20240, 'elles': 3167, '▁presentation': 3831, '▁Early': 8840, '▁département': 13014, 'coup': 15976, '▁named': 2650, 'mes': 2687, '▁Inter': 3037, '▁losses': 8467, '▁mathematical': 18913, 'emporte': 31012, '▁conveyanc': 31117, '▁patrimoine': 21858, '▁Belgia': 21768, '▁sight': 6398, '▁Plastic': 14892, '▁tent': 5748, '▁realiza': 16200, '▁ce': 197, '▁Rezept': 18341, 'inauguration': 30634, '▁versions': 5204, '▁1984': 13480, '▁Situ': 18498, '▁channel': 4245, '▁Zimmer': 11519, '▁island': 3368, '▁vizite': 23297, 'hingeg': 31373, 'gearbeitet': 21791, 'phen': 19017, '▁participants': 3008, 'limb': 9577, '▁trocken': 22495, '▁Mercy': 29165, 'i': 23, 'veux': 19541, '▁Dauer': 20122, 'spüren': 30796, 'ard': 986, 'onym': 19140, '▁editors': 18008, '▁servi': 13482, 'kosten': 7317, '▁comprendre': 14104, '6%': 6370, '2/': 15896, '▁materi': 16457, 'Variante': 23635, '▁colour': 3243, '▁mind': 809, '▁situații': 28884, '▁receiver': 11487, 'ów': 18628, '▁réussi': 13632, '▁horizontal': 9969, 'nächsten': 9408, '▁Cub': 18640, '▁probablement': 26746, '▁bilateral': 24097, '▁Prize': 11329, '▁țar': 28111, '▁Bryan': 15961, '▁Duration': 20610, '▁organisé': 21312, '▁key': 843, '▁Jahr': 2522, 'ative': 1528, '▁compatible': 7441, '▁cobor': 25338, '▁sfaturi': 25719, '159': 27904, 'Hi': 12146, '▁MVP': 27203, '▁Act': 1983, '▁antibody': 27198, '▁european': 14864, '▁60%': 15436, '▁splendid': 22652, 'settlers': 29547, '61': 4241, '▁Ansicht': 29080, 'д': 5814, '▁Shopping': 14830, '▁fur': 4223, '▁Natur': 5823, 'aucune': 13373, '▁gives': 1527, 'ates': 6203, '▁contractors': 8392, '▁awarded': 5539, '▁Craig': 12870, '▁calitatea': 17365, '▁Loop': 23456, 'referencing': 31573, 'ür': 4087, '▁Injury': 28905, 'bzw': 4988, 'Verhältnis': 20909, 'Vir': 21031, '▁pit': 7688, 'usine': 16328, '▁Jeffrey': 24322, '▁forme': 4869, '▁ministrul': 22256, '▁edible': 24371, '▁crew': 4627, 'First': 25171, '▁chinez': 29240, '▁intuitive': 12954, '▁remotely': 20081, '▁healthcare': 4640, 'deem': 26102, '▁Crăciun': 26722, '▁stadium': 14939, '▁Colorado': 6144, '▁marque': 6971, '▁istorie': 18673, '▁Jonathan': 13197, '▁Reihe': 15060, '▁Brent': 21985, '▁Tyr': 24652, 'klassischen': 25817, '▁ale': 1240, '▁violent': 9674, '▁Nancy': 17117, 'hren': 10655, '▁Finish': 17578, 'governmental': 18984, '▁talents': 12227, '▁outlook': 16395, '▁baisse': 21709, '▁Doctor': 7582, '▁Versch': 23441, '▁happy': 1095, '▁pivot': 16959, '▁retrait': 17145, '▁Governance': 29650, '▁Intermediate': 30386, '▁Marco': 16902, '▁PNL': 23256, '▁Organization': 9139, '▁hedge': 18179, 'nicht': 21646, '▁continued': 2925, '▁incur': 18663, '▁elements': 2479, 'air': 2256, '▁parasit': 20365, '▁umgesetzt': 27277, '▁miscare': 28237, '▁sécurisé': 27938, '▁expoziți': 31912, '▁File': 7344, '▁transmitter': 27707, 'particularly': 31158, '▁Nathan': 18050, '▁feature': 1451, 'byte': 17770, '▁condiții': 19062, '▁1955': 23652, 'са': 25945, '▁face': 522, '▁Robinson': 17461, '▁publi': 21339, '▁dir': 5141, 'owned': 9160, '▁invitation': 7146, 'bringing': 3770, '▁Grey': 12630, '4\"': 20364, '▁cheat': 15009, '▁5:30': 26008, '▁GOOD': 28299, 'cycl': 7132, '▁degree': 1952, 'extrem': 30650, 'america': 23064, 'fire': 6608, '▁Sw': 7320, '▁reseller': 30087, '-3': 3486, '▁Balance': 17904, '▁quiet': 4354, 'storm': 21556, 'éléments': 12642, '▁chimic': 23857, '▁arts': 5138, '▁Mon': 2963, '▁purse': 20717, '▁Gemeinschaft': 23961, '▁Granite': 27142, 'hey': 13133, '▁rejected': 12967, '▁Vorteile': 21731, '▁Anforderungen': 17707, '▁Noble': 24708, '▁Transfer': 9900, '▁Ethernet': 21427, '▁Days': 13992, 'axe': 11579, '▁Large': 7199, '▁erlebt': 25961, '▁Fond': 11381, '▁apply': 1581, '▁domaine': 8245, '▁energie': 7804, '▁Inhalte': 14180, '▁UK': 1270, '▁knows': 4054, '▁showed': 3217, 'schütt': 26762, 'skeletal': 31538, '▁Mail': 9614, '▁gave': 1891, 'argued': 15585, 'OE': 19956, '▁networks': 5275, 'veți': 13166, '▁Griffin': 27451, '▁lume': 6301, '440': 22335, '▁tedious': 28043, '▁coast': 4939, '▁cyclist': 21074, 'live': 7591, '▁Michel': 9411, '▁joc': 8624, '▁1918': 21402, 'hydrate': 18706, '<extra_id_34>': 32065, '▁acasă': 17299, '▁forcing': 19060, '▁Converse': 27668, 'institut': 17521, '▁inflatable': 28793, '▁aptitude': 31222, 'landed': 16349, '▁înregistrare': 31449, '▁officiel': 25822, 'ow': 2381, 'puteti': 10387, '▁hauteur': 18307, '▁1928': 29004, 'jour': 18359, 'health': 15878, '64': 4389, 'intervalul': 31319, '▁validity': 21264, 'inho': 23738, '▁Interview': 14001, '▁Stephanie': 23270, '▁IEEE': 23570, '▁sweat': 10242, '▁compétent': 30553, '▁tinere': 21788, 'р': 8452, 'chan': 8694, '▁Kann': 19304, '▁Karlsruhe': 30666, 'assisting': 16881, '▁constitu': 6439, 'Div': 21313, 'lass': 7397, 'peptid': 21826, 'lism': 26939, '▁suivre': 14879, 'observ': 11755, '▁destination': 3954, '▁collège': 28703, '▁Daten': 2679, '▁sublime': 25781, '▁Carolyn': 31943, '▁No': 465, 'anni': 14431, '▁architect': 13188, 'plus': 10817, '▁visite': 13497, '▁Dieu': 15453, '▁Philosoph': 24657, '▁casual': 6995, 'php': 12786, '▁concept': 2077, '-25': 14855, '▁Wendy': 24571, 'reliance': 24638, '▁mould': 19094, '▁Veterans': 19231, 'abb': 12982, '144': 20885, 'Happy': 31141, '<extra_id_7>': 32092, '▁2011,': 8558, 'czy': 21955, '▁finish': 1992, 'Temp': 15291, '▁Negoti': 31663, '▁jurisdiction': 10185, '▁Eclipse': 30547, 'relates': 21679, '▁Florin': 24424, '▁done': 612, 'disadvantaged': 30801, 'MH': 20131, '▁suburban': 24711, '▁twitter': 19010, '58': 3449, '▁Management': 2159, '▁Alpha': 12503, '▁Ganz': 12960, '▁sunlight': 16285, 'versuch': 27085, 'tiennent': 23134, '▁skilled': 6847, '▁Sometimes': 3921, '▁ingrediente': 21576, 'par': 1893, '▁verfügt': 18077, 'f': 89, '▁spite': 17912, '▁protéger': 21289, '▁1934': 28828, '▁instruction': 8033, '▁drove': 10719, 'bond': 18414, '▁Ginger': 26323, '▁attack': 3211, '▁serene': 28362, '▁Kendall': 31842, '▁tarif': 14757, '▁whil': 7096, '▁Singh': 16738, 'lix': 17591, 'coop': 25911, '▁Wert': 6954, 'century': 14006, '▁Flex': 16632, 'rated': 4094, '▁consacré': 24050, 'eva': 4721, '▁Lens': 25003, '▁verified': 17087, '▁featured': 4510, '▁courage': 11578, '▁Maintenance': 18192, '▁Denn': 7272, '▁Floyd': 29767, '▁structural': 8649, '▁Folk': 19848, 'bro': 5702, '▁punishment': 19372, '▁Renaissance': 21616, 'trecută': 31543, '▁illustrations': 14754, '▁transportation': 5127, 'owing': 15942, '▁groove': 17956, '▁größere': 18422, '▁microphone': 18701, '▁posting': 5910, '▁Outlook': 19269, '▁Alkohol': 28139, 'arten': 15422, 'nose': 18716, '▁Fernando': 28989, '▁toamna': 27179, '▁libér': 27549, '▁digestion': 24893, '▁filed': 5132, '▁McDonald': 17970, '▁imperfect': 28306, '▁Floor': 12324, '▁gezielt': 24953, 'benso': 28162, 'behält': 29880, '▁execut': 9362, 'eur': 1238, 'commended': 30868, '▁Forex': 16503, '▁Namen': 10016, '▁layout': 5315, '▁beast': 21168, 'refurbished': 27243, '▁discovery': 9087, 'AVE': 18111, 'Getting': 9349, '▁transfér': 31790, '▁Style': 7936, '▁grape': 11457, '105': 12869, '▁lemon': 7490, '▁opini': 22524, '▁Candida': 25833, '▁sunet': 26356, '▁intoarce': 31266, '▁Horn': 14715, '▁emails': 7594, '▁unconditional': 28359, 'gelände': 31642, '▁seem': 1727, 'èrent': 18402, '▁toddler': 13817, '▁store': 1078, '2:30': 21876, 'off': 1647, '▁nonprofit': 11069, 'itatea': 2813, '▁compromise': 12326, '▁Magazine': 8336, '▁Harley': 26085, '▁highlight': 6481, '▁getting': 652, '▁jewe': 13153, '▁couleurs': 11521, 'volt': 10897, '▁ständig': 21382, '▁pores': 24950, '▁pourrait': 11022, '▁mou': 13102, '▁Grenz': 22191, 'rob': 5840, '▁posibilitatea': 12099, '▁Grafik': 24278, 'wald': 11611, 'prenant': 15863, '▁responsable': 13663, '▁April': 1186, '▁actiuni': 27544, 'forum': 24195, 'Play': 15800, '▁mâini': 26256, '▁keine': 1760, '▁milestone': 15521, '▁departure': 12028, '▁effectiveness': 9570, '▁care': 124, '▁bother': 13965, '▁Gebäude': 12875, 'coloured': 16722, 'ddling': 19955, '▁terrified': 31539, '▁nautical': 30997, '▁lasa': 12031, 'acryl': 30418, '▁inspiring': 9748, '▁Musik': 6507, 'turn': 7535, 'whereas': 10339, '▁Schm': 16724, '▁asigură': 21629, '▁irre': 19598, '▁Railroad': 28806, 'deseori': 31969, 'essai': 16000, 'India': 22126, 'Sehr': 18976, 'ité': 1257, '▁sunt': 488, '▁rigid': 13987, '▁why': 572, 'semn': 16385, 'expunere': 31527, '▁beverages': 18928, '▁disponibles': 13895, 'carved': 19619, '▁going': 352, '▁renovation': 9823, 'ryl': 12973, '▁tied': 10422, '▁yacht': 18082, '▁election': 4356, 'SF': 7016, '▁dried': 11549, '▁Column': 29926, '▁Huang': 29034, '▁Katz': 16699, 'istik': 21734, '▁strawberry': 25256, 'quant': 13158, '▁servicing': 21086, 'associe': 30675, '▁Tool': 11640, '▁>>': 14052, '▁leaders': 2440, '▁prezenţ': 27421, '▁Consider': 9151, 'High': 21417, '▁viteza': 24058, '▁Studierende': 27824, 'der': 588, '▁expand': 4405, '▁top': 420, '▁barb': 9935, '▁convergence': 31098, '▁branch': 6421, '▁strict': 6926, '▁pierdere': 23158, '▁appointments': 14936, '▁acum': 2585, '▁bombard': 26877, 'efectuare': 30769, 'ни': 14391, '▁undertake': 15277, 'rung': 8875, '▁keen': 9805, '▁Hannover': 23510, 'fordern': 21390, 'OVE': 26479, 'landais': 29066, '▁waterfall': 17067, '▁headache': 12085, '▁arrives': 16732, '▁persecution': 30308, '00': 1206, '▁swamp': 28945, '▁personnalité': 29868, 'J': 683, '▁corners': 13518, '▁sedan': 24926, '▁Outreach': 31182, 'gat': 5497, '▁soutenu': 30362, '▁Information': 2784, '▁measurement': 9753, '▁viagra': 13292, '▁sustainability': 10959, 'Kü': 20221, '▁récent': 21587, 'messe': 14401, '▁Arbeitgeber': 24171, '▁Human': 3892, 'attaque': 18556, '▁carb': 9566, '▁youngest': 19147, '▁mehrere': 7461, '▁engaged': 5908, 'fass': 12837, 'interest': 19405, '▁block': 2463, '▁contemporain': 21472, '▁considéré': 25545, '▁territoire': 13784, '▁upstairs': 22861, 'fordert': 19439, '▁these': 175, '▁Engineering': 5623, '▁Hoch': 7341, '▁Hamilton': 13450, '▁Sekunden': 25700, 'izarea': 7068, '▁Vintage': 15988, '▁bibli': 24765, '▁Dunkel': 30138, '▁Cuba': 13052, '▁Asset': 18202, 'Roll': 29807, '▁anului': 10495, '▁mâna': 27148, '▁shelf': 8625, '▁rolls': 15246, '▁alege': 8895, '▁Venture': 19528, 'utty': 31286, '▁Video': 3953, 'bio': 6420, '▁GREAT': 26053, '▁1975': 16312, '▁Krankheit': 19932, '▁ambience': 30539, 'hyroid': 31878, '▁scholarships': 19397, '▁volume': 2908, 'tern': 2947, '▁continues': 3256, '▁și': 198, '▁exclusively': 9829, '▁alleviat': 18807, '▁Welcome': 5242, 'There': 7238, '▁Proceed': 30869, '(2003)': 31210, '▁meilleure': 12975, '▁device': 1407, 'ification': 2420, 'klima': 29348, 'RC': 4902, '▁Custom': 6150, '▁glove': 27230, '▁pourra': 12548, '▁Exemplar': 31402, '▁pa': 2576, '▁Jewish': 6692, '▁Stunde': 21426, '▁spotlight': 19365, '▁detergent': 24924, 'arcinia': 27571, '▁Jun': 10745, '▁Spring': 4328, 'punkte': 18081, '▁Status': 19318, '▁booster': 22205, 'hopped': 29074, '▁roads': 7540, '▁découverte': 17370, '▁bat': 3795, 'farbe': 28450, '▁Doppel': 18436, '▁german': 13692, '▁agricole': 18323, 'itatii': 9167, '▁aboard': 21392, '▁Tab': 10456, '▁responsibility': 3263, 'content': 14819, '450': 10593, 'islam': 20290, 'SPA': 21215, 'gesetzlichen': 25919, '▁position': 1102, 'Contin': 16798, 'conduire': 31017, '▁dying': 13677, '▁anerkannt': 27638, 'correct': 28832, '▁erase': 22015, '▁Pfarr': 23225, 'durant': 12620, '▁price': 594, '▁repairs': 7384, 'esc': 1579, 'avant': 15990, '▁Watson': 18763, '▁English': 1566, '▁rain': 3412, '▁CPU': 13823, 'jer': 12488, 'WIN': 21394, 'oiseaux': 31093, 'great': 20288, '▁Brother': 16397, 'folosirea': 23452, '▁Acoustic': 31614, '▁him': 376, 'fondateur': 29725, '▁musique': 10497, 'aria': 6286, '▁Advocate': 28040, '▁130': 12778, '▁sanitaire': 27809, '06': 5176, '▁Pu': 5004, '▁Projekt': 6593, 'ips': 15432, '▁lock': 6081, '▁dispose': 9067, 'value': 12097, 'érer': 16218, 'sorted': 14504, 'chester': 13263, '▁tanks': 16007, '▁Edel': 26003, 'UF': 18899, '▁Tutorial': 27654, 'slipping': 29750, '▁Primul': 25530, 'KE': 9914, '▁disconnect': 25937, '▁colleges': 12936, 'importing': 31356, '▁Smart': 5363, '▁16,': 11940, '▁asbestos': 23778, '▁Ky': 11478, '▁Que': 7227, '▁among': 859, '▁Score': 17763, '▁fertility': 25646, '▁Prozent': 7145, '▁shaft': 15843, '▁massacre': 28882, '▁guvern': 10724, 'ccessed': 29385, '▁thankful': 13940, '▁halten': 13203, '▁Mack': 19155, 'kamera': 28867, '▁Ji': 7802, 'ajouter': 15384, 'ktuell': 20046, '▁drunk': 18364, '▁Burg': 14343, 'code': 4978, '/': 87, 'lik': 8654, 'VIS': 20186, '275': 25988, '▁dynamics': 14966, '▁stroll': 13593, 'Connect': 25772, '▁Gerald': 28431, '▁Religious': 28789, '▁Kinder': 2758, '▁planète': 27003, '▁Browse': 15373, '▁Gro': 8554, '▁underscore': 31530, '▁liver': 11501, 'Faktoren': 30698, '▁beginning': 1849, '▁Belgium': 15575, '▁Specific': 18070, '▁galleries': 18035, '▁Mechanism': 31529, '▁lover': 17040, 'hints': 23041, 'organized': 28006, '▁faucet': 17471, 'ende': 3406, '▁Bak': 21200, '▁kindergarten': 23872, '▁Thank': 1562, '▁Weekend': 20418, '▁Every': 2181, 'burg': 4824, '▁Pr': 8570, 'farben': 22337, '▁Lauf': 9450, 'sourcing': 19035, 'mila': 26759, '▁Unternehmens': 13750, 'EPS': 24935, '▁Une': 2435, 'producing': 30887, '▁monkey': 21622, '▁Ou': 10709, '▁médicament': 21401, '▁bu': 8524, '▁travailleurs': 29070, 'favourable': 30786, 'experience': 22602, '▁pulled': 6756, '▁ecology': 29393, 'certify': 31492, 'rad': 5672, '▁views': 2441, 'RP': 6294, '▁Internetseite': 17595, '▁at': 44, '▁frisch': 16551, '▁nivel': 5145, 'Ticket': 15569, '▁married': 4464, '▁Jewel': 18869, 'CS': 4778, 'assurer': 12213, 'ffnung': 27132, 'Similarly': 15209, '▁prune': 27185, '▁17,': 12864, '▁Dylan': 24831, '▁complained': 25932, '▁sci': 17201, 'legate': 8791, '▁metode': 20308, 'White': 25571, '▁sponge': 23216, '<extra_id_13>': 32086, 'NOR': 24833, '▁NOT': 4486, '▁eighth': 21227, '▁vendu': 24057, '▁universities': 8278, '▁keep': 453, '▁become': 582, '▁commande': 8746, '▁getaway': 21837, '▁offenbar': 27390, '▁Virgin': 16823, '2%': 5406, '▁Schluss': 20280, '▁gamble': 24068, '▁cargo': 15470, 'spieler': 15091, '▁Fahrt': 20794, '▁enthusiasts': 18872, '▁fixes': 19674, 'Fel': 17160, '▁argint': 26090, '▁Wander': 12832, 'ine': 630, '▁meticulous': 23569, '▁lire': 11862, '▁ended': 3492, '25': 1828, 'wohl': 18546, '▁via': 1009, '▁3-': 5354, '▁accessories': 5513, '▁allowance': 18651, '▁prelucrare': 25041, 'pit': 5230, 'owski': 21180, '▁Timothy': 23720, 'parmi': 13141, '▁functionality': 6730, 'expo': 19300, 'punerea': 21651, 'itzer': 14777, '2.3': 18561, '▁Perspective': 27631, 'bin': 4517, '▁preturi': 17850, '▁obtained': 5105, 'lungul': 18757, '▁royal': 11268, '▁Butterfly': 30946, '▁gegen': 2995, '▁Pierce': 29086, '▁Franchise': 30347, 'Throughout': 11714, 'curg': 17297, '▁bible': 26996, 'cherished': 29720, '▁Einzel': 10072, '▁analog': 10552, 'AU': 6727, '▁context': 2625, 'ICK': 25286, '▁resistance': 5673, '▁checked': 7122, '▁decorative': 9625, '▁commemorat': 18681, 'verständlich': 27628, '▁staff': 871, '▁livestock': 22167, '▁Pon': 20093, '▁arcade': 26211, '▁Susan': 10445, 'fox': 20400, '▁animé': 26406, '▁competency': 30229, '▁marijuana': 10434, 'gekommen': 13273, '▁ses': 1394, '▁appreciation': 11746, '▁sunny': 13546, '▁Gay': 20338, 'ffe': 7398, 'ologne': 23443, '▁miere': 24644, '▁floating': 12848, '▁elimin': 15964, 'room': 3082, '▁vă': 3192, 'zustand': 27946, '▁sticks': 16752, '▁round': 1751, 'schreib': 16763, '▁Survival': 31153, 'discovered': 31861, '▁LED': 4429, '▁disorders': 10461, '▁funds': 2731, '▁Shah': 19669, 'BG': 19179, '▁Charter': 22059, '▁show': 504, '▁Victorian': 16071, '▁Place': 3399, '▁happens': 2906, 'clin': 11005, '▁Afghan': 26283, '▁călători': 20678, '▁Happi': 27171, 'typische': 21725, '▁CH': 9302, 'typ': 12575, '▁rhythm': 10638, 'counter': 22349, '▁Earl': 22101, '▁Steel': 6349, '▁interviews': 8917, '▁aura': 9437, '▁Stephan': 28899, 'heiz': 21084, '▁code': 1081, 'merk': 12458, '▁Finnish': 28124, '▁included': 1285, '▁estimate': 7037, '▁Shark': 23442, 'randomized': 30027, '▁northeast': 25806, '▁Compliance': 24779, '▁fortunate': 14276, '▁Hö': 23687, 'safe': 15233, '▁devastating': 18827, '▁Luck': 25408, 'euillez': 27211, 'datorita': 18415, 'mers': 5567, '▁Région': 29194, 'prévue': 25796, '▁4:1': 31348, '▁suits': 11246, '▁Grammy': 26596, '▁sun': 1997, '▁1953': 23726, 'ANC': 23190, '▁courant': 16203, '▁Historical': 17885, '▁securitate': 19364, '▁Upgrade': 21657, '▁emit': 15685, '▁successor': 22261, '▁Von': 6560, '▁Canon': 11020, 'terapia': 29642, '5%': 2712, '▁Nick': 7486, '20': 1755, '▁posts': 3489, 'OLI': 28260, '▁streaming': 8340, '▁bitter': 11709, '▁gewonnen': 23754, '▁erfüllt': 24130, '▁join': 1715, 'bak': 19272, 'cht': 3997, '▁Gibson': 24723, '▁underestimate': 26199, '▁controlling': 14498, '▁tank': 5040, '▁Schalt': 27993, '▁thumbnail': 30250, '▁States': 1323, '▁seasons': 9385, 'length': 19457, '▁who': 113, '▁Track': 8799, '▁manufactured': 9554, '▁Eigenschaften': 22790, '▁discuss': 2497, '▁asteapta': 30592, '▁Egyptian': 16341, '▁worden': 9775, 'zugehen': 28758, '▁RGB': 27412, '▁say': 497, '▁Long': 3230, '▁abuse': 5384, '▁repetitive': 24869, '85': 4433, 'ummy': 16056, 'existence': 22597, '▁Kra': 7356, 'RIP': 26017, '▁îngrij': 24523, '▁embellish': 29018, '▁accumulate': 23514, '▁Math': 9762, 'historischen': 27852, 'bac': 9305, '▁immense': 14968, '▁Rover': 21608, '▁constitutional': 18896, '▁homes': 2503, '▁exchange': 2509, '▁Association': 2125, '▁implicit': 21773, '▁begun': 11173, '▁psychiatrist': 31925, '▁supplémentaire': 18504, '▁DC': 5795, '▁workflow': 16101, '▁doubl': 27927, '▁DI': 10826, '▁stunned': 31625, '▁century': 2646, '▁Anbieter': 13196, 'ped': 3138, '▁spezielle': 17910, 'appli': 27515, 'rest': 6216, '▁stretch': 6606, 'plant': 14925, '▁Keller': 20887, '▁Rocket': 22176, '▁rămân': 24258, 'ESP': 26130, '▁expansion': 5919, '▁Internal': 18524, 'dipping': 30127, '▁relaxation': 12633, 'gastrointestinal': 30282, '▁tract': 13499, '▁Wheat': 26347, 'batting': 27759, '▁lap': 14941, '▁lucrari': 24148, '▁Personen': 8801, '▁Virtual': 11143, 'AIS': 25018, 'consolidated': 27356, '▁confi': 12845, '▁listed': 2616, '▁încă': 5646, 'règles': 19898, '▁refer': 2401, 'Suppose': 31305, 'lokal': 20112, 'TING': 21089, '▁gonfl': 31438, '▁Dritte': 15798, '▁inaugural': 22145, '▁somebody': 10843, '▁offers': 704, '▁Profile': 14226, '▁buoy': 28936, '▁Hag': 19905, '▁MS': 5266, '▁reprise': 21504, 'Michel': 30123, '54': 5062, 'instrument': 25232, '▁folos': 16206, '▁Original': 8465, '▁citit': 12888, 'physical': 21682, '▁Einführung': 27007, '▁pierderi': 29569, '▁aparat': 13230, '▁tempting': 24873, '▁per': 399, '▁Folgen': 20019, '▁profesionist': 23309, 'GR': 8727, 'Appel': 27794, '▁complaining': 24184, '▁Beth': 15659, 'gebucht': 29974, '▁mânca': 23037, '▁flavour': 9499, 'Schwierigkeiten': 31835, 'ewusst': 31770, '▁Riley': 26766, '▁ambition': 12517, 'öhl': 24430, '▁bodies': 5678, '▁survival': 9990, '▁Einheit': 27790, '▁intentions': 17494, 'adorned': 29532, 'mardi': 20781, '▁Sfant': 30269, '▁provides': 795, '▁zusammen': 4196, '▁accomplishment': 14508, 'gehalten': 16090, 'eklagte': 27457, '▁prosecution': 22670, '▁rezerv': 16776, '▁Județean': 28660, 'centered': 12809, '▁tactics': 15541, '▁loaf': 27048, '▁text': 1499, '▁besser': 5305, 'monopol': 23507, '▁Word': 4467, '▁prochaine': 15383, '/2018': 21912, '▁32': 3538, '▁millions': 4040, '▁Wild': 5342, 'pid': 12417, '▁FBI': 17579, 'delt': 24876, '▁Angle': 26815, '▁Animation': 25835, '▁While': 818, 'achtet': 21716, 'ooney': 27207, '▁authentication': 20188, '▁Typ': 19544, 'supplemental': 29672, '▁Sorry': 11342, 'renforcer': 27227, '▁Moroccan': 30945, 'енн': 31483, 'zzy': 19974, '▁fog': 20735, 'fuel': 21692, 'ple': 4788, '▁Hil': 11995, '▁voastre': 30515, '▁realistic': 9555, 'architecte': 30747, 'geschehen': 30829, '▁râ': 20359, 'SD': 7331, '▁Famous': 29952, '▁ortho': 26429, '▁făc': 18435, '▁Mor': 4574, '▁Inspection': 24996, '▁plateforme': 21121, '▁Quote': 13491, '300': 5426, '▁chances': 6209, '▁Frauen': 8608, '▁rassembl': 23027, '▁Wash': 12429, 'Australie': 25815, '▁Sandy': 20655, 'App': 9648, '▁Of': 1129, 'season': 9476, '▁permitted': 10548, '▁environmental': 3262, '▁Wireless': 17202, 'aufbau': 28534, 'gebühr': 22837, '▁Lieferung': 21514, 'quo': 14460, 'itul': 17680, '▁Quant': 12716, '▁apropiere': 20652, '▁guitarist': 23317, '▁neurons': 25352, '▁Kritik': 24593, '▁causal': 31161, '▁installing': 9873, '▁prompt': 9005, '▁compelling': 12803, '▁Airways': 24601, '▁entscheidet': 31780, '▁spoil': 15783, '▁materiale': 14083, 'reinigt': 30867, '▁Speed': 9913, '▁cannabis': 11513, '▁Adobe': 11551, '▁steady': 11207, '▁grabbe': 19303, '▁premiere': 13539, 'tion': 1575, '▁houses': 4790, '▁Radi': 14501, '▁Matthew': 9771, '▁emergencies': 24356, '▁länger': 12004, 'nui': 17965, '▁designers': 6553, '▁empirical': 23941, '▁criterii': 28745, '▁complain': 15524, 'minimizing': 28807, '▁fresh': 1434, 'toutes': 3678, '▁slot': 4918, '/01/': 29511, 'O': 667, '▁reste': 5701, 'gemeinde': 25350, '<extra_id_28>': 32071, '▁concierge': 31111, 'quickest': 31051, '▁issues': 807, '▁răni': 28498, '▁teatru': 22131, '▁richtig': 7716, 'class': 4057, '▁Gruppe': 14182, '▁Anderson': 11825, 'Ru': 17137, '▁reuș': 25598, 'tiv': 5499, '▁Suzuki': 26855, '▁Darstellung': 27054, 'viz': 7302, '▁moyens': 16207, '▁group': 563, '▁arm': 2939, '▁bowl': 3047, 'ition': 4749, '▁bureau': 12014, 'MAR': 13845, '▁embodiment': 14357, 'pronounced': 20721, '▁Springfield': 23944, '▁wrestle': 26033, '▁gewährleistet': 29924, 'zug': 5131, 'titres': 31731, '▁mișcare': 31849, '▁himself': 2448, '▁Oster': 22054, '▁many': 186, '▁boil': 13374, '▁verlangt': 30470, 'Ministrul': 31314, 'visible': 23448, '▁eliminated': 17809, 'face': 4861, '▁competitors': 9216, '▁70': 2861, '▁disadvantage': 18093, '▁méthode': 18666, '▁circumstance': 24062, '▁război': 24077, '▁internationale': 10404, '▁abandon': 10755, '▁incentives': 16844, 'nutzt': 15323, '▁passenger': 10837, '5.7': 27220, '▁rupe': 24617, 'pies': 8497, '▁Academic': 16682, '▁subscription': 7644, 'aventure': 17143, '▁Bridge': 6132, 'haupt': 16512, '▁likelihood': 17902, 'per': 883, '▁sewer': 20667, 'dessen': 10713, '▁wirklich': 5409, '▁Visitors': 22317, '▁Ka': 2209, '▁Fett': 21932, 'Speed': 28328, '▁Podcast': 21966, '▁Arizona': 7601, '▁Landes': 9043, '▁Volvo': 22842, 'ami': 3690, 'duty': 22829, '▁heal': 10111, '▁Ceramic': 25457, '▁da': 836, '▁obligations': 9958, 'mari': 17289, '▁Maple': 23153, '▁associations': 10906, '▁paying': 3788, '▁tac': 9075, '▁repel': 27867, '▁preparat': 19620, '▁snake': 17599, '▁reflect': 3548, '▁Kong': 7807, '▁Success': 16581, '▁Pilates': 28724, 'PRI': 15582, '▁Chain': 18627, '▁ban': 4514, 'graf': 8290, 'lander': 20319, 'finalists': 28077, '<extra_id_21>': 32078, 'RIA': 22249, 'leistung': 13360, '▁dance': 2595, '▁isolated': 12996, '▁Staff': 10071, '▁NHL': 22313, 'oder': 13487, '▁FIFA': 23129, '▁Mais': 3307, '▁Toshiba': 30148, '▁Square': 7120, '▁față': 10910, 'channel': 19778, '▁miraculous': 30484, '<extra_id_70>': 32029, '▁forget': 2612, '▁adjoin': 24989, '▁$2': 3771, '▁Entspannung': 30988, '▁fachlich': 31333, 'ки': 23110, '▁situatii': 25550, '▁mortal': 24301, '▁drone': 12893, '▁secretary': 15852, '▁Former': 18263, '▁Choice': 13745, '▁murder': 7738, '▁freely': 14019, '▁Registry': 25656, '▁Sleep': 13190, '▁turbo': 20353, '▁configuration': 5298, '▁Fo': 4452, '02': 4305, '▁unlike': 9770, '▁Constitution': 11378, '▁Communi': 27163, '▁Toilet': 23859, '▁anxiety': 6261, 'SW': 17838, 'lbstverständlich': 18287, '▁blog': 875, '▁vorba': 7843, '9': 1298, '▁legend': 9503, '▁kommen': 4714, 'compete': 30916, '▁Meta': 14204, '▁surely': 8460, '▁midnight': 17633, '▁wooden': 5726, 'ève': 13889, '▁Herr': 8816, 'ix': 2407, '▁Costa': 11229, '▁Assembly': 11993, '▁pounds': 7051, '▁ambitious': 17091, '▁Gutschein': 19705, '▁bungalow': 30599, 'douceur': 28638, '▁beschäftigt': 23029, 'treiben': 19028, '▁lié': 15781, '▁travaux': 9224, '▁Rendez': 31448, '▁rejoice': 31418, 'Université': 18799, '2-0': 19423, 'günstig': 8169, '▁bless': 12606, '▁jam': 7620, '▁Hood': 19804, '▁aduc': 13749, '▁Gain': 22097, '▁Respond': 23483, '▁bearing': 7694, '▁foloseasc': 31744, '▁quarter': 2893, '▁Auch': 2858, 'finish': 25535, 'tries': 9000, '2,': 4482, 'quelles': 17118, '▁garlic': 9119, 'net': 1582, '▁Gr': 3796, '▁politique': 7946, 'nice': 13351, '▁Applications': 15148, '▁advice': 1867, '▁reg': 5925, '▁runners': 16448, '▁projected': 16037, '▁vinde': 25201, 'eller': 9670, 'dyna': 24805, 'église': 25628, '▁relat': 12650, '▁guaranteed': 7206, '▁Hal': 5648, '▁Nova': 17259, '▁regim': 20536, '▁une': 245, 'abilité': 13474, '▁libraries': 12256, 'developed': 24468, '▁partenaire': 23793, '▁betroffen': 29237, '▁eating': 3182, '▁Storm': 16133, '▁counter': 3485, '▁pu': 4353, '▁remise': 22488, '▁suppression': 23059, '▁refrigeration': 31638, '▁inject': 15823, 'negative': 31600, '▁self': 1044, '▁points': 979, '▁siding': 23678, 'indu': 13580, '▁appreciated': 9332, 'absorbed': 19402, '▁Clar': 9908, '▁modèle': 10554, '▁tolerance': 17313, '▁reap': 22993, 'stead': 11931, '▁mountains': 8022, '▁query': 11417, '▁Norfolk': 24051, 'kunst': 23928, 'Adding': 22612, '▁relatively': 4352, '▁Yang': 21078, '▁Formation': 25947, '▁Malcolm': 29062, 'lehrer': 29224, 'luta': 30881, '▁confidence': 3410, '▁Wohl': 24535, '▁exposed': 6666, '▁Recent': 17716, '▁relaxed': 9904, '/19': 13523, '▁projet': 4391, '▁para': 3856, '▁senzor': 29075, '▁Tri': 2702, '▁sidewalk': 21393, '▁cinnamon': 18684, '▁heap': 24459, 'ter': 449, '▁liaison': 25590, '09': 4198, '▁strange': 6765, '▁nutrition': 7470, 'ZA': 19873, '▁09': 14146, '▁putin': 4942, '▁gratis': 20274, '▁abuz': 23344, 'oaring': 26605, '▁vast': 4248, '▁Conservation': 18260, '▁luck': 5851, '▁Ny': 16663, '▁panneau': 26480, 'essentially': 8317, '▁conspir': 29105, '▁Racing': 16046, 'd': 26, '▁Decorating': 24275, 'raum': 6340, '▁gem': 7929, 'HD': 11083, 'UNT': 17161, 'ungen': 1818, 'CA': 4490, '▁Renault': 20493, '▁Daisy': 30075, '▁(8': 13642, 'tipul': 17794, 'sait': 8870, '▁juillet': 14085, '▁discusse': 17212, 'ismului': 22049, 'kulturelle': 25739, 'care': 2864, 'get': 2782, '▁Beach': 2979, '▁nourri': 24069, '▁decreasing': 23155, '▁Skype': 19656, '▁110': 11190, '▁Enforcement': 27075, '▁SD': 9579, '▁Zach': 22045, '▁pillows': 18703, '▁verification': 17549, 'sche': 3992, '▁Pandora': 31490, '▁Spannung': 26440, '▁hype': 22980, '▁Planung': 17306, 'Thankfully': 20089, '▁Lok': 19863, 'CAN': 11425, '▁computers': 7827, '▁valabil': 19595, '▁Dock': 22314, '▁chalk': 22382, 'Totodat': 24871, 'rolled': 10671, '▁procurori': 27725, '▁agenți': 30028, 'dependable': 23094, '▁stimulus': 26544, '▁présence': 13891, '▁three': 386, '▁already': 641, '▁Arduino': 29713, 'Tech': 9542, 'Chauffe': 31796, 'OR': 2990, '▁convainc': 25544, 'sicherung': 24602, '▁Yemen': 27796, '▁veneer': 24498, '▁inspirational': 18445, '▁Web': 1620, '▁sustinut': 30224, 'iocese': 25985, '142': 24978, '▁Denmark': 18001, 'ubbed': 17344, '▁Bob': 5762, 'avoir': 7247, 'erung': 6367, 'Tag': 23593, 'But': 11836, '▁Effective': 18652, '▁everyone': 921, 'hom': 10207, '▁agreements': 10663, '▁04': 11484, '▁precipit': 19742, '▁damaged': 6780, '▁Obama': 4534, '▁Tower': 10677, 'stra': 3109, '▁dans': 247, '▁1987': 12701, 'quette': 15913, '▁Museum': 3312, '▁pomme': 26234, '▁bloggers': 16787, '▁drugs': 4845, 'eng': 4606, '▁Geschäfts': 8127, '▁Defence': 24296, '▁next': 416, '▁Hire': 19377, '▁irrigation': 21455, 'Astfel': 8171, '▁remnant': 28447, 'CERT': 29305, '▁routine': 3860, 'mig': 10673, 'spiele': 15664, '▁amélior': 28567, '▁quelqu': 22002, '▁assert': 15376, '▁prezenț': 23624, '▁Versorgung': 24350, 'veniturile': 31673, '▁repetition': 27351, '▁evolve': 15824, '▁Sean': 16655, '▁22': 1630, 'compared': 2172, '▁Stop': 9078, '▁Skills': 19559, '▁Théâtre': 31947, '▁screening': 7468, '▁grands': 10017, '▁Durch': 5117, '\",': 1686, 'vol': 4571, '▁2.0': 6864, '▁publishers': 18902, '▁Vo': 3152, '▁nouveaux': 10190, '▁concession': 19093, 'Great': 24189, '▁Precision': 28464, '▁extraordinary': 9468, '▁Scene': 27814, '▁peu': 2277, '▁seeds': 7299, 'tisch': 6530, 'think': 10337, 'icul': 7034, 'vette': 19828, 'exprim': 9813, 'veiled': 20321, '▁triumph': 20020, '▁snap': 10075, 'doubtedly': 16501, '▁benign': 31144, '▁peuple': 20999, '▁Fest': 7116, 'Detailed': 29872, '▁dye': 15302, 'sort': 9309, 'ndlich': 15675, 'individualized': 30187, 'aise': 8284, '▁Kranken': 24119, '▁scăpa': 30256, '▁Twelve': 30907, '▁suprafete': 31507, 'ignant': 19579, '▁actors': 10485, '▁partenaires': 17876, '▁making': 492, '▁permettra': 16552, '▁tehnologie': 26875, '▁Stell': 13879, 'Learning': 28414, 'lope': 17696, 'mack': 20072, '▁eleven': 20394, 'TG': 18943, '▁(18': 9323, '<extra_id_90>': 32009, '▁Blumen': 21952, '▁stressful': 15170, '▁organismului': 27216, '▁different': 315, '▁educational': 3472, '▁procédure': 19165, '▁1942': 24466, '▁Leonard': 17342, '▁presume': 26451, 'ROW': 26011, '▁homo': 13503, '▁cr': 5764, '▁acht': 20339, '▁Shu': 14565, '!!': 1603, '▁Sto': 8272, '▁Inc': 1542, '▁scatter': 24713, '▁gall': 12486, '▁trauma': 11105, '▁Effect': 14247, '▁pitched': 26372, '▁civic': 18671, '▁Trouve': 31388, 'gedruckt': 30717, '▁skiing': 18483, 'prin': 12298, '▁altele': 14437, '▁pana': 3418, '▁Composite': 27127, '▁plâng': 27498, '▁Sauna': 27947, '▁decorations': 13861, 'evaluating': 17768, 'ICAL': 23936, '▁Bearing': 23947, '▁how': 149, '▁privilégi': 23100, 'quot': 8270, '▁Lit': 15507, '▁oportun': 20514, 'Smart': 24656, 'forschung': 24548, 'forensic': 25519, '▁diminished': 29055, 'rseits': 23218, '▁Gloucester': 30000, 'plin': 10574, '69': 3951, '▁intéressant': 16006, '▁aktuell': 19025, '▁secrets': 13951, '▁sanatos': 26723, '▁autobuz': 27672, '▁Shan': 12077, '▁philosopher': 25857, '▁Unternehmen': 4428, '▁selecting': 9581, '▁erscheinen': 26354, 'nzo': 20547, '▁intermediu': 12728, 'Doar': 22241, '▁dominant': 12613, '▁boards': 8126, '▁Konzert': 20631, 'Christian': 28412, '▁ET': 10104, '▁improve': 1172, '▁temperaturi': 24487, '▁Cardiff': 26911, '▁Olivia': 25051, '▁Mixed': 28024, '▁34': 6154, '0.6': 22787, 'installation': 14790, 'ban': 3478, '▁concasseur': 29966, 'reisen': 19800, '▁Termin': 10181, 'IRA': 19426, '▁Arbor': 27560, 'anti': 5965, '▁membru': 18235, '▁Lanka': 13877, '▁Maison': 15194, '▁registry': 20810, 'anța': 16401, 'ANS': 16897, 'directorul': 28526, 'pleade': 30827, 'Bot': 26465, '▁Giveaway': 30663, '▁divulg': 30914, '▁medicul': 25386, '▁Development': 2958, '▁Lyon': 14360, '▁medie': 16971, '▁cabbage': 25883, '▁réfléchi': 27021, 'elul': 20938, '▁Verbraucher': 19071, '▁breast': 6748, 'zauber': 24538, '▁respective': 6477, '▁einzigartige': 23145, '▁flower': 5624, '▁la': 50, '▁emissions': 9830, '▁Schreiben': 27735, '▁Lebanon': 21502, 'adore': 10097, 'ense': 5167, '▁Extension': 19750, '▁Handlung': 23850, '▁leather': 4295, '▁opinions': 8479, '▁tube': 8017, 'nam': 13363, '▁comunități': 30005, 'țional': 12890, '▁Partei': 17797, '▁Zusammenarbeit': 15671, '▁tournament': 5892, '▁Ludwig': 25313, 'nourishing': 30787, '▁discrimin': 9192, '▁classmates': 28345, '▁gefällt': 25533, 'za': 1629, '▁ebook': 11773, '▁klassische': 25640, '▁pretend': 17582, 'aching': 12076, 'Votre': 14756, '▁situaţi': 16853, 'avons': 4123, 'Einige': 22369, '▁Einkauf': 21040, 'John': 18300, '▁methods': 2254, '▁timeless': 19408, '▁Ukrainian': 22849, '▁Mean': 23045, '▁snug': 30614, 'taire': 5785, 'opti': 12331, '▁Kay': 14168, '▁Name': 5570, 'rät': 10616, 'nitro': 31965, '▁Nar': 13346, '▁Käufer': 24389, '▁memory': 2594, '▁Vi': 1813, 'body': 6965, 'blu': 7060, '▁entertaining': 10230, '▁Kli': 24066, '▁transport': 1855, '▁nickname': 24649, 'tip': 11537, '▁loft': 13871, 'Art': 7754, 'rissa': 28686, '▁comme': 1011, '▁Logistik': 31353, 'scription': 11830, '▁Gregory': 25431, 'pub': 9188, '▁acquaintance': 30585, '▁zona': 5760, '▁Mine': 13743, 'uze': 10953, 'auraient': 29738, '▁cage': 17276, 'Assisted': 31606, '▁Outstanding': 27178, '▁banii': 15873, '▁Gorgeous': 26448, 'viens': 22257, '▁faster': 3627, 'heft': 20250, '▁Treatment': 13516, 'fensiv': 23039, 'pictured': 22665, 'éné': 15369, '▁Thrones': 29344, '▁crema': 15274, '▁Mut': 16601, 'both': 17158, '▁nunta': 22903, '▁giant': 6079, '▁biological': 11432, '▁1968': 16506, 'ncy': 11298, '▁lip': 10219, '▁$500': 17005, '▁stimulate': 14954, '▁as': 38, 'center': 13866, '▁lansat': 15352, 'Span': 19675, '▁Untersuchung': 26801, '▁fizic': 13457, '▁prelucr': 28137, 'ged': 5402, 'frac': 9880, '▁REAL': 17833, 'dass': 20590, '▁chauffeur': 28892, '▁desirable': 16441, 'dip': 21981, '▁Oregon': 8687, 'chair': 15657, '▁weaknesses': 21506, '▁Cleaning': 11115, '▁reject': 15092, '▁Experten': 20939, '▁Corps': 16829, '▁entrance': 6143, '<extra_id_99>': 32000, 'studie': 23048, 'épi': 19394, 'igkeit': 5335, 'ions': 2865, 'treu': 17538, '▁quotidien': 15321, '▁1980': 6694, '▁arunc': 16656, '▁situations': 4147, '▁Simpson': 21965, 'MC': 3698, '▁hue': 18738, '▁SEO': 4753, '▁motiv': 5609, 'pel': 4343, '▁assertion': 27805, 'efficient': 16995, '▁province': 7985, 'Certainly': 22243, '▁Britain': 7190, '▁Con': 1193, '▁logiciel': 12785, '▁Gemeinsam': 25400, '▁élabor': 28527, 'audio': 28696, '▁verstärkt': 28783, '▁trusted': 7731, 'mark': 3920, '▁influenț': 29156, '▁collagen': 24553, '▁Mazda': 24730, 'engage': 16408, '▁speci': 20040, 'gun': 8765, 'through': 11258, 'udge': 13164, '▁palate': 22775, '▁Preise': 14167, '▁hymn': 27770, '▁Major': 9236, 'departed': 31779, '▁Coupon': 16247, '▁urmări': 23114, '▁Steve': 5659, '▁lice': 14896, 'write': 17504, 'Vielleicht': 20092, '▁refused': 12191, '▁Type': 6632, '▁flagship': 19241, '▁qui': 285, 'rik': 9629, 'hne': 12836, 'lette': 15529, '▁restitu': 30982, 'augmented': 28984, '▁légumes': 25893, '▁languages': 8024, 'overwhelmingly': 31954, '▁Initiative': 12043, '▁Set': 2821, '▁rough': 8678, '▁prévention': 27175, 'Appeals': 29641, 'error': 17262, '▁apporte': 14015, '▁puis': 4851, '▁theater': 8701, 'elle': 693, 'instant': 26166, '▁célébr': 26456, '▁reported': 2196, '▁produits': 3928, 'pfl': 19948, '▁Good': 1804, 'finished': 19420, '▁dori': 12934, '▁rounds': 14419, '▁Tasmania': 28020, '▁Bench': 21493, '▁slide': 9116, 'Maur': 19059, '▁difer': 20533, '▁programmes': 9015, '▁Ser': 5631, '▁shy': 17837, '214': 27357, 'CG': 12150, 'gen': 729, 'disciplinary': 15471, '▁Aktivitäten': 24480, 'with': 4065, 'toxic': 14367, '▁East': 1932, '▁Atmosphäre': 24071, '▁Matter': 19888, 'believe': 29958, 'recognizing': 22873, '▁liquidity': 27605, '▁sneak': 14801, 'case': 6701, 'vergleich': 18023, 'wärme': 25050, '▁trois': 5611, '▁emoți': 24695, 'outheastern': 28478, '▁pleased': 5010, 'sustainable': 31936, '▁Engel': 25936, 'reaches': 12763, '▁Monate': 17605, '▁décoration': 22574, 'surveyed': 25384, 'PRES': 22120, '▁identificat': 27979, 'isson': 12661, '▁Mono': 17851, '▁nuisance': 30109, '▁Health': 1685, '▁considér': 20228, 'uncovered': 24530, 'With': 15013, 'Alp': 19240, '▁1.': 1300, 'average': 28951, '▁Debbie': 29120, 'Introducing': 30586, 'had': 8399, '▁Android': 3054, '▁approach': 1295, '▁Terry': 18163, '▁Solomon': 24421, '▁celebrate': 4036, '▁intr': 2155, '▁flexibility': 6461, '▁Mes': 10162, '▁Credit': 6529, '▁Uttar': 31251, '▁gestern': 27411, '▁compression': 16685, 'pository': 30056, '▁hätte': 8219, '▁ecologic': 25908, '▁initi': 19350, '▁contient': 24060, '▁shake': 8944, '▁anderer': 20332, '▁Advertising': 21540, '▁booking': 5038, 'ogen': 5255, '▁pre': 554, '▁Mach': 10176, '▁required': 831, '▁bamboo': 20272, '▁excepţi': 30029, '▁Sharma': 30405, 'cea': 8433, '“,': 4600, 'ionen': 20869, 'modul': 22763, '▁taie': 23054, 'udder': 28002, '▁icon': 6705, '▁AT': 8043, 'überall': 22312, '▁sunflower': 29915, 'utilizatorii': 29477, '▁operate': 4368, 'DU': 7874, 'size': 7991, '▁22,': 12889, '▁Dixon': 30368, '▁guide': 1539, 'dominated': 16032, '▁pleasant': 8714, '▁ihm': 6889, '80,000': 26720, '▁problem': 682, 'informer': 29223, '▁profond': 19462, '▁Event': 8042, '▁aveti': 13740, '▁inside': 1096, '▁sute': 21285, '▁occasional': 14521, '▁bouche': 23462, '▁zombie': 20480, '▁Michael': 2457, '▁contractor': 8131, '▁living': 840, '▁150': 4261, '▁concise': 22874, 'behalten': 22707, 'wid': 12018, 'feier': 14178, 'paced': 18789, 'EQ': 23346, '▁dairy': 13688, '▁gravity': 18076, '▁luni': 4958, 'acre': 10610, 'ajele': 27863, '▁Learning': 6630, 'solid': 20695, '▁TO': 3001, '▁sédui': 27909, '▁début': 5886, '▁Twenty': 23277, '▁Sachsen': 29234, '▁fu': 7683, 'Home': 19040, '▁Booth': 26739, '▁mom': 3912, '▁étape': 19909, 'geladen': 25596, 'tul': 2520, '▁year': 215, 'west': 12425, '▁shining': 23215, '▁verursacht': 30384, '▁Concord': 23478, '▁couture': 29670, '▁choc': 24897, 'chilly': 28013, '▁experienţ': 25234, 'whi': 12124, '▁hike': 8598, '▁Pendant': 19296, '▁Location': 10450, '▁criticism': 12334, 'terra': 12829, '▁Pil': 16536, '▁Neben': 7974, 'enie': 15050, '▁prostate': 25567, 'word': 6051, '▁entscheiden': 10767, '▁passant': 20997, '▁enclosed': 21623, 'lite': 6311, '▁Trent': 24116, 'societal': 27908, '▁patent': 7432, '▁Zusammen': 11068, 'La': 3612, 'kopf': 23136, '24': 2266, 'einfachen': 29266, 'kinder': 18857, '▁portal': 8948, '▁Conference': 4379, '▁Township': 20381, '▁chaud': 13025, 'ordnung': 10660, 'wing': 3108, '▁Zi': 3969, 'WN': 21170, '▁counterpart': 15473, 'far': 5544, '▁scale': 2643, '▁tissu': 19934, '▁regener': 20682, '▁unavailable': 24948, '▁peau': 13776, '▁continut': 18066, '▁Zeug': 25507, '▁destructive': 24439, 'termes': 25814, '▁informations': 11987, 'ce': 565, '/5': 16936, '▁time': 97, 'kleidung': 25046, '▁vederea': 15860, '866': 26750, '▁slump': 31649, 'orii': 8959, 'vra': 11473, '▁venit': 7440, '▁unfortunately': 12050, 'körper': 19629, '▁advert': 24118, 'genannten': 15984, '▁Schrift': 19102, '136': 23459, '▁defeat': 9589, '▁courses': 2996, '▁tri': 6467, '▁schimb': 6617, '▁murdered': 26313, '▁culture': 1543, 'seite': 10621, '▁body': 643, '▁us': 178, 'lö': 9081, '▁Movie': 10743, '▁signed': 3814, '▁utilized': 11411, '▁Ge': 961, '▁followers': 10076, '▁obsolete': 29451, 'PORT': 14536, '▁helicopter': 16352, '▁Zahn': 15115, '▁reacți': 31302, '▁massage': 6967, '▁connection': 2135, '▁Benedict': 28808, 'blin': 21746, 'ible': 2317, '4-5': 18822, 'conditioned': 19657, '▁damages': 8542, '▁plaster': 24905, '▁Pad': 10683, '▁relations': 5836, '▁vân': 21047, '▁Holly': 24205, '▁Smartphone': 12743, '▁deveni': 16362, '▁Ancient': 22239, '▁episodes': 13562, '▁présent': 7829, '▁produces': 9560, '▁CT': 8668, '▁mysterious': 15124, '▁Canada': 1894, 'aux': 1724, '▁dots': 21940, 'explains': 9453, '▁articles': 2984, '▁10.': 5477, 'RCA': 25404, 'qui': 1169, 'juri': 20868, 'cision': 18901, '▁As': 282, 'tine': 4070, '▁Alumni': 25456, '▁Nobody': 22009, '▁Verlust': 26654, 'cine': 14760, 'criticized': 27624, '▁bias': 14387, 'streit': 26591, '▁Lagos': 29461, 'censor': 25486, '▁quoted': 16854, 'Contact': 31691, '▁Cohen': 23619, 'comp': 7699, '▁Nieder': 14866, '▁handsome': 22989, '▁salad': 5870, '▁55': 6897, 'job': 16899, '▁draw': 3314, 'dict': 12194, '▁Haushalt': 21068, '▁Residence': 23369, 'rutsch': 29454, '▁Template': 8935, '▁fi': 361, '▁Support': 4224, '▁crede': 13189, 'liegen': 15342, '▁predictive': 27875, '▁crap': 17081, '▁repede': 14233, 'hoped': 20964, '▁bogat': 14992, '▁principe': 17361, '▁Dim': 18150, 'ceputul': 31834, '▁Region': 6163, '▁vorbei': 15469, 'itudine': 13337, '▁transported': 20626, '▁chairman': 13404, 'related': 3897, '▁absolutely': 2997, '4,000': 13161, '▁safer': 14289, 'Specifically': 22265, '▁ticket': 4142, '▁Lars': 23648, '▁aprobat': 22667, '▁desfaso': 31095, '▁Extra': 8505, 'hog': 18330, '▁spirituel': 28098, '▁theories': 16348, '▁dictionary': 24297, 'tourism': 30712, 'cut': 3044, 'nahmen': 18321, 'ăm': 2398, 'destin': 13557, '▁pacient': 15531, '▁courteous': 28490, '▁Military': 17190, 'recurring': 21557, '▁1964': 18969, '▁plain': 6080, '▁respondents': 16467, 'efficacité': 22051, '4,5': 26392, '▁disponibilité': 29447, 'ending': 9303, '▁Products': 7554, 'payment': 21752, 'kie': 11390, '▁Divide': 22390, '▁upholstery': 22210, 'héros': 28126, 'erkrankung': 30504, '▁Wyoming': 23238, '<extra_id_14>': 32085, '▁dys': 16633, '▁majoritatea': 16100, '▁Jahrhundert': 15650, '▁Lynch': 25381, 'mond': 6764, '▁kurz': 7755, 'éclat': 28091, '▁pads': 17484, '▁Bathroom': 10345, '▁tatsächlich': 13976, '▁necesită': 27100, '▁Di': 2043, '▁Ru': 2770, '▁Buyer': 19099, 'ilia': 13565, 'präsent': 23784, '▁Other': 2502, 'dauert': 22395, '▁fuel': 2914, '▁cadru': 3210, '▁tău': 14774, 'leitet': 28172, '▁saved': 6024, '0,00': 27229, '▁litter': 19886, '▁dumneavoastra': 12659, '▁Auction': 23040, 'scope': 11911, '▁Gel': 10595, '▁Conf': 11847, '▁Christmas': 1619, '▁dumpster': 4021, '▁Abschnitt': 29687, 'incoming': 19583, '7.3': 27914, 'eezy': 28511, '▁emulator': 31950, 'orul': 6486, '▁Plus': 2477, '▁aflat': 8249, '▁saving': 4380, '8%': 5953, 'ezimal': 21649, 'schreibung': 21695, '59': 3390, '▁snorkel': 24568, '▁rencontre': 5887, 'pion': 12364, '▁constituie': 21977, '▁refuse': 9460, '▁person': 568, '▁bliss': 26078, '▁MD': 8530, 'corresponding': 9921, '▁personnelle': 15002, 'vascular': 15100, '▁Books': 10022, '▁Bug': 16381, '▁spinach': 21659, '▁Drake': 24823, 'Arr': 28150, 'Ann': 17608, '▁Allah': 21329, 'aktuellen': 12309, '▁Rö': 22087, '▁prevalent': 22519, '▁reckon': 27464, 'conferencing': 31883, '▁Fenster': 16814, '▁dedicated': 2425, 'med': 2726, 'bru': 9052, 'chip': 17362, '▁innovation': 4337, '▁degradation': 26644, 'cedat': 30466, '2020': 22224, '▁Awareness': 25410, 'troisième': 20015, '▁lack': 2136, '▁realize': 3384, '▁Korea': 7054, 'sheet': 12230, '▁locomotive': 31301, '▁diet': 3178, 'glas': 16985, '▁metro': 12810, ',000,000': 23916, 'hébergement': 26310, '▁Johnny': 18398, '▁lagoon': 31572, '▁Milliarden': 27883, 'Mar': 7286, '▁Noir': 21751, '▁Cloud': 5713, '▁wait': 1749, '▁difference': 1750, 'sharing': 22473, '▁elibera': 19554, 'war': 2910, 'beratung': 25089, 'Freddie': 31206, '▁speed': 1634, '▁Boot': 10722, '▁electromagnetic': 28641, '▁replies': 26719, '▁shooting': 5262, '▁caravan': 22133, '▁nicio': 17872, '▁petition': 11206, 'ability': 2020, '▁Coach': 9493, '▁revised': 15760, '▁Kapitel': 31130, 'amine': 8721, 'itty': 17132, '▁explain': 3209, '▁schemes': 15171, '▁GMT': 22866, 'pinned': 29320, '▁bâti': 30765, '▁03': 12811, 'faire': 16795, 'ALA': 23634, 'objet': 12617, '▁suis': 3448, '▁Mold': 21338, 'energie': 26407, '▁Kath': 23906, 'separating': 26427, '▁biopsy': 30689, '<extra_id_44>': 32055, '▁Yahoo': 15670, '▁Incredible': 29332, 'little': 26192, 'Übrigen': 30240, 'While': 27674, '▁judge': 5191, '▁valued': 12695, 'DOWN': 30828, 'scheid': 10726, 'verletzung': 31307, '▁increase': 993, 'punkt': 9463, '▁Markus': 25323, '▁civilization': 20927, '▁Europene': 18727, '▁Mu': 4159, '▁graphic': 7693, '▁bullet': 11126, '▁Caesar': 26218, 'OD': 7039, '▁salaries': 21331, '▁Polonia': 30377, '▁intriguing': 19425, 'educating': 23251, '▁volleyball': 26081, '▁activities': 1087, '▁diver': 12355, '▁gama': 17371, 'sur': 3042, '▁Drum': 15714, '▁let': 752, '▁exclusiv': 16288, 'ntended': 25916, '▁Impress': 26789, '▁jeux': 11798, '40': 2445, '▁parcurs': 17498, 'oral': 8563, '▁roast': 14238, '▁Cam': 5184, 'éti': 17678, 'URI': 22182, '▁Expression': 26376, '▁entered': 5136, '▁rencontré': 25707, 'kräfte': 16657, 'citation': 13903, '▁boiling': 22151, '▁permettr': 11791, 'free': 2113, '▁Fä': 22160, 'pelled': 14528, '▁receipt': 8958, '▁artistique': 23662, '7:30': 18078, '▁bill': 2876, 'ITS': 21273, '▁B': 272, '▁enjoyed': 2994, '▁Echipa': 25944, '▁layers': 7500, 'das': 7664, '▁picioare': 15190, '▁Umsatz': 25685, 'bacterial': 17359, '▁sweep': 17695, 'inflated': 30925, 'ART': 8241, '▁Homes': 14093, '▁clic': 23168, '▁Canadian': 4151, '▁earned': 4964, '▁Ahmad': 28770, '▁annul': 26482, '▁parle': 15701, 'inger': 9963, 'EMS': 20804, '▁perfume': 20485, '▁Imaging': 27684, '▁windshield': 27988, '1:00': 24294, '▁Escape': 25699, 'bisschen': 22053, '▁pilot': 4487, '▁Peel': 26290, '▁Anniversary': 21947, '▁subsection': 29233, '▁astept': 13752, 'own': 9197, '▁perioade': 22030, '▁Băsescu': 30938, 'jo': 1927, '▁Juventus': 31568, '▁ordentlich': 26026, '▁pairs': 14152, '▁missile': 16953, '▁Laptop': 19416, '▁finale': 13604, 'ime': 5445, '▁squirrel': 26364, '▁verdict': 23173, '▁waiting': 2794, '▁hub': 7801, '▁ladder': 15812, '▁nature': 1405, '▁guild': 27756, 'remained': 7361, '▁Knight': 11595, '▁gând': 7876, '▁cost': 583, 'réglage': 31980, '▁only': 163, '▁Pig': 19214, '▁platinum': 26325, '▁succes': 7522, '▁Rate': 13002, '▁garçon': 27746, '▁wheat': 13221, '▁prilej': 28011, '▁syrup': 15928, 'aries': 5414, '▁spontaneous': 23496, 'bound': 6115, '▁audience': 2417, '▁brightness': 24073, 'danach': 16161, 'bonne': 22830, '▁effektiv': 23244, 'sprech': 13611, '▁default': 4647, '▁survive': 7905, 'meiner': 9221, 'heißt': 13172, 'culaire': 21449, '▁largest': 2015, '▁mast': 24087, '▁advisor': 8815, '->': 13114, '▁accelerate': 16845, '▁measuring': 11297, '▁brevet': 29472, '▁bin': 2701, '▁things': 378, '▁un': 73, '▁needs': 523, '▁destiné': 23701, '▁Stadi': 30408, '▁feet': 1922, '▁league': 5533, '▁intrinsic': 26075, '▁Brothers': 17491, '▁Salesforce': 27141, 'ent': 295, '▁$12': 21487, '▁wrote': 2832, '▁volunteer': 6662, 'DR': 3913, '▁combat': 4719, '▁striking': 11214, '▁drawing': 5364, 'wert': 6354, '▁Move': 15711, '▁probleme': 7715, 'Judith': 30875, '▁Român': 12322, 'deposited': 24133, '▁victims': 8926, '▁make': 143, '▁polyester': 19243, '▁duties': 9353, '▁Erd': 11948, '▁BA': 8145, 'kurs': 16279, '▁ilustr': 30480, '▁Chase': 17096, '▁Jupiter': 24308, 'schein': 7837, '▁guess': 3382, 'wirtschaftliche': 19594, '▁name': 564, '▁Pass': 3424, '▁Coordinat': 31732, '▁some': 128, '▁An': 389, 'irea': 3477, '▁Entry': 20333, '▁Abdul': 28508, '▁Unity': 24977, 'Nume': 21456, '▁patients': 1221, '▁Needles': 25478, '▁went': 877, 'TION': 9562, '▁adh': 21186, '▁trei': 3717, '▁Edge': 11690, 'cul': 1497, '▁malfunction': 27736, '▁$60': 25659, 'reci': 7886, '▁pierde': 19740, '▁Achtung': 30936, 'unter': 5957, '▁motif': 20520, '▁Erinnerung': 23347, 'gutachten': 31515, 'special': 17434, 'dian': 8603, '▁grades': 13082, 'call': 16482, '▁mattresses': 25928, 'ăsesc': 26784, '▁kleine': 5683, '▁indépendant': 20346, 'phro': 31156, '▁ONLY': 20728, '▁poke': 23004, '960': 27699, '▁covenant': 26404, '▁viitoare': 19643, 'mighty': 21553, 'rios': 10305, '▁Rem': 13466, 'Visiting': 30338, '▁cuisine': 4316, 'impose': 12436, '▁swear': 23782, '▁Core': 9020, 'pov': 26981, '▁Swan': 18041, '▁José': 26816, '▁pastry': 20772, '▁cur': 5495, '▁dealing': 4945, 'identifie': 8826, '▁handful': 12114, '▁Gewerbe': 27051, 'children': 25782, '▁steer': 21201, 'c': 75, '▁theatre': 8516, '▁QR': 25710, '▁videos': 3075, 'tress': 9746, '▁Dennis': 18563, '▁Sage': 21429, 'irk': 12546, '▁medical': 1035, 'atii': 6091, '▁curator': 26108, '▁reducere': 16277, '▁knife': 10821, '▁făcut': 5203, '▁selection': 1801, 'bla': 4605, '▁femmes': 9382, 'hiver': 15123, '▁Bor': 7254, '▁Mull': 21376, '▁lieben': 23062, '▁evolution': 9009, 'rab': 7093, '▁democracy': 14278, '▁acne': 15496, 'astr': 12163, '▁gesichert': 31837, '▁shut': 6979, '184': 25987, '▁showcase': 7193, '▁putut': 14861, '▁quelque': 10708, '▁Einrichtung': 17460, '▁Average': 23836, 'Mostly': 26084, '▁algae': 29593, '▁creative': 1812, 'play': 4895, '▁closet': 9792, 'atorită': 17257, 'accompagne': 22322, '▁sufficient': 6684, '▁vocational': 28256, 'minte': 8215, '▁roof': 2955, '▁Songs': 18142, '▁never': 470, '▁bientôt': 21707, '▁Plumber': 27623, '▁exterior': 5942, '▁WE': 9664, '▁airfare': 31793, '▁împotriv': 12348, '▁Obst': 22223, 'frères': 30919, 'Pläne': 31629, 'CAP': 16986, '▁hybrid': 9279, 'pläne': 31273, '▁64': 6687, '▁accompagn': 19724, '▁reset': 12262, 'ittlerweile': 16122, '<extra_id_16>': 32083, '▁rôle': 11799, '▁Tips': 15356, '▁lightly': 14292, '▁russe': 27887, '▁Basic': 11909, '▁gravit': 23189, '▁Shelf': 30097, '▁vicinity': 26546, '▁reţe': 27500, 'fortunately': 29178, '▁Yu': 6214, 'ERS': 9984, '▁Voll': 15638, '▁presidential': 13074, '▁dealer': 10543, '▁Devon': 23130, '<extra_id_22>': 32077, 'ли': 14601, '▁Responsibility': 30848, '▁weitere': 4681, '▁shampoo': 18311, '▁awake': 17101, '▁sistemul': 11146, '▁poise': 27901, '▁Russia': 4623, 'konto': 25265, '▁dining': 2851, '▁18,': 14985, 'gefahren': 26997, '▁Tucker': 29247, '▁bewährt': 30638, '▁breaking': 7814, '▁Flint': 29612, '▁peut': 1351, '▁Cards': 18085, 'informatique': 19113, '▁Commission': 3527, 'Game': 23055, 'AID': 25167, '▁Things': 9171, '▁erwähnt': 25442, 'lining': 9424, '▁Consiliului': 16886, '▁contamination': 21698, 'WM': 16727, '▁approximately': 3241, '▁$30': 19106, '▁Gospel': 15654, '▁animation': 9301, '▁movies': 4876, '▁RO': 10264, '▁fiber': 6433, 'faceted': 28842, '▁stem': 6269, '▁explained': 5243, '▁guides': 9314, '▁Nelson': 14448, '▁attain': 14568, '▁ambient': 21128, 'songwriter': 21101, 'bekam': 26279, '▁Stretch': 28361, '▁biology': 15651, '▁folded': 23166, '▁switches': 17490, '▁Clinton': 10213, '▁ritm': 24760, '▁Argument': 26583, '▁rush': 10505, '▁supraveghere': 28645, '▁größer': 23502, '▁Farben': 14531, 'logisch': 25407, '▁Bay': 2474, '▁erzielen': 28199, '▁spital': 16192, 'hâte': 30020, 'verse': 7583, '▁Fla': 7036, '▁harmonic': 29610, 'üsse': 12079, '▁fabriqu': 19805, 'partie': 25516, '▁Fl': 5766, 'geräte': 21143, 'bur': 5808, '▁messages': 4175, 'duce': 12160, '▁NW': 19374, '▁80': 2775, '▁unele': 9482, '▁craft': 5449, '45%': 27516, 'resemble': 17083, '▁doar': 1617, '▁außer': 24402, '▁concours': 17400, '▁treaba': 21916, '▁Gefühl': 14037, '▁figurine': 31193, 'bouchage': 31415, '▁Mary': 3790, '<extra_id_1>': 32098, 'serrurerie': 29813, '▁nous': 678, '▁proprietate': 27263, '▁exploring': 6990, '1.4': 14912, '▁Cré': 20247, 'ndel': 8893, '▁mix': 2153, '▁matching': 8150, '▁Leg': 18978, 'since': 27296, '▁constellation': 30872, '▁Text': 5027, '11.': 10032, 'idad': 15644, '▁chantier': 25702, 'spekt': 11745, '▁Oak': 7858, '▁invoice': 10921, '6.7': 29045, 'rier': 6711, '▁Vogel': 26329, '▁Assistance': 21736, 'hrs': 18745, '▁baut': 21789, '▁bănci': 29646, '▁uninterrupted': 29574, '▁crack': 5261, '▁rural': 5372, '▁vor': 426, 'TN': 11053, '▁dolari': 20681, '▁Hände': 20789, '▁Asian': 6578, 'äck': 20201, '▁environment': 1164, '▁seriously': 5830, '▁seemingly': 13045, 'nite': 7980, '▁compare': 4048, '▁euch': 7725, '▁dispune': 21198, 'ruined': 28121, '▁Bin': 7617, '▁label': 3783, 'reuen': 23917, '▁professionelle': 25014, '▁Portable': 21632, '▁spirit': 3564, '▁everything': 762, '▁drivers': 3863, '▁Portland': 11829, '▁Jefferson': 17858, '▁pouv': 3215, '▁rise': 3098, 'teamed': 19526, 'reli': 19459, '▁sandwich': 14658, '▁Phantom': 28778, 'Decorative': 31772, '▁alumni': 10644, '▁intégré': 22852, '▁72': 9455, '▁Freiheit': 23002, 'glichen': 24504, '375': 22954, 'imi': 4133, '▁Rep': 7144, '▁älter': 28344, '▁sauna': 20543, '▁Ci': 4385, '▁savoir': 5369, 'practic': 22255, '▁renovat': 23923, '▁Address': 13246, 'scribe': 19308, '▁dont': 2483, '▁Delhi': 10619, '▁stumble': 29630, '▁cand': 2988, '▁acea': 14960, '▁saturation': 31006, '▁altogether': 16889, '▁perpetrat': 28998, '▁numerical': 25194, '▁Gru': 21303, '▁period': 1059, '▁Ferrari': 21945, '▁concentrat': 28038, 'album': 23703, '▁snail': 31641, '▁Schlag': 20521, '▁apporté': 29753, '▁enhanced': 8358, '▁Spe': 8974, '▁mois': 3530, 'emploi': 9767, '▁NO': 5693, 'consider': 31750, '▁everyday': 4604, '▁Kloster': 29729, '▁350': 10239, '▁atractiv': 30597, 'expériment': 21229, '▁rue': 11902, '▁McC': 7040, 'buck': 13863, '▁zis': 15396, '▁inventor': 21244, '▁destiny': 25623, '▁dazu': 4042, '▁frustrated': 17144, '▁choir': 20778, '▁Jamie': 17845, '▁falsch': 21816, '▁Bedford': 27393, 'fur': 9827, '▁Diane': 23561, '▁scoate': 20433, '▁shapes': 8803, '▁whatsoever': 19842, '▁think': 317, '▁spontan': 22234, '▁hardest': 18723, '▁insured': 15581, '▁genul': 25333, '▁cardiovascular': 16712, 'girl': 18722, '▁bebelus': 27511, '▁congratulations': 29138, 'schmerz': 21939, 'curs': 15983, '▁Gewinn': 11490, '▁mobil': 11047, '▁bikes': 13490, '▁attendance': 11364, '<extra_id_2>': 32097, '▁slavery': 25686, '▁unleash': 26000, '▁Catherine': 17006, '▁Advisor': 17228, 'RE': 4386, '▁Limit': 18185, '▁use': 169, '▁crowdfunding': 31514, 'responsabilitate': 24640, '▁adăugat': 27372, 'train': 9719, '▁inchis': 25495, 'cre': 5045, '40,000': 20431, 'WS': 8439, '▁Instant': 18882, 'bay': 11119, '▁glaze': 26891, '▁stickers': 19239, '▁Sil': 10221, '▁Lü': 16817, '▁țări': 22165, '▁LOL': 23365, '▁recipe': 2696, '▁notes': 3358, '/2016': 24763, '▁ştiu': 23896, 'building': 10905, '▁Metal': 9276, '▁established': 2127, '▁Fur': 10759, 'LT': 9012, '▁fum': 11349, 'Combined': 28257, '▁Stat': 7135, '▁Cosmo': 27709, 'ookie': 21132, '▁Ubuntu': 22998, '▁balanced': 8965, '▁Highlight': 16388, '▁MOD': 24259, 'hound': 26219, '▁oamenii': 8730, '▁pictur': 27283, '▁insects': 19127, '▁vais': 14946, '▁pulse': 13468, '▁Castel': 25925, '▁Prophet': 23416, '▁dintre': 1700, '▁Marion': 23816, '▁Textil': 24936, '▁configura': 29751, '<extra_id_83>': 32016, '▁Nous': 2228, 'Gregor': 26705, 'utilise': 10251, 'outlined': 17403, 'LAR': 22492, 'Fortunately': 13469, '▁raisonnable': 31255, 'gefordert': 25900, 'Früh': 24495, '▁standing': 4125, '▁Braşov': 30447, '▁Res': 7127, '1.2': 10917, '▁controversial': 15202, '▁ships': 10911, '▁Wagen': 26070, 'raz': 7275, '▁hilarious': 21566, '▁politică': 21473, '▁achievable': 30238, '▁témoign': 29775, '▁ré': 1417, '▁Computing': 25274, '▁aminti': 21507, 'räume': 19588, 'annual': 30627, '▁smiling': 20770, '▁je': 528, '▁Representative': 13517, 'este': 2613, 'certain': 19766, '▁legume': 17750, 'Mass': 27189, 'frau': 17931, '▁close': 885, 'title': 21869, '▁Stuhl': 31379, 'Hopefully': 12599, '-60': 19516, '6.4': 27869, '▁Resistance': 30318, 'sozial': 22992, '▁prim': 6332, '▁rides': 14432, 'ductive': 28668, 'volunteered': 29177, 'jenigen': 26502, '▁frontière': 26097, 'SR': 6857, '▁bathroom': 2582, 'pai': 13585, '▁inexpensive': 13938, '▁Builder': 16799, 'old': 1490, '▁utilisé': 8157, '▁adequate': 9289, '▁Besonder': 12125, '▁echipei': 23520, 'custom': 25697, '▁Printable': 24494, '158': 26556, '▁humanity': 12540, 'ncing': 4733, 'DER': 11300, '▁House': 1384, 'UP': 6880, '▁devote': 19612, 'organizarea': 23696, 'broyeur': 31952, 'wetlands': 31506, '▁sanction': 26419, '▁pumpkin': 13790, '▁puts': 10762, '370': 22520, '▁hits': 8046, 'molecule': 23098, '▁matériaux': 21639, '▁târziu': 22745, '16': 2938, 'ARY': 24721, '▁game': 467, '▁once': 728, '▁welding': 24541, '▁utopi': 31389, '▁resilience': 21383, '▁recent': 1100, '▁Lane': 11834, '▁regard': 3553, 'tiri': 20408, '▁șef': 25910, 'kämpfe': 20854, '▁preuve': 20287, '▁rainforest': 28355, '▁Sultan': 30356, '▁prizes': 13340, '▁Roh': 13087, '▁enjoy': 777, '▁sera': 2707, '▁candid': 16621, '▁Saturday': 1856, 'itude': 20341, '2-': 7412, 'destroying': 24512, '▁Casual': 30213, '▁Brun': 16399, 'broader': 13627, 'strict': 20066, '▁ulcer': 24575, '▁troubles': 16973, 'lassen': 10764, '▁întâlniri': 31011, 'arbeiten': 7987, '▁furnace': 19808, 'auront': 24234, '▁voter': 10018, '▁professional': 771, '▁interesant': 13656, '▁Rhode': 17903, '▁Copper': 19756, '▁proced': 20503, '▁norme': 20937, '▁antivirus': 28216, 'rak': 9782, 'fro': 6155, '▁sharp': 4816, '▁longitudinal': 29308, '▁fame': 10393, 'male': 13513, 'lant': 6761, '▁Beer': 18073, 'teilung': 10830, '▁silicone': 21650, 'upscale': 28177, '▁Resolution': 19957, '▁Kir': 10976, '▁walls': 4205, '▁commencer': 17322, '▁ex': 1215, '▁scris': 8294, 'bewertet': 30554, '▁gespeichert': 20819, '▁ediți': 31427, '▁minor': 4012, 'sustaining': 28523, '▁genunchi': 31579, '▁invented': 20897, 'vieux': 24913, '▁décè': 30537, '▁Aurora': 23861, '▁sights': 17458, '▁deck': 3854, 'haltung': 12706, 'TAR': 28588, '▁masa': 9358, '▁Stir': 13522, '▁concerned': 4376, '▁expanded': 8148, '▁bands': 9760, 'semnat': 11942, '▁installations': 12284, '▁directeur': 19305, '▁Bio': 3318, 'ggling': 20227, '▁Architectural': 30797, '▁digest': 15168, 'sparen': 16210, 'converting': 21049, 'emis': 12641, '▁Familie': 7453, '▁lancer': 22515, '▁Through': 4582, 'o': 32, 'GIN': 24961, '▁creşte': 28551, '▁Diagnose': 31343, '▁memori': 14485, '▁median': 15572, 'prestigious': 13003, '▁server': 2460, '▁genre': 5349, '▁roam': 22327, '▁flute': 27928, 'ellen': 8890, '▁dicke': 31149, 'illard': 23854, '▁über': 510, 'PGA': 24127, 'target': 24315, 'QA': 23008, '▁voul': 8350, '▁übertragen': 25325, '▁Creator': 19564, '▁speaker': 5873, '▁Russie': 30342, '▁toothpaste': 31916, 'produkt': 21536, '▁Qualcomm': 30628, '▁Definition': 15476, 'B': 279, '▁Stunden': 9591, 'avez': 3618, '°': 1956, 'wunsch': 30605, 'CT': 6227, '▁title': 2233, '▁eventuell': 26386, '▁bequem': 18832, 'ux': 3090, 'http': 5948, '▁Belt': 18845, '▁superstar': 27375, '▁parts': 1467, '▁étudiants': 17848, '▁dropping': 14087, 'VF': 22502, 'grupului': 30612, '▁viewers': 13569, '▁torrent': 23326, 'idia': 24594, '▁fan': 1819, '▁Timber': 25045, 'afli': 31364, '▁détach': 31843, 'CN': 10077, '▁était': 4104, '▁(3': 6918, 'ühl': 9184, '▁Jr': 8206, '▁individuelle': 13111, '▁consumator': 23423, 'ech': 10217, '▁Möglichkeit': 7251, '▁foliage': 25840, '▁locuitori': 23017, '▁simti': 17744, '▁sympathy': 27907, '▁jelly': 24078, 'dica': 11346, '▁hitting': 10849, '▁aufmerksam': 28897, '2).': 15070, '▁caused': 2953, '▁desk': 4808, '▁validate': 16742, '▁find': 253, '▁Cookies': 15929, '▁happening': 4626, '▁ieşi': 27018, '▁municipal': 10516, '▁Par': 2180, 'weighing': 22853, '▁builds': 15326, '▁catalog': 10173, 'HP': 13201, 'от': 17059, '▁Nag': 17421, '▁Zahlen': 24689, 'ATI': 21580, 'längst': 24683, '▁Buc': 15882, '▁photo': 1202, '▁coverage': 2591, '▁vertreten': 23547, '▁ferr': 25007, 'road': 8635, '▁conclu': 16129, '▁Veränderung': 19851, '▁Turtle': 29909, '6-0': 28625, '▁8:30': 23899, '▁AMAZING': 31940, 'strom': 14900, 'ediție': 30266, '▁upon': 1286, '▁Brexit': 13857, 'her': 760, 'ash': 3198, 'arranged': 9741, '▁zbor': 18871, '▁Method': 7717, '▁breastfeeding': 28671, '▁tractor': 21242, '▁Bauch': 27671, 'masă': 23712, 'mobile': 14814, '▁Gott': 11922, '▁Pac': 11790, '▁semiconductor': 23795, 'kamagra': 31603, 'approche': 12571, '▁intricate': 19760, '▁dezvoltare': 13797, '-21': 16539, '▁gelernt': 29484, '▁£10': 26016, 'țiilor': 20249, '▁anschließend': 17739, 'Kom': 22339, 'centric': 17456, '▁sta': 3342, '▁Thir': 21564, '▁quantity': 8708, 'CEPT': 30416, '▁policy': 1291, '▁vélo': 19799, '▁eligibility': 18249, 'chromat': 25620, 'pflichtig': 28946, 'k': 157, '▁traduc': 16486, 'beaten': 17349, 'gerechnet': 25894, '▁shall': 1522, '▁exemplu': 7515, '▁wahr': 13703, '▁Justin': 12446, '▁Flowers': 20294, 'version': 8674, 'warded': 28288, '▁couvert': 29513, 'lich': 1411, '▁hatred': 27983, '▁ensure': 766, 'citing': 17994, '▁Arthur': 13962, '▁sweetness': 24736, '▁2004,': 16931, '▁prospective': 11735, 'bene': 15719, 'gno': 6715, 'SCO': 11151, 'та': 15517, 'selling': 17556, 'CHAR': 28027, '▁Winnipeg': 28517, '▁theory': 4516, '▁Claus': 22021, '▁renovated': 20845, '▁Eigen': 17213, '▁Pattern': 20918, '▁Pur': 7333, 'kom': 4524, '▁vigilant': 28841, '▁36': 4475, '▁poveste': 10654, 'If': 5801, '▁thru': 20380, '▁wildlife': 9106, 'deutschland': 28825, '▁Iasi': 26073, 'Lösung': 31160, '▁încâ': 12132, '▁doctor': 2472, '▁poetry': 10773, 'bow': 17710, '▁Basement': 24744, 'FP': 10698, '▁Schutz': 10956, '▁jungle': 19126, '▁Jason': 9637, '▁peers': 13359, 'UST': 16847, '▁neues': 13357, '▁clutter': 23762, '▁satisfied': 7035, '▁cure': 10620, '▁financially': 16851, 'plasm': 21178, 'COL': 19617, '▁locati': 26086, 'fish': 6779, 'buried': 14656, 'nous': 10529, '▁predominantly': 24448, 'atiile': 18743, '▁enclosure': 22104, 'wurf': 23656, 'slept': 25726, 'sicherheit': 20170, 'Donnell': 30314, 'gift': 26179, '▁websites': 3395, 'gate': 5339, '▁lawsuit': 9953, '3/': 15020, 'Ideally': 25038, 'ERN': 25992, '▁Premier': 6552, '▁reviewed': 9112, '▁grassroots': 29890, 'frem': 23311, '▁hold': 1520, '▁Use': 2048, '▁virus': 6722, '▁iPod': 17003, 'cini': 20694, '▁Rwanda': 26365, '▁inventive': 29528, '▁obligatoire': 21115, '▁purchases': 9701, '▁boule': 22333, '▁lime': 13222, '▁Tief': 19393, '▁Worcester': 26848, 'ILE': 20129, 'stoff': 8867, '▁Man': 1140, 'session': 22197, 'potting': 28586, 'pflanzen': 30159, 'Roman': 25139, '▁closing': 6733, '▁would': 133, '▁academic': 2705, 'aţii': 10790, 'AQ': 23927, '▁provider': 3175, '▁observe': 7743, 'sammelt': 21852, '▁Correction': 30656, 'working': 9238, '▁wir': 558, 'Amérique': 27520, '▁verbindet': 31088, '▁Nouvelle': 25671, '▁météo': 26590, 'mix': 13682, 'scher': 11575, '▁Lind': 14482, 'tica': 7439, 'égi': 16510, '▁Authorities': 30336, 'petit': 19427, '▁sind': 436, '▁boots': 10427, 'requiring': 10695, 'gust': 17198, '▁carbon': 4146, '▁retro': 9337, '▁voudrai': 30603, '▁successfully': 4234, 'atoare': 5318, '▁pulling': 12473, 'Pay': 19702, '▁evaluate': 6825, '▁trade': 1668, 'és': 899, '▁unterstützen': 13341, '▁gestalten': 19733, 'IO': 7550, 'Innen': 7842, '▁recunoscut': 21884, '48': 3707, '▁accountability': 17853, 'blast': 21234, '▁resin': 16825, '▁Figure': 7996, '▁propose': 4230, '▁inclu': 12507, 'arma': 12764, '▁firms': 5654, '▁expected': 1644, '▁peaceful': 9257, '▁Lisa': 11712, 'HT': 10966, '▁objectives': 7233, '▁hurricane': 20818, 'kauf': 11520, '▁Chevy': 28673, 'tuft': 30930, 'urgi': 17753, '▁susţin': 19154, '▁instanţ': 29312, 'fill': 16326, 'weakened': 31315, '▁Tennessee': 12976, 'consulted': 29087, '▁Shampoo': 31189, '▁Dia': 5267, 'gänge': 14257, 'schuhe': 21026, '▁slab': 10156, '▁pineapple': 24455, '▁Cliff': 22352, 'ARA': 21159, '▁Catering': 29326, '▁hexagon': 30060, '▁Shannon': 26664, 'spawn': 20880, 'oivent': 11550, '▁asphalt': 20158, 'schätzt': 27122, '▁until': 552, '▁dioxide': 22122, '▁actuator': 31597, '▁spacious': 9395, '▁Paypal': 25809, '▁okay': 8957, '▁investing': 8448, '▁revenge': 27831, '▁relativ': 13105, '▁tests': 3830, '▁Haiti': 22179, '▁institutii': 29857, '▁Efficiency': 31624, 'hur': 10666, 'ambi': 11379, '▁kitten': 25573, 'constructing': 24246, '▁fois': 2529, '▁aprilie': 12624, '▁watches': 16567, 'hopper': 19484, '▁accurate': 4034, 'sky': 5352, '▁write': 1431, '▁Single': 7871, '▁Regen': 12412, '▁vizitat': 22762, '▁Tehran': 31238, '▁Horizon': 18718, '<extra_id_30>': 32069, '▁Based': 6719, '▁consume': 11037, '▁varieties': 12236, 'esprit': 11689, '▁dissertation': 13955, '<extra_id_54>': 32045, '▁Only': 3462, '▁unnecessary': 12592, 'Assemblée': 29907, 'ază': 7243, '▁52': 9065, '▁subject': 1426, '▁cluster': 9068, '▁Wasser': 3999, '▁Broker': 20696, '▁Pharmacy': 25396, 'uhr': 19290, 'sent': 5277, '▁ship': 4383, 'hhh': 24303, '▁Restoration': 24560, '▁Bat': 8897, '▁ambalaj': 30101, '▁Real': 2977, 'apos': 2521, '▁responsabil': 15243, '107': 18057, '▁Scotland': 8288, '▁Crown': 15633, '▁noch': 763, 'dded': 15748, '▁TIP': 21694, '▁Willkommen': 29356, 'ändig': 17026, '▁bug': 8143, '▁Fill': 12607, '▁mandat': 15579, '▁Extrem': 20355, '▁estate': 2052, '▁disrespect': 31973, '▁hip': 5436, '▁fotbal': 18934, 'thank': 20349, 'cu': 1071, '▁Bau': 3528, 'ego': 6066, '▁iconic': 10331, 'earliest': 16454, '▁behandelt': 24566, 'super': 21771, '▁Selbst': 8262, '▁participant': 8344, '▁membership': 4757, '▁Ly': 5225, '▁slots': 9653, 'nes': 1496, 'ându': 8594, 'Etat': 15890, '8.1': 20677, '▁route': 2981, '▁permite': 9150, 'poziția': 30970, 'max': 9128, '▁synonym': 29443, '▁Rin': 16602, '▁mobilité': 29882, '▁entre': 1721, '▁breakdown': 15568, '▁Förder': 20148, '▁indirectly': 25509, '▁Alba': 16818, '▁limousine': 31166, '▁Prior': 6783, '▁Designer': 11296, 'sweeping': 23164, 'Auth': 23602, '▁soumis': 27352, 'upholstered': 27191, 'hum': 4884, '▁max': 9858, '▁lobster': 28289, '▁justice': 4831, 'ively': 13830, '▁PlayStation': 21895, '▁Ball': 4155, '▁vechi': 10464, '▁vampire': 26946, '+': 1220, '▁14': 968, '▁expired': 24909, '▁Mah': 8555, 'cina': 11075, '▁scène': 12739, 'cci': 9920, '▁réalis': 14211, '▁Command': 13901, 'London': 29712, 'rique': 8673, '▁Ep': 10395, '▁proficiency': 27657, '▁transit': 11811, 'partenerii': 31708, 'Regulatory': 31056, '▁Motto': 24699, '▁inspect': 15614, '▁nichts': 9420, '▁Lexington': 30500, '▁guidelines': 5749, '▁biodiversity': 27347, '▁England': 2789, '▁horrific': 30120, '▁tick': 11331, '▁praktisch': 16390, 'Govern': 27304, '▁diagram': 6423, '▁Section': 5568, '▁Anne': 8977, '▁Publisher': 19816, '▁begleitet': 25193, '▁Bundesliga': 28117, 'you': 4188, '▁allerdings': 8098, 'hold': 6134, '▁holidays': 6799, 'qué': 7195, '▁Bilder': 8740, '▁medicinal': 22146, 'Logic': 20641, 'welt': 9304, '▁studi': 16962, '▁Fi': 3188, '▁NFL': 10439, '▁about': 81, 'KS': 13383, '▁Cei': 16796, '▁candy': 11617, '▁seeing': 2492, '▁benötigt': 14664, 'umb': 5937, 'OUT': 9744, '▁patrol': 20404, 'surface': 26899, 'huile': 14129, 'arzt': 21483, '▁skillet': 22869, 'analyzed': 16466, '▁signing': 8097, '▁Wednesday': 2875, '▁category': 3295, 'catcher': 27073, '▁Otherwise': 14375, '▁German': 2968, '▁unten': 17023, '▁anytime': 11008, '▁marriage': 5281, '▁şef': 24877, '▁specifically': 3346, '▁ça': 3664, '▁Billy': 17724, '▁confirm': 3606, 'von': 5951, 'toata': 13638, 'Firstly': 23559, 'acheteur': 30433, 'check': 10031, '▁knowledgeable': 9839, 'captivate': 31429, '▁Dept': 25734, 'ül': 13198, '▁Exist': 17061, 'fel': 4025, '▁Thema': 6240, '▁unhappy': 24357, '▁Congo': 24536, 'complie': 29529, '▁Dominic': 19169, '▁smooth': 3050, '▁general': 879, 'huh': 28848, 'clo': 3903, '▁Hope': 6000, '▁compute': 29216, '▁coastal': 13064, '▁arrange': 8031, '▁Sophie': 21668, '▁assumptions': 20298, '▁Ok': 8872, '▁scenery': 15806, '▁BC': 9580, 'geht': 18439, '▁underwater': 22409, 'CO': 5911, '▁semble': 10799, '▁urca': 23167, '▁campuses': 25784, 'pian': 21851, '▁Zoom': 24900, '▁Balkon': 27929, 'fest': 5960, 'embre': 21388, '▁cacao': 26505, 'spirited': 31083, '▁corner': 2752, '▁géographique': 31204, 'deutschen': 10679, 'Aceste': 10526, '▁Warranty': 26614, 'technik': 11193, '▁embryo': 24157, 'lessly': 16919, '▁ober': 18299, '▁indigenous': 19771, '▁wife': 2512, 'ACC': 14775, '▁drinking': 6663, '▁Important': 16516, 'flore': 28138, 'soci': 5444, '▁famille': 5724, '▁Limited': 7363, 'Ein': 14263, '▁Relations': 16541, 'älteste': 31503, '▁artisans': 22253, '▁impeccable': 26449, 'équivalent': 29551, '▁încălc': 29616, '▁vari': 7516, '▁stone': 3372, 'icism': 20231, '▁perdre': 23013, 'но': 9890, 'izări': 17488, '▁computation': 29761, '▁adjust': 6142, 'mini': 7619, '▁firing': 19781, '▁reasons': 2081, '▁biciclet': 23810, '▁task': 2491, '▁Ke': 2566, '▁Magento': 31284, 'cluttered': 31778, 'ANI': 20629, '▁passage': 5454, '▁(15': 17251, 'LER': 25896, '▁List': 6792, 'hort': 14184, '▁redus': 16295, '▁Warm': 18171, '▁baseline': 20726, 'accelerated': 26389, '▁Luxembourg': 23888, '▁Saison': 14850, '▁vorstellen': 24710, '▁viteze': 29776, '▁November': 1671, '▁Internațional': 31999, '▁réseau': 9893, '▁excluded': 19678, '▁răs': 14675, '▁Geschenk': 19777, '▁either': 893, 'American': 8778, '▁ouvert': 10642, '▁În': 950, '▁comentarii': 27392, '▁Zeitung': 23542, '<extra_id_68>': 32031, 'arme': 13451, '▁rezultatele': 20782, '▁cauliflower': 31152, '▁puternic': 7543, '▁„': 395, '9.5': 22321, 'form': 2032, '▁Membr': 24470, '▁Eintrag': 28420, '▁authorized': 11330, '▁Child': 9364, 'pharma': 15288, '▁limite': 13486, '▁win': 1369, '▁erhält': 17119, '▁nun': 3423, '▁VPN': 12156, '▁réuni': 18523, 'collegiate': 31003, '▁retired': 10611, '▁getestet': 28529, 'pu': 4987, 'clu': 10562, 'poarte': 26500, '▁besonders': 5813, '▁chicken': 3832, '▁Tout': 8786, 'CAL': 21605, 'crystalline': 31900, '▁maximise': 25124, '▁hearts': 9812, 'spa': 14147, 'autoimmune': 31650, '▁Tottenham': 31857, '▁reply': 8776, 'professionellen': 31387, 'ubb': 21207, '▁Terminal': 22181, 'GM': 7381, '▁benutzen': 29552, '▁mult': 980, '▁prisoners': 22040, '▁hospitality': 13489, '▁Zin': 16035, '▁ridicat': 10192, '▁comfy': 18665, 'cro': 2771, '/3': 14207, 'delve': 30008, 'ha': 1024, '▁aktuelle': 15669, '▁Ort': 4366, '▁Feuchtigkeit': 31321, 'importe': 15919, '▁young': 1021, '▁wunderbar': 19250, '8,000': 16235, '▁beauté': 20800, '▁grinder': 22956, '6-3': 24262, 'MIC': 24896, '▁Raleigh': 27414, '▁trench': 28293, '▁smile': 3993, '▁journey': 2027, '▁anual': 20833, 'lion': 7325, '▁hungry': 13802, 'aging': 5855, 'CIA': 16805, 'compiled': 16678, '▁sortie': 13939, 'SM': 4212, '▁Sugar': 16382, '▁payable': 19608, '▁ritual': 12898, 'spanning': 25754, 'th': 189, '▁gut': 1806, '▁reveni': 18883, 'bü': 15483, 'works': 13631, 'ută': 15931, '▁necesitate': 29292, '▁arrived': 4363, '▁cider': 23119, '▁probation': 28444, 'buy': 14584, '▁calories': 10004, '▁Kumar': 23400, '▁veterans': 13391, '▁recolt': 31354, 'elia': 13240, '▁Mo': 1290, '▁pigment': 17151, '▁Illustration': 28310, '▁spend': 1492, 'iuni': 5549, '▁Wars': 10265, 'EF': 9976, '▁seamless': 15870, '▁Zug': 15962, '▁mâ': 19593, '▁$40': 23853, 'Essentially': 28389, '▁Kosten': 7121, '▁shock': 8700, '▁warm': 1978, '▁proiectului': 16039, 'wissenschaft': 23108, '▁tendency': 17174, '▁kurzfristig': 30160, '▁vessels': 12979, '▁candidates': 4341, '9.00': 28308, '▁obs': 19963, '▁planting': 14949, '▁discourage': 20191, 'iana': 13662, 'Tagged': 30856, 'Message': 16042, '▁purta': 22442, '▁intimid': 23786, '350': 16975, '▁obstacle': 22820, '▁descriptive': 25444, 'NC': 8137, '▁illustrator': 28662, '▁simplistic': 31794, '▁fundraising': 13820, 'mat': 3357, 'Soft': 28017, 'Delete': 28141, '▁Libraries': 29635, '▁réponse': 11017, '▁soundtrack': 21183, '▁boli': 12903, '▁eclectic': 24939, '▁revolt': 28495, '▁definitiv': 20117, '▁forte': 14188, '▁munci': 16199, '▁retain': 7365, '▁How': 571, '▁Leeds': 23370, 'guiding': 19667, 'rott': 14369, '▁15,': 10725, '▁embark': 17046, 'unui': 1787, '▁shoot': 4279, 'vil': 6372, 'father': 22534, '▁Nahrung': 24667, '▁workspace': 26321, '▁styling': 17236, '▁Outfit': 28001, 'Bildern': 28801, 'row': 3623, '▁Kirk': 17839, 'Isra': 30290, 'pvc': 26415, '▁Nachricht': 19233, '▁russisch': 31201, '▁mistake': 6202, '▁Retrieve': 8298, 'open': 8751, '▁Turner': 19553, 'uci': 6809, '▁imediat': 11969, '▁rêve': 15051, '▁formule': 20233, '▁ghid': 23104, '▁someone': 841, 'rische': 15573, 'mas': 2754, '▁return': 1205, '▁Vers': 13262, '▁penal': 12299, 'FO': 9868, '▁Choir': 29652, '▁did': 410, 'ska': 10717, '▁entwickelt': 10322, '▁selten': 16519, '▁dix': 20679, 'Ident': 21153, '▁domestic': 4422, 'campus': 25532, 'forming': 10454, '▁lecteur': 20944, '▁ansamblu': 25476, '▁novels': 16438, 'étro': 13659, 'ndro': 22357, '▁fiecărui': 28831, '▁viitor': 12897, '▁arriving': 15315, '▁grasimi': 30199, '▁smart': 2592, '▁takes': 1217, '▁antibiotic': 14458, '▁DESIGN': 31864, '▁standard': 1068, '▁Plaza': 17878, '▁installment': 20345, 'post': 5950, '▁$69.': 31828, '▁waist': 13586, '▁hospitals': 9612, 'brief': 25572, '▁iulie': 16338, '▁depends': 5619, '▁Volume': 14816, 'harm': 17178, '▁soir': 12514, '▁thus': 2932, '▁specialize': 14721, '▁Edinburgh': 16504, '▁Harrison': 20429, '▁intampla': 14123, '<extra_id_61>': 32038, '▁Rü': 23745, '▁Ambassador': 20432, '▁Holiday': 9108, '▁cinq': 16109, 'dress': 12039, '▁trotz': 18732, '▁dwarf': 30230, '▁happen': 1837, '▁institutions': 4222, '▁register': 3691, '▁resource': 3487, '▁Dé': 4829, 'IVE': 8087, '▁IV': 10869, '▁distributor': 13473, '▁Estonia': 26047, '▁Neighborhood': 29852, 'set': 2244, '▁potassium': 26110, '31': 3341, '▁Vă': 16777, '▁convi': 22664, '▁depend': 6002, 'Man': 7296, '▁veteran': 11774, '▁Erweiterung': 30346, 'poți': 14121, '▁Stuttgart': 17807, 'Lab': 18506, '▁jaw': 9657, '▁abonament': 31240, '▁Spirit': 5876, '▁corespund': 31966, '▁markets': 3212, 'outefois': 15556, '▁documented': 15552, '▁CEO': 4071, '3,000': 11212, '▁buzunar': 28547, 'wie': 6092, '▁ludique': 31850, '▁beer': 6061, '▁other': 119, '▁Bien': 10520, '▁constructive': 21479, '▁Ideal': 13079, '▁Paw': 22559, 'accounted': 23076, '▁Wedding': 9057, '▁pile': 9872, 'chette': 23401, 'ivă': 15217, 'échelle': 24603, 'mill': 12415, '▁centru': 21685, 'Sfântul': 27000, '▁awhile': 22546, '▁chauffe': 26315, 'participarea': 28937, 'Surgical': 31186, '▁persuasive': 29535, '▁smash': 25669, '▁amount': 866, 'oph': 10775, '▁Accueil': 27010, 'determin': 16372, '▁Particip': 15077, 'overlapping': 31212, '▁boundary': 20430, '▁Coffee': 10429, '▁release': 1576, '▁maker': 13762, '▁alten': 14036, 'rav': 11852, '▁gris': 19116, 'Bank': 21347, '▁aid': 3052, '▁imminent': 27432, '▁gland': 20560, 'jet': 9245, '▁warrior': 20614, '▁cement': 12965, '▁pacienți': 31392, '▁Broadway': 17963, 'Gu': 9105, '▁cheaper': 8139, '▁pagina': 13684, 'rous': 8283, '▁grec': 22904, 'spring': 14662, '<extra_id_86>': 32013, '▁couleur': 11234, 'food': 12437, '▁drawings': 14113, '▁Vertrieb': 26189, '▁bank': 2137, '▁sleeves': 19472, 'comb': 9763, '▁NA': 10144, '▁apartments': 10424, '▁Cycle': 23077, '▁Diesel': 20001, '▁Father': 6946, '▁principale': 12596, 'minder': 23930, '▁Mindest': 25206, '▁Gewicht': 19340, '▁stool': 22429, '▁Step': 5021, '▁Tourist': 21375, '▁Gaza': 20125, 'recessed': 28460, '▁reimbursement': 23960, '▁IN': 3388, 'resident': 15704, '▁enrollment': 17938, '▁nominee': 21077, '▁operations': 2673, '▁beruh': 29510, '▁Renovation': 31918, 'rack': 16729, '▁Tag': 3284, '▁Jésus': 28115, 'agging': 15242, '▁repos': 14173, '▁Kenntnis': 30325, '▁tara': 10853, '▁fierce': 19894, 'Datorita': 30965, '▁aprobare': 27911, '▁level': 593, 'zum': 19001, '▁negatively': 23530, '▁pietre': 28883, 'ologique': 19951, 'ersten': 3593, '▁centres': 11441, 'WE': 15713, 'état': 7795, '▁hired': 10626, '▁trebui': 3932, '▁récolt': 29362, 'denying': 26634, '▁burglar': 26647, '▁brake': 9563, '▁fără': 3799, '...”': 20462, 'phi': 11692, 'stacked': 24052, 'ură': 8968, 'night': 7602, 'möglich': 15043, '▁astazi': 20683, '▁malpractice': 29758, '▁spill': 15487, '▁Cerceta': 31736, '▁balcony': 16940, 'booming': 31036, '▁listening': 5351, 'walk': 12539, 'standen': 13832, '▁Idea': 22834, '▁concentrate': 11345, '▁Disaster': 29798, '▁Schlafzimmer': 27565, '▁Contribu': 21489, '▁Martinez': 26906, 'simo': 28348, '▁Danny': 19445, '▁liked': 6528, '▁Webseite': 12384, '▁préfèr': 29096, '▁Telefon': 16146, '▁fréquent': 23415, 'plugged': 24429, 'mic': 3113, 'thro': 8514, 'shaw': 15622, '▁prima': 3778, '▁Sprint': 23818, 'Sculpt': 26637, '▁instructor': 10617, 'ML': 6858, '▁spui': 27093, '▁mulțumi': 28929, '▁pentru': 191, '▁konnte': 5831, '▁sides': 4458, '▁Ausbildung': 11695, '▁educators': 16530, '▁mortality': 20544, '▁smartphones': 13864, '▁League': 3815, '▁Circus': 30118, '▁Nu': 1174, '▁terminé': 26732, '▁beverage': 17272, '▁lips': 7524, '▁3:1': 29760, '▁engraving': 30957, '▁primary': 2329, '▁supplier': 8106, '▁Clerk': 26744, '▁niveau': 5881, '▁picior': 24932, '▁Raum': 8259, '▁11.': 7806, '▁owners': 2713, 'NR': 9142, '▁diligent': 23172, '▁proto': 23844, 'esthétique': 27244, '▁Direction': 19436, 'vraie': 28120, '▁button': 2218, '▁Eindruck': 24000, '▁aceasta': 2424, '▁octobre': 13964, 'box': 2689, '▁SharePoint': 27032, 'shredded': 28559, '▁Communications': 11538, '▁Jen': 9101, 'zig': 9389, 'NG': 12531, '▁raised': 3279, '▁Holmes': 22960, '▁Vineyard': 29913, '▁related': 1341, '▁Mirror': 18873, '▁sandwiches': 20017, '▁Bücher': 19219, '▁mancare': 24269, '▁textures': 17951, 'Marea': 23821, 'acquisition': 28222, '▁move': 888, '▁zum': 674, 'RS': 5249, '▁Schneider': 23513, '▁âgé': 23103, '▁guys': 3413, '▁Compet': 24797, '▁Brand': 4688, 'by': 969, '▁additional': 1151, '▁Sequ': 26859, '▁come': 369, '▁ergänz': 21037, '▁galben': 21461, '▁secondary': 6980, '▁realized': 5723, '▁kilometri': 25583, '▁applications': 1564, 'dynamic': 16928, '▁sieben': 22134, '▁Handels': 23851, '▁uimit': 31838, '▁Elementary': 18867, '▁suggest': 3130, 'on': 106, '▁Über': 3333, '▁caught': 4682, 'ensuring': 5833, '5)': 9120, '▁cycling': 13771, '▁Danke': 17440, '▁implemented': 6960, '▁altceva': 23028, '▁Radu': 23632, 'not': 2264, '▁strengths': 14350, '.99': 14990, '▁répondre': 13122, '▁Shoes': 23548, '▁Tim': 4485, 'ările': 8451, '▁Si': 925, '▁dose': 6742, '▁restrictions': 9076, '▁Anspruch': 17506, 'reunite': 28207, '▁Ländern': 22655, 'Those': 3405, '▁Miami': 8327, '▁2008.': 10986, 'riel': 14018, '▁1990': 5541, '▁doreșt': 27001, '▁charter': 13382, '▁procedures': 4293, '▁Bruxelles': 22220, '▁Garden': 5072, 'bericht': 16734, 'nies': 14347, '▁testimony': 16956, '▁fra': 8072, 'LY': 5121, '▁optical': 14171, '▁End': 3720, '▁winner': 4668, '▁Crazy': 25199, '▁horsepower': 28906, 'float': 12660, '▁Heiz': 19172, '▁dependence': 24264, '”,': 1241, 'omb': 8038, '▁tranquil': 14249, '▁vive': 24919, '▁GDP': 11284, '▁smoke': 7269, '<extra_id_26>': 32073, 'Tru': 21921, '▁experienced': 1906, '▁Certain': 18264, '▁aeroport': 26689, 'reflected': 12999, '▁Tomorrow': 22365, 'occupation': 24911, 'oeuf': 29919, '▁Erwerb': 29936, '▁Geschlecht': 31218, 'reprendre': 25296, '▁fenêtre': 25301, '▁tool': 1464, '▁digestive': 18557, 'AFP': 26487, '$': 3229, '▁Viele': 12597, 'most': 5463, '▁bulk': 7942, '▁disable': 20597, 'tiré': 25701, 'uge': 12972, 'DES': 18284, 'gefunden': 31202, 'crezi': 27853, '▁quarant': 29359, '▁town': 1511, '▁Semi': 22217, '▁compress': 25294, '▁land': 1322, '▁Mass': 5770, '▁requests': 6166, 'shifted': 21082, '▁facility': 3064, '▁bankruptcy': 14160, 'Spitalul': 27250, 'nivelul': 7741, 'embarqu': 31312, '▁glace': 29598, 'jahr': 8375, '▁Ireland': 5316, 'genommen': 7026, '0-0': 18629, '▁matte': 21880, 'dication': 17530, '<extra_id_25>': 32074, '▁speaks': 12192, 'hospital': 31386, 'Dia': 23770, '▁conduct': 3498, '▁Tor': 3794, '▁08': 12046, '▁revenue': 3751, '▁undertaking': 16529, 'url': 16137, 'Ray': 25619, 'fragen': 13724, '▁glamour': 27939, 'În': 19455, 'mar': 1635, 'ouvri': 30417, '▁aisle': 23597, '▁Written': 22812, 'founded': 23329, 'ţional': 10563, '▁contribute': 4139, '▁geboren': 14060, '▁lump': 20956, '▁sport': 2600, '▁intention': 8762, '▁Cleveland': 13160, '▁Theater': 10639, '▁pseudo': 22726, 'RAT': 24400, 'cantitatea': 30534, '▁olive': 7994, '▁engineers': 8702, 'sourced': 15551, '▁economic': 1456, '▁Wine': 9426, '▁gym': 7868, '▁belonging': 12770, '▁pull': 3197, 'amerikanische': 23384, '▁juridique': 23870, 'Har': 15537, '▁root': 5465, '▁declar': 10928, '▁motoare': 29248, '▁universe': 8084, 'facing': 20490, '▁correlate': 30575, '▁Nikon': 21950, '▁programs': 1356, 'two': 8264, '▁researching': 16619, '▁decor': 4469, '▁parc': 6703, '▁ignore': 9751, 'region': 18145, '▁cleanse': 19831, '▁Pool': 9896, '▁dispozitie': 20928, 'einrichtung': 24862, '▁Pearson': 29300, 'iolo': 31558, '▁for': 21, '▁String': 22341, '▁Cross': 4737, '▁Hosting': 23299, '▁frais': 9011, '▁petite': 6882, '▁waren': 3758, '▁Tat': 9233, '▁million': 770, '▁simplicity': 16538, 'New': 6861, '1%': 4704, '▁Dragon': 10282, '▁Correct': 28223, '▁running': 1180, '▁album': 2306, '▁zeigen': 11085, 'ergeti': 26517, '▁canned': 27104, '▁7,': 7973, '▁entrepreneurs': 9970, '▁robotic': 20407, 'Wallet': 28902, '▁îm': 6169, '▁Schi': 10289, '▁envisage': 23425, '▁volcanic': 27140, '▁basket': 8235, 'enden': 4596, '▁companii': 17635, '▁haine': 18635, '▁încuraj': 27028, '▁easier': 1842, '▁früh': 13558, 'varsity': 31336, '▁stake': 8474, 'glued': 27950, '▁violet': 25208, '▁parametri': 30706, 'wore': 15295, 'rig': 3380, 'kind': 9519, '▁cups': 12294, 'merged': 21726, '▁plans': 1390, '▁tissue': 6316, 'VG': 17217, '▁sector': 2393, 'brechen': 22843, 'Diplom': 30905, 'negotiated': 26262, 'provoking': 28268, '▁esp': 16159, '▁thunderstorm': 31250, '▁opus': 26872, '▁somehow': 9296, '▁Now': 852, 'NO': 7400, '▁petroleum': 27957, 'au': 402, '▁canyon': 24032, '▁advocat': 29945, '▁Judge': 12330, 'depend': 18790, '▁check': 691, '202': 19818, '▁mondial': 12175, 'Jährige': 26298, 'RN': 14151, '▁masses': 20286, '▁chlor': 19782, '▁Lob': 17464, '▁storage': 1606, '▁gourmet': 21300, 'beruf': 20551, '▁endurance': 23085}\n"
          ],
          "name": "stdout"
        }
      ]
    },
    {
      "cell_type": "code",
      "metadata": {
        "colab": {
          "base_uri": "https://localhost:8080/"
        },
        "id": "d06Xm16X9WSp",
        "outputId": "f2fbe7ed-abd4-4703-998c-b31759b8f607"
      },
      "source": [
        "# pass list of sentences\n",
        "tokenized_sample = tokenizer([\"Hello, this one sentence!\", \"This is another sentence.\"])\n",
        "print(tokenized_sample)\n",
        "\n",
        "# check keys within tokenizer output\n",
        "print(tokenized_sample.keys())\n",
        "\n",
        "print(tokenized_sample['input_ids'])\n",
        "print(tokenized_sample['attention_mask'])"
      ],
      "execution_count": null,
      "outputs": [
        {
          "output_type": "stream",
          "text": [
            "{'input_ids': [[8774, 6, 48, 80, 7142, 55, 1], [100, 19, 430, 7142, 5, 1]], 'attention_mask': [[1, 1, 1, 1, 1, 1, 1], [1, 1, 1, 1, 1, 1]]}\n",
            "dict_keys(['input_ids', 'attention_mask'])\n",
            "[[8774, 6, 48, 80, 7142, 55, 1], [100, 19, 430, 7142, 5, 1]]\n",
            "[[1, 1, 1, 1, 1, 1, 1], [1, 1, 1, 1, 1, 1]]\n"
          ],
          "name": "stdout"
        }
      ]
    },
    {
      "cell_type": "code",
      "metadata": {
        "colab": {
          "base_uri": "https://localhost:8080/"
        },
        "id": "qErNQsjM9WSs",
        "outputId": "53a619bf-64ee-4172-8c58-3020659de73b"
      },
      "source": [
        "# To prepare the targets for our model, we need to tokenize them inside the `as_target_tokenizer` context manager \n",
        "# This will make sure the tokenizer uses the special tokens corresponding to the targets\n",
        "with tokenizer.as_target_tokenizer():\n",
        "    print(tokenizer([\"Hello, this one sentence!\", \"This is another sentence.\"]))"
      ],
      "execution_count": null,
      "outputs": [
        {
          "output_type": "stream",
          "text": [
            "{'input_ids': [[8774, 6, 48, 80, 7142, 55, 1], [100, 19, 430, 7142, 5, 1]], 'attention_mask': [[1, 1, 1, 1, 1, 1, 1], [1, 1, 1, 1, 1, 1]]}\n"
          ],
          "name": "stdout"
        }
      ]
    },
    {
      "cell_type": "markdown",
      "metadata": {
        "id": "LfAtSkl2BcoX"
      },
      "source": [
        "## prep data for model"
      ]
    },
    {
      "cell_type": "code",
      "metadata": {
        "id": "vc0BSBLIIrJQ"
      },
      "source": [
        "# if out base model is T5 based, we have to prefix the inputs with \"summarize:\" \n",
        "# the prefix tells model which task to perform (as model can also do translation task)\n",
        "prefix = \"summarize: \"\n",
        "\n",
        "max_input_length = 600\n",
        "max_target_length = 100\n",
        "\n",
        "# data has full_text and summary\n",
        "def preprocess_function(data):\n",
        "    full_texts = [prefix + doc for doc in data['full_text']]\n",
        "\n",
        "    # padding will be dealt with data collator, so we pad examples to the longest length in the batch and not the whole dataset.\n",
        "    model_inputs = tokenizer(full_texts, max_length=max_input_length, truncation=True)\n",
        "\n",
        "    # setup the tokenizer for summary\n",
        "    with tokenizer.as_target_tokenizer():\n",
        "        summary = tokenizer(data['summary'], max_length=max_target_length, truncation=True)\n",
        "\n",
        "    # for summary we don't need attention mask\n",
        "    # model_inputs will have input_ids and attention mask of full text, input_ids (which we store as labels) of summary \n",
        "    model_inputs[\"labels\"] = summary[\"input_ids\"]\n",
        "    return model_inputs"
      ],
      "execution_count": null,
      "outputs": []
    },
    {
      "cell_type": "markdown",
      "metadata": {
        "id": "0lm8ozrJIrJR"
      },
      "source": [
        "This function works with one or several examples. In the case of several examples, the tokenizer will return a list of lists for each key:"
      ]
    },
    {
      "cell_type": "code",
      "metadata": {
        "colab": {
          "base_uri": "https://localhost:8080/"
        },
        "id": "un12WvnI49JK",
        "outputId": "0a73f74a-d801-44ff-fde6-4d7272100e01"
      },
      "source": [
        " # split data into train/test\n",
        " df_train, df_test = train_test_split(df_news, test_size=0.20, random_state=42)\n",
        " df_train.shape, df_test.shape"
      ],
      "execution_count": null,
      "outputs": [
        {
          "output_type": "execute_result",
          "data": {
            "text/plain": [
              "((3516, 3), (880, 3))"
            ]
          },
          "metadata": {
            "tags": []
          },
          "execution_count": 11
        }
      ]
    },
    {
      "cell_type": "code",
      "metadata": {
        "colab": {
          "base_uri": "https://localhost:8080/"
        },
        "id": "O8X-UYFy4vZm",
        "outputId": "bcf3368a-3014-412e-c81e-8a64e355e616"
      },
      "source": [
        "# dataset object for train/test: makes it easier to access batch of data\n",
        "dataset_train = Dataset.from_pandas(df_train[['full_text', 'summary']])\n",
        "dataset_test = Dataset.from_pandas(df_test[['full_text', 'summary']])\n",
        "\n",
        "len(dataset_train), len(dataset_test)"
      ],
      "execution_count": null,
      "outputs": [
        {
          "output_type": "execute_result",
          "data": {
            "text/plain": [
              "(3516, 880)"
            ]
          },
          "metadata": {
            "tags": []
          },
          "execution_count": 12
        }
      ]
    },
    {
      "cell_type": "code",
      "metadata": {
        "colab": {
          "base_uri": "https://localhost:8080/"
        },
        "id": "G7aUZXNyvc-D",
        "outputId": "33c66c61-2abe-4cba-e118-6bf329fbeeaf"
      },
      "source": [
        "dataset_train[0]"
      ],
      "execution_count": null,
      "outputs": [
        {
          "output_type": "execute_result",
          "data": {
            "text/plain": [
              "{'__index_level_0__': 4348,\n",
              " 'full_text': 'Parents will not name their sons Akhilesh now: Adityanath BJP MP Yogi Adityanath has likened Uttar Pradesh Chief Minister Akhilesh Yadav with \\'Aurangzeb\\' and \\'Kans\\', saying parents will now desist from naming their sons Akhilesh.\"Akhilesh did what \\'Aurangzeb\\' and \\'Kans\\' did not do. Due to his deeds, parents will now desist from naming their sons Akhilesh\", he said at an election meeting in Bhadohi.\"Akhilesh is now saying that he would develop the state in next five years, if given a chance, but what was he doing in the past five years?\" he asked.Aurangzeb was a controversial Mughal ruler, while the mythological character of Kans is considered the tyrant ruler of Vrishni kingdom with its capital at Mathura.UP GOVT PATRONISED TERRORISTS: ADITYANATHThe firebrand BJP MP from Gorakhpur said the state government patronised terrorists, anti-socials and rapists.\"Whatever scheme the government ran, it was only for a particular community,\" he alleged.Listing out the work which the BJP would do if voted to power, Adityanath said, \"We will promote traditional industries and send bangles to Akhilesh and Rahul Gandhi from Firozabad bangle industry and constitute anti-Romeo squad for UP minister Azam Khan.\"He said a BJP government in Uttar Pradesh will pave way for Ram temple and that money will be spent on development.FINAL PHASE OF CAMPAIGNING ENDED ON MONDAY',\n",
              " 'summary': 'Criticising the UP Chief Minister, BJP MP Yogi Adityanath on Monday said that parents will now desist from naming their sons Akhilesh. \"Akhilesh did what Aurangzeb and Kans did not do,\" he further alleged. He also accused the UP government of patronising terrorists, anti-socials and rapists. \"Whatever scheme the government ran, it was only for a particular community,\" he added.'}"
            ]
          },
          "metadata": {
            "tags": []
          },
          "execution_count": 50
        }
      ]
    },
    {
      "cell_type": "code",
      "metadata": {
        "colab": {
          "base_uri": "https://localhost:8080/"
        },
        "id": "J6pnAWjo5Cmt",
        "outputId": "afba9b24-5037-46cd-e393-6bd5d3dfbd8c"
      },
      "source": [
        "preprocess_function(dataset_train[:1])"
      ],
      "execution_count": null,
      "outputs": [
        {
          "output_type": "execute_result",
          "data": {
            "text/plain": [
              "{'input_ids': [[21603, 10, 15921, 56, 59, 564, 70, 520, 7, 71, 29392, 965, 107, 230, 10, 1980, 155, 21247, 189, 3, 28065, 5220, 6545, 122, 23, 1980, 155, 21247, 189, 65, 114, 29, 15, 26, 31251, 22660, 5116, 3271, 71, 29392, 965, 107, 4701, 26, 9, 208, 28, 3, 31, 188, 76, 6287, 776, 115, 31, 11, 3, 31, 439, 3247, 31, 6, 2145, 1362, 56, 230, 93, 343, 45, 3, 21990, 70, 520, 7, 71, 29392, 965, 107, 535, 188, 29392, 965, 107, 410, 125, 3, 31, 188, 76, 6287, 776, 115, 31, 11, 3, 31, 439, 3247, 31, 410, 59, 103, 5, 6984, 12, 112, 20, 15, 26, 7, 6, 1362, 56, 230, 93, 343, 45, 3, 21990, 70, 520, 7, 71, 29392, 965, 107, 1686, 3, 88, 243, 44, 46, 4356, 1338, 16, 272, 8399, 32, 107, 23, 535, 188, 29392, 965, 107, 19, 230, 2145, 24, 3, 88, 133, 1344, 8, 538, 16, 416, 874, 203, 6, 3, 99, 787, 3, 9, 1253, 6, 68, 125, 47, 3, 88, 692, 16, 8, 657, 874, 203, 4609, 3, 88, 1380, 5, 188, 76, 6287, 776, 115, 47, 3, 9, 15202, 283, 14439, 138, 21893, 6, 298, 8, 9735, 4478, 1848, 13, 4540, 7, 19, 1702, 8, 3, 17, 63, 3569, 21893, 13, 584, 52, 1273, 29, 23, 14740, 28, 165, 1784, 44, 9762, 2414, 5, 6880, 3, 5577, 18645, 276, 5767, 13044, 19056, 308, 3, 5946, 4630, 13431, 4578, 10, 8502, 15296, 15610, 4611, 634, 1472, 12164, 3, 28065, 5220, 45, 9826, 18965, 3791, 243, 8, 538, 789, 9331, 3375, 10287, 7, 6, 1181, 18, 15745, 7, 11, 3, 5846, 343, 7, 535, 5680, 3258, 5336, 8, 789, 4037, 6, 34, 47, 163, 21, 3, 9, 1090, 573, 976, 3, 88, 3, 12554, 5, 21310, 53, 91, 8, 161, 84, 8, 3, 28065, 133, 103, 3, 99, 3, 11060, 12, 579, 6, 1980, 155, 21247, 189, 243, 6, 96, 1326, 56, 2519, 1435, 5238, 11, 1299, 3, 115, 13247, 7, 12, 71, 29392, 965, 107, 11, 20492, 83, 27056, 45, 3188, 9860, 9, 5514, 3, 115, 13247, 681, 11, 11708, 1181, 18, 448, 7159, 32, 12025, 21, 3, 6880, 6323, 71, 19271, 14420, 535, 3845, 243, 3, 9, 3, 28065, 789, 16, 31251, 22660, 56, 2576, 162, 194, 21, 4425, 7657, 11, 24, 540, 56, 36, 1869, 30, 606, 5, 17630, 4090, 3, 8023, 17892, 3347, 205, 15837, 9822, 13738, 2365, 3, 14920, 2326, 9191, 3, 20399, 12860, 1]], 'attention_mask': [[1, 1, 1, 1, 1, 1, 1, 1, 1, 1, 1, 1, 1, 1, 1, 1, 1, 1, 1, 1, 1, 1, 1, 1, 1, 1, 1, 1, 1, 1, 1, 1, 1, 1, 1, 1, 1, 1, 1, 1, 1, 1, 1, 1, 1, 1, 1, 1, 1, 1, 1, 1, 1, 1, 1, 1, 1, 1, 1, 1, 1, 1, 1, 1, 1, 1, 1, 1, 1, 1, 1, 1, 1, 1, 1, 1, 1, 1, 1, 1, 1, 1, 1, 1, 1, 1, 1, 1, 1, 1, 1, 1, 1, 1, 1, 1, 1, 1, 1, 1, 1, 1, 1, 1, 1, 1, 1, 1, 1, 1, 1, 1, 1, 1, 1, 1, 1, 1, 1, 1, 1, 1, 1, 1, 1, 1, 1, 1, 1, 1, 1, 1, 1, 1, 1, 1, 1, 1, 1, 1, 1, 1, 1, 1, 1, 1, 1, 1, 1, 1, 1, 1, 1, 1, 1, 1, 1, 1, 1, 1, 1, 1, 1, 1, 1, 1, 1, 1, 1, 1, 1, 1, 1, 1, 1, 1, 1, 1, 1, 1, 1, 1, 1, 1, 1, 1, 1, 1, 1, 1, 1, 1, 1, 1, 1, 1, 1, 1, 1, 1, 1, 1, 1, 1, 1, 1, 1, 1, 1, 1, 1, 1, 1, 1, 1, 1, 1, 1, 1, 1, 1, 1, 1, 1, 1, 1, 1, 1, 1, 1, 1, 1, 1, 1, 1, 1, 1, 1, 1, 1, 1, 1, 1, 1, 1, 1, 1, 1, 1, 1, 1, 1, 1, 1, 1, 1, 1, 1, 1, 1, 1, 1, 1, 1, 1, 1, 1, 1, 1, 1, 1, 1, 1, 1, 1, 1, 1, 1, 1, 1, 1, 1, 1, 1, 1, 1, 1, 1, 1, 1, 1, 1, 1, 1, 1, 1, 1, 1, 1, 1, 1, 1, 1, 1, 1, 1, 1, 1, 1, 1, 1, 1, 1, 1, 1, 1, 1, 1, 1, 1, 1, 1, 1, 1, 1, 1, 1, 1, 1, 1, 1, 1, 1, 1, 1, 1, 1, 1, 1, 1, 1, 1, 1, 1, 1, 1, 1, 1, 1, 1, 1, 1, 1, 1, 1, 1, 1, 1, 1, 1, 1, 1, 1, 1, 1, 1, 1, 1, 1, 1, 1, 1, 1, 1, 1, 1, 1, 1, 1, 1, 1, 1, 1, 1, 1, 1, 1, 1, 1, 1, 1, 1, 1, 1, 1, 1, 1, 1, 1, 1, 1, 1, 1, 1, 1, 1, 1, 1, 1, 1, 1]], 'labels': [[9605, 1225, 4890, 8, 3, 6880, 5116, 3271, 6, 3, 28065, 5220, 6545, 122, 23, 1980, 155, 21247, 189, 30, 2089, 243, 24, 1362, 56, 230, 93, 343, 45, 3, 21990, 70, 520, 7, 71, 29392, 965, 107, 5, 96, 188, 29392, 965, 107, 410, 125, 1957, 6287, 776, 115, 11, 4540, 7, 410, 59, 103, 976, 3, 88, 856, 3, 12554, 5, 216, 92, 11970, 8, 3, 6880, 789, 13, 9331, 4890, 10287, 7, 6, 1181, 18, 15745, 7, 11, 3, 5846, 343, 7, 5, 96, 5680, 3258, 5336, 8, 789, 4037, 6, 34, 47, 163, 21, 3, 1]]}"
            ]
          },
          "metadata": {
            "tags": []
          },
          "execution_count": 35
        }
      ]
    },
    {
      "cell_type": "code",
      "metadata": {
        "colab": {
          "base_uri": "https://localhost:8080/"
        },
        "id": "yNFVYe6hQlC_",
        "outputId": "98f3f757-77d5-4413-b779-0adabea646f7"
      },
      "source": [
        "dataset_train[:3]"
      ],
      "execution_count": null,
      "outputs": [
        {
          "output_type": "execute_result",
          "data": {
            "text/plain": [
              "{'__index_level_0__': [4348, 4446, 542],\n",
              " 'full_text': ['Parents will not name their sons Akhilesh now: Adityanath BJP MP Yogi Adityanath has likened Uttar Pradesh Chief Minister Akhilesh Yadav with \\'Aurangzeb\\' and \\'Kans\\', saying parents will now desist from naming their sons Akhilesh.\"Akhilesh did what \\'Aurangzeb\\' and \\'Kans\\' did not do. Due to his deeds, parents will now desist from naming their sons Akhilesh\", he said at an election meeting in Bhadohi.\"Akhilesh is now saying that he would develop the state in next five years, if given a chance, but what was he doing in the past five years?\" he asked.Aurangzeb was a controversial Mughal ruler, while the mythological character of Kans is considered the tyrant ruler of Vrishni kingdom with its capital at Mathura.UP GOVT PATRONISED TERRORISTS: ADITYANATHThe firebrand BJP MP from Gorakhpur said the state government patronised terrorists, anti-socials and rapists.\"Whatever scheme the government ran, it was only for a particular community,\" he alleged.Listing out the work which the BJP would do if voted to power, Adityanath said, \"We will promote traditional industries and send bangles to Akhilesh and Rahul Gandhi from Firozabad bangle industry and constitute anti-Romeo squad for UP minister Azam Khan.\"He said a BJP government in Uttar Pradesh will pave way for Ram temple and that money will be spent on development.FINAL PHASE OF CAMPAIGNING ENDED ON MONDAY',\n",
              "  '10 supercars seized in Chennai for illegal racing While 10 super cars were seized from near Akkarai on East Coast Road on Sunday evening for violating traffic, deeper investigations have revealed the story of a traffic policeman who defied norms and stood against the VIP culture.\\xa0Following the incident, an FIR was filed against 10 persons. The accused were also booked for rash driving, obstructing public servant and hindering him from conducting his duty. \"Apparently, a traffic unit detected the 10 Supercars grouping near VGP, ECR for a rally and informed the control room. Another team detected the speed of the vehicle near Akkarai which exceeded 180km/hr on a stretch that was 60km/hr zone\", explained a police officer. \"What\\'s bad is that they didn\\'t even stop when we intercepted them at Akkarai\", he added. Traffic Inspector Soundarrajan and his team were alerted near the Uthama toll gate as the cars sped away from Akkarai. Soundarrajan, blocked the cars and cordoned them. When he asked for the documentation, the drivers were able to only give them a copy of their driver\\'s license and refused to cooperate.TRAFFIC COP INJUREDThe situation turned ugly when a Lamborghini Aventador tried to break from line and escape. Soundarrajan jumped in front of the car to stop it. But the driver ran over Soundarrajan\\'s foot and escaped. The driver was later identified as Raghav Krishna by the cops and an additional FIR under section 332 IPC was filed against him. Kanathur Police later tracked Raghav\\'s residence in the night and apprehended the vehicle. All 10 drivers were left on station bail. \"We initiated the traffic check after the countless complaints from people. I have done my job and law and order will take it from here,\" said Sounderrajan. But unofficial account stated that there was too much pressure from above who wanted Kanathur Police to release the seized vehicles at once due to their whopping Rs 50 Cr cost. Yet, Soundarrajan, Kanathur police and Neelangarai Assistant Commissioner S Pandian, decided to go ahead with the impounding as for the public safety was more important than costly cars. ',\n",
              "  'Mumbaikars protest outside BMC on 192 unresolved complaints Residents of Khar, Santacruz and Bandra have been protesting since July 7 to demand that the  Brihanmumbai Municipal Corporation (BMC) solve complaints they have filed in the public grievance registration system over the past 18  months. The system was set up in 2015. Fed up with the BMC?s inaction, the residents have been holding silents protests outside H/West ward office in Bandra every Monday and Friday. Members of Khar Advanced Locality Management (ALM) and other residents participate in the protest. ALM president Aftab Siddique said 192 complaints by citizens about civic issues in the past 18 months have not been resolved. A few protesters sit outside the ward office and at Linking Road alternatively to avoid the BMC from taking action against them. Siddique said, ?We have been asking senior BMC officials to meet us since February 17, but they keep cancelling or postponing it.? The residents? complaints include illegal encroachments, drainage issues, potholes, tree cutting and other common problems faced by residents and shopkeepers of Shirley, Khar, Chuim, Santacruz and Bandra areas. Debbie Pereira, a resident of Rajan Shirley gaothan , said, ?The BMC has not acted on my complaints against encroachers around my house. Instead, they sent me a notice saying I have illegal construction inside my 100-year-old house.?The residents now plan to meet the civic chief. ?We have been using sarcastic remarks because the BMC tells us we are the only ones complaining. The BMC registers only 25 grievances per day. We will take this issue up with the civic chief Ajoy Mehta this week,? added Siddique.Assistant municipal commissioner Sharad Ughade told HT, ?A limited number of public grievances are registered on Mondays and Fridays for quality service. The protestors? complaints will be addressed on the said days.?'],\n",
              " 'summary': ['Criticising the UP Chief Minister, BJP MP Yogi Adityanath on Monday said that parents will now desist from naming their sons Akhilesh. \"Akhilesh did what Aurangzeb and Kans did not do,\" he further alleged. He also accused the UP government of patronising terrorists, anti-socials and rapists. \"Whatever scheme the government ran, it was only for a particular community,\" he added.',\n",
              "  'Chennai police on Sunday impounded 10 supercars that were allegedly involved in illegal racing in the city. The cars, estimated to be worth around ?30 crore in total, include two Lamborghinis, a Ferrari, and an Audi. According to the police, the cars were being driven at 180 kmph on a 60 kmph stretch.',\n",
              "  \"Mumbai residents have been protesting outside the Brihanmumbai Municipal Corporation's (BMC) Bandra office every Monday and Friday since July 7 over 192 complaints that haven't been resolved in 18 months. The complaints were filed in BMC's public grievance registration system set up in 2015. The complaints include illegal encroachments, drainage issues, potholes, and tree cutting among others.\"]}"
            ]
          },
          "metadata": {
            "tags": []
          },
          "execution_count": 20
        }
      ]
    },
    {
      "cell_type": "code",
      "metadata": {
        "colab": {
          "base_uri": "https://localhost:8080/"
        },
        "id": "zD1Zk8r-5U1P",
        "outputId": "de3e4dba-71a2-4f0a-bca0-567e6d02bad0"
      },
      "source": [
        "preprocess_function(dataset_train[:3])"
      ],
      "execution_count": null,
      "outputs": [
        {
          "output_type": "execute_result",
          "data": {
            "text/plain": [
              "{'input_ids': [[21603, 10, 15921, 56, 59, 564, 70, 520, 7, 71, 29392, 965, 107, 230, 10, 1980, 155, 21247, 189, 3, 28065, 5220, 6545, 122, 23, 1980, 155, 21247, 189, 65, 114, 29, 15, 26, 31251, 22660, 5116, 3271, 71, 29392, 965, 107, 4701, 26, 9, 208, 28, 3, 31, 188, 76, 6287, 776, 115, 31, 11, 3, 31, 439, 3247, 31, 6, 2145, 1362, 56, 230, 93, 343, 45, 3, 21990, 70, 520, 7, 71, 29392, 965, 107, 535, 188, 29392, 965, 107, 410, 125, 3, 31, 188, 76, 6287, 776, 115, 31, 11, 3, 31, 439, 3247, 31, 410, 59, 103, 5, 6984, 12, 112, 20, 15, 26, 7, 6, 1362, 56, 230, 93, 343, 45, 3, 21990, 70, 520, 7, 71, 29392, 965, 107, 1686, 3, 88, 243, 44, 46, 4356, 1338, 16, 272, 8399, 32, 107, 23, 535, 188, 29392, 965, 107, 19, 230, 2145, 24, 3, 88, 133, 1344, 8, 538, 16, 416, 874, 203, 6, 3, 99, 787, 3, 9, 1253, 6, 68, 125, 47, 3, 88, 692, 16, 8, 657, 874, 203, 4609, 3, 88, 1380, 5, 188, 76, 6287, 776, 115, 47, 3, 9, 15202, 283, 14439, 138, 21893, 6, 298, 8, 9735, 4478, 1848, 13, 4540, 7, 19, 1702, 8, 3, 17, 63, 3569, 21893, 13, 584, 52, 1273, 29, 23, 14740, 28, 165, 1784, 44, 9762, 2414, 5, 6880, 3, 5577, 18645, 276, 5767, 13044, 19056, 308, 3, 5946, 4630, 13431, 4578, 10, 8502, 15296, 15610, 4611, 634, 1472, 12164, 3, 28065, 5220, 45, 9826, 18965, 3791, 243, 8, 538, 789, 9331, 3375, 10287, 7, 6, 1181, 18, 15745, 7, 11, 3, 5846, 343, 7, 535, 5680, 3258, 5336, 8, 789, 4037, 6, 34, 47, 163, 21, 3, 9, 1090, 573, 976, 3, 88, 3, 12554, 5, 21310, 53, 91, 8, 161, 84, 8, 3, 28065, 133, 103, 3, 99, 3, 11060, 12, 579, 6, 1980, 155, 21247, 189, 243, 6, 96, 1326, 56, 2519, 1435, 5238, 11, 1299, 3, 115, 13247, 7, 12, 71, 29392, 965, 107, 11, 20492, 83, 27056, 45, 3188, 9860, 9, 5514, 3, 115, 13247, 681, 11, 11708, 1181, 18, 448, 7159, 32, 12025, 21, 3, 6880, 6323, 71, 19271, 14420, 535, 3845, 243, 3, 9, 3, 28065, 789, 16, 31251, 22660, 56, 2576, 162, 194, 21, 4425, 7657, 11, 24, 540, 56, 36, 1869, 30, 606, 5, 17630, 4090, 3, 8023, 17892, 3347, 205, 15837, 9822, 13738, 2365, 3, 14920, 2326, 9191, 3, 20399, 12860, 1], [21603, 10, 335, 1355, 1720, 7, 3, 27217, 16, 23940, 21, 6016, 8191, 818, 335, 1355, 2948, 130, 3, 27217, 45, 1084, 4823, 4031, 9, 23, 30, 1932, 5458, 2409, 30, 1771, 2272, 21, 27857, 53, 2117, 6, 7231, 17032, 43, 5111, 8, 733, 13, 3, 9, 2117, 2095, 348, 113, 20, 8549, 26, 7982, 7, 11, 8190, 581, 8, 14273, 1543, 5, 6851, 8, 5415, 6, 46, 377, 5705, 47, 5132, 581, 335, 7609, 5, 37, 11970, 130, 92, 13007, 21, 3, 12380, 2191, 6, 3, 32, 115, 7593, 53, 452, 14620, 11, 22190, 53, 376, 45, 13646, 112, 5461, 5, 96, 18729, 6, 3, 9, 2117, 1745, 14619, 8, 335, 2011, 1720, 7, 563, 53, 1084, 584, 8049, 6, 262, 4545, 21, 3, 9, 13980, 11, 4862, 8, 610, 562, 5, 2351, 372, 14619, 8, 1634, 13, 8, 1689, 1084, 4823, 4031, 9, 23, 84, 22080, 8003, 5848, 87, 107, 52, 30, 3, 9, 6606, 24, 47, 1640, 5848, 87, 107, 52, 2901, 1686, 5243, 3, 9, 2095, 5502, 5, 96, 5680, 31, 7, 1282, 19, 24, 79, 737, 31, 17, 237, 1190, 116, 62, 22895, 15, 26, 135, 44, 4823, 4031, 9, 23, 1686, 3, 88, 974, 5, 19273, 19773, 7047, 10116, 7066, 11, 112, 372, 130, 5685, 15, 26, 1084, 8, 412, 17, 1483, 9, 12, 195, 10530, 38, 8, 2948, 3, 7, 3138, 550, 45, 4823, 4031, 9, 23, 5, 7047, 10116, 7066, 6, 12468, 8, 2948, 11, 7496, 782, 26, 135, 5, 366, 3, 88, 1380, 21, 8, 7192, 6, 8, 3863, 130, 3, 179, 12, 163, 428, 135, 3, 9, 2405, 13, 70, 2535, 31, 7, 3344, 11, 12191, 12, 23109, 5, 11359, 9089, 4666, 3, 25032, 3388, 683, 18290, 308, 634, 1419, 2120, 18754, 116, 3, 9, 19211, 1677, 2907, 23, 71, 2169, 7923, 1971, 12, 1733, 45, 689, 11, 6754, 5, 7047, 10116, 7066, 3, 16287, 16, 851, 13, 8, 443, 12, 1190, 34, 5, 299, 8, 2535, 4037, 147, 7047, 10116, 7066, 31, 7, 2418, 11, 3, 28423, 5, 37, 2535, 47, 865, 4313, 38, 22939, 18261, 25983, 57, 8, 7326, 7, 11, 46, 1151, 377, 5705, 365, 1375, 220, 2668, 27, 4051, 47, 5132, 581, 376, 5, 4540, 144, 10666, 5076, 865, 22679, 22939, 18261, 31, 7, 6198, 16, 8, 706, 11, 1120, 60, 107, 14550, 8, 1689, 5, 432, 335, 3863, 130, 646, 30, 2478, 15794, 5, 96, 1326, 16781, 8, 2117, 691, 227, 8, 3, 11394, 11244, 45, 151, 5, 27, 43, 612, 82, 613, 11, 973, 11, 455, 56, 240, 34, 45, 270, 976, 243, 7047, 16841, 7066, 5, 299, 73, 20884, 905, 4568, 24, 132, 47, 396, 231, 1666, 45, 756, 113, 1114, 4540, 144, 10666, 5076, 12, 1576, 8, 3, 27217, 3203, 44, 728, 788, 12, 70, 113, 5341, 11715, 943, 8427, 583, 5, 5201, 6, 7047, 10116, 7066, 6, 4540, 144, 10666, 2095, 11, 1484, 15, 4612, 9, 7253, 9255, 14595, 180, 4266, 8603, 6, 1500, 12, 281, 2177, 28, 8, 256, 8861, 53, 38, 21, 8, 452, 1455, 47, 72, 359, 145, 11855, 2948, 5, 1], [21603, 10, 15810, 4031, 7, 4973, 1067, 272, 3698, 30, 3, 19978, 73, 60, 6065, 15, 26, 11244, 24998, 13, 12877, 52, 6, 4625, 14127, 172, 11, 4483, 52, 9, 43, 118, 4973, 53, 437, 1718, 489, 12, 2173, 24, 8, 7834, 2618, 51, 440, 9441, 16492, 6708, 41, 279, 3698, 61, 4602, 11244, 79, 43, 5132, 16, 8, 452, 20214, 663, 3816, 358, 147, 8, 657, 507, 767, 5, 37, 358, 47, 356, 95, 16, 5337, 10803, 95, 28, 8, 272, 3698, 58, 7, 16, 4787, 6, 8, 2797, 43, 118, 3609, 11237, 7, 4973, 7, 1067, 454, 87, 19069, 3, 2239, 828, 16, 4483, 52, 9, 334, 2089, 11, 1701, 5, 9537, 13, 12877, 52, 8590, 4593, 485, 2159, 41, 4090, 329, 61, 11, 119, 2797, 3716, 16, 8, 4973, 5, 71, 11160, 2753, 71, 89, 10309, 925, 26, 26, 1495, 243, 3, 19978, 11244, 57, 5169, 81, 18671, 807, 16, 8, 657, 507, 767, 43, 59, 118, 13803, 5, 71, 360, 4973, 277, 2561, 1067, 8, 3, 2239, 828, 11, 44, 7505, 53, 2409, 2433, 120, 12, 1792, 8, 272, 3698, 45, 838, 1041, 581, 135, 5, 925, 26, 26, 1495, 243, 6, 3, 58, 1326, 43, 118, 3558, 2991, 272, 3698, 4298, 12, 942, 178, 437, 2083, 12864, 68, 79, 453, 9179, 697, 42, 442, 5041, 53, 34, 5, 58, 37, 2797, 58, 11244, 560, 6016, 3, 35, 75, 29590, 4128, 6, 18771, 807, 6, 815, 9136, 7, 6, 2195, 3753, 11, 119, 1017, 982, 7865, 57, 2797, 11, 1814, 10477, 7, 13, 29951, 6, 12877, 52, 6, 16636, 603, 6, 4625, 14127, 172, 11, 4483, 52, 9, 844, 5, 29120, 1915, 15809, 6, 3, 9, 8141, 13, 13509, 152, 29951, 7922, 32, 6736, 3, 6, 243, 6, 3, 58, 634, 272, 3698, 65, 59, 3, 9925, 30, 82, 11244, 581, 3, 35, 2771, 9, 1703, 7, 300, 82, 629, 5, 3910, 6, 79, 1622, 140, 3, 9, 2103, 2145, 27, 43, 6016, 1449, 1096, 82, 910, 18, 1201, 18, 1490, 629, 5, 58, 634, 2797, 230, 515, 12, 942, 8, 18671, 5752, 5, 3, 58, 1326, 43, 118, 338, 3, 7, 4667, 10057, 21029, 250, 8, 272, 3698, 817, 7, 178, 62, 33, 8, 163, 2102, 24184, 5, 37, 272, 3698, 3691, 7, 163, 944, 20214, 663, 7, 399, 239, 5, 101, 56, 240, 48, 962, 95, 28, 8, 18671, 5752, 71, 1927, 63, 1212, 107, 17, 9, 48, 471, 6, 58, 974, 925, 26, 26, 1495, 5, 188, 7, 7, 343, 288, 10516, 24476, 3926, 5672, 412, 122, 8399, 15, 1219, 3, 10966, 6, 3, 58, 188, 1643, 381, 13, 452, 20214, 663, 7, 33, 3366, 30, 2089, 7, 11, 1701, 7, 21, 463, 313, 5, 37, 4973, 127, 7, 58, 11244, 56, 36, 8705, 30, 8, 243, 477, 5, 58, 1]], 'attention_mask': [[1, 1, 1, 1, 1, 1, 1, 1, 1, 1, 1, 1, 1, 1, 1, 1, 1, 1, 1, 1, 1, 1, 1, 1, 1, 1, 1, 1, 1, 1, 1, 1, 1, 1, 1, 1, 1, 1, 1, 1, 1, 1, 1, 1, 1, 1, 1, 1, 1, 1, 1, 1, 1, 1, 1, 1, 1, 1, 1, 1, 1, 1, 1, 1, 1, 1, 1, 1, 1, 1, 1, 1, 1, 1, 1, 1, 1, 1, 1, 1, 1, 1, 1, 1, 1, 1, 1, 1, 1, 1, 1, 1, 1, 1, 1, 1, 1, 1, 1, 1, 1, 1, 1, 1, 1, 1, 1, 1, 1, 1, 1, 1, 1, 1, 1, 1, 1, 1, 1, 1, 1, 1, 1, 1, 1, 1, 1, 1, 1, 1, 1, 1, 1, 1, 1, 1, 1, 1, 1, 1, 1, 1, 1, 1, 1, 1, 1, 1, 1, 1, 1, 1, 1, 1, 1, 1, 1, 1, 1, 1, 1, 1, 1, 1, 1, 1, 1, 1, 1, 1, 1, 1, 1, 1, 1, 1, 1, 1, 1, 1, 1, 1, 1, 1, 1, 1, 1, 1, 1, 1, 1, 1, 1, 1, 1, 1, 1, 1, 1, 1, 1, 1, 1, 1, 1, 1, 1, 1, 1, 1, 1, 1, 1, 1, 1, 1, 1, 1, 1, 1, 1, 1, 1, 1, 1, 1, 1, 1, 1, 1, 1, 1, 1, 1, 1, 1, 1, 1, 1, 1, 1, 1, 1, 1, 1, 1, 1, 1, 1, 1, 1, 1, 1, 1, 1, 1, 1, 1, 1, 1, 1, 1, 1, 1, 1, 1, 1, 1, 1, 1, 1, 1, 1, 1, 1, 1, 1, 1, 1, 1, 1, 1, 1, 1, 1, 1, 1, 1, 1, 1, 1, 1, 1, 1, 1, 1, 1, 1, 1, 1, 1, 1, 1, 1, 1, 1, 1, 1, 1, 1, 1, 1, 1, 1, 1, 1, 1, 1, 1, 1, 1, 1, 1, 1, 1, 1, 1, 1, 1, 1, 1, 1, 1, 1, 1, 1, 1, 1, 1, 1, 1, 1, 1, 1, 1, 1, 1, 1, 1, 1, 1, 1, 1, 1, 1, 1, 1, 1, 1, 1, 1, 1, 1, 1, 1, 1, 1, 1, 1, 1, 1, 1, 1, 1, 1, 1, 1, 1, 1, 1, 1, 1, 1, 1, 1, 1, 1, 1, 1, 1, 1, 1, 1, 1, 1, 1, 1, 1, 1, 1, 1, 1, 1, 1, 1, 1, 1, 1, 1, 1, 1], [1, 1, 1, 1, 1, 1, 1, 1, 1, 1, 1, 1, 1, 1, 1, 1, 1, 1, 1, 1, 1, 1, 1, 1, 1, 1, 1, 1, 1, 1, 1, 1, 1, 1, 1, 1, 1, 1, 1, 1, 1, 1, 1, 1, 1, 1, 1, 1, 1, 1, 1, 1, 1, 1, 1, 1, 1, 1, 1, 1, 1, 1, 1, 1, 1, 1, 1, 1, 1, 1, 1, 1, 1, 1, 1, 1, 1, 1, 1, 1, 1, 1, 1, 1, 1, 1, 1, 1, 1, 1, 1, 1, 1, 1, 1, 1, 1, 1, 1, 1, 1, 1, 1, 1, 1, 1, 1, 1, 1, 1, 1, 1, 1, 1, 1, 1, 1, 1, 1, 1, 1, 1, 1, 1, 1, 1, 1, 1, 1, 1, 1, 1, 1, 1, 1, 1, 1, 1, 1, 1, 1, 1, 1, 1, 1, 1, 1, 1, 1, 1, 1, 1, 1, 1, 1, 1, 1, 1, 1, 1, 1, 1, 1, 1, 1, 1, 1, 1, 1, 1, 1, 1, 1, 1, 1, 1, 1, 1, 1, 1, 1, 1, 1, 1, 1, 1, 1, 1, 1, 1, 1, 1, 1, 1, 1, 1, 1, 1, 1, 1, 1, 1, 1, 1, 1, 1, 1, 1, 1, 1, 1, 1, 1, 1, 1, 1, 1, 1, 1, 1, 1, 1, 1, 1, 1, 1, 1, 1, 1, 1, 1, 1, 1, 1, 1, 1, 1, 1, 1, 1, 1, 1, 1, 1, 1, 1, 1, 1, 1, 1, 1, 1, 1, 1, 1, 1, 1, 1, 1, 1, 1, 1, 1, 1, 1, 1, 1, 1, 1, 1, 1, 1, 1, 1, 1, 1, 1, 1, 1, 1, 1, 1, 1, 1, 1, 1, 1, 1, 1, 1, 1, 1, 1, 1, 1, 1, 1, 1, 1, 1, 1, 1, 1, 1, 1, 1, 1, 1, 1, 1, 1, 1, 1, 1, 1, 1, 1, 1, 1, 1, 1, 1, 1, 1, 1, 1, 1, 1, 1, 1, 1, 1, 1, 1, 1, 1, 1, 1, 1, 1, 1, 1, 1, 1, 1, 1, 1, 1, 1, 1, 1, 1, 1, 1, 1, 1, 1, 1, 1, 1, 1, 1, 1, 1, 1, 1, 1, 1, 1, 1, 1, 1, 1, 1, 1, 1, 1, 1, 1, 1, 1, 1, 1, 1, 1, 1, 1, 1, 1, 1, 1, 1, 1, 1, 1, 1, 1, 1, 1, 1, 1, 1, 1, 1, 1, 1, 1, 1, 1, 1, 1, 1, 1, 1, 1, 1, 1, 1, 1, 1, 1, 1, 1, 1, 1, 1, 1, 1, 1, 1, 1, 1, 1, 1, 1, 1, 1, 1, 1, 1, 1, 1, 1, 1, 1, 1, 1, 1, 1, 1, 1, 1, 1, 1, 1, 1, 1, 1, 1, 1, 1, 1, 1, 1, 1, 1, 1, 1, 1, 1, 1, 1, 1, 1, 1, 1, 1, 1, 1, 1, 1, 1, 1, 1, 1, 1, 1, 1, 1, 1, 1, 1, 1, 1, 1, 1, 1, 1, 1, 1, 1, 1, 1, 1, 1, 1, 1, 1, 1, 1, 1, 1, 1, 1], [1, 1, 1, 1, 1, 1, 1, 1, 1, 1, 1, 1, 1, 1, 1, 1, 1, 1, 1, 1, 1, 1, 1, 1, 1, 1, 1, 1, 1, 1, 1, 1, 1, 1, 1, 1, 1, 1, 1, 1, 1, 1, 1, 1, 1, 1, 1, 1, 1, 1, 1, 1, 1, 1, 1, 1, 1, 1, 1, 1, 1, 1, 1, 1, 1, 1, 1, 1, 1, 1, 1, 1, 1, 1, 1, 1, 1, 1, 1, 1, 1, 1, 1, 1, 1, 1, 1, 1, 1, 1, 1, 1, 1, 1, 1, 1, 1, 1, 1, 1, 1, 1, 1, 1, 1, 1, 1, 1, 1, 1, 1, 1, 1, 1, 1, 1, 1, 1, 1, 1, 1, 1, 1, 1, 1, 1, 1, 1, 1, 1, 1, 1, 1, 1, 1, 1, 1, 1, 1, 1, 1, 1, 1, 1, 1, 1, 1, 1, 1, 1, 1, 1, 1, 1, 1, 1, 1, 1, 1, 1, 1, 1, 1, 1, 1, 1, 1, 1, 1, 1, 1, 1, 1, 1, 1, 1, 1, 1, 1, 1, 1, 1, 1, 1, 1, 1, 1, 1, 1, 1, 1, 1, 1, 1, 1, 1, 1, 1, 1, 1, 1, 1, 1, 1, 1, 1, 1, 1, 1, 1, 1, 1, 1, 1, 1, 1, 1, 1, 1, 1, 1, 1, 1, 1, 1, 1, 1, 1, 1, 1, 1, 1, 1, 1, 1, 1, 1, 1, 1, 1, 1, 1, 1, 1, 1, 1, 1, 1, 1, 1, 1, 1, 1, 1, 1, 1, 1, 1, 1, 1, 1, 1, 1, 1, 1, 1, 1, 1, 1, 1, 1, 1, 1, 1, 1, 1, 1, 1, 1, 1, 1, 1, 1, 1, 1, 1, 1, 1, 1, 1, 1, 1, 1, 1, 1, 1, 1, 1, 1, 1, 1, 1, 1, 1, 1, 1, 1, 1, 1, 1, 1, 1, 1, 1, 1, 1, 1, 1, 1, 1, 1, 1, 1, 1, 1, 1, 1, 1, 1, 1, 1, 1, 1, 1, 1, 1, 1, 1, 1, 1, 1, 1, 1, 1, 1, 1, 1, 1, 1, 1, 1, 1, 1, 1, 1, 1, 1, 1, 1, 1, 1, 1, 1, 1, 1, 1, 1, 1, 1, 1, 1, 1, 1, 1, 1, 1, 1, 1, 1, 1, 1, 1, 1, 1, 1, 1, 1, 1, 1, 1, 1, 1, 1, 1, 1, 1, 1, 1, 1, 1, 1, 1, 1, 1, 1, 1, 1, 1, 1, 1, 1, 1, 1, 1, 1, 1, 1, 1, 1, 1, 1, 1, 1, 1, 1, 1, 1, 1, 1, 1, 1, 1, 1, 1, 1, 1, 1, 1, 1, 1, 1, 1, 1, 1, 1, 1, 1, 1, 1, 1, 1, 1, 1, 1, 1, 1, 1, 1, 1, 1, 1, 1, 1, 1, 1, 1, 1, 1]], 'labels': [[9605, 1225, 4890, 8, 3, 6880, 5116, 3271, 6, 3, 28065, 5220, 6545, 122, 23, 1980, 155, 21247, 189, 30, 2089, 243, 24, 1362, 56, 230, 93, 343, 45, 3, 21990, 70, 520, 7, 71, 29392, 965, 107, 5, 96, 188, 29392, 965, 107, 410, 125, 1957, 6287, 776, 115, 11, 4540, 7, 410, 59, 103, 976, 3, 88, 856, 3, 12554, 5, 216, 92, 11970, 8, 3, 6880, 789, 13, 9331, 4890, 10287, 7, 6, 1181, 18, 15745, 7, 11, 3, 5846, 343, 7, 5, 96, 5680, 3258, 5336, 8, 789, 4037, 6, 34, 47, 163, 21, 3, 1], [23940, 2095, 30, 1771, 4840, 14471, 335, 1355, 1720, 7, 24, 130, 3, 18280, 1381, 16, 6016, 8191, 16, 8, 690, 5, 37, 2948, 6, 5861, 12, 36, 1494, 300, 3, 58, 1458, 23095, 16, 792, 6, 560, 192, 19211, 1677, 2907, 159, 6, 3, 9, 21945, 6, 11, 46, 9835, 5, 2150, 12, 8, 2095, 6, 8, 2948, 130, 271, 6737, 44, 8003, 3, 157, 7656, 30, 3, 9, 1640, 3, 157, 7656, 6606, 5, 1], [15810, 2797, 43, 118, 4973, 53, 1067, 8, 7834, 2618, 51, 440, 9441, 16492, 6708, 31, 7, 41, 279, 3698, 61, 4483, 52, 9, 828, 334, 2089, 11, 1701, 437, 1718, 489, 147, 3, 19978, 11244, 24, 43, 29, 31, 17, 118, 13803, 16, 507, 767, 5, 37, 11244, 130, 5132, 16, 272, 3698, 31, 7, 452, 20214, 663, 3816, 358, 356, 95, 16, 5337, 37, 11244, 560, 6016, 3, 35, 75, 29590, 4128, 6, 18771, 807, 6, 815, 9136, 7, 6, 11, 2195, 3753, 859, 717, 5, 1]]}"
            ]
          },
          "metadata": {
            "tags": []
          },
          "execution_count": 51
        }
      ]
    },
    {
      "cell_type": "code",
      "metadata": {
        "id": "DDtsaJeVIrJT",
        "colab": {
          "base_uri": "https://localhost:8080/",
          "height": 114,
          "referenced_widgets": [
            "834710b16a13410d95a3478c841522f9",
            "80fc1bf4bb624d84aaee81489a625290",
            "e2636b979eaa4ad8a90a318d17429803",
            "7a62e9f50b3c408db176dc458815e4d2",
            "570d4cb92a8241b9918feae3c1ad0854",
            "e30fffce61ab48419415d51a4e96abb6",
            "f1e251cbcf834e5ca144bb87fc67c7ea",
            "4ce1a2f30cf24679a89e9988b629eaf3",
            "9f5052605b7d4d31b813995c2b50a419",
            "abb6eb9255c54ec89284a45f753a5052",
            "5589c4db4fd642ab8f6f56309748d126",
            "8fcf082e7ebf401eb20ee7e62675b04d",
            "6b5c5f50b48d4569a3aaa0d68db4dc3d",
            "0986969a757342d2ad3097dbe46061cb",
            "674e6270fec940cf959b80205c0578f1",
            "defbd103c62944bbb2edeeec7687a4f3"
          ]
        },
        "outputId": "894eca3f-d4d8-44fa-80a8-74cfa836f719"
      },
      "source": [
        "# apply preprocess_function to all elems of dataset train/test object\n",
        "# batched=True to encode the texts by batches together\n",
        "# this also caches the results to avoid spending time on this step the next time we run the code\n",
        "# we can pass load_from_cache_file=False inside map(...) to not use the cached files and force the preprocessing to be applied again\n",
        "\n",
        "dataset_train_tokenized = dataset_train.map(preprocess_function, batched=True)\n",
        "dataset_test_tokenized = dataset_test.map(preprocess_function, batched=True)"
      ],
      "execution_count": null,
      "outputs": [
        {
          "output_type": "display_data",
          "data": {
            "application/vnd.jupyter.widget-view+json": {
              "model_id": "834710b16a13410d95a3478c841522f9",
              "version_minor": 0,
              "version_major": 2
            },
            "text/plain": [
              "HBox(children=(FloatProgress(value=0.0, max=4.0), HTML(value='')))"
            ]
          },
          "metadata": {
            "tags": []
          }
        },
        {
          "output_type": "stream",
          "text": [
            "\n"
          ],
          "name": "stdout"
        },
        {
          "output_type": "display_data",
          "data": {
            "application/vnd.jupyter.widget-view+json": {
              "model_id": "9f5052605b7d4d31b813995c2b50a419",
              "version_minor": 0,
              "version_major": 2
            },
            "text/plain": [
              "HBox(children=(FloatProgress(value=0.0, max=1.0), HTML(value='')))"
            ]
          },
          "metadata": {
            "tags": []
          }
        },
        {
          "output_type": "stream",
          "text": [
            "\n"
          ],
          "name": "stdout"
        }
      ]
    },
    {
      "cell_type": "code",
      "metadata": {
        "colab": {
          "base_uri": "https://localhost:8080/"
        },
        "id": "l9IspflqDXqv",
        "outputId": "819bda03-c22c-410a-a76c-4c07d6c73dcc"
      },
      "source": [
        "len(dataset_train_tokenized), len(dataset_test_tokenized)"
      ],
      "execution_count": null,
      "outputs": [
        {
          "output_type": "execute_result",
          "data": {
            "text/plain": [
              "(3516, 880)"
            ]
          },
          "metadata": {
            "tags": []
          },
          "execution_count": 25
        }
      ]
    },
    {
      "cell_type": "code",
      "metadata": {
        "colab": {
          "base_uri": "https://localhost:8080/"
        },
        "id": "Ry3U8wBxTGx2",
        "outputId": "e8dc6dc9-b8e7-45d9-ee4c-b512dc3aa0b6"
      },
      "source": [
        "# input_ids, attention_mask is for full_text\n",
        "# labels is for summary\n",
        "print(dataset_train_tokenized[0].keys())\n",
        "print(dataset_train_tokenized[0])"
      ],
      "execution_count": null,
      "outputs": [
        {
          "output_type": "stream",
          "text": [
            "dict_keys(['__index_level_0__', 'attention_mask', 'full_text', 'input_ids', 'labels', 'summary'])\n",
            "{'__index_level_0__': 4348, 'attention_mask': [1, 1, 1, 1, 1, 1, 1, 1, 1, 1, 1, 1, 1, 1, 1, 1, 1, 1, 1, 1, 1, 1, 1, 1, 1, 1, 1, 1, 1, 1, 1, 1, 1, 1, 1, 1, 1, 1, 1, 1, 1, 1, 1, 1, 1, 1, 1, 1, 1, 1, 1, 1, 1, 1, 1, 1, 1, 1, 1, 1, 1, 1, 1, 1, 1, 1, 1, 1, 1, 1, 1, 1, 1, 1, 1, 1, 1, 1, 1, 1, 1, 1, 1, 1, 1, 1, 1, 1, 1, 1, 1, 1, 1, 1, 1, 1, 1, 1, 1, 1, 1, 1, 1, 1, 1, 1, 1, 1, 1, 1, 1, 1, 1, 1, 1, 1, 1, 1, 1, 1, 1, 1, 1, 1, 1, 1, 1, 1, 1, 1, 1, 1, 1, 1, 1, 1, 1, 1, 1, 1, 1, 1, 1, 1, 1, 1, 1, 1, 1, 1, 1, 1, 1, 1, 1, 1, 1, 1, 1, 1, 1, 1, 1, 1, 1, 1, 1, 1, 1, 1, 1, 1, 1, 1, 1, 1, 1, 1, 1, 1, 1, 1, 1, 1, 1, 1, 1, 1, 1, 1, 1, 1, 1, 1, 1, 1, 1, 1, 1, 1, 1, 1, 1, 1, 1, 1, 1, 1, 1, 1, 1, 1, 1, 1, 1, 1, 1, 1, 1, 1, 1, 1, 1, 1, 1, 1, 1, 1, 1, 1, 1, 1, 1, 1, 1, 1, 1, 1, 1, 1, 1, 1, 1, 1, 1, 1, 1, 1, 1, 1, 1, 1, 1, 1, 1, 1, 1, 1, 1, 1, 1, 1, 1, 1, 1, 1, 1, 1, 1, 1, 1, 1, 1, 1, 1, 1, 1, 1, 1, 1, 1, 1, 1, 1, 1, 1, 1, 1, 1, 1, 1, 1, 1, 1, 1, 1, 1, 1, 1, 1, 1, 1, 1, 1, 1, 1, 1, 1, 1, 1, 1, 1, 1, 1, 1, 1, 1, 1, 1, 1, 1, 1, 1, 1, 1, 1, 1, 1, 1, 1, 1, 1, 1, 1, 1, 1, 1, 1, 1, 1, 1, 1, 1, 1, 1, 1, 1, 1, 1, 1, 1, 1, 1, 1, 1, 1, 1, 1, 1, 1, 1, 1, 1, 1, 1, 1, 1, 1, 1, 1, 1, 1, 1, 1, 1, 1, 1, 1, 1, 1, 1, 1, 1, 1, 1, 1, 1, 1, 1, 1, 1, 1, 1, 1, 1, 1, 1, 1, 1, 1, 1, 1, 1, 1, 1, 1, 1, 1, 1, 1, 1], 'full_text': 'Parents will not name their sons Akhilesh now: Adityanath BJP MP Yogi Adityanath has likened Uttar Pradesh Chief Minister Akhilesh Yadav with \\'Aurangzeb\\' and \\'Kans\\', saying parents will now desist from naming their sons Akhilesh.\"Akhilesh did what \\'Aurangzeb\\' and \\'Kans\\' did not do. Due to his deeds, parents will now desist from naming their sons Akhilesh\", he said at an election meeting in Bhadohi.\"Akhilesh is now saying that he would develop the state in next five years, if given a chance, but what was he doing in the past five years?\" he asked.Aurangzeb was a controversial Mughal ruler, while the mythological character of Kans is considered the tyrant ruler of Vrishni kingdom with its capital at Mathura.UP GOVT PATRONISED TERRORISTS: ADITYANATHThe firebrand BJP MP from Gorakhpur said the state government patronised terrorists, anti-socials and rapists.\"Whatever scheme the government ran, it was only for a particular community,\" he alleged.Listing out the work which the BJP would do if voted to power, Adityanath said, \"We will promote traditional industries and send bangles to Akhilesh and Rahul Gandhi from Firozabad bangle industry and constitute anti-Romeo squad for UP minister Azam Khan.\"He said a BJP government in Uttar Pradesh will pave way for Ram temple and that money will be spent on development.FINAL PHASE OF CAMPAIGNING ENDED ON MONDAY', 'input_ids': [21603, 10, 15921, 56, 59, 564, 70, 520, 7, 71, 29392, 965, 107, 230, 10, 1980, 155, 21247, 189, 3, 28065, 5220, 6545, 122, 23, 1980, 155, 21247, 189, 65, 114, 29, 15, 26, 31251, 22660, 5116, 3271, 71, 29392, 965, 107, 4701, 26, 9, 208, 28, 3, 31, 188, 76, 6287, 776, 115, 31, 11, 3, 31, 439, 3247, 31, 6, 2145, 1362, 56, 230, 93, 343, 45, 3, 21990, 70, 520, 7, 71, 29392, 965, 107, 535, 188, 29392, 965, 107, 410, 125, 3, 31, 188, 76, 6287, 776, 115, 31, 11, 3, 31, 439, 3247, 31, 410, 59, 103, 5, 6984, 12, 112, 20, 15, 26, 7, 6, 1362, 56, 230, 93, 343, 45, 3, 21990, 70, 520, 7, 71, 29392, 965, 107, 1686, 3, 88, 243, 44, 46, 4356, 1338, 16, 272, 8399, 32, 107, 23, 535, 188, 29392, 965, 107, 19, 230, 2145, 24, 3, 88, 133, 1344, 8, 538, 16, 416, 874, 203, 6, 3, 99, 787, 3, 9, 1253, 6, 68, 125, 47, 3, 88, 692, 16, 8, 657, 874, 203, 4609, 3, 88, 1380, 5, 188, 76, 6287, 776, 115, 47, 3, 9, 15202, 283, 14439, 138, 21893, 6, 298, 8, 9735, 4478, 1848, 13, 4540, 7, 19, 1702, 8, 3, 17, 63, 3569, 21893, 13, 584, 52, 1273, 29, 23, 14740, 28, 165, 1784, 44, 9762, 2414, 5, 6880, 3, 5577, 18645, 276, 5767, 13044, 19056, 308, 3, 5946, 4630, 13431, 4578, 10, 8502, 15296, 15610, 4611, 634, 1472, 12164, 3, 28065, 5220, 45, 9826, 18965, 3791, 243, 8, 538, 789, 9331, 3375, 10287, 7, 6, 1181, 18, 15745, 7, 11, 3, 5846, 343, 7, 535, 5680, 3258, 5336, 8, 789, 4037, 6, 34, 47, 163, 21, 3, 9, 1090, 573, 976, 3, 88, 3, 12554, 5, 21310, 53, 91, 8, 161, 84, 8, 3, 28065, 133, 103, 3, 99, 3, 11060, 12, 579, 6, 1980, 155, 21247, 189, 243, 6, 96, 1326, 56, 2519, 1435, 5238, 11, 1299, 3, 115, 13247, 7, 12, 71, 29392, 965, 107, 11, 20492, 83, 27056, 45, 3188, 9860, 9, 5514, 3, 115, 13247, 681, 11, 11708, 1181, 18, 448, 7159, 32, 12025, 21, 3, 6880, 6323, 71, 19271, 14420, 535, 3845, 243, 3, 9, 3, 28065, 789, 16, 31251, 22660, 56, 2576, 162, 194, 21, 4425, 7657, 11, 24, 540, 56, 36, 1869, 30, 606, 5, 17630, 4090, 3, 8023, 17892, 3347, 205, 15837, 9822, 13738, 2365, 3, 14920, 2326, 9191, 3, 20399, 12860, 1], 'labels': [9605, 1225, 4890, 8, 3, 6880, 5116, 3271, 6, 3, 28065, 5220, 6545, 122, 23, 1980, 155, 21247, 189, 30, 2089, 243, 24, 1362, 56, 230, 93, 343, 45, 3, 21990, 70, 520, 7, 71, 29392, 965, 107, 5, 96, 188, 29392, 965, 107, 410, 125, 1957, 6287, 776, 115, 11, 4540, 7, 410, 59, 103, 976, 3, 88, 856, 3, 12554, 5, 216, 92, 11970, 8, 3, 6880, 789, 13, 9331, 4890, 10287, 7, 6, 1181, 18, 15745, 7, 11, 3, 5846, 343, 7, 5, 96, 5680, 3258, 5336, 8, 789, 4037, 6, 34, 47, 163, 21, 3, 1], 'summary': 'Criticising the UP Chief Minister, BJP MP Yogi Adityanath on Monday said that parents will now desist from naming their sons Akhilesh. \"Akhilesh did what Aurangzeb and Kans did not do,\" he further alleged. He also accused the UP government of patronising terrorists, anti-socials and rapists. \"Whatever scheme the government ran, it was only for a particular community,\" he added.'}\n"
          ],
          "name": "stdout"
        }
      ]
    },
    {
      "cell_type": "markdown",
      "metadata": {
        "id": "545PP3o8IrJV"
      },
      "source": [
        "## fine-tuning the model"
      ]
    },
    {
      "cell_type": "code",
      "metadata": {
        "id": "TlqNaB8jIrJW"
      },
      "source": [
        "# load rouge metric\n",
        "metric = load_metric(\"rouge\")\n",
        "\n",
        "# load t5-base model\n",
        "model_summ = AutoModelForSeq2SeqLM.from_pretrained(base_model)"
      ],
      "execution_count": null,
      "outputs": []
    },
    {
      "cell_type": "markdown",
      "metadata": {
        "id": "ZCPRKA-rXDEC"
      },
      "source": [
        "### o/p check before finetuning"
      ]
    },
    {
      "cell_type": "code",
      "metadata": {
        "id": "0fae731MTp2U"
      },
      "source": [
        "def get_summary(summarizer_object, text, min_length=10, max_length=100):\n",
        "    summary = [elem['summary_text'] for elem in summarizer_object(text, min_length=min_length, max_length=max_length)]\n",
        "    display(HTML(pd.DataFrame({\"text\":text, \"summary\":summary}).to_html()))"
      ],
      "execution_count": null,
      "outputs": []
    },
    {
      "cell_type": "code",
      "metadata": {
        "id": "6_s1KsSECjgm"
      },
      "source": [
        "# pass finetuned model and tokenizer\n",
        "# device=0 is gpu\n",
        "summarizer_before_train = pipeline(\"summarization\", model=model_summ, tokenizer=tokenizer, device=0)"
      ],
      "execution_count": null,
      "outputs": []
    },
    {
      "cell_type": "code",
      "metadata": {
        "colab": {
          "base_uri": "https://localhost:8080/"
        },
        "id": "IJ3hQtUJTsfm",
        "outputId": "b6e32f77-7a1f-434f-8c28-50ce0d067f55"
      },
      "source": [
        "# returns a list of dict with summary \n",
        "summarizer_before_train([\"This is quite good. Hello World\", \"This is quite good\"], min_length=3, max_length=3)"
      ],
      "execution_count": null,
      "outputs": [
        {
          "output_type": "execute_result",
          "data": {
            "text/plain": [
              "[{'summary_text': 'Hello World'}, {'summary_text': 'This is'}]"
            ]
          },
          "metadata": {
            "tags": []
          },
          "execution_count": 81
        }
      ]
    },
    {
      "cell_type": "code",
      "metadata": {
        "colab": {
          "base_uri": "https://localhost:8080/",
          "height": 295
        },
        "id": "ZmpGUYo3lrG3",
        "outputId": "0c8201ef-4466-430a-dcc5-713414a65fb3"
      },
      "source": [
        "get_summary(summarizer_before_train, df_train[:1].full_text.tolist())"
      ],
      "execution_count": null,
      "outputs": [
        {
          "output_type": "display_data",
          "data": {
            "text/html": [
              "<table border=\"1\" class=\"dataframe\">\n",
              "  <thead>\n",
              "    <tr style=\"text-align: right;\">\n",
              "      <th></th>\n",
              "      <th>text</th>\n",
              "      <th>summary</th>\n",
              "    </tr>\n",
              "  </thead>\n",
              "  <tbody>\n",
              "    <tr>\n",
              "      <th>0</th>\n",
              "      <td>Parents will not name their sons Akhilesh now: Adityanath BJP MP Yogi Adityanath has likened Uttar Pradesh Chief Minister Akhilesh Yadav with 'Aurangzeb' and 'Kans', saying parents will now desist from naming their sons Akhilesh.\"Akhilesh did what 'Aurangzeb' and 'Kans' did not do. Due to his deeds, parents will now desist from naming their sons Akhilesh\", he said at an election meeting in Bhadohi.\"Akhilesh is now saying that he would develop the state in next five years, if given a chance, but what was he doing in the past five years?\" he asked.Aurangzeb was a controversial Mughal ruler, while the mythological character of Kans is considered the tyrant ruler of Vrishni kingdom with its capital at Mathura.UP GOVT PATRONISED TERRORISTS: ADITYANATHThe firebrand BJP MP from Gorakhpur said the state government patronised terrorists, anti-socials and rapists.\"Whatever scheme the government ran, it was only for a particular community,\" he alleged.Listing out the work which the BJP would do if voted to power, Adityanath said, \"We will promote traditional industries and send bangles to Akhilesh and Rahul Gandhi from Firozabad bangle industry and constitute anti-Romeo squad for UP minister Azam Khan.\"He said a BJP government in Uttar Pradesh will pave way for Ram temple and that money will be spent on development.FINAL PHASE OF CAMPAIGNING ENDED ON MONDAY</td>\n",
              "      <td>parents will not name their sons Akhilesh now, a BJP MP says . he likens 'Aurangzeb' and 'Kans' to 'kans' he says he would develop the state in next five years .</td>\n",
              "    </tr>\n",
              "  </tbody>\n",
              "</table>"
            ],
            "text/plain": [
              "<IPython.core.display.HTML object>"
            ]
          },
          "metadata": {
            "tags": []
          }
        }
      ]
    },
    {
      "cell_type": "code",
      "metadata": {
        "colab": {
          "base_uri": "https://localhost:8080/",
          "height": 295
        },
        "id": "KvqhrKXwlysC",
        "outputId": "76a02ed0-f47a-440f-8a33-d7830623babc"
      },
      "source": [
        "get_summary(summarizer_before_train, df_test[:1].full_text.tolist())"
      ],
      "execution_count": null,
      "outputs": [
        {
          "output_type": "display_data",
          "data": {
            "text/html": [
              "<table border=\"1\" class=\"dataframe\">\n",
              "  <thead>\n",
              "    <tr style=\"text-align: right;\">\n",
              "      <th></th>\n",
              "      <th>text</th>\n",
              "      <th>summary</th>\n",
              "    </tr>\n",
              "  </thead>\n",
              "  <tbody>\n",
              "    <tr>\n",
              "      <th>0</th>\n",
              "      <td>Woman arrested three times for trying to jump fence near WH Washington, Mar 27 (PTI) A 38-year-old woman in the US, who was apprehended twice for allegedly trying to jump the White House fence last week, has been arrested for scaling a fence at the Treasury Building. Marci Anderson Wahl of Everett, Washington, was arrested after an alarm sounded at about 2:15 am yesterday when she scaled a fence at the Treasury Building, next to the White House. Police said Wahl has told them she was there to speak to US President Donald Trump, the CNN reported. She was charged with unlawful entry and contempt of court. Wahl was first arrested on March 21 last week for trying to jump the White House fence. Once in custody, it was determined that Wahl had been issued a \"stay away\" order for the White House complex after the incident. On March 21, officers saw Wahl walking and staring at the White House complex before discovering she had jumped a fence on the south side but got stuck. Officers found her hanging from the inside of the fence by her shoelaces, which were \"caught on top of the fence,\" according to a police report. She was re-arrested on March 24 after officers saw her near Lafayette Park. She was released on her own recognisance after a Saturday court appearance. In the incident, Wahl was charged with contempt of court in violation of a stay away order. She pleaded not guilty last Saturday and was again released on her own recognisance.</td>\n",
              "      <td>a 38-year-old woman in the u.s. was arrested for trying to jump fence near WH Washington . she was arrested after an alarm sounded at about 2:15 am yesterday . police said she has told them she was there to speak to president .</td>\n",
              "    </tr>\n",
              "  </tbody>\n",
              "</table>"
            ],
            "text/plain": [
              "<IPython.core.display.HTML object>"
            ]
          },
          "metadata": {
            "tags": []
          }
        }
      ]
    },
    {
      "cell_type": "markdown",
      "metadata": {
        "id": "BLAAbHs4DAIJ"
      },
      "source": [
        "### training"
      ]
    },
    {
      "cell_type": "code",
      "metadata": {
        "id": "Bliy8zgjIrJY"
      },
      "source": [
        "# to instantiate a `Seq2SeqTrainer`, we will need to define three more things. \n",
        "# [`Seq2SeqTrainingArguments`](https://huggingface.co/transformers/main_classes/trainer.html#transformers.Seq2SeqTrainingArguments), \n",
        "# which is a class that contains all the attributes to customize the training. \n",
        "# It requires one folder name, which will be used to save the checkpoints of the model, and all other arguments are optional:\n",
        "\n",
        "# explain some params in report\n",
        "# moddel takes batch of sample -> make prediction -> calculate loss -> update weight\n",
        "\n",
        "# Some arguments are not directly used by ~transformers.Trainer, rather used by your training/evaluation scripts instead\n",
        "\n",
        "# do_train (bool, optional, defaults to False) – Whether to run training or not\n",
        "# do_eval (bool, optional) – Whether to run evaluation on the validation set or not\n",
        "    # Will be set to True if evaluation_strategy is different from \"no\".\n",
        "# do_predict (bool, optional, defaults to False) – Whether to run predictions on the test set or not\n",
        "\n",
        "# evaluation_strategy (defaults to \"no\"): The evaluation strategy to adopt during training. Possible values are\n",
        "    #  * `\"no\"`: No evaluation is done during training.\n",
        "    #  * `\"steps\"`: Evaluation is done (and logged) every `eval_steps`.\n",
        "    #  * `\"epoch\"`: Evaluation is done at the end of each epoch.\n",
        "\n",
        "\n",
        "# eval_steps (int, optional) – Number of update steps between two evaluations if evaluation_strategy=\"steps\". \n",
        "        # will default to the same value as logging_steps if not set.\n",
        "\n",
        "# logging_strategy: defaults to \"steps\n",
        "# logging_steps (int, optional, defaults to 500) – Number of update steps between two logs if logging_strategy=\"steps\"\n",
        "\n",
        "# save_strategy: defaults to \"steps\"\n",
        "# save_steps (int, optional, defaults to 500): number of updates steps before two checkpoint saves if save_strategy=\"steps\"\n",
        "# save_total_limit= will limit the total amount of checkpoints. Deletes the older checkpoints \n",
        "\n",
        "# learning_rate (float, optional, defaults to 5e-5): The initial learning rate for ~transformers.AdamW optimizer.\n",
        "# weight_decay (float, optional, defaults to 0): The weight decay to apply (if not zero) to all layers except all bias and LayerNorm weights in\n",
        "\n",
        "# fp16: Whether to use 16-bit (mixed) precision training instead of 32-bit training, helps to train faster\n",
        "\n",
        "# load_best_model_at_end: by default loads best model based on loss\n",
        "   # when set to True, the parameters save_strategy and save_steps will be ignored and the model will be saved after each evaluation\n",
        "# metric_for_best_model\n",
        "# resume_from_checkpoint\n",
        "\n",
        "# predict_with_generate: whether to use generate to calculate generative metrics\n",
        "\n",
        "\"\"\"\n",
        "batch_size = 16\n",
        "args = Seq2SeqTrainingArguments(\n",
        "    \"test-summarization\",\n",
        "    evaluation_strategy = \"epoch\",\n",
        "    learning_rate=2e-5,\n",
        "    per_device_train_batch_size=batch_size,\n",
        "    per_device_eval_batch_size=batch_size,\n",
        "    weight_decay=0.01,\n",
        "    save_total_limit=3,\n",
        "    num_train_epochs=1,\n",
        "    predict_with_generate=True,\n",
        "    fp16=True,\n",
        ")\n",
        "\"\"\"\n",
        "\n",
        "batch_size = 8\n",
        "epochs = 3\n",
        "\n",
        "args = Seq2SeqTrainingArguments(\"summarization_t5_v2\", num_train_epochs=epochs,\n",
        "                                # we will evaluate after every 100 batch (100*8 = 800 samples)\n",
        "                                evaluation_strategy = \"epoch\", logging_steps = 100,\n",
        "                                learning_rate=2e-5, weight_decay=0.01,\n",
        "                                per_device_train_batch_size=batch_size, per_device_eval_batch_size=batch_size,\n",
        "                                # max number of times to save model\n",
        "                                save_total_limit=3, predict_with_generate=True, fp16=True, \n",
        "                                load_best_model_at_end = True, \n",
        "                                )\n"
      ],
      "execution_count": null,
      "outputs": []
    },
    {
      "cell_type": "code",
      "metadata": {
        "id": "UmvbnJ9JIrJd"
      },
      "source": [
        "# calculate rouge scores\n",
        "def compute_metrics(eval_pred):\n",
        "    predictions, labels = eval_pred\n",
        "    decoded_preds = tokenizer.batch_decode(predictions, skip_special_tokens=True)\n",
        "    \n",
        "    # Replace -100 in the labels as we can't decode them.\n",
        "    labels = np.where(labels != -100, labels, tokenizer.pad_token_id)\n",
        "    decoded_labels = tokenizer.batch_decode(labels, skip_special_tokens=True)\n",
        "    \n",
        "    # Rouge expects a newline after each sentence\n",
        "    decoded_preds = [\"\\n\".join(nltk.sent_tokenize(pred.strip())) for pred in decoded_preds]\n",
        "    decoded_labels = [\"\\n\".join(nltk.sent_tokenize(label.strip())) for label in decoded_labels]\n",
        "    \n",
        "    result = metric.compute(predictions=decoded_preds, references=decoded_labels, use_stemmer=True)\n",
        "    # Extract a few results\n",
        "    result = {key: value.mid.fmeasure * 100 for key, value in result.items()}\n",
        "    \n",
        "    # Add mean generated length\n",
        "    prediction_lens = [np.count_nonzero(pred != tokenizer.pad_token_id) for pred in predictions]\n",
        "    result[\"gen_len\"] = np.mean(prediction_lens)\n",
        "    \n",
        "    return {k: round(v, 4) for k, v in result.items()}"
      ],
      "execution_count": null,
      "outputs": []
    },
    {
      "cell_type": "code",
      "metadata": {
        "id": "imY1oC3SIrJf"
      },
      "source": [
        "# will pad the inputs and the labels to maximum length in a batch\n",
        "# so we pad examples to the longest length in the batch and not the whole dataset\n",
        "data_collator = DataCollatorForSeq2Seq(tokenizer, model=model_summ)\n",
        "\n",
        "\"\"\"\n",
        "trainer = Seq2SeqTrainer(\n",
        "    model,\n",
        "    args,\n",
        "    train_dataset=tokenized_datasets[\"train\"],\n",
        "    eval_dataset=tokenized_datasets[\"validation\"],\n",
        "    data_collator=data_collator,\n",
        "    tokenizer=tokenizer,\n",
        "    compute_metrics=compute_metrics\n",
        ")\n",
        "\"\"\"\n",
        "\n",
        "model_trainer = Seq2SeqTrainer(model_summ, args,\n",
        "                               train_dataset = dataset_train_tokenized, eval_dataset = dataset_test_tokenized,\n",
        "                               data_collator = data_collator, tokenizer = tokenizer, compute_metrics = compute_metrics)"
      ],
      "execution_count": null,
      "outputs": []
    },
    {
      "cell_type": "code",
      "metadata": {
        "colab": {
          "base_uri": "https://localhost:8080/",
          "height": 199
        },
        "id": "SRywJd7znASw",
        "outputId": "ea95c647-cdc5-498f-f047-bc2953b0934c"
      },
      "source": [
        "# train the model\n",
        "model_trainer.train()"
      ],
      "execution_count": null,
      "outputs": [
        {
          "output_type": "display_data",
          "data": {
            "text/html": [
              "\n",
              "    <div>\n",
              "      \n",
              "      <progress value='1320' max='1320' style='width:300px; height:20px; vertical-align: middle;'></progress>\n",
              "      [1320/1320 34:26, Epoch 3/3]\n",
              "    </div>\n",
              "    <table border=\"1\" class=\"dataframe\">\n",
              "  <thead>\n",
              "    <tr style=\"text-align: left;\">\n",
              "      <th>Epoch</th>\n",
              "      <th>Training Loss</th>\n",
              "      <th>Validation Loss</th>\n",
              "      <th>Rouge1</th>\n",
              "      <th>Rouge2</th>\n",
              "      <th>Rougel</th>\n",
              "      <th>Rougelsum</th>\n",
              "      <th>Gen Len</th>\n",
              "    </tr>\n",
              "  </thead>\n",
              "  <tbody>\n",
              "    <tr>\n",
              "      <td>1</td>\n",
              "      <td>2.023800</td>\n",
              "      <td>1.778518</td>\n",
              "      <td>46.315600</td>\n",
              "      <td>23.789900</td>\n",
              "      <td>33.781800</td>\n",
              "      <td>41.359200</td>\n",
              "      <td>83.285200</td>\n",
              "    </tr>\n",
              "    <tr>\n",
              "      <td>2</td>\n",
              "      <td>1.896700</td>\n",
              "      <td>1.748661</td>\n",
              "      <td>47.149400</td>\n",
              "      <td>24.739300</td>\n",
              "      <td>34.678600</td>\n",
              "      <td>42.225900</td>\n",
              "      <td>85.055700</td>\n",
              "    </tr>\n",
              "    <tr>\n",
              "      <td>3</td>\n",
              "      <td>1.930700</td>\n",
              "      <td>1.740705</td>\n",
              "      <td>47.557600</td>\n",
              "      <td>25.109600</td>\n",
              "      <td>35.009500</td>\n",
              "      <td>42.609900</td>\n",
              "      <td>85.629500</td>\n",
              "    </tr>\n",
              "  </tbody>\n",
              "</table><p>"
            ],
            "text/plain": [
              "<IPython.core.display.HTML object>"
            ]
          },
          "metadata": {
            "tags": []
          }
        },
        {
          "output_type": "execute_result",
          "data": {
            "text/plain": [
              "TrainOutput(global_step=1320, training_loss=1.966799039551706, metrics={'train_runtime': 2067.3325, 'train_samples_per_second': 0.639, 'total_flos': 0, 'epoch': 3.0, 'init_mem_cpu_alloc_delta': 4096, 'init_mem_gpu_alloc_delta': 0, 'init_mem_cpu_peaked_delta': 0, 'init_mem_gpu_peaked_delta': 0, 'train_mem_cpu_alloc_delta': 9138176, 'train_mem_gpu_alloc_delta': 741037056, 'train_mem_cpu_peaked_delta': 5201920, 'train_mem_gpu_peaked_delta': 3462683648})"
            ]
          },
          "metadata": {
            "tags": []
          },
          "execution_count": 63
        }
      ]
    },
    {
      "cell_type": "code",
      "metadata": {
        "id": "3qzRx1CPHXpo",
        "colab": {
          "base_uri": "https://localhost:8080/",
          "height": 432
        },
        "outputId": "4bedbc8b-0fac-4cb4-d0c7-2def2143f0c9"
      },
      "source": [
        "# results for previous run\n",
        "scores = {'Training Loss': [2.2211, 2.0252, 2.0031, 2.0235, 1.9403, 1.9598, 1.9417, 1.8935, 1.9294, 1.8714, 1.9054, 1.9167, 1.9252], \n",
        "          'Validation Loss': [1.901903, 1.830108, 1.798404, 1.784771, 1.772367, 1.759735, 1.757113, 1.750193, 1.747493, 1.74605, 1.743051, 1.741059, 1.740497], \n",
        "          'Rouge1': [44.6989, 45.0498, 45.0502, 45.3305, 45.2789, 45.4722, 45.5978, 45.6992, 45.6578, 45.7168, 45.7089, 45.6965, 45.7181], \n",
        "          'Rouge2': [21.6698, 22.0926, 22.1557, 22.5228, 22.5419, 22.8009, 22.9777, 23.1056, 23.1197, 23.1844, 23.1497, 23.2195, 23.2356], \n",
        "          'Rougel': [32.356, 32.6704, 32.6976, 32.9167, 32.865, 33.0508, 33.1871, 33.2456, 33.2603, 33.345, 33.3058, 33.3256, 33.332], \n",
        "          'Rougelsum': [39.6232, 39.8603, 39.9352, 40.2212, 40.2205, 40.4183, 40.5925, 40.6514, 40.6369, 40.6908, 40.6836, 40.7002, 40.7068], \n",
        "          'Gen Len': [81.4908, 81.4908, 81.4919, 81.4919, 81.4919, 81.4931, 81.4976, 81.4976, 81.4976, 81.4976, 81.4976, 81.4976, 81.4976]\n",
        "          }\n",
        "\n",
        "df_scores = pd.DataFrame(scores)\n",
        "df_scores"
      ],
      "execution_count": null,
      "outputs": [
        {
          "output_type": "execute_result",
          "data": {
            "text/html": [
              "<div>\n",
              "<style scoped>\n",
              "    .dataframe tbody tr th:only-of-type {\n",
              "        vertical-align: middle;\n",
              "    }\n",
              "\n",
              "    .dataframe tbody tr th {\n",
              "        vertical-align: top;\n",
              "    }\n",
              "\n",
              "    .dataframe thead th {\n",
              "        text-align: right;\n",
              "    }\n",
              "</style>\n",
              "<table border=\"1\" class=\"dataframe\">\n",
              "  <thead>\n",
              "    <tr style=\"text-align: right;\">\n",
              "      <th></th>\n",
              "      <th>Training Loss</th>\n",
              "      <th>Validation Loss</th>\n",
              "      <th>Rouge1</th>\n",
              "      <th>Rouge2</th>\n",
              "      <th>Rougel</th>\n",
              "      <th>Rougelsum</th>\n",
              "      <th>Gen Len</th>\n",
              "    </tr>\n",
              "  </thead>\n",
              "  <tbody>\n",
              "    <tr>\n",
              "      <th>0</th>\n",
              "      <td>2.2211</td>\n",
              "      <td>1.901903</td>\n",
              "      <td>44.6989</td>\n",
              "      <td>21.6698</td>\n",
              "      <td>32.3560</td>\n",
              "      <td>39.6232</td>\n",
              "      <td>81.4908</td>\n",
              "    </tr>\n",
              "    <tr>\n",
              "      <th>1</th>\n",
              "      <td>2.0252</td>\n",
              "      <td>1.830108</td>\n",
              "      <td>45.0498</td>\n",
              "      <td>22.0926</td>\n",
              "      <td>32.6704</td>\n",
              "      <td>39.8603</td>\n",
              "      <td>81.4908</td>\n",
              "    </tr>\n",
              "    <tr>\n",
              "      <th>2</th>\n",
              "      <td>2.0031</td>\n",
              "      <td>1.798404</td>\n",
              "      <td>45.0502</td>\n",
              "      <td>22.1557</td>\n",
              "      <td>32.6976</td>\n",
              "      <td>39.9352</td>\n",
              "      <td>81.4919</td>\n",
              "    </tr>\n",
              "    <tr>\n",
              "      <th>3</th>\n",
              "      <td>2.0235</td>\n",
              "      <td>1.784771</td>\n",
              "      <td>45.3305</td>\n",
              "      <td>22.5228</td>\n",
              "      <td>32.9167</td>\n",
              "      <td>40.2212</td>\n",
              "      <td>81.4919</td>\n",
              "    </tr>\n",
              "    <tr>\n",
              "      <th>4</th>\n",
              "      <td>1.9403</td>\n",
              "      <td>1.772367</td>\n",
              "      <td>45.2789</td>\n",
              "      <td>22.5419</td>\n",
              "      <td>32.8650</td>\n",
              "      <td>40.2205</td>\n",
              "      <td>81.4919</td>\n",
              "    </tr>\n",
              "    <tr>\n",
              "      <th>5</th>\n",
              "      <td>1.9598</td>\n",
              "      <td>1.759735</td>\n",
              "      <td>45.4722</td>\n",
              "      <td>22.8009</td>\n",
              "      <td>33.0508</td>\n",
              "      <td>40.4183</td>\n",
              "      <td>81.4931</td>\n",
              "    </tr>\n",
              "    <tr>\n",
              "      <th>6</th>\n",
              "      <td>1.9417</td>\n",
              "      <td>1.757113</td>\n",
              "      <td>45.5978</td>\n",
              "      <td>22.9777</td>\n",
              "      <td>33.1871</td>\n",
              "      <td>40.5925</td>\n",
              "      <td>81.4976</td>\n",
              "    </tr>\n",
              "    <tr>\n",
              "      <th>7</th>\n",
              "      <td>1.8935</td>\n",
              "      <td>1.750193</td>\n",
              "      <td>45.6992</td>\n",
              "      <td>23.1056</td>\n",
              "      <td>33.2456</td>\n",
              "      <td>40.6514</td>\n",
              "      <td>81.4976</td>\n",
              "    </tr>\n",
              "    <tr>\n",
              "      <th>8</th>\n",
              "      <td>1.9294</td>\n",
              "      <td>1.747493</td>\n",
              "      <td>45.6578</td>\n",
              "      <td>23.1197</td>\n",
              "      <td>33.2603</td>\n",
              "      <td>40.6369</td>\n",
              "      <td>81.4976</td>\n",
              "    </tr>\n",
              "    <tr>\n",
              "      <th>9</th>\n",
              "      <td>1.8714</td>\n",
              "      <td>1.746050</td>\n",
              "      <td>45.7168</td>\n",
              "      <td>23.1844</td>\n",
              "      <td>33.3450</td>\n",
              "      <td>40.6908</td>\n",
              "      <td>81.4976</td>\n",
              "    </tr>\n",
              "    <tr>\n",
              "      <th>10</th>\n",
              "      <td>1.9054</td>\n",
              "      <td>1.743051</td>\n",
              "      <td>45.7089</td>\n",
              "      <td>23.1497</td>\n",
              "      <td>33.3058</td>\n",
              "      <td>40.6836</td>\n",
              "      <td>81.4976</td>\n",
              "    </tr>\n",
              "    <tr>\n",
              "      <th>11</th>\n",
              "      <td>1.9167</td>\n",
              "      <td>1.741059</td>\n",
              "      <td>45.6965</td>\n",
              "      <td>23.2195</td>\n",
              "      <td>33.3256</td>\n",
              "      <td>40.7002</td>\n",
              "      <td>81.4976</td>\n",
              "    </tr>\n",
              "    <tr>\n",
              "      <th>12</th>\n",
              "      <td>1.9252</td>\n",
              "      <td>1.740497</td>\n",
              "      <td>45.7181</td>\n",
              "      <td>23.2356</td>\n",
              "      <td>33.3320</td>\n",
              "      <td>40.7068</td>\n",
              "      <td>81.4976</td>\n",
              "    </tr>\n",
              "  </tbody>\n",
              "</table>\n",
              "</div>"
            ],
            "text/plain": [
              "    Training Loss  Validation Loss   Rouge1  ...   Rougel  Rougelsum  Gen Len\n",
              "0          2.2211         1.901903  44.6989  ...  32.3560    39.6232  81.4908\n",
              "1          2.0252         1.830108  45.0498  ...  32.6704    39.8603  81.4908\n",
              "2          2.0031         1.798404  45.0502  ...  32.6976    39.9352  81.4919\n",
              "3          2.0235         1.784771  45.3305  ...  32.9167    40.2212  81.4919\n",
              "4          1.9403         1.772367  45.2789  ...  32.8650    40.2205  81.4919\n",
              "5          1.9598         1.759735  45.4722  ...  33.0508    40.4183  81.4931\n",
              "6          1.9417         1.757113  45.5978  ...  33.1871    40.5925  81.4976\n",
              "7          1.8935         1.750193  45.6992  ...  33.2456    40.6514  81.4976\n",
              "8          1.9294         1.747493  45.6578  ...  33.2603    40.6369  81.4976\n",
              "9          1.8714         1.746050  45.7168  ...  33.3450    40.6908  81.4976\n",
              "10         1.9054         1.743051  45.7089  ...  33.3058    40.6836  81.4976\n",
              "11         1.9167         1.741059  45.6965  ...  33.3256    40.7002  81.4976\n",
              "12         1.9252         1.740497  45.7181  ...  33.3320    40.7068  81.4976\n",
              "\n",
              "[13 rows x 7 columns]"
            ]
          },
          "metadata": {
            "tags": []
          },
          "execution_count": 57
        }
      ]
    },
    {
      "cell_type": "markdown",
      "metadata": {
        "id": "FSnFP3cqE3np"
      },
      "source": [
        "### plot results"
      ]
    },
    {
      "cell_type": "code",
      "metadata": {
        "colab": {
          "base_uri": "https://localhost:8080/",
          "height": 388
        },
        "id": "issvFR-SE0eJ",
        "outputId": "5074f787-ad61-430b-dbbe-efad04eb63c2"
      },
      "source": [
        "plt.figure(figsize=(10,6))\n",
        "plt.plot(scores['Training Loss'], label=\"train Loss\")\n",
        "plt.plot(scores['Validation Loss'], label=\"validation Loss\")\n",
        "plt.xlabel(\"Steps\")\n",
        "plt.ylabel(\"Loss\")\n",
        "plt.legend()\n",
        "plt.show()"
      ],
      "execution_count": null,
      "outputs": [
        {
          "output_type": "display_data",
          "data": {
            "image/png": "[encoded data removed]",
            "text/plain": [
              "<Figure size 720x432 with 1 Axes>"
            ]
          },
          "metadata": {
            "tags": [],
            "needs_background": "light"
          }
        }
      ]
    },
    {
      "cell_type": "code",
      "metadata": {
        "colab": {
          "base_uri": "https://localhost:8080/",
          "height": 388
        },
        "id": "p8KwJYFpIPYV",
        "outputId": "9791c23d-dbf2-4b62-b692-1cc57efce0dc"
      },
      "source": [
        "plt.figure(figsize=(10,6))\n",
        "\n",
        "plt.plot(scores['Rouge1'], label=\"Rouge1\")\n",
        "plt.plot(scores['Rouge2'], label=\"Rouge2\")\n",
        "plt.plot(scores['Rougel'], label=\"RougeL\")\n",
        "\n",
        "plt.xlabel(\"Steps\")\n",
        "plt.ylabel(\"Rouge Score\")\n",
        "plt.legend()\n",
        "plt.show()"
      ],
      "execution_count": null,
      "outputs": [
        {
          "output_type": "display_data",
          "data": {
            "image/png": "[encoded data removed]",
            "text/plain": [
              "<Figure size 720x432 with 1 Axes>"
            ]
          },
          "metadata": {
            "tags": [],
            "needs_background": "light"
          }
        }
      ]
    },
    {
      "cell_type": "markdown",
      "metadata": {
        "id": "emcMZGYGDlSf"
      },
      "source": [
        "## predictions"
      ]
    },
    {
      "cell_type": "code",
      "metadata": {
        "colab": {
          "base_uri": "https://localhost:8080/"
        },
        "id": "qJ1N94Cp7-kl",
        "outputId": "f4eb8aa3-838a-421a-ea2f-801bbebf9354"
      },
      "source": [
        "model.device"
      ],
      "execution_count": null,
      "outputs": [
        {
          "output_type": "execute_result",
          "data": {
            "text/plain": [
              "device(type='cuda', index=0)"
            ]
          },
          "metadata": {
            "tags": []
          },
          "execution_count": 101
        }
      ]
    },
    {
      "cell_type": "code",
      "metadata": {
        "id": "SdHVBIP48QIG"
      },
      "source": [
        "# pass finetuned model and tokenizer\n",
        "summarizer = pipeline(\"summarization\", model=model_summ, tokenizer=tokenizer, device=0)"
      ],
      "execution_count": null,
      "outputs": []
    },
    {
      "cell_type": "code",
      "metadata": {
        "colab": {
          "base_uri": "https://localhost:8080/",
          "height": 812
        },
        "id": "VfLNwYEZ8rLQ",
        "outputId": "9f693299-247b-48fc-9cfd-38dd3b3d7ac4"
      },
      "source": [
        "idx = random.sample(range(0, len(df_news)), k=3)\n",
        "get_summary(summarizer, df_news.iloc[idx].full_text.tolist())"
      ],
      "execution_count": null,
      "outputs": [
        {
          "output_type": "display_data",
          "data": {
            "text/html": [
              "<table border=\"1\" class=\"dataframe\">\n",
              "  <thead>\n",
              "    <tr style=\"text-align: right;\">\n",
              "      <th></th>\n",
              "      <th>text</th>\n",
              "      <th>summary</th>\n",
              "    </tr>\n",
              "  </thead>\n",
              "  <tbody>\n",
              "    <tr>\n",
              "      <th>0</th>\n",
              "      <td>England players take London Tube to reach Test match venue Before they consolidated their hold on the ongoing third Test at The Oval against South Africa, a few of England cricketers took the underground tube in London to reach the ground which is hosting his record 100th Test match, on Saturday.On a rain-truncated third day of the ongoing third Test, England shot South Africa out for a mere 175, and by the time the play was stopped, the hosts had accumulated an overall lead of 252 runs with nine wickets intact in their second essay.READ | Toby Roland-Jones joins elite England club after heroics against South AfricaEngland had posted an at-par total of 353 in their first innings, and seized control of the Test when debutant Toby Roland-Jones wreaked havoc in the South African ranks, claiming 5 for 57.Roland-Jones was in that bunch of cricketers who on Saturday morning took the London tube from the Bank Station. England captain Joe Root, Stuart Broad, James Anderson, and Jonny Bairstow were among those who took the train like the common London commuter to his workplace.#morningcommute @StuartBroad8 not awkward at all. pic.twitter.com/0uKohIGfRX? Joe Root (@root66) July 29, 2017As they waited for the train to arrive, Broad looked content at an advertisement poster in front of him for UK broadcaster Sky Sports. Broad posted on Instagram about the train travel with his teammates.     #morningcommute #london Off to the Test! ?? A post shared by Stuart Broad (@stuartbroad8) on Jul 29, 2017 at 1:03am PDT While Root and Broad posted on social media about their travel in the tube, there was one man who seemingly enjoyed the journey without actually being there. It was Alex Hales.You can even see the smug look of self-satisfaction from behind him pic.twitter.com/pSm7LKMIXO? Alex Hales (@AlexHales1) July 29, 2017Almost as smug as this one! pic.twitter.com/QvfhdjSyrb? Alex Hales (@AlexHales1) July 29, 2017England were 74 for 1 in their second innings, with Keaton Jennings (34) and Tom Westley (28) at the crease.</td>\n",
              "      <td>England players took the tube from the London tube to reach the site for the 100th Test match against South Africa on Saturday. On a rain-truncated third day of the ongoing third Test, England shot South Africa out for a mere 175, and by the time the play was stopped, the hosts had accumulated an overall lead of 252 runs with nine wickets intact.</td>\n",
              "    </tr>\n",
              "    <tr>\n",
              "      <th>1</th>\n",
              "      <td>BJP leader moves EC against Mayawati for 'caste politics' Lucknow, Jan 9 (PTI) A BJP leader has moved the Election Commission against BSP chief Mayawati accusing her of seeking votes in the name of caste and demanded that her party be debarred from contesting elections. BJPs UP executive member Neeraj Shankar Saxena moved a petition against Mayawati on Saturday demanding that her party be debarred from contesting polls and filing of FIR against her for \"flouting\" Supreme Court directives. \"Mayawati during her press conference on December 24 and January 3 presented caste-wise details of ticket distribution clearly stating that her party has given tickets to how many Muslims, backwards, SCs and others,\" Saxena told PTI.</td>\n",
              "      <td>A BJP leader has moved the Election Commission against BSP chief Mayawati accusing her of seeking votes in the name of caste and demanded that her party be debarred from contesting elections. BJPs UP executive member Neeraj Shankar Saxena has moved a petition against her accusing she of 'flouting' FIR against her for \"frouting\" Supreme Court directives.</td>\n",
              "    </tr>\n",
              "    <tr>\n",
              "      <th>2</th>\n",
              "      <td>UP CM wants pics of teachers to be pasted on school walls In a bid to improve education quality in state-run schools and ensure regular attendance, Uttar Pradesh Chief Minister Yogi Adityanath wants pictures of faculty members pasted on school walls.This will be done to check and then cross-check from the students whether those whose pictures were displayed attend schools regularly and teach or not.Yogi Adityanath took the decision at a meeting in Gorakhpur on Sunday. STANDARD OF SCHOOLS A WORRYChief Minister Yogi Adityanath expressed worry over the falling standards in the primary and junior high schools in the state.He said that officials would conduct surprise inspections and reviews in the schools. Students would be queried on the regularity of their teachers. Yogi Adityanath said that some teachers in these schools use proxies to teach while they themselves draw hefty salaries without doing any work. This would no longer be tolerated, Adityanath told officials.Adityanath was determined to ensure that the standard of education in the state-run schools improved even if it meant taking out-of-the-box steps or tough measures.ALSO READ:Yogi Adityanath sets June 15-deadline to make UP roads pothole-free, promises 24-hour power to district headquarters</td>\n",
              "      <td>Uttar Pradesh Chief Minister Yogi Adityanath wants pictures of teachers to be pasted on school walls. This will be done to check and then cross-check from the students whether those whose pictures were displayed attend schools regularly and teach or not. He said that some teachers in these schools use proxies to teach while they themselves themselves draw hefty salaries without doing any work. This would no longer be tolerated.</td>\n",
              "    </tr>\n",
              "  </tbody>\n",
              "</table>"
            ],
            "text/plain": [
              "<IPython.core.display.HTML object>"
            ]
          },
          "metadata": {
            "tags": []
          }
        }
      ]
    },
    {
      "cell_type": "markdown",
      "metadata": {
        "id": "5i7LyXDYXtd2"
      },
      "source": [
        "### compare with before finetuned"
      ]
    },
    {
      "cell_type": "code",
      "metadata": {
        "colab": {
          "base_uri": "https://localhost:8080/",
          "height": 262
        },
        "id": "ppf6XDDll43V",
        "outputId": "0c8201ef-4466-430a-dcc5-713414a65fb3"
      },
      "source": [
        "get_summary(summarizer_before_train, df_train[:1].full_text.tolist())"
      ],
      "execution_count": null,
      "outputs": [
        {
          "output_type": "display_data",
          "data": {
            "text/html": [
              "<table border=\"1\" class=\"dataframe\">\n",
              "  <thead>\n",
              "    <tr style=\"text-align: right;\">\n",
              "      <th></th>\n",
              "      <th>text</th>\n",
              "      <th>summary</th>\n",
              "    </tr>\n",
              "  </thead>\n",
              "  <tbody>\n",
              "    <tr>\n",
              "      <th>0</th>\n",
              "      <td>Parents will not name their sons Akhilesh now: Adityanath BJP MP Yogi Adityanath has likened Uttar Pradesh Chief Minister Akhilesh Yadav with 'Aurangzeb' and 'Kans', saying parents will now desist from naming their sons Akhilesh.\"Akhilesh did what 'Aurangzeb' and 'Kans' did not do. Due to his deeds, parents will now desist from naming their sons Akhilesh\", he said at an election meeting in Bhadohi.\"Akhilesh is now saying that he would develop the state in next five years, if given a chance, but what was he doing in the past five years?\" he asked.Aurangzeb was a controversial Mughal ruler, while the mythological character of Kans is considered the tyrant ruler of Vrishni kingdom with its capital at Mathura.UP GOVT PATRONISED TERRORISTS: ADITYANATHThe firebrand BJP MP from Gorakhpur said the state government patronised terrorists, anti-socials and rapists.\"Whatever scheme the government ran, it was only for a particular community,\" he alleged.Listing out the work which the BJP would do if voted to power, Adityanath said, \"We will promote traditional industries and send bangles to Akhilesh and Rahul Gandhi from Firozabad bangle industry and constitute anti-Romeo squad for UP minister Azam Khan.\"He said a BJP government in Uttar Pradesh will pave way for Ram temple and that money will be spent on development.FINAL PHASE OF CAMPAIGNING ENDED ON MONDAY</td>\n",
              "      <td>parents will not name their sons Akhilesh now, a BJP MP says . he likens 'Aurangzeb' and 'Kans' to 'kans' he says he would develop the state in next five years .</td>\n",
              "    </tr>\n",
              "  </tbody>\n",
              "</table>"
            ],
            "text/plain": [
              "<IPython.core.display.HTML object>"
            ]
          },
          "metadata": {
            "tags": []
          }
        }
      ]
    },
    {
      "cell_type": "code",
      "metadata": {
        "colab": {
          "base_uri": "https://localhost:8080/",
          "height": 268
        },
        "id": "qkSyCkdHXuAN",
        "outputId": "1cb2720b-2aa5-46e3-9b09-b2f6d4c4efc5"
      },
      "source": [
        "get_summary(summarizer, df_train[:1].full_text.tolist())"
      ],
      "execution_count": null,
      "outputs": [
        {
          "output_type": "display_data",
          "data": {
            "text/html": [
              "<table border=\"1\" class=\"dataframe\">\n",
              "  <thead>\n",
              "    <tr style=\"text-align: right;\">\n",
              "      <th></th>\n",
              "      <th>text</th>\n",
              "      <th>summary</th>\n",
              "    </tr>\n",
              "  </thead>\n",
              "  <tbody>\n",
              "    <tr>\n",
              "      <th>0</th>\n",
              "      <td>Parents will not name their sons Akhilesh now: Adityanath BJP MP Yogi Adityanath has likened Uttar Pradesh Chief Minister Akhilesh Yadav with 'Aurangzeb' and 'Kans', saying parents will now desist from naming their sons Akhilesh.\"Akhilesh did what 'Aurangzeb' and 'Kans' did not do. Due to his deeds, parents will now desist from naming their sons Akhilesh\", he said at an election meeting in Bhadohi.\"Akhilesh is now saying that he would develop the state in next five years, if given a chance, but what was he doing in the past five years?\" he asked.Aurangzeb was a controversial Mughal ruler, while the mythological character of Kans is considered the tyrant ruler of Vrishni kingdom with its capital at Mathura.UP GOVT PATRONISED TERRORISTS: ADITYANATHThe firebrand BJP MP from Gorakhpur said the state government patronised terrorists, anti-socials and rapists.\"Whatever scheme the government ran, it was only for a particular community,\" he alleged.Listing out the work which the BJP would do if voted to power, Adityanath said, \"We will promote traditional industries and send bangles to Akhilesh and Rahul Gandhi from Firozabad bangle industry and constitute anti-Romeo squad for UP minister Azam Khan.\"He said a BJP government in Uttar Pradesh will pave way for Ram temple and that money will be spent on development.FINAL PHASE OF CAMPAIGNING ENDED ON MONDAY</td>\n",
              "      <td>BJP MP Yogi Adityanath has likened Uttar Pradesh Chief Minister Akhilesh Yadav with 'Aurangzeb' and 'Kans', saying parents will now desist from naming their sons. \"We will promote traditional industries and send bangles to Akhileh and Rahul Gandhi from Firozabad Bangle Industry and constitute anti-Romeo squad for UP minister Azam</td>\n",
              "    </tr>\n",
              "  </tbody>\n",
              "</table>"
            ],
            "text/plain": [
              "<IPython.core.display.HTML object>"
            ]
          },
          "metadata": {
            "tags": []
          }
        }
      ]
    },
    {
      "cell_type": "code",
      "metadata": {
        "colab": {
          "base_uri": "https://localhost:8080/",
          "height": 278
        },
        "id": "k2LXni_Ll43W",
        "outputId": "76a02ed0-f47a-440f-8a33-d7830623babc"
      },
      "source": [
        "get_summary(summarizer_before_train, df_test[:1].full_text.tolist())"
      ],
      "execution_count": null,
      "outputs": [
        {
          "output_type": "display_data",
          "data": {
            "text/html": [
              "<table border=\"1\" class=\"dataframe\">\n",
              "  <thead>\n",
              "    <tr style=\"text-align: right;\">\n",
              "      <th></th>\n",
              "      <th>text</th>\n",
              "      <th>summary</th>\n",
              "    </tr>\n",
              "  </thead>\n",
              "  <tbody>\n",
              "    <tr>\n",
              "      <th>0</th>\n",
              "      <td>Woman arrested three times for trying to jump fence near WH Washington, Mar 27 (PTI) A 38-year-old woman in the US, who was apprehended twice for allegedly trying to jump the White House fence last week, has been arrested for scaling a fence at the Treasury Building. Marci Anderson Wahl of Everett, Washington, was arrested after an alarm sounded at about 2:15 am yesterday when she scaled a fence at the Treasury Building, next to the White House. Police said Wahl has told them she was there to speak to US President Donald Trump, the CNN reported. She was charged with unlawful entry and contempt of court. Wahl was first arrested on March 21 last week for trying to jump the White House fence. Once in custody, it was determined that Wahl had been issued a \"stay away\" order for the White House complex after the incident. On March 21, officers saw Wahl walking and staring at the White House complex before discovering she had jumped a fence on the south side but got stuck. Officers found her hanging from the inside of the fence by her shoelaces, which were \"caught on top of the fence,\" according to a police report. She was re-arrested on March 24 after officers saw her near Lafayette Park. She was released on her own recognisance after a Saturday court appearance. In the incident, Wahl was charged with contempt of court in violation of a stay away order. She pleaded not guilty last Saturday and was again released on her own recognisance.</td>\n",
              "      <td>a 38-year-old woman in the u.s. was arrested for trying to jump fence near WH Washington . she was arrested after an alarm sounded at about 2:15 am yesterday . police said she has told them she was there to speak to president .</td>\n",
              "    </tr>\n",
              "  </tbody>\n",
              "</table>"
            ],
            "text/plain": [
              "<IPython.core.display.HTML object>"
            ]
          },
          "metadata": {
            "tags": []
          }
        }
      ]
    },
    {
      "cell_type": "code",
      "metadata": {
        "colab": {
          "base_uri": "https://localhost:8080/",
          "height": 251
        },
        "id": "cQ_opUDrXuAO",
        "outputId": "06584b39-b4f5-433a-9638-b8e050cf2af7"
      },
      "source": [
        "get_summary(summarizer, df_test[:1].full_text.tolist())"
      ],
      "execution_count": null,
      "outputs": [
        {
          "output_type": "display_data",
          "data": {
            "text/html": [
              "<table border=\"1\" class=\"dataframe\">\n",
              "  <thead>\n",
              "    <tr style=\"text-align: right;\">\n",
              "      <th></th>\n",
              "      <th>text</th>\n",
              "      <th>summary</th>\n",
              "    </tr>\n",
              "  </thead>\n",
              "  <tbody>\n",
              "    <tr>\n",
              "      <th>0</th>\n",
              "      <td>Woman arrested three times for trying to jump fence near WH Washington, Mar 27 (PTI) A 38-year-old woman in the US, who was apprehended twice for allegedly trying to jump the White House fence last week, has been arrested for scaling a fence at the Treasury Building. Marci Anderson Wahl of Everett, Washington, was arrested after an alarm sounded at about 2:15 am yesterday when she scaled a fence at the Treasury Building, next to the White House. Police said Wahl has told them she was there to speak to US President Donald Trump, the CNN reported. She was charged with unlawful entry and contempt of court. Wahl was first arrested on March 21 last week for trying to jump the White House fence. Once in custody, it was determined that Wahl had been issued a \"stay away\" order for the White House complex after the incident. On March 21, officers saw Wahl walking and staring at the White House complex before discovering she had jumped a fence on the south side but got stuck. Officers found her hanging from the inside of the fence by her shoelaces, which were \"caught on top of the fence,\" according to a police report. She was re-arrested on March 24 after officers saw her near Lafayette Park. She was released on her own recognisance after a Saturday court appearance. In the incident, Wahl was charged with contempt of court in violation of a stay away order. She pleaded not guilty last Saturday and was again released on her own recognisance.</td>\n",
              "      <td>A 38-year-old woman in the US has been arrested for allegedly trying to jump the White House fence near WH Washington, Mar 27. An alarm sounded at about 2:15 am when she scaled a fence at the Treasury Building. She was charged with unlawful entry and contempt of court.</td>\n",
              "    </tr>\n",
              "  </tbody>\n",
              "</table>"
            ],
            "text/plain": [
              "<IPython.core.display.HTML object>"
            ]
          },
          "metadata": {
            "tags": []
          }
        }
      ]
    },
    {
      "cell_type": "markdown",
      "metadata": {
        "id": "gWWYJOARdWuZ"
      },
      "source": [
        "## save and load model"
      ]
    },
    {
      "cell_type": "code",
      "metadata": {
        "id": "U6We9qZa41ce"
      },
      "source": [
        "PATH = '/content/drive/MyDrive/NLP/summ_models/' + \"model_epoch3_latest\""
      ],
      "execution_count": null,
      "outputs": []
    },
    {
      "cell_type": "code",
      "metadata": {
        "id": "Qb2I82u6dWcD"
      },
      "source": [
        "if not os.path.isdir(PATH):\n",
        "    os.mkdir(PATH)\n",
        "    model_summ.save_pretrained(PATH)\n",
        "else:\n",
        "    print(\"there is already a model at this path!!!\")"
      ],
      "execution_count": null,
      "outputs": []
    },
    {
      "cell_type": "code",
      "metadata": {
        "colab": {
          "base_uri": "https://localhost:8080/"
        },
        "id": "kKt43V4bhM0p",
        "outputId": "b07a0875-95ac-42cf-9c7f-eafa4e33323a"
      },
      "source": [
        "!ls -lha /content/drive/MyDrive/NLP/summ_models/model_epoch3"
      ],
      "execution_count": null,
      "outputs": [
        {
          "output_type": "stream",
          "text": [
            "total 231M\n",
            "-rw------- 1 root root 1.6K May 18 12:47 config.json\n",
            "-rw------- 1 root root 231M May 18 12:47 pytorch_model.bin\n"
          ],
          "name": "stdout"
        }
      ]
    },
    {
      "cell_type": "code",
      "metadata": {
        "colab": {
          "base_uri": "https://localhost:8080/"
        },
        "id": "U9YSBAnTuHtD",
        "outputId": "c02ad63f-1730-4072-88c8-1a46d3ecba56"
      },
      "source": [
        "!ls -lha /content/drive/MyDrive/NLP/summ_models/model_epoch3_latest"
      ],
      "execution_count": null,
      "outputs": [
        {
          "output_type": "stream",
          "text": [
            "total 231M\n",
            "-rw------- 1 root root 1.6K May 23 10:21 config.json\n",
            "-rw------- 1 root root 231M May 23 10:21 pytorch_model.bin\n"
          ],
          "name": "stdout"
        }
      ]
    },
    {
      "cell_type": "code",
      "metadata": {
        "id": "xh_0IkvwTDbO"
      },
      "source": [
        "# loading finetuned model\n",
        "model_summ_loaded = AutoModelForSeq2SeqLM.from_pretrained(PATH)\n",
        "\n",
        "# creating summarizer object using loaded model\n",
        "summarizer_loaded = pipeline(\"summarization\", model=model_summ_loaded, tokenizer=tokenizer, device=0)"
      ],
      "execution_count": null,
      "outputs": []
    },
    {
      "cell_type": "code",
      "metadata": {
        "colab": {
          "base_uri": "https://localhost:8080/",
          "height": 450
        },
        "id": "btbE1p015XlR",
        "outputId": "fa984b55-12c4-4788-cccf-32f20b54b801"
      },
      "source": [
        "get_summary(summarizer_loaded, df_train[1:2].full_text.tolist())"
      ],
      "execution_count": null,
      "outputs": [
        {
          "output_type": "stream",
          "text": [
            "Token indices sequence length is longer than the specified maximum sequence length for this model (514 > 512). Running this sequence through the model will result in indexing errors\n"
          ],
          "name": "stderr"
        },
        {
          "output_type": "display_data",
          "data": {
            "text/html": [
              "<table border=\"1\" class=\"dataframe\">\n",
              "  <thead>\n",
              "    <tr style=\"text-align: right;\">\n",
              "      <th></th>\n",
              "      <th>text</th>\n",
              "      <th>summary</th>\n",
              "    </tr>\n",
              "  </thead>\n",
              "  <tbody>\n",
              "    <tr>\n",
              "      <th>0</th>\n",
              "      <td>10 supercars seized in Chennai for illegal racing While 10 super cars were seized from near Akkarai on East Coast Road on Sunday evening for violating traffic, deeper investigations have revealed the story of a traffic policeman who defied norms and stood against the VIP culture. Following the incident, an FIR was filed against 10 persons. The accused were also booked for rash driving, obstructing public servant and hindering him from conducting his duty. \"Apparently, a traffic unit detected the 10 Supercars grouping near VGP, ECR for a rally and informed the control room. Another team detected the speed of the vehicle near Akkarai which exceeded 180km/hr on a stretch that was 60km/hr zone\", explained a police officer. \"What's bad is that they didn't even stop when we intercepted them at Akkarai\", he added. Traffic Inspector Soundarrajan and his team were alerted near the Uthama toll gate as the cars sped away from Akkarai. Soundarrajan, blocked the cars and cordoned them. When he asked for the documentation, the drivers were able to only give them a copy of their driver's license and refused to cooperate.TRAFFIC COP INJUREDThe situation turned ugly when a Lamborghini Aventador tried to break from line and escape. Soundarrajan jumped in front of the car to stop it. But the driver ran over Soundarrajan's foot and escaped. The driver was later identified as Raghav Krishna by the cops and an additional FIR under section 332 IPC was filed against him. Kanathur Police later tracked Raghav's residence in the night and apprehended the vehicle. All 10 drivers were left on station bail. \"We initiated the traffic check after the countless complaints from people. I have done my job and law and order will take it from here,\" said Sounderrajan. But unofficial account stated that there was too much pressure from above who wanted Kanathur Police to release the seized vehicles at once due to their whopping Rs 50 Cr cost. Yet, Soundarrajan, Kanathur police and Neelangarai Assistant Commissioner S Pandian, decided to go ahead with the impounding as for the public safety was more important than costly cars.</td>\n",
              "      <td>A traffic policeman was seized from near Akkarai on East Coast Road on Sunday evening for violating traffic. The accused were also booked for rash driving, obstructing public servant and hindering him from conducting his duty. \"What's bad is that they didn't even stop when we intercepted them,\" said a police officer.</td>\n",
              "    </tr>\n",
              "  </tbody>\n",
              "</table>"
            ],
            "text/plain": [
              "<IPython.core.display.HTML object>"
            ]
          },
          "metadata": {
            "tags": []
          }
        }
      ]
    },
    {
      "cell_type": "markdown",
      "metadata": {
        "id": "wCsA1WPBuNfF"
      },
      "source": [
        "## evaluation"
      ]
    },
    {
      "cell_type": "code",
      "metadata": {
        "colab": {
          "base_uri": "https://localhost:8080/"
        },
        "id": "Ih-81kD0jbng",
        "outputId": "d30c7ab1-7668-469b-9587-a9e53f3128c3"
      },
      "source": [
        "preds = [\"tasty noodles\"]\n",
        "orgs = [\"tasty spicy noodles\"]\n",
        "\n",
        "# can also paas use_stemmer, use_agregator params\n",
        "results = metric.compute(predictions = preds, references = orgs)\n",
        "print(results)\n",
        "\n",
        "for key in [\"rouge1\", \"rouge2\", \"rougeL\", \"rougeLsum\"]:\n",
        "    print(key, results[key].mid.fmeasure)"
      ],
      "execution_count": null,
      "outputs": [
        {
          "output_type": "stream",
          "text": [
            "{'rouge1': AggregateScore(low=Score(precision=1.0, recall=0.6666666666666666, fmeasure=0.8), mid=Score(precision=1.0, recall=0.6666666666666666, fmeasure=0.8), high=Score(precision=1.0, recall=0.6666666666666666, fmeasure=0.8)), 'rouge2': AggregateScore(low=Score(precision=0.0, recall=0.0, fmeasure=0.0), mid=Score(precision=0.0, recall=0.0, fmeasure=0.0), high=Score(precision=0.0, recall=0.0, fmeasure=0.0)), 'rougeL': AggregateScore(low=Score(precision=1.0, recall=0.6666666666666666, fmeasure=0.8), mid=Score(precision=1.0, recall=0.6666666666666666, fmeasure=0.8), high=Score(precision=1.0, recall=0.6666666666666666, fmeasure=0.8)), 'rougeLsum': AggregateScore(low=Score(precision=1.0, recall=0.6666666666666666, fmeasure=0.8), mid=Score(precision=1.0, recall=0.6666666666666666, fmeasure=0.8), high=Score(precision=1.0, recall=0.6666666666666666, fmeasure=0.8))}\n",
            "rouge1 0.8\n",
            "rouge2 0.0\n",
            "rougeL 0.8\n",
            "rougeLsum 0.8\n"
          ],
          "name": "stdout"
        }
      ]
    },
    {
      "cell_type": "code",
      "metadata": {
        "id": "O9v6yYbxrAmd"
      },
      "source": [
        "# in case GPU goes out of memory we can move model to CPU and create summarizer object\n",
        "model_summ_loaded.to(\"cpu\")\n",
        "summarizer_loaded_cpu = pipeline(\"summarization\", model=model_summ_loaded, tokenizer=tokenizer)"
      ],
      "execution_count": null,
      "outputs": []
    },
    {
      "cell_type": "code",
      "metadata": {
        "id": "IdrcSUDUw01d"
      },
      "source": [
        "# get all predictions\n",
        "text_test = df_test.full_text.tolist()\n",
        "summary_test = df_test.summary.tolist()\n",
        "summary_pred = []"
      ],
      "execution_count": null,
      "outputs": []
    },
    {
      "cell_type": "code",
      "metadata": {
        "id": "UMR4hPsduzPn"
      },
      "source": [
        "batch_size = 8\n",
        "start_idx = 0\n",
        "# we are processing data in batches\n",
        "for i in range(0, len(text_test[start_idx:]), batch_size):\n",
        "    batch = int(i/batch_size)\n",
        "    batch_text = text_test[start_idx+i : start_idx+i+batch_size]\n",
        "    summary_pred += [elem['summary_text'] for elem in summarizer_loaded_cpu(batch_text, min_length=10, max_length=100)]\n",
        "    if batch == 2:\n",
        "        break\n"
      ],
      "execution_count": null,
      "outputs": []
    },
    {
      "cell_type": "code",
      "metadata": {
        "colab": {
          "base_uri": "https://localhost:8080/"
        },
        "id": "a6wGF8s2Q4uI",
        "outputId": "e3deb5ab-160d-44e6-e073-fba62a979d16"
      },
      "source": [
        "results = metric.compute(predictions = summary_pred, references = summary_test[:len(summary_pred)])\n",
        "print(results)\n",
        "\n",
        "for key in [\"rouge1\", \"rouge2\", \"rougeL\"]:\n",
        "    print(key, \"low:\", results[key].low.fmeasure)\n",
        "    print(key, \"mid:\", results[key].mid.fmeasure)\n",
        "    print(key, \"high:\", results[key].high.fmeasure, end=\"\\n\\n\")"
      ],
      "execution_count": null,
      "outputs": [
        {
          "output_type": "stream",
          "text": [
            "{'rouge1': AggregateScore(low=Score(precision=0.4547096742994411, recall=0.4120447252848092, fmeasure=0.42662915143742375), mid=Score(precision=0.512031245073737, recall=0.4664377154171, fmeasure=0.4784296030096224), high=Score(precision=0.5871434234995254, recall=0.5286092043812881, fmeasure=0.5409747263984088)), 'rouge2': AggregateScore(low=Score(precision=0.2210263438832953, recall=0.2019231398097171, fmeasure=0.20697763099031308), mid=Score(precision=0.2979755767300426, recall=0.26916110260899584, fmeasure=0.2778767841596865), high=Score(precision=0.38948096278687444, recall=0.3471321565297964, fmeasure=0.3644257439638897)), 'rougeL': AggregateScore(low=Score(precision=0.3556053737003744, recall=0.3200298946080987, fmeasure=0.3336325217604109), mid=Score(precision=0.42663501502251144, recall=0.3849046787230156, fmeasure=0.39829364101007325), high=Score(precision=0.5091902275607982, recall=0.4579274024435982, fmeasure=0.4703069256867676)), 'rougeLsum': AggregateScore(low=Score(precision=0.35680375753372573, recall=0.3220854265163275, fmeasure=0.3357649626045027), mid=Score(precision=0.4254708414492445, recall=0.38148163818046044, fmeasure=0.3946878118320931), high=Score(precision=0.5021262707259221, recall=0.45281594143623505, fmeasure=0.46833748431427674))}\n",
            "rouge1 low: 0.42662915143742375\n",
            "rouge1 mid: 0.4784296030096224\n",
            "rouge1 high: 0.5409747263984088\n",
            "\n",
            "rouge2 low: 0.20697763099031308\n",
            "rouge2 mid: 0.2778767841596865\n",
            "rouge2 high: 0.3644257439638897\n",
            "\n",
            "rougeL low: 0.3336325217604109\n",
            "rougeL mid: 0.39829364101007325\n",
            "rougeL high: 0.4703069256867676\n",
            "\n"
          ],
          "name": "stdout"
        }
      ]
    },
    {
      "cell_type": "code",
      "metadata": {
        "id": "qYlhb2nSn9l7"
      },
      "source": [
        "rouge1 = []\n",
        "rouge2 = []\n",
        "rougeL = []\n",
        "\n",
        "for i in range(len(summary_pred)):\n",
        "    results = metric.compute(predictions = [summary_pred[i]], references = [summary_test[i]])\n",
        "    for key in [\"rouge1\", \"rouge2\", \"rougeL\"]:\n",
        "        if key == \"rouge1\":\n",
        "            rouge1.append(results[key].mid.fmeasure)\n",
        "        elif key == \"rouge2\":\n",
        "            rouge2.append(results[key].mid.fmeasure)\n",
        "        else:\n",
        "            rougeL.append(results[key].mid.fmeasure)\n",
        "    "
      ],
      "execution_count": null,
      "outputs": []
    },
    {
      "cell_type": "code",
      "metadata": {
        "colab": {
          "base_uri": "https://localhost:8080/",
          "height": 279
        },
        "id": "DBaChLY4R6Sr",
        "outputId": "14081bfd-616c-4948-a170-6229e3730768"
      },
      "source": [
        "n = len(summary_pred)\n",
        "df_results_sample = pd.DataFrame({\"text\": text_test[:n], \n",
        "                                 \"summary\": summary_test[:n],\n",
        "                                 \"summary_pred\": summary_pred[:n],\n",
        "                                 \"rouge1\": rouge1,\n",
        "                                 \"rouge2\": rouge2,\n",
        "                                 \"rougeL\": rougeL}\n",
        "                                 )\n",
        "\n",
        "df_results_sample.head()"
      ],
      "execution_count": null,
      "outputs": [
        {
          "output_type": "execute_result",
          "data": {
            "text/html": [
              "<div>\n",
              "<style scoped>\n",
              "    .dataframe tbody tr th:only-of-type {\n",
              "        vertical-align: middle;\n",
              "    }\n",
              "\n",
              "    .dataframe tbody tr th {\n",
              "        vertical-align: top;\n",
              "    }\n",
              "\n",
              "    .dataframe thead th {\n",
              "        text-align: right;\n",
              "    }\n",
              "</style>\n",
              "<table border=\"1\" class=\"dataframe\">\n",
              "  <thead>\n",
              "    <tr style=\"text-align: right;\">\n",
              "      <th></th>\n",
              "      <th>text</th>\n",
              "      <th>summary</th>\n",
              "      <th>summary_pred</th>\n",
              "      <th>rouge1</th>\n",
              "      <th>rouge2</th>\n",
              "      <th>rougeL</th>\n",
              "    </tr>\n",
              "  </thead>\n",
              "  <tbody>\n",
              "    <tr>\n",
              "      <th>0</th>\n",
              "      <td>Woman arrested three times for trying to jump ...</td>\n",
              "      <td>A woman, who was arrested twice last week for ...</td>\n",
              "      <td>Marci Anderson Wahl of Everett, Washington, wa...</td>\n",
              "      <td>0.425926</td>\n",
              "      <td>0.283019</td>\n",
              "      <td>0.388889</td>\n",
              "    </tr>\n",
              "    <tr>\n",
              "      <th>1</th>\n",
              "      <td>Tea stall where PM sold tea to be developed as...</td>\n",
              "      <td>A tea stall in Gujarat's Vadnagar railway stat...</td>\n",
              "      <td>The tea stall in Guajarat's Vadnagar, where Pr...</td>\n",
              "      <td>0.511278</td>\n",
              "      <td>0.290076</td>\n",
              "      <td>0.390977</td>\n",
              "    </tr>\n",
              "    <tr>\n",
              "      <th>2</th>\n",
              "      <td>Obama declares January 16 as Religious Freedom...</td>\n",
              "      <td>US President Barack Obama has declared January...</td>\n",
              "      <td>\"Religious freedom is a principle based not on...</td>\n",
              "      <td>0.490566</td>\n",
              "      <td>0.403846</td>\n",
              "      <td>0.433962</td>\n",
              "    </tr>\n",
              "    <tr>\n",
              "      <th>3</th>\n",
              "      <td>SC rejects plea against release of Bhandarkar'...</td>\n",
              "      <td>The Supreme Court on Thursday rejected a petit...</td>\n",
              "      <td>The Supreme Court on Thursday rejected a petit...</td>\n",
              "      <td>0.582677</td>\n",
              "      <td>0.448000</td>\n",
              "      <td>0.535433</td>\n",
              "    </tr>\n",
              "    <tr>\n",
              "      <th>4</th>\n",
              "      <td>Capt Amarinder Singh to take oath as Punjab CM...</td>\n",
              "      <td>Congress leader Captain Amarinder Singh will t...</td>\n",
              "      <td>Captain Amarinder Singh, the Congress's Chief ...</td>\n",
              "      <td>0.382609</td>\n",
              "      <td>0.141593</td>\n",
              "      <td>0.260870</td>\n",
              "    </tr>\n",
              "  </tbody>\n",
              "</table>\n",
              "</div>"
            ],
            "text/plain": [
              "                                                text  ...    rougeL\n",
              "0  Woman arrested three times for trying to jump ...  ...  0.388889\n",
              "1  Tea stall where PM sold tea to be developed as...  ...  0.390977\n",
              "2  Obama declares January 16 as Religious Freedom...  ...  0.433962\n",
              "3  SC rejects plea against release of Bhandarkar'...  ...  0.535433\n",
              "4  Capt Amarinder Singh to take oath as Punjab CM...  ...  0.260870\n",
              "\n",
              "[5 rows x 6 columns]"
            ]
          },
          "metadata": {
            "tags": []
          },
          "execution_count": 37
        }
      ]
    },
    {
      "cell_type": "code",
      "metadata": {
        "id": "8RsQ4c40SmMw"
      },
      "source": [
        "df_results_sample.to_pickle(\"/content/drive/MyDrive/NLP/summ_models/df_results_sample.pkl\")"
      ],
      "execution_count": null,
      "outputs": []
    },
    {
      "cell_type": "markdown",
      "metadata": {
        "id": "3ZWx6-jkn5xy"
      },
      "source": [
        "## some good and bad samples"
      ]
    },
    {
      "cell_type": "code",
      "metadata": {
        "colab": {
          "base_uri": "https://localhost:8080/",
          "height": 846
        },
        "id": "lnOyTo9NU4Fj",
        "outputId": "7012a581-4a00-437e-87d6-f950abd0e3ba"
      },
      "source": [
        "cols = [\"text\", \"summary\", \"summary_pred\"]\n",
        "df_temp = df_results_sample.sort_values('rouge1')\n",
        "display(HTML(df_temp[cols][:2].to_html()))"
      ],
      "execution_count": null,
      "outputs": [
        {
          "output_type": "display_data",
          "data": {
            "text/html": [
              "<table border=\"1\" class=\"dataframe\">\n",
              "  <thead>\n",
              "    <tr style=\"text-align: right;\">\n",
              "      <th></th>\n",
              "      <th>text</th>\n",
              "      <th>summary</th>\n",
              "      <th>summary_pred</th>\n",
              "    </tr>\n",
              "  </thead>\n",
              "  <tbody>\n",
              "    <tr>\n",
              "      <th>12</th>\n",
              "      <td>Let AAP, Cong explain how they won earlier with EVMs: Shah On a day when the Bharatiya Janata Party swept the municipal elections in the capital, party chief Amit Shah slammed Delhi Chief Minister Arvind Kejriwal over allegations of faulty electronic voting machines (EVMs).\"Let Kejriwal first tell the public how he won in Delhi in 2015 with these same EVMs when the BJP was at the centre in 2015,\" Shah told media persons in Kolkata.\"UPA one and two had also won elections with the same EVMs. If EVM machines are faulty then how did they win earlier? I think they should accept the verdict with the right spirit,\" he added.On his second day of a three day trip to West Bengal, the BJP chief reached Kolkata from north Bengal in a train on Wednesday morning. Later he met booth level party workers at chief minister Mamata Banerjee's Banwanipur constituency and went on a door-to-door campaign as part of BJP's massive outreach programme in Bengal.Attacking the state government over a host of issues, Shah was particularly vocal about Mamata's \"appeasement\" politics. \"The administration in Bengal has been communalised and that's why such (communal) incidents are taking place. If there was no appeasement this would not have be the case,\" Shah said in response to the spike in communal flare-ups in the state.He also added that no one from the TMC were in touch with BJP in response to the Trinamool supremo's allegation that BJP was trying to break her party using central agencies.On the issue of Gau Rakshaks, Shah said his party had given a clear message that no one should take law in their own hands. \"Cases have been registered and people are being arrested,\" Shah claimed.Responding to the  criticism that Sukma attack proved demonetisation has had no impact on the Maoists, as claimed by the Modi government earlier, Shah said, \"One can't judge the impact from just one incident. Naxalism has come down substantially across the country under the BJP rule, their morale has been broken.\"\"Look who are questioning us...those under whose rule they (Naxals) grew strong. Left wing extremism gained prominence under the Congress regime,\" he said slamming the Congress and the Left.Watch Video: MCD election 2017: Amit Shah credits PM Modi's leadership for BJP's victory in civic polls</td>\n",
              "      <td>BJP chief Amit Shah on Wednesday slammed Delhi Chief Minister Arvind Kejriwal after AAP blamed EVMs for their loss in the MCD polls. \"Let Kejriwal first tell the public how he won in Delhi in 2015 with these same EVMs...\" Shah said. \"UPA one and two had also won elections with the same EVMs,\" the BJP leader added.</td>\n",
              "      <td>Amit Shah slammed Delhi Chief Minister Arvind Kejriwal over allegations of faulty electronic voting machines (EVMs). \"If EVM machines are faulty then how did they win earlier? I think they should accept the verdict with the right spirit,\" he added. \"If there was no appeasement this would not have been the case,\" Shah added.</td>\n",
              "    </tr>\n",
              "    <tr>\n",
              "      <th>17</th>\n",
              "      <td>Tendulkar refused to act when first approached for biopic Sachin Tendulkar's bipoic is set to release next week and the Master Blaster has revealed he had denied to \"act\" in the film when he was first approached for 'Sachin: A Billion Dreams'.Tendulkar, who is known for having a protective approach of his privacy, is excited with his biopic which will relive the some of the most crucial moments from his life on and off the field. The making off the film started in 2012 and will hit the theatres on May 26.\"When Ravi (Bhagchandka, producer) met me in 2012, his idea was that the life of other sports personalities have been covered so there should be a film on my life. My first reply was: 'But I am not going to act'. It took me a while to say yes,\" Tendulkar told PTI in an interview.\"I continue to be slightly uncomfortable (to talk about myself). That's why I have got other guys to talk about me. I always wanted to play cricket for India. Rest of the things happened around it. And when I got there, it was about winning the World Cup for India.\"This film is about that. It is about chasing my dreams. My dream was not only my dream, it was a dream shared by a billion plus people.\"The audience will also get to see the romance between him and his wife Anjali.\"The audience will get to see my romance with Anjali (Tendulkar). How I met my wife and how we took it forward is part of film.\"The biopic will show things that no one else had access to before. I had to speak with the whole family before coming out with this film. The most important objective is that the fans should have something to take back,\" Tendulkar had last week told India Today in an exclusive chat.The 44-year-old will dedicate the film to to his father and brother.Tendulkar's father used to tell him in his childhood that no matter if he has chosen cricket in his life, what would matter in the end is how virtuous he was as a person.</td>\n",
              "      <td>Former cricketer Sachin Tendulkar has revealed that he had refused to act when he was first approached for his biopic 'Sachin: A Billion Dreams' in 2012. \"When Ravi (Bhagchandka, producer) met me...my first reply was, 'But I am not going to act'. I continue to be slightly uncomfortable...That's why I have got other guys to talk about me,\" said Sachin.</td>\n",
              "      <td>The Master Blaster has revealed he had denied to \"act\" in the film when first approached for 'Sachin: A Billion Dreams'. Tendulkar is excited with his biopic which will relive the some of the most crucial moments from his life on and off the field. The making off the film started in 2012 and will hit the theatres on May 26.</td>\n",
              "    </tr>\n",
              "  </tbody>\n",
              "</table>"
            ],
            "text/plain": [
              "<IPython.core.display.HTML object>"
            ]
          },
          "metadata": {
            "tags": []
          }
        }
      ]
    },
    {
      "cell_type": "code",
      "metadata": {
        "colab": {
          "base_uri": "https://localhost:8080/",
          "height": 846
        },
        "id": "2yH3E51AV9h1",
        "outputId": "d29bebac-77e0-45ae-9297-a49295cb4cfb"
      },
      "source": [
        "cols = [\"text\", \"summary\", \"summary_pred\"]\n",
        "df_temp = df_results_sample.sort_values('rouge1', ascending=False)\n",
        "display(HTML(df_temp[cols][:2].to_html()))"
      ],
      "execution_count": null,
      "outputs": [
        {
          "output_type": "display_data",
          "data": {
            "text/html": [
              "<table border=\"1\" class=\"dataframe\">\n",
              "  <thead>\n",
              "    <tr style=\"text-align: right;\">\n",
              "      <th></th>\n",
              "      <th>text</th>\n",
              "      <th>summary</th>\n",
              "      <th>summary_pred</th>\n",
              "    </tr>\n",
              "  </thead>\n",
              "  <tbody>\n",
              "    <tr>\n",
              "      <th>18</th>\n",
              "      <td>Player who reported racial abuse banned by Italian Serie A Pescara midfielder Sulley Muntari has been banned for one game after he walked off the pitch at Cagliari on Sunday, having been booked for complaining to the referee about racist abuse in the crowd.Serie A's disciplinary committee also said that no action would be taken against Cagliari because only around 10 supporters were involved in abusing Muntari.Meanwhile, Lazio and Inter Milan were found guilty of racist behaviour by their fans during other games and warned they would face partial stadium closures if there was a repeat.The committee said that Napoli defender Kalidou Koulibaly was the target of racist chanting by Inter fans while Lazio supporters targeted AS Roma defender Antonio Ruediger.Ghanaian midfielder Muntari said he suffered abuse throughout his side's 1-0 defeat at Cagliari but was booked for dissent when he asked the match official to stop the game.The 32-year-old walked off the pitch in protest shortly afterwards and was then given a second yellow card and sent off.The committee confirmed an automatic one-match ban, saying Muntari's second yellow was for \"abandoning the pitch without the referee's permission\".The committee described the chanting as deplorable but said it came from a part of the stadium occupied by 2,000 fans and that only around 10 were involved, not enough to warrant a punishment against the club under Serie A rules.It said that around 80 percent of the 7,000 Inter fans in one of the upper tier sections of the San Siro aimed insults at Senegal defender Koulibaly and a similar number of fans in one section of Lazio's Curva Nord aimed insults at Germany's Ruediger.In both cases, the tribunal ordered the sectors to be closed for one game if there was a repeat incident within the next year.Earlier, the world players' union FIFPro had called on Serie A to rescind Muntari's first yellow card.</td>\n",
              "      <td>Pescara midfielder Sulley Muntari has been banned for one game after he walked off the pitch at Cagliari on Sunday, having been booked for complaining to the referee about racial abuse by the crowd. Serie A's disciplinary committee also said that no action would be taken against Cagliari because only around 10 supporters were involved in abusing Muntari.</td>\n",
              "      <td>Italian Serie A Pescara midfielder Sulley Muntari has been banned for one game after he walked off the pitch at Cagliari on Sunday, having been booked for complaining to the referee about racist abuse in the crowd. The disciplinary committee said that only around 10 supporters were involved in abusing Muntari.</td>\n",
              "    </tr>\n",
              "    <tr>\n",
              "      <th>20</th>\n",
              "      <td>Bombay High Court to appoint committee to review Jolly LLB 2 The Aurangabad bench of the Bombay High Court has ordered a three-member committee to review the Akshay Kumar-starrer Jolly LLB 2 on Wednesday. The court also asked the committee to find out whether the allegations levelled by petitioner Ajaykumar Waghmare are true.Waghmare is a practising lawyer from Nanded, who had said that the film is \"nothing but an attempt to portray the Indian Legal Profession and Judicial System as a laughing stock to the society at large.\" ALSO READ: Katrina Kaif seems to have fractured her hand, but...ALSO READ: 5 best moments from Shah Rukh Khan's hilarious podcast with AIBWaghmare said that the characters in Jolly LLB 2 are playing cards and dancing in the premises of the Court of Law which clearly shows disrespect towards judicial discipline, proceedings and ethics. The characters jumping on the judge's dais and fighting in court shows mockery of the court.Waghmare had formed his opinion after watching the trailers. He also attached a copy of the trailer in his petition as well. However, senior lawyer P M Shah appearing for the filmmaker has quashed the baseless allegations and said that the complete picture of the film cannot be formed on the basis of trailers. The bench, consisting of justices VM Kanade and Sangitrao Patil said, \"We have seen  the photographs; one of which shows a lawyer jumping on the dais and arguing with the judge. The second photograph shows the judge hiding  below the dais and passing some orders by banging the gavel on the table.\" With this, the court felt that \"prima facie, though the above referred photographs do indicate total disrespect or disregard to the high office of this court, we cannot jump to that conclusion unless the contexts in which these scenes are shown, are examined in their proper perspective\".Thus, the court felt that it is necessary to appoint a committee as amicus curiae to watch the film and submit a report.</td>\n",
              "      <td>The Aurangabad bench of the Bombay High Court ordered a three-member committee to review the Akshay Kumar-starrer 'Jolly LLB 2' on Wednesday. The court also asked the committee to find out whether the allegations levelled by petitioner Ajaykumar Waghmare are true. Waghmare had stated that the film is an attempt to malign the reputation of the legal profession.</td>\n",
              "      <td>The Aurangabad bench of the Bombay High Court has ordered a three-member committee to review Jolly LLB 2 on Wednesday. The court also asked the committee to find out whether the allegations levelled by petitioner Ajaykumar Waghmare are true. The film is \"nothing but an attempt to portray the Indian Legal Profession and Judicial System as a laughing stock to the society at large.\"</td>\n",
              "    </tr>\n",
              "  </tbody>\n",
              "</table>"
            ],
            "text/plain": [
              "<IPython.core.display.HTML object>"
            ]
          },
          "metadata": {
            "tags": []
          }
        }
      ]
    },
    {
      "cell_type": "markdown",
      "metadata": {
        "id": "-bcAVwM9d4pa"
      },
      "source": [
        "### testing on new text"
      ]
    },
    {
      "cell_type": "code",
      "metadata": {
        "colab": {
          "base_uri": "https://localhost:8080/",
          "height": 94
        },
        "id": "tQ4B7iSggERv",
        "outputId": "95ac46fa-c7d3-4104-d7c5-396a02dc294a"
      },
      "source": [
        "text = \"Augusta Ada King, Countess of Lovelace was an English mathematician and writer, \\\n",
        "chiefly known for her work on Charles Babbage's proposed mechanical general-purpose computer, the Analytical Engine.\"\n",
        "\n",
        "get_summary(summarizer_before_train, text, min_length=5, max_length=20)"
      ],
      "execution_count": null,
      "outputs": [
        {
          "output_type": "display_data",
          "data": {
            "text/html": [
              "<table border=\"1\" class=\"dataframe\">\n",
              "  <thead>\n",
              "    <tr style=\"text-align: right;\">\n",
              "      <th></th>\n",
              "      <th>text</th>\n",
              "      <th>summary</th>\n",
              "    </tr>\n",
              "  </thead>\n",
              "  <tbody>\n",
              "    <tr>\n",
              "      <th>0</th>\n",
              "      <td>Augusta Ada King, Countess of Lovelace was an English mathematician and writer, chiefly known for her work on Charles Babbage's proposed mechanical general-purpose computer, the Analytical Engine.</td>\n",
              "      <td>Augusta Ada King, Countess of Lovelace, was an English math</td>\n",
              "    </tr>\n",
              "  </tbody>\n",
              "</table>"
            ],
            "text/plain": [
              "<IPython.core.display.HTML object>"
            ]
          },
          "metadata": {
            "tags": []
          }
        }
      ]
    },
    {
      "cell_type": "code",
      "metadata": {
        "colab": {
          "base_uri": "https://localhost:8080/",
          "height": 94
        },
        "id": "7Zll9aQZd7B5",
        "outputId": "ecb26eb0-145f-4aee-e96b-a15a0cd3a6aa"
      },
      "source": [
        "# text which from different domain (not a news) and also has different length\n",
        "text = \"Augusta Ada King, Countess of Lovelace was an English mathematician and writer, \\\n",
        "chiefly known for her work on Charles Babbage's proposed mechanical general-purpose computer, the Analytical Engine.\"\n",
        "\n",
        "get_summary(summarizer_loaded, text, min_length=5, max_length=20)"
      ],
      "execution_count": null,
      "outputs": [
        {
          "output_type": "display_data",
          "data": {
            "text/html": [
              "<table border=\"1\" class=\"dataframe\">\n",
              "  <thead>\n",
              "    <tr style=\"text-align: right;\">\n",
              "      <th></th>\n",
              "      <th>text</th>\n",
              "      <th>summary</th>\n",
              "    </tr>\n",
              "  </thead>\n",
              "  <tbody>\n",
              "    <tr>\n",
              "      <th>0</th>\n",
              "      <td>Augusta Ada King, Countess of Lovelace was an English mathematician and writer, chiefly known for her work on Charles Babbage's proposed mechanical general-purpose computer, the Analytical Engine.</td>\n",
              "      <td>Augusta Ada King, Countess of Lovelace, was an English math</td>\n",
              "    </tr>\n",
              "  </tbody>\n",
              "</table>"
            ],
            "text/plain": [
              "<IPython.core.display.HTML object>"
            ]
          },
          "metadata": {
            "tags": []
          }
        }
      ]
    },
    {
      "cell_type": "code",
      "metadata": {
        "colab": {
          "base_uri": "https://localhost:8080/",
          "height": 161
        },
        "id": "RzUyyQLwgYEo",
        "outputId": "77c6f40f-00b3-467f-c07c-75202b0d60b4"
      },
      "source": [
        "# text from same domain \n",
        "text = \"\"\"The Maldives: turquoise waters, luminous white sands, gorgeous technicolor sunsets and, of course, luxury.\n",
        "But believe it or not there was a time when the Maldives wasn't one of the most glamorous getaways in the world.\n",
        "When Mohamed Umar \"MU\" Maniku and three friends opened Kurumba, the country's first tourist resort, in 1972, there wasn't even a dock. Visitors had to wade in waist-high water to get from the boat to the beach.\n",
        "The first visitors were mostly journalists and photographers from Italy.\n",
        "Even though there weren't glass-bottom overwater villas and seaplanes yet, it was clear that the Maldives was already working its magic. Today, there are more than 100 resorts spread across more than 1,200 islands.\"\"\"\n",
        "\n",
        "get_summary(summarizer_before_train, text, min_length=10, max_length=50)"
      ],
      "execution_count": null,
      "outputs": [
        {
          "output_type": "display_data",
          "data": {
            "text/html": [
              "<table border=\"1\" class=\"dataframe\">\n",
              "  <thead>\n",
              "    <tr style=\"text-align: right;\">\n",
              "      <th></th>\n",
              "      <th>text</th>\n",
              "      <th>summary</th>\n",
              "    </tr>\n",
              "  </thead>\n",
              "  <tbody>\n",
              "    <tr>\n",
              "      <th>0</th>\n",
              "      <td>The Maldives: turquoise waters, luminous white sands, gorgeous technicolor sunsets and, of course, luxury.\\nBut believe it or not there was a time when the Maldives wasn't one of the most glamorous getaways in the world.\\nWhen Mohamed Umar \"MU\" Maniku and three friends opened Kurumba, the country's first tourist resort, in 1972, there wasn't even a dock. Visitors had to wade in waist-high water to get from the boat to the beach.\\nThe first visitors were mostly journalists and photographers from Italy.\\nEven though there weren't glass-bottom overwater villas and seaplanes yet, it was clear that the Maldives was already working its magic. Today, there are more than 100 resorts spread across more than 1,200 islands.</td>\n",
              "      <td>the maldives were one of the most glamorous getaways in the world . the country's first tourist resort, Kurumba, was opened in 1972 . visitors wade in waist-high water to get from the boat to</td>\n",
              "    </tr>\n",
              "  </tbody>\n",
              "</table>"
            ],
            "text/plain": [
              "<IPython.core.display.HTML object>"
            ]
          },
          "metadata": {
            "tags": []
          }
        }
      ]
    },
    {
      "cell_type": "code",
      "metadata": {
        "colab": {
          "base_uri": "https://localhost:8080/",
          "height": 178
        },
        "id": "kPZLcfJ7gtop",
        "outputId": "582dc96b-6ea3-46f8-e732-32802ce415f9"
      },
      "source": [
        "# finetuned model handles captalization well also add extra details like \"Mohamed Umar\"\n",
        "# but this is also not ending the summary well\n",
        "get_summary(summarizer_loaded, text, min_length=10, max_length=50)"
      ],
      "execution_count": null,
      "outputs": [
        {
          "output_type": "display_data",
          "data": {
            "text/html": [
              "<table border=\"1\" class=\"dataframe\">\n",
              "  <thead>\n",
              "    <tr style=\"text-align: right;\">\n",
              "      <th></th>\n",
              "      <th>text</th>\n",
              "      <th>summary</th>\n",
              "    </tr>\n",
              "  </thead>\n",
              "  <tbody>\n",
              "    <tr>\n",
              "      <th>0</th>\n",
              "      <td>The Maldives: turquoise waters, luminous white sands, gorgeous technicolor sunsets and, of course, luxury.\\nBut believe it or not there was a time when the Maldives wasn't one of the most glamorous getaways in the world.\\nWhen Mohamed Umar \"MU\" Maniku and three friends opened Kurumba, the country's first tourist resort, in 1972, there wasn't even a dock. Visitors had to wade in waist-high water to get from the boat to the beach.\\nThe first visitors were mostly journalists and photographers from Italy.\\nEven though there weren't glass-bottom overwater villas and seaplanes yet, it was clear that the Maldives was already working its magic. Today, there are more than 100 resorts spread across more than 1,200 islands.</td>\n",
              "      <td>The Maldives was one of the most glamorous getaways in the world when Mohamed Umar \"MU\" Maniku and three friends opened Kurumba, the country's first tourist resort, in 1972. The first visitors were mostly</td>\n",
              "    </tr>\n",
              "  </tbody>\n",
              "</table>"
            ],
            "text/plain": [
              "<IPython.core.display.HTML object>"
            ]
          },
          "metadata": {
            "tags": []
          }
        }
      ]
    },
    {
      "cell_type": "code",
      "metadata": {
        "colab": {
          "base_uri": "https://localhost:8080/",
          "height": 194
        },
        "id": "SxnPDW0Eg8Py",
        "outputId": "e41abd8c-056b-47fe-c546-c96eef66a0cc"
      },
      "source": [
        "# by increasing the max length we are getting proper ending\n",
        "get_summary(summarizer_loaded, text, min_length=10, max_length=100)"
      ],
      "execution_count": null,
      "outputs": [
        {
          "output_type": "display_data",
          "data": {
            "text/html": [
              "<table border=\"1\" class=\"dataframe\">\n",
              "  <thead>\n",
              "    <tr style=\"text-align: right;\">\n",
              "      <th></th>\n",
              "      <th>text</th>\n",
              "      <th>summary</th>\n",
              "    </tr>\n",
              "  </thead>\n",
              "  <tbody>\n",
              "    <tr>\n",
              "      <th>0</th>\n",
              "      <td>The Maldives: turquoise waters, luminous white sands, gorgeous technicolor sunsets and, of course, luxury.\\nBut believe it or not there was a time when the Maldives wasn't one of the most glamorous getaways in the world.\\nWhen Mohamed Umar \"MU\" Maniku and three friends opened Kurumba, the country's first tourist resort, in 1972, there wasn't even a dock. Visitors had to wade in waist-high water to get from the boat to the beach.\\nThe first visitors were mostly journalists and photographers from Italy.\\nEven though there weren't glass-bottom overwater villas and seaplanes yet, it was clear that the Maldives was already working its magic. Today, there are more than 100 resorts spread across more than 1,200 islands.</td>\n",
              "      <td>The Maldives was one of the most glamorous getaways in the world when Mohamed Umar \"MU\" Maniku and three friends opened Kurumba, the country's first tourist resort, in 1972. The first visitors were mostly journalists and photographers from Italy.</td>\n",
              "    </tr>\n",
              "  </tbody>\n",
              "</table>"
            ],
            "text/plain": [
              "<IPython.core.display.HTML object>"
            ]
          },
          "metadata": {
            "tags": []
          }
        }
      ]
    },
    {
      "cell_type": "markdown",
      "metadata": {
        "id": "hKGQNuADFqgQ"
      },
      "source": [
        "## Amazon Fine Food Reviews"
      ]
    },
    {
      "cell_type": "code",
      "metadata": {
        "colab": {
          "base_uri": "https://localhost:8080/"
        },
        "id": "NDNSboDJqnB1",
        "outputId": "f0d195b4-6798-4263-d090-1440f78a6161"
      },
      "source": [
        "!unzip /content/drive/MyDrive/NLP/Project/Reviews.csv.zip -d /content/drive/MyDrive/NLP/Project/"
      ],
      "execution_count": null,
      "outputs": [
        {
          "output_type": "stream",
          "text": [
            "Archive:  /content/drive/MyDrive/NLP/Project/Reviews.csv.zip\n",
            "  inflating: /content/drive/MyDrive/NLP/Project/Reviews.csv  \n"
          ],
          "name": "stdout"
        }
      ]
    },
    {
      "cell_type": "code",
      "metadata": {
        "colab": {
          "base_uri": "https://localhost:8080/",
          "height": 405
        },
        "id": "vYuQYlMDqjse",
        "outputId": "4c9a3b57-1909-44bb-b013-89835b8e0147"
      },
      "source": [
        "df_food = pd.read_csv('/content/drive/MyDrive/NLP/Project/Reviews.csv', encoding = \"ISO-8859-1\", engine='python')\n",
        "print(df_food.shape)\n",
        "df_food.head()"
      ],
      "execution_count": null,
      "outputs": [
        {
          "output_type": "stream",
          "text": [
            "(568454, 10)\n"
          ],
          "name": "stdout"
        },
        {
          "output_type": "execute_result",
          "data": {
            "text/html": [
              "<div>\n",
              "<style scoped>\n",
              "    .dataframe tbody tr th:only-of-type {\n",
              "        vertical-align: middle;\n",
              "    }\n",
              "\n",
              "    .dataframe tbody tr th {\n",
              "        vertical-align: top;\n",
              "    }\n",
              "\n",
              "    .dataframe thead th {\n",
              "        text-align: right;\n",
              "    }\n",
              "</style>\n",
              "<table border=\"1\" class=\"dataframe\">\n",
              "  <thead>\n",
              "    <tr style=\"text-align: right;\">\n",
              "      <th></th>\n",
              "      <th>Id</th>\n",
              "      <th>ProductId</th>\n",
              "      <th>UserId</th>\n",
              "      <th>ProfileName</th>\n",
              "      <th>HelpfulnessNumerator</th>\n",
              "      <th>HelpfulnessDenominator</th>\n",
              "      <th>Score</th>\n",
              "      <th>Time</th>\n",
              "      <th>Summary</th>\n",
              "      <th>Text</th>\n",
              "    </tr>\n",
              "  </thead>\n",
              "  <tbody>\n",
              "    <tr>\n",
              "      <th>0</th>\n",
              "      <td>1</td>\n",
              "      <td>B001E4KFG0</td>\n",
              "      <td>A3SGXH7AUHU8GW</td>\n",
              "      <td>delmartian</td>\n",
              "      <td>1</td>\n",
              "      <td>1</td>\n",
              "      <td>5</td>\n",
              "      <td>1303862400</td>\n",
              "      <td>Good Quality Dog Food</td>\n",
              "      <td>I have bought several of the Vitality canned d...</td>\n",
              "    </tr>\n",
              "    <tr>\n",
              "      <th>1</th>\n",
              "      <td>2</td>\n",
              "      <td>B00813GRG4</td>\n",
              "      <td>A1D87F6ZCVE5NK</td>\n",
              "      <td>dll pa</td>\n",
              "      <td>0</td>\n",
              "      <td>0</td>\n",
              "      <td>1</td>\n",
              "      <td>1346976000</td>\n",
              "      <td>Not as Advertised</td>\n",
              "      <td>Product arrived labeled as Jumbo Salted Peanut...</td>\n",
              "    </tr>\n",
              "    <tr>\n",
              "      <th>2</th>\n",
              "      <td>3</td>\n",
              "      <td>B000LQOCH0</td>\n",
              "      <td>ABXLMWJIXXAIN</td>\n",
              "      <td>Natalia Corres \"Natalia Corres\"</td>\n",
              "      <td>1</td>\n",
              "      <td>1</td>\n",
              "      <td>4</td>\n",
              "      <td>1219017600</td>\n",
              "      <td>\"Delight\" says it all</td>\n",
              "      <td>This is a confection that has been around a fe...</td>\n",
              "    </tr>\n",
              "    <tr>\n",
              "      <th>3</th>\n",
              "      <td>4</td>\n",
              "      <td>B000UA0QIQ</td>\n",
              "      <td>A395BORC6FGVXV</td>\n",
              "      <td>Karl</td>\n",
              "      <td>3</td>\n",
              "      <td>3</td>\n",
              "      <td>2</td>\n",
              "      <td>1307923200</td>\n",
              "      <td>Cough Medicine</td>\n",
              "      <td>If you are looking for the secret ingredient i...</td>\n",
              "    </tr>\n",
              "    <tr>\n",
              "      <th>4</th>\n",
              "      <td>5</td>\n",
              "      <td>B006K2ZZ7K</td>\n",
              "      <td>A1UQRSCLF8GW1T</td>\n",
              "      <td>Michael D. Bigham \"M. Wassir\"</td>\n",
              "      <td>0</td>\n",
              "      <td>0</td>\n",
              "      <td>5</td>\n",
              "      <td>1350777600</td>\n",
              "      <td>Great taffy</td>\n",
              "      <td>Great taffy at a great price.  There was a wid...</td>\n",
              "    </tr>\n",
              "  </tbody>\n",
              "</table>\n",
              "</div>"
            ],
            "text/plain": [
              "   Id  ...                                               Text\n",
              "0   1  ...  I have bought several of the Vitality canned d...\n",
              "1   2  ...  Product arrived labeled as Jumbo Salted Peanut...\n",
              "2   3  ...  This is a confection that has been around a fe...\n",
              "3   4  ...  If you are looking for the secret ingredient i...\n",
              "4   5  ...  Great taffy at a great price.  There was a wid...\n",
              "\n",
              "[5 rows x 10 columns]"
            ]
          },
          "metadata": {
            "tags": []
          },
          "execution_count": 5
        }
      ]
    },
    {
      "cell_type": "code",
      "metadata": {
        "colab": {
          "base_uri": "https://localhost:8080/",
          "height": 190
        },
        "id": "4yo77hecv2ni",
        "outputId": "cad8c124-001f-4bc7-d318-8c86d9a40bf5"
      },
      "source": [
        "df_food = df_food[[\"Text\", \"Summary\"]]\n",
        "display(HTML(df_food.sample(3).to_html()))"
      ],
      "execution_count": null,
      "outputs": [
        {
          "output_type": "display_data",
          "data": {
            "text/html": [
              "<table border=\"1\" class=\"dataframe\">\n",
              "  <thead>\n",
              "    <tr style=\"text-align: right;\">\n",
              "      <th></th>\n",
              "      <th>Text</th>\n",
              "      <th>Summary</th>\n",
              "    </tr>\n",
              "  </thead>\n",
              "  <tbody>\n",
              "    <tr>\n",
              "      <th>426985</th>\n",
              "      <td>These are good. Old El Paso has always had good sauce and this kit makes life easy when I'm hungry and didn't remember to get all the stuff to make these big soft tacos. They are so easy and if I add a few of my own ingredients, they taste home made.</td>\n",
              "      <td>Gordita Dinner</td>\n",
              "    </tr>\n",
              "    <tr>\n",
              "      <th>230603</th>\n",
              "      <td>Nantucket Blend by Green Mountain is the best coffee I ever tasted.  Some coffee is just too strong and bitter for my sensitive taste buds, this is just perfect!</td>\n",
              "      <td>Good to the last drop!</td>\n",
              "    </tr>\n",
              "    <tr>\n",
              "      <th>38693</th>\n",
              "      <td>We like this product but didn't realize the first time we used it how salty it can make your food. Still adds lots of flavor.We use it sparingly.</td>\n",
              "      <td>Good Seasoning</td>\n",
              "    </tr>\n",
              "  </tbody>\n",
              "</table>"
            ],
            "text/plain": [
              "<IPython.core.display.HTML object>"
            ]
          },
          "metadata": {
            "tags": []
          }
        }
      ]
    },
    {
      "cell_type": "code",
      "metadata": {
        "colab": {
          "base_uri": "https://localhost:8080/"
        },
        "id": "6oKfMA0r09at",
        "outputId": "03401a50-8dcb-4370-fc01-21c5162b7291"
      },
      "source": [
        "df_food.info()"
      ],
      "execution_count": null,
      "outputs": [
        {
          "output_type": "stream",
          "text": [
            "<class 'pandas.core.frame.DataFrame'>\n",
            "Int64Index: 568411 entries, 0 to 568453\n",
            "Data columns (total 2 columns):\n",
            " #   Column   Non-Null Count   Dtype \n",
            "---  ------   --------------   ----- \n",
            " 0   Text     568411 non-null  object\n",
            " 1   Summary  568411 non-null  object\n",
            "dtypes: object(2)\n",
            "memory usage: 13.0+ MB\n"
          ],
          "name": "stdout"
        }
      ]
    },
    {
      "cell_type": "code",
      "metadata": {
        "colab": {
          "base_uri": "https://localhost:8080/"
        },
        "id": "coCBNu0p0-_Q",
        "outputId": "cdbb93d2-2aee-4744-f270-87307beae3f6"
      },
      "source": [
        "df_food.dropna(inplace=True)\n",
        "df_food.info()"
      ],
      "execution_count": null,
      "outputs": [
        {
          "output_type": "stream",
          "text": [
            "<class 'pandas.core.frame.DataFrame'>\n",
            "Int64Index: 568411 entries, 0 to 568453\n",
            "Data columns (total 2 columns):\n",
            " #   Column   Non-Null Count   Dtype \n",
            "---  ------   --------------   ----- \n",
            " 0   Text     568411 non-null  object\n",
            " 1   Summary  568411 non-null  object\n",
            "dtypes: object(2)\n",
            "memory usage: 13.0+ MB\n"
          ],
          "name": "stdout"
        }
      ]
    },
    {
      "cell_type": "code",
      "metadata": {
        "colab": {
          "base_uri": "https://localhost:8080/",
          "height": 198
        },
        "id": "8Bb1Ki-n0nad",
        "outputId": "11aa2602-1dd3-42ed-e0d7-d4b98e376234"
      },
      "source": [
        "# getting length for each column\n",
        "for col in df_food.columns.tolist():\n",
        "    df_food[col+\"_num_words\"] = df_food[col].apply(lambda x: len(x.split()))\n",
        "df_food.head()"
      ],
      "execution_count": null,
      "outputs": [
        {
          "output_type": "execute_result",
          "data": {
            "text/html": [
              "<div>\n",
              "<style scoped>\n",
              "    .dataframe tbody tr th:only-of-type {\n",
              "        vertical-align: middle;\n",
              "    }\n",
              "\n",
              "    .dataframe tbody tr th {\n",
              "        vertical-align: top;\n",
              "    }\n",
              "\n",
              "    .dataframe thead th {\n",
              "        text-align: right;\n",
              "    }\n",
              "</style>\n",
              "<table border=\"1\" class=\"dataframe\">\n",
              "  <thead>\n",
              "    <tr style=\"text-align: right;\">\n",
              "      <th></th>\n",
              "      <th>Text</th>\n",
              "      <th>Summary</th>\n",
              "      <th>Text_num_words</th>\n",
              "      <th>Summary_num_words</th>\n",
              "    </tr>\n",
              "  </thead>\n",
              "  <tbody>\n",
              "    <tr>\n",
              "      <th>0</th>\n",
              "      <td>I have bought several of the Vitality canned d...</td>\n",
              "      <td>Good Quality Dog Food</td>\n",
              "      <td>48</td>\n",
              "      <td>4</td>\n",
              "    </tr>\n",
              "    <tr>\n",
              "      <th>1</th>\n",
              "      <td>Product arrived labeled as Jumbo Salted Peanut...</td>\n",
              "      <td>Not as Advertised</td>\n",
              "      <td>31</td>\n",
              "      <td>3</td>\n",
              "    </tr>\n",
              "    <tr>\n",
              "      <th>2</th>\n",
              "      <td>This is a confection that has been around a fe...</td>\n",
              "      <td>\"Delight\" says it all</td>\n",
              "      <td>94</td>\n",
              "      <td>4</td>\n",
              "    </tr>\n",
              "    <tr>\n",
              "      <th>3</th>\n",
              "      <td>If you are looking for the secret ingredient i...</td>\n",
              "      <td>Cough Medicine</td>\n",
              "      <td>41</td>\n",
              "      <td>2</td>\n",
              "    </tr>\n",
              "    <tr>\n",
              "      <th>4</th>\n",
              "      <td>Great taffy at a great price.  There was a wid...</td>\n",
              "      <td>Great taffy</td>\n",
              "      <td>27</td>\n",
              "      <td>2</td>\n",
              "    </tr>\n",
              "  </tbody>\n",
              "</table>\n",
              "</div>"
            ],
            "text/plain": [
              "                                                Text  ... Summary_num_words\n",
              "0  I have bought several of the Vitality canned d...  ...                 4\n",
              "1  Product arrived labeled as Jumbo Salted Peanut...  ...                 3\n",
              "2  This is a confection that has been around a fe...  ...                 4\n",
              "3  If you are looking for the secret ingredient i...  ...                 2\n",
              "4  Great taffy at a great price.  There was a wid...  ...                 2\n",
              "\n",
              "[5 rows x 4 columns]"
            ]
          },
          "metadata": {
            "tags": []
          },
          "execution_count": 11
        }
      ]
    },
    {
      "cell_type": "code",
      "metadata": {
        "colab": {
          "base_uri": "https://localhost:8080/",
          "height": 288
        },
        "id": "VtS_Uv3W1IS0",
        "outputId": "b43cd1a9-e9c3-4380-fdd8-19d115f644fd"
      },
      "source": [
        "df_food[[\"Text_num_words\",\"Summary_num_words\"]].describe()"
      ],
      "execution_count": null,
      "outputs": [
        {
          "output_type": "execute_result",
          "data": {
            "text/html": [
              "<div>\n",
              "<style scoped>\n",
              "    .dataframe tbody tr th:only-of-type {\n",
              "        vertical-align: middle;\n",
              "    }\n",
              "\n",
              "    .dataframe tbody tr th {\n",
              "        vertical-align: top;\n",
              "    }\n",
              "\n",
              "    .dataframe thead th {\n",
              "        text-align: right;\n",
              "    }\n",
              "</style>\n",
              "<table border=\"1\" class=\"dataframe\">\n",
              "  <thead>\n",
              "    <tr style=\"text-align: right;\">\n",
              "      <th></th>\n",
              "      <th>Text_num_words</th>\n",
              "      <th>Summary_num_words</th>\n",
              "    </tr>\n",
              "  </thead>\n",
              "  <tbody>\n",
              "    <tr>\n",
              "      <th>count</th>\n",
              "      <td>568427.000000</td>\n",
              "      <td>568427.000000</td>\n",
              "    </tr>\n",
              "    <tr>\n",
              "      <th>mean</th>\n",
              "      <td>80.266458</td>\n",
              "      <td>4.113299</td>\n",
              "    </tr>\n",
              "    <tr>\n",
              "      <th>std</th>\n",
              "      <td>79.456485</td>\n",
              "      <td>2.597312</td>\n",
              "    </tr>\n",
              "    <tr>\n",
              "      <th>min</th>\n",
              "      <td>3.000000</td>\n",
              "      <td>1.000000</td>\n",
              "    </tr>\n",
              "    <tr>\n",
              "      <th>25%</th>\n",
              "      <td>33.000000</td>\n",
              "      <td>2.000000</td>\n",
              "    </tr>\n",
              "    <tr>\n",
              "      <th>50%</th>\n",
              "      <td>56.000000</td>\n",
              "      <td>4.000000</td>\n",
              "    </tr>\n",
              "    <tr>\n",
              "      <th>75%</th>\n",
              "      <td>98.000000</td>\n",
              "      <td>5.000000</td>\n",
              "    </tr>\n",
              "    <tr>\n",
              "      <th>max</th>\n",
              "      <td>3432.000000</td>\n",
              "      <td>42.000000</td>\n",
              "    </tr>\n",
              "  </tbody>\n",
              "</table>\n",
              "</div>"
            ],
            "text/plain": [
              "       Text_num_words  Summary_num_words\n",
              "count   568427.000000      568427.000000\n",
              "mean        80.266458           4.113299\n",
              "std         79.456485           2.597312\n",
              "min          3.000000           1.000000\n",
              "25%         33.000000           2.000000\n",
              "50%         56.000000           4.000000\n",
              "75%         98.000000           5.000000\n",
              "max       3432.000000          42.000000"
            ]
          },
          "metadata": {
            "tags": []
          },
          "execution_count": 75
        }
      ]
    },
    {
      "cell_type": "markdown",
      "metadata": {
        "id": "uRoxpBz8vg9u"
      },
      "source": [
        "### 5 fold validation"
      ]
    },
    {
      "cell_type": "code",
      "metadata": {
        "colab": {
          "base_uri": "https://localhost:8080/"
        },
        "id": "_7sEEqrCvgYI",
        "outputId": "20f0e5c4-ad59-42c1-dbce-9420beebe2ea"
      },
      "source": [
        "# make 5 folds of 20 samples from data\n",
        "df_folds = []\n",
        "for i in range(5):\n",
        "    temp_df = df_food.sample(20)\n",
        "    df_folds.append(temp_df)\n",
        "\n",
        "len(df_folds)"
      ],
      "execution_count": null,
      "outputs": [
        {
          "output_type": "execute_result",
          "data": {
            "text/plain": [
              "5"
            ]
          },
          "metadata": {
            "tags": []
          },
          "execution_count": 13
        }
      ]
    },
    {
      "cell_type": "code",
      "metadata": {
        "colab": {
          "base_uri": "https://localhost:8080/"
        },
        "id": "Ajr6H10QJykT",
        "outputId": "94e5f260-3b74-4366-9c36-e35719a2bc20"
      },
      "source": [
        "df_folds"
      ],
      "execution_count": null,
      "outputs": [
        {
          "output_type": "execute_result",
          "data": {
            "text/plain": [
              "[                                                     Text  ... Summary_num_words\n",
              " 459781  I bought this after coming to my wit's end try...  ...                 3\n",
              " 55259   Due to weather conditions in Hawaii, it has be...  ...                 4\n",
              " 36466   Miracle Noodles are calorie free noodles that ...  ...                 4\n",
              " 383402  Some of the flavors we have tried:<br />Diet C...  ...                 8\n",
              " 53731   <a href=\"http://www.amazon.com/gp/product/B002...  ...                 5\n",
              " 482304  Great GF/soy free snack and cheaper at Whole F...  ...                 6\n",
              " 139469  I have to admit, I haven't noticed an increase...  ...                 4\n",
              " 212703  What can I say?  It's herbal tea, it tastes a ...  ...                 2\n",
              " 47479   Less expensive than the Girl Scout's version. ...  ...                 1\n",
              " 257856  My Dad introduced me to this product. I was ha...  ...                 4\n",
              " 173869  This is not the same as the 'Donut Shop' coffe...  ...                 4\n",
              " 478940  This soup used to be really good but it's gott...  ...                 5\n",
              " 222401  Is it bad that I kind of like this only becaus...  ...                 8\n",
              " 380898  I have been trying to eat better. And I have b...  ...                 4\n",
              " 522575  I thought I would love this coffee, but the bu...  ...                 1\n",
              " 143630  I bought these as a gold box lightning deal an...  ...                 1\n",
              " 360229  Read the product claims.  Everything that is w...  ...                 6\n",
              " 278136  This is a good product, perfect for making blu...  ...                 2\n",
              " 38796   Great tasting healthy rice that cooks well in ...  ...                 2\n",
              " 79526   I love Kind bars - gluten free, filling, and i...  ...                 2\n",
              " \n",
              " [20 rows x 4 columns],\n",
              "                                                      Text  ... Summary_num_words\n",
              " 381281  Arrived on time.  What a deal !!! So glad I co...  ...                 4\n",
              " 394934  I love these pasta sauces - just about every f...  ...                 5\n",
              " 95783   I love this cereal because I usually have it w...  ...                 3\n",
              " 412981  The marzipan was inedible,,,hard and tasteless...  ...                 4\n",
              " 151559  I really love this k-cup.  It is my second fav...  ...                 5\n",
              " 38838   Purchased this because it is was less than 1/2...  ...                 9\n",
              " 345798  My husband & I first tried orange blossom hone...  ...                 2\n",
              " 486833  I like that these packages are just the right ...  ...                 3\n",
              " 73803   This wafer has the best tart and freshest  lem...  ...                 5\n",
              " 514047  I can't believe there aren't any other reviews...  ...                 5\n",
              " 303280  My dog LOVES these treats.  Great quality, and...  ...                 3\n",
              " 271110  These are by far the best, most delicious crac...  ...                 3\n",
              " 154913  I discovered these at Trader Joe's years ago. ...  ...                 6\n",
              " 189628  I originally purchased this product for my hai...  ...                 3\n",
              " 460714  I've been using this formula from day one with...  ...                 8\n",
              " 103244  This syrup has an excellent vanilla flavor, th...  ...                 6\n",
              " 49610   I have lived in many parts of the Untied State...  ...                 5\n",
              " 309504  French roast espresso is a full bodied coffee....  ...                 2\n",
              " 360917  I was looking for a small treat that was soft,...  ...                 5\n",
              " 172621  We typically steer clear of sweetened cereal. ...  ...                 8\n",
              " \n",
              " [20 rows x 4 columns],\n",
              "                                                      Text  ... Summary_num_words\n",
              " 446733  I first found this YOGI tea at Big Lots for $2...  ...                 1\n",
              " 564827  I can't say enough good things about these che...  ...                 4\n",
              " 421611  <a href=\"http://www.amazon.com/gp/product/B002...  ...                 3\n",
              " 263274  While as you can see from the mixed reviews, t...  ...                 3\n",
              " 21746   <span class=\"tiny\"> Length:: 0:19 Mins<br /><b...  ...                 7\n",
              " 213636  Sure, puppies love these little treats, but I ...  ...                 5\n",
              " 566871  I've tried every kind of canned tuna, and this...  ...                 5\n",
              " 250064  Midnight loves gravy and this is about the onl...  ...                 1\n",
              " 205268  We adopted a mix breed that was approx 1 year ...  ...                 3\n",
              " 544450  Be sure to read the ingredients...I like to re...  ...                 5\n",
              " 148963  The two problems other users have complained a...  ...                 6\n",
              " 478213  I have 4 cats and finding a treat that all of ...  ...                 3\n",
              " 54262   This product is terrific. The coffee used is s...  ...                 1\n",
              " 7192    Well, at least they live up to their name. The...  ...                 1\n",
              " 133111  I did not like this coffee at first, because I...  ...                 4\n",
              " 154914  For some reason this jerky from amazon is alit...  ...                 2\n",
              " 488793  The box had been opened before and was taped w...  ...                10\n",
              " 365054  My hubby is from Cananda and told me that his ...  ...                 1\n",
              " 82344   There must be hundreds of different Olive Oil ...  ...                 4\n",
              " 566544  I purchased these nuts based on prior reviews ...  ...                 3\n",
              " \n",
              " [20 rows x 4 columns],\n",
              "                                                      Text  ... Summary_num_words\n",
              " 79652   Of all the Amazing Grass Green Superfood drink...  ...                 4\n",
              " 246183  I'm very pleased with my Yogi Tea order - it a...  ...                 4\n",
              " 6970    Much better than having to fight removing coff...  ...                 1\n",
              " 539146  Nice gift. They were as advertised and I would...  ...                 1\n",
              " 517355  Delicious, especially the chocolate. The vanil...  ...                 2\n",
              " 32462   These treats literally made my dog sick, throw...  ...                10\n",
              " 29876   Some have already speculated on flavor, so I w...  ...                 4\n",
              " 492019  I refuse to compare this product to something ...  ...                 6\n",
              " 425377  Really Bitter Bad Coffee.. I Was Shocked after...  ...                13\n",
              " 281867  When I attempted to return this item upon find...  ...                12\n",
              " 379046  Everyone in my house is addicted to this tea. ...  ...                10\n",
              " 220725  This oil is great for creating your own eliqui...  ...                 1\n",
              " 50126   The taste and texture of this bread is really ...  ...                 8\n",
              " 235923  This is some of the best horseradish i have ev...  ...                 2\n",
              " 423701  I had been having terrible problems with gastr...  ...                 2\n",
              " 408313  The product was exactly what I ordered and it ...  ...                 2\n",
              " 432197  I had recently started trying the five hour en...  ...                 3\n",
              " 187362  This tea is wonderful! It is authentic, balanc...  ...                 3\n",
              " 278407  these candies are great not to sweat. I purcha...  ...                 3\n",
              " 418380  I bought this for my mom, a coffee addict, and...  ...                 2\n",
              " \n",
              " [20 rows x 4 columns],\n",
              "                                                      Text  ... Summary_num_words\n",
              " 360348  I ordered the Original flavor.  It tastes a lo...  ...                 2\n",
              " 345279  I ordered these cookie tins as gifts. The art ...  ...                 7\n",
              " 93694   Our dog kept shedding really bad so we switche...  ...                 6\n",
              " 60194   I was really excited for Tassimo to get a moch...  ...                 3\n",
              " 325710  These are the most amazingly delicious pistach...  ...                 1\n",
              " 366708  Nutiva Organic Hempseed is a high quality prod...  ...                 3\n",
              " 186896  This is by far the best flavor on the market. ...  ...                 6\n",
              " 192363  Expecting just a quick cup of coffee with limi...  ...                 2\n",
              " 12463   I can't say enough about these nuts, they are ...  ...                 4\n",
              " 109443  Very sweet, very refreshing. This tastes very ...  ...                 4\n",
              " 69415   These were the most moist, delicious and flavo...  ...                 2\n",
              " 352555  Searched k cups and didn't know these were not...  ...                 3\n",
              " 164616  My hair is long and thick, and it's dry.  This...  ...                 2\n",
              " 498958  I love these bars.  Natural honey.  Dark almon...  ...                12\n",
              " 200294  I had ordered 3 packages of these back in June...  ...                 3\n",
              " 183362  These Chocolate Chip cookies are so good. Chip...  ...                 2\n",
              " 138814  I love the City Ham! Burger's Smokehouse has a...  ...                 5\n",
              " 121461  This review is late in getting here, but not d...  ...                 1\n",
              " 280300  I was really looking forward to tasting this c...  ...                 2\n",
              " 283778  When I took the jar out of the box and opened ...  ...                 5\n",
              " \n",
              " [20 rows x 4 columns]]"
            ]
          },
          "metadata": {
            "tags": []
          },
          "execution_count": 14
        }
      ]
    },
    {
      "cell_type": "code",
      "metadata": {
        "colab": {
          "base_uri": "https://localhost:8080/",
          "height": 198
        },
        "id": "rbZjo6pKzs72",
        "outputId": "bf4035b3-e148-4e8e-e885-db2ec36b23e8"
      },
      "source": [
        "df_folds[0].head()"
      ],
      "execution_count": null,
      "outputs": [
        {
          "output_type": "execute_result",
          "data": {
            "text/html": [
              "<div>\n",
              "<style scoped>\n",
              "    .dataframe tbody tr th:only-of-type {\n",
              "        vertical-align: middle;\n",
              "    }\n",
              "\n",
              "    .dataframe tbody tr th {\n",
              "        vertical-align: top;\n",
              "    }\n",
              "\n",
              "    .dataframe thead th {\n",
              "        text-align: right;\n",
              "    }\n",
              "</style>\n",
              "<table border=\"1\" class=\"dataframe\">\n",
              "  <thead>\n",
              "    <tr style=\"text-align: right;\">\n",
              "      <th></th>\n",
              "      <th>Text</th>\n",
              "      <th>Summary</th>\n",
              "      <th>Text_num_words</th>\n",
              "      <th>Summary_num_words</th>\n",
              "    </tr>\n",
              "  </thead>\n",
              "  <tbody>\n",
              "    <tr>\n",
              "      <th>459781</th>\n",
              "      <td>I bought this after coming to my wit's end try...</td>\n",
              "      <td>Great for eczema!</td>\n",
              "      <td>160</td>\n",
              "      <td>3</td>\n",
              "    </tr>\n",
              "    <tr>\n",
              "      <th>55259</th>\n",
              "      <td>Due to weather conditions in Hawaii, it has be...</td>\n",
              "      <td>Tully's Kona  Blend Coffee</td>\n",
              "      <td>42</td>\n",
              "      <td>4</td>\n",
              "    </tr>\n",
              "    <tr>\n",
              "      <th>36466</th>\n",
              "      <td>Miracle Noodles are calorie free noodles that ...</td>\n",
              "      <td>Calorie Free Noodles!!!! Amazing</td>\n",
              "      <td>220</td>\n",
              "      <td>4</td>\n",
              "    </tr>\n",
              "    <tr>\n",
              "      <th>383402</th>\n",
              "      <td>Some of the flavors we have tried:&lt;br /&gt;Diet C...</td>\n",
              "      <td>Some are good, some are not so much.</td>\n",
              "      <td>158</td>\n",
              "      <td>8</td>\n",
              "    </tr>\n",
              "    <tr>\n",
              "      <th>53731</th>\n",
              "      <td>&lt;a href=\"http://www.amazon.com/gp/product/B002...</td>\n",
              "      <td>As Good As It Gets!</td>\n",
              "      <td>188</td>\n",
              "      <td>5</td>\n",
              "    </tr>\n",
              "  </tbody>\n",
              "</table>\n",
              "</div>"
            ],
            "text/plain": [
              "                                                     Text  ... Summary_num_words\n",
              "459781  I bought this after coming to my wit's end try...  ...                 3\n",
              "55259   Due to weather conditions in Hawaii, it has be...  ...                 4\n",
              "36466   Miracle Noodles are calorie free noodles that ...  ...                 4\n",
              "383402  Some of the flavors we have tried:<br />Diet C...  ...                 8\n",
              "53731   <a href=\"http://www.amazon.com/gp/product/B002...  ...                 5\n",
              "\n",
              "[5 rows x 4 columns]"
            ]
          },
          "metadata": {
            "tags": []
          },
          "execution_count": 15
        }
      ]
    },
    {
      "cell_type": "code",
      "metadata": {
        "colab": {
          "base_uri": "https://localhost:8080/"
        },
        "id": "9CogKcu6wKDq",
        "outputId": "0a48827d-889c-42f8-fc4b-d03bb2943d8a"
      },
      "source": [
        "# get summary for each fold\n",
        "fold_data = []\n",
        "batch_size = 8\n",
        "\n",
        "for i,df in enumerate(df_folds):\n",
        "    print(f\"fold: {i}\")\n",
        "\n",
        "    full_text = df.Text.tolist()\n",
        "    summary = df.Summary.tolist()\n",
        "    summary_pred = []\n",
        "    \n",
        "    # we are processing each fold in batch of 8 samples\n",
        "    for i in range(0, len(full_text), batch_size):\n",
        "        batch = int(i/8)\n",
        "        print(f\"\\tbatch: {batch}\")\n",
        "        batch_text = full_text[i:i+batch_size]\n",
        "        summary_pred += [summary['summary_text'] for summary in summarizer_loaded_cpu(batch_text, min_length=4, max_length=10)]\n",
        "    \n",
        "    fold_data.append((full_text, summary, summary_pred))"
      ],
      "execution_count": null,
      "outputs": [
        {
          "output_type": "stream",
          "text": [
            "fold: 0\n",
            "\tbatch: 0\n",
            "\tbatch: 1\n",
            "\tbatch: 2\n",
            "fold: 1\n",
            "\tbatch: 0\n",
            "\tbatch: 1\n",
            "\tbatch: 2\n",
            "fold: 2\n",
            "\tbatch: 0\n",
            "\tbatch: 1\n",
            "\tbatch: 2\n",
            "fold: 3\n",
            "\tbatch: 0\n",
            "\tbatch: 1\n",
            "\tbatch: 2\n",
            "fold: 4\n",
            "\tbatch: 0\n",
            "\tbatch: 1\n",
            "\tbatch: 2\n"
          ],
          "name": "stdout"
        }
      ]
    },
    {
      "cell_type": "code",
      "metadata": {
        "colab": {
          "base_uri": "https://localhost:8080/"
        },
        "id": "iiCSf0751YaO",
        "outputId": "e2ff10b3-7734-4e70-a12a-de42ffbd5274"
      },
      "source": [
        "for i in range(5):\n",
        "    print(f\"\\nfold: {i}\")\n",
        "    summary = fold_data[i][1]\n",
        "    summary_pred = fold_data[i][2]\n",
        "\n",
        "    results = metric.compute(predictions=summary_pred, references=summary)\n",
        "\n",
        "    for key in [\"rouge1\", \"rouge2\", \"rougeL\", \"rougeLsum\"]:\n",
        "        print(\"\\t\", key, results[key].mid.fmeasure)"
      ],
      "execution_count": null,
      "outputs": [
        {
          "output_type": "stream",
          "text": [
            "\n",
            "fold: 0\n",
            "\t rouge1 0.09307692307692308\n",
            "\t rouge2 0.055704099821746886\n",
            "\t rougeL 0.09077935222672065\n",
            "\t rougeLsum 0.0915587044534413\n",
            "\n",
            "fold: 1\n",
            "\t rouge1 0.061743742368742374\n",
            "\t rouge2 0.0\n",
            "\t rougeL 0.05410846098346098\n",
            "\t rougeLsum 0.054542957042957044\n",
            "\n",
            "fold: 2\n",
            "\t rouge1 0.11257066462948816\n",
            "\t rouge2 0.05\n",
            "\t rougeL 0.11210349291231644\n",
            "\t rougeLsum 0.11265682030387912\n",
            "\n",
            "fold: 3\n",
            "\t rouge1 0.05193910256410257\n",
            "\t rouge2 0.0\n",
            "\t rougeL 0.045576923076923084\n",
            "\t rougeLsum 0.04536858974358974\n",
            "\n",
            "fold: 4\n",
            "\t rouge1 0.10483544233544234\n",
            "\t rouge2 0.01818181818181818\n",
            "\t rougeL 0.10218253968253968\n",
            "\t rougeLsum 0.10328074703074705\n"
          ],
          "name": "stdout"
        }
      ]
    },
    {
      "cell_type": "code",
      "metadata": {
        "colab": {
          "base_uri": "https://localhost:8080/",
          "height": 440
        },
        "id": "mcbpcpOn2P3U",
        "outputId": "5a407489-37ba-402b-ac53-87e0e99758c6"
      },
      "source": [
        "fold_id = random.randint(0, 4)\n",
        "random_idx = random.sample(range(20), 5)\n",
        "text, summary, summary_pred = [], [], []\n",
        "\n",
        "print(f\"showing 5 random samples from fold: {fold_id}\")\n",
        "\n",
        "for idx in random_idx:\n",
        "    text.append(fold_data[fold_id][0][idx])\n",
        "    summary.append(fold_data[fold_id][1][idx])\n",
        "    summary_pred.append(fold_data[fold_id][2][idx])\n",
        "\n",
        "display(HTML(pd.DataFrame({\"text\":text, \"summary\":summary, \"summary_pred\":summary_pred}).to_html()))"
      ],
      "execution_count": null,
      "outputs": [
        {
          "output_type": "stream",
          "text": [
            "showing 5 random samples from fold: 0\n"
          ],
          "name": "stdout"
        },
        {
          "output_type": "display_data",
          "data": {
            "text/html": [
              "<table border=\"1\" class=\"dataframe\">\n",
              "  <thead>\n",
              "    <tr style=\"text-align: right;\">\n",
              "      <th></th>\n",
              "      <th>text</th>\n",
              "      <th>summary</th>\n",
              "      <th>summary_pred</th>\n",
              "    </tr>\n",
              "  </thead>\n",
              "  <tbody>\n",
              "    <tr>\n",
              "      <th>0</th>\n",
              "      <td>They're a bit like animal crackers, but a little sweeter.  A great alternative to other sugary snacks.  Perfect with a small glass of milk.</td>\n",
              "      <td>Great snack</td>\n",
              "      <td>They're a bit like animal crack</td>\n",
              "    </tr>\n",
              "    <tr>\n",
              "      <th>1</th>\n",
              "      <td>I do enjoy Hazelnut flavored creamers as well as french vanilla creamers in my coffee, I know the flavors aren't exact but  since I enjoyed them in coffee I might like them in cappuccino as well.  I love the french vanilla flavored variety they sell, so much so I've had to purchase additional (early) shipments from subscribe-n-save.  Unfortunately the hazelnut isn't so great, and not b/c it's 'convenient store' cappuccino either.  I prefer that over 'real' stuff.  It smells wonderful, but just something in the flavor that's lacking and it leaves a weird after taste.  Just wish I didn't buy the 36 count.  Definately buy the French Vanilla variety if you are trying to choose between the two.</td>\n",
              "      <td>Disappointed. . .</td>\n",
              "      <td>I enjoy Hazelnut flavored creamers</td>\n",
              "    </tr>\n",
              "    <tr>\n",
              "      <th>2</th>\n",
              "      <td>This product is a great mixer. First tried this product in Europe as an alternative to tonic mixer with gin. This product uses cane sugar in contrast to the best known American bitter lemon product which uses corn syrup. I think the product just needs marketing over here in the U.S. because my U.S. friends who have tried it all find itn refreshing as a mixer.</td>\n",
              "      <td>Great Mixer!</td>\n",
              "      <td>First tried this product in Europe as an alternative</td>\n",
              "    </tr>\n",
              "    <tr>\n",
              "      <th>3</th>\n",
              "      <td>I gave half of the 6 pack to my friend visiting from Tokyo. We both love them. Although, it would be nice if they came in bigger cans.</td>\n",
              "      <td>Great taste</td>\n",
              "      <td>I gave half of the pack to my friend</td>\n",
              "    </tr>\n",
              "    <tr>\n",
              "      <th>4</th>\n",
              "      <td>Very nice blend, mild flavor of wild currant, pleasant natural sweetness to it, not tart at all. Recommended.</td>\n",
              "      <td>Excelent tea</td>\n",
              "      <td>Very nice blend, mild flavor of wild cur</td>\n",
              "    </tr>\n",
              "  </tbody>\n",
              "</table>"
            ],
            "text/plain": [
              "<IPython.core.display.HTML object>"
            ]
          },
          "metadata": {
            "tags": []
          }
        }
      ]
    },
    {
      "cell_type": "markdown",
      "metadata": {
        "id": "e4qXtlbq6_9b"
      },
      "source": [
        "**Above scores are not as good as scores we got on news dataset. There are multiple reasons for this.**\n",
        "\n",
        "- Even though both are summarization tasks, there is an important difference - news data is generation summary from full text while food data is more like generating headline from given reviews. This causes a big change in how the model was trained. \n",
        "    - We can avoid this length issue by training the original model of news summary to headline generation as news summary are of similar length to reviews.\n",
        "    \n",
        "*   Other reason is the domain of the data itself, original data is generic in nature while food data is quite specific.\n",
        "\n",
        "* For all folds, Rouge2 score is very low - this makes sense as Rouge2 measures bigram overlap and since output headlines are of few words (4 on average) only - there isn't many bigrams to match.\n",
        "\n",
        "\n",
        "\n",
        "\n",
        "\n",
        "\n"
      ]
    },
    {
      "cell_type": "code",
      "metadata": {
        "id": "bxJZWWuj7etf"
      },
      "source": [
        ""
      ],
      "execution_count": null,
      "outputs": []
    }
  ]
}